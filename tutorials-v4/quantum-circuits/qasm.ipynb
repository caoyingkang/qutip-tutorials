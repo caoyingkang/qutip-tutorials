{
 "cells": [
  {
   "cell_type": "markdown",
   "id": "d9d602b5",
   "metadata": {},
   "source": [
    "# Imports and Exports QASM circuit\n",
    "\n",
    "Notebook Author: Sidhant Saraogi(sid1397@gmail.com)"
   ]
  },
  {
   "cell_type": "markdown",
   "id": "ef096880",
   "metadata": {},
   "source": [
    "This notebook introduces the [OpenQASM](https://github.com/Qiskit/openqasm) import and export functions. It can also serve as a short introduction to the QASM format. The Quantum Assembly Language(QASM) acts as an intermediate representation for Quantum Circuits. This is one way to export/import from/to with QuTiP. In this way, we can make the QIP module of QuTiP compatible with Qiskit and Cirq."
   ]
  },
  {
   "cell_type": "code",
   "execution_count": 1,
   "id": "b6ea803d",
   "metadata": {
    "execution": {
     "iopub.execute_input": "2023-03-15T08:50:42.833560Z",
     "iopub.status.busy": "2023-03-15T08:50:42.833179Z",
     "iopub.status.idle": "2023-03-15T08:50:43.685699Z",
     "shell.execute_reply": "2023-03-15T08:50:43.684511Z"
    }
   },
   "outputs": [],
   "source": [
    "import numpy as np\n",
    "from qutip import about, basis, rand_ket, tensor\n",
    "from qutip_qip.operations import Measurement\n",
    "from qutip_qip.operations.gates import gate_sequence_product\n",
    "from qutip_qip.qasm import read_qasm, print_qasm"
   ]
  },
  {
   "cell_type": "markdown",
   "id": "c64964aa",
   "metadata": {},
   "source": [
    "The process is quite simple and only requires the user to store the `.qasm` file in an appropriate location and maintain the absolute path of the file. This will reading the file simpler. For this demonstration, we already saved a few qasm circuit examples in the directory qasm_files. You can find more examples at [OpenQASM repository](https://github.com/Qiskit/openqasm) Let's start off by reading one of the examples:"
   ]
  },
  {
   "cell_type": "code",
   "execution_count": 2,
   "id": "767dc745",
   "metadata": {
    "execution": {
     "iopub.execute_input": "2023-03-15T08:50:43.693705Z",
     "iopub.status.busy": "2023-03-15T08:50:43.693053Z",
     "iopub.status.idle": "2023-03-15T08:50:43.697798Z",
     "shell.execute_reply": "2023-03-15T08:50:43.697097Z"
    }
   },
   "outputs": [
    {
     "name": "stdout",
     "output_type": "stream",
     "text": [
      "// SWAP gate impemented in terms of cx's\n",
      "\n",
      "OPENQASM 2.0;\n",
      "include \"qelib1.inc\";\n",
      "\n",
      "qreg q[2];\n",
      "\n",
      "cx q[1], q[0];\n",
      "cx q[0], q[1];\n",
      "cx q[1], q[0];\n",
      "\n"
     ]
    }
   ],
   "source": [
    "path = \"qasm_files/swap.qasm\"\n",
    "qasm_file = open(path, \"r\")\n",
    "print(qasm_file.read())"
   ]
  },
  {
   "cell_type": "markdown",
   "id": "edaa7551",
   "metadata": {},
   "source": [
    "## Qasm Import"
   ]
  },
  {
   "cell_type": "markdown",
   "id": "f4e56957",
   "metadata": {},
   "source": [
    "This QASM file imitates the SWAP gate native to QuTiP in the QASM format. To import it, we use the `read_qasm` function with the arguments being the file path, the `mode` which defaults to \"qiskit\" and the `version` which defaults to \"2.0\".  \n",
    "\n",
    "We can check that the circuit indeed implements the swap gate by checking the unitary matrix corresponding\n",
    "to the circuit. This can be done by using the `gate_sequence_product` function and the `propagators` function of the \n",
    "`QubitCircuit` class. "
   ]
  },
  {
   "cell_type": "code",
   "execution_count": 3,
   "id": "acaf8103",
   "metadata": {
    "execution": {
     "iopub.execute_input": "2023-03-15T08:50:43.701132Z",
     "iopub.status.busy": "2023-03-15T08:50:43.700901Z",
     "iopub.status.idle": "2023-03-15T08:50:43.712481Z",
     "shell.execute_reply": "2023-03-15T08:50:43.711780Z"
    }
   },
   "outputs": [
    {
     "data": {
      "text/latex": [
       "Quantum object: dims = [[2, 2], [2, 2]], shape = (4, 4), type = oper, isherm = True $ \\\\ \\left(\\begin{matrix}1.0 & 0.0 & 0.0 & 0.0\\\\0.0 & 0.0 & 1.0 & 0.0\\\\0.0 & 1.0 & 0.0 & 0.0\\\\0.0 & 0.0 & 0.0 & 1.0\\\\\\end{matrix}\\right)$"
      ],
      "text/plain": [
       "Quantum object: dims = [[2, 2], [2, 2]], shape = (4, 4), type = oper, isherm = True\n",
       "Qobj data =\n",
       "[[1. 0. 0. 0.]\n",
       " [0. 0. 1. 0.]\n",
       " [0. 1. 0. 0.]\n",
       " [0. 0. 0. 1.]]"
      ]
     },
     "execution_count": 3,
     "metadata": {},
     "output_type": "execute_result"
    }
   ],
   "source": [
    "qc = read_qasm(path, mode=\"qiskit\", version=\"2.0\")\n",
    "gate_sequence_product(qc.propagators())"
   ]
  },
  {
   "cell_type": "markdown",
   "id": "e8a648c8",
   "metadata": {},
   "source": [
    "The `mode` refers to the internal way in which QuTiP processes the QASM files. \n",
    "With \"qiskit\" mode, QASM skips the include command for the file qelib1.inc and maps all custom gates defined in it to QuTiP gates without parsing the gate definitions. \n",
    "\n",
    "**Note**: \"qelib1.inc\" is a \"header\" file that contains some QASM gate definitions. It is available in the OpenQASM repository (as a standard file) and is included with QASM exports by QuTiP (and also by Qiskit/Cirq).\n",
    "\n",
    "The `version` refers to the version of the OpenQASM standard being processed. The documentation for the same can be found in the [OpenQASM](https://github.com/Qiskit/openqasm) repository. Currently, only OpenQASM 2.0 is supported which is the most popular QASM standard. "
   ]
  },
  {
   "cell_type": "markdown",
   "id": "89bd660e",
   "metadata": {},
   "source": [
    "### QASM Export\n",
    "\n",
    "We can also convert a `QubitCircuit` to the QASM format. This can be particularly useful when we are trying to export quantum circuits to other quantum packages such as Qiskit and Cirq. There are three different ways to output QASM files, `print_qasm`, `str_qasm` and `write_qasm`.  "
   ]
  },
  {
   "cell_type": "code",
   "execution_count": 4,
   "id": "5e9ca40d",
   "metadata": {
    "execution": {
     "iopub.execute_input": "2023-03-15T08:50:43.715327Z",
     "iopub.status.busy": "2023-03-15T08:50:43.714823Z",
     "iopub.status.idle": "2023-03-15T08:50:43.718615Z",
     "shell.execute_reply": "2023-03-15T08:50:43.718015Z"
    }
   },
   "outputs": [
    {
     "name": "stdout",
     "output_type": "stream",
     "text": [
      "// QASM 2.0 file generated by QuTiP\n",
      "\n",
      "OPENQASM 2.0;\n",
      "include \"qelib1.inc\";\n",
      "\n",
      "qreg q[2];\n",
      "\n",
      "cx q[1],q[0];\n",
      "cx q[0],q[1];\n",
      "cx q[1],q[0];\n"
     ]
    }
   ],
   "source": [
    "print_qasm(qc)"
   ]
  },
  {
   "cell_type": "markdown",
   "id": "dee2d541",
   "metadata": {},
   "source": [
    "### Custom Gates\n",
    "\n",
    "QASM also offers the option to define custom gates in terms of already defined gates using the \"gate\" keyword. In \"qiskit\" mode, our QASM interpreter can be assumed to already allow for all the gates defined in the file [stdgates.inc](https://github.com/openqasm/openqasm/blob/main/examples/stdgates.inc) provided by the OpenQASM repository.\n",
    "\n",
    "In the file `swap_custom.qasm`, we define the `swap` gate in terms of the pre-defined `cx` gates."
   ]
  },
  {
   "cell_type": "code",
   "execution_count": 5,
   "id": "21f3e009",
   "metadata": {
    "execution": {
     "iopub.execute_input": "2023-03-15T08:50:43.721364Z",
     "iopub.status.busy": "2023-03-15T08:50:43.720949Z",
     "iopub.status.idle": "2023-03-15T08:50:43.724890Z",
     "shell.execute_reply": "2023-03-15T08:50:43.724181Z"
    }
   },
   "outputs": [
    {
     "name": "stdout",
     "output_type": "stream",
     "text": [
      "// SWAP gate defined as a custom gate.\n",
      "\n",
      "OPENQASM 2.0;\n",
      "include \"qelib1.inc\";\n",
      "\n",
      "qreg q[2];\n",
      "creg c[2];\n",
      "\n",
      "gate swap a, b{\n",
      "cx b, a;\n",
      "cx a, b;\n",
      "cx b, a;\n",
      "}\n",
      "\n",
      "swap q[0], q[1]\n",
      "\n",
      "measure q -> c\n",
      "\n"
     ]
    }
   ],
   "source": [
    "path = \"qasm_files/swap_custom.qasm\"\n",
    "qasm_file = open(path, \"r\")\n",
    "print(qasm_file.read())"
   ]
  },
  {
   "cell_type": "markdown",
   "id": "c6258bc7",
   "metadata": {},
   "source": [
    "Furthermore, the circuit also measures the two qubits q[0] and q[1] and stores the results in the classical registers c[0] and c[1]"
   ]
  },
  {
   "cell_type": "code",
   "execution_count": 6,
   "id": "153ea425",
   "metadata": {
    "execution": {
     "iopub.execute_input": "2023-03-15T08:50:43.728526Z",
     "iopub.status.busy": "2023-03-15T08:50:43.728105Z",
     "iopub.status.idle": "2023-03-15T08:50:43.735263Z",
     "shell.execute_reply": "2023-03-15T08:50:43.734577Z"
    }
   },
   "outputs": [],
   "source": [
    "qc = read_qasm(path)"
   ]
  },
  {
   "cell_type": "markdown",
   "id": "57659e1b",
   "metadata": {},
   "source": [
    "We can now run the circuit to confirm that the circuit is correctly loaded and performs the correct operations. To do this, we can use the `QubitCircuit.run` function with the appropriate input state. In our case, we can take the state `|01⟩`. "
   ]
  },
  {
   "cell_type": "code",
   "execution_count": 7,
   "id": "dcb8d109",
   "metadata": {
    "execution": {
     "iopub.execute_input": "2023-03-15T08:50:43.737921Z",
     "iopub.status.busy": "2023-03-15T08:50:43.737468Z",
     "iopub.status.idle": "2023-03-15T08:50:43.752262Z",
     "shell.execute_reply": "2023-03-15T08:50:43.751538Z"
    }
   },
   "outputs": [
    {
     "data": {
      "text/latex": [
       "Quantum object: dims = [[2, 2], [1, 1]], shape = (4, 1), type = ket $ \\\\ \\left(\\begin{matrix}0.0\\\\0.0\\\\1.0\\\\0.0\\\\\\end{matrix}\\right)$"
      ],
      "text/plain": [
       "Quantum object: dims = [[2, 2], [1, 1]], shape = (4, 1), type = ket\n",
       "Qobj data =\n",
       "[[0.]\n",
       " [0.]\n",
       " [1.]\n",
       " [0.]]"
      ]
     },
     "execution_count": 7,
     "metadata": {},
     "output_type": "execute_result"
    }
   ],
   "source": [
    "qc.run(tensor(basis(2, 0), basis(2, 1)))"
   ]
  },
  {
   "cell_type": "markdown",
   "id": "f97d0922",
   "metadata": {},
   "source": [
    "As predicted the output is the state after swapping which is `|10⟩`"
   ]
  },
  {
   "cell_type": "markdown",
   "id": "f3abe0cb",
   "metadata": {},
   "source": [
    "### Measurements and Classical Control\n",
    "\n",
    "The QASM format also allows for other circuit features such as measurement and control of gates by classical bits. \n",
    "This is also supported by QuTiP. For an example, we can refer to the example of quantum teleportation. A more complete explanation of teleportation can be found in the [notebook](teleportation.md) on quantum teleportation."
   ]
  },
  {
   "cell_type": "code",
   "execution_count": 8,
   "id": "c8324b0e",
   "metadata": {
    "execution": {
     "iopub.execute_input": "2023-03-15T08:50:43.755284Z",
     "iopub.status.busy": "2023-03-15T08:50:43.754737Z",
     "iopub.status.idle": "2023-03-15T08:50:43.758928Z",
     "shell.execute_reply": "2023-03-15T08:50:43.758207Z"
    }
   },
   "outputs": [
    {
     "name": "stdout",
     "output_type": "stream",
     "text": [
      "OPENQASM 2.0;\n",
      "include \"qelib1.inc\";\n",
      "\n",
      "qreg q[3];\n",
      "creg c0[1];\n",
      "creg c1[1];\n",
      "\n",
      "h q[1];\n",
      "cx q[1], q[2];\n",
      "cx q[0], q[1];\n",
      "h q[0];\n",
      "\n",
      "measure q[0] -> c1[0]\n",
      "measure q[1] -> c0[0]\n",
      "\n",
      "if(c0==1) x q[2]\n",
      "if(c1==1) z q[2]\n",
      "\n"
     ]
    }
   ],
   "source": [
    "path = \"qasm_files/teleportation.qasm\"\n",
    "qasm_file = open(path, \"r\")\n",
    "qasm_str = qasm_file.read()\n",
    "print(qasm_str)"
   ]
  },
  {
   "cell_type": "markdown",
   "id": "23deea00",
   "metadata": {},
   "source": [
    " We can also read in a QASM file from a string by specifying `strmode=True` to `read_qasm`"
   ]
  },
  {
   "cell_type": "code",
   "execution_count": 9,
   "id": "f6c28ff5",
   "metadata": {
    "execution": {
     "iopub.execute_input": "2023-03-15T08:50:43.762081Z",
     "iopub.status.busy": "2023-03-15T08:50:43.761707Z",
     "iopub.status.idle": "2023-03-15T08:50:43.766904Z",
     "shell.execute_reply": "2023-03-15T08:50:43.766164Z"
    }
   },
   "outputs": [
    {
     "name": "stderr",
     "output_type": "stream",
     "text": [
      "/home/runner/work/qutip-tutorials/qutip-tutorials/qutip-qip/src/qutip_qip/qasm.py:826: UserWarning: Information about individual registers is not preserved in QubitCircuit\n",
      "  warnings.warn(\n"
     ]
    }
   ],
   "source": [
    "teleportation = read_qasm(qasm_str, strmode=True)"
   ]
  },
  {
   "cell_type": "markdown",
   "id": "67ff87e0",
   "metadata": {},
   "source": [
    "**Note**: \n",
    "The above warning is expected to inform the user that the import from QASM to QuTiP does not retain any information about the different qubit/classical bit register names. This could potentially be an issue when the circuit is exported if the user wants to maintain the consistency. "
   ]
  },
  {
   "cell_type": "markdown",
   "id": "df1908aa",
   "metadata": {},
   "source": [
    "We can quickly check that the teleportation circuit works properly by teleporting the first qubit into the third qubit. "
   ]
  },
  {
   "cell_type": "code",
   "execution_count": 10,
   "id": "dcfa66ac",
   "metadata": {
    "execution": {
     "iopub.execute_input": "2023-03-15T08:50:43.770312Z",
     "iopub.status.busy": "2023-03-15T08:50:43.770071Z",
     "iopub.status.idle": "2023-03-15T08:50:43.800854Z",
     "shell.execute_reply": "2023-03-15T08:50:43.800182Z"
    }
   },
   "outputs": [],
   "source": [
    "state = tensor(rand_ket(2), basis(2, 0), basis(2, 0))\n",
    "\n",
    "initial_measurement = Measurement(\"start\", targets=[0])\n",
    "_, initial_probabilities = initial_measurement.measurement_comp_basis(state)\n",
    "\n",
    "state_final = teleportation.run(state)\n",
    "\n",
    "final_measurement = Measurement(\"start\", targets=[2])\n",
    "_, final_probabilities = final_measurement.measurement_comp_basis(state_final)\n",
    "\n",
    "np.testing.assert_allclose(initial_probabilities, final_probabilities)"
   ]
  },
  {
   "cell_type": "markdown",
   "id": "114f6f8a",
   "metadata": {},
   "source": [
    "**Note**: Custom gates imported in the QASM format cannot be easily exported. Currently, only gates that are defined native to QuTiP can be exported. QuTiP also produces custom gate definitions for gates not provided in the `qelib1.inc` \"header\" file. In these cases, QuTiP will add it's own gate definitions directly to the the exported `.qasm` file but this is restricted only to already gates native to QuTiP. \n",
    "Export from QuTiP handles both gates and measurements. However, it does not allow for export of controlled gates. "
   ]
  },
  {
   "cell_type": "code",
   "execution_count": 11,
   "id": "1eeeda6b",
   "metadata": {
    "execution": {
     "iopub.execute_input": "2023-03-15T08:50:43.804001Z",
     "iopub.status.busy": "2023-03-15T08:50:43.803394Z",
     "iopub.status.idle": "2023-03-15T08:50:43.807366Z",
     "shell.execute_reply": "2023-03-15T08:50:43.806645Z"
    }
   },
   "outputs": [
    {
     "name": "stdout",
     "output_type": "stream",
     "text": [
      "\n",
      "QuTiP: Quantum Toolbox in Python\n",
      "================================\n",
      "Copyright (c) QuTiP team 2011 and later.\n",
      "Current admin team: Alexander Pitchford, Nathan Shammah, Shahnawaz Ahmed, Neill Lambert, Eric Giguère, Boxi Li, Jake Lishman, Simon Cross and Asier Galicia.\n",
      "Board members: Daniel Burgarth, Robert Johansson, Anton F. Kockum, Franco Nori and Will Zeng.\n",
      "Original developers: R. J. Johansson & P. D. Nation.\n",
      "Previous lead developers: Chris Granade & A. Grimsmo.\n",
      "Currently developed through wide collaboration. See https://github.com/qutip for details.\n",
      "\n",
      "QuTiP Version:      4.7.1\n",
      "Numpy Version:      1.22.4\n",
      "Scipy Version:      1.8.1\n",
      "Cython Version:     0.29.33\n",
      "Matplotlib Version: 3.5.2\n",
      "Python Version:     3.10.4\n",
      "Number of CPUs:     2\n",
      "BLAS Info:          Generic\n",
      "OPENMP Installed:   False\n",
      "INTEL MKL Ext:      False\n",
      "Platform Info:      Linux (x86_64)\n",
      "Installation path:  /home/runner/work/qutip-tutorials/qutip-tutorials/qutip/qutip\n",
      "================================================================================\n",
      "Please cite QuTiP in your publication.\n",
      "================================================================================\n",
      "For your convenience a bibtex reference can be easily generated using `qutip.cite()`\n"
     ]
    }
   ],
   "source": [
    "about()"
   ]
  }
 ],
 "metadata": {
  "jupytext": {
   "cell_metadata_filter": "-all",
   "notebook_metadata_filter": "-jupytext.cell_metadata_filter,-jupytext.notebook_metadata_filter"
  },
  "kernelspec": {
   "display_name": "Python 3 (ipykernel)",
   "language": "python",
   "name": "python3"
  },
  "language_info": {
   "codemirror_mode": {
    "name": "ipython",
    "version": 3
   },
   "file_extension": ".py",
   "mimetype": "text/x-python",
   "name": "python",
   "nbconvert_exporter": "python",
   "pygments_lexer": "ipython3",
   "version": "3.10.4"
  }
 },
 "nbformat": 4,
 "nbformat_minor": 5
}
