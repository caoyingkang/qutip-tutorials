{
 "cells": [
  {
   "cell_type": "markdown",
   "id": "fb56505e",
   "metadata": {},
   "source": [
    "# QuTiP example: Quantum Gates and their usage"
   ]
  },
  {
   "cell_type": "markdown",
   "id": "fa6f45a7",
   "metadata": {},
   "source": [
    "Author: Anubhav Vardhan (anubhavvardhan@gmail.com)\n",
    "\n",
    "User-defined gate added by: Boxi Li (etamin1201@gmail.com)\n",
    "\n",
    "For more information about QuTiP see [http://qutip.org](http://qutip.org)\n",
    "\n",
    "#### Installation: \n",
    "The circuit image visualization requires LaTeX and [ImageMagick](https://imagemagick.org/index.php) for display. The module automatically process the LaTeX code for plotting the circuit, generate the pdf and convert it to the png format.\n",
    "On Mac and Linux, ImageMagick can be easily installed with the command `conda install imagemagick` if you have conda installed.\n",
    "Otherwise, please follow the installation instructions on the ImageMagick documentation.\n",
    "\n",
    "On windows, you need to download and install ImageMagick installer. In addition, you also need [perl](https://www.perl.org/get.html) (for pdfcrop) and [Ghostscript](https://ghostscript.com/releases/index.html) (additional dependency of ImageMagick for png conversion).\n",
    "\n",
    "To test if the installation is complete, try the following three commands working correctly in Command Prompt: `pdflatex`, `pdfcrop` and `magick anypdf.pdf antpdf.png`, where `anypdf.pdf` is any pdf file you have."
   ]
  },
  {
   "cell_type": "code",
   "execution_count": 1,
   "id": "312ef90e",
   "metadata": {
    "execution": {
     "iopub.execute_input": "2023-03-15T08:50:45.098000Z",
     "iopub.status.busy": "2023-03-15T08:50:45.097434Z",
     "iopub.status.idle": "2023-03-15T08:50:45.945520Z",
     "shell.execute_reply": "2023-03-15T08:50:45.944462Z"
    }
   },
   "outputs": [],
   "source": [
    "import numpy as np\n",
    "from numpy import pi\n",
    "from qutip import Qobj, about\n",
    "from qutip_qip.circuit import QubitCircuit\n",
    "from qutip_qip.operations import (Gate, berkeley, cnot, cphase, csign, fredkin,\n",
    "                                  gate_sequence_product, globalphase, iswap,\n",
    "                                  molmer_sorensen, phasegate, qrot, rx, ry, rz,\n",
    "                                  snot, sqrtiswap, sqrtnot, sqrtswap, swap,\n",
    "                                  swapalpha, toffoli)\n",
    "\n",
    "%matplotlib inline"
   ]
  },
  {
   "cell_type": "markdown",
   "id": "ab6503c8",
   "metadata": {},
   "source": [
    "## Introduction"
   ]
  },
  {
   "cell_type": "markdown",
   "id": "2c45108a",
   "metadata": {},
   "source": [
    "http://en.wikipedia.org/wiki/Quantum_gate\n"
   ]
  },
  {
   "cell_type": "markdown",
   "id": "7aae7dd4",
   "metadata": {},
   "source": [
    "## Gates in QuTiP and their representation"
   ]
  },
  {
   "cell_type": "markdown",
   "id": "88e73193",
   "metadata": {},
   "source": [
    "### Controlled-PHASE"
   ]
  },
  {
   "cell_type": "code",
   "execution_count": 2,
   "id": "cbe252a8",
   "metadata": {
    "execution": {
     "iopub.execute_input": "2023-03-15T08:50:45.950657Z",
     "iopub.status.busy": "2023-03-15T08:50:45.950269Z",
     "iopub.status.idle": "2023-03-15T08:50:45.959922Z",
     "shell.execute_reply": "2023-03-15T08:50:45.959203Z"
    }
   },
   "outputs": [
    {
     "data": {
      "text/latex": [
       "Quantum object: dims = [[2, 2], [2, 2]], shape = (4, 4), type = oper, isherm = False $ \\\\ \\left(\\begin{matrix}1.0 & 0.0 & 0.0 & 0.0\\\\0.0 & 1.0 & 0.0 & 0.0\\\\0.0 & 0.0 & 1.0 & 0.0\\\\0.0 & 0.0 & 0.0 & 1.0j\\\\\\end{matrix}\\right)$"
      ],
      "text/plain": [
       "Quantum object: dims = [[2, 2], [2, 2]], shape = (4, 4), type = oper, isherm = False\n",
       "Qobj data =\n",
       "[[1.+0.j 0.+0.j 0.+0.j 0.+0.j]\n",
       " [0.+0.j 1.+0.j 0.+0.j 0.+0.j]\n",
       " [0.+0.j 0.+0.j 1.+0.j 0.+0.j]\n",
       " [0.+0.j 0.+0.j 0.+0.j 0.+1.j]]"
      ]
     },
     "execution_count": 2,
     "metadata": {},
     "output_type": "execute_result"
    }
   ],
   "source": [
    "cphase(pi / 2)"
   ]
  },
  {
   "cell_type": "code",
   "execution_count": 3,
   "id": "004ec60e",
   "metadata": {
    "execution": {
     "iopub.execute_input": "2023-03-15T08:50:45.962733Z",
     "iopub.status.busy": "2023-03-15T08:50:45.962492Z",
     "iopub.status.idle": "2023-03-15T08:50:46.212292Z",
     "shell.execute_reply": "2023-03-15T08:50:46.211324Z"
    }
   },
   "outputs": [
    {
     "name": "stderr",
     "output_type": "stream",
     "text": [
      "/home/runner/work/qutip-tutorials/qutip-tutorials/qutip-qip/src/qutip_qip/circuit/circuit_latex.py:95: UserWarning: Could not locate system 'pdfcrop': image output may have additional margins.\n",
      "  warnings.warn(\n"
     ]
    },
    {
     "data": {
      "image/png": "[encoded data removed]",
      "text/plain": [
       "<IPython.core.display.Image object>"
      ]
     },
     "execution_count": 3,
     "metadata": {},
     "output_type": "execute_result"
    }
   ],
   "source": [
    "q = QubitCircuit(2, reverse_states=False)\n",
    "q.add_gate(\"CSIGN\", controls=[0], targets=[1])\n",
    "q.png"
   ]
  },
  {
   "cell_type": "markdown",
   "id": "e1fa1e8c",
   "metadata": {},
   "source": [
    "### Rotation about X-axis"
   ]
  },
  {
   "cell_type": "code",
   "execution_count": 4,
   "id": "9b20fcd9",
   "metadata": {
    "execution": {
     "iopub.execute_input": "2023-03-15T08:50:46.216720Z",
     "iopub.status.busy": "2023-03-15T08:50:46.216200Z",
     "iopub.status.idle": "2023-03-15T08:50:46.222566Z",
     "shell.execute_reply": "2023-03-15T08:50:46.221820Z"
    }
   },
   "outputs": [
    {
     "data": {
      "text/latex": [
       "Quantum object: dims = [[2], [2]], shape = (2, 2), type = oper, isherm = False $ \\\\ \\left(\\begin{matrix}0.707 & -0.707j\\\\-0.707j & 0.707\\\\\\end{matrix}\\right)$"
      ],
      "text/plain": [
       "Quantum object: dims = [[2], [2]], shape = (2, 2), type = oper, isherm = False\n",
       "Qobj data =\n",
       "[[0.70710678+0.j         0.        -0.70710678j]\n",
       " [0.        -0.70710678j 0.70710678+0.j        ]]"
      ]
     },
     "execution_count": 4,
     "metadata": {},
     "output_type": "execute_result"
    }
   ],
   "source": [
    "rx(pi / 2)"
   ]
  },
  {
   "cell_type": "code",
   "execution_count": 5,
   "id": "0eb44dd7",
   "metadata": {
    "execution": {
     "iopub.execute_input": "2023-03-15T08:50:46.226036Z",
     "iopub.status.busy": "2023-03-15T08:50:46.225605Z",
     "iopub.status.idle": "2023-03-15T08:50:46.464122Z",
     "shell.execute_reply": "2023-03-15T08:50:46.463301Z"
    }
   },
   "outputs": [
    {
     "name": "stderr",
     "output_type": "stream",
     "text": [
      "/home/runner/work/qutip-tutorials/qutip-tutorials/qutip-qip/src/qutip_qip/circuit/circuit_latex.py:95: UserWarning: Could not locate system 'pdfcrop': image output may have additional margins.\n",
      "  warnings.warn(\n"
     ]
    },
    {
     "data": {
      "image/png": "[encoded data removed]",
      "text/plain": [
       "<IPython.core.display.Image object>"
      ]
     },
     "execution_count": 5,
     "metadata": {},
     "output_type": "execute_result"
    }
   ],
   "source": [
    "q = QubitCircuit(1, reverse_states=False)\n",
    "q.add_gate(\"RX\", targets=[0], arg_value=pi / 2, arg_label=r\"\\frac{\\pi}{2}\")\n",
    "q.png"
   ]
  },
  {
   "cell_type": "markdown",
   "id": "1b7ead64",
   "metadata": {},
   "source": [
    "### Rotation about Y-axis"
   ]
  },
  {
   "cell_type": "code",
   "execution_count": 6,
   "id": "569f53c7",
   "metadata": {
    "execution": {
     "iopub.execute_input": "2023-03-15T08:50:46.467296Z",
     "iopub.status.busy": "2023-03-15T08:50:46.466881Z",
     "iopub.status.idle": "2023-03-15T08:50:46.475397Z",
     "shell.execute_reply": "2023-03-15T08:50:46.474377Z"
    }
   },
   "outputs": [
    {
     "data": {
      "text/latex": [
       "Quantum object: dims = [[2], [2]], shape = (2, 2), type = oper, isherm = False $ \\\\ \\left(\\begin{matrix}0.707 & -0.707\\\\0.707 & 0.707\\\\\\end{matrix}\\right)$"
      ],
      "text/plain": [
       "Quantum object: dims = [[2], [2]], shape = (2, 2), type = oper, isherm = False\n",
       "Qobj data =\n",
       "[[ 0.70710678 -0.70710678]\n",
       " [ 0.70710678  0.70710678]]"
      ]
     },
     "execution_count": 6,
     "metadata": {},
     "output_type": "execute_result"
    }
   ],
   "source": [
    "ry(pi / 2)"
   ]
  },
  {
   "cell_type": "code",
   "execution_count": 7,
   "id": "09fee0a9",
   "metadata": {
    "execution": {
     "iopub.execute_input": "2023-03-15T08:50:46.479017Z",
     "iopub.status.busy": "2023-03-15T08:50:46.478784Z",
     "iopub.status.idle": "2023-03-15T08:50:46.718677Z",
     "shell.execute_reply": "2023-03-15T08:50:46.717598Z"
    }
   },
   "outputs": [
    {
     "name": "stderr",
     "output_type": "stream",
     "text": [
      "/home/runner/work/qutip-tutorials/qutip-tutorials/qutip-qip/src/qutip_qip/circuit/circuit_latex.py:95: UserWarning: Could not locate system 'pdfcrop': image output may have additional margins.\n",
      "  warnings.warn(\n"
     ]
    },
    {
     "data": {
      "image/png": "[encoded data removed]",
      "text/plain": [
       "<IPython.core.display.Image object>"
      ]
     },
     "execution_count": 7,
     "metadata": {},
     "output_type": "execute_result"
    }
   ],
   "source": [
    "q = QubitCircuit(1, reverse_states=False)\n",
    "q.add_gate(\"RY\", targets=[0], arg_value=pi / 2, arg_label=r\"\\frac{\\pi}{2}\")\n",
    "q.png"
   ]
  },
  {
   "cell_type": "markdown",
   "id": "23e25fc2",
   "metadata": {},
   "source": [
    "### Rotation about Z-axis"
   ]
  },
  {
   "cell_type": "code",
   "execution_count": 8,
   "id": "2be766bc",
   "metadata": {
    "execution": {
     "iopub.execute_input": "2023-03-15T08:50:46.722046Z",
     "iopub.status.busy": "2023-03-15T08:50:46.721645Z",
     "iopub.status.idle": "2023-03-15T08:50:46.773501Z",
     "shell.execute_reply": "2023-03-15T08:50:46.772759Z"
    }
   },
   "outputs": [
    {
     "data": {
      "text/latex": [
       "Quantum object: dims = [[2], [2]], shape = (2, 2), type = oper, isherm = False $ \\\\ \\left(\\begin{matrix}(0.707-0.707j) & 0.0\\\\0.0 & (0.707+0.707j)\\\\\\end{matrix}\\right)$"
      ],
      "text/plain": [
       "Quantum object: dims = [[2], [2]], shape = (2, 2), type = oper, isherm = False\n",
       "Qobj data =\n",
       "[[0.70710678-0.70710678j 0.        +0.j        ]\n",
       " [0.        +0.j         0.70710678+0.70710678j]]"
      ]
     },
     "execution_count": 8,
     "metadata": {},
     "output_type": "execute_result"
    }
   ],
   "source": [
    "rz(pi / 2)"
   ]
  },
  {
   "cell_type": "code",
   "execution_count": 9,
   "id": "2844effc",
   "metadata": {
    "execution": {
     "iopub.execute_input": "2023-03-15T08:50:46.776759Z",
     "iopub.status.busy": "2023-03-15T08:50:46.776159Z",
     "iopub.status.idle": "2023-03-15T08:50:47.016642Z",
     "shell.execute_reply": "2023-03-15T08:50:47.015861Z"
    }
   },
   "outputs": [
    {
     "name": "stderr",
     "output_type": "stream",
     "text": [
      "/home/runner/work/qutip-tutorials/qutip-tutorials/qutip-qip/src/qutip_qip/circuit/circuit_latex.py:95: UserWarning: Could not locate system 'pdfcrop': image output may have additional margins.\n",
      "  warnings.warn(\n"
     ]
    },
    {
     "data": {
      "image/png": "[encoded data removed]",
      "text/plain": [
       "<IPython.core.display.Image object>"
      ]
     },
     "execution_count": 9,
     "metadata": {},
     "output_type": "execute_result"
    }
   ],
   "source": [
    "q = QubitCircuit(1, reverse_states=False)\n",
    "q.add_gate(\"RZ\", targets=[0], arg_value=pi / 2, arg_label=r\"\\frac{\\pi}{2}\")\n",
    "q.png"
   ]
  },
  {
   "cell_type": "markdown",
   "id": "edf0e2af",
   "metadata": {},
   "source": [
    "### CNOT"
   ]
  },
  {
   "cell_type": "code",
   "execution_count": 10,
   "id": "f52c08e0",
   "metadata": {
    "execution": {
     "iopub.execute_input": "2023-03-15T08:50:47.020010Z",
     "iopub.status.busy": "2023-03-15T08:50:47.019220Z",
     "iopub.status.idle": "2023-03-15T08:50:47.025566Z",
     "shell.execute_reply": "2023-03-15T08:50:47.024874Z"
    }
   },
   "outputs": [
    {
     "data": {
      "text/latex": [
       "Quantum object: dims = [[2, 2], [2, 2]], shape = (4, 4), type = oper, isherm = True $ \\\\ \\left(\\begin{matrix}1.0 & 0.0 & 0.0 & 0.0\\\\0.0 & 1.0 & 0.0 & 0.0\\\\0.0 & 0.0 & 0.0 & 1.0\\\\0.0 & 0.0 & 1.0 & 0.0\\\\\\end{matrix}\\right)$"
      ],
      "text/plain": [
       "Quantum object: dims = [[2, 2], [2, 2]], shape = (4, 4), type = oper, isherm = True\n",
       "Qobj data =\n",
       "[[1. 0. 0. 0.]\n",
       " [0. 1. 0. 0.]\n",
       " [0. 0. 0. 1.]\n",
       " [0. 0. 1. 0.]]"
      ]
     },
     "execution_count": 10,
     "metadata": {},
     "output_type": "execute_result"
    }
   ],
   "source": [
    "cnot()"
   ]
  },
  {
   "cell_type": "code",
   "execution_count": 11,
   "id": "41fb8178",
   "metadata": {
    "execution": {
     "iopub.execute_input": "2023-03-15T08:50:47.028563Z",
     "iopub.status.busy": "2023-03-15T08:50:47.028091Z",
     "iopub.status.idle": "2023-03-15T08:50:47.270799Z",
     "shell.execute_reply": "2023-03-15T08:50:47.270093Z"
    }
   },
   "outputs": [
    {
     "name": "stderr",
     "output_type": "stream",
     "text": [
      "/home/runner/work/qutip-tutorials/qutip-tutorials/qutip-qip/src/qutip_qip/circuit/circuit_latex.py:95: UserWarning: Could not locate system 'pdfcrop': image output may have additional margins.\n",
      "  warnings.warn(\n"
     ]
    },
    {
     "data": {
      "image/png": "[encoded data removed]",
      "text/plain": [
       "<IPython.core.display.Image object>"
      ]
     },
     "execution_count": 11,
     "metadata": {},
     "output_type": "execute_result"
    }
   ],
   "source": [
    "q = QubitCircuit(2, reverse_states=False)\n",
    "q.add_gate(\"CNOT\", controls=[0], targets=[1])\n",
    "q.png"
   ]
  },
  {
   "cell_type": "markdown",
   "id": "e07e8b9a",
   "metadata": {},
   "source": [
    "### CSIGN"
   ]
  },
  {
   "cell_type": "code",
   "execution_count": 12,
   "id": "0e0ccec5",
   "metadata": {
    "execution": {
     "iopub.execute_input": "2023-03-15T08:50:47.274525Z",
     "iopub.status.busy": "2023-03-15T08:50:47.273996Z",
     "iopub.status.idle": "2023-03-15T08:50:47.281886Z",
     "shell.execute_reply": "2023-03-15T08:50:47.280884Z"
    }
   },
   "outputs": [
    {
     "data": {
      "text/latex": [
       "Quantum object: dims = [[2, 2], [2, 2]], shape = (4, 4), type = oper, isherm = True $ \\\\ \\left(\\begin{matrix}1.0 & 0.0 & 0.0 & 0.0\\\\0.0 & 1.0 & 0.0 & 0.0\\\\0.0 & 0.0 & 1.0 & 0.0\\\\0.0 & 0.0 & 0.0 & -1.0\\\\\\end{matrix}\\right)$"
      ],
      "text/plain": [
       "Quantum object: dims = [[2, 2], [2, 2]], shape = (4, 4), type = oper, isherm = True\n",
       "Qobj data =\n",
       "[[ 1.  0.  0.  0.]\n",
       " [ 0.  1.  0.  0.]\n",
       " [ 0.  0.  1.  0.]\n",
       " [ 0.  0.  0. -1.]]"
      ]
     },
     "execution_count": 12,
     "metadata": {},
     "output_type": "execute_result"
    }
   ],
   "source": [
    "csign()"
   ]
  },
  {
   "cell_type": "code",
   "execution_count": 13,
   "id": "97ebba9c",
   "metadata": {
    "execution": {
     "iopub.execute_input": "2023-03-15T08:50:47.285161Z",
     "iopub.status.busy": "2023-03-15T08:50:47.284804Z",
     "iopub.status.idle": "2023-03-15T08:50:47.519922Z",
     "shell.execute_reply": "2023-03-15T08:50:47.519225Z"
    }
   },
   "outputs": [
    {
     "name": "stderr",
     "output_type": "stream",
     "text": [
      "/home/runner/work/qutip-tutorials/qutip-tutorials/qutip-qip/src/qutip_qip/circuit/circuit_latex.py:95: UserWarning: Could not locate system 'pdfcrop': image output may have additional margins.\n",
      "  warnings.warn(\n"
     ]
    },
    {
     "data": {
      "image/png": "[encoded data removed]",
      "text/plain": [
       "<IPython.core.display.Image object>"
      ]
     },
     "execution_count": 13,
     "metadata": {},
     "output_type": "execute_result"
    }
   ],
   "source": [
    "q = QubitCircuit(2, reverse_states=False)\n",
    "q.add_gate(\"CSIGN\", controls=[0], targets=[1])\n",
    "q.png"
   ]
  },
  {
   "cell_type": "markdown",
   "id": "432419b1",
   "metadata": {},
   "source": [
    "### Berkeley"
   ]
  },
  {
   "cell_type": "code",
   "execution_count": 14,
   "id": "52d7b137",
   "metadata": {
    "execution": {
     "iopub.execute_input": "2023-03-15T08:50:47.524312Z",
     "iopub.status.busy": "2023-03-15T08:50:47.523774Z",
     "iopub.status.idle": "2023-03-15T08:50:47.533322Z",
     "shell.execute_reply": "2023-03-15T08:50:47.532656Z"
    }
   },
   "outputs": [
    {
     "data": {
      "text/latex": [
       "Quantum object: dims = [[2, 2], [2, 2]], shape = (4, 4), type = oper, isherm = False $ \\\\ \\left(\\begin{matrix}0.924 & 0.0 & 0.0 & 0.383j\\\\0.0 & 0.383 & 0.924j & 0.0\\\\0.0 & 0.924j & 0.383 & 0.0\\\\0.383j & 0.0 & 0.0 & 0.924\\\\\\end{matrix}\\right)$"
      ],
      "text/plain": [
       "Quantum object: dims = [[2, 2], [2, 2]], shape = (4, 4), type = oper, isherm = False\n",
       "Qobj data =\n",
       "[[0.92387953+0.j         0.        +0.j         0.        +0.j\n",
       "  0.        +0.38268343j]\n",
       " [0.        +0.j         0.38268343+0.j         0.        +0.92387953j\n",
       "  0.        +0.j        ]\n",
       " [0.        +0.j         0.        +0.92387953j 0.38268343+0.j\n",
       "  0.        +0.j        ]\n",
       " [0.        +0.38268343j 0.        +0.j         0.        +0.j\n",
       "  0.92387953+0.j        ]]"
      ]
     },
     "execution_count": 14,
     "metadata": {},
     "output_type": "execute_result"
    }
   ],
   "source": [
    "berkeley()"
   ]
  },
  {
   "cell_type": "code",
   "execution_count": 15,
   "id": "289eb1b8",
   "metadata": {
    "execution": {
     "iopub.execute_input": "2023-03-15T08:50:47.536477Z",
     "iopub.status.busy": "2023-03-15T08:50:47.535942Z",
     "iopub.status.idle": "2023-03-15T08:50:47.776029Z",
     "shell.execute_reply": "2023-03-15T08:50:47.775306Z"
    }
   },
   "outputs": [
    {
     "name": "stderr",
     "output_type": "stream",
     "text": [
      "/home/runner/work/qutip-tutorials/qutip-tutorials/qutip-qip/src/qutip_qip/circuit/circuit_latex.py:95: UserWarning: Could not locate system 'pdfcrop': image output may have additional margins.\n",
      "  warnings.warn(\n"
     ]
    },
    {
     "data": {
      "image/png": "[encoded data removed]",
      "text/plain": [
       "<IPython.core.display.Image object>"
      ]
     },
     "execution_count": 15,
     "metadata": {},
     "output_type": "execute_result"
    }
   ],
   "source": [
    "q = QubitCircuit(2, reverse_states=False)\n",
    "q.add_gate(\"BERKELEY\", targets=[0, 1])\n",
    "q.png"
   ]
  },
  {
   "cell_type": "markdown",
   "id": "834d78cc",
   "metadata": {},
   "source": [
    "### SWAPalpha"
   ]
  },
  {
   "cell_type": "code",
   "execution_count": 16,
   "id": "ec9321fc",
   "metadata": {
    "execution": {
     "iopub.execute_input": "2023-03-15T08:50:47.780053Z",
     "iopub.status.busy": "2023-03-15T08:50:47.779537Z",
     "iopub.status.idle": "2023-03-15T08:50:47.787950Z",
     "shell.execute_reply": "2023-03-15T08:50:47.787286Z"
    }
   },
   "outputs": [
    {
     "data": {
      "text/latex": [
       "Quantum object: dims = [[2, 2], [2, 2]], shape = (4, 4), type = oper, isherm = False $ \\\\ \\left(\\begin{matrix}1.0 & 0.0 & 0.0 & 0.0\\\\0.0 & (0.610-0.488j) & (0.390+0.488j) & 0.0\\\\0.0 & (0.390+0.488j) & (0.610-0.488j) & 0.0\\\\0.0 & 0.0 & 0.0 & 1.0\\\\\\end{matrix}\\right)$"
      ],
      "text/plain": [
       "Quantum object: dims = [[2, 2], [2, 2]], shape = (4, 4), type = oper, isherm = False\n",
       "Qobj data =\n",
       "[[1.        +0.j         0.        +0.j         0.        +0.j\n",
       "  0.        +0.j        ]\n",
       " [0.        +0.j         0.61029202-0.48768399j 0.38970798+0.48768399j\n",
       "  0.        +0.j        ]\n",
       " [0.        +0.j         0.38970798+0.48768399j 0.61029202-0.48768399j\n",
       "  0.        +0.j        ]\n",
       " [0.        +0.j         0.        +0.j         0.        +0.j\n",
       "  1.        +0.j        ]]"
      ]
     },
     "execution_count": 16,
     "metadata": {},
     "output_type": "execute_result"
    }
   ],
   "source": [
    "swapalpha(pi / 2)"
   ]
  },
  {
   "cell_type": "markdown",
   "id": "40bbab0d",
   "metadata": {},
   "source": [
    "### FREDKIN"
   ]
  },
  {
   "cell_type": "code",
   "execution_count": 17,
   "id": "a618ba56",
   "metadata": {
    "execution": {
     "iopub.execute_input": "2023-03-15T08:50:47.791064Z",
     "iopub.status.busy": "2023-03-15T08:50:47.790682Z",
     "iopub.status.idle": "2023-03-15T08:50:47.799654Z",
     "shell.execute_reply": "2023-03-15T08:50:47.798981Z"
    }
   },
   "outputs": [
    {
     "data": {
      "text/latex": [
       "Quantum object: dims = [[2, 2, 2], [2, 2, 2]], shape = (8, 8), type = oper, isherm = True $ \\\\ \\left(\\begin{matrix}1.0 & 0.0 & 0.0 & 0.0 & 0.0 & 0.0 & 0.0 & 0.0\\\\0.0 & 1.0 & 0.0 & 0.0 & 0.0 & 0.0 & 0.0 & 0.0\\\\0.0 & 0.0 & 1.0 & 0.0 & 0.0 & 0.0 & 0.0 & 0.0\\\\0.0 & 0.0 & 0.0 & 1.0 & 0.0 & 0.0 & 0.0 & 0.0\\\\0.0 & 0.0 & 0.0 & 0.0 & 1.0 & 0.0 & 0.0 & 0.0\\\\0.0 & 0.0 & 0.0 & 0.0 & 0.0 & 0.0 & 1.0 & 0.0\\\\0.0 & 0.0 & 0.0 & 0.0 & 0.0 & 1.0 & 0.0 & 0.0\\\\0.0 & 0.0 & 0.0 & 0.0 & 0.0 & 0.0 & 0.0 & 1.0\\\\\\end{matrix}\\right)$"
      ],
      "text/plain": [
       "Quantum object: dims = [[2, 2, 2], [2, 2, 2]], shape = (8, 8), type = oper, isherm = True\n",
       "Qobj data =\n",
       "[[1. 0. 0. 0. 0. 0. 0. 0.]\n",
       " [0. 1. 0. 0. 0. 0. 0. 0.]\n",
       " [0. 0. 1. 0. 0. 0. 0. 0.]\n",
       " [0. 0. 0. 1. 0. 0. 0. 0.]\n",
       " [0. 0. 0. 0. 1. 0. 0. 0.]\n",
       " [0. 0. 0. 0. 0. 0. 1. 0.]\n",
       " [0. 0. 0. 0. 0. 1. 0. 0.]\n",
       " [0. 0. 0. 0. 0. 0. 0. 1.]]"
      ]
     },
     "execution_count": 17,
     "metadata": {},
     "output_type": "execute_result"
    }
   ],
   "source": [
    "fredkin()"
   ]
  },
  {
   "cell_type": "markdown",
   "id": "cffad993",
   "metadata": {},
   "source": [
    "### TOFFOLI"
   ]
  },
  {
   "cell_type": "code",
   "execution_count": 18,
   "id": "a90c5572",
   "metadata": {
    "execution": {
     "iopub.execute_input": "2023-03-15T08:50:47.802374Z",
     "iopub.status.busy": "2023-03-15T08:50:47.802133Z",
     "iopub.status.idle": "2023-03-15T08:50:47.811310Z",
     "shell.execute_reply": "2023-03-15T08:50:47.809990Z"
    }
   },
   "outputs": [
    {
     "data": {
      "text/latex": [
       "Quantum object: dims = [[2, 2, 2], [2, 2, 2]], shape = (8, 8), type = oper, isherm = True $ \\\\ \\left(\\begin{matrix}1.0 & 0.0 & 0.0 & 0.0 & 0.0 & 0.0 & 0.0 & 0.0\\\\0.0 & 1.0 & 0.0 & 0.0 & 0.0 & 0.0 & 0.0 & 0.0\\\\0.0 & 0.0 & 1.0 & 0.0 & 0.0 & 0.0 & 0.0 & 0.0\\\\0.0 & 0.0 & 0.0 & 1.0 & 0.0 & 0.0 & 0.0 & 0.0\\\\0.0 & 0.0 & 0.0 & 0.0 & 1.0 & 0.0 & 0.0 & 0.0\\\\0.0 & 0.0 & 0.0 & 0.0 & 0.0 & 1.0 & 0.0 & 0.0\\\\0.0 & 0.0 & 0.0 & 0.0 & 0.0 & 0.0 & 0.0 & 1.0\\\\0.0 & 0.0 & 0.0 & 0.0 & 0.0 & 0.0 & 1.0 & 0.0\\\\\\end{matrix}\\right)$"
      ],
      "text/plain": [
       "Quantum object: dims = [[2, 2, 2], [2, 2, 2]], shape = (8, 8), type = oper, isherm = True\n",
       "Qobj data =\n",
       "[[1. 0. 0. 0. 0. 0. 0. 0.]\n",
       " [0. 1. 0. 0. 0. 0. 0. 0.]\n",
       " [0. 0. 1. 0. 0. 0. 0. 0.]\n",
       " [0. 0. 0. 1. 0. 0. 0. 0.]\n",
       " [0. 0. 0. 0. 1. 0. 0. 0.]\n",
       " [0. 0. 0. 0. 0. 1. 0. 0.]\n",
       " [0. 0. 0. 0. 0. 0. 0. 1.]\n",
       " [0. 0. 0. 0. 0. 0. 1. 0.]]"
      ]
     },
     "execution_count": 18,
     "metadata": {},
     "output_type": "execute_result"
    }
   ],
   "source": [
    "toffoli()"
   ]
  },
  {
   "cell_type": "markdown",
   "id": "c0b04c10",
   "metadata": {},
   "source": [
    "### SWAP"
   ]
  },
  {
   "cell_type": "code",
   "execution_count": 19,
   "id": "acb5afa1",
   "metadata": {
    "execution": {
     "iopub.execute_input": "2023-03-15T08:50:47.814553Z",
     "iopub.status.busy": "2023-03-15T08:50:47.814015Z",
     "iopub.status.idle": "2023-03-15T08:50:48.060185Z",
     "shell.execute_reply": "2023-03-15T08:50:48.059257Z"
    }
   },
   "outputs": [
    {
     "name": "stderr",
     "output_type": "stream",
     "text": [
      "/home/runner/work/qutip-tutorials/qutip-tutorials/qutip-qip/src/qutip_qip/circuit/circuit_latex.py:95: UserWarning: Could not locate system 'pdfcrop': image output may have additional margins.\n",
      "  warnings.warn(\n"
     ]
    },
    {
     "data": {
      "image/png": "[encoded data removed]",
      "text/plain": [
       "<IPython.core.display.Image object>"
      ]
     },
     "execution_count": 19,
     "metadata": {},
     "output_type": "execute_result"
    }
   ],
   "source": [
    "swap()\n",
    "q = QubitCircuit(2, reverse_states=False)\n",
    "q.add_gate(\"SWAP\", targets=[0, 1])\n",
    "q.png"
   ]
  },
  {
   "cell_type": "markdown",
   "id": "c106eef6",
   "metadata": {},
   "source": [
    "### ISWAP"
   ]
  },
  {
   "cell_type": "code",
   "execution_count": 20,
   "id": "dce9fd0d",
   "metadata": {
    "execution": {
     "iopub.execute_input": "2023-03-15T08:50:48.063742Z",
     "iopub.status.busy": "2023-03-15T08:50:48.063124Z",
     "iopub.status.idle": "2023-03-15T08:50:48.318341Z",
     "shell.execute_reply": "2023-03-15T08:50:48.316619Z"
    }
   },
   "outputs": [
    {
     "name": "stderr",
     "output_type": "stream",
     "text": [
      "/home/runner/work/qutip-tutorials/qutip-tutorials/qutip-qip/src/qutip_qip/circuit/circuit_latex.py:95: UserWarning: Could not locate system 'pdfcrop': image output may have additional margins.\n",
      "  warnings.warn(\n"
     ]
    },
    {
     "data": {
      "image/png": "[encoded data removed]",
      "text/plain": [
       "<IPython.core.display.Image object>"
      ]
     },
     "execution_count": 20,
     "metadata": {},
     "output_type": "execute_result"
    }
   ],
   "source": [
    "iswap()\n",
    "q = QubitCircuit(2, reverse_states=False)\n",
    "q.add_gate(\"ISWAP\", targets=[0, 1])\n",
    "q.png"
   ]
  },
  {
   "cell_type": "markdown",
   "id": "755bca94",
   "metadata": {},
   "source": [
    "### SQRTiSWAP"
   ]
  },
  {
   "cell_type": "code",
   "execution_count": 21,
   "id": "dcef1307",
   "metadata": {
    "execution": {
     "iopub.execute_input": "2023-03-15T08:50:48.321472Z",
     "iopub.status.busy": "2023-03-15T08:50:48.320972Z",
     "iopub.status.idle": "2023-03-15T08:50:48.329097Z",
     "shell.execute_reply": "2023-03-15T08:50:48.327750Z"
    }
   },
   "outputs": [
    {
     "data": {
      "text/latex": [
       "Quantum object: dims = [[2, 2], [2, 2]], shape = (4, 4), type = oper, isherm = False $ \\\\ \\left(\\begin{matrix}1.0 & 0.0 & 0.0 & 0.0\\\\0.0 & 0.707 & 0.707j & 0.0\\\\0.0 & 0.707j & 0.707 & 0.0\\\\0.0 & 0.0 & 0.0 & 1.0\\\\\\end{matrix}\\right)$"
      ],
      "text/plain": [
       "Quantum object: dims = [[2, 2], [2, 2]], shape = (4, 4), type = oper, isherm = False\n",
       "Qobj data =\n",
       "[[1.        +0.j         0.        +0.j         0.        +0.j\n",
       "  0.        +0.j        ]\n",
       " [0.        +0.j         0.70710678+0.j         0.        +0.70710678j\n",
       "  0.        +0.j        ]\n",
       " [0.        +0.j         0.        +0.70710678j 0.70710678+0.j\n",
       "  0.        +0.j        ]\n",
       " [0.        +0.j         0.        +0.j         0.        +0.j\n",
       "  1.        +0.j        ]]"
      ]
     },
     "execution_count": 21,
     "metadata": {},
     "output_type": "execute_result"
    }
   ],
   "source": [
    "sqrtiswap()"
   ]
  },
  {
   "cell_type": "markdown",
   "id": "8273d891",
   "metadata": {},
   "source": [
    "### SQRTSWAP"
   ]
  },
  {
   "cell_type": "code",
   "execution_count": 22,
   "id": "d81a10ca",
   "metadata": {
    "execution": {
     "iopub.execute_input": "2023-03-15T08:50:48.331914Z",
     "iopub.status.busy": "2023-03-15T08:50:48.331457Z",
     "iopub.status.idle": "2023-03-15T08:50:48.337564Z",
     "shell.execute_reply": "2023-03-15T08:50:48.336857Z"
    }
   },
   "outputs": [
    {
     "data": {
      "text/latex": [
       "Quantum object: dims = [[2, 2], [2, 2]], shape = (4, 4), type = oper, isherm = False $ \\\\ \\left(\\begin{matrix}1.0 & 0.0 & 0.0 & 0.0\\\\0.0 & (0.500+0.500j) & (0.500-0.500j) & 0.0\\\\0.0 & (0.500-0.500j) & (0.500+0.500j) & 0.0\\\\0.0 & 0.0 & 0.0 & 1.0\\\\\\end{matrix}\\right)$"
      ],
      "text/plain": [
       "Quantum object: dims = [[2, 2], [2, 2]], shape = (4, 4), type = oper, isherm = False\n",
       "Qobj data =\n",
       "[[1. +0.j  0. +0.j  0. +0.j  0. +0.j ]\n",
       " [0. +0.j  0.5+0.5j 0.5-0.5j 0. +0.j ]\n",
       " [0. +0.j  0.5-0.5j 0.5+0.5j 0. +0.j ]\n",
       " [0. +0.j  0. +0.j  0. +0.j  1. +0.j ]]"
      ]
     },
     "execution_count": 22,
     "metadata": {},
     "output_type": "execute_result"
    }
   ],
   "source": [
    "sqrtswap()"
   ]
  },
  {
   "cell_type": "markdown",
   "id": "e9647c47",
   "metadata": {},
   "source": [
    "### SQRTNOT"
   ]
  },
  {
   "cell_type": "code",
   "execution_count": 23,
   "id": "0ec857c4",
   "metadata": {
    "execution": {
     "iopub.execute_input": "2023-03-15T08:50:48.341006Z",
     "iopub.status.busy": "2023-03-15T08:50:48.340515Z",
     "iopub.status.idle": "2023-03-15T08:50:48.345949Z",
     "shell.execute_reply": "2023-03-15T08:50:48.345297Z"
    }
   },
   "outputs": [
    {
     "data": {
      "text/latex": [
       "Quantum object: dims = [[2], [2]], shape = (2, 2), type = oper, isherm = False $ \\\\ \\left(\\begin{matrix}(0.500+0.500j) & (0.500-0.500j)\\\\(0.500-0.500j) & (0.500+0.500j)\\\\\\end{matrix}\\right)$"
      ],
      "text/plain": [
       "Quantum object: dims = [[2], [2]], shape = (2, 2), type = oper, isherm = False\n",
       "Qobj data =\n",
       "[[0.5+0.5j 0.5-0.5j]\n",
       " [0.5-0.5j 0.5+0.5j]]"
      ]
     },
     "execution_count": 23,
     "metadata": {},
     "output_type": "execute_result"
    }
   ],
   "source": [
    "sqrtnot()"
   ]
  },
  {
   "cell_type": "markdown",
   "id": "81b16b13",
   "metadata": {},
   "source": [
    "### HADAMARD"
   ]
  },
  {
   "cell_type": "code",
   "execution_count": 24,
   "id": "8fcb10aa",
   "metadata": {
    "execution": {
     "iopub.execute_input": "2023-03-15T08:50:48.349288Z",
     "iopub.status.busy": "2023-03-15T08:50:48.348912Z",
     "iopub.status.idle": "2023-03-15T08:50:48.354057Z",
     "shell.execute_reply": "2023-03-15T08:50:48.353420Z"
    }
   },
   "outputs": [
    {
     "data": {
      "text/latex": [
       "Quantum object: dims = [[2], [2]], shape = (2, 2), type = oper, isherm = True $ \\\\ \\left(\\begin{matrix}0.707 & 0.707\\\\0.707 & -0.707\\\\\\end{matrix}\\right)$"
      ],
      "text/plain": [
       "Quantum object: dims = [[2], [2]], shape = (2, 2), type = oper, isherm = True\n",
       "Qobj data =\n",
       "[[ 0.70710678  0.70710678]\n",
       " [ 0.70710678 -0.70710678]]"
      ]
     },
     "execution_count": 24,
     "metadata": {},
     "output_type": "execute_result"
    }
   ],
   "source": [
    "snot()"
   ]
  },
  {
   "cell_type": "markdown",
   "id": "35511f77",
   "metadata": {},
   "source": [
    "### PHASEGATE"
   ]
  },
  {
   "cell_type": "code",
   "execution_count": 25,
   "id": "2a8d80a8",
   "metadata": {
    "execution": {
     "iopub.execute_input": "2023-03-15T08:50:48.356648Z",
     "iopub.status.busy": "2023-03-15T08:50:48.356353Z",
     "iopub.status.idle": "2023-03-15T08:50:48.361918Z",
     "shell.execute_reply": "2023-03-15T08:50:48.361256Z"
    }
   },
   "outputs": [
    {
     "data": {
      "text/latex": [
       "Quantum object: dims = [[2], [2]], shape = (2, 2), type = oper, isherm = False $ \\\\ \\left(\\begin{matrix}1.0 & 0.0\\\\0.0 & 1.0j\\\\\\end{matrix}\\right)$"
      ],
      "text/plain": [
       "Quantum object: dims = [[2], [2]], shape = (2, 2), type = oper, isherm = False\n",
       "Qobj data =\n",
       "[[1.000000e+00+0.j 0.000000e+00+0.j]\n",
       " [0.000000e+00+0.j 6.123234e-17+1.j]]"
      ]
     },
     "execution_count": 25,
     "metadata": {},
     "output_type": "execute_result"
    }
   ],
   "source": [
    "phasegate(pi / 2)"
   ]
  },
  {
   "cell_type": "markdown",
   "id": "2acb6ee3",
   "metadata": {},
   "source": [
    "### GLOBALPHASE"
   ]
  },
  {
   "cell_type": "code",
   "execution_count": 26,
   "id": "5c803d66",
   "metadata": {
    "execution": {
     "iopub.execute_input": "2023-03-15T08:50:48.366236Z",
     "iopub.status.busy": "2023-03-15T08:50:48.365397Z",
     "iopub.status.idle": "2023-03-15T08:50:48.373368Z",
     "shell.execute_reply": "2023-03-15T08:50:48.372457Z"
    }
   },
   "outputs": [
    {
     "data": {
      "text/latex": [
       "Quantum object: dims = [[2], [2]], shape = (2, 2), type = oper, isherm = False $ \\\\ \\left(\\begin{matrix}1.0j & 0.0\\\\0.0 & 1.0j\\\\\\end{matrix}\\right)$"
      ],
      "text/plain": [
       "Quantum object: dims = [[2], [2]], shape = (2, 2), type = oper, isherm = False\n",
       "Qobj data =\n",
       "[[6.123234e-17+1.j 0.000000e+00+0.j]\n",
       " [0.000000e+00+0.j 6.123234e-17+1.j]]"
      ]
     },
     "execution_count": 26,
     "metadata": {},
     "output_type": "execute_result"
    }
   ],
   "source": [
    "globalphase(pi / 2)"
   ]
  },
  {
   "cell_type": "markdown",
   "id": "1070000f",
   "metadata": {},
   "source": [
    "### Mølmer–Sørensen gate"
   ]
  },
  {
   "cell_type": "code",
   "execution_count": 27,
   "id": "56f9dc96",
   "metadata": {
    "execution": {
     "iopub.execute_input": "2023-03-15T08:50:48.376177Z",
     "iopub.status.busy": "2023-03-15T08:50:48.375796Z",
     "iopub.status.idle": "2023-03-15T08:50:48.381712Z",
     "shell.execute_reply": "2023-03-15T08:50:48.381036Z"
    }
   },
   "outputs": [
    {
     "data": {
      "text/latex": [
       "Quantum object: dims = [[2, 2], [2, 2]], shape = (4, 4), type = oper, isherm = False $ \\\\ \\left(\\begin{matrix}0.707 & 0.0 & 0.0 & -0.707j\\\\0.0 & 0.707 & -0.707j & 0.0\\\\0.0 & -0.707j & 0.707 & 0.0\\\\-0.707j & 0.0 & 0.0 & 0.707\\\\\\end{matrix}\\right)$"
      ],
      "text/plain": [
       "Quantum object: dims = [[2, 2], [2, 2]], shape = (4, 4), type = oper, isherm = False\n",
       "Qobj data =\n",
       "[[0.70710678+0.j         0.        +0.j         0.        +0.j\n",
       "  0.        -0.70710678j]\n",
       " [0.        +0.j         0.70710678+0.j         0.        -0.70710678j\n",
       "  0.        +0.j        ]\n",
       " [0.        +0.j         0.        -0.70710678j 0.70710678+0.j\n",
       "  0.        +0.j        ]\n",
       " [0.        -0.70710678j 0.        +0.j         0.        +0.j\n",
       "  0.70710678+0.j        ]]"
      ]
     },
     "execution_count": 27,
     "metadata": {},
     "output_type": "execute_result"
    }
   ],
   "source": [
    "molmer_sorensen(pi / 2)"
   ]
  },
  {
   "cell_type": "markdown",
   "id": "857fa4cb",
   "metadata": {},
   "source": [
    "### Qubit rotation gate"
   ]
  },
  {
   "cell_type": "code",
   "execution_count": 28,
   "id": "3dc67ec8",
   "metadata": {
    "execution": {
     "iopub.execute_input": "2023-03-15T08:50:48.384550Z",
     "iopub.status.busy": "2023-03-15T08:50:48.384203Z",
     "iopub.status.idle": "2023-03-15T08:50:48.389537Z",
     "shell.execute_reply": "2023-03-15T08:50:48.388722Z"
    }
   },
   "outputs": [
    {
     "data": {
      "text/latex": [
       "Quantum object: dims = [[2], [2]], shape = (2, 2), type = oper, isherm = False $ \\\\ \\left(\\begin{matrix}0.707 & (-0.500-0.500j)\\\\(0.500-0.500j) & 0.707\\\\\\end{matrix}\\right)$"
      ],
      "text/plain": [
       "Quantum object: dims = [[2], [2]], shape = (2, 2), type = oper, isherm = False\n",
       "Qobj data =\n",
       "[[ 0.70710678+0.j  -0.5       -0.5j]\n",
       " [ 0.5       -0.5j  0.70710678+0.j ]]"
      ]
     },
     "execution_count": 28,
     "metadata": {},
     "output_type": "execute_result"
    }
   ],
   "source": [
    "qrot(pi / 2, pi / 4)"
   ]
  },
  {
   "cell_type": "markdown",
   "id": "fa5544fc",
   "metadata": {},
   "source": [
    "### Expanding gates to larger qubit registers"
   ]
  },
  {
   "cell_type": "markdown",
   "id": "aeb4bd11",
   "metadata": {},
   "source": [
    "The example above show how to generate matrice representations of the gates implemented in QuTiP, in their minimal qubit requirements. If the same gates is to be represented in a qubit register of size $N$, the optional keywork argument `N` can be specified when calling the gate function. For example, to generate the matrix for the CNOT gate for a $N=3$ bit register:"
   ]
  },
  {
   "cell_type": "code",
   "execution_count": 29,
   "id": "81793894",
   "metadata": {
    "execution": {
     "iopub.execute_input": "2023-03-15T08:50:48.392189Z",
     "iopub.status.busy": "2023-03-15T08:50:48.391821Z",
     "iopub.status.idle": "2023-03-15T08:50:48.399528Z",
     "shell.execute_reply": "2023-03-15T08:50:48.398860Z"
    }
   },
   "outputs": [
    {
     "data": {
      "text/latex": [
       "Quantum object: dims = [[2, 2, 2], [2, 2, 2]], shape = (8, 8), type = oper, isherm = True $ \\\\ \\left(\\begin{matrix}1.0 & 0.0 & 0.0 & 0.0 & 0.0 & 0.0 & 0.0 & 0.0\\\\0.0 & 1.0 & 0.0 & 0.0 & 0.0 & 0.0 & 0.0 & 0.0\\\\0.0 & 0.0 & 1.0 & 0.0 & 0.0 & 0.0 & 0.0 & 0.0\\\\0.0 & 0.0 & 0.0 & 1.0 & 0.0 & 0.0 & 0.0 & 0.0\\\\0.0 & 0.0 & 0.0 & 0.0 & 0.0 & 0.0 & 1.0 & 0.0\\\\0.0 & 0.0 & 0.0 & 0.0 & 0.0 & 0.0 & 0.0 & 1.0\\\\0.0 & 0.0 & 0.0 & 0.0 & 1.0 & 0.0 & 0.0 & 0.0\\\\0.0 & 0.0 & 0.0 & 0.0 & 0.0 & 1.0 & 0.0 & 0.0\\\\\\end{matrix}\\right)$"
      ],
      "text/plain": [
       "Quantum object: dims = [[2, 2, 2], [2, 2, 2]], shape = (8, 8), type = oper, isherm = True\n",
       "Qobj data =\n",
       "[[1. 0. 0. 0. 0. 0. 0. 0.]\n",
       " [0. 1. 0. 0. 0. 0. 0. 0.]\n",
       " [0. 0. 1. 0. 0. 0. 0. 0.]\n",
       " [0. 0. 0. 1. 0. 0. 0. 0.]\n",
       " [0. 0. 0. 0. 0. 0. 1. 0.]\n",
       " [0. 0. 0. 0. 0. 0. 0. 1.]\n",
       " [0. 0. 0. 0. 1. 0. 0. 0.]\n",
       " [0. 0. 0. 0. 0. 1. 0. 0.]]"
      ]
     },
     "execution_count": 29,
     "metadata": {},
     "output_type": "execute_result"
    }
   ],
   "source": [
    "cnot(N=3)"
   ]
  },
  {
   "cell_type": "code",
   "execution_count": 30,
   "id": "6d780032",
   "metadata": {
    "execution": {
     "iopub.execute_input": "2023-03-15T08:50:48.402299Z",
     "iopub.status.busy": "2023-03-15T08:50:48.401859Z",
     "iopub.status.idle": "2023-03-15T08:50:48.667888Z",
     "shell.execute_reply": "2023-03-15T08:50:48.667088Z"
    }
   },
   "outputs": [
    {
     "name": "stderr",
     "output_type": "stream",
     "text": [
      "/home/runner/work/qutip-tutorials/qutip-tutorials/qutip-qip/src/qutip_qip/circuit/circuit_latex.py:95: UserWarning: Could not locate system 'pdfcrop': image output may have additional margins.\n",
      "  warnings.warn(\n"
     ]
    },
    {
     "data": {
      "image/png": "[encoded data removed]",
      "text/plain": [
       "<IPython.core.display.Image object>"
      ]
     },
     "execution_count": 30,
     "metadata": {},
     "output_type": "execute_result"
    }
   ],
   "source": [
    "q = QubitCircuit(3, reverse_states=False)\n",
    "q.add_gate(\"CNOT\", controls=[1], targets=[2])\n",
    "q.png"
   ]
  },
  {
   "cell_type": "markdown",
   "id": "4b2d0191",
   "metadata": {},
   "source": [
    "Furthermore, the control and target qubits (when applicable) can also be similarly specified using keyword arguments `control` and `target` (or in some cases `controls` or `targets`):"
   ]
  },
  {
   "cell_type": "code",
   "execution_count": 31,
   "id": "cd0aca08",
   "metadata": {
    "execution": {
     "iopub.execute_input": "2023-03-15T08:50:48.670790Z",
     "iopub.status.busy": "2023-03-15T08:50:48.670524Z",
     "iopub.status.idle": "2023-03-15T08:50:48.681015Z",
     "shell.execute_reply": "2023-03-15T08:50:48.680362Z"
    }
   },
   "outputs": [
    {
     "data": {
      "text/latex": [
       "Quantum object: dims = [[2, 2, 2], [2, 2, 2]], shape = (8, 8), type = oper, isherm = True $ \\\\ \\left(\\begin{matrix}1.0 & 0.0 & 0.0 & 0.0 & 0.0 & 0.0 & 0.0 & 0.0\\\\0.0 & 0.0 & 0.0 & 0.0 & 0.0 & 1.0 & 0.0 & 0.0\\\\0.0 & 0.0 & 1.0 & 0.0 & 0.0 & 0.0 & 0.0 & 0.0\\\\0.0 & 0.0 & 0.0 & 0.0 & 0.0 & 0.0 & 0.0 & 1.0\\\\0.0 & 0.0 & 0.0 & 0.0 & 1.0 & 0.0 & 0.0 & 0.0\\\\0.0 & 1.0 & 0.0 & 0.0 & 0.0 & 0.0 & 0.0 & 0.0\\\\0.0 & 0.0 & 0.0 & 0.0 & 0.0 & 0.0 & 1.0 & 0.0\\\\0.0 & 0.0 & 0.0 & 1.0 & 0.0 & 0.0 & 0.0 & 0.0\\\\\\end{matrix}\\right)$"
      ],
      "text/plain": [
       "Quantum object: dims = [[2, 2, 2], [2, 2, 2]], shape = (8, 8), type = oper, isherm = True\n",
       "Qobj data =\n",
       "[[1. 0. 0. 0. 0. 0. 0. 0.]\n",
       " [0. 0. 0. 0. 0. 1. 0. 0.]\n",
       " [0. 0. 1. 0. 0. 0. 0. 0.]\n",
       " [0. 0. 0. 0. 0. 0. 0. 1.]\n",
       " [0. 0. 0. 0. 1. 0. 0. 0.]\n",
       " [0. 1. 0. 0. 0. 0. 0. 0.]\n",
       " [0. 0. 0. 0. 0. 0. 1. 0.]\n",
       " [0. 0. 0. 1. 0. 0. 0. 0.]]"
      ]
     },
     "execution_count": 31,
     "metadata": {},
     "output_type": "execute_result"
    }
   ],
   "source": [
    "cnot(N=3, control=2, target=0)"
   ]
  },
  {
   "cell_type": "code",
   "execution_count": 32,
   "id": "49bbb208",
   "metadata": {
    "execution": {
     "iopub.execute_input": "2023-03-15T08:50:48.683944Z",
     "iopub.status.busy": "2023-03-15T08:50:48.683340Z",
     "iopub.status.idle": "2023-03-15T08:50:48.944066Z",
     "shell.execute_reply": "2023-03-15T08:50:48.943321Z"
    }
   },
   "outputs": [
    {
     "name": "stderr",
     "output_type": "stream",
     "text": [
      "/home/runner/work/qutip-tutorials/qutip-tutorials/qutip-qip/src/qutip_qip/circuit/circuit_latex.py:95: UserWarning: Could not locate system 'pdfcrop': image output may have additional margins.\n",
      "  warnings.warn(\n"
     ]
    },
    {
     "data": {
      "image/png": "[encoded data removed]",
      "text/plain": [
       "<IPython.core.display.Image object>"
      ]
     },
     "execution_count": 32,
     "metadata": {},
     "output_type": "execute_result"
    }
   ],
   "source": [
    "q = QubitCircuit(3, reverse_states=False)\n",
    "q.add_gate(\"CNOT\", controls=[0], targets=[2])\n",
    "q.png"
   ]
  },
  {
   "cell_type": "markdown",
   "id": "eb33f2e6",
   "metadata": {},
   "source": [
    "## Setup of a Qubit Circuit"
   ]
  },
  {
   "cell_type": "markdown",
   "id": "8d25637e",
   "metadata": {},
   "source": [
    "The gates implemented in QuTiP can be used to build any qubit circuit using the class QubitCircuit. The output can be obtained in the form of a unitary matrix or a latex representation."
   ]
  },
  {
   "cell_type": "markdown",
   "id": "b5f26a06",
   "metadata": {},
   "source": [
    "In the following example, we take a SWAP gate. It is known that a swap gate is equivalent to three CNOT gates applied in the given format."
   ]
  },
  {
   "cell_type": "code",
   "execution_count": 33,
   "id": "cc7e79b7",
   "metadata": {
    "execution": {
     "iopub.execute_input": "2023-03-15T08:50:48.947321Z",
     "iopub.status.busy": "2023-03-15T08:50:48.946930Z",
     "iopub.status.idle": "2023-03-15T08:50:49.199870Z",
     "shell.execute_reply": "2023-03-15T08:50:49.198967Z"
    }
   },
   "outputs": [
    {
     "name": "stderr",
     "output_type": "stream",
     "text": [
      "/home/runner/work/qutip-tutorials/qutip-tutorials/qutip-qip/src/qutip_qip/circuit/circuit_latex.py:95: UserWarning: Could not locate system 'pdfcrop': image output may have additional margins.\n",
      "  warnings.warn(\n"
     ]
    },
    {
     "data": {
      "image/png": "[encoded data removed]",
      "text/plain": [
       "<IPython.core.display.Image object>"
      ]
     },
     "execution_count": 33,
     "metadata": {},
     "output_type": "execute_result"
    }
   ],
   "source": [
    "N = 2\n",
    "qc0 = QubitCircuit(N)\n",
    "qc0.add_gate(\"ISWAP\", [0, 1], None)\n",
    "qc0.png"
   ]
  },
  {
   "cell_type": "code",
   "execution_count": 34,
   "id": "b9106b1c",
   "metadata": {
    "execution": {
     "iopub.execute_input": "2023-03-15T08:50:49.203214Z",
     "iopub.status.busy": "2023-03-15T08:50:49.202770Z",
     "iopub.status.idle": "2023-03-15T08:50:49.211647Z",
     "shell.execute_reply": "2023-03-15T08:50:49.210768Z"
    }
   },
   "outputs": [
    {
     "data": {
      "text/latex": [
       "Quantum object: dims = [[2, 2], [2, 2]], shape = (4, 4), type = oper, isherm = False $ \\\\ \\left(\\begin{matrix}1.0 & 0.0 & 0.0 & 0.0\\\\0.0 & 0.0 & 1.0j & 0.0\\\\0.0 & 1.0j & 0.0 & 0.0\\\\0.0 & 0.0 & 0.0 & 1.0\\\\\\end{matrix}\\right)$"
      ],
      "text/plain": [
       "Quantum object: dims = [[2, 2], [2, 2]], shape = (4, 4), type = oper, isherm = False\n",
       "Qobj data =\n",
       "[[1.+0.j 0.+0.j 0.+0.j 0.+0.j]\n",
       " [0.+0.j 0.+0.j 0.+1.j 0.+0.j]\n",
       " [0.+0.j 0.+1.j 0.+0.j 0.+0.j]\n",
       " [0.+0.j 0.+0.j 0.+0.j 1.+0.j]]"
      ]
     },
     "execution_count": 34,
     "metadata": {},
     "output_type": "execute_result"
    }
   ],
   "source": [
    "U_list0 = qc0.propagators()\n",
    "U0 = gate_sequence_product(U_list0)\n",
    "U0"
   ]
  },
  {
   "cell_type": "code",
   "execution_count": 35,
   "id": "5851de40",
   "metadata": {
    "execution": {
     "iopub.execute_input": "2023-03-15T08:50:49.214784Z",
     "iopub.status.busy": "2023-03-15T08:50:49.214303Z",
     "iopub.status.idle": "2023-03-15T08:50:49.499849Z",
     "shell.execute_reply": "2023-03-15T08:50:49.498896Z"
    }
   },
   "outputs": [
    {
     "name": "stderr",
     "output_type": "stream",
     "text": [
      "/home/runner/work/qutip-tutorials/qutip-tutorials/qutip-qip/src/qutip_qip/circuit/circuit_latex.py:95: UserWarning: Could not locate system 'pdfcrop': image output may have additional margins.\n",
      "  warnings.warn(\n"
     ]
    },
    {
     "data": {
      "image/png": "[encoded data removed]",
      "text/plain": [
       "<IPython.core.display.Image object>"
      ]
     },
     "execution_count": 35,
     "metadata": {},
     "output_type": "execute_result"
    }
   ],
   "source": [
    "qc1 = QubitCircuit(N)\n",
    "qc1.add_gate(\"CNOT\", 0, 1)\n",
    "qc1.add_gate(\"CNOT\", 1, 0)\n",
    "qc1.add_gate(\"CNOT\", 0, 1)\n",
    "qc1.png"
   ]
  },
  {
   "cell_type": "code",
   "execution_count": 36,
   "id": "1c6b0c33",
   "metadata": {
    "execution": {
     "iopub.execute_input": "2023-03-15T08:50:49.503474Z",
     "iopub.status.busy": "2023-03-15T08:50:49.503010Z",
     "iopub.status.idle": "2023-03-15T08:50:49.513024Z",
     "shell.execute_reply": "2023-03-15T08:50:49.512459Z"
    }
   },
   "outputs": [
    {
     "data": {
      "text/latex": [
       "Quantum object: dims = [[2, 2], [2, 2]], shape = (4, 4), type = oper, isherm = True $ \\\\ \\left(\\begin{matrix}1.0 & 0.0 & 0.0 & 0.0\\\\0.0 & 0.0 & 1.0 & 0.0\\\\0.0 & 1.0 & 0.0 & 0.0\\\\0.0 & 0.0 & 0.0 & 1.0\\\\\\end{matrix}\\right)$"
      ],
      "text/plain": [
       "Quantum object: dims = [[2, 2], [2, 2]], shape = (4, 4), type = oper, isherm = True\n",
       "Qobj data =\n",
       "[[1. 0. 0. 0.]\n",
       " [0. 0. 1. 0.]\n",
       " [0. 1. 0. 0.]\n",
       " [0. 0. 0. 1.]]"
      ]
     },
     "execution_count": 36,
     "metadata": {},
     "output_type": "execute_result"
    }
   ],
   "source": [
    "U_list1 = qc1.propagators()\n",
    "U1 = gate_sequence_product(U_list1)\n",
    "U1"
   ]
  },
  {
   "cell_type": "markdown",
   "id": "f6b8ca97",
   "metadata": {},
   "source": [
    "In place of manually converting the SWAP gate to CNOTs, it can be automatically converted using an inbuilt function in QubitCircuit"
   ]
  },
  {
   "cell_type": "code",
   "execution_count": 37,
   "id": "2de820f5",
   "metadata": {
    "execution": {
     "iopub.execute_input": "2023-03-15T08:50:49.516330Z",
     "iopub.status.busy": "2023-03-15T08:50:49.515970Z",
     "iopub.status.idle": "2023-03-15T08:50:49.889164Z",
     "shell.execute_reply": "2023-03-15T08:50:49.888521Z"
    }
   },
   "outputs": [
    {
     "name": "stderr",
     "output_type": "stream",
     "text": [
      "/home/runner/work/qutip-tutorials/qutip-tutorials/qutip-qip/src/qutip_qip/circuit/circuit_latex.py:95: UserWarning: Could not locate system 'pdfcrop': image output may have additional margins.\n",
      "  warnings.warn(\n"
     ]
    },
    {
     "data": {
      "image/png": "[encoded data removed]",
      "text/plain": [
       "<IPython.core.display.Image object>"
      ]
     },
     "execution_count": 37,
     "metadata": {},
     "output_type": "execute_result"
    }
   ],
   "source": [
    "qc2 = qc0.resolve_gates(\"CNOT\")\n",
    "qc2.png"
   ]
  },
  {
   "cell_type": "code",
   "execution_count": 38,
   "id": "56c5712c",
   "metadata": {
    "execution": {
     "iopub.execute_input": "2023-03-15T08:50:49.892255Z",
     "iopub.status.busy": "2023-03-15T08:50:49.891786Z",
     "iopub.status.idle": "2023-03-15T08:50:49.906843Z",
     "shell.execute_reply": "2023-03-15T08:50:49.906115Z"
    }
   },
   "outputs": [
    {
     "data": {
      "text/latex": [
       "Quantum object: dims = [[2, 2], [2, 2]], shape = (4, 4), type = oper, isherm = False $ \\\\ \\left(\\begin{matrix}1.0 & 0.0 & 0.0 & 0.0\\\\0.0 & 0.0 & 1.0j & 0.0\\\\0.0 & 1.0j & 0.0 & 0.0\\\\0.0 & 0.0 & 0.0 & 1.0\\\\\\end{matrix}\\right)$"
      ],
      "text/plain": [
       "Quantum object: dims = [[2, 2], [2, 2]], shape = (4, 4), type = oper, isherm = False\n",
       "Qobj data =\n",
       "[[1.+0.j 0.+0.j 0.+0.j 0.+0.j]\n",
       " [0.+0.j 0.+0.j 0.+1.j 0.+0.j]\n",
       " [0.+0.j 0.+1.j 0.+0.j 0.+0.j]\n",
       " [0.+0.j 0.+0.j 0.+0.j 1.+0.j]]"
      ]
     },
     "execution_count": 38,
     "metadata": {},
     "output_type": "execute_result"
    }
   ],
   "source": [
    "U_list2 = qc2.propagators()\n",
    "U2 = gate_sequence_product(U_list2)\n",
    "U2"
   ]
  },
  {
   "cell_type": "markdown",
   "id": "8de63bfc",
   "metadata": {},
   "source": [
    "From QuTiP 4.4, we can also add gate at arbitrary position in a circuit."
   ]
  },
  {
   "cell_type": "code",
   "execution_count": 39,
   "id": "c4af44dc",
   "metadata": {
    "execution": {
     "iopub.execute_input": "2023-03-15T08:50:49.909496Z",
     "iopub.status.busy": "2023-03-15T08:50:49.909069Z",
     "iopub.status.idle": "2023-03-15T08:50:50.208059Z",
     "shell.execute_reply": "2023-03-15T08:50:50.207314Z"
    }
   },
   "outputs": [
    {
     "name": "stderr",
     "output_type": "stream",
     "text": [
      "/home/runner/work/qutip-tutorials/qutip-tutorials/qutip-qip/src/qutip_qip/circuit/circuit_latex.py:95: UserWarning: Could not locate system 'pdfcrop': image output may have additional margins.\n",
      "  warnings.warn(\n"
     ]
    },
    {
     "data": {
      "image/png": "[encoded data removed]",
      "text/plain": [
       "<IPython.core.display.Image object>"
      ]
     },
     "execution_count": 39,
     "metadata": {},
     "output_type": "execute_result"
    }
   ],
   "source": [
    "qc1.add_gate(\"CSIGN\", index=[1], targets=[0], controls=[1])\n",
    "qc1.png"
   ]
  },
  {
   "cell_type": "markdown",
   "id": "f71b9c25",
   "metadata": {},
   "source": [
    "## Example of basis transformation"
   ]
  },
  {
   "cell_type": "code",
   "execution_count": 40,
   "id": "cd20eea8",
   "metadata": {
    "execution": {
     "iopub.execute_input": "2023-03-15T08:50:50.211413Z",
     "iopub.status.busy": "2023-03-15T08:50:50.210628Z",
     "iopub.status.idle": "2023-03-15T08:50:50.539860Z",
     "shell.execute_reply": "2023-03-15T08:50:50.538885Z"
    }
   },
   "outputs": [
    {
     "name": "stderr",
     "output_type": "stream",
     "text": [
      "/home/runner/work/qutip-tutorials/qutip-tutorials/qutip-qip/src/qutip_qip/circuit/circuit_latex.py:95: UserWarning: Could not locate system 'pdfcrop': image output may have additional margins.\n",
      "  warnings.warn(\n"
     ]
    },
    {
     "data": {
      "image/png": "[encoded data removed]",
      "text/plain": [
       "<IPython.core.display.Image object>"
      ]
     },
     "execution_count": 40,
     "metadata": {},
     "output_type": "execute_result"
    }
   ],
   "source": [
    "qc3 = QubitCircuit(3)\n",
    "qc3.add_gate(\"CNOT\", 1, 0)\n",
    "qc3.add_gate(\"RX\", 0, None, pi / 2, r\"\\pi/2\")\n",
    "qc3.add_gate(\"RY\", 1, None, pi / 2, r\"\\pi/2\")\n",
    "qc3.add_gate(\"RZ\", 2, None, pi / 2, r\"\\pi/2\")\n",
    "qc3.add_gate(\"ISWAP\", [1, 2])\n",
    "qc3.png"
   ]
  },
  {
   "cell_type": "code",
   "execution_count": 41,
   "id": "0fd26d80",
   "metadata": {
    "execution": {
     "iopub.execute_input": "2023-03-15T08:50:50.543158Z",
     "iopub.status.busy": "2023-03-15T08:50:50.542673Z",
     "iopub.status.idle": "2023-03-15T08:50:50.557507Z",
     "shell.execute_reply": "2023-03-15T08:50:50.556909Z"
    }
   },
   "outputs": [
    {
     "data": {
      "text/latex": [
       "Quantum object: dims = [[2, 2, 2], [2, 2, 2]], shape = (8, 8), type = oper, isherm = False $ \\\\ \\left(\\begin{matrix}(0.354-0.354j) & 0.0 & (-0.354+0.354j) & 0.0 & (0.354+0.354j) & 0.0 & (-0.354-0.354j) & 0.0\\\\(0.354+0.354j) & 0.0 & (0.354+0.354j) & 0.0 & (0.354-0.354j) & 0.0 & (0.354-0.354j) & 0.0\\\\0.0 & (-0.354+0.354j) & 0.0 & (0.354-0.354j) & 0.0 & (-0.354-0.354j) & 0.0 & (0.354+0.354j)\\\\0.0 & (0.354+0.354j) & 0.0 & (0.354+0.354j) & 0.0 & (0.354-0.354j) & 0.0 & (0.354-0.354j)\\\\(-0.354-0.354j) & 0.0 & (0.354+0.354j) & 0.0 & (-0.354+0.354j) & 0.0 & (0.354-0.354j) & 0.0\\\\(0.354-0.354j) & 0.0 & (0.354-0.354j) & 0.0 & (0.354+0.354j) & 0.0 & (0.354+0.354j) & 0.0\\\\0.0 & (0.354+0.354j) & 0.0 & (-0.354-0.354j) & 0.0 & (0.354-0.354j) & 0.0 & (-0.354+0.354j)\\\\0.0 & (0.354-0.354j) & 0.0 & (0.354-0.354j) & 0.0 & (0.354+0.354j) & 0.0 & (0.354+0.354j)\\\\\\end{matrix}\\right)$"
      ],
      "text/plain": [
       "Quantum object: dims = [[2, 2, 2], [2, 2, 2]], shape = (8, 8), type = oper, isherm = False\n",
       "Qobj data =\n",
       "[[ 0.35355339-0.35355339j  0.        +0.j         -0.35355339+0.35355339j\n",
       "   0.        +0.j          0.35355339+0.35355339j  0.        +0.j\n",
       "  -0.35355339-0.35355339j  0.        +0.j        ]\n",
       " [ 0.35355339+0.35355339j  0.        +0.j          0.35355339+0.35355339j\n",
       "   0.        +0.j          0.35355339-0.35355339j  0.        +0.j\n",
       "   0.35355339-0.35355339j  0.        +0.j        ]\n",
       " [ 0.        +0.j         -0.35355339+0.35355339j  0.        +0.j\n",
       "   0.35355339-0.35355339j  0.        +0.j         -0.35355339-0.35355339j\n",
       "   0.        +0.j          0.35355339+0.35355339j]\n",
       " [ 0.        +0.j          0.35355339+0.35355339j  0.        +0.j\n",
       "   0.35355339+0.35355339j  0.        +0.j          0.35355339-0.35355339j\n",
       "   0.        +0.j          0.35355339-0.35355339j]\n",
       " [-0.35355339-0.35355339j  0.        +0.j          0.35355339+0.35355339j\n",
       "   0.        +0.j         -0.35355339+0.35355339j  0.        +0.j\n",
       "   0.35355339-0.35355339j  0.        +0.j        ]\n",
       " [ 0.35355339-0.35355339j  0.        +0.j          0.35355339-0.35355339j\n",
       "   0.        +0.j          0.35355339+0.35355339j  0.        +0.j\n",
       "   0.35355339+0.35355339j  0.        +0.j        ]\n",
       " [ 0.        +0.j          0.35355339+0.35355339j  0.        +0.j\n",
       "  -0.35355339-0.35355339j  0.        +0.j          0.35355339-0.35355339j\n",
       "   0.        +0.j         -0.35355339+0.35355339j]\n",
       " [ 0.        +0.j          0.35355339-0.35355339j  0.        +0.j\n",
       "   0.35355339-0.35355339j  0.        +0.j          0.35355339+0.35355339j\n",
       "   0.        +0.j          0.35355339+0.35355339j]]"
      ]
     },
     "execution_count": 41,
     "metadata": {},
     "output_type": "execute_result"
    }
   ],
   "source": [
    "U3 = gate_sequence_product(qc3.propagators())\n",
    "U3"
   ]
  },
  {
   "cell_type": "markdown",
   "id": "9bfbdee8",
   "metadata": {},
   "source": [
    "### The transformation can either be only in terms of 2-qubit gates:"
   ]
  },
  {
   "cell_type": "code",
   "execution_count": 42,
   "id": "0f445ea0",
   "metadata": {
    "execution": {
     "iopub.execute_input": "2023-03-15T08:50:50.560768Z",
     "iopub.status.busy": "2023-03-15T08:50:50.560243Z",
     "iopub.status.idle": "2023-03-15T08:50:51.041311Z",
     "shell.execute_reply": "2023-03-15T08:50:51.040378Z"
    }
   },
   "outputs": [
    {
     "name": "stderr",
     "output_type": "stream",
     "text": [
      "/home/runner/work/qutip-tutorials/qutip-tutorials/qutip-qip/src/qutip_qip/circuit/circuit_latex.py:95: UserWarning: Could not locate system 'pdfcrop': image output may have additional margins.\n",
      "  warnings.warn(\n"
     ]
    },
    {
     "data": {
      "image/png": "[encoded data removed]",
      "text/plain": [
       "<IPython.core.display.Image object>"
      ]
     },
     "execution_count": 42,
     "metadata": {},
     "output_type": "execute_result"
    }
   ],
   "source": [
    "qc4 = qc3.resolve_gates(\"CNOT\")\n",
    "qc4.png"
   ]
  },
  {
   "cell_type": "code",
   "execution_count": 43,
   "id": "c93153dc",
   "metadata": {
    "execution": {
     "iopub.execute_input": "2023-03-15T08:50:51.048325Z",
     "iopub.status.busy": "2023-03-15T08:50:51.047835Z",
     "iopub.status.idle": "2023-03-15T08:50:51.073320Z",
     "shell.execute_reply": "2023-03-15T08:50:51.072697Z"
    }
   },
   "outputs": [
    {
     "data": {
      "text/latex": [
       "Quantum object: dims = [[2, 2, 2], [2, 2, 2]], shape = (8, 8), type = oper, isherm = False $ \\\\ \\left(\\begin{matrix}(0.354-0.354j) & 0.0 & (-0.354+0.354j) & 0.0 & (0.354+0.354j) & 0.0 & (-0.354-0.354j) & 0.0\\\\(0.354+0.354j) & 0.0 & (0.354+0.354j) & 0.0 & (0.354-0.354j) & 0.0 & (0.354-0.354j) & 0.0\\\\0.0 & (-0.354+0.354j) & 0.0 & (0.354-0.354j) & 0.0 & (-0.354-0.354j) & 0.0 & (0.354+0.354j)\\\\0.0 & (0.354+0.354j) & 0.0 & (0.354+0.354j) & 0.0 & (0.354-0.354j) & 0.0 & (0.354-0.354j)\\\\(-0.354-0.354j) & 0.0 & (0.354+0.354j) & 0.0 & (-0.354+0.354j) & 0.0 & (0.354-0.354j) & 0.0\\\\(0.354-0.354j) & 0.0 & (0.354-0.354j) & 0.0 & (0.354+0.354j) & 0.0 & (0.354+0.354j) & 0.0\\\\0.0 & (0.354+0.354j) & 0.0 & (-0.354-0.354j) & 0.0 & (0.354-0.354j) & 0.0 & (-0.354+0.354j)\\\\0.0 & (0.354-0.354j) & 0.0 & (0.354-0.354j) & 0.0 & (0.354+0.354j) & 0.0 & (0.354+0.354j)\\\\\\end{matrix}\\right)$"
      ],
      "text/plain": [
       "Quantum object: dims = [[2, 2, 2], [2, 2, 2]], shape = (8, 8), type = oper, isherm = False\n",
       "Qobj data =\n",
       "[[ 0.35355339-0.35355339j  0.        +0.j         -0.35355339+0.35355339j\n",
       "   0.        +0.j          0.35355339+0.35355339j  0.        +0.j\n",
       "  -0.35355339-0.35355339j  0.        +0.j        ]\n",
       " [ 0.35355339+0.35355339j  0.        +0.j          0.35355339+0.35355339j\n",
       "   0.        +0.j          0.35355339-0.35355339j  0.        +0.j\n",
       "   0.35355339-0.35355339j  0.        +0.j        ]\n",
       " [ 0.        +0.j         -0.35355339+0.35355339j  0.        +0.j\n",
       "   0.35355339-0.35355339j  0.        +0.j         -0.35355339-0.35355339j\n",
       "   0.        +0.j          0.35355339+0.35355339j]\n",
       " [ 0.        +0.j          0.35355339+0.35355339j  0.        +0.j\n",
       "   0.35355339+0.35355339j  0.        +0.j          0.35355339-0.35355339j\n",
       "   0.        +0.j          0.35355339-0.35355339j]\n",
       " [-0.35355339-0.35355339j  0.        +0.j          0.35355339+0.35355339j\n",
       "   0.        +0.j         -0.35355339+0.35355339j  0.        +0.j\n",
       "   0.35355339-0.35355339j  0.        +0.j        ]\n",
       " [ 0.35355339-0.35355339j  0.        +0.j          0.35355339-0.35355339j\n",
       "   0.        +0.j          0.35355339+0.35355339j  0.        +0.j\n",
       "   0.35355339+0.35355339j  0.        +0.j        ]\n",
       " [ 0.        +0.j          0.35355339+0.35355339j  0.        +0.j\n",
       "  -0.35355339-0.35355339j  0.        +0.j          0.35355339-0.35355339j\n",
       "   0.        +0.j         -0.35355339+0.35355339j]\n",
       " [ 0.        +0.j          0.35355339-0.35355339j  0.        +0.j\n",
       "   0.35355339-0.35355339j  0.        +0.j          0.35355339+0.35355339j\n",
       "   0.        +0.j          0.35355339+0.35355339j]]"
      ]
     },
     "execution_count": 43,
     "metadata": {},
     "output_type": "execute_result"
    }
   ],
   "source": [
    "U4 = gate_sequence_product(qc4.propagators())\n",
    "U4"
   ]
  },
  {
   "cell_type": "code",
   "execution_count": 44,
   "id": "f8a1788c",
   "metadata": {
    "execution": {
     "iopub.execute_input": "2023-03-15T08:50:51.076156Z",
     "iopub.status.busy": "2023-03-15T08:50:51.075903Z",
     "iopub.status.idle": "2023-03-15T08:50:51.479874Z",
     "shell.execute_reply": "2023-03-15T08:50:51.479078Z"
    }
   },
   "outputs": [
    {
     "name": "stderr",
     "output_type": "stream",
     "text": [
      "/home/runner/work/qutip-tutorials/qutip-tutorials/qutip-qip/src/qutip_qip/circuit/circuit_latex.py:95: UserWarning: Could not locate system 'pdfcrop': image output may have additional margins.\n",
      "  warnings.warn(\n"
     ]
    },
    {
     "data": {
      "image/png": "[encoded data removed]",
      "text/plain": [
       "<IPython.core.display.Image object>"
      ]
     },
     "execution_count": 44,
     "metadata": {},
     "output_type": "execute_result"
    }
   ],
   "source": [
    "qc5 = qc3.resolve_gates(\"ISWAP\")\n",
    "qc5.png"
   ]
  },
  {
   "cell_type": "code",
   "execution_count": 45,
   "id": "6434cfe2",
   "metadata": {
    "execution": {
     "iopub.execute_input": "2023-03-15T08:50:51.482915Z",
     "iopub.status.busy": "2023-03-15T08:50:51.482664Z",
     "iopub.status.idle": "2023-03-15T08:50:51.504669Z",
     "shell.execute_reply": "2023-03-15T08:50:51.503908Z"
    }
   },
   "outputs": [
    {
     "data": {
      "text/latex": [
       "Quantum object: dims = [[2, 2, 2], [2, 2, 2]], shape = (8, 8), type = oper, isherm = False $ \\\\ \\left(\\begin{matrix}(0.354-0.354j) & 0.0 & (-0.354+0.354j) & 0.0 & (0.354+0.354j) & 0.0 & (-0.354-0.354j) & 0.0\\\\(0.354+0.354j) & 0.0 & (0.354+0.354j) & 0.0 & (0.354-0.354j) & 0.0 & (0.354-0.354j) & 0.0\\\\0.0 & (-0.354+0.354j) & 0.0 & (0.354-0.354j) & 0.0 & (-0.354-0.354j) & 0.0 & (0.354+0.354j)\\\\0.0 & (0.354+0.354j) & 0.0 & (0.354+0.354j) & 0.0 & (0.354-0.354j) & 0.0 & (0.354-0.354j)\\\\(-0.354-0.354j) & 0.0 & (0.354+0.354j) & 0.0 & (-0.354+0.354j) & 0.0 & (0.354-0.354j) & 0.0\\\\(0.354-0.354j) & 0.0 & (0.354-0.354j) & 0.0 & (0.354+0.354j) & 0.0 & (0.354+0.354j) & 0.0\\\\0.0 & (0.354+0.354j) & 0.0 & (-0.354-0.354j) & 0.0 & (0.354-0.354j) & 0.0 & (-0.354+0.354j)\\\\0.0 & (0.354-0.354j) & 0.0 & (0.354-0.354j) & 0.0 & (0.354+0.354j) & 0.0 & (0.354+0.354j)\\\\\\end{matrix}\\right)$"
      ],
      "text/plain": [
       "Quantum object: dims = [[2, 2, 2], [2, 2, 2]], shape = (8, 8), type = oper, isherm = False\n",
       "Qobj data =\n",
       "[[ 0.35355339-0.35355339j  0.        +0.j         -0.35355339+0.35355339j\n",
       "   0.        +0.j          0.35355339+0.35355339j  0.        +0.j\n",
       "  -0.35355339-0.35355339j  0.        +0.j        ]\n",
       " [ 0.35355339+0.35355339j  0.        +0.j          0.35355339+0.35355339j\n",
       "   0.        +0.j          0.35355339-0.35355339j  0.        +0.j\n",
       "   0.35355339-0.35355339j  0.        +0.j        ]\n",
       " [ 0.        +0.j         -0.35355339+0.35355339j  0.        +0.j\n",
       "   0.35355339-0.35355339j  0.        +0.j         -0.35355339-0.35355339j\n",
       "   0.        +0.j          0.35355339+0.35355339j]\n",
       " [ 0.        +0.j          0.35355339+0.35355339j  0.        +0.j\n",
       "   0.35355339+0.35355339j  0.        +0.j          0.35355339-0.35355339j\n",
       "   0.        +0.j          0.35355339-0.35355339j]\n",
       " [-0.35355339-0.35355339j  0.        +0.j          0.35355339+0.35355339j\n",
       "   0.        +0.j         -0.35355339+0.35355339j  0.        +0.j\n",
       "   0.35355339-0.35355339j  0.        +0.j        ]\n",
       " [ 0.35355339-0.35355339j  0.        +0.j          0.35355339-0.35355339j\n",
       "   0.        +0.j          0.35355339+0.35355339j  0.        +0.j\n",
       "   0.35355339+0.35355339j  0.        +0.j        ]\n",
       " [ 0.        +0.j          0.35355339+0.35355339j  0.        +0.j\n",
       "  -0.35355339-0.35355339j  0.        +0.j          0.35355339-0.35355339j\n",
       "   0.        +0.j         -0.35355339+0.35355339j]\n",
       " [ 0.        +0.j          0.35355339-0.35355339j  0.        +0.j\n",
       "   0.35355339-0.35355339j  0.        +0.j          0.35355339+0.35355339j\n",
       "   0.        +0.j          0.35355339+0.35355339j]]"
      ]
     },
     "execution_count": 45,
     "metadata": {},
     "output_type": "execute_result"
    }
   ],
   "source": [
    "U5 = gate_sequence_product(qc5.propagators())\n",
    "U5"
   ]
  },
  {
   "cell_type": "markdown",
   "id": "bdf1dbab",
   "metadata": {},
   "source": [
    "### Or the transformation can be in terms of any 2 single qubit rotation gates along with the 2-qubit gate."
   ]
  },
  {
   "cell_type": "code",
   "execution_count": 46,
   "id": "7b70052e",
   "metadata": {
    "execution": {
     "iopub.execute_input": "2023-03-15T08:50:51.507838Z",
     "iopub.status.busy": "2023-03-15T08:50:51.507418Z",
     "iopub.status.idle": "2023-03-15T08:50:51.997789Z",
     "shell.execute_reply": "2023-03-15T08:50:51.996740Z"
    }
   },
   "outputs": [
    {
     "name": "stderr",
     "output_type": "stream",
     "text": [
      "/home/runner/work/qutip-tutorials/qutip-tutorials/qutip-qip/src/qutip_qip/circuit/circuit_latex.py:95: UserWarning: Could not locate system 'pdfcrop': image output may have additional margins.\n",
      "  warnings.warn(\n"
     ]
    },
    {
     "data": {
      "image/png": "[encoded data removed]",
      "text/plain": [
       "<IPython.core.display.Image object>"
      ]
     },
     "execution_count": 46,
     "metadata": {},
     "output_type": "execute_result"
    }
   ],
   "source": [
    "qc6 = qc3.resolve_gates([\"ISWAP\", \"RX\", \"RY\"])\n",
    "qc6.png"
   ]
  },
  {
   "cell_type": "code",
   "execution_count": 47,
   "id": "9cb57ff2",
   "metadata": {
    "execution": {
     "iopub.execute_input": "2023-03-15T08:50:52.001724Z",
     "iopub.status.busy": "2023-03-15T08:50:52.000402Z",
     "iopub.status.idle": "2023-03-15T08:50:52.031121Z",
     "shell.execute_reply": "2023-03-15T08:50:52.030403Z"
    }
   },
   "outputs": [
    {
     "data": {
      "text/latex": [
       "Quantum object: dims = [[2, 2, 2], [2, 2, 2]], shape = (8, 8), type = oper, isherm = False $ \\\\ \\left(\\begin{matrix}(0.354-0.354j) & 0.0 & (-0.354+0.354j) & 0.0 & (0.354+0.354j) & 0.0 & (-0.354-0.354j) & 0.0\\\\(0.354+0.354j) & 0.0 & (0.354+0.354j) & 0.0 & (0.354-0.354j) & 0.0 & (0.354-0.354j) & 0.0\\\\0.0 & (-0.354+0.354j) & 0.0 & (0.354-0.354j) & 0.0 & (-0.354-0.354j) & 0.0 & (0.354+0.354j)\\\\0.0 & (0.354+0.354j) & 0.0 & (0.354+0.354j) & 0.0 & (0.354-0.354j) & 0.0 & (0.354-0.354j)\\\\(-0.354-0.354j) & 0.0 & (0.354+0.354j) & 0.0 & (-0.354+0.354j) & 0.0 & (0.354-0.354j) & 0.0\\\\(0.354-0.354j) & 0.0 & (0.354-0.354j) & 0.0 & (0.354+0.354j) & 0.0 & (0.354+0.354j) & 0.0\\\\0.0 & (0.354+0.354j) & 0.0 & (-0.354-0.354j) & 0.0 & (0.354-0.354j) & 0.0 & (-0.354+0.354j)\\\\0.0 & (0.354-0.354j) & 0.0 & (0.354-0.354j) & 0.0 & (0.354+0.354j) & 0.0 & (0.354+0.354j)\\\\\\end{matrix}\\right)$"
      ],
      "text/plain": [
       "Quantum object: dims = [[2, 2, 2], [2, 2, 2]], shape = (8, 8), type = oper, isherm = False\n",
       "Qobj data =\n",
       "[[ 0.35355339-0.35355339j  0.        +0.j         -0.35355339+0.35355339j\n",
       "   0.        +0.j          0.35355339+0.35355339j  0.        +0.j\n",
       "  -0.35355339-0.35355339j  0.        +0.j        ]\n",
       " [ 0.35355339+0.35355339j  0.        +0.j          0.35355339+0.35355339j\n",
       "   0.        +0.j          0.35355339-0.35355339j  0.        +0.j\n",
       "   0.35355339-0.35355339j  0.        +0.j        ]\n",
       " [ 0.        +0.j         -0.35355339+0.35355339j  0.        +0.j\n",
       "   0.35355339-0.35355339j  0.        +0.j         -0.35355339-0.35355339j\n",
       "   0.        +0.j          0.35355339+0.35355339j]\n",
       " [ 0.        +0.j          0.35355339+0.35355339j  0.        +0.j\n",
       "   0.35355339+0.35355339j  0.        +0.j          0.35355339-0.35355339j\n",
       "   0.        +0.j          0.35355339-0.35355339j]\n",
       " [-0.35355339-0.35355339j  0.        +0.j          0.35355339+0.35355339j\n",
       "   0.        +0.j         -0.35355339+0.35355339j  0.        +0.j\n",
       "   0.35355339-0.35355339j  0.        +0.j        ]\n",
       " [ 0.35355339-0.35355339j  0.        +0.j          0.35355339-0.35355339j\n",
       "   0.        +0.j          0.35355339+0.35355339j  0.        +0.j\n",
       "   0.35355339+0.35355339j  0.        +0.j        ]\n",
       " [ 0.        +0.j          0.35355339+0.35355339j  0.        +0.j\n",
       "  -0.35355339-0.35355339j  0.        +0.j          0.35355339-0.35355339j\n",
       "   0.        +0.j         -0.35355339+0.35355339j]\n",
       " [ 0.        +0.j          0.35355339-0.35355339j  0.        +0.j\n",
       "   0.35355339-0.35355339j  0.        +0.j          0.35355339+0.35355339j\n",
       "   0.        +0.j          0.35355339+0.35355339j]]"
      ]
     },
     "execution_count": 47,
     "metadata": {},
     "output_type": "execute_result"
    }
   ],
   "source": [
    "U6 = gate_sequence_product(qc6.propagators())\n",
    "U6"
   ]
  },
  {
   "cell_type": "code",
   "execution_count": 48,
   "id": "0913cb95",
   "metadata": {
    "execution": {
     "iopub.execute_input": "2023-03-15T08:50:52.035261Z",
     "iopub.status.busy": "2023-03-15T08:50:52.034863Z",
     "iopub.status.idle": "2023-03-15T08:50:52.591024Z",
     "shell.execute_reply": "2023-03-15T08:50:52.590163Z"
    }
   },
   "outputs": [
    {
     "name": "stderr",
     "output_type": "stream",
     "text": [
      "/home/runner/work/qutip-tutorials/qutip-tutorials/qutip-qip/src/qutip_qip/circuit/circuit_latex.py:95: UserWarning: Could not locate system 'pdfcrop': image output may have additional margins.\n",
      "  warnings.warn(\n"
     ]
    },
    {
     "data": {
      "image/png": "[encoded data removed]",
      "text/plain": [
       "<IPython.core.display.Image object>"
      ]
     },
     "execution_count": 48,
     "metadata": {},
     "output_type": "execute_result"
    }
   ],
   "source": [
    "qc7 = qc3.resolve_gates([\"CNOT\", \"RZ\", \"RX\"])\n",
    "qc7.png"
   ]
  },
  {
   "cell_type": "code",
   "execution_count": 49,
   "id": "09e16a30",
   "metadata": {
    "execution": {
     "iopub.execute_input": "2023-03-15T08:50:52.594310Z",
     "iopub.status.busy": "2023-03-15T08:50:52.593705Z",
     "iopub.status.idle": "2023-03-15T08:50:52.624416Z",
     "shell.execute_reply": "2023-03-15T08:50:52.623785Z"
    }
   },
   "outputs": [
    {
     "data": {
      "text/latex": [
       "Quantum object: dims = [[2, 2, 2], [2, 2, 2]], shape = (8, 8), type = oper, isherm = False $ \\\\ \\left(\\begin{matrix}(0.354-0.354j) & 0.0 & (-0.354+0.354j) & 0.0 & (0.354+0.354j) & 0.0 & (-0.354-0.354j) & 0.0\\\\(0.354+0.354j) & 0.0 & (0.354+0.354j) & 0.0 & (0.354-0.354j) & 0.0 & (0.354-0.354j) & 0.0\\\\0.0 & (-0.354+0.354j) & 0.0 & (0.354-0.354j) & 0.0 & (-0.354-0.354j) & 0.0 & (0.354+0.354j)\\\\0.0 & (0.354+0.354j) & 0.0 & (0.354+0.354j) & 0.0 & (0.354-0.354j) & 0.0 & (0.354-0.354j)\\\\(-0.354-0.354j) & 0.0 & (0.354+0.354j) & 0.0 & (-0.354+0.354j) & 0.0 & (0.354-0.354j) & 0.0\\\\(0.354-0.354j) & 0.0 & (0.354-0.354j) & 0.0 & (0.354+0.354j) & 0.0 & (0.354+0.354j) & 0.0\\\\0.0 & (0.354+0.354j) & 0.0 & (-0.354-0.354j) & 0.0 & (0.354-0.354j) & 0.0 & (-0.354+0.354j)\\\\0.0 & (0.354-0.354j) & 0.0 & (0.354-0.354j) & 0.0 & (0.354+0.354j) & 0.0 & (0.354+0.354j)\\\\\\end{matrix}\\right)$"
      ],
      "text/plain": [
       "Quantum object: dims = [[2, 2, 2], [2, 2, 2]], shape = (8, 8), type = oper, isherm = False\n",
       "Qobj data =\n",
       "[[ 0.35355339-0.35355339j  0.        +0.j         -0.35355339+0.35355339j\n",
       "   0.        +0.j          0.35355339+0.35355339j  0.        +0.j\n",
       "  -0.35355339-0.35355339j  0.        +0.j        ]\n",
       " [ 0.35355339+0.35355339j  0.        +0.j          0.35355339+0.35355339j\n",
       "   0.        +0.j          0.35355339-0.35355339j  0.        +0.j\n",
       "   0.35355339-0.35355339j  0.        +0.j        ]\n",
       " [ 0.        +0.j         -0.35355339+0.35355339j  0.        +0.j\n",
       "   0.35355339-0.35355339j  0.        +0.j         -0.35355339-0.35355339j\n",
       "   0.        +0.j          0.35355339+0.35355339j]\n",
       " [ 0.        +0.j          0.35355339+0.35355339j  0.        +0.j\n",
       "   0.35355339+0.35355339j  0.        +0.j          0.35355339-0.35355339j\n",
       "   0.        +0.j          0.35355339-0.35355339j]\n",
       " [-0.35355339-0.35355339j  0.        +0.j          0.35355339+0.35355339j\n",
       "   0.        +0.j         -0.35355339+0.35355339j  0.        +0.j\n",
       "   0.35355339-0.35355339j  0.        +0.j        ]\n",
       " [ 0.35355339-0.35355339j  0.        +0.j          0.35355339-0.35355339j\n",
       "   0.        +0.j          0.35355339+0.35355339j  0.        +0.j\n",
       "   0.35355339+0.35355339j  0.        +0.j        ]\n",
       " [ 0.        +0.j          0.35355339+0.35355339j  0.        +0.j\n",
       "  -0.35355339-0.35355339j  0.        +0.j          0.35355339-0.35355339j\n",
       "   0.        +0.j         -0.35355339+0.35355339j]\n",
       " [ 0.        +0.j          0.35355339-0.35355339j  0.        +0.j\n",
       "   0.35355339-0.35355339j  0.        +0.j          0.35355339+0.35355339j\n",
       "   0.        +0.j          0.35355339+0.35355339j]]"
      ]
     },
     "execution_count": 49,
     "metadata": {},
     "output_type": "execute_result"
    }
   ],
   "source": [
    "U7 = gate_sequence_product(qc7.propagators())\n",
    "U7"
   ]
  },
  {
   "cell_type": "markdown",
   "id": "406c127b",
   "metadata": {},
   "source": [
    "## Resolving non-adjacent interactions"
   ]
  },
  {
   "cell_type": "markdown",
   "id": "9c36519f",
   "metadata": {},
   "source": [
    "Interactions between non-adjacent qubits can be resolved by QubitCircuit to a series of adjacent interactions, which is useful for systems such as spin chain models."
   ]
  },
  {
   "cell_type": "code",
   "execution_count": 50,
   "id": "9ae90d9e",
   "metadata": {
    "execution": {
     "iopub.execute_input": "2023-03-15T08:50:52.627153Z",
     "iopub.status.busy": "2023-03-15T08:50:52.626797Z",
     "iopub.status.idle": "2023-03-15T08:50:52.892399Z",
     "shell.execute_reply": "2023-03-15T08:50:52.891821Z"
    }
   },
   "outputs": [
    {
     "name": "stderr",
     "output_type": "stream",
     "text": [
      "/home/runner/work/qutip-tutorials/qutip-tutorials/qutip-qip/src/qutip_qip/circuit/circuit_latex.py:95: UserWarning: Could not locate system 'pdfcrop': image output may have additional margins.\n",
      "  warnings.warn(\n"
     ]
    },
    {
     "data": {
      "image/png": "[encoded data removed]",
      "text/plain": [
       "<IPython.core.display.Image object>"
      ]
     },
     "execution_count": 50,
     "metadata": {},
     "output_type": "execute_result"
    }
   ],
   "source": [
    "qc8 = QubitCircuit(3)\n",
    "qc8.add_gate(\"CNOT\", 2, 0)\n",
    "qc8.png"
   ]
  },
  {
   "cell_type": "code",
   "execution_count": 51,
   "id": "c2767fa0",
   "metadata": {
    "execution": {
     "iopub.execute_input": "2023-03-15T08:50:52.896172Z",
     "iopub.status.busy": "2023-03-15T08:50:52.895901Z",
     "iopub.status.idle": "2023-03-15T08:50:52.903525Z",
     "shell.execute_reply": "2023-03-15T08:50:52.902957Z"
    }
   },
   "outputs": [
    {
     "data": {
      "text/latex": [
       "Quantum object: dims = [[2, 2, 2], [2, 2, 2]], shape = (8, 8), type = oper, isherm = True $ \\\\ \\left(\\begin{matrix}1.0 & 0.0 & 0.0 & 0.0 & 0.0 & 0.0 & 0.0 & 0.0\\\\0.0 & 1.0 & 0.0 & 0.0 & 0.0 & 0.0 & 0.0 & 0.0\\\\0.0 & 0.0 & 1.0 & 0.0 & 0.0 & 0.0 & 0.0 & 0.0\\\\0.0 & 0.0 & 0.0 & 1.0 & 0.0 & 0.0 & 0.0 & 0.0\\\\0.0 & 0.0 & 0.0 & 0.0 & 0.0 & 1.0 & 0.0 & 0.0\\\\0.0 & 0.0 & 0.0 & 0.0 & 1.0 & 0.0 & 0.0 & 0.0\\\\0.0 & 0.0 & 0.0 & 0.0 & 0.0 & 0.0 & 0.0 & 1.0\\\\0.0 & 0.0 & 0.0 & 0.0 & 0.0 & 0.0 & 1.0 & 0.0\\\\\\end{matrix}\\right)$"
      ],
      "text/plain": [
       "Quantum object: dims = [[2, 2, 2], [2, 2, 2]], shape = (8, 8), type = oper, isherm = True\n",
       "Qobj data =\n",
       "[[1. 0. 0. 0. 0. 0. 0. 0.]\n",
       " [0. 1. 0. 0. 0. 0. 0. 0.]\n",
       " [0. 0. 1. 0. 0. 0. 0. 0.]\n",
       " [0. 0. 0. 1. 0. 0. 0. 0.]\n",
       " [0. 0. 0. 0. 0. 1. 0. 0.]\n",
       " [0. 0. 0. 0. 1. 0. 0. 0.]\n",
       " [0. 0. 0. 0. 0. 0. 0. 1.]\n",
       " [0. 0. 0. 0. 0. 0. 1. 0.]]"
      ]
     },
     "execution_count": 51,
     "metadata": {},
     "output_type": "execute_result"
    }
   ],
   "source": [
    "U8 = gate_sequence_product(qc8.propagators())\n",
    "U8"
   ]
  },
  {
   "cell_type": "code",
   "execution_count": 52,
   "id": "732c3d7f",
   "metadata": {
    "execution": {
     "iopub.execute_input": "2023-03-15T08:50:52.906621Z",
     "iopub.status.busy": "2023-03-15T08:50:52.905941Z",
     "iopub.status.idle": "2023-03-15T08:50:52.910584Z",
     "shell.execute_reply": "2023-03-15T08:50:52.909904Z"
    }
   },
   "outputs": [
    {
     "data": {
      "text/plain": [
       "[Gate(SWAP, targets=[0, 1], controls=None, classical controls=None, control_value=None, classical_control_value=None),\n",
       " Gate(CNOT, targets=[2], controls=[1], classical controls=None, control_value=None, classical_control_value=None),\n",
       " Gate(SWAP, targets=[0, 1], controls=None, classical controls=None, control_value=None, classical_control_value=None)]"
      ]
     },
     "execution_count": 52,
     "metadata": {},
     "output_type": "execute_result"
    }
   ],
   "source": [
    "qc9 = qc8.adjacent_gates()\n",
    "qc9.gates"
   ]
  },
  {
   "cell_type": "code",
   "execution_count": 53,
   "id": "963099e6",
   "metadata": {
    "execution": {
     "iopub.execute_input": "2023-03-15T08:50:52.913095Z",
     "iopub.status.busy": "2023-03-15T08:50:52.912681Z",
     "iopub.status.idle": "2023-03-15T08:50:52.924730Z",
     "shell.execute_reply": "2023-03-15T08:50:52.923996Z"
    }
   },
   "outputs": [
    {
     "data": {
      "text/latex": [
       "Quantum object: dims = [[2, 2, 2], [2, 2, 2]], shape = (8, 8), type = oper, isherm = True $ \\\\ \\left(\\begin{matrix}1.0 & 0.0 & 0.0 & 0.0 & 0.0 & 0.0 & 0.0 & 0.0\\\\0.0 & 1.0 & 0.0 & 0.0 & 0.0 & 0.0 & 0.0 & 0.0\\\\0.0 & 0.0 & 1.0 & 0.0 & 0.0 & 0.0 & 0.0 & 0.0\\\\0.0 & 0.0 & 0.0 & 1.0 & 0.0 & 0.0 & 0.0 & 0.0\\\\0.0 & 0.0 & 0.0 & 0.0 & 0.0 & 1.0 & 0.0 & 0.0\\\\0.0 & 0.0 & 0.0 & 0.0 & 1.0 & 0.0 & 0.0 & 0.0\\\\0.0 & 0.0 & 0.0 & 0.0 & 0.0 & 0.0 & 0.0 & 1.0\\\\0.0 & 0.0 & 0.0 & 0.0 & 0.0 & 0.0 & 1.0 & 0.0\\\\\\end{matrix}\\right)$"
      ],
      "text/plain": [
       "Quantum object: dims = [[2, 2, 2], [2, 2, 2]], shape = (8, 8), type = oper, isherm = True\n",
       "Qobj data =\n",
       "[[1. 0. 0. 0. 0. 0. 0. 0.]\n",
       " [0. 1. 0. 0. 0. 0. 0. 0.]\n",
       " [0. 0. 1. 0. 0. 0. 0. 0.]\n",
       " [0. 0. 0. 1. 0. 0. 0. 0.]\n",
       " [0. 0. 0. 0. 0. 1. 0. 0.]\n",
       " [0. 0. 0. 0. 1. 0. 0. 0.]\n",
       " [0. 0. 0. 0. 0. 0. 0. 1.]\n",
       " [0. 0. 0. 0. 0. 0. 1. 0.]]"
      ]
     },
     "execution_count": 53,
     "metadata": {},
     "output_type": "execute_result"
    }
   ],
   "source": [
    "U9 = gate_sequence_product(qc9.propagators())\n",
    "U9"
   ]
  },
  {
   "cell_type": "code",
   "execution_count": 54,
   "id": "6fa7ef43",
   "metadata": {
    "execution": {
     "iopub.execute_input": "2023-03-15T08:50:52.927608Z",
     "iopub.status.busy": "2023-03-15T08:50:52.927091Z",
     "iopub.status.idle": "2023-03-15T08:50:53.291582Z",
     "shell.execute_reply": "2023-03-15T08:50:53.290869Z"
    }
   },
   "outputs": [
    {
     "name": "stderr",
     "output_type": "stream",
     "text": [
      "/home/runner/work/qutip-tutorials/qutip-tutorials/qutip-qip/src/qutip_qip/circuit/circuit_latex.py:95: UserWarning: Could not locate system 'pdfcrop': image output may have additional margins.\n",
      "  warnings.warn(\n"
     ]
    },
    {
     "data": {
      "image/png": "[encoded data removed]",
      "text/plain": [
       "<IPython.core.display.Image object>"
      ]
     },
     "execution_count": 54,
     "metadata": {},
     "output_type": "execute_result"
    }
   ],
   "source": [
    "qc10 = qc9.resolve_gates(\"CNOT\")\n",
    "qc10.png"
   ]
  },
  {
   "cell_type": "code",
   "execution_count": 55,
   "id": "9a443a30",
   "metadata": {
    "execution": {
     "iopub.execute_input": "2023-03-15T08:50:53.294961Z",
     "iopub.status.busy": "2023-03-15T08:50:53.294557Z",
     "iopub.status.idle": "2023-03-15T08:50:53.308840Z",
     "shell.execute_reply": "2023-03-15T08:50:53.307973Z"
    }
   },
   "outputs": [
    {
     "data": {
      "text/latex": [
       "Quantum object: dims = [[2, 2, 2], [2, 2, 2]], shape = (8, 8), type = oper, isherm = True $ \\\\ \\left(\\begin{matrix}1.0 & 0.0 & 0.0 & 0.0 & 0.0 & 0.0 & 0.0 & 0.0\\\\0.0 & 1.0 & 0.0 & 0.0 & 0.0 & 0.0 & 0.0 & 0.0\\\\0.0 & 0.0 & 1.0 & 0.0 & 0.0 & 0.0 & 0.0 & 0.0\\\\0.0 & 0.0 & 0.0 & 1.0 & 0.0 & 0.0 & 0.0 & 0.0\\\\0.0 & 0.0 & 0.0 & 0.0 & 0.0 & 1.0 & 0.0 & 0.0\\\\0.0 & 0.0 & 0.0 & 0.0 & 1.0 & 0.0 & 0.0 & 0.0\\\\0.0 & 0.0 & 0.0 & 0.0 & 0.0 & 0.0 & 0.0 & 1.0\\\\0.0 & 0.0 & 0.0 & 0.0 & 0.0 & 0.0 & 1.0 & 0.0\\\\\\end{matrix}\\right)$"
      ],
      "text/plain": [
       "Quantum object: dims = [[2, 2, 2], [2, 2, 2]], shape = (8, 8), type = oper, isherm = True\n",
       "Qobj data =\n",
       "[[1. 0. 0. 0. 0. 0. 0. 0.]\n",
       " [0. 1. 0. 0. 0. 0. 0. 0.]\n",
       " [0. 0. 1. 0. 0. 0. 0. 0.]\n",
       " [0. 0. 0. 1. 0. 0. 0. 0.]\n",
       " [0. 0. 0. 0. 0. 1. 0. 0.]\n",
       " [0. 0. 0. 0. 1. 0. 0. 0.]\n",
       " [0. 0. 0. 0. 0. 0. 0. 1.]\n",
       " [0. 0. 0. 0. 0. 0. 1. 0.]]"
      ]
     },
     "execution_count": 55,
     "metadata": {},
     "output_type": "execute_result"
    }
   ],
   "source": [
    "U10 = gate_sequence_product(qc10.propagators())\n",
    "U10"
   ]
  },
  {
   "cell_type": "markdown",
   "id": "1fe397c7",
   "metadata": {},
   "source": [
    "## Adding gate in the middle of a circuit\n",
    "From QuTiP 4.4 one can add a gate at an arbitrary position of a circuit. All one needs to do is to specify the parameter index. With this, we can also add the same gate at multiple positions at the same time."
   ]
  },
  {
   "cell_type": "code",
   "execution_count": 56,
   "id": "915a9dc6",
   "metadata": {
    "execution": {
     "iopub.execute_input": "2023-03-15T08:50:53.311833Z",
     "iopub.status.busy": "2023-03-15T08:50:53.311365Z",
     "iopub.status.idle": "2023-03-15T08:50:53.318738Z",
     "shell.execute_reply": "2023-03-15T08:50:53.318056Z"
    }
   },
   "outputs": [
    {
     "data": {
      "text/plain": [
       "[Gate(RY, targets=[1], controls=None, classical controls=None, control_value=None, classical_control_value=None),\n",
       " Gate(RX, targets=[1], controls=None, classical controls=None, control_value=None, classical_control_value=None),\n",
       " Gate(RX, targets=[1], controls=None, classical controls=None, control_value=None, classical_control_value=None)]"
      ]
     },
     "execution_count": 56,
     "metadata": {},
     "output_type": "execute_result"
    }
   ],
   "source": [
    "qc = QubitCircuit(1)\n",
    "qc.add_gate(\"RX\", targets=1, arg_value=np.pi / 2)\n",
    "qc.add_gate(\"RX\", targets=1, arg_value=np.pi / 2)\n",
    "qc.add_gate(\"RY\", targets=1, arg_value=np.pi / 2, index=[0])\n",
    "qc.gates"
   ]
  },
  {
   "cell_type": "markdown",
   "id": "469fc6c5",
   "metadata": {},
   "source": [
    "## User defined gates\n",
    "From QuTiP 4.4 on, user defined gates can be defined by a python function that takes at most one parameter and return a `Qobj`, the dimension of the `Qobj` has to match the qubit system."
   ]
  },
  {
   "cell_type": "code",
   "execution_count": 57,
   "id": "e3665566",
   "metadata": {
    "execution": {
     "iopub.execute_input": "2023-03-15T08:50:53.321262Z",
     "iopub.status.busy": "2023-03-15T08:50:53.320877Z",
     "iopub.status.idle": "2023-03-15T08:50:53.325629Z",
     "shell.execute_reply": "2023-03-15T08:50:53.324963Z"
    }
   },
   "outputs": [],
   "source": [
    "def user_gate1(arg_value):\n",
    "    # controlled rotation X\n",
    "    mat = np.zeros((4, 4), dtype=np.complex)\n",
    "    mat[0, 0] = mat[1, 1] = 1.0\n",
    "    mat[2:4, 2:4] = rx(arg_value)\n",
    "    return Qobj(mat, dims=[[2, 2], [2, 2]])\n",
    "\n",
    "\n",
    "def user_gate2():\n",
    "    # S gate\n",
    "    mat = np.array([[1.0, 0], [0.0, 1.0j]])\n",
    "    return Qobj(mat, dims=[[2], [2]])"
   ]
  },
  {
   "cell_type": "markdown",
   "id": "5a6178ce",
   "metadata": {},
   "source": [
    "To let the `QubitCircuit` process those gates, we need to modify its attribute `QubitCircuit.user_gates`, which is a python dictionary in the form `{name: gate_function}`."
   ]
  },
  {
   "cell_type": "code",
   "execution_count": 58,
   "id": "1b6f8f22",
   "metadata": {
    "execution": {
     "iopub.execute_input": "2023-03-15T08:50:53.328708Z",
     "iopub.status.busy": "2023-03-15T08:50:53.328337Z",
     "iopub.status.idle": "2023-03-15T08:50:53.331649Z",
     "shell.execute_reply": "2023-03-15T08:50:53.330984Z"
    }
   },
   "outputs": [],
   "source": [
    "qc = QubitCircuit(2)\n",
    "qc.user_gates = {\"CTRLRX\": user_gate1, \"S\": user_gate2}"
   ]
  },
  {
   "cell_type": "markdown",
   "id": "fac52c65",
   "metadata": {},
   "source": [
    "When calling the `add_gate` method, the target qubits and the argument need to be given."
   ]
  },
  {
   "cell_type": "code",
   "execution_count": 59,
   "id": "120fffb4",
   "metadata": {
    "execution": {
     "iopub.execute_input": "2023-03-15T08:50:53.334142Z",
     "iopub.status.busy": "2023-03-15T08:50:53.333796Z",
     "iopub.status.idle": "2023-03-15T08:50:53.343125Z",
     "shell.execute_reply": "2023-03-15T08:50:53.342417Z"
    }
   },
   "outputs": [
    {
     "name": "stderr",
     "output_type": "stream",
     "text": [
      "/tmp/ipykernel_10011/4282696222.py:3: DeprecationWarning: `np.complex` is a deprecated alias for the builtin `complex`. To silence this warning, use `complex` by itself. Doing this will not modify any behavior and is safe. If you specifically wanted the numpy scalar type, use `np.complex128` here.\n",
      "Deprecated in NumPy 1.20; for more details and guidance: https://numpy.org/devdocs/release/1.20.0-notes.html#deprecations\n",
      "  mat = np.zeros((4, 4), dtype=np.complex)\n"
     ]
    }
   ],
   "source": [
    "# qubit 0 controls qubit 1\n",
    "qc.add_gate(\"CTRLRX\", targets=[0, 1], arg_value=pi / 2)\n",
    "# qubit 1 controls qubit 0\n",
    "qc.add_gate(\"CTRLRX\", targets=[1, 0], arg_value=pi / 2)\n",
    "# a gate can also be added using the Gate class\n",
    "g_T = Gate(\"S\", targets=[1])\n",
    "qc.add_gate(\"S\", targets=[1])\n",
    "props = qc.propagators()"
   ]
  },
  {
   "cell_type": "code",
   "execution_count": 60,
   "id": "dc6347dd",
   "metadata": {
    "execution": {
     "iopub.execute_input": "2023-03-15T08:50:53.345702Z",
     "iopub.status.busy": "2023-03-15T08:50:53.345350Z",
     "iopub.status.idle": "2023-03-15T08:50:53.350985Z",
     "shell.execute_reply": "2023-03-15T08:50:53.350259Z"
    }
   },
   "outputs": [
    {
     "data": {
      "text/latex": [
       "Quantum object: dims = [[2, 2], [2, 2]], shape = (4, 4), type = oper, isherm = False $ \\\\ \\left(\\begin{matrix}1.0 & 0.0 & 0.0 & 0.0\\\\0.0 & 1.0 & 0.0 & 0.0\\\\0.0 & 0.0 & 0.707 & -0.707j\\\\0.0 & 0.0 & -0.707j & 0.707\\\\\\end{matrix}\\right)$"
      ],
      "text/plain": [
       "Quantum object: dims = [[2, 2], [2, 2]], shape = (4, 4), type = oper, isherm = False\n",
       "Qobj data =\n",
       "[[1.        +0.j         0.        +0.j         0.        +0.j\n",
       "  0.        +0.j        ]\n",
       " [0.        +0.j         1.        +0.j         0.        +0.j\n",
       "  0.        +0.j        ]\n",
       " [0.        +0.j         0.        +0.j         0.70710678+0.j\n",
       "  0.        -0.70710678j]\n",
       " [0.        +0.j         0.        +0.j         0.        -0.70710678j\n",
       "  0.70710678+0.j        ]]"
      ]
     },
     "execution_count": 60,
     "metadata": {},
     "output_type": "execute_result"
    }
   ],
   "source": [
    "props[0]  # qubit 0 controls qubit 1"
   ]
  },
  {
   "cell_type": "code",
   "execution_count": 61,
   "id": "4c0f6465",
   "metadata": {
    "execution": {
     "iopub.execute_input": "2023-03-15T08:50:53.354255Z",
     "iopub.status.busy": "2023-03-15T08:50:53.353727Z",
     "iopub.status.idle": "2023-03-15T08:50:53.359166Z",
     "shell.execute_reply": "2023-03-15T08:50:53.358433Z"
    }
   },
   "outputs": [
    {
     "data": {
      "text/latex": [
       "Quantum object: dims = [[2, 2], [2, 2]], shape = (4, 4), type = oper, isherm = False $ \\\\ \\left(\\begin{matrix}1.0 & 0.0 & 0.0 & 0.0\\\\0.0 & 0.707 & 0.0 & -0.707j\\\\0.0 & 0.0 & 1.0 & 0.0\\\\0.0 & -0.707j & 0.0 & 0.707\\\\\\end{matrix}\\right)$"
      ],
      "text/plain": [
       "Quantum object: dims = [[2, 2], [2, 2]], shape = (4, 4), type = oper, isherm = False\n",
       "Qobj data =\n",
       "[[1.        +0.j         0.        +0.j         0.        +0.j\n",
       "  0.        +0.j        ]\n",
       " [0.        +0.j         0.70710678+0.j         0.        +0.j\n",
       "  0.        -0.70710678j]\n",
       " [0.        +0.j         0.        +0.j         1.        +0.j\n",
       "  0.        +0.j        ]\n",
       " [0.        +0.j         0.        -0.70710678j 0.        +0.j\n",
       "  0.70710678+0.j        ]]"
      ]
     },
     "execution_count": 61,
     "metadata": {},
     "output_type": "execute_result"
    }
   ],
   "source": [
    "props[1]  # qubit 1 controls qubit 0"
   ]
  },
  {
   "cell_type": "code",
   "execution_count": 62,
   "id": "e3974a44",
   "metadata": {
    "execution": {
     "iopub.execute_input": "2023-03-15T08:50:53.362533Z",
     "iopub.status.busy": "2023-03-15T08:50:53.362139Z",
     "iopub.status.idle": "2023-03-15T08:50:53.367387Z",
     "shell.execute_reply": "2023-03-15T08:50:53.366701Z"
    }
   },
   "outputs": [
    {
     "data": {
      "text/latex": [
       "Quantum object: dims = [[2, 2], [2, 2]], shape = (4, 4), type = oper, isherm = False $ \\\\ \\left(\\begin{matrix}1.0 & 0.0 & 0.0 & 0.0\\\\0.0 & 1.0j & 0.0 & 0.0\\\\0.0 & 0.0 & 1.0 & 0.0\\\\0.0 & 0.0 & 0.0 & 1.0j\\\\\\end{matrix}\\right)$"
      ],
      "text/plain": [
       "Quantum object: dims = [[2, 2], [2, 2]], shape = (4, 4), type = oper, isherm = False\n",
       "Qobj data =\n",
       "[[1.+0.j 0.+0.j 0.+0.j 0.+0.j]\n",
       " [0.+0.j 0.+1.j 0.+0.j 0.+0.j]\n",
       " [0.+0.j 0.+0.j 1.+0.j 0.+0.j]\n",
       " [0.+0.j 0.+0.j 0.+0.j 0.+1.j]]"
      ]
     },
     "execution_count": 62,
     "metadata": {},
     "output_type": "execute_result"
    }
   ],
   "source": [
    "props[2]  # S  gate acts on qubit 1"
   ]
  },
  {
   "cell_type": "markdown",
   "id": "8dcb2428",
   "metadata": {},
   "source": [
    "## Software versions"
   ]
  },
  {
   "cell_type": "code",
   "execution_count": 63,
   "id": "cd716a3b",
   "metadata": {
    "execution": {
     "iopub.execute_input": "2023-03-15T08:50:53.370899Z",
     "iopub.status.busy": "2023-03-15T08:50:53.370346Z",
     "iopub.status.idle": "2023-03-15T08:50:53.374347Z",
     "shell.execute_reply": "2023-03-15T08:50:53.373645Z"
    }
   },
   "outputs": [
    {
     "name": "stdout",
     "output_type": "stream",
     "text": [
      "\n",
      "QuTiP: Quantum Toolbox in Python\n",
      "================================\n",
      "Copyright (c) QuTiP team 2011 and later.\n",
      "Current admin team: Alexander Pitchford, Nathan Shammah, Shahnawaz Ahmed, Neill Lambert, Eric Giguère, Boxi Li, Jake Lishman, Simon Cross and Asier Galicia.\n",
      "Board members: Daniel Burgarth, Robert Johansson, Anton F. Kockum, Franco Nori and Will Zeng.\n",
      "Original developers: R. J. Johansson & P. D. Nation.\n",
      "Previous lead developers: Chris Granade & A. Grimsmo.\n",
      "Currently developed through wide collaboration. See https://github.com/qutip for details.\n",
      "\n",
      "QuTiP Version:      4.7.1\n",
      "Numpy Version:      1.22.4\n",
      "Scipy Version:      1.8.1\n",
      "Cython Version:     0.29.33\n",
      "Matplotlib Version: 3.5.2\n",
      "Python Version:     3.10.4\n",
      "Number of CPUs:     2\n",
      "BLAS Info:          Generic\n",
      "OPENMP Installed:   False\n",
      "INTEL MKL Ext:      False\n",
      "Platform Info:      Linux (x86_64)\n",
      "Installation path:  /home/runner/work/qutip-tutorials/qutip-tutorials/qutip/qutip\n",
      "================================================================================\n",
      "Please cite QuTiP in your publication.\n",
      "================================================================================\n",
      "For your convenience a bibtex reference can be easily generated using `qutip.cite()`\n"
     ]
    }
   ],
   "source": [
    "about()"
   ]
  }
 ],
 "metadata": {
  "jupytext": {
   "cell_metadata_filter": "-all",
   "notebook_metadata_filter": "-jupytext.cell_metadata_filter,-jupytext.notebook_metadata_filter"
  },
  "kernelspec": {
   "display_name": "Python 3 (ipykernel)",
   "language": "python",
   "name": "python3"
  },
  "language_info": {
   "codemirror_mode": {
    "name": "ipython",
    "version": 3
   },
   "file_extension": ".py",
   "mimetype": "text/x-python",
   "name": "python",
   "nbconvert_exporter": "python",
   "pygments_lexer": "ipython3",
   "version": "3.10.4"
  }
 },
 "nbformat": 4,
 "nbformat_minor": 5
}
