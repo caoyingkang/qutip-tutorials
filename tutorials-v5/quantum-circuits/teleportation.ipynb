{
 "cells": [
  {
   "cell_type": "markdown",
   "id": "7fd20170",
   "metadata": {},
   "source": [
    "# Quantum Teleportation Circuit"
   ]
  },
  {
   "cell_type": "code",
   "execution_count": 1,
   "id": "34fc6014",
   "metadata": {
    "execution": {
     "iopub.execute_input": "2023-03-15T08:48:02.173778Z",
     "iopub.status.busy": "2023-03-15T08:48:02.173215Z",
     "iopub.status.idle": "2023-03-15T08:48:03.187277Z",
     "shell.execute_reply": "2023-03-15T08:48:03.186579Z"
    }
   },
   "outputs": [],
   "source": [
    "from math import sqrt\n",
    "\n",
    "from qutip import about, basis, tensor\n",
    "from qutip_qip.circuit import QubitCircuit\n",
    "from qutip_qip.operations import Measurement"
   ]
  },
  {
   "cell_type": "markdown",
   "id": "693bc5fa",
   "metadata": {},
   "source": [
    "## Introduction \n",
    "\n",
    "This notebook introduces the basic quantum teleportation circuit (https://en.wikipedia.org/wiki/Quantum_teleportation), complete with measurements and classical control. This notebook also serves as an example on how to add measurement gates and classical controls to a circuit.\n",
    "\n",
    "We will describe the circuit that enables quantum teleportation. We will use two classical wires and three qubit wires. The first qubit wire represents the quantum state $| q0 ⟩ = | \\psi ⟩$ that needs to be transferred from Alice to Bob (so the first qubit is in the possession of Alice). "
   ]
  },
  {
   "cell_type": "code",
   "execution_count": 2,
   "id": "397a2f55",
   "metadata": {
    "execution": {
     "iopub.execute_input": "2023-03-15T08:48:03.190452Z",
     "iopub.status.busy": "2023-03-15T08:48:03.190091Z",
     "iopub.status.idle": "2023-03-15T08:48:03.194658Z",
     "shell.execute_reply": "2023-03-15T08:48:03.194032Z"
    }
   },
   "outputs": [],
   "source": [
    "teleportation = QubitCircuit(\n",
    "    3, num_cbits=2, input_states=[r\"\\psi\", \"0\", \"0\", \"c0\", \"c1\"]\n",
    ")"
   ]
  },
  {
   "cell_type": "markdown",
   "id": "5a326ae9",
   "metadata": {},
   "source": [
    "First, Alice and Bob need to create the shared EPR pair ($\\frac{| 00 ⟩ + | 11 ⟩} {2}$) between the second and third qubit by using the hadamard gate on Alice's qubit followed by an entangling CNOT gate.  "
   ]
  },
  {
   "cell_type": "code",
   "execution_count": 3,
   "id": "be88a87e",
   "metadata": {
    "execution": {
     "iopub.execute_input": "2023-03-15T08:48:03.197656Z",
     "iopub.status.busy": "2023-03-15T08:48:03.197158Z",
     "iopub.status.idle": "2023-03-15T08:48:03.202015Z",
     "shell.execute_reply": "2023-03-15T08:48:03.201405Z"
    }
   },
   "outputs": [],
   "source": [
    "teleportation.add_gate(\"SNOT\", targets=[1])\n",
    "teleportation.add_gate(\"CNOT\", targets=[2], controls=[1])"
   ]
  },
  {
   "cell_type": "markdown",
   "id": "47d82383",
   "metadata": {},
   "source": [
    "Following this, Alice makes the qubit $| q0 ⟩$ interact with Alice's EPR qubit, followed by measuring on the two qubits belonging to Alice. The measurement results for the first qubit is stored in classical register $c1$ and the second qubit is stored in classical register $c0$."
   ]
  },
  {
   "cell_type": "code",
   "execution_count": 4,
   "id": "09b2ff64",
   "metadata": {
    "execution": {
     "iopub.execute_input": "2023-03-15T08:48:03.205817Z",
     "iopub.status.busy": "2023-03-15T08:48:03.204672Z",
     "iopub.status.idle": "2023-03-15T08:48:03.209836Z",
     "shell.execute_reply": "2023-03-15T08:48:03.209253Z"
    }
   },
   "outputs": [],
   "source": [
    "teleportation.add_gate(\"CNOT\", targets=[1], controls=[0])\n",
    "teleportation.add_gate(\"SNOT\", targets=[0])\n",
    "\n",
    "teleportation.add_measurement(\"M0\", targets=[0], classical_store=1)\n",
    "teleportation.add_measurement(\"M1\", targets=[1], classical_store=0)"
   ]
  },
  {
   "cell_type": "markdown",
   "id": "fd25f8fa",
   "metadata": {},
   "source": [
    "Now, we apply the $X$ gate on Bob's qubit based on the classical control $c0$ and $Z$ gate based on classical control $c1$. These operations correspond to the following operations based on the state of Alice's measurement. \n",
    "\n",
    "$|00⟩ \\rightarrow $ no operation \\\n",
    "$|01⟩ \\rightarrow Z$ \\\n",
    "$|10⟩ \\rightarrow X$ \\\n",
    "$|11⟩ \\rightarrow ZX$ \n",
    "\n",
    "The final circuit mathematically must result in the third qubit taking the state $|\\psi⟩$. "
   ]
  },
  {
   "cell_type": "code",
   "execution_count": 5,
   "id": "23bc1a5a",
   "metadata": {
    "execution": {
     "iopub.execute_input": "2023-03-15T08:48:03.212911Z",
     "iopub.status.busy": "2023-03-15T08:48:03.212431Z",
     "iopub.status.idle": "2023-03-15T08:48:03.216776Z",
     "shell.execute_reply": "2023-03-15T08:48:03.216182Z"
    }
   },
   "outputs": [],
   "source": [
    "teleportation.add_gate(\"X\", targets=[2], classical_controls=[0])\n",
    "teleportation.add_gate(\"Z\", targets=[2], classical_controls=[1])"
   ]
  },
  {
   "cell_type": "markdown",
   "id": "f53a58f2",
   "metadata": {},
   "source": [
    "Finally, our teleportation circuit is ready to run, we can view the circuit structure using the following command. "
   ]
  },
  {
   "cell_type": "code",
   "execution_count": 6,
   "id": "b83f5801",
   "metadata": {
    "execution": {
     "iopub.execute_input": "2023-03-15T08:48:03.219867Z",
     "iopub.status.busy": "2023-03-15T08:48:03.219496Z",
     "iopub.status.idle": "2023-03-15T08:48:03.228387Z",
     "shell.execute_reply": "2023-03-15T08:48:03.227752Z"
    }
   },
   "outputs": [
    {
     "data": {
      "text/plain": [
       "[Gate(SNOT, targets=[1], controls=None, classical controls=None, control_value=None, classical_control_value=None),\n",
       " Gate(CNOT, targets=[2], controls=[1], classical controls=None, control_value=1, classical_control_value=None),\n",
       " Gate(CNOT, targets=[1], controls=[0], classical controls=None, control_value=1, classical_control_value=None),\n",
       " Gate(SNOT, targets=[0], controls=None, classical controls=None, control_value=None, classical_control_value=None),\n",
       " Measurement(M0, target=[0], classical_store=1),\n",
       " Measurement(M1, target=[1], classical_store=0),\n",
       " Gate(X, targets=[2], controls=None, classical controls=[0], control_value=None, classical_control_value=1),\n",
       " Gate(Z, targets=[2], controls=None, classical controls=[1], control_value=None, classical_control_value=1)]"
      ]
     },
     "execution_count": 6,
     "metadata": {},
     "output_type": "execute_result"
    }
   ],
   "source": [
    "teleportation.gates"
   ]
  },
  {
   "cell_type": "markdown",
   "id": "28b821dd",
   "metadata": {},
   "source": [
    "The circuit can also be visualized:"
   ]
  },
  {
   "cell_type": "code",
   "execution_count": 7,
   "id": "3b4f812e",
   "metadata": {
    "execution": {
     "iopub.execute_input": "2023-03-15T08:48:03.232404Z",
     "iopub.status.busy": "2023-03-15T08:48:03.231156Z",
     "iopub.status.idle": "2023-03-15T08:48:03.584460Z",
     "shell.execute_reply": "2023-03-15T08:48:03.583740Z"
    }
   },
   "outputs": [
    {
     "name": "stderr",
     "output_type": "stream",
     "text": [
      "/home/runner/work/qutip-tutorials/qutip-tutorials/qutip-qip/src/qutip_qip/circuit/circuit_latex.py:95: UserWarning: Could not locate system 'pdfcrop': image output may have additional margins.\n",
      "  warnings.warn(\n"
     ]
    },
    {
     "data": {
      "image/png": "[encoded data removed]",
      "text/plain": [
       "<qutip_qip.circuit.circuit.QubitCircuit at 0x7fcb94ed76d0>"
      ]
     },
     "execution_count": 7,
     "metadata": {},
     "output_type": "execute_result"
    }
   ],
   "source": [
    "teleportation"
   ]
  },
  {
   "cell_type": "markdown",
   "id": "d9ca784e",
   "metadata": {},
   "source": [
    "The first qubit is user-specified $|\\psi ⟩$ state and the other two must be $|0⟩$. \n",
    "\n",
    "### Example 1 \n",
    "#### $|\\psi⟩ = |+ ⟩$  "
   ]
  },
  {
   "cell_type": "code",
   "execution_count": 8,
   "id": "f472e0a3",
   "metadata": {
    "execution": {
     "iopub.execute_input": "2023-03-15T08:48:03.587609Z",
     "iopub.status.busy": "2023-03-15T08:48:03.587064Z",
     "iopub.status.idle": "2023-03-15T08:48:03.593539Z",
     "shell.execute_reply": "2023-03-15T08:48:03.592893Z"
    }
   },
   "outputs": [],
   "source": [
    "a = 1 / sqrt(2) * basis(2, 0) + 1 / sqrt(2) * basis(2, 1)\n",
    "state = tensor(a, basis(2, 0), basis(2, 0))"
   ]
  },
  {
   "cell_type": "markdown",
   "id": "b421037d",
   "metadata": {},
   "source": [
    "We can confirm our state is initialized correctly by observing the measurment statistics on the first qubit, followed by which we run the circuit."
   ]
  },
  {
   "cell_type": "code",
   "execution_count": 9,
   "id": "14add8b7",
   "metadata": {
    "execution": {
     "iopub.execute_input": "2023-03-15T08:48:03.596266Z",
     "iopub.status.busy": "2023-03-15T08:48:03.596002Z",
     "iopub.status.idle": "2023-03-15T08:48:03.603001Z",
     "shell.execute_reply": "2023-03-15T08:48:03.602309Z"
    }
   },
   "outputs": [
    {
     "data": {
      "text/plain": [
       "([Quantum object: dims=[[2, 2, 2], [1, 1, 1]], shape=(8, 1), type='ket'\n",
       "  Qobj data =\n",
       "  [[1.]\n",
       "   [0.]\n",
       "   [0.]\n",
       "   [0.]\n",
       "   [0.]\n",
       "   [0.]\n",
       "   [0.]\n",
       "   [0.]],\n",
       "  Quantum object: dims=[[2, 2, 2], [1, 1, 1]], shape=(8, 1), type='ket'\n",
       "  Qobj data =\n",
       "  [[0.]\n",
       "   [0.]\n",
       "   [0.]\n",
       "   [0.]\n",
       "   [1.]\n",
       "   [0.]\n",
       "   [0.]\n",
       "   [0.]]],\n",
       " [0.4999999999999999, 0.4999999999999999])"
      ]
     },
     "execution_count": 9,
     "metadata": {},
     "output_type": "execute_result"
    }
   ],
   "source": [
    "initial_measurement = Measurement(\"start\", targets=[0])\n",
    "initial_measurement.measurement_comp_basis(state)"
   ]
  },
  {
   "cell_type": "markdown",
   "id": "06c6f6d5",
   "metadata": {},
   "source": [
    "We can run the circuit using the `QubitCircuit.run()` function which provided the initial state-vector (or density matrix) initiates one run on the circuit (including sampling any intermediate measurements) and providing the final results (any classical bits can also be explicitly set using the argument `cbits`). The results are returned as a `Result` object. The result states can be accessed through the `get_states()` function where the argument `index=0` specifies the first(only) result should be returned"
   ]
  },
  {
   "cell_type": "code",
   "execution_count": 10,
   "id": "4c261b06",
   "metadata": {
    "execution": {
     "iopub.execute_input": "2023-03-15T08:48:03.605573Z",
     "iopub.status.busy": "2023-03-15T08:48:03.605204Z",
     "iopub.status.idle": "2023-03-15T08:48:03.613226Z",
     "shell.execute_reply": "2023-03-15T08:48:03.612585Z"
    }
   },
   "outputs": [
    {
     "name": "stdout",
     "output_type": "stream",
     "text": [
      "Quantum object: dims=[[2, 2, 2], [1, 1, 1]], shape=(8, 1), type='ket'\n",
      "Qobj data =\n",
      "[[0.        ]\n",
      " [0.        ]\n",
      " [0.70710678]\n",
      " [0.70710678]\n",
      " [0.        ]\n",
      " [0.        ]\n",
      " [0.        ]\n",
      " [0.        ]]\n"
     ]
    }
   ],
   "source": [
    "state_final = teleportation.run(state)\n",
    "print(state_final)"
   ]
  },
  {
   "cell_type": "markdown",
   "id": "b8b5ca0d",
   "metadata": {},
   "source": [
    "After running, we can see the measurement statistics on the last qubit to see that the qubit is teleported correctly. "
   ]
  },
  {
   "cell_type": "code",
   "execution_count": 11,
   "id": "a2853d00",
   "metadata": {
    "execution": {
     "iopub.execute_input": "2023-03-15T08:48:03.616082Z",
     "iopub.status.busy": "2023-03-15T08:48:03.615530Z",
     "iopub.status.idle": "2023-03-15T08:48:03.621858Z",
     "shell.execute_reply": "2023-03-15T08:48:03.621197Z"
    }
   },
   "outputs": [
    {
     "data": {
      "text/plain": [
       "([Quantum object: dims=[[2, 2, 2], [1, 1, 1]], shape=(8, 1), type='ket'\n",
       "  Qobj data =\n",
       "  [[0.]\n",
       "   [0.]\n",
       "   [1.]\n",
       "   [0.]\n",
       "   [0.]\n",
       "   [0.]\n",
       "   [0.]\n",
       "   [0.]],\n",
       "  Quantum object: dims=[[2, 2, 2], [1, 1, 1]], shape=(8, 1), type='ket'\n",
       "  Qobj data =\n",
       "  [[0.]\n",
       "   [0.]\n",
       "   [0.]\n",
       "   [1.]\n",
       "   [0.]\n",
       "   [0.]\n",
       "   [0.]\n",
       "   [0.]]],\n",
       " [0.4999999999999999, 0.4999999999999999])"
      ]
     },
     "execution_count": 11,
     "metadata": {},
     "output_type": "execute_result"
    }
   ],
   "source": [
    "final_measurement = Measurement(\"start\", targets=[2])\n",
    "final_measurement.measurement_comp_basis(state_final)"
   ]
  },
  {
   "cell_type": "markdown",
   "id": "190e26b0",
   "metadata": {},
   "source": [
    "### Example 2 \n",
    "#### $|\\psi⟩ = |1 ⟩$  "
   ]
  },
  {
   "cell_type": "code",
   "execution_count": 12,
   "id": "c67dc824",
   "metadata": {
    "execution": {
     "iopub.execute_input": "2023-03-15T08:48:03.624682Z",
     "iopub.status.busy": "2023-03-15T08:48:03.624066Z",
     "iopub.status.idle": "2023-03-15T08:48:03.630539Z",
     "shell.execute_reply": "2023-03-15T08:48:03.629895Z"
    }
   },
   "outputs": [
    {
     "data": {
      "text/plain": [
       "([None,\n",
       "  Quantum object: dims=[[2, 2, 2], [1, 1, 1]], shape=(8, 1), type='ket'\n",
       "  Qobj data =\n",
       "  [[0.]\n",
       "   [0.]\n",
       "   [0.]\n",
       "   [0.]\n",
       "   [1.]\n",
       "   [0.]\n",
       "   [0.]\n",
       "   [0.]]],\n",
       " [0.0, 1.0])"
      ]
     },
     "execution_count": 12,
     "metadata": {},
     "output_type": "execute_result"
    }
   ],
   "source": [
    "state = tensor(basis(2, 1), basis(2, 0), basis(2, 0))\n",
    "initial_measurement = Measurement(\"start\", targets=[0])\n",
    "initial_measurement.measurement_comp_basis(state)"
   ]
  },
  {
   "cell_type": "code",
   "execution_count": 13,
   "id": "f7fa62f5",
   "metadata": {
    "execution": {
     "iopub.execute_input": "2023-03-15T08:48:03.633214Z",
     "iopub.status.busy": "2023-03-15T08:48:03.632645Z",
     "iopub.status.idle": "2023-03-15T08:48:03.639482Z",
     "shell.execute_reply": "2023-03-15T08:48:03.638846Z"
    }
   },
   "outputs": [
    {
     "name": "stdout",
     "output_type": "stream",
     "text": [
      "Quantum object: dims=[[2, 2, 2], [1, 1, 1]], shape=(8, 1), type='ket'\n",
      "Qobj data =\n",
      "[[0.]\n",
      " [1.]\n",
      " [0.]\n",
      " [0.]\n",
      " [0.]\n",
      " [0.]\n",
      " [0.]\n",
      " [0.]]\n"
     ]
    }
   ],
   "source": [
    "state_final = teleportation.run(state)\n",
    "print(state_final)"
   ]
  },
  {
   "cell_type": "code",
   "execution_count": 14,
   "id": "cc81c62b",
   "metadata": {
    "execution": {
     "iopub.execute_input": "2023-03-15T08:48:03.642062Z",
     "iopub.status.busy": "2023-03-15T08:48:03.641701Z",
     "iopub.status.idle": "2023-03-15T08:48:03.647857Z",
     "shell.execute_reply": "2023-03-15T08:48:03.647219Z"
    }
   },
   "outputs": [
    {
     "data": {
      "text/plain": [
       "([None,\n",
       "  Quantum object: dims=[[2, 2, 2], [1, 1, 1]], shape=(8, 1), type='ket'\n",
       "  Qobj data =\n",
       "  [[0.]\n",
       "   [1.]\n",
       "   [0.]\n",
       "   [0.]\n",
       "   [0.]\n",
       "   [0.]\n",
       "   [0.]\n",
       "   [0.]]],\n",
       " [0.0, 1.0])"
      ]
     },
     "execution_count": 14,
     "metadata": {},
     "output_type": "execute_result"
    }
   ],
   "source": [
    "final_measurement = Measurement(\"start\", targets=[2])\n",
    "final_measurement.measurement_comp_basis(state_final)"
   ]
  },
  {
   "cell_type": "markdown",
   "id": "d19eda3f",
   "metadata": {},
   "source": [
    "Another useful feature of the circuit module is the **QubitCircuit.run_statistics()** feature which provides the opportunity to gather all the possible output states of the circuit along with their output probabilities. Again, the results are returned as a `Result` object. The result states and respective probabilites can be accessed through the `get_results()` function. "
   ]
  },
  {
   "cell_type": "code",
   "execution_count": 15,
   "id": "297b041b",
   "metadata": {
    "execution": {
     "iopub.execute_input": "2023-03-15T08:48:03.650573Z",
     "iopub.status.busy": "2023-03-15T08:48:03.650017Z",
     "iopub.status.idle": "2023-03-15T08:48:03.661130Z",
     "shell.execute_reply": "2023-03-15T08:48:03.660452Z"
    }
   },
   "outputs": [
    {
     "data": {
      "text/plain": [
       "[0.24999999999999994,\n",
       " 0.24999999999999994,\n",
       " 0.24999999999999994,\n",
       " 0.24999999999999994]"
      ]
     },
     "execution_count": 15,
     "metadata": {},
     "output_type": "execute_result"
    }
   ],
   "source": [
    "results = teleportation.run_statistics(state)\n",
    "results.probabilities"
   ]
  },
  {
   "cell_type": "code",
   "execution_count": 16,
   "id": "4de74553",
   "metadata": {
    "execution": {
     "iopub.execute_input": "2023-03-15T08:48:03.663993Z",
     "iopub.status.busy": "2023-03-15T08:48:03.663395Z",
     "iopub.status.idle": "2023-03-15T08:48:03.670353Z",
     "shell.execute_reply": "2023-03-15T08:48:03.669731Z"
    }
   },
   "outputs": [
    {
     "data": {
      "text/plain": [
       "[Quantum object: dims=[[2, 2, 2], [1, 1, 1]], shape=(8, 1), type='ket'\n",
       " Qobj data =\n",
       " [[0.]\n",
       "  [1.]\n",
       "  [0.]\n",
       "  [0.]\n",
       "  [0.]\n",
       "  [0.]\n",
       "  [0.]\n",
       "  [0.]],\n",
       " Quantum object: dims=[[2, 2, 2], [1, 1, 1]], shape=(8, 1), type='ket'\n",
       " Qobj data =\n",
       " [[0.]\n",
       "  [0.]\n",
       "  [0.]\n",
       "  [1.]\n",
       "  [0.]\n",
       "  [0.]\n",
       "  [0.]\n",
       "  [0.]],\n",
       " Quantum object: dims=[[2, 2, 2], [1, 1, 1]], shape=(8, 1), type='ket'\n",
       " Qobj data =\n",
       " [[0.]\n",
       "  [0.]\n",
       "  [0.]\n",
       "  [0.]\n",
       "  [0.]\n",
       "  [1.]\n",
       "  [0.]\n",
       "  [0.]],\n",
       " Quantum object: dims=[[2, 2, 2], [1, 1, 1]], shape=(8, 1), type='ket'\n",
       " Qobj data =\n",
       " [[0.]\n",
       "  [0.]\n",
       "  [0.]\n",
       "  [0.]\n",
       "  [0.]\n",
       "  [0.]\n",
       "  [0.]\n",
       "  [1.]]]"
      ]
     },
     "execution_count": 16,
     "metadata": {},
     "output_type": "execute_result"
    }
   ],
   "source": [
    "results.final_states"
   ]
  },
  {
   "cell_type": "code",
   "execution_count": 17,
   "id": "f80a036d",
   "metadata": {
    "execution": {
     "iopub.execute_input": "2023-03-15T08:48:03.673290Z",
     "iopub.status.busy": "2023-03-15T08:48:03.672919Z",
     "iopub.status.idle": "2023-03-15T08:48:03.678311Z",
     "shell.execute_reply": "2023-03-15T08:48:03.677730Z"
    }
   },
   "outputs": [
    {
     "name": "stdout",
     "output_type": "stream",
     "text": [
      "\n",
      "QuTiP: Quantum Toolbox in Python\n",
      "================================\n",
      "Copyright (c) QuTiP team 2011 and later.\n",
      "Current admin team: Alexander Pitchford, Nathan Shammah, Shahnawaz Ahmed, Neill Lambert, Eric Giguère, Boxi Li, Jake Lishman, Simon Cross and Asier Galicia.\n",
      "Board members: Daniel Burgarth, Robert Johansson, Anton F. Kockum, Franco Nori and Will Zeng.\n",
      "Original developers: R. J. Johansson & P. D. Nation.\n",
      "Previous lead developers: Chris Granade & A. Grimsmo.\n",
      "Currently developed through wide collaboration. See https://github.com/qutip for details.\n",
      "\n",
      "QuTiP Version:      5.0.0.dev0+afd160b\n",
      "Numpy Version:      1.22.4\n",
      "Scipy Version:      1.8.1\n",
      "Cython Version:     0.29.33\n",
      "Matplotlib Version: 3.5.2\n",
      "Python Version:     3.10.4\n",
      "Number of CPUs:     2\n",
      "BLAS Info:          Generic\n",
      "INTEL MKL Ext:      False\n",
      "Platform Info:      Linux (x86_64)\n",
      "Installation path:  /home/runner/work/qutip-tutorials/qutip-tutorials/qutip/qutip\n",
      "================================================================================\n",
      "Please cite QuTiP in your publication.\n",
      "================================================================================\n",
      "For your convenience a bibtex reference can be easily generated using `qutip.cite()`\n"
     ]
    }
   ],
   "source": [
    "about()"
   ]
  }
 ],
 "metadata": {
  "jupytext": {
   "cell_metadata_filter": "-all",
   "notebook_metadata_filter": "-jupytext.cell_metadata_filter,-jupytext.notebook_metadata_filter"
  },
  "kernelspec": {
   "display_name": "Python 3 (ipykernel)",
   "language": "python",
   "name": "python3"
  },
  "language_info": {
   "codemirror_mode": {
    "name": "ipython",
    "version": 3
   },
   "file_extension": ".py",
   "mimetype": "text/x-python",
   "name": "python",
   "nbconvert_exporter": "python",
   "pygments_lexer": "ipython3",
   "version": "3.10.4"
  }
 },
 "nbformat": 4,
 "nbformat_minor": 5
}
