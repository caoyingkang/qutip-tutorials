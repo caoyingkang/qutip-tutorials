{
 "cells": [
  {
   "cell_type": "markdown",
   "id": "03a4d554",
   "metadata": {},
   "source": [
    "# HEOM 1b: Spin-Bath model (very strong coupling)"
   ]
  },
  {
   "cell_type": "markdown",
   "id": "bada3393",
   "metadata": {},
   "source": [
    "## Introduction\n",
    "\n",
    "The HEOM method solves the dynamics and steady state of a system and its environment, the latter of which is encoded in a set of auxiliary density matrices.\n",
    "\n",
    "In this example we show the evolution of a single two-level system in contact with a single Bosonic environment.  The properties of the system are encoded in Hamiltonian, and a coupling operator which describes how it is coupled to the environment.\n",
    "\n",
    "The Bosonic environment is implicitly assumed to obey a particular Hamiltonian, the parameters of which are encoded in the spectral density, and subsequently the free-bath correlation functions.\n",
    "\n",
    "In the example below we show how to model the overdamped Drude-Lorentz Spectral Density, commonly used with the HEOM. We show how to do this using the Matsubara, Pade and fitting decompositions, and compare their convergence.\n",
    "\n",
    "This notebook shows a similar example to notebook 1a, but with much stronger coupling as discussed in [Shi *et al.*, J. Chem. Phys **130**, 084105 (2009)](https://doi.org/10.1063/1.3077918). Please refer to notebook HEOM 1a for a more detailed explanation.\n",
    "\n",
    "As in notebook 1a, we present a variety of simulations using different techniques to showcase the effect of different approximations of the correlation function on the results:\n",
    "\n",
    "- Simulation 1: Matsubara decomposition, not using Ishizaki-Tanimura terminator\n",
    "- Simulation 2: Matsubara decomposition (including terminator)\n",
    "- Simulation 3: Pade decomposition\n",
    "- Simulation 4: Fitting approach\n",
    "\n",
    "Lastly we compare the results to using the Bloch-Redfield approach:\n",
    "\n",
    "- Simulation 5: Bloch-Redfield\n",
    "\n",
    "which does not give the correct evolution in this case.\n",
    "\n",
    "\n",
    "### Drude-Lorentz (overdamped) spectral density\n",
    "\n",
    "The Drude-Lorentz spectral density is:\n",
    "\n",
    "$$J_D(\\omega)= \\frac{2\\omega\\lambda\\gamma}{{\\gamma}^2 + \\omega^2}$$\n",
    "\n",
    "where $\\lambda$ scales the coupling strength, and $\\gamma$ is the cut-off frequency.  We use the convention,\n",
    "\\begin{equation*}\n",
    "C(t) = \\int_0^{\\infty} d\\omega \\frac{J_D(\\omega)}{\\pi}[\\coth(\\beta\\omega) \\cos(\\omega \\tau) - i \\sin(\\omega \\tau)]\n",
    "\\end{equation*}\n",
    "\n",
    "With the HEOM we must use an exponential decomposition:\n",
    "\n",
    "\\begin{equation*}\n",
    "C(t)=\\sum_{k=0}^{k=\\infty} c_k e^{-\\nu_k t}\n",
    "\\end{equation*}\n",
    "\n",
    "As an example, the Matsubara decomposition of the Drude-Lorentz spectral density is given by:\n",
    "\n",
    "\\begin{equation*}\n",
    "    \\nu_k = \\begin{cases}\n",
    "               \\gamma               & k = 0\\\\\n",
    "               {2 \\pi k} / {\\beta }  & k \\geq 1\\\\\n",
    "           \\end{cases}\n",
    "\\end{equation*}\n",
    "\n",
    "\\begin{equation*}\n",
    "    c_k = \\begin{cases}\n",
    "               \\lambda \\gamma (\\cot(\\beta \\gamma / 2) - i)             & k = 0\\\\\n",
    "               4 \\lambda \\gamma \\nu_k / \\{(nu_k^2 - \\gamma^2)\\beta \\}    & k \\geq 1\\\\\n",
    "           \\end{cases}\n",
    "\\end{equation*}\n",
    "\n",
    "Note that in the above, and the following, we set $\\hbar = k_\\mathrm{B} = 1$."
   ]
  },
  {
   "cell_type": "markdown",
   "id": "03fe2b0d",
   "metadata": {},
   "source": [
    "## Setup"
   ]
  },
  {
   "cell_type": "code",
   "execution_count": 1,
   "id": "fb561e21",
   "metadata": {
    "execution": {
     "iopub.execute_input": "2023-03-15T08:41:04.220906Z",
     "iopub.status.busy": "2023-03-15T08:41:04.220358Z",
     "iopub.status.idle": "2023-03-15T08:41:05.267543Z",
     "shell.execute_reply": "2023-03-15T08:41:05.266878Z"
    }
   },
   "outputs": [],
   "source": [
    "import contextlib\n",
    "import time\n",
    "\n",
    "import numpy as np\n",
    "from scipy.optimize import curve_fit\n",
    "import matplotlib.pyplot as plt\n",
    "\n",
    "import qutip\n",
    "from qutip import (\n",
    "    basis,\n",
    "    brmesolve,\n",
    "    expect,\n",
    "    liouvillian,\n",
    "    sigmax,\n",
    "    sigmaz,\n",
    ")\n",
    "from qutip.solver.heom import (\n",
    "    HEOMSolver,\n",
    "    BosonicBath,\n",
    "    DrudeLorentzBath,\n",
    "    DrudeLorentzPadeBath,\n",
    "    BathExponent,\n",
    ")\n",
    "\n",
    "%matplotlib inline"
   ]
  },
  {
   "cell_type": "markdown",
   "id": "ef009d95",
   "metadata": {},
   "source": [
    "## Helper functions\n",
    "\n",
    "Let's define some helper functions for calculating correlation function expansions, plotting results and timing how long operations take:"
   ]
  },
  {
   "cell_type": "code",
   "execution_count": 2,
   "id": "79c27a88",
   "metadata": {
    "execution": {
     "iopub.execute_input": "2023-03-15T08:41:05.271409Z",
     "iopub.status.busy": "2023-03-15T08:41:05.270755Z",
     "iopub.status.idle": "2023-03-15T08:41:05.275928Z",
     "shell.execute_reply": "2023-03-15T08:41:05.275186Z"
    }
   },
   "outputs": [],
   "source": [
    "def cot(x):\n",
    "    \"\"\" Vectorized cotangent of x. \"\"\"\n",
    "    return 1. / np.tan(x)"
   ]
  },
  {
   "cell_type": "code",
   "execution_count": 3,
   "id": "22c22bdd",
   "metadata": {
    "execution": {
     "iopub.execute_input": "2023-03-15T08:41:05.278770Z",
     "iopub.status.busy": "2023-03-15T08:41:05.278357Z",
     "iopub.status.idle": "2023-03-15T08:41:05.283302Z",
     "shell.execute_reply": "2023-03-15T08:41:05.282679Z"
    }
   },
   "outputs": [],
   "source": [
    "@contextlib.contextmanager\n",
    "def timer(label):\n",
    "    \"\"\" Simple utility for timing functions:\n",
    "\n",
    "        with timer(\"name\"):\n",
    "            ... code to time ...\n",
    "    \"\"\"\n",
    "    start = time.time()\n",
    "    yield\n",
    "    end = time.time()\n",
    "    print(f\"{label}: {end - start}\")"
   ]
  },
  {
   "cell_type": "code",
   "execution_count": 4,
   "id": "9ec4b1e3",
   "metadata": {
    "execution": {
     "iopub.execute_input": "2023-03-15T08:41:05.285972Z",
     "iopub.status.busy": "2023-03-15T08:41:05.285610Z",
     "iopub.status.idle": "2023-03-15T08:41:05.290088Z",
     "shell.execute_reply": "2023-03-15T08:41:05.289506Z"
    }
   },
   "outputs": [],
   "source": [
    "# Solver options:\n",
    "\n",
    "options = {\n",
    "    \"nsteps\": 15000,\n",
    "    \"store_states\": True,\n",
    "    \"rtol\": 1e-14,\n",
    "    \"atol\": 1e-14,\n",
    "    \"method\": \"vern9\",\n",
    "    \"progress_bar\": \"enhanced\",\n",
    "}"
   ]
  },
  {
   "cell_type": "markdown",
   "id": "a40c2875",
   "metadata": {},
   "source": [
    "## System and bath definition\n",
    "\n",
    "And let us set up the system Hamiltonian, bath and system measurement operators:"
   ]
  },
  {
   "cell_type": "code",
   "execution_count": 5,
   "id": "851c30db",
   "metadata": {
    "execution": {
     "iopub.execute_input": "2023-03-15T08:41:05.292804Z",
     "iopub.status.busy": "2023-03-15T08:41:05.292239Z",
     "iopub.status.idle": "2023-03-15T08:41:05.295897Z",
     "shell.execute_reply": "2023-03-15T08:41:05.295241Z"
    }
   },
   "outputs": [],
   "source": [
    "# Defining the system Hamiltonian\n",
    "eps = .0     # Energy of the 2-level system.\n",
    "Del = .2     # Tunnelling term\n",
    "Hsys = 0.5 * eps * sigmaz() + 0.5 * Del * sigmax()"
   ]
  },
  {
   "cell_type": "code",
   "execution_count": 6,
   "id": "ffcb5b1a",
   "metadata": {
    "execution": {
     "iopub.execute_input": "2023-03-15T08:41:05.298714Z",
     "iopub.status.busy": "2023-03-15T08:41:05.298155Z",
     "iopub.status.idle": "2023-03-15T08:41:05.301652Z",
     "shell.execute_reply": "2023-03-15T08:41:05.300986Z"
    }
   },
   "outputs": [],
   "source": [
    "# Initial state of the system.\n",
    "rho0 = basis(2, 0) * basis(2, 0).dag()"
   ]
  },
  {
   "cell_type": "code",
   "execution_count": 7,
   "id": "d685ec09",
   "metadata": {
    "execution": {
     "iopub.execute_input": "2023-03-15T08:41:05.304442Z",
     "iopub.status.busy": "2023-03-15T08:41:05.303920Z",
     "iopub.status.idle": "2023-03-15T08:41:05.308150Z",
     "shell.execute_reply": "2023-03-15T08:41:05.307490Z"
    }
   },
   "outputs": [],
   "source": [
    "# System-bath coupling (Drude-Lorentz spectral density)\n",
    "Q = sigmaz()  # coupling operator\n",
    "\n",
    "# Bath properties (see Shi et al., J. Chem. Phys. 130, 084105 (2009)):\n",
    "gamma = 1.  # cut off frequency\n",
    "lam = 2.5   # coupling strength\n",
    "T = 1.      # in units where Boltzmann factor is 1\n",
    "beta = 1. / T\n",
    "\n",
    "# HEOM parameters:\n",
    "\n",
    "# number of exponents to retain in the Matsubara expansion of the\n",
    "# bath correlation function:\n",
    "Nk = 1\n",
    "\n",
    "# Number of levels of the hierarchy to retain:\n",
    "NC = 13\n",
    "\n",
    "# Times to solve for:\n",
    "tlist = np.linspace(0, np.pi / Del, 600)"
   ]
  },
  {
   "cell_type": "code",
   "execution_count": 8,
   "id": "9a68497b",
   "metadata": {
    "execution": {
     "iopub.execute_input": "2023-03-15T08:41:05.310842Z",
     "iopub.status.busy": "2023-03-15T08:41:05.310471Z",
     "iopub.status.idle": "2023-03-15T08:41:05.314585Z",
     "shell.execute_reply": "2023-03-15T08:41:05.313906Z"
    }
   },
   "outputs": [],
   "source": [
    "# Define some operators with which we will measure the system\n",
    "# 1,1 element of density matrix - corresonding to groundstate\n",
    "P11p = basis(2, 0) * basis(2, 0).dag()\n",
    "P22p = basis(2, 1) * basis(2, 1).dag()\n",
    "# 1,2 element of density matrix  - corresonding to coherence\n",
    "P12p = basis(2, 0) * basis(2, 1).dag()"
   ]
  },
  {
   "cell_type": "markdown",
   "id": "9d07fe00",
   "metadata": {},
   "source": [
    "### Plot the spectral density\n",
    "\n",
    "Let us briefly inspect the spectral density."
   ]
  },
  {
   "cell_type": "code",
   "execution_count": 9,
   "id": "7ce0bb43",
   "metadata": {
    "execution": {
     "iopub.execute_input": "2023-03-15T08:41:05.317383Z",
     "iopub.status.busy": "2023-03-15T08:41:05.316827Z",
     "iopub.status.idle": "2023-03-15T08:41:05.538833Z",
     "shell.execute_reply": "2023-03-15T08:41:05.538157Z"
    }
   },
   "outputs": [
    {
     "data": {
      "image/png": "[encoded data removed]",
      "text/plain": [
       "<Figure size 800x800 with 1 Axes>"
      ]
     },
     "metadata": {},
     "output_type": "display_data"
    }
   ],
   "source": [
    "w = np.linspace(0, 5, 1000)\n",
    "J = w * 2 * lam * gamma / ((gamma**2 + w**2))\n",
    "\n",
    "# Plot the results\n",
    "fig, axes = plt.subplots(1, 1, sharex=True, figsize=(8, 8))\n",
    "axes.plot(w, J, 'r', linewidth=2)\n",
    "axes.set_xlabel(r'$\\omega$', fontsize=28)\n",
    "axes.set_ylabel(r'J', fontsize=28);"
   ]
  },
  {
   "cell_type": "markdown",
   "id": "79c3706f",
   "metadata": {},
   "source": [
    "## Simulation 1: Matsubara decomposition, not using Ishizaki-Tanimura terminator"
   ]
  },
  {
   "cell_type": "code",
   "execution_count": 10,
   "id": "6c9376a2",
   "metadata": {
    "execution": {
     "iopub.execute_input": "2023-03-15T08:41:05.542590Z",
     "iopub.status.busy": "2023-03-15T08:41:05.541830Z",
     "iopub.status.idle": "2023-03-15T08:41:06.160646Z",
     "shell.execute_reply": "2023-03-15T08:41:06.160116Z"
    }
   },
   "outputs": [
    {
     "name": "stdout",
     "output_type": "stream",
     "text": [
      "RHS construction time: 0.014632463455200195\n",
      "\r",
      " [          0%           ] Elapsed 0.00s / Remaining 00:00:00:00"
     ]
    },
    {
     "name": "stdout",
     "output_type": "stream",
     "text": [
      "\r",
      " [          0%           ] Elapsed 0.00s / Remaining 00:00:00:00"
     ]
    },
    {
     "name": "stdout",
     "output_type": "stream",
     "text": [
      "\r",
      " [          1%           ] Elapsed 0.01s / Remaining 00:00:00:00"
     ]
    },
    {
     "name": "stdout",
     "output_type": "stream",
     "text": [
      "\r",
      " [          1%           ] Elapsed 0.01s / Remaining 00:00:00:00"
     ]
    },
    {
     "name": "stdout",
     "output_type": "stream",
     "text": [
      "\r",
      " [          1%           ] Elapsed 0.01s / Remaining 00:00:00:00"
     ]
    },
    {
     "name": "stdout",
     "output_type": "stream",
     "text": [
      "\r",
      " [          1%           ] Elapsed 0.01s / Remaining 00:00:00:01"
     ]
    },
    {
     "name": "stdout",
     "output_type": "stream",
     "text": [
      "\r",
      " [          1%           ] Elapsed 0.01s / Remaining 00:00:00:01"
     ]
    },
    {
     "name": "stdout",
     "output_type": "stream",
     "text": [
      "\r",
      " [          1%           ] Elapsed 0.01s / Remaining 00:00:00:01"
     ]
    },
    {
     "name": "stdout",
     "output_type": "stream",
     "text": [
      "\r",
      " [          2%           ] Elapsed 0.02s / Remaining 00:00:00:00"
     ]
    },
    {
     "name": "stdout",
     "output_type": "stream",
     "text": [
      "\r",
      " [          2%           ] Elapsed 0.02s / Remaining 00:00:00:00"
     ]
    },
    {
     "name": "stdout",
     "output_type": "stream",
     "text": [
      "\r",
      " [          2%           ] Elapsed 0.02s / Remaining 00:00:00:00"
     ]
    },
    {
     "name": "stdout",
     "output_type": "stream",
     "text": [
      "\r",
      " [          2%           ] Elapsed 0.02s / Remaining 00:00:00:01"
     ]
    },
    {
     "name": "stdout",
     "output_type": "stream",
     "text": [
      "\r",
      " [          2%           ] Elapsed 0.02s / Remaining 00:00:00:01"
     ]
    },
    {
     "name": "stdout",
     "output_type": "stream",
     "text": [
      "\r",
      " [          2%           ] Elapsed 0.02s / Remaining 00:00:00:01"
     ]
    },
    {
     "name": "stdout",
     "output_type": "stream",
     "text": [
      "\r",
      " [*         3%           ] Elapsed 0.03s / Remaining 00:00:00:00"
     ]
    },
    {
     "name": "stdout",
     "output_type": "stream",
     "text": [
      "\r",
      " [*         3%           ] Elapsed 0.03s / Remaining 00:00:00:00"
     ]
    },
    {
     "name": "stdout",
     "output_type": "stream",
     "text": [
      "\r",
      " [*         3%           ] Elapsed 0.03s / Remaining 00:00:00:00"
     ]
    },
    {
     "name": "stdout",
     "output_type": "stream",
     "text": [
      "\r",
      " [*         3%           ] Elapsed 0.03s / Remaining 00:00:00:01"
     ]
    },
    {
     "name": "stdout",
     "output_type": "stream",
     "text": [
      "\r",
      " [*         3%           ] Elapsed 0.03s / Remaining 00:00:00:01"
     ]
    },
    {
     "name": "stdout",
     "output_type": "stream",
     "text": [
      "\r",
      " [*         3%           ] Elapsed 0.04s / Remaining 00:00:00:01"
     ]
    },
    {
     "name": "stdout",
     "output_type": "stream",
     "text": [
      "\r",
      " [*         4%           ] Elapsed 0.04s / Remaining 00:00:00:00"
     ]
    },
    {
     "name": "stdout",
     "output_type": "stream",
     "text": [
      "\r",
      " [*         4%           ] Elapsed 0.04s / Remaining 00:00:00:00"
     ]
    },
    {
     "name": "stdout",
     "output_type": "stream",
     "text": [
      "\r",
      " [*         4%           ] Elapsed 0.04s / Remaining 00:00:00:00"
     ]
    },
    {
     "name": "stdout",
     "output_type": "stream",
     "text": [
      "\r",
      " [*         4%           ] Elapsed 0.04s / Remaining 00:00:00:01"
     ]
    },
    {
     "name": "stdout",
     "output_type": "stream",
     "text": [
      "\r",
      " [*         4%           ] Elapsed 0.04s / Remaining 00:00:00:01"
     ]
    },
    {
     "name": "stdout",
     "output_type": "stream",
     "text": [
      "\r",
      " [*         4%           ] Elapsed 0.05s / Remaining 00:00:00:01"
     ]
    },
    {
     "name": "stdout",
     "output_type": "stream",
     "text": [
      "\r",
      " [*         5%           ] Elapsed 0.05s / Remaining 00:00:00:00"
     ]
    },
    {
     "name": "stdout",
     "output_type": "stream",
     "text": [
      "\r",
      " [*         5%           ] Elapsed 0.05s / Remaining 00:00:00:00"
     ]
    },
    {
     "name": "stdout",
     "output_type": "stream",
     "text": [
      "\r",
      " [*         5%           ] Elapsed 0.05s / Remaining 00:00:00:00"
     ]
    },
    {
     "name": "stdout",
     "output_type": "stream",
     "text": [
      "\r",
      " [*         5%           ] Elapsed 0.05s / Remaining 00:00:00:01"
     ]
    },
    {
     "name": "stdout",
     "output_type": "stream",
     "text": [
      "\r",
      " [*         5%           ] Elapsed 0.05s / Remaining 00:00:00:01"
     ]
    },
    {
     "name": "stdout",
     "output_type": "stream",
     "text": [
      "\r",
      " [*         5%           ] Elapsed 0.06s / Remaining 00:00:00:01"
     ]
    },
    {
     "name": "stdout",
     "output_type": "stream",
     "text": [
      "\r",
      " [*         6%           ] Elapsed 0.06s / Remaining 00:00:00:00"
     ]
    },
    {
     "name": "stdout",
     "output_type": "stream",
     "text": [
      "\r",
      " [*         6%           ] Elapsed 0.06s / Remaining 00:00:00:00"
     ]
    },
    {
     "name": "stdout",
     "output_type": "stream",
     "text": [
      "\r",
      " [*         6%           ] Elapsed 0.06s / Remaining 00:00:00:00"
     ]
    },
    {
     "name": "stdout",
     "output_type": "stream",
     "text": [
      "\r",
      " [*         6%           ] Elapsed 0.06s / Remaining 00:00:00:00"
     ]
    },
    {
     "name": "stdout",
     "output_type": "stream",
     "text": [
      "\r",
      " [*         6%           ] Elapsed 0.06s / Remaining 00:00:00:01"
     ]
    },
    {
     "name": "stdout",
     "output_type": "stream",
     "text": [
      "\r",
      " [*         6%           ] Elapsed 0.07s / Remaining 00:00:00:01"
     ]
    },
    {
     "name": "stdout",
     "output_type": "stream",
     "text": [
      "\r",
      " [**        7%           ] Elapsed 0.07s / Remaining 00:00:00:00"
     ]
    },
    {
     "name": "stdout",
     "output_type": "stream",
     "text": [
      "\r",
      " [**        7%           ] Elapsed 0.07s / Remaining 00:00:00:00"
     ]
    },
    {
     "name": "stdout",
     "output_type": "stream",
     "text": [
      "\r",
      " [**        7%           ] Elapsed 0.07s / Remaining 00:00:00:00"
     ]
    },
    {
     "name": "stdout",
     "output_type": "stream",
     "text": [
      "\r",
      " [**        7%           ] Elapsed 0.07s / Remaining 00:00:00:00"
     ]
    },
    {
     "name": "stdout",
     "output_type": "stream",
     "text": [
      "\r",
      " [**        7%           ] Elapsed 0.07s / Remaining 00:00:00:00"
     ]
    },
    {
     "name": "stdout",
     "output_type": "stream",
     "text": [
      "\r",
      " [**        7%           ] Elapsed 0.07s / Remaining 00:00:00:00"
     ]
    },
    {
     "name": "stdout",
     "output_type": "stream",
     "text": [
      "\r",
      " [**        8%           ] Elapsed 0.07s / Remaining 00:00:00:00"
     ]
    },
    {
     "name": "stdout",
     "output_type": "stream",
     "text": [
      "\r",
      " [**        8%           ] Elapsed 0.08s / Remaining 00:00:00:00"
     ]
    },
    {
     "name": "stdout",
     "output_type": "stream",
     "text": [
      "\r",
      " [**        8%           ] Elapsed 0.08s / Remaining 00:00:00:00"
     ]
    },
    {
     "name": "stdout",
     "output_type": "stream",
     "text": [
      "\r",
      " [**        8%           ] Elapsed 0.08s / Remaining 00:00:00:00"
     ]
    },
    {
     "name": "stdout",
     "output_type": "stream",
     "text": [
      "\r",
      " [**        8%           ] Elapsed 0.08s / Remaining 00:00:00:00"
     ]
    },
    {
     "name": "stdout",
     "output_type": "stream",
     "text": [
      "\r",
      " [**        8%           ] Elapsed 0.08s / Remaining 00:00:00:00"
     ]
    },
    {
     "name": "stdout",
     "output_type": "stream",
     "text": [
      "\r",
      " [**        9%           ] Elapsed 0.08s / Remaining 00:00:00:00"
     ]
    },
    {
     "name": "stdout",
     "output_type": "stream",
     "text": [
      "\r",
      " [**        9%           ] Elapsed 0.08s / Remaining 00:00:00:00"
     ]
    },
    {
     "name": "stdout",
     "output_type": "stream",
     "text": [
      "\r",
      " [**        9%           ] Elapsed 0.08s / Remaining 00:00:00:00"
     ]
    },
    {
     "name": "stdout",
     "output_type": "stream",
     "text": [
      "\r",
      " [**        9%           ] Elapsed 0.09s / Remaining 00:00:00:00"
     ]
    },
    {
     "name": "stdout",
     "output_type": "stream",
     "text": [
      "\r",
      " [**        9%           ] Elapsed 0.09s / Remaining 00:00:00:00"
     ]
    },
    {
     "name": "stdout",
     "output_type": "stream",
     "text": [
      "\r",
      " [**        9%           ] Elapsed 0.09s / Remaining 00:00:00:00"
     ]
    },
    {
     "name": "stdout",
     "output_type": "stream",
     "text": [
      "\r",
      " [**       10%           ] Elapsed 0.09s / Remaining 00:00:00:00"
     ]
    },
    {
     "name": "stdout",
     "output_type": "stream",
     "text": [
      "\r",
      " [**       10%           ] Elapsed 0.09s / Remaining 00:00:00:00"
     ]
    },
    {
     "name": "stdout",
     "output_type": "stream",
     "text": [
      "\r",
      " [**       10%           ] Elapsed 0.09s / Remaining 00:00:00:00"
     ]
    },
    {
     "name": "stdout",
     "output_type": "stream",
     "text": [
      "\r",
      " [**       10%           ] Elapsed 0.09s / Remaining 00:00:00:00"
     ]
    },
    {
     "name": "stdout",
     "output_type": "stream",
     "text": [
      "\r",
      " [**       10%           ] Elapsed 0.09s / Remaining 00:00:00:00"
     ]
    },
    {
     "name": "stdout",
     "output_type": "stream",
     "text": [
      "\r",
      " [**       10%           ] Elapsed 0.09s / Remaining 00:00:00:00"
     ]
    },
    {
     "name": "stdout",
     "output_type": "stream",
     "text": [
      "\r",
      " [***      11%           ] Elapsed 0.10s / Remaining 00:00:00:00"
     ]
    },
    {
     "name": "stdout",
     "output_type": "stream",
     "text": [
      "\r",
      " [***      11%           ] Elapsed 0.10s / Remaining 00:00:00:00"
     ]
    },
    {
     "name": "stdout",
     "output_type": "stream",
     "text": [
      "\r",
      " [***      11%           ] Elapsed 0.10s / Remaining 00:00:00:00"
     ]
    },
    {
     "name": "stdout",
     "output_type": "stream",
     "text": [
      "\r",
      " [***      11%           ] Elapsed 0.10s / Remaining 00:00:00:00"
     ]
    },
    {
     "name": "stdout",
     "output_type": "stream",
     "text": [
      "\r",
      " [***      11%           ] Elapsed 0.10s / Remaining 00:00:00:00"
     ]
    },
    {
     "name": "stdout",
     "output_type": "stream",
     "text": [
      "\r",
      " [***      11%           ] Elapsed 0.10s / Remaining 00:00:00:00"
     ]
    },
    {
     "name": "stdout",
     "output_type": "stream",
     "text": [
      "\r",
      " [***      12%           ] Elapsed 0.10s / Remaining 00:00:00:00"
     ]
    },
    {
     "name": "stdout",
     "output_type": "stream",
     "text": [
      "\r",
      " [***      12%           ] Elapsed 0.10s / Remaining 00:00:00:00"
     ]
    },
    {
     "name": "stdout",
     "output_type": "stream",
     "text": [
      "\r",
      " [***      12%           ] Elapsed 0.10s / Remaining 00:00:00:00"
     ]
    },
    {
     "name": "stdout",
     "output_type": "stream",
     "text": [
      "\r",
      " [***      12%           ] Elapsed 0.10s / Remaining 00:00:00:00"
     ]
    },
    {
     "name": "stdout",
     "output_type": "stream",
     "text": [
      "\r",
      " [***      12%           ] Elapsed 0.11s / Remaining 00:00:00:00"
     ]
    },
    {
     "name": "stdout",
     "output_type": "stream",
     "text": [
      "\r",
      " [***      12%           ] Elapsed 0.11s / Remaining 00:00:00:00"
     ]
    },
    {
     "name": "stdout",
     "output_type": "stream",
     "text": [
      "\r",
      " [***      13%           ] Elapsed 0.11s / Remaining 00:00:00:00"
     ]
    },
    {
     "name": "stdout",
     "output_type": "stream",
     "text": [
      "\r",
      " [***      13%           ] Elapsed 0.11s / Remaining 00:00:00:00"
     ]
    },
    {
     "name": "stdout",
     "output_type": "stream",
     "text": [
      "\r",
      " [***      13%           ] Elapsed 0.11s / Remaining 00:00:00:00"
     ]
    },
    {
     "name": "stdout",
     "output_type": "stream",
     "text": [
      "\r",
      " [***      13%           ] Elapsed 0.11s / Remaining 00:00:00:00"
     ]
    },
    {
     "name": "stdout",
     "output_type": "stream",
     "text": [
      "\r",
      " [***      13%           ] Elapsed 0.11s / Remaining 00:00:00:00"
     ]
    },
    {
     "name": "stdout",
     "output_type": "stream",
     "text": [
      "\r",
      " [***      13%           ] Elapsed 0.11s / Remaining 00:00:00:00"
     ]
    },
    {
     "name": "stdout",
     "output_type": "stream",
     "text": [
      "\r",
      " [***      14%           ] Elapsed 0.11s / Remaining 00:00:00:00"
     ]
    },
    {
     "name": "stdout",
     "output_type": "stream",
     "text": [
      "\r",
      " [***      14%           ] Elapsed 0.11s / Remaining 00:00:00:00"
     ]
    },
    {
     "name": "stdout",
     "output_type": "stream",
     "text": [
      "\r",
      " [***      14%           ] Elapsed 0.11s / Remaining 00:00:00:00"
     ]
    },
    {
     "name": "stdout",
     "output_type": "stream",
     "text": [
      "\r",
      " [***      14%           ] Elapsed 0.12s / Remaining 00:00:00:00"
     ]
    },
    {
     "name": "stdout",
     "output_type": "stream",
     "text": [
      "\r",
      " [***      14%           ] Elapsed 0.12s / Remaining 00:00:00:00"
     ]
    },
    {
     "name": "stdout",
     "output_type": "stream",
     "text": [
      "\r",
      " [***      14%           ] Elapsed 0.12s / Remaining 00:00:00:00"
     ]
    },
    {
     "name": "stdout",
     "output_type": "stream",
     "text": [
      "\r",
      " [***      15%           ] Elapsed 0.12s / Remaining 00:00:00:00"
     ]
    },
    {
     "name": "stdout",
     "output_type": "stream",
     "text": [
      "\r",
      " [***      15%           ] Elapsed 0.12s / Remaining 00:00:00:00"
     ]
    },
    {
     "name": "stdout",
     "output_type": "stream",
     "text": [
      "\r",
      " [***      15%           ] Elapsed 0.12s / Remaining 00:00:00:00"
     ]
    },
    {
     "name": "stdout",
     "output_type": "stream",
     "text": [
      "\r",
      " [***      15%           ] Elapsed 0.12s / Remaining 00:00:00:00"
     ]
    },
    {
     "name": "stdout",
     "output_type": "stream",
     "text": [
      "\r",
      " [***      15%           ] Elapsed 0.12s / Remaining 00:00:00:00"
     ]
    },
    {
     "name": "stdout",
     "output_type": "stream",
     "text": [
      "\r",
      " [***      15%           ] Elapsed 0.12s / Remaining 00:00:00:00"
     ]
    },
    {
     "name": "stdout",
     "output_type": "stream",
     "text": [
      "\r",
      " [****     16%           ] Elapsed 0.12s / Remaining 00:00:00:00"
     ]
    },
    {
     "name": "stdout",
     "output_type": "stream",
     "text": [
      "\r",
      " [****     16%           ] Elapsed 0.12s / Remaining 00:00:00:00"
     ]
    },
    {
     "name": "stdout",
     "output_type": "stream",
     "text": [
      "\r",
      " [****     16%           ] Elapsed 0.12s / Remaining 00:00:00:00"
     ]
    },
    {
     "name": "stdout",
     "output_type": "stream",
     "text": [
      "\r",
      " [****     16%           ] Elapsed 0.12s / Remaining 00:00:00:00"
     ]
    },
    {
     "name": "stdout",
     "output_type": "stream",
     "text": [
      "\r",
      " [****     16%           ] Elapsed 0.13s / Remaining 00:00:00:00"
     ]
    },
    {
     "name": "stdout",
     "output_type": "stream",
     "text": [
      "\r",
      " [****     16%           ] Elapsed 0.13s / Remaining 00:00:00:00"
     ]
    },
    {
     "name": "stdout",
     "output_type": "stream",
     "text": [
      "\r",
      " [****     17%           ] Elapsed 0.13s / Remaining 00:00:00:00"
     ]
    },
    {
     "name": "stdout",
     "output_type": "stream",
     "text": [
      "\r",
      " [****     17%           ] Elapsed 0.13s / Remaining 00:00:00:00"
     ]
    },
    {
     "name": "stdout",
     "output_type": "stream",
     "text": [
      "\r",
      " [****     17%           ] Elapsed 0.13s / Remaining 00:00:00:00"
     ]
    },
    {
     "name": "stdout",
     "output_type": "stream",
     "text": [
      "\r",
      " [****     17%           ] Elapsed 0.13s / Remaining 00:00:00:00"
     ]
    },
    {
     "name": "stdout",
     "output_type": "stream",
     "text": [
      "\r",
      " [****     17%           ] Elapsed 0.13s / Remaining 00:00:00:00"
     ]
    },
    {
     "name": "stdout",
     "output_type": "stream",
     "text": [
      "\r",
      " [****     17%           ] Elapsed 0.13s / Remaining 00:00:00:00"
     ]
    },
    {
     "name": "stdout",
     "output_type": "stream",
     "text": [
      "\r",
      " [****     18%           ] Elapsed 0.13s / Remaining 00:00:00:00"
     ]
    },
    {
     "name": "stdout",
     "output_type": "stream",
     "text": [
      "\r",
      " [****     18%           ] Elapsed 0.13s / Remaining 00:00:00:00"
     ]
    },
    {
     "name": "stdout",
     "output_type": "stream",
     "text": [
      "\r",
      " [****     18%           ] Elapsed 0.13s / Remaining 00:00:00:00"
     ]
    },
    {
     "name": "stdout",
     "output_type": "stream",
     "text": [
      "\r",
      " [****     18%           ] Elapsed 0.14s / Remaining 00:00:00:00"
     ]
    },
    {
     "name": "stdout",
     "output_type": "stream",
     "text": [
      "\r",
      " [****     18%           ] Elapsed 0.14s / Remaining 00:00:00:00"
     ]
    },
    {
     "name": "stdout",
     "output_type": "stream",
     "text": [
      "\r",
      " [****     18%           ] Elapsed 0.14s / Remaining 00:00:00:00"
     ]
    },
    {
     "name": "stdout",
     "output_type": "stream",
     "text": [
      "\r",
      " [****     19%           ] Elapsed 0.14s / Remaining 00:00:00:00"
     ]
    },
    {
     "name": "stdout",
     "output_type": "stream",
     "text": [
      "\r",
      " [****     19%           ] Elapsed 0.14s / Remaining 00:00:00:00"
     ]
    },
    {
     "name": "stdout",
     "output_type": "stream",
     "text": [
      "\r",
      " [****     19%           ] Elapsed 0.14s / Remaining 00:00:00:00"
     ]
    },
    {
     "name": "stdout",
     "output_type": "stream",
     "text": [
      "\r",
      " [****     19%           ] Elapsed 0.14s / Remaining 00:00:00:00"
     ]
    },
    {
     "name": "stdout",
     "output_type": "stream",
     "text": [
      "\r",
      " [****     19%           ] Elapsed 0.14s / Remaining 00:00:00:00"
     ]
    },
    {
     "name": "stdout",
     "output_type": "stream",
     "text": [
      "\r",
      " [****     19%           ] Elapsed 0.14s / Remaining 00:00:00:00"
     ]
    },
    {
     "name": "stdout",
     "output_type": "stream",
     "text": [
      "\r",
      " [*****    20%           ] Elapsed 0.14s / Remaining 00:00:00:00"
     ]
    },
    {
     "name": "stdout",
     "output_type": "stream",
     "text": [
      "\r",
      " [*****    20%           ] Elapsed 0.14s / Remaining 00:00:00:00"
     ]
    },
    {
     "name": "stdout",
     "output_type": "stream",
     "text": [
      "\r",
      " [*****    20%           ] Elapsed 0.14s / Remaining 00:00:00:00"
     ]
    },
    {
     "name": "stdout",
     "output_type": "stream",
     "text": [
      "\r",
      " [*****    20%           ] Elapsed 0.14s / Remaining 00:00:00:00"
     ]
    },
    {
     "name": "stdout",
     "output_type": "stream",
     "text": [
      "\r",
      " [*****    20%           ] Elapsed 0.15s / Remaining 00:00:00:00"
     ]
    },
    {
     "name": "stdout",
     "output_type": "stream",
     "text": [
      "\r",
      " [*****    20%           ] Elapsed 0.15s / Remaining 00:00:00:00"
     ]
    },
    {
     "name": "stdout",
     "output_type": "stream",
     "text": [
      "\r",
      " [*****    21%           ] Elapsed 0.15s / Remaining 00:00:00:00"
     ]
    },
    {
     "name": "stdout",
     "output_type": "stream",
     "text": [
      "\r",
      " [*****    21%           ] Elapsed 0.15s / Remaining 00:00:00:00"
     ]
    },
    {
     "name": "stdout",
     "output_type": "stream",
     "text": [
      "\r",
      " [*****    21%           ] Elapsed 0.15s / Remaining 00:00:00:00"
     ]
    },
    {
     "name": "stdout",
     "output_type": "stream",
     "text": [
      "\r",
      " [*****    21%           ] Elapsed 0.15s / Remaining 00:00:00:00"
     ]
    },
    {
     "name": "stdout",
     "output_type": "stream",
     "text": [
      "\r",
      " [*****    21%           ] Elapsed 0.15s / Remaining 00:00:00:00"
     ]
    },
    {
     "name": "stdout",
     "output_type": "stream",
     "text": [
      "\r",
      " [*****    21%           ] Elapsed 0.15s / Remaining 00:00:00:00"
     ]
    },
    {
     "name": "stdout",
     "output_type": "stream",
     "text": [
      "\r",
      " [*****    22%           ] Elapsed 0.15s / Remaining 00:00:00:00"
     ]
    },
    {
     "name": "stdout",
     "output_type": "stream",
     "text": [
      "\r",
      " [*****    22%           ] Elapsed 0.15s / Remaining 00:00:00:00"
     ]
    },
    {
     "name": "stdout",
     "output_type": "stream",
     "text": [
      "\r",
      " [*****    22%           ] Elapsed 0.15s / Remaining 00:00:00:00"
     ]
    },
    {
     "name": "stdout",
     "output_type": "stream",
     "text": [
      "\r",
      " [*****    22%           ] Elapsed 0.15s / Remaining 00:00:00:00"
     ]
    },
    {
     "name": "stdout",
     "output_type": "stream",
     "text": [
      "\r",
      " [*****    22%           ] Elapsed 0.16s / Remaining 00:00:00:00"
     ]
    },
    {
     "name": "stdout",
     "output_type": "stream",
     "text": [
      "\r",
      " [*****    22%           ] Elapsed 0.16s / Remaining 00:00:00:00"
     ]
    },
    {
     "name": "stdout",
     "output_type": "stream",
     "text": [
      "\r",
      " [*****    23%           ] Elapsed 0.16s / Remaining 00:00:00:00"
     ]
    },
    {
     "name": "stdout",
     "output_type": "stream",
     "text": [
      "\r",
      " [*****    23%           ] Elapsed 0.16s / Remaining 00:00:00:00"
     ]
    },
    {
     "name": "stdout",
     "output_type": "stream",
     "text": [
      "\r",
      " [*****    23%           ] Elapsed 0.16s / Remaining 00:00:00:00"
     ]
    },
    {
     "name": "stdout",
     "output_type": "stream",
     "text": [
      "\r",
      " [*****    23%           ] Elapsed 0.16s / Remaining 00:00:00:00"
     ]
    },
    {
     "name": "stdout",
     "output_type": "stream",
     "text": [
      "\r",
      " [*****    23%           ] Elapsed 0.16s / Remaining 00:00:00:00"
     ]
    },
    {
     "name": "stdout",
     "output_type": "stream",
     "text": [
      "\r",
      " [*****    23%           ] Elapsed 0.16s / Remaining 00:00:00:00"
     ]
    },
    {
     "name": "stdout",
     "output_type": "stream",
     "text": [
      "\r",
      " [******   24%           ] Elapsed 0.16s / Remaining 00:00:00:00"
     ]
    },
    {
     "name": "stdout",
     "output_type": "stream",
     "text": [
      "\r",
      " [******   24%           ] Elapsed 0.16s / Remaining 00:00:00:00"
     ]
    },
    {
     "name": "stdout",
     "output_type": "stream",
     "text": [
      "\r",
      " [******   24%           ] Elapsed 0.16s / Remaining 00:00:00:00"
     ]
    },
    {
     "name": "stdout",
     "output_type": "stream",
     "text": [
      "\r",
      " [******   24%           ] Elapsed 0.17s / Remaining 00:00:00:00"
     ]
    },
    {
     "name": "stdout",
     "output_type": "stream",
     "text": [
      "\r",
      " [******   24%           ] Elapsed 0.17s / Remaining 00:00:00:00"
     ]
    },
    {
     "name": "stdout",
     "output_type": "stream",
     "text": [
      "\r",
      " [******   24%           ] Elapsed 0.17s / Remaining 00:00:00:00"
     ]
    },
    {
     "name": "stdout",
     "output_type": "stream",
     "text": [
      "\r",
      " [******   25%           ] Elapsed 0.17s / Remaining 00:00:00:00"
     ]
    },
    {
     "name": "stdout",
     "output_type": "stream",
     "text": [
      "\r",
      " [******   25%           ] Elapsed 0.17s / Remaining 00:00:00:00"
     ]
    },
    {
     "name": "stdout",
     "output_type": "stream",
     "text": [
      "\r",
      " [******   25%           ] Elapsed 0.17s / Remaining 00:00:00:00"
     ]
    },
    {
     "name": "stdout",
     "output_type": "stream",
     "text": [
      "\r",
      " [******   25%           ] Elapsed 0.17s / Remaining 00:00:00:00"
     ]
    },
    {
     "name": "stdout",
     "output_type": "stream",
     "text": [
      "\r",
      " [******   25%           ] Elapsed 0.17s / Remaining 00:00:00:00"
     ]
    },
    {
     "name": "stdout",
     "output_type": "stream",
     "text": [
      "\r",
      " [******   25%           ] Elapsed 0.17s / Remaining 00:00:00:00"
     ]
    },
    {
     "name": "stdout",
     "output_type": "stream",
     "text": [
      "\r",
      " [******   26%           ] Elapsed 0.17s / Remaining 00:00:00:00"
     ]
    },
    {
     "name": "stdout",
     "output_type": "stream",
     "text": [
      "\r",
      " [******   26%           ] Elapsed 0.17s / Remaining 00:00:00:00"
     ]
    },
    {
     "name": "stdout",
     "output_type": "stream",
     "text": [
      "\r",
      " [******   26%           ] Elapsed 0.17s / Remaining 00:00:00:00"
     ]
    },
    {
     "name": "stdout",
     "output_type": "stream",
     "text": [
      "\r",
      " [******   26%           ] Elapsed 0.17s / Remaining 00:00:00:00"
     ]
    },
    {
     "name": "stdout",
     "output_type": "stream",
     "text": [
      "\r",
      " [******   26%           ] Elapsed 0.18s / Remaining 00:00:00:00"
     ]
    },
    {
     "name": "stdout",
     "output_type": "stream",
     "text": [
      "\r",
      " [******   26%           ] Elapsed 0.18s / Remaining 00:00:00:00"
     ]
    },
    {
     "name": "stdout",
     "output_type": "stream",
     "text": [
      "\r",
      " [******   27%           ] Elapsed 0.18s / Remaining 00:00:00:00"
     ]
    },
    {
     "name": "stdout",
     "output_type": "stream",
     "text": [
      "\r",
      " [******   27%           ] Elapsed 0.18s / Remaining 00:00:00:00"
     ]
    },
    {
     "name": "stdout",
     "output_type": "stream",
     "text": [
      "\r",
      " [******   27%           ] Elapsed 0.18s / Remaining 00:00:00:00"
     ]
    },
    {
     "name": "stdout",
     "output_type": "stream",
     "text": [
      "\r",
      " [******   27%           ] Elapsed 0.18s / Remaining 00:00:00:00"
     ]
    },
    {
     "name": "stdout",
     "output_type": "stream",
     "text": [
      "\r",
      " [******   27%           ] Elapsed 0.18s / Remaining 00:00:00:00"
     ]
    },
    {
     "name": "stdout",
     "output_type": "stream",
     "text": [
      "\r",
      " [******   27%           ] Elapsed 0.18s / Remaining 00:00:00:00"
     ]
    },
    {
     "name": "stdout",
     "output_type": "stream",
     "text": [
      "\r",
      " [******   28%           ] Elapsed 0.19s / Remaining 00:00:00:00"
     ]
    },
    {
     "name": "stdout",
     "output_type": "stream",
     "text": [
      "\r",
      " [******   28%           ] Elapsed 0.19s / Remaining 00:00:00:00"
     ]
    },
    {
     "name": "stdout",
     "output_type": "stream",
     "text": [
      "\r",
      " [******   28%           ] Elapsed 0.19s / Remaining 00:00:00:00"
     ]
    },
    {
     "name": "stdout",
     "output_type": "stream",
     "text": [
      "\r",
      " [******   28%           ] Elapsed 0.19s / Remaining 00:00:00:00"
     ]
    },
    {
     "name": "stdout",
     "output_type": "stream",
     "text": [
      "\r",
      " [******   28%           ] Elapsed 0.19s / Remaining 00:00:00:00"
     ]
    },
    {
     "name": "stdout",
     "output_type": "stream",
     "text": [
      "\r",
      " [******   28%           ] Elapsed 0.19s / Remaining 00:00:00:00"
     ]
    },
    {
     "name": "stdout",
     "output_type": "stream",
     "text": [
      "\r",
      " [*******  29%           ] Elapsed 0.19s / Remaining 00:00:00:00"
     ]
    },
    {
     "name": "stdout",
     "output_type": "stream",
     "text": [
      "\r",
      " [*******  29%           ] Elapsed 0.20s / Remaining 00:00:00:00"
     ]
    },
    {
     "name": "stdout",
     "output_type": "stream",
     "text": [
      "\r",
      " [*******  29%           ] Elapsed 0.20s / Remaining 00:00:00:00"
     ]
    },
    {
     "name": "stdout",
     "output_type": "stream",
     "text": [
      "\r",
      " [*******  29%           ] Elapsed 0.20s / Remaining 00:00:00:00"
     ]
    },
    {
     "name": "stdout",
     "output_type": "stream",
     "text": [
      "\r",
      " [*******  29%           ] Elapsed 0.20s / Remaining 00:00:00:00"
     ]
    },
    {
     "name": "stdout",
     "output_type": "stream",
     "text": [
      "\r",
      " [*******  29%           ] Elapsed 0.20s / Remaining 00:00:00:00"
     ]
    },
    {
     "name": "stdout",
     "output_type": "stream",
     "text": [
      "\r",
      " [*******  30%           ] Elapsed 0.20s / Remaining 00:00:00:00"
     ]
    },
    {
     "name": "stdout",
     "output_type": "stream",
     "text": [
      "\r",
      " [*******  30%           ] Elapsed 0.20s / Remaining 00:00:00:00"
     ]
    },
    {
     "name": "stdout",
     "output_type": "stream",
     "text": [
      "\r",
      " [*******  30%           ] Elapsed 0.20s / Remaining 00:00:00:00"
     ]
    },
    {
     "name": "stdout",
     "output_type": "stream",
     "text": [
      "\r",
      " [*******  30%           ] Elapsed 0.21s / Remaining 00:00:00:00"
     ]
    },
    {
     "name": "stdout",
     "output_type": "stream",
     "text": [
      "\r",
      " [*******  30%           ] Elapsed 0.21s / Remaining 00:00:00:00"
     ]
    },
    {
     "name": "stdout",
     "output_type": "stream",
     "text": [
      "\r",
      " [*******  30%           ] Elapsed 0.21s / Remaining 00:00:00:00"
     ]
    },
    {
     "name": "stdout",
     "output_type": "stream",
     "text": [
      "\r",
      " [*******  31%           ] Elapsed 0.21s / Remaining 00:00:00:00"
     ]
    },
    {
     "name": "stdout",
     "output_type": "stream",
     "text": [
      "\r",
      " [*******  31%           ] Elapsed 0.21s / Remaining 00:00:00:00"
     ]
    },
    {
     "name": "stdout",
     "output_type": "stream",
     "text": [
      "\r",
      " [*******  31%           ] Elapsed 0.21s / Remaining 00:00:00:00"
     ]
    },
    {
     "name": "stdout",
     "output_type": "stream",
     "text": [
      "\r",
      " [*******  31%           ] Elapsed 0.21s / Remaining 00:00:00:00"
     ]
    },
    {
     "name": "stdout",
     "output_type": "stream",
     "text": [
      "\r",
      " [*******  31%           ] Elapsed 0.21s / Remaining 00:00:00:00"
     ]
    },
    {
     "name": "stdout",
     "output_type": "stream",
     "text": [
      "\r",
      " [*******  31%           ] Elapsed 0.22s / Remaining 00:00:00:00"
     ]
    },
    {
     "name": "stdout",
     "output_type": "stream",
     "text": [
      "\r",
      " [*******  32%           ] Elapsed 0.22s / Remaining 00:00:00:00"
     ]
    },
    {
     "name": "stdout",
     "output_type": "stream",
     "text": [
      "\r",
      " [*******  32%           ] Elapsed 0.22s / Remaining 00:00:00:00"
     ]
    },
    {
     "name": "stdout",
     "output_type": "stream",
     "text": [
      "\r",
      " [*******  32%           ] Elapsed 0.22s / Remaining 00:00:00:00"
     ]
    },
    {
     "name": "stdout",
     "output_type": "stream",
     "text": [
      "\r",
      " [*******  32%           ] Elapsed 0.22s / Remaining 00:00:00:00"
     ]
    },
    {
     "name": "stdout",
     "output_type": "stream",
     "text": [
      "\r",
      " [*******  32%           ] Elapsed 0.22s / Remaining 00:00:00:00"
     ]
    },
    {
     "name": "stdout",
     "output_type": "stream",
     "text": [
      "\r",
      " [*******  32%           ] Elapsed 0.22s / Remaining 00:00:00:00"
     ]
    },
    {
     "name": "stdout",
     "output_type": "stream",
     "text": [
      "\r",
      " [******** 33%           ] Elapsed 0.23s / Remaining 00:00:00:00"
     ]
    },
    {
     "name": "stdout",
     "output_type": "stream",
     "text": [
      "\r",
      " [******** 33%           ] Elapsed 0.23s / Remaining 00:00:00:00"
     ]
    },
    {
     "name": "stdout",
     "output_type": "stream",
     "text": [
      "\r",
      " [******** 33%           ] Elapsed 0.23s / Remaining 00:00:00:00"
     ]
    },
    {
     "name": "stdout",
     "output_type": "stream",
     "text": [
      "\r",
      " [******** 33%           ] Elapsed 0.23s / Remaining 00:00:00:00"
     ]
    },
    {
     "name": "stdout",
     "output_type": "stream",
     "text": [
      "\r",
      " [******** 33%           ] Elapsed 0.23s / Remaining 00:00:00:00"
     ]
    },
    {
     "name": "stdout",
     "output_type": "stream",
     "text": [
      "\r",
      " [******** 33%           ] Elapsed 0.23s / Remaining 00:00:00:00"
     ]
    },
    {
     "name": "stdout",
     "output_type": "stream",
     "text": [
      "\r",
      " [******** 34%           ] Elapsed 0.23s / Remaining 00:00:00:00"
     ]
    },
    {
     "name": "stdout",
     "output_type": "stream",
     "text": [
      "\r",
      " [******** 34%           ] Elapsed 0.23s / Remaining 00:00:00:00"
     ]
    },
    {
     "name": "stdout",
     "output_type": "stream",
     "text": [
      "\r",
      " [******** 34%           ] Elapsed 0.23s / Remaining 00:00:00:00"
     ]
    },
    {
     "name": "stdout",
     "output_type": "stream",
     "text": [
      "\r",
      " [******** 34%           ] Elapsed 0.24s / Remaining 00:00:00:00"
     ]
    },
    {
     "name": "stdout",
     "output_type": "stream",
     "text": [
      "\r",
      " [******** 34%           ] Elapsed 0.24s / Remaining 00:00:00:00"
     ]
    },
    {
     "name": "stdout",
     "output_type": "stream",
     "text": [
      "\r",
      " [******** 34%           ] Elapsed 0.24s / Remaining 00:00:00:00"
     ]
    },
    {
     "name": "stdout",
     "output_type": "stream",
     "text": [
      "\r",
      " [******** 35%           ] Elapsed 0.24s / Remaining 00:00:00:00"
     ]
    },
    {
     "name": "stdout",
     "output_type": "stream",
     "text": [
      "\r",
      " [******** 35%           ] Elapsed 0.24s / Remaining 00:00:00:00"
     ]
    },
    {
     "name": "stdout",
     "output_type": "stream",
     "text": [
      "\r",
      " [******** 35%           ] Elapsed 0.24s / Remaining 00:00:00:00"
     ]
    },
    {
     "name": "stdout",
     "output_type": "stream",
     "text": [
      "\r",
      " [******** 35%           ] Elapsed 0.24s / Remaining 00:00:00:00"
     ]
    },
    {
     "name": "stdout",
     "output_type": "stream",
     "text": [
      "\r",
      " [******** 35%           ] Elapsed 0.24s / Remaining 00:00:00:00"
     ]
    },
    {
     "name": "stdout",
     "output_type": "stream",
     "text": [
      "\r",
      " [******** 35%           ] Elapsed 0.25s / Remaining 00:00:00:00"
     ]
    },
    {
     "name": "stdout",
     "output_type": "stream",
     "text": [
      "\r",
      " [******** 36%           ] Elapsed 0.25s / Remaining 00:00:00:00"
     ]
    },
    {
     "name": "stdout",
     "output_type": "stream",
     "text": [
      "\r",
      " [******** 36%           ] Elapsed 0.25s / Remaining 00:00:00:00"
     ]
    },
    {
     "name": "stdout",
     "output_type": "stream",
     "text": [
      "\r",
      " [******** 36%           ] Elapsed 0.25s / Remaining 00:00:00:00"
     ]
    },
    {
     "name": "stdout",
     "output_type": "stream",
     "text": [
      "\r",
      " [******** 36%           ] Elapsed 0.25s / Remaining 00:00:00:00"
     ]
    },
    {
     "name": "stdout",
     "output_type": "stream",
     "text": [
      "\r",
      " [******** 36%           ] Elapsed 0.25s / Remaining 00:00:00:00"
     ]
    },
    {
     "name": "stdout",
     "output_type": "stream",
     "text": [
      "\r",
      " [******** 36%           ] Elapsed 0.25s / Remaining 00:00:00:00"
     ]
    },
    {
     "name": "stdout",
     "output_type": "stream",
     "text": [
      "\r",
      " [*********37%           ] Elapsed 0.26s / Remaining 00:00:00:00"
     ]
    },
    {
     "name": "stdout",
     "output_type": "stream",
     "text": [
      "\r",
      " [*********37%           ] Elapsed 0.26s / Remaining 00:00:00:00"
     ]
    },
    {
     "name": "stdout",
     "output_type": "stream",
     "text": [
      "\r",
      " [*********37%           ] Elapsed 0.26s / Remaining 00:00:00:00"
     ]
    },
    {
     "name": "stdout",
     "output_type": "stream",
     "text": [
      "\r",
      " [*********37%           ] Elapsed 0.26s / Remaining 00:00:00:00"
     ]
    },
    {
     "name": "stdout",
     "output_type": "stream",
     "text": [
      "\r",
      " [*********37%           ] Elapsed 0.26s / Remaining 00:00:00:00"
     ]
    },
    {
     "name": "stdout",
     "output_type": "stream",
     "text": [
      "\r",
      " [*********37%           ] Elapsed 0.26s / Remaining 00:00:00:00"
     ]
    },
    {
     "name": "stdout",
     "output_type": "stream",
     "text": [
      "\r",
      " [*********38%           ] Elapsed 0.26s / Remaining 00:00:00:00"
     ]
    },
    {
     "name": "stdout",
     "output_type": "stream",
     "text": [
      "\r",
      " [*********38%           ] Elapsed 0.26s / Remaining 00:00:00:00"
     ]
    },
    {
     "name": "stdout",
     "output_type": "stream",
     "text": [
      "\r",
      " [*********38%           ] Elapsed 0.26s / Remaining 00:00:00:00"
     ]
    },
    {
     "name": "stdout",
     "output_type": "stream",
     "text": [
      "\r",
      " [*********38%           ] Elapsed 0.27s / Remaining 00:00:00:00"
     ]
    },
    {
     "name": "stdout",
     "output_type": "stream",
     "text": [
      "\r",
      " [*********38%           ] Elapsed 0.27s / Remaining 00:00:00:00"
     ]
    },
    {
     "name": "stdout",
     "output_type": "stream",
     "text": [
      "\r",
      " [*********38%           ] Elapsed 0.27s / Remaining 00:00:00:00"
     ]
    },
    {
     "name": "stdout",
     "output_type": "stream",
     "text": [
      "\r",
      " [*********39%           ] Elapsed 0.27s / Remaining 00:00:00:00"
     ]
    },
    {
     "name": "stdout",
     "output_type": "stream",
     "text": [
      "\r",
      " [*********39%           ] Elapsed 0.27s / Remaining 00:00:00:00"
     ]
    },
    {
     "name": "stdout",
     "output_type": "stream",
     "text": [
      "\r",
      " [*********39%           ] Elapsed 0.27s / Remaining 00:00:00:00"
     ]
    },
    {
     "name": "stdout",
     "output_type": "stream",
     "text": [
      "\r"
     ]
    },
    {
     "name": "stdout",
     "output_type": "stream",
     "text": [
      " [*********39%           ] Elapsed 0.27s / Remaining 00:00:00:00"
     ]
    },
    {
     "name": "stdout",
     "output_type": "stream",
     "text": [
      "\r",
      " [*********39%           ] Elapsed 0.28s / Remaining 00:00:00:00"
     ]
    },
    {
     "name": "stdout",
     "output_type": "stream",
     "text": [
      "\r",
      " [*********39%           ] Elapsed 0.28s / Remaining 00:00:00:00"
     ]
    },
    {
     "name": "stdout",
     "output_type": "stream",
     "text": [
      "\r",
      " [*********40%           ] Elapsed 0.28s / Remaining 00:00:00:00"
     ]
    },
    {
     "name": "stdout",
     "output_type": "stream",
     "text": [
      "\r",
      " [*********40%           ] Elapsed 0.28s / Remaining 00:00:00:00"
     ]
    },
    {
     "name": "stdout",
     "output_type": "stream",
     "text": [
      "\r",
      " [*********40%           ] Elapsed 0.28s / Remaining 00:00:00:00"
     ]
    },
    {
     "name": "stdout",
     "output_type": "stream",
     "text": [
      "\r",
      " [*********40%           ] Elapsed 0.28s / Remaining 00:00:00:00"
     ]
    },
    {
     "name": "stdout",
     "output_type": "stream",
     "text": [
      "\r",
      " [*********40%           ] Elapsed 0.28s / Remaining 00:00:00:00"
     ]
    },
    {
     "name": "stdout",
     "output_type": "stream",
     "text": [
      "\r",
      " [*********40%           ] Elapsed 0.28s / Remaining 00:00:00:00"
     ]
    },
    {
     "name": "stdout",
     "output_type": "stream",
     "text": [
      "\r",
      " [*********41%           ] Elapsed 0.29s / Remaining 00:00:00:00"
     ]
    },
    {
     "name": "stdout",
     "output_type": "stream",
     "text": [
      "\r",
      " [*********41%           ] Elapsed 0.29s / Remaining 00:00:00:00"
     ]
    },
    {
     "name": "stdout",
     "output_type": "stream",
     "text": [
      "\r",
      " [*********41%           ] Elapsed 0.29s / Remaining 00:00:00:00"
     ]
    },
    {
     "name": "stdout",
     "output_type": "stream",
     "text": [
      "\r",
      " [*********41%           ] Elapsed 0.29s / Remaining 00:00:00:00"
     ]
    },
    {
     "name": "stdout",
     "output_type": "stream",
     "text": [
      "\r",
      " [*********41%           ] Elapsed 0.29s / Remaining 00:00:00:00"
     ]
    },
    {
     "name": "stdout",
     "output_type": "stream",
     "text": [
      "\r",
      " [*********41%           ] Elapsed 0.29s / Remaining 00:00:00:00"
     ]
    },
    {
     "name": "stdout",
     "output_type": "stream",
     "text": [
      "\r",
      " [*********42%           ] Elapsed 0.29s / Remaining 00:00:00:00"
     ]
    },
    {
     "name": "stdout",
     "output_type": "stream",
     "text": [
      "\r",
      " [*********42%           ] Elapsed 0.30s / Remaining 00:00:00:00"
     ]
    },
    {
     "name": "stdout",
     "output_type": "stream",
     "text": [
      "\r",
      " [*********42%           ] Elapsed 0.30s / Remaining 00:00:00:00"
     ]
    },
    {
     "name": "stdout",
     "output_type": "stream",
     "text": [
      "\r",
      " [*********42%           ] Elapsed 0.30s / Remaining 00:00:00:00"
     ]
    },
    {
     "name": "stdout",
     "output_type": "stream",
     "text": [
      "\r",
      " [*********42%           ] Elapsed 0.30s / Remaining 00:00:00:00"
     ]
    },
    {
     "name": "stdout",
     "output_type": "stream",
     "text": [
      "\r",
      " [*********42%           ] Elapsed 0.30s / Remaining 00:00:00:00"
     ]
    },
    {
     "name": "stdout",
     "output_type": "stream",
     "text": [
      "\r",
      " [*********43%           ] Elapsed 0.30s / Remaining 00:00:00:00"
     ]
    },
    {
     "name": "stdout",
     "output_type": "stream",
     "text": [
      "\r"
     ]
    },
    {
     "name": "stdout",
     "output_type": "stream",
     "text": [
      " [*********43%           ] Elapsed 0.30s / Remaining 00:00:00:00"
     ]
    },
    {
     "name": "stdout",
     "output_type": "stream",
     "text": [
      "\r",
      " [*********43%           ] Elapsed 0.31s / Remaining 00:00:00:00"
     ]
    },
    {
     "name": "stdout",
     "output_type": "stream",
     "text": [
      "\r",
      " [*********43%           ] Elapsed 0.31s / Remaining 00:00:00:00"
     ]
    },
    {
     "name": "stdout",
     "output_type": "stream",
     "text": [
      "\r",
      " [*********43%           ] Elapsed 0.31s / Remaining 00:00:00:00"
     ]
    },
    {
     "name": "stdout",
     "output_type": "stream",
     "text": [
      "\r",
      " [*********43%           ] Elapsed 0.31s / Remaining 00:00:00:00"
     ]
    },
    {
     "name": "stdout",
     "output_type": "stream",
     "text": [
      "\r",
      " [*********44%           ] Elapsed 0.31s / Remaining 00:00:00:00"
     ]
    },
    {
     "name": "stdout",
     "output_type": "stream",
     "text": [
      "\r",
      " [*********44%           ] Elapsed 0.31s / Remaining 00:00:00:00"
     ]
    },
    {
     "name": "stdout",
     "output_type": "stream",
     "text": [
      "\r",
      " [*********44%           ] Elapsed 0.31s / Remaining 00:00:00:00"
     ]
    },
    {
     "name": "stdout",
     "output_type": "stream",
     "text": [
      "\r",
      " [*********44%           ] Elapsed 0.31s / Remaining 00:00:00:00"
     ]
    },
    {
     "name": "stdout",
     "output_type": "stream",
     "text": [
      "\r",
      " [*********44%           ] Elapsed 0.31s / Remaining 00:00:00:00"
     ]
    },
    {
     "name": "stdout",
     "output_type": "stream",
     "text": [
      "\r",
      " [*********44%           ] Elapsed 0.32s / Remaining 00:00:00:00"
     ]
    },
    {
     "name": "stdout",
     "output_type": "stream",
     "text": [
      "\r",
      " [*********45%           ] Elapsed 0.32s / Remaining 00:00:00:00"
     ]
    },
    {
     "name": "stdout",
     "output_type": "stream",
     "text": [
      "\r",
      " [*********45%           ] Elapsed 0.32s / Remaining 00:00:00:00"
     ]
    },
    {
     "name": "stdout",
     "output_type": "stream",
     "text": [
      "\r",
      " [*********45%           ] Elapsed 0.32s / Remaining 00:00:00:00"
     ]
    },
    {
     "name": "stdout",
     "output_type": "stream",
     "text": [
      "\r",
      " [*********45%           ] Elapsed 0.32s / Remaining 00:00:00:00"
     ]
    },
    {
     "name": "stdout",
     "output_type": "stream",
     "text": [
      "\r",
      " [*********45%           ] Elapsed 0.32s / Remaining 00:00:00:00"
     ]
    },
    {
     "name": "stdout",
     "output_type": "stream",
     "text": [
      "\r",
      " [*********45%           ] Elapsed 0.32s / Remaining 00:00:00:00"
     ]
    },
    {
     "name": "stdout",
     "output_type": "stream",
     "text": [
      "\r",
      " [*********46%           ] Elapsed 0.32s / Remaining 00:00:00:00"
     ]
    },
    {
     "name": "stdout",
     "output_type": "stream",
     "text": [
      "\r",
      " [*********46%           ] Elapsed 0.32s / Remaining 00:00:00:00"
     ]
    },
    {
     "name": "stdout",
     "output_type": "stream",
     "text": [
      "\r",
      " [*********46%           ] Elapsed 0.32s / Remaining 00:00:00:00"
     ]
    },
    {
     "name": "stdout",
     "output_type": "stream",
     "text": [
      "\r",
      " [*********46%           ] Elapsed 0.32s / Remaining 00:00:00:00"
     ]
    },
    {
     "name": "stdout",
     "output_type": "stream",
     "text": [
      "\r",
      " [*********46%           ] Elapsed 0.32s / Remaining 00:00:00:00"
     ]
    },
    {
     "name": "stdout",
     "output_type": "stream",
     "text": [
      "\r",
      " [*********46%           ] Elapsed 0.32s / Remaining 00:00:00:00"
     ]
    },
    {
     "name": "stdout",
     "output_type": "stream",
     "text": [
      "\r",
      " [*********47%           ] Elapsed 0.32s / Remaining 00:00:00:00"
     ]
    },
    {
     "name": "stdout",
     "output_type": "stream",
     "text": [
      "\r",
      " [*********47%           ] Elapsed 0.33s / Remaining 00:00:00:00"
     ]
    },
    {
     "name": "stdout",
     "output_type": "stream",
     "text": [
      "\r",
      " [*********47%           ] Elapsed 0.33s / Remaining 00:00:00:00"
     ]
    },
    {
     "name": "stdout",
     "output_type": "stream",
     "text": [
      "\r",
      " [*********47%           ] Elapsed 0.33s / Remaining 00:00:00:00"
     ]
    },
    {
     "name": "stdout",
     "output_type": "stream",
     "text": [
      "\r",
      " [*********47%           ] Elapsed 0.33s / Remaining 00:00:00:00"
     ]
    },
    {
     "name": "stdout",
     "output_type": "stream",
     "text": [
      "\r",
      " [*********47%           ] Elapsed 0.33s / Remaining 00:00:00:00"
     ]
    },
    {
     "name": "stdout",
     "output_type": "stream",
     "text": [
      "\r",
      " [*********48%           ] Elapsed 0.33s / Remaining 00:00:00:00"
     ]
    },
    {
     "name": "stdout",
     "output_type": "stream",
     "text": [
      "\r",
      " [*********48%           ] Elapsed 0.33s / Remaining 00:00:00:00"
     ]
    },
    {
     "name": "stdout",
     "output_type": "stream",
     "text": [
      "\r",
      " [*********48%           ] Elapsed 0.33s / Remaining 00:00:00:00"
     ]
    },
    {
     "name": "stdout",
     "output_type": "stream",
     "text": [
      "\r",
      " [*********48%           ] Elapsed 0.33s / Remaining 00:00:00:00"
     ]
    },
    {
     "name": "stdout",
     "output_type": "stream",
     "text": [
      "\r",
      " [*********48%           ] Elapsed 0.33s / Remaining 00:00:00:00"
     ]
    },
    {
     "name": "stdout",
     "output_type": "stream",
     "text": [
      "\r",
      " [*********48%           ] Elapsed 0.33s / Remaining 00:00:00:00"
     ]
    },
    {
     "name": "stdout",
     "output_type": "stream",
     "text": [
      "\r",
      " [*********49%           ] Elapsed 0.33s / Remaining 00:00:00:00"
     ]
    },
    {
     "name": "stdout",
     "output_type": "stream",
     "text": [
      "\r",
      " [*********49%           ] Elapsed 0.34s / Remaining 00:00:00:00"
     ]
    },
    {
     "name": "stdout",
     "output_type": "stream",
     "text": [
      "\r",
      " [*********49%           ] Elapsed 0.34s / Remaining 00:00:00:00"
     ]
    },
    {
     "name": "stdout",
     "output_type": "stream",
     "text": [
      "\r",
      " [*********49%           ] Elapsed 0.34s / Remaining 00:00:00:00"
     ]
    },
    {
     "name": "stdout",
     "output_type": "stream",
     "text": [
      "\r",
      " [*********49%           ] Elapsed 0.34s / Remaining 00:00:00:00"
     ]
    },
    {
     "name": "stdout",
     "output_type": "stream",
     "text": [
      "\r",
      " [*********49%           ] Elapsed 0.34s / Remaining 00:00:00:00"
     ]
    },
    {
     "name": "stdout",
     "output_type": "stream",
     "text": [
      "\r",
      " [*********50%           ] Elapsed 0.34s / Remaining 00:00:00:00"
     ]
    },
    {
     "name": "stdout",
     "output_type": "stream",
     "text": [
      "\r",
      " [*********50%           ] Elapsed 0.34s / Remaining 00:00:00:00"
     ]
    },
    {
     "name": "stdout",
     "output_type": "stream",
     "text": [
      "\r",
      " [*********50%           ] Elapsed 0.34s / Remaining 00:00:00:00"
     ]
    },
    {
     "name": "stdout",
     "output_type": "stream",
     "text": [
      "\r",
      " [*********50%           ] Elapsed 0.34s / Remaining 00:00:00:00"
     ]
    },
    {
     "name": "stdout",
     "output_type": "stream",
     "text": [
      "\r",
      " [*********50%           ] Elapsed 0.34s / Remaining 00:00:00:00"
     ]
    },
    {
     "name": "stdout",
     "output_type": "stream",
     "text": [
      "\r",
      " [*********50%           ] Elapsed 0.34s / Remaining 00:00:00:00"
     ]
    },
    {
     "name": "stdout",
     "output_type": "stream",
     "text": [
      "\r",
      " [*********51%           ] Elapsed 0.34s / Remaining 00:00:00:00"
     ]
    },
    {
     "name": "stdout",
     "output_type": "stream",
     "text": [
      "\r",
      " [*********51%           ] Elapsed 0.34s / Remaining 00:00:00:00"
     ]
    },
    {
     "name": "stdout",
     "output_type": "stream",
     "text": [
      "\r",
      " [*********51%           ] Elapsed 0.35s / Remaining 00:00:00:00"
     ]
    },
    {
     "name": "stdout",
     "output_type": "stream",
     "text": [
      "\r",
      " [*********51%           ] Elapsed 0.35s / Remaining 00:00:00:00"
     ]
    },
    {
     "name": "stdout",
     "output_type": "stream",
     "text": [
      "\r",
      " [*********51%           ] Elapsed 0.35s / Remaining 00:00:00:00"
     ]
    },
    {
     "name": "stdout",
     "output_type": "stream",
     "text": [
      "\r",
      " [*********51%           ] Elapsed 0.35s / Remaining 00:00:00:00"
     ]
    },
    {
     "name": "stdout",
     "output_type": "stream",
     "text": [
      "\r",
      " [*********52%           ] Elapsed 0.35s / Remaining 00:00:00:00"
     ]
    },
    {
     "name": "stdout",
     "output_type": "stream",
     "text": [
      "\r",
      " [*********52%           ] Elapsed 0.35s / Remaining 00:00:00:00"
     ]
    },
    {
     "name": "stdout",
     "output_type": "stream",
     "text": [
      "\r",
      " [*********52%           ] Elapsed 0.35s / Remaining 00:00:00:00"
     ]
    },
    {
     "name": "stdout",
     "output_type": "stream",
     "text": [
      "\r",
      " [*********52%           ] Elapsed 0.35s / Remaining 00:00:00:00"
     ]
    },
    {
     "name": "stdout",
     "output_type": "stream",
     "text": [
      "\r",
      " [*********52%           ] Elapsed 0.35s / Remaining 00:00:00:00"
     ]
    },
    {
     "name": "stdout",
     "output_type": "stream",
     "text": [
      "\r",
      " [*********52%           ] Elapsed 0.35s / Remaining 00:00:00:00"
     ]
    },
    {
     "name": "stdout",
     "output_type": "stream",
     "text": [
      "\r",
      " [*********53%           ] Elapsed 0.35s / Remaining 00:00:00:00"
     ]
    },
    {
     "name": "stdout",
     "output_type": "stream",
     "text": [
      "\r",
      " [*********53%           ] Elapsed 0.35s / Remaining 00:00:00:00"
     ]
    },
    {
     "name": "stdout",
     "output_type": "stream",
     "text": [
      "\r",
      " [*********53%           ] Elapsed 0.36s / Remaining 00:00:00:00"
     ]
    },
    {
     "name": "stdout",
     "output_type": "stream",
     "text": [
      "\r",
      " [*********53%           ] Elapsed 0.36s / Remaining 00:00:00:00"
     ]
    },
    {
     "name": "stdout",
     "output_type": "stream",
     "text": [
      "\r",
      " [*********53%           ] Elapsed 0.36s / Remaining 00:00:00:00"
     ]
    },
    {
     "name": "stdout",
     "output_type": "stream",
     "text": [
      "\r",
      " [*********53%           ] Elapsed 0.36s / Remaining 00:00:00:00"
     ]
    },
    {
     "name": "stdout",
     "output_type": "stream",
     "text": [
      "\r",
      " [*********54%           ] Elapsed 0.36s / Remaining 00:00:00:00"
     ]
    },
    {
     "name": "stdout",
     "output_type": "stream",
     "text": [
      "\r",
      " [*********54%           ] Elapsed 0.36s / Remaining 00:00:00:00"
     ]
    },
    {
     "name": "stdout",
     "output_type": "stream",
     "text": [
      "\r",
      " [*********54%           ] Elapsed 0.36s / Remaining 00:00:00:00"
     ]
    },
    {
     "name": "stdout",
     "output_type": "stream",
     "text": [
      "\r",
      " [*********54%           ] Elapsed 0.36s / Remaining 00:00:00:00"
     ]
    },
    {
     "name": "stdout",
     "output_type": "stream",
     "text": [
      "\r",
      " [*********54%           ] Elapsed 0.36s / Remaining 00:00:00:00"
     ]
    },
    {
     "name": "stdout",
     "output_type": "stream",
     "text": [
      "\r",
      " [*********54%           ] Elapsed 0.36s / Remaining 00:00:00:00"
     ]
    },
    {
     "name": "stdout",
     "output_type": "stream",
     "text": [
      "\r",
      " [*********55%*          ] Elapsed 0.36s / Remaining 00:00:00:00"
     ]
    },
    {
     "name": "stdout",
     "output_type": "stream",
     "text": [
      "\r",
      " [*********55%*          ] Elapsed 0.36s / Remaining 00:00:00:00"
     ]
    },
    {
     "name": "stdout",
     "output_type": "stream",
     "text": [
      "\r",
      " [*********55%*          ] Elapsed 0.37s / Remaining 00:00:00:00"
     ]
    },
    {
     "name": "stdout",
     "output_type": "stream",
     "text": [
      "\r",
      " [*********55%*          ] Elapsed 0.37s / Remaining 00:00:00:00"
     ]
    },
    {
     "name": "stdout",
     "output_type": "stream",
     "text": [
      "\r",
      " [*********55%*          ] Elapsed 0.37s / Remaining 00:00:00:00"
     ]
    },
    {
     "name": "stdout",
     "output_type": "stream",
     "text": [
      "\r",
      " [*********55%*          ] Elapsed 0.37s / Remaining 00:00:00:00"
     ]
    },
    {
     "name": "stdout",
     "output_type": "stream",
     "text": [
      "\r",
      " [*********56%*          ] Elapsed 0.37s / Remaining 00:00:00:00"
     ]
    },
    {
     "name": "stdout",
     "output_type": "stream",
     "text": [
      "\r",
      " [*********56%*          ] Elapsed 0.37s / Remaining 00:00:00:00"
     ]
    },
    {
     "name": "stdout",
     "output_type": "stream",
     "text": [
      "\r",
      " [*********56%*          ] Elapsed 0.37s / Remaining 00:00:00:00"
     ]
    },
    {
     "name": "stdout",
     "output_type": "stream",
     "text": [
      "\r",
      " [*********56%*          ] Elapsed 0.37s / Remaining 00:00:00:00"
     ]
    },
    {
     "name": "stdout",
     "output_type": "stream",
     "text": [
      "\r",
      " [*********56%*          ] Elapsed 0.37s / Remaining 00:00:00:00"
     ]
    },
    {
     "name": "stdout",
     "output_type": "stream",
     "text": [
      "\r",
      " [*********56%*          ] Elapsed 0.37s / Remaining 00:00:00:00"
     ]
    },
    {
     "name": "stdout",
     "output_type": "stream",
     "text": [
      "\r",
      " [*********57%*          ] Elapsed 0.37s / Remaining 00:00:00:00"
     ]
    },
    {
     "name": "stdout",
     "output_type": "stream",
     "text": [
      "\r",
      " [*********57%*          ] Elapsed 0.37s / Remaining 00:00:00:00"
     ]
    },
    {
     "name": "stdout",
     "output_type": "stream",
     "text": [
      "\r",
      " [*********57%*          ] Elapsed 0.37s / Remaining 00:00:00:00"
     ]
    },
    {
     "name": "stdout",
     "output_type": "stream",
     "text": [
      "\r",
      " [*********57%*          ] Elapsed 0.38s / Remaining 00:00:00:00"
     ]
    },
    {
     "name": "stdout",
     "output_type": "stream",
     "text": [
      "\r",
      " [*********57%*          ] Elapsed 0.38s / Remaining 00:00:00:00"
     ]
    },
    {
     "name": "stdout",
     "output_type": "stream",
     "text": [
      "\r",
      " [*********57%*          ] Elapsed 0.38s / Remaining 00:00:00:00"
     ]
    },
    {
     "name": "stdout",
     "output_type": "stream",
     "text": [
      "\r",
      " [*********58%*          ] Elapsed 0.38s / Remaining 00:00:00:00"
     ]
    },
    {
     "name": "stdout",
     "output_type": "stream",
     "text": [
      "\r",
      " [*********58%*          ] Elapsed 0.38s / Remaining 00:00:00:00"
     ]
    },
    {
     "name": "stdout",
     "output_type": "stream",
     "text": [
      "\r",
      " [*********58%*          ] Elapsed 0.38s / Remaining 00:00:00:00"
     ]
    },
    {
     "name": "stdout",
     "output_type": "stream",
     "text": [
      "\r",
      " [*********58%*          ] Elapsed 0.38s / Remaining 00:00:00:00"
     ]
    },
    {
     "name": "stdout",
     "output_type": "stream",
     "text": [
      "\r",
      " [*********58%*          ] Elapsed 0.38s / Remaining 00:00:00:00"
     ]
    },
    {
     "name": "stdout",
     "output_type": "stream",
     "text": [
      "\r",
      " [*********58%*          ] Elapsed 0.38s / Remaining 00:00:00:00"
     ]
    },
    {
     "name": "stdout",
     "output_type": "stream",
     "text": [
      "\r",
      " [*********59%**         ] Elapsed 0.38s / Remaining 00:00:00:00"
     ]
    },
    {
     "name": "stdout",
     "output_type": "stream",
     "text": [
      "\r",
      " [*********59%**         ] Elapsed 0.38s / Remaining 00:00:00:00"
     ]
    },
    {
     "name": "stdout",
     "output_type": "stream",
     "text": [
      "\r",
      " [*********59%**         ] Elapsed 0.39s / Remaining 00:00:00:00"
     ]
    },
    {
     "name": "stdout",
     "output_type": "stream",
     "text": [
      "\r",
      " [*********59%**         ] Elapsed 0.39s / Remaining 00:00:00:00"
     ]
    },
    {
     "name": "stdout",
     "output_type": "stream",
     "text": [
      "\r",
      " [*********59%**         ] Elapsed 0.39s / Remaining 00:00:00:00"
     ]
    },
    {
     "name": "stdout",
     "output_type": "stream",
     "text": [
      "\r",
      " [*********59%**         ] Elapsed 0.39s / Remaining 00:00:00:00"
     ]
    },
    {
     "name": "stdout",
     "output_type": "stream",
     "text": [
      "\r",
      " [*********60%**         ] Elapsed 0.39s / Remaining 00:00:00:00"
     ]
    },
    {
     "name": "stdout",
     "output_type": "stream",
     "text": [
      "\r",
      " [*********60%**         ] Elapsed 0.39s / Remaining 00:00:00:00"
     ]
    },
    {
     "name": "stdout",
     "output_type": "stream",
     "text": [
      "\r",
      " [*********60%**         ] Elapsed 0.39s / Remaining 00:00:00:00"
     ]
    },
    {
     "name": "stdout",
     "output_type": "stream",
     "text": [
      "\r",
      " [*********60%**         ] Elapsed 0.39s / Remaining 00:00:00:00"
     ]
    },
    {
     "name": "stdout",
     "output_type": "stream",
     "text": [
      "\r",
      " [*********60%**         ] Elapsed 0.39s / Remaining 00:00:00:00"
     ]
    },
    {
     "name": "stdout",
     "output_type": "stream",
     "text": [
      "\r",
      " [*********60%**         ] Elapsed 0.39s / Remaining 00:00:00:00"
     ]
    },
    {
     "name": "stdout",
     "output_type": "stream",
     "text": [
      "\r",
      " [*********61%**         ] Elapsed 0.39s / Remaining 00:00:00:00"
     ]
    },
    {
     "name": "stdout",
     "output_type": "stream",
     "text": [
      "\r",
      " [*********61%**         ] Elapsed 0.39s / Remaining 00:00:00:00"
     ]
    },
    {
     "name": "stdout",
     "output_type": "stream",
     "text": [
      "\r",
      " [*********61%**         ] Elapsed 0.39s / Remaining 00:00:00:00"
     ]
    },
    {
     "name": "stdout",
     "output_type": "stream",
     "text": [
      "\r",
      " [*********61%**         ] Elapsed 0.40s / Remaining 00:00:00:00"
     ]
    },
    {
     "name": "stdout",
     "output_type": "stream",
     "text": [
      "\r",
      " [*********61%**         ] Elapsed 0.40s / Remaining 00:00:00:00"
     ]
    },
    {
     "name": "stdout",
     "output_type": "stream",
     "text": [
      "\r",
      " [*********61%**         ] Elapsed 0.40s / Remaining 00:00:00:00"
     ]
    },
    {
     "name": "stdout",
     "output_type": "stream",
     "text": [
      "\r",
      " [*********62%**         ] Elapsed 0.40s / Remaining 00:00:00:00"
     ]
    },
    {
     "name": "stdout",
     "output_type": "stream",
     "text": [
      "\r",
      " [*********62%**         ] Elapsed 0.40s / Remaining 00:00:00:00"
     ]
    },
    {
     "name": "stdout",
     "output_type": "stream",
     "text": [
      "\r",
      " [*********62%**         ] Elapsed 0.40s / Remaining 00:00:00:00"
     ]
    },
    {
     "name": "stdout",
     "output_type": "stream",
     "text": [
      "\r",
      " [*********62%**         ] Elapsed 0.40s / Remaining 00:00:00:00"
     ]
    },
    {
     "name": "stdout",
     "output_type": "stream",
     "text": [
      "\r",
      " [*********62%**         ] Elapsed 0.40s / Remaining 00:00:00:00"
     ]
    },
    {
     "name": "stdout",
     "output_type": "stream",
     "text": [
      "\r",
      " [*********62%**         ] Elapsed 0.40s / Remaining 00:00:00:00"
     ]
    },
    {
     "name": "stdout",
     "output_type": "stream",
     "text": [
      "\r",
      " [*********63%**         ] Elapsed 0.40s / Remaining 00:00:00:00"
     ]
    },
    {
     "name": "stdout",
     "output_type": "stream",
     "text": [
      "\r",
      " [*********63%**         ] Elapsed 0.40s / Remaining 00:00:00:00"
     ]
    },
    {
     "name": "stdout",
     "output_type": "stream",
     "text": [
      "\r",
      " [*********63%**         ] Elapsed 0.40s / Remaining 00:00:00:00"
     ]
    },
    {
     "name": "stdout",
     "output_type": "stream",
     "text": [
      "\r",
      " [*********63%**         ] Elapsed 0.41s / Remaining 00:00:00:00"
     ]
    },
    {
     "name": "stdout",
     "output_type": "stream",
     "text": [
      "\r",
      " [*********63%**         ] Elapsed 0.41s / Remaining 00:00:00:00"
     ]
    },
    {
     "name": "stdout",
     "output_type": "stream",
     "text": [
      "\r",
      " [*********63%**         ] Elapsed 0.41s / Remaining 00:00:00:00"
     ]
    },
    {
     "name": "stdout",
     "output_type": "stream",
     "text": [
      "\r",
      " [*********64%***        ] Elapsed 0.41s / Remaining 00:00:00:00"
     ]
    },
    {
     "name": "stdout",
     "output_type": "stream",
     "text": [
      "\r",
      " [*********64%***        ] Elapsed 0.41s / Remaining 00:00:00:00"
     ]
    },
    {
     "name": "stdout",
     "output_type": "stream",
     "text": [
      "\r",
      " [*********64%***        ] Elapsed 0.41s / Remaining 00:00:00:00"
     ]
    },
    {
     "name": "stdout",
     "output_type": "stream",
     "text": [
      "\r",
      " [*********64%***        ] Elapsed 0.41s / Remaining 00:00:00:00"
     ]
    },
    {
     "name": "stdout",
     "output_type": "stream",
     "text": [
      "\r",
      " [*********64%***        ] Elapsed 0.41s / Remaining 00:00:00:00"
     ]
    },
    {
     "name": "stdout",
     "output_type": "stream",
     "text": [
      "\r",
      " [*********64%***        ] Elapsed 0.41s / Remaining 00:00:00:00"
     ]
    },
    {
     "name": "stdout",
     "output_type": "stream",
     "text": [
      "\r",
      " [*********65%***        ] Elapsed 0.41s / Remaining 00:00:00:00"
     ]
    },
    {
     "name": "stdout",
     "output_type": "stream",
     "text": [
      "\r",
      " [*********65%***        ] Elapsed 0.41s / Remaining 00:00:00:00"
     ]
    },
    {
     "name": "stdout",
     "output_type": "stream",
     "text": [
      "\r",
      " [*********65%***        ] Elapsed 0.41s / Remaining 00:00:00:00"
     ]
    },
    {
     "name": "stdout",
     "output_type": "stream",
     "text": [
      "\r",
      " [*********65%***        ] Elapsed 0.42s / Remaining 00:00:00:00"
     ]
    },
    {
     "name": "stdout",
     "output_type": "stream",
     "text": [
      "\r",
      " [*********65%***        ] Elapsed 0.42s / Remaining 00:00:00:00"
     ]
    },
    {
     "name": "stdout",
     "output_type": "stream",
     "text": [
      "\r",
      " [*********65%***        ] Elapsed 0.42s / Remaining 00:00:00:00"
     ]
    },
    {
     "name": "stdout",
     "output_type": "stream",
     "text": [
      "\r",
      " [*********66%***        ] Elapsed 0.42s / Remaining 00:00:00:00"
     ]
    },
    {
     "name": "stdout",
     "output_type": "stream",
     "text": [
      "\r",
      " [*********66%***        ] Elapsed 0.42s / Remaining 00:00:00:00"
     ]
    },
    {
     "name": "stdout",
     "output_type": "stream",
     "text": [
      "\r",
      " [*********66%***        ] Elapsed 0.42s / Remaining 00:00:00:00"
     ]
    },
    {
     "name": "stdout",
     "output_type": "stream",
     "text": [
      "\r",
      " [*********66%***        ] Elapsed 0.42s / Remaining 00:00:00:00"
     ]
    },
    {
     "name": "stdout",
     "output_type": "stream",
     "text": [
      "\r",
      " [*********66%***        ] Elapsed 0.42s / Remaining 00:00:00:00"
     ]
    },
    {
     "name": "stdout",
     "output_type": "stream",
     "text": [
      "\r",
      " [*********66%***        ] Elapsed 0.42s / Remaining 00:00:00:00"
     ]
    },
    {
     "name": "stdout",
     "output_type": "stream",
     "text": [
      "\r",
      " [*********67%***        ] Elapsed 0.42s / Remaining 00:00:00:00"
     ]
    },
    {
     "name": "stdout",
     "output_type": "stream",
     "text": [
      "\r",
      " [*********67%***        ] Elapsed 0.42s / Remaining 00:00:00:00"
     ]
    },
    {
     "name": "stdout",
     "output_type": "stream",
     "text": [
      "\r",
      " [*********67%***        ] Elapsed 0.42s / Remaining 00:00:00:00"
     ]
    },
    {
     "name": "stdout",
     "output_type": "stream",
     "text": [
      "\r",
      " [*********67%***        ] Elapsed 0.42s / Remaining 00:00:00:00"
     ]
    },
    {
     "name": "stdout",
     "output_type": "stream",
     "text": [
      "\r",
      " [*********67%***        ] Elapsed 0.43s / Remaining 00:00:00:00"
     ]
    },
    {
     "name": "stdout",
     "output_type": "stream",
     "text": [
      "\r",
      " [*********67%***        ] Elapsed 0.43s / Remaining 00:00:00:00"
     ]
    },
    {
     "name": "stdout",
     "output_type": "stream",
     "text": [
      "\r",
      " [*********68%****       ] Elapsed 0.43s / Remaining 00:00:00:00"
     ]
    },
    {
     "name": "stdout",
     "output_type": "stream",
     "text": [
      "\r",
      " [*********68%****       ] Elapsed 0.43s / Remaining 00:00:00:00"
     ]
    },
    {
     "name": "stdout",
     "output_type": "stream",
     "text": [
      "\r",
      " [*********68%****       ] Elapsed 0.43s / Remaining 00:00:00:00"
     ]
    },
    {
     "name": "stdout",
     "output_type": "stream",
     "text": [
      "\r",
      " [*********68%****       ] Elapsed 0.43s / Remaining 00:00:00:00"
     ]
    },
    {
     "name": "stdout",
     "output_type": "stream",
     "text": [
      "\r",
      " [*********68%****       ] Elapsed 0.43s / Remaining 00:00:00:00"
     ]
    },
    {
     "name": "stdout",
     "output_type": "stream",
     "text": [
      "\r",
      " [*********68%****       ] Elapsed 0.43s / Remaining 00:00:00:00"
     ]
    },
    {
     "name": "stdout",
     "output_type": "stream",
     "text": [
      "\r",
      " [*********69%****       ] Elapsed 0.43s / Remaining 00:00:00:00"
     ]
    },
    {
     "name": "stdout",
     "output_type": "stream",
     "text": [
      "\r",
      " [*********69%****       ] Elapsed 0.43s / Remaining 00:00:00:00"
     ]
    },
    {
     "name": "stdout",
     "output_type": "stream",
     "text": [
      "\r",
      " [*********69%****       ] Elapsed 0.43s / Remaining 00:00:00:00"
     ]
    },
    {
     "name": "stdout",
     "output_type": "stream",
     "text": [
      "\r",
      " [*********69%****       ] Elapsed 0.43s / Remaining 00:00:00:00"
     ]
    },
    {
     "name": "stdout",
     "output_type": "stream",
     "text": [
      "\r",
      " [*********69%****       ] Elapsed 0.44s / Remaining 00:00:00:00"
     ]
    },
    {
     "name": "stdout",
     "output_type": "stream",
     "text": [
      "\r",
      " [*********69%****       ] Elapsed 0.44s / Remaining 00:00:00:00"
     ]
    },
    {
     "name": "stdout",
     "output_type": "stream",
     "text": [
      "\r",
      " [*********70%****       ] Elapsed 0.44s / Remaining 00:00:00:00"
     ]
    },
    {
     "name": "stdout",
     "output_type": "stream",
     "text": [
      "\r",
      " [*********70%****       ] Elapsed 0.44s / Remaining 00:00:00:00"
     ]
    },
    {
     "name": "stdout",
     "output_type": "stream",
     "text": [
      "\r",
      " [*********70%****       ] Elapsed 0.44s / Remaining 00:00:00:00"
     ]
    },
    {
     "name": "stdout",
     "output_type": "stream",
     "text": [
      "\r",
      " [*********70%****       ] Elapsed 0.44s / Remaining 00:00:00:00"
     ]
    },
    {
     "name": "stdout",
     "output_type": "stream",
     "text": [
      "\r",
      " [*********70%****       ] Elapsed 0.44s / Remaining 00:00:00:00"
     ]
    },
    {
     "name": "stdout",
     "output_type": "stream",
     "text": [
      "\r",
      " [*********70%****       ] Elapsed 0.44s / Remaining 00:00:00:00"
     ]
    },
    {
     "name": "stdout",
     "output_type": "stream",
     "text": [
      "\r",
      " [*********71%****       ] Elapsed 0.44s / Remaining 00:00:00:00"
     ]
    },
    {
     "name": "stdout",
     "output_type": "stream",
     "text": [
      "\r",
      " [*********71%****       ] Elapsed 0.44s / Remaining 00:00:00:00"
     ]
    },
    {
     "name": "stdout",
     "output_type": "stream",
     "text": [
      "\r",
      " [*********71%****       ] Elapsed 0.44s / Remaining 00:00:00:00"
     ]
    },
    {
     "name": "stdout",
     "output_type": "stream",
     "text": [
      "\r",
      " [*********71%****       ] Elapsed 0.44s / Remaining 00:00:00:00"
     ]
    },
    {
     "name": "stdout",
     "output_type": "stream",
     "text": [
      "\r",
      " [*********71%****       ] Elapsed 0.45s / Remaining 00:00:00:00"
     ]
    },
    {
     "name": "stdout",
     "output_type": "stream",
     "text": [
      "\r",
      " [*********71%****       ] Elapsed 0.45s / Remaining 00:00:00:00"
     ]
    },
    {
     "name": "stdout",
     "output_type": "stream",
     "text": [
      "\r",
      " [*********72%*****      ] Elapsed 0.45s / Remaining 00:00:00:00"
     ]
    },
    {
     "name": "stdout",
     "output_type": "stream",
     "text": [
      "\r",
      " [*********72%*****      ] Elapsed 0.45s / Remaining 00:00:00:00"
     ]
    },
    {
     "name": "stdout",
     "output_type": "stream",
     "text": [
      "\r",
      " [*********72%*****      ] Elapsed 0.45s / Remaining 00:00:00:00"
     ]
    },
    {
     "name": "stdout",
     "output_type": "stream",
     "text": [
      "\r",
      " [*********72%*****      ] Elapsed 0.45s / Remaining 00:00:00:00"
     ]
    },
    {
     "name": "stdout",
     "output_type": "stream",
     "text": [
      "\r",
      " [*********72%*****      ] Elapsed 0.45s / Remaining 00:00:00:00"
     ]
    },
    {
     "name": "stdout",
     "output_type": "stream",
     "text": [
      "\r",
      " [*********72%*****      ] Elapsed 0.45s / Remaining 00:00:00:00"
     ]
    },
    {
     "name": "stdout",
     "output_type": "stream",
     "text": [
      "\r",
      " [*********73%*****      ] Elapsed 0.45s / Remaining 00:00:00:00"
     ]
    },
    {
     "name": "stdout",
     "output_type": "stream",
     "text": [
      "\r",
      " [*********73%*****      ] Elapsed 0.45s / Remaining 00:00:00:00"
     ]
    },
    {
     "name": "stdout",
     "output_type": "stream",
     "text": [
      "\r",
      " [*********73%*****      ] Elapsed 0.45s / Remaining 00:00:00:00"
     ]
    },
    {
     "name": "stdout",
     "output_type": "stream",
     "text": [
      "\r",
      " [*********73%*****      ] Elapsed 0.45s / Remaining 00:00:00:00"
     ]
    },
    {
     "name": "stdout",
     "output_type": "stream",
     "text": [
      "\r",
      " [*********73%*****      ] Elapsed 0.46s / Remaining 00:00:00:00"
     ]
    },
    {
     "name": "stdout",
     "output_type": "stream",
     "text": [
      "\r",
      " [*********73%*****      ] Elapsed 0.46s / Remaining 00:00:00:00"
     ]
    },
    {
     "name": "stdout",
     "output_type": "stream",
     "text": [
      "\r",
      " [*********74%*****      ] Elapsed 0.46s / Remaining 00:00:00:00"
     ]
    },
    {
     "name": "stdout",
     "output_type": "stream",
     "text": [
      "\r",
      " [*********74%*****      ] Elapsed 0.46s / Remaining 00:00:00:00"
     ]
    },
    {
     "name": "stdout",
     "output_type": "stream",
     "text": [
      "\r",
      " [*********74%*****      ] Elapsed 0.46s / Remaining 00:00:00:00"
     ]
    },
    {
     "name": "stdout",
     "output_type": "stream",
     "text": [
      "\r",
      " [*********74%*****      ] Elapsed 0.46s / Remaining 00:00:00:00"
     ]
    },
    {
     "name": "stdout",
     "output_type": "stream",
     "text": [
      "\r",
      " [*********74%*****      ] Elapsed 0.46s / Remaining 00:00:00:00"
     ]
    },
    {
     "name": "stdout",
     "output_type": "stream",
     "text": [
      "\r",
      " [*********74%*****      ] Elapsed 0.46s / Remaining 00:00:00:00"
     ]
    },
    {
     "name": "stdout",
     "output_type": "stream",
     "text": [
      "\r",
      " [*********75%*****      ] Elapsed 0.46s / Remaining 00:00:00:00"
     ]
    },
    {
     "name": "stdout",
     "output_type": "stream",
     "text": [
      "\r",
      " [*********75%*****      ] Elapsed 0.46s / Remaining 00:00:00:00"
     ]
    },
    {
     "name": "stdout",
     "output_type": "stream",
     "text": [
      "\r",
      " [*********75%*****      ] Elapsed 0.46s / Remaining 00:00:00:00"
     ]
    },
    {
     "name": "stdout",
     "output_type": "stream",
     "text": [
      "\r",
      " [*********75%*****      ] Elapsed 0.46s / Remaining 00:00:00:00"
     ]
    },
    {
     "name": "stdout",
     "output_type": "stream",
     "text": [
      "\r",
      " [*********75%*****      ] Elapsed 0.47s / Remaining 00:00:00:00"
     ]
    },
    {
     "name": "stdout",
     "output_type": "stream",
     "text": [
      "\r",
      " [*********75%*****      ] Elapsed 0.47s / Remaining 00:00:00:00"
     ]
    },
    {
     "name": "stdout",
     "output_type": "stream",
     "text": [
      "\r",
      " [*********76%*****      ] Elapsed 0.47s / Remaining 00:00:00:00"
     ]
    },
    {
     "name": "stdout",
     "output_type": "stream",
     "text": [
      "\r",
      " [*********76%*****      ] Elapsed 0.47s / Remaining 00:00:00:00"
     ]
    },
    {
     "name": "stdout",
     "output_type": "stream",
     "text": [
      "\r",
      " [*********76%*****      ] Elapsed 0.47s / Remaining 00:00:00:00"
     ]
    },
    {
     "name": "stdout",
     "output_type": "stream",
     "text": [
      "\r",
      " [*********76%*****      ] Elapsed 0.47s / Remaining 00:00:00:00"
     ]
    },
    {
     "name": "stdout",
     "output_type": "stream",
     "text": [
      "\r",
      " [*********76%*****      ] Elapsed 0.47s / Remaining 00:00:00:00"
     ]
    },
    {
     "name": "stdout",
     "output_type": "stream",
     "text": [
      "\r",
      " [*********76%*****      ] Elapsed 0.47s / Remaining 00:00:00:00"
     ]
    },
    {
     "name": "stdout",
     "output_type": "stream",
     "text": [
      "\r",
      " [*********77%******     ] Elapsed 0.47s / Remaining 00:00:00:00"
     ]
    },
    {
     "name": "stdout",
     "output_type": "stream",
     "text": [
      "\r",
      " [*********77%******     ] Elapsed 0.48s / Remaining 00:00:00:00"
     ]
    },
    {
     "name": "stdout",
     "output_type": "stream",
     "text": [
      "\r",
      " [*********77%******     ] Elapsed 0.48s / Remaining 00:00:00:00"
     ]
    },
    {
     "name": "stdout",
     "output_type": "stream",
     "text": [
      "\r",
      " [*********77%******     ] Elapsed 0.48s / Remaining 00:00:00:00"
     ]
    },
    {
     "name": "stdout",
     "output_type": "stream",
     "text": [
      "\r",
      " [*********77%******     ] Elapsed 0.48s / Remaining 00:00:00:00"
     ]
    },
    {
     "name": "stdout",
     "output_type": "stream",
     "text": [
      "\r",
      " [*********77%******     ] Elapsed 0.48s / Remaining 00:00:00:00"
     ]
    },
    {
     "name": "stdout",
     "output_type": "stream",
     "text": [
      "\r",
      " [*********78%******     ] Elapsed 0.48s / Remaining 00:00:00:00"
     ]
    },
    {
     "name": "stdout",
     "output_type": "stream",
     "text": [
      "\r",
      " [*********78%******     ] Elapsed 0.48s / Remaining 00:00:00:00"
     ]
    },
    {
     "name": "stdout",
     "output_type": "stream",
     "text": [
      "\r",
      " [*********78%******     ] Elapsed 0.48s / Remaining 00:00:00:00"
     ]
    },
    {
     "name": "stdout",
     "output_type": "stream",
     "text": [
      "\r",
      " [*********78%******     ] Elapsed 0.48s / Remaining 00:00:00:00"
     ]
    },
    {
     "name": "stdout",
     "output_type": "stream",
     "text": [
      "\r",
      " [*********78%******     ] Elapsed 0.49s / Remaining 00:00:00:00"
     ]
    },
    {
     "name": "stdout",
     "output_type": "stream",
     "text": [
      "\r",
      " [*********78%******     ] Elapsed 0.49s / Remaining 00:00:00:00"
     ]
    },
    {
     "name": "stdout",
     "output_type": "stream",
     "text": [
      "\r",
      " [*********79%******     ] Elapsed 0.49s / Remaining 00:00:00:00"
     ]
    },
    {
     "name": "stdout",
     "output_type": "stream",
     "text": [
      "\r",
      " [*********79%******     ] Elapsed 0.49s / Remaining 00:00:00:00"
     ]
    },
    {
     "name": "stdout",
     "output_type": "stream",
     "text": [
      "\r",
      " [*********79%******     ] Elapsed 0.49s / Remaining 00:00:00:00"
     ]
    },
    {
     "name": "stdout",
     "output_type": "stream",
     "text": [
      "\r",
      " [*********79%******     ] Elapsed 0.49s / Remaining 00:00:00:00"
     ]
    },
    {
     "name": "stdout",
     "output_type": "stream",
     "text": [
      "\r",
      " [*********79%******     ] Elapsed 0.49s / Remaining 00:00:00:00"
     ]
    },
    {
     "name": "stdout",
     "output_type": "stream",
     "text": [
      "\r",
      " [*********79%******     ] Elapsed 0.49s / Remaining 00:00:00:00"
     ]
    },
    {
     "name": "stdout",
     "output_type": "stream",
     "text": [
      "\r",
      " [*********80%******     ] Elapsed 0.49s / Remaining 00:00:00:00"
     ]
    },
    {
     "name": "stdout",
     "output_type": "stream",
     "text": [
      "\r",
      " [*********80%******     ] Elapsed 0.50s / Remaining 00:00:00:00"
     ]
    },
    {
     "name": "stdout",
     "output_type": "stream",
     "text": [
      "\r",
      " [*********80%******     ] Elapsed 0.50s / Remaining 00:00:00:00"
     ]
    },
    {
     "name": "stdout",
     "output_type": "stream",
     "text": [
      "\r",
      " [*********80%******     ] Elapsed 0.50s / Remaining 00:00:00:00"
     ]
    },
    {
     "name": "stdout",
     "output_type": "stream",
     "text": [
      "\r",
      " [*********80%******     ] Elapsed 0.50s / Remaining 00:00:00:00"
     ]
    },
    {
     "name": "stdout",
     "output_type": "stream",
     "text": [
      "\r",
      " [*********80%******     ] Elapsed 0.50s / Remaining 00:00:00:00"
     ]
    },
    {
     "name": "stdout",
     "output_type": "stream",
     "text": [
      "\r",
      " [*********81%*******    ] Elapsed 0.50s / Remaining 00:00:00:00"
     ]
    },
    {
     "name": "stdout",
     "output_type": "stream",
     "text": [
      "\r",
      " [*********81%*******    ] Elapsed 0.50s / Remaining 00:00:00:00"
     ]
    },
    {
     "name": "stdout",
     "output_type": "stream",
     "text": [
      "\r",
      " [*********81%*******    ] Elapsed 0.50s / Remaining 00:00:00:00"
     ]
    },
    {
     "name": "stdout",
     "output_type": "stream",
     "text": [
      "\r",
      " [*********81%*******    ] Elapsed 0.50s / Remaining 00:00:00:00"
     ]
    },
    {
     "name": "stdout",
     "output_type": "stream",
     "text": [
      "\r",
      " [*********81%*******    ] Elapsed 0.50s / Remaining 00:00:00:00"
     ]
    },
    {
     "name": "stdout",
     "output_type": "stream",
     "text": [
      "\r",
      " [*********81%*******    ] Elapsed 0.50s / Remaining 00:00:00:00"
     ]
    },
    {
     "name": "stdout",
     "output_type": "stream",
     "text": [
      "\r",
      " [*********82%*******    ] Elapsed 0.51s / Remaining 00:00:00:00"
     ]
    },
    {
     "name": "stdout",
     "output_type": "stream",
     "text": [
      "\r",
      " [*********82%*******    ] Elapsed 0.51s / Remaining 00:00:00:00"
     ]
    },
    {
     "name": "stdout",
     "output_type": "stream",
     "text": [
      "\r",
      " [*********82%*******    ] Elapsed 0.51s / Remaining 00:00:00:00"
     ]
    },
    {
     "name": "stdout",
     "output_type": "stream",
     "text": [
      "\r",
      " [*********82%*******    ] Elapsed 0.51s / Remaining 00:00:00:00"
     ]
    },
    {
     "name": "stdout",
     "output_type": "stream",
     "text": [
      "\r",
      " [*********82%*******    ] Elapsed 0.51s / Remaining 00:00:00:00"
     ]
    },
    {
     "name": "stdout",
     "output_type": "stream",
     "text": [
      "\r",
      " [*********82%*******    ] Elapsed 0.51s / Remaining 00:00:00:00"
     ]
    },
    {
     "name": "stdout",
     "output_type": "stream",
     "text": [
      "\r",
      " [*********83%*******    ] Elapsed 0.51s / Remaining 00:00:00:00"
     ]
    },
    {
     "name": "stdout",
     "output_type": "stream",
     "text": [
      "\r",
      " [*********83%*******    ] Elapsed 0.51s / Remaining 00:00:00:00"
     ]
    },
    {
     "name": "stdout",
     "output_type": "stream",
     "text": [
      "\r",
      " [*********83%*******    ] Elapsed 0.51s / Remaining 00:00:00:00"
     ]
    },
    {
     "name": "stdout",
     "output_type": "stream",
     "text": [
      "\r",
      " [*********83%*******    ] Elapsed 0.51s / Remaining 00:00:00:00"
     ]
    },
    {
     "name": "stdout",
     "output_type": "stream",
     "text": [
      "\r",
      " [*********83%*******    ] Elapsed 0.51s / Remaining 00:00:00:00"
     ]
    },
    {
     "name": "stdout",
     "output_type": "stream",
     "text": [
      "\r",
      " [*********83%*******    ] Elapsed 0.51s / Remaining 00:00:00:00"
     ]
    },
    {
     "name": "stdout",
     "output_type": "stream",
     "text": [
      "\r",
      " [*********84%*******    ] Elapsed 0.52s / Remaining 00:00:00:00"
     ]
    },
    {
     "name": "stdout",
     "output_type": "stream",
     "text": [
      "\r",
      " [*********84%*******    ] Elapsed 0.52s / Remaining 00:00:00:00"
     ]
    },
    {
     "name": "stdout",
     "output_type": "stream",
     "text": [
      "\r",
      " [*********84%*******    ] Elapsed 0.52s / Remaining 00:00:00:00"
     ]
    },
    {
     "name": "stdout",
     "output_type": "stream",
     "text": [
      "\r",
      " [*********84%*******    ] Elapsed 0.52s / Remaining 00:00:00:00"
     ]
    },
    {
     "name": "stdout",
     "output_type": "stream",
     "text": [
      "\r",
      " [*********84%*******    ] Elapsed 0.52s / Remaining 00:00:00:00"
     ]
    },
    {
     "name": "stdout",
     "output_type": "stream",
     "text": [
      "\r",
      " [*********84%*******    ] Elapsed 0.52s / Remaining 00:00:00:00"
     ]
    },
    {
     "name": "stdout",
     "output_type": "stream",
     "text": [
      "\r",
      " [*********85%********   ] Elapsed 0.52s / Remaining 00:00:00:00"
     ]
    },
    {
     "name": "stdout",
     "output_type": "stream",
     "text": [
      "\r",
      " [*********85%********   ] Elapsed 0.52s / Remaining 00:00:00:00"
     ]
    },
    {
     "name": "stdout",
     "output_type": "stream",
     "text": [
      "\r",
      " [*********85%********   ] Elapsed 0.52s / Remaining 00:00:00:00"
     ]
    },
    {
     "name": "stdout",
     "output_type": "stream",
     "text": [
      "\r",
      " [*********85%********   ] Elapsed 0.52s / Remaining 00:00:00:00"
     ]
    },
    {
     "name": "stdout",
     "output_type": "stream",
     "text": [
      "\r",
      " [*********85%********   ] Elapsed 0.52s / Remaining 00:00:00:00"
     ]
    },
    {
     "name": "stdout",
     "output_type": "stream",
     "text": [
      "\r",
      " [*********85%********   ] Elapsed 0.52s / Remaining 00:00:00:00"
     ]
    },
    {
     "name": "stdout",
     "output_type": "stream",
     "text": [
      "\r",
      " [*********86%********   ] Elapsed 0.53s / Remaining 00:00:00:00"
     ]
    },
    {
     "name": "stdout",
     "output_type": "stream",
     "text": [
      "\r",
      " [*********86%********   ] Elapsed 0.53s / Remaining 00:00:00:00"
     ]
    },
    {
     "name": "stdout",
     "output_type": "stream",
     "text": [
      "\r",
      " [*********86%********   ] Elapsed 0.53s / Remaining 00:00:00:00"
     ]
    },
    {
     "name": "stdout",
     "output_type": "stream",
     "text": [
      "\r",
      " [*********86%********   ] Elapsed 0.53s / Remaining 00:00:00:00"
     ]
    },
    {
     "name": "stdout",
     "output_type": "stream",
     "text": [
      "\r",
      " [*********86%********   ] Elapsed 0.53s / Remaining 00:00:00:00"
     ]
    },
    {
     "name": "stdout",
     "output_type": "stream",
     "text": [
      "\r",
      " [*********86%********   ] Elapsed 0.53s / Remaining 00:00:00:00"
     ]
    },
    {
     "name": "stdout",
     "output_type": "stream",
     "text": [
      "\r",
      " [*********87%********   ] Elapsed 0.53s / Remaining 00:00:00:00"
     ]
    },
    {
     "name": "stdout",
     "output_type": "stream",
     "text": [
      "\r",
      " [*********87%********   ] Elapsed 0.53s / Remaining 00:00:00:00"
     ]
    },
    {
     "name": "stdout",
     "output_type": "stream",
     "text": [
      "\r",
      " [*********87%********   ] Elapsed 0.53s / Remaining 00:00:00:00"
     ]
    },
    {
     "name": "stdout",
     "output_type": "stream",
     "text": [
      "\r",
      " [*********87%********   ] Elapsed 0.53s / Remaining 00:00:00:00"
     ]
    },
    {
     "name": "stdout",
     "output_type": "stream",
     "text": [
      "\r",
      " [*********87%********   ] Elapsed 0.53s / Remaining 00:00:00:00"
     ]
    },
    {
     "name": "stdout",
     "output_type": "stream",
     "text": [
      "\r",
      " [*********87%********   ] Elapsed 0.53s / Remaining 00:00:00:00"
     ]
    },
    {
     "name": "stdout",
     "output_type": "stream",
     "text": [
      "\r",
      " [*********88%********   ] Elapsed 0.54s / Remaining 00:00:00:00"
     ]
    },
    {
     "name": "stdout",
     "output_type": "stream",
     "text": [
      "\r",
      " [*********88%********   ] Elapsed 0.54s / Remaining 00:00:00:00"
     ]
    },
    {
     "name": "stdout",
     "output_type": "stream",
     "text": [
      "\r",
      " [*********88%********   ] Elapsed 0.54s / Remaining 00:00:00:00"
     ]
    },
    {
     "name": "stdout",
     "output_type": "stream",
     "text": [
      "\r",
      " [*********88%********   ] Elapsed 0.54s / Remaining 00:00:00:00"
     ]
    },
    {
     "name": "stdout",
     "output_type": "stream",
     "text": [
      "\r",
      " [*********88%********   ] Elapsed 0.54s / Remaining 00:00:00:00"
     ]
    },
    {
     "name": "stdout",
     "output_type": "stream",
     "text": [
      "\r",
      " [*********88%********   ] Elapsed 0.54s / Remaining 00:00:00:00"
     ]
    },
    {
     "name": "stdout",
     "output_type": "stream",
     "text": [
      "\r",
      " [*********89%********   ] Elapsed 0.54s / Remaining 00:00:00:00"
     ]
    },
    {
     "name": "stdout",
     "output_type": "stream",
     "text": [
      "\r",
      " [*********89%********   ] Elapsed 0.54s / Remaining 00:00:00:00"
     ]
    },
    {
     "name": "stdout",
     "output_type": "stream",
     "text": [
      "\r",
      " [*********89%********   ] Elapsed 0.54s / Remaining 00:00:00:00"
     ]
    },
    {
     "name": "stdout",
     "output_type": "stream",
     "text": [
      "\r",
      " [*********89%********   ] Elapsed 0.54s / Remaining 00:00:00:00"
     ]
    },
    {
     "name": "stdout",
     "output_type": "stream",
     "text": [
      "\r",
      " [*********89%********   ] Elapsed 0.54s / Remaining 00:00:00:00"
     ]
    },
    {
     "name": "stdout",
     "output_type": "stream",
     "text": [
      "\r",
      " [*********89%********   ] Elapsed 0.54s / Remaining 00:00:00:00"
     ]
    },
    {
     "name": "stdout",
     "output_type": "stream",
     "text": [
      "\r",
      " [*********90%*********  ] Elapsed 0.55s / Remaining 00:00:00:00"
     ]
    },
    {
     "name": "stdout",
     "output_type": "stream",
     "text": [
      "\r",
      " [*********90%*********  ] Elapsed 0.55s / Remaining 00:00:00:00"
     ]
    },
    {
     "name": "stdout",
     "output_type": "stream",
     "text": [
      "\r",
      " [*********90%*********  ] Elapsed 0.55s / Remaining 00:00:00:00"
     ]
    },
    {
     "name": "stdout",
     "output_type": "stream",
     "text": [
      "\r",
      " [*********90%*********  ] Elapsed 0.55s / Remaining 00:00:00:00"
     ]
    },
    {
     "name": "stdout",
     "output_type": "stream",
     "text": [
      "\r",
      " [*********90%*********  ] Elapsed 0.55s / Remaining 00:00:00:00"
     ]
    },
    {
     "name": "stdout",
     "output_type": "stream",
     "text": [
      "\r",
      " [*********90%*********  ] Elapsed 0.55s / Remaining 00:00:00:00"
     ]
    },
    {
     "name": "stdout",
     "output_type": "stream",
     "text": [
      "\r",
      " [*********91%*********  ] Elapsed 0.55s / Remaining 00:00:00:00"
     ]
    },
    {
     "name": "stdout",
     "output_type": "stream",
     "text": [
      "\r"
     ]
    },
    {
     "name": "stdout",
     "output_type": "stream",
     "text": [
      " [*********91%*********  ] Elapsed 0.55s / Remaining 00:00:00:00"
     ]
    },
    {
     "name": "stdout",
     "output_type": "stream",
     "text": [
      "\r",
      " [*********91%*********  ] Elapsed 0.55s / Remaining 00:00:00:00"
     ]
    },
    {
     "name": "stdout",
     "output_type": "stream",
     "text": [
      "\r",
      " [*********91%*********  ] Elapsed 0.55s / Remaining 00:00:00:00"
     ]
    },
    {
     "name": "stdout",
     "output_type": "stream",
     "text": [
      "\r",
      " [*********91%*********  ] Elapsed 0.55s / Remaining 00:00:00:00"
     ]
    },
    {
     "name": "stdout",
     "output_type": "stream",
     "text": [
      "\r",
      " [*********91%*********  ] Elapsed 0.56s / Remaining 00:00:00:00"
     ]
    },
    {
     "name": "stdout",
     "output_type": "stream",
     "text": [
      "\r",
      " [*********92%*********  ] Elapsed 0.56s / Remaining 00:00:00:00"
     ]
    },
    {
     "name": "stdout",
     "output_type": "stream",
     "text": [
      "\r",
      " [*********92%*********  ] Elapsed 0.56s / Remaining 00:00:00:00"
     ]
    },
    {
     "name": "stdout",
     "output_type": "stream",
     "text": [
      "\r",
      " [*********92%*********  ] Elapsed 0.56s / Remaining 00:00:00:00"
     ]
    },
    {
     "name": "stdout",
     "output_type": "stream",
     "text": [
      "\r",
      " [*********92%*********  ] Elapsed 0.56s / Remaining 00:00:00:00"
     ]
    },
    {
     "name": "stdout",
     "output_type": "stream",
     "text": [
      "\r",
      " [*********92%*********  ] Elapsed 0.56s / Remaining 00:00:00:00"
     ]
    },
    {
     "name": "stdout",
     "output_type": "stream",
     "text": [
      "\r",
      " [*********92%*********  ] Elapsed 0.56s / Remaining 00:00:00:00"
     ]
    },
    {
     "name": "stdout",
     "output_type": "stream",
     "text": [
      "\r",
      " [*********93%*********  ] Elapsed 0.56s / Remaining 00:00:00:00"
     ]
    },
    {
     "name": "stdout",
     "output_type": "stream",
     "text": [
      "\r",
      " [*********93%*********  ] Elapsed 0.56s / Remaining 00:00:00:00"
     ]
    },
    {
     "name": "stdout",
     "output_type": "stream",
     "text": [
      "\r",
      " [*********93%*********  ] Elapsed 0.56s / Remaining 00:00:00:00"
     ]
    },
    {
     "name": "stdout",
     "output_type": "stream",
     "text": [
      "\r",
      " [*********93%*********  ] Elapsed 0.56s / Remaining 00:00:00:00"
     ]
    },
    {
     "name": "stdout",
     "output_type": "stream",
     "text": [
      "\r",
      " [*********93%*********  ] Elapsed 0.56s / Remaining 00:00:00:00"
     ]
    },
    {
     "name": "stdout",
     "output_type": "stream",
     "text": [
      "\r",
      " [*********93%*********  ] Elapsed 0.57s / Remaining 00:00:00:00"
     ]
    },
    {
     "name": "stdout",
     "output_type": "stream",
     "text": [
      "\r"
     ]
    },
    {
     "name": "stdout",
     "output_type": "stream",
     "text": [
      " [*********94%********** ] Elapsed 0.57s / Remaining 00:00:00:00"
     ]
    },
    {
     "name": "stdout",
     "output_type": "stream",
     "text": [
      "\r",
      " [*********94%********** ] Elapsed 0.57s / Remaining 00:00:00:00"
     ]
    },
    {
     "name": "stdout",
     "output_type": "stream",
     "text": [
      "\r",
      " [*********94%********** ] Elapsed 0.57s / Remaining 00:00:00:00"
     ]
    },
    {
     "name": "stdout",
     "output_type": "stream",
     "text": [
      "\r",
      " [*********94%********** ] Elapsed 0.57s / Remaining 00:00:00:00"
     ]
    },
    {
     "name": "stdout",
     "output_type": "stream",
     "text": [
      "\r",
      " [*********94%********** ] Elapsed 0.57s / Remaining 00:00:00:00"
     ]
    },
    {
     "name": "stdout",
     "output_type": "stream",
     "text": [
      "\r"
     ]
    },
    {
     "name": "stdout",
     "output_type": "stream",
     "text": [
      " [*********94%********** ] Elapsed 0.57s / Remaining 00:00:00:00"
     ]
    },
    {
     "name": "stdout",
     "output_type": "stream",
     "text": [
      "\r",
      " [*********95%********** ] Elapsed 0.57s / Remaining 00:00:00:00"
     ]
    },
    {
     "name": "stdout",
     "output_type": "stream",
     "text": [
      "\r",
      " [*********95%********** ] Elapsed 0.57s / Remaining 00:00:00:00"
     ]
    },
    {
     "name": "stdout",
     "output_type": "stream",
     "text": [
      "\r",
      " [*********95%********** ] Elapsed 0.57s / Remaining 00:00:00:00"
     ]
    },
    {
     "name": "stdout",
     "output_type": "stream",
     "text": [
      "\r",
      " [*********95%********** ] Elapsed 0.57s / Remaining 00:00:00:00"
     ]
    },
    {
     "name": "stdout",
     "output_type": "stream",
     "text": [
      "\r",
      " [*********95%********** ] Elapsed 0.58s / Remaining 00:00:00:00"
     ]
    },
    {
     "name": "stdout",
     "output_type": "stream",
     "text": [
      "\r",
      " [*********95%********** ] Elapsed 0.58s / Remaining 00:00:00:00"
     ]
    },
    {
     "name": "stdout",
     "output_type": "stream",
     "text": [
      "\r",
      " [*********96%********** ] Elapsed 0.58s / Remaining 00:00:00:00"
     ]
    },
    {
     "name": "stdout",
     "output_type": "stream",
     "text": [
      "\r",
      " [*********96%********** ] Elapsed 0.58s / Remaining 00:00:00:00"
     ]
    },
    {
     "name": "stdout",
     "output_type": "stream",
     "text": [
      "\r",
      " [*********96%********** ] Elapsed 0.58s / Remaining 00:00:00:00"
     ]
    },
    {
     "name": "stdout",
     "output_type": "stream",
     "text": [
      "\r",
      " [*********96%********** ] Elapsed 0.58s / Remaining 00:00:00:00"
     ]
    },
    {
     "name": "stdout",
     "output_type": "stream",
     "text": [
      "\r",
      " [*********96%********** ] Elapsed 0.58s / Remaining 00:00:00:00"
     ]
    },
    {
     "name": "stdout",
     "output_type": "stream",
     "text": [
      "\r",
      " [*********96%********** ] Elapsed 0.58s / Remaining 00:00:00:00"
     ]
    },
    {
     "name": "stdout",
     "output_type": "stream",
     "text": [
      "\r",
      " [*********97%********** ] Elapsed 0.58s / Remaining 00:00:00:00"
     ]
    },
    {
     "name": "stdout",
     "output_type": "stream",
     "text": [
      "\r",
      " [*********97%********** ] Elapsed 0.58s / Remaining 00:00:00:00"
     ]
    },
    {
     "name": "stdout",
     "output_type": "stream",
     "text": [
      "\r",
      " [*********97%********** ] Elapsed 0.58s / Remaining 00:00:00:00"
     ]
    },
    {
     "name": "stdout",
     "output_type": "stream",
     "text": [
      "\r",
      " [*********97%********** ] Elapsed 0.59s / Remaining 00:00:00:00"
     ]
    },
    {
     "name": "stdout",
     "output_type": "stream",
     "text": [
      "\r",
      " [*********97%********** ] Elapsed 0.59s / Remaining 00:00:00:00"
     ]
    },
    {
     "name": "stdout",
     "output_type": "stream",
     "text": [
      "\r",
      " [*********97%********** ] Elapsed 0.59s / Remaining 00:00:00:00"
     ]
    },
    {
     "name": "stdout",
     "output_type": "stream",
     "text": [
      "\r",
      " [*********98%***********] Elapsed 0.59s / Remaining 00:00:00:00"
     ]
    },
    {
     "name": "stdout",
     "output_type": "stream",
     "text": [
      "\r",
      " [*********98%***********] Elapsed 0.59s / Remaining 00:00:00:00"
     ]
    },
    {
     "name": "stdout",
     "output_type": "stream",
     "text": [
      "\r",
      " [*********98%***********] Elapsed 0.59s / Remaining 00:00:00:00"
     ]
    },
    {
     "name": "stdout",
     "output_type": "stream",
     "text": [
      "\r",
      " [*********98%***********] Elapsed 0.59s / Remaining 00:00:00:00"
     ]
    },
    {
     "name": "stdout",
     "output_type": "stream",
     "text": [
      "\r",
      " [*********98%***********] Elapsed 0.59s / Remaining 00:00:00:00"
     ]
    },
    {
     "name": "stdout",
     "output_type": "stream",
     "text": [
      "\r",
      " [*********98%***********] Elapsed 0.59s / Remaining 00:00:00:00"
     ]
    },
    {
     "name": "stdout",
     "output_type": "stream",
     "text": [
      "\r",
      " [*********99%***********] Elapsed 0.59s / Remaining 00:00:00:00"
     ]
    },
    {
     "name": "stdout",
     "output_type": "stream",
     "text": [
      "\r",
      " [*********99%***********] Elapsed 0.59s / Remaining 00:00:00:00"
     ]
    },
    {
     "name": "stdout",
     "output_type": "stream",
     "text": [
      "\r",
      " [*********99%***********] Elapsed 0.59s / Remaining 00:00:00:00"
     ]
    },
    {
     "name": "stdout",
     "output_type": "stream",
     "text": [
      "\r",
      " [*********99%***********] Elapsed 0.60s / Remaining 00:00:00:00"
     ]
    },
    {
     "name": "stdout",
     "output_type": "stream",
     "text": [
      "\r",
      " [*********99%***********] Elapsed 0.60s / Remaining 00:00:00:00"
     ]
    },
    {
     "name": "stdout",
     "output_type": "stream",
     "text": [
      "\r",
      " [*********99%***********] Elapsed 0.60s / Remaining 00:00:00:00"
     ]
    },
    {
     "name": "stdout",
     "output_type": "stream",
     "text": [
      "\r",
      " [********100%***********] Elapsed 0.60s / Remaining 00:00:00:00"
     ]
    },
    {
     "name": "stdout",
     "output_type": "stream",
     "text": [
      "\r",
      " [********100%***********] Elapsed 0.60s / Remaining 00:00:00:00"
     ]
    },
    {
     "name": "stdout",
     "output_type": "stream",
     "text": [
      "\r",
      " [********100%***********] Elapsed 0.60s / Remaining 00:00:00:00"
     ]
    },
    {
     "name": "stdout",
     "output_type": "stream",
     "text": [
      "\r",
      " Total run time:   0.60s\n",
      "ODE solver time: 0.5997684001922607\n"
     ]
    }
   ],
   "source": [
    "with timer(\"RHS construction time\"):\n",
    "    bath = DrudeLorentzBath(Q, lam=lam, gamma=gamma, T=T, Nk=Nk)\n",
    "    HEOMMats = HEOMSolver(Hsys, bath, NC, options=options)\n",
    "\n",
    "with timer(\"ODE solver time\"):\n",
    "    resultMats = HEOMMats.run(rho0, tlist)"
   ]
  },
  {
   "cell_type": "markdown",
   "id": "421a11c8",
   "metadata": {},
   "source": [
    "## Simulation 2: Matsubara decomposition (including terminator)"
   ]
  },
  {
   "cell_type": "code",
   "execution_count": 11,
   "id": "de45159f",
   "metadata": {
    "execution": {
     "iopub.execute_input": "2023-03-15T08:41:06.163440Z",
     "iopub.status.busy": "2023-03-15T08:41:06.162987Z",
     "iopub.status.idle": "2023-03-15T08:41:06.679087Z",
     "shell.execute_reply": "2023-03-15T08:41:06.678551Z"
    }
   },
   "outputs": [
    {
     "name": "stdout",
     "output_type": "stream",
     "text": [
      "RHS construction time: 0.014792203903198242"
     ]
    },
    {
     "name": "stdout",
     "output_type": "stream",
     "text": [
      "\n"
     ]
    },
    {
     "name": "stdout",
     "output_type": "stream",
     "text": [
      "\r"
     ]
    },
    {
     "name": "stdout",
     "output_type": "stream",
     "text": [
      " [          0%           ] Elapsed 0.00s / Remaining 00:00:00:00"
     ]
    },
    {
     "name": "stdout",
     "output_type": "stream",
     "text": [
      "\r"
     ]
    },
    {
     "name": "stdout",
     "output_type": "stream",
     "text": [
      " [          0%           ] Elapsed 0.00s / Remaining 00:00:00:00"
     ]
    },
    {
     "name": "stdout",
     "output_type": "stream",
     "text": [
      "\r"
     ]
    },
    {
     "name": "stdout",
     "output_type": "stream",
     "text": [
      " [          1%           ] Elapsed 0.01s / Remaining 00:00:00:00"
     ]
    },
    {
     "name": "stdout",
     "output_type": "stream",
     "text": [
      "\r",
      " [          1%           ] Elapsed 0.01s / Remaining 00:00:00:00"
     ]
    },
    {
     "name": "stdout",
     "output_type": "stream",
     "text": [
      "\r",
      " [          1%           ] Elapsed 0.01s / Remaining 00:00:00:00"
     ]
    },
    {
     "name": "stdout",
     "output_type": "stream",
     "text": [
      "\r",
      " [          1%           ] Elapsed 0.01s / Remaining 00:00:00:01"
     ]
    },
    {
     "name": "stdout",
     "output_type": "stream",
     "text": [
      "\r"
     ]
    },
    {
     "name": "stdout",
     "output_type": "stream",
     "text": [
      " [          1%           ] Elapsed 0.01s / Remaining 00:00:00:01"
     ]
    },
    {
     "name": "stdout",
     "output_type": "stream",
     "text": [
      "\r",
      " [          1%           ] Elapsed 0.02s / Remaining 00:00:00:01"
     ]
    },
    {
     "name": "stdout",
     "output_type": "stream",
     "text": [
      "\r",
      " [          2%           ] Elapsed 0.02s / Remaining 00:00:00:00"
     ]
    },
    {
     "name": "stdout",
     "output_type": "stream",
     "text": [
      "\r"
     ]
    },
    {
     "name": "stdout",
     "output_type": "stream",
     "text": [
      " [          2%           ] Elapsed 0.02s / Remaining 00:00:00:00"
     ]
    },
    {
     "name": "stdout",
     "output_type": "stream",
     "text": [
      "\r"
     ]
    },
    {
     "name": "stdout",
     "output_type": "stream",
     "text": [
      " [          2%           ] Elapsed 0.02s / Remaining 00:00:00:00"
     ]
    },
    {
     "name": "stdout",
     "output_type": "stream",
     "text": [
      "\r"
     ]
    },
    {
     "name": "stdout",
     "output_type": "stream",
     "text": [
      " [          2%           ] Elapsed 0.02s / Remaining 00:00:00:01"
     ]
    },
    {
     "name": "stdout",
     "output_type": "stream",
     "text": [
      "\r"
     ]
    },
    {
     "name": "stdout",
     "output_type": "stream",
     "text": [
      " [          2%           ] Elapsed 0.02s / Remaining 00:00:00:01"
     ]
    },
    {
     "name": "stdout",
     "output_type": "stream",
     "text": [
      "\r"
     ]
    },
    {
     "name": "stdout",
     "output_type": "stream",
     "text": [
      " [          2%           ] Elapsed 0.03s / Remaining 00:00:00:01"
     ]
    },
    {
     "name": "stdout",
     "output_type": "stream",
     "text": [
      "\r"
     ]
    },
    {
     "name": "stdout",
     "output_type": "stream",
     "text": [
      " [*         3%           ] Elapsed 0.03s / Remaining 00:00:00:00"
     ]
    },
    {
     "name": "stdout",
     "output_type": "stream",
     "text": [
      "\r"
     ]
    },
    {
     "name": "stdout",
     "output_type": "stream",
     "text": [
      " [*         3%           ] Elapsed 0.03s / Remaining 00:00:00:00"
     ]
    },
    {
     "name": "stdout",
     "output_type": "stream",
     "text": [
      "\r",
      " [*         3%           ] Elapsed 0.03s / Remaining 00:00:00:00"
     ]
    },
    {
     "name": "stdout",
     "output_type": "stream",
     "text": [
      "\r"
     ]
    },
    {
     "name": "stdout",
     "output_type": "stream",
     "text": [
      " [*         3%           ] Elapsed 0.03s / Remaining 00:00:00:01"
     ]
    },
    {
     "name": "stdout",
     "output_type": "stream",
     "text": [
      "\r"
     ]
    },
    {
     "name": "stdout",
     "output_type": "stream",
     "text": [
      " [*         3%           ] Elapsed 0.03s / Remaining 00:00:00:01"
     ]
    },
    {
     "name": "stdout",
     "output_type": "stream",
     "text": [
      "\r"
     ]
    },
    {
     "name": "stdout",
     "output_type": "stream",
     "text": [
      " [*         3%           ] Elapsed 0.03s / Remaining 00:00:00:01"
     ]
    },
    {
     "name": "stdout",
     "output_type": "stream",
     "text": [
      "\r"
     ]
    },
    {
     "name": "stdout",
     "output_type": "stream",
     "text": [
      " [*         4%           ] Elapsed 0.04s / Remaining 00:00:00:00"
     ]
    },
    {
     "name": "stdout",
     "output_type": "stream",
     "text": [
      "\r"
     ]
    },
    {
     "name": "stdout",
     "output_type": "stream",
     "text": [
      " "
     ]
    },
    {
     "name": "stdout",
     "output_type": "stream",
     "text": [
      "[*         4%           ] Elapsed 0.04s / Remaining 00:00:00:00"
     ]
    },
    {
     "name": "stdout",
     "output_type": "stream",
     "text": [
      "\r"
     ]
    },
    {
     "name": "stdout",
     "output_type": "stream",
     "text": [
      " "
     ]
    },
    {
     "name": "stdout",
     "output_type": "stream",
     "text": [
      "[*         4%           ] Elapsed 0.04s / Remaining 00:00:00:00"
     ]
    },
    {
     "name": "stdout",
     "output_type": "stream",
     "text": [
      "\r"
     ]
    },
    {
     "name": "stdout",
     "output_type": "stream",
     "text": [
      " [*         4%           ] Elapsed 0.04s / Remaining 00:00:00:00"
     ]
    },
    {
     "name": "stdout",
     "output_type": "stream",
     "text": [
      "\r"
     ]
    },
    {
     "name": "stdout",
     "output_type": "stream",
     "text": [
      " [*         4%           ] Elapsed 0.04s / Remaining 00:00:00:01"
     ]
    },
    {
     "name": "stdout",
     "output_type": "stream",
     "text": [
      "\r"
     ]
    },
    {
     "name": "stdout",
     "output_type": "stream",
     "text": [
      " [*         4%           ] Elapsed 0.04s / Remaining 00:00:00:01"
     ]
    },
    {
     "name": "stdout",
     "output_type": "stream",
     "text": [
      "\r"
     ]
    },
    {
     "name": "stdout",
     "output_type": "stream",
     "text": [
      " [*         5%           ] Elapsed 0.04s / Remaining 00:00:00:00"
     ]
    },
    {
     "name": "stdout",
     "output_type": "stream",
     "text": [
      "\r",
      " [*         5%           ] Elapsed 0.05s / Remaining 00:00:00:00"
     ]
    },
    {
     "name": "stdout",
     "output_type": "stream",
     "text": [
      "\r"
     ]
    },
    {
     "name": "stdout",
     "output_type": "stream",
     "text": [
      " [*         5%           ] Elapsed 0.05s / Remaining 00:00:00:00"
     ]
    },
    {
     "name": "stdout",
     "output_type": "stream",
     "text": [
      "\r"
     ]
    },
    {
     "name": "stdout",
     "output_type": "stream",
     "text": [
      " [*         5%           ] Elapsed 0.05s / Remaining 00:00:00:00"
     ]
    },
    {
     "name": "stdout",
     "output_type": "stream",
     "text": [
      "\r"
     ]
    },
    {
     "name": "stdout",
     "output_type": "stream",
     "text": [
      " [*         5%           ] Elapsed 0.05s / Remaining 00:00:00:00"
     ]
    },
    {
     "name": "stdout",
     "output_type": "stream",
     "text": [
      "\r"
     ]
    },
    {
     "name": "stdout",
     "output_type": "stream",
     "text": [
      " [*         5%           ] Elapsed 0.05s / Remaining 00:00:00:00"
     ]
    },
    {
     "name": "stdout",
     "output_type": "stream",
     "text": [
      "\r"
     ]
    },
    {
     "name": "stdout",
     "output_type": "stream",
     "text": [
      " [*         6%           ] Elapsed 0.05s / Remaining 00:00:00:00"
     ]
    },
    {
     "name": "stdout",
     "output_type": "stream",
     "text": [
      "\r"
     ]
    },
    {
     "name": "stdout",
     "output_type": "stream",
     "text": [
      " [*         6%           ] Elapsed 0.05s / Remaining 00:00:00:00"
     ]
    },
    {
     "name": "stdout",
     "output_type": "stream",
     "text": [
      "\r"
     ]
    },
    {
     "name": "stdout",
     "output_type": "stream",
     "text": [
      " [*         6%           ] Elapsed 0.05s / Remaining 00:00:00:00"
     ]
    },
    {
     "name": "stdout",
     "output_type": "stream",
     "text": [
      "\r"
     ]
    },
    {
     "name": "stdout",
     "output_type": "stream",
     "text": [
      " [*         6%           ] Elapsed 0.06s / Remaining 00:00:00:00"
     ]
    },
    {
     "name": "stdout",
     "output_type": "stream",
     "text": [
      "\r"
     ]
    },
    {
     "name": "stdout",
     "output_type": "stream",
     "text": [
      " [*         6%           ] Elapsed 0.06s / Remaining 00:00:00:00"
     ]
    },
    {
     "name": "stdout",
     "output_type": "stream",
     "text": [
      "\r"
     ]
    },
    {
     "name": "stdout",
     "output_type": "stream",
     "text": [
      " [*         6%           ] Elapsed 0.06s / Remaining 00:00:00:00"
     ]
    },
    {
     "name": "stdout",
     "output_type": "stream",
     "text": [
      "\r",
      " [**        7%           ] Elapsed 0.06s / Remaining 00:00:00:00"
     ]
    },
    {
     "name": "stdout",
     "output_type": "stream",
     "text": [
      "\r"
     ]
    },
    {
     "name": "stdout",
     "output_type": "stream",
     "text": [
      " [**        7%           ] Elapsed 0.06s / Remaining 00:00:00:00"
     ]
    },
    {
     "name": "stdout",
     "output_type": "stream",
     "text": [
      "\r"
     ]
    },
    {
     "name": "stdout",
     "output_type": "stream",
     "text": [
      " [**        7%           ] Elapsed 0.06s / Remaining 00:00:00:00"
     ]
    },
    {
     "name": "stdout",
     "output_type": "stream",
     "text": [
      "\r"
     ]
    },
    {
     "name": "stdout",
     "output_type": "stream",
     "text": [
      " [**        7%           ] Elapsed 0.06s / Remaining 00:00:00:00"
     ]
    },
    {
     "name": "stdout",
     "output_type": "stream",
     "text": [
      "\r"
     ]
    },
    {
     "name": "stdout",
     "output_type": "stream",
     "text": [
      " [**        7%           ] Elapsed 0.06s / Remaining 00:00:00:00"
     ]
    },
    {
     "name": "stdout",
     "output_type": "stream",
     "text": [
      "\r",
      " [**        7%           ] Elapsed 0.06s / Remaining 00:00:00:00"
     ]
    },
    {
     "name": "stdout",
     "output_type": "stream",
     "text": [
      "\r",
      " [**        8%           ] Elapsed 0.06s / Remaining 00:00:00:00"
     ]
    },
    {
     "name": "stdout",
     "output_type": "stream",
     "text": [
      "\r"
     ]
    },
    {
     "name": "stdout",
     "output_type": "stream",
     "text": [
      " [**        8%           ] Elapsed 0.07s / Remaining 00:00:00:00"
     ]
    },
    {
     "name": "stdout",
     "output_type": "stream",
     "text": [
      "\r"
     ]
    },
    {
     "name": "stdout",
     "output_type": "stream",
     "text": [
      " [**        8%           ] Elapsed 0.07s / Remaining 00:00:00:00"
     ]
    },
    {
     "name": "stdout",
     "output_type": "stream",
     "text": [
      "\r",
      " [**        8%           ] Elapsed 0.07s / Remaining 00:00:00:00"
     ]
    },
    {
     "name": "stdout",
     "output_type": "stream",
     "text": [
      "\r",
      " [**        8%           ] Elapsed 0.07s / Remaining 00:00:00:00"
     ]
    },
    {
     "name": "stdout",
     "output_type": "stream",
     "text": [
      "\r"
     ]
    },
    {
     "name": "stdout",
     "output_type": "stream",
     "text": [
      " [**        8%           ] Elapsed 0.07s / Remaining 00:00:00:00"
     ]
    },
    {
     "name": "stdout",
     "output_type": "stream",
     "text": [
      "\r"
     ]
    },
    {
     "name": "stdout",
     "output_type": "stream",
     "text": [
      " [**        9%           ] Elapsed 0.07s / Remaining 00:00:00:00"
     ]
    },
    {
     "name": "stdout",
     "output_type": "stream",
     "text": [
      "\r"
     ]
    },
    {
     "name": "stdout",
     "output_type": "stream",
     "text": [
      " [**        9%           ] Elapsed 0.07s / Remaining 00:00:00:00"
     ]
    },
    {
     "name": "stdout",
     "output_type": "stream",
     "text": [
      "\r",
      " [**        9%           ] Elapsed 0.07s / Remaining 00:00:00:00"
     ]
    },
    {
     "name": "stdout",
     "output_type": "stream",
     "text": [
      "\r"
     ]
    },
    {
     "name": "stdout",
     "output_type": "stream",
     "text": [
      " [**        9%           ] Elapsed 0.07s / Remaining 00:00:00:00"
     ]
    },
    {
     "name": "stdout",
     "output_type": "stream",
     "text": [
      "\r"
     ]
    },
    {
     "name": "stdout",
     "output_type": "stream",
     "text": [
      " [**        9%           ] Elapsed 0.07s / Remaining 00:00:00:00"
     ]
    },
    {
     "name": "stdout",
     "output_type": "stream",
     "text": [
      "\r",
      " [**        9%           ] Elapsed 0.08s / Remaining 00:00:00:00"
     ]
    },
    {
     "name": "stdout",
     "output_type": "stream",
     "text": [
      "\r",
      " [**       10%           ] Elapsed 0.08s / Remaining 00:00:00:00"
     ]
    },
    {
     "name": "stdout",
     "output_type": "stream",
     "text": [
      "\r"
     ]
    },
    {
     "name": "stdout",
     "output_type": "stream",
     "text": [
      " [**       10%           ] Elapsed 0.08s / Remaining 00:00:00:00"
     ]
    },
    {
     "name": "stdout",
     "output_type": "stream",
     "text": [
      "\r",
      " [**       10%           ] Elapsed 0.08s / Remaining 00:00:00:00"
     ]
    },
    {
     "name": "stdout",
     "output_type": "stream",
     "text": [
      "\r"
     ]
    },
    {
     "name": "stdout",
     "output_type": "stream",
     "text": [
      " [**       10%           ] Elapsed 0.08s / Remaining 00:00:00:00"
     ]
    },
    {
     "name": "stdout",
     "output_type": "stream",
     "text": [
      "\r",
      " [**       10%           ] Elapsed 0.08s / Remaining 00:00:00:00"
     ]
    },
    {
     "name": "stdout",
     "output_type": "stream",
     "text": [
      "\r",
      " [**       10%           ] Elapsed 0.08s / Remaining 00:00:00:00"
     ]
    },
    {
     "name": "stdout",
     "output_type": "stream",
     "text": [
      "\r",
      " [***      11%           ] Elapsed 0.08s / Remaining 00:00:00:00"
     ]
    },
    {
     "name": "stdout",
     "output_type": "stream",
     "text": [
      "\r"
     ]
    },
    {
     "name": "stdout",
     "output_type": "stream",
     "text": [
      " [***      11%           ] Elapsed 0.08s / Remaining 00:00:00:00"
     ]
    },
    {
     "name": "stdout",
     "output_type": "stream",
     "text": [
      "\r",
      " [***      11%           ] Elapsed 0.08s / Remaining 00:00:00:00"
     ]
    },
    {
     "name": "stdout",
     "output_type": "stream",
     "text": [
      "\r",
      " [***      11%           ] Elapsed 0.08s / Remaining 00:00:00:00"
     ]
    },
    {
     "name": "stdout",
     "output_type": "stream",
     "text": [
      "\r",
      " [***      11%           ] Elapsed 0.08s / Remaining 00:00:00:00"
     ]
    },
    {
     "name": "stdout",
     "output_type": "stream",
     "text": [
      "\r",
      " [***      11%           ] Elapsed 0.09s / Remaining 00:00:00:00"
     ]
    },
    {
     "name": "stdout",
     "output_type": "stream",
     "text": [
      "\r"
     ]
    },
    {
     "name": "stdout",
     "output_type": "stream",
     "text": [
      " [***      12%           ] Elapsed 0.09s / Remaining 00:00:00:00"
     ]
    },
    {
     "name": "stdout",
     "output_type": "stream",
     "text": [
      "\r",
      " [***      12%           ] Elapsed 0.09s / Remaining 00:00:00:00"
     ]
    },
    {
     "name": "stdout",
     "output_type": "stream",
     "text": [
      "\r",
      " [***      12%           ] Elapsed 0.09s / Remaining 00:00:00:00"
     ]
    },
    {
     "name": "stdout",
     "output_type": "stream",
     "text": [
      "\r",
      " [***      12%           ] Elapsed 0.09s / Remaining 00:00:00:00"
     ]
    },
    {
     "name": "stdout",
     "output_type": "stream",
     "text": [
      "\r",
      " [***      12%           ] Elapsed 0.09s / Remaining 00:00:00:00"
     ]
    },
    {
     "name": "stdout",
     "output_type": "stream",
     "text": [
      "\r"
     ]
    },
    {
     "name": "stdout",
     "output_type": "stream",
     "text": [
      " [***      12%           ] Elapsed 0.09s / Remaining 00:00:00:00"
     ]
    },
    {
     "name": "stdout",
     "output_type": "stream",
     "text": [
      "\r",
      " [***      13%           ] Elapsed 0.09s / Remaining 00:00:00:00"
     ]
    },
    {
     "name": "stdout",
     "output_type": "stream",
     "text": [
      "\r",
      " [***      13%           ] Elapsed 0.09s / Remaining 00:00:00:00"
     ]
    },
    {
     "name": "stdout",
     "output_type": "stream",
     "text": [
      "\r",
      " [***      13%           ] Elapsed 0.09s / Remaining 00:00:00:00"
     ]
    },
    {
     "name": "stdout",
     "output_type": "stream",
     "text": [
      "\r"
     ]
    },
    {
     "name": "stdout",
     "output_type": "stream",
     "text": [
      " [***      13%           ] Elapsed 0.09s / Remaining 00:00:00:00"
     ]
    },
    {
     "name": "stdout",
     "output_type": "stream",
     "text": [
      "\r",
      " [***      13%           ] Elapsed 0.09s / Remaining 00:00:00:00"
     ]
    },
    {
     "name": "stdout",
     "output_type": "stream",
     "text": [
      "\r",
      " [***      13%           ] Elapsed 0.10s / Remaining 00:00:00:00"
     ]
    },
    {
     "name": "stdout",
     "output_type": "stream",
     "text": [
      "\r"
     ]
    },
    {
     "name": "stdout",
     "output_type": "stream",
     "text": [
      " [***      14%           ] Elapsed 0.10s / Remaining 00:00:00:00"
     ]
    },
    {
     "name": "stdout",
     "output_type": "stream",
     "text": [
      "\r",
      " [***      14%           ] Elapsed 0.10s / Remaining 00:00:00:00"
     ]
    },
    {
     "name": "stdout",
     "output_type": "stream",
     "text": [
      "\r",
      " [***      14%           ] Elapsed 0.10s / Remaining 00:00:00:00"
     ]
    },
    {
     "name": "stdout",
     "output_type": "stream",
     "text": [
      "\r",
      " [***      14%           ] Elapsed 0.10s / Remaining 00:00:00:00"
     ]
    },
    {
     "name": "stdout",
     "output_type": "stream",
     "text": [
      "\r"
     ]
    },
    {
     "name": "stdout",
     "output_type": "stream",
     "text": [
      " [***      14%           ] Elapsed 0.10s / Remaining 00:00:00:00"
     ]
    },
    {
     "name": "stdout",
     "output_type": "stream",
     "text": [
      "\r",
      " [***      14%           ] Elapsed 0.10s / Remaining 00:00:00:00"
     ]
    },
    {
     "name": "stdout",
     "output_type": "stream",
     "text": [
      "\r"
     ]
    },
    {
     "name": "stdout",
     "output_type": "stream",
     "text": [
      " [***      15%           ] Elapsed 0.10s / Remaining 00:00:00:00"
     ]
    },
    {
     "name": "stdout",
     "output_type": "stream",
     "text": [
      "\r",
      " [***      15%           ] Elapsed 0.10s / Remaining 00:00:00:00"
     ]
    },
    {
     "name": "stdout",
     "output_type": "stream",
     "text": [
      "\r",
      " [***      15%           ] Elapsed 0.10s / Remaining 00:00:00:00"
     ]
    },
    {
     "name": "stdout",
     "output_type": "stream",
     "text": [
      "\r"
     ]
    },
    {
     "name": "stdout",
     "output_type": "stream",
     "text": [
      " [***      15%           ] Elapsed 0.10s / Remaining 00:00:00:00"
     ]
    },
    {
     "name": "stdout",
     "output_type": "stream",
     "text": [
      "\r",
      " [***      15%           ] Elapsed 0.10s / Remaining 00:00:00:00"
     ]
    },
    {
     "name": "stdout",
     "output_type": "stream",
     "text": [
      "\r",
      " [***      15%           ] Elapsed 0.11s / Remaining 00:00:00:00"
     ]
    },
    {
     "name": "stdout",
     "output_type": "stream",
     "text": [
      "\r",
      " [****     16%           ] Elapsed 0.11s / Remaining 00:00:00:00"
     ]
    },
    {
     "name": "stdout",
     "output_type": "stream",
     "text": [
      "\r",
      " [****     16%           ] Elapsed 0.11s / Remaining 00:00:00:00"
     ]
    },
    {
     "name": "stdout",
     "output_type": "stream",
     "text": [
      "\r",
      " [****     16%           ] Elapsed 0.11s / Remaining 00:00:00:00"
     ]
    },
    {
     "name": "stdout",
     "output_type": "stream",
     "text": [
      "\r",
      " [****     16%           ] Elapsed 0.11s / Remaining 00:00:00:00"
     ]
    },
    {
     "name": "stdout",
     "output_type": "stream",
     "text": [
      "\r",
      " [****     16%           ] Elapsed 0.11s / Remaining 00:00:00:00"
     ]
    },
    {
     "name": "stdout",
     "output_type": "stream",
     "text": [
      "\r",
      " [****     16%           ] Elapsed 0.11s / Remaining 00:00:00:00"
     ]
    },
    {
     "name": "stdout",
     "output_type": "stream",
     "text": [
      "\r",
      " [****     17%           ] Elapsed 0.11s / Remaining 00:00:00:00"
     ]
    },
    {
     "name": "stdout",
     "output_type": "stream",
     "text": [
      "\r",
      " [****     17%           ] Elapsed 0.11s / Remaining 00:00:00:00"
     ]
    },
    {
     "name": "stdout",
     "output_type": "stream",
     "text": [
      "\r",
      " [****     17%           ] Elapsed 0.11s / Remaining 00:00:00:00"
     ]
    },
    {
     "name": "stdout",
     "output_type": "stream",
     "text": [
      "\r",
      " [****     17%           ] Elapsed 0.11s / Remaining 00:00:00:00"
     ]
    },
    {
     "name": "stdout",
     "output_type": "stream",
     "text": [
      "\r",
      " [****     17%           ] Elapsed 0.11s / Remaining 00:00:00:00"
     ]
    },
    {
     "name": "stdout",
     "output_type": "stream",
     "text": [
      "\r",
      " [****     17%           ] Elapsed 0.11s / Remaining 00:00:00:00"
     ]
    },
    {
     "name": "stdout",
     "output_type": "stream",
     "text": [
      "\r",
      " [****     18%           ] Elapsed 0.12s / Remaining 00:00:00:00"
     ]
    },
    {
     "name": "stdout",
     "output_type": "stream",
     "text": [
      "\r",
      " [****     18%           ] Elapsed 0.12s / Remaining 00:00:00:00"
     ]
    },
    {
     "name": "stdout",
     "output_type": "stream",
     "text": [
      "\r"
     ]
    },
    {
     "name": "stdout",
     "output_type": "stream",
     "text": [
      " [****     18%           ] Elapsed 0.12s / Remaining 00:00:00:00"
     ]
    },
    {
     "name": "stdout",
     "output_type": "stream",
     "text": [
      "\r",
      " [****     18%           ] Elapsed 0.12s / Remaining 00:00:00:00"
     ]
    },
    {
     "name": "stdout",
     "output_type": "stream",
     "text": [
      "\r",
      " [****     18%           ] Elapsed 0.12s / Remaining 00:00:00:00"
     ]
    },
    {
     "name": "stdout",
     "output_type": "stream",
     "text": [
      "\r",
      " [****     18%           ] Elapsed 0.12s / Remaining 00:00:00:00"
     ]
    },
    {
     "name": "stdout",
     "output_type": "stream",
     "text": [
      "\r",
      " [****     19%           ] Elapsed 0.12s / Remaining 00:00:00:00"
     ]
    },
    {
     "name": "stdout",
     "output_type": "stream",
     "text": [
      "\r",
      " [****     19%           ] Elapsed 0.12s / Remaining 00:00:00:00"
     ]
    },
    {
     "name": "stdout",
     "output_type": "stream",
     "text": [
      "\r",
      " [****     19%           ] Elapsed 0.12s / Remaining 00:00:00:00"
     ]
    },
    {
     "name": "stdout",
     "output_type": "stream",
     "text": [
      "\r",
      " [****     19%           ] Elapsed 0.12s / Remaining 00:00:00:00"
     ]
    },
    {
     "name": "stdout",
     "output_type": "stream",
     "text": [
      "\r",
      " [****     19%           ] Elapsed 0.12s / Remaining 00:00:00:00"
     ]
    },
    {
     "name": "stdout",
     "output_type": "stream",
     "text": [
      "\r",
      " [****     19%           ] Elapsed 0.12s / Remaining 00:00:00:00"
     ]
    },
    {
     "name": "stdout",
     "output_type": "stream",
     "text": [
      "\r",
      " [*****    20%           ] Elapsed 0.12s / Remaining 00:00:00:00"
     ]
    },
    {
     "name": "stdout",
     "output_type": "stream",
     "text": [
      "\r",
      " [*****    20%           ] Elapsed 0.13s / Remaining 00:00:00:00"
     ]
    },
    {
     "name": "stdout",
     "output_type": "stream",
     "text": [
      "\r",
      " [*****    20%           ] Elapsed 0.13s / Remaining 00:00:00:00"
     ]
    },
    {
     "name": "stdout",
     "output_type": "stream",
     "text": [
      "\r"
     ]
    },
    {
     "name": "stdout",
     "output_type": "stream",
     "text": [
      " [*****    20%           ] Elapsed 0.13s / Remaining 00:00:00:00"
     ]
    },
    {
     "name": "stdout",
     "output_type": "stream",
     "text": [
      "\r",
      " [*****    20%           ] Elapsed 0.13s / Remaining 00:00:00:00"
     ]
    },
    {
     "name": "stdout",
     "output_type": "stream",
     "text": [
      "\r",
      " [*****    20%           ] Elapsed 0.13s / Remaining 00:00:00:00"
     ]
    },
    {
     "name": "stdout",
     "output_type": "stream",
     "text": [
      "\r",
      " [*****    21%           ] Elapsed 0.13s / Remaining 00:00:00:00"
     ]
    },
    {
     "name": "stdout",
     "output_type": "stream",
     "text": [
      "\r",
      " [*****    21%           ] Elapsed 0.13s / Remaining 00:00:00:00"
     ]
    },
    {
     "name": "stdout",
     "output_type": "stream",
     "text": [
      "\r",
      " [*****    21%           ] Elapsed 0.13s / Remaining 00:00:00:00"
     ]
    },
    {
     "name": "stdout",
     "output_type": "stream",
     "text": [
      "\r",
      " [*****    21%           ] Elapsed 0.13s / Remaining 00:00:00:00"
     ]
    },
    {
     "name": "stdout",
     "output_type": "stream",
     "text": [
      "\r",
      " [*****    21%           ] Elapsed 0.13s / Remaining 00:00:00:00"
     ]
    },
    {
     "name": "stdout",
     "output_type": "stream",
     "text": [
      "\r"
     ]
    },
    {
     "name": "stdout",
     "output_type": "stream",
     "text": [
      " [*****    21%           ] Elapsed 0.13s / Remaining 00:00:00:00"
     ]
    },
    {
     "name": "stdout",
     "output_type": "stream",
     "text": [
      "\r",
      " [*****    22%           ] Elapsed 0.13s / Remaining 00:00:00:00"
     ]
    },
    {
     "name": "stdout",
     "output_type": "stream",
     "text": [
      "\r",
      " [*****    22%           ] Elapsed 0.14s / Remaining 00:00:00:00"
     ]
    },
    {
     "name": "stdout",
     "output_type": "stream",
     "text": [
      "\r",
      " [*****    22%           ] Elapsed 0.14s / Remaining 00:00:00:00"
     ]
    },
    {
     "name": "stdout",
     "output_type": "stream",
     "text": [
      "\r",
      " [*****    22%           ] Elapsed 0.14s / Remaining 00:00:00:00"
     ]
    },
    {
     "name": "stdout",
     "output_type": "stream",
     "text": [
      "\r",
      " [*****    22%           ] Elapsed 0.14s / Remaining 00:00:00:00"
     ]
    },
    {
     "name": "stdout",
     "output_type": "stream",
     "text": [
      "\r",
      " [*****    22%           ] Elapsed 0.14s / Remaining 00:00:00:00"
     ]
    },
    {
     "name": "stdout",
     "output_type": "stream",
     "text": [
      "\r",
      " [*****    23%           ] Elapsed 0.14s / Remaining 00:00:00:00"
     ]
    },
    {
     "name": "stdout",
     "output_type": "stream",
     "text": [
      "\r",
      " [*****    23%           ] Elapsed 0.14s / Remaining 00:00:00:00"
     ]
    },
    {
     "name": "stdout",
     "output_type": "stream",
     "text": [
      "\r"
     ]
    },
    {
     "name": "stdout",
     "output_type": "stream",
     "text": [
      " [*****    23%           ] Elapsed 0.14s / Remaining 00:00:00:00"
     ]
    },
    {
     "name": "stdout",
     "output_type": "stream",
     "text": [
      "\r",
      " [*****    23%           ] Elapsed 0.14s / Remaining 00:00:00:00"
     ]
    },
    {
     "name": "stdout",
     "output_type": "stream",
     "text": [
      "\r",
      " [*****    23%           ] Elapsed 0.14s / Remaining 00:00:00:00"
     ]
    },
    {
     "name": "stdout",
     "output_type": "stream",
     "text": [
      "\r",
      " [*****    23%           ] Elapsed 0.14s / Remaining 00:00:00:00"
     ]
    },
    {
     "name": "stdout",
     "output_type": "stream",
     "text": [
      "\r",
      " [******   24%           ] Elapsed 0.14s / Remaining 00:00:00:00"
     ]
    },
    {
     "name": "stdout",
     "output_type": "stream",
     "text": [
      "\r",
      " [******   24%           ] Elapsed 0.14s / Remaining 00:00:00:00"
     ]
    },
    {
     "name": "stdout",
     "output_type": "stream",
     "text": [
      "\r",
      " [******   24%           ] Elapsed 0.15s / Remaining 00:00:00:00"
     ]
    },
    {
     "name": "stdout",
     "output_type": "stream",
     "text": [
      "\r",
      " [******   24%           ] Elapsed 0.15s / Remaining 00:00:00:00"
     ]
    },
    {
     "name": "stdout",
     "output_type": "stream",
     "text": [
      "\r",
      " [******   24%           ] Elapsed 0.15s / Remaining 00:00:00:00"
     ]
    },
    {
     "name": "stdout",
     "output_type": "stream",
     "text": [
      "\r",
      " [******   24%           ] Elapsed 0.15s / Remaining 00:00:00:00"
     ]
    },
    {
     "name": "stdout",
     "output_type": "stream",
     "text": [
      "\r",
      " [******   25%           ] Elapsed 0.15s / Remaining 00:00:00:00"
     ]
    },
    {
     "name": "stdout",
     "output_type": "stream",
     "text": [
      "\r",
      " [******   25%           ] Elapsed 0.15s / Remaining 00:00:00:00"
     ]
    },
    {
     "name": "stdout",
     "output_type": "stream",
     "text": [
      "\r",
      " [******   25%           ] Elapsed 0.15s / Remaining 00:00:00:00"
     ]
    },
    {
     "name": "stdout",
     "output_type": "stream",
     "text": [
      "\r",
      " [******   25%           ] Elapsed 0.15s / Remaining 00:00:00:00"
     ]
    },
    {
     "name": "stdout",
     "output_type": "stream",
     "text": [
      "\r",
      " [******   25%           ] Elapsed 0.15s / Remaining 00:00:00:00"
     ]
    },
    {
     "name": "stdout",
     "output_type": "stream",
     "text": [
      "\r",
      " [******   25%           ] Elapsed 0.15s / Remaining 00:00:00:00"
     ]
    },
    {
     "name": "stdout",
     "output_type": "stream",
     "text": [
      "\r",
      " [******   26%           ] Elapsed 0.15s / Remaining 00:00:00:00"
     ]
    },
    {
     "name": "stdout",
     "output_type": "stream",
     "text": [
      "\r"
     ]
    },
    {
     "name": "stdout",
     "output_type": "stream",
     "text": [
      " [******   26%           ] Elapsed 0.15s / Remaining 00:00:00:00"
     ]
    },
    {
     "name": "stdout",
     "output_type": "stream",
     "text": [
      "\r",
      " [******   26%           ] Elapsed 0.16s / Remaining 00:00:00:00"
     ]
    },
    {
     "name": "stdout",
     "output_type": "stream",
     "text": [
      "\r",
      " [******   26%           ] Elapsed 0.16s / Remaining 00:00:00:00"
     ]
    },
    {
     "name": "stdout",
     "output_type": "stream",
     "text": [
      "\r",
      " [******   26%           ] Elapsed 0.16s / Remaining 00:00:00:00"
     ]
    },
    {
     "name": "stdout",
     "output_type": "stream",
     "text": [
      "\r",
      " [******   26%           ] Elapsed 0.16s / Remaining 00:00:00:00"
     ]
    },
    {
     "name": "stdout",
     "output_type": "stream",
     "text": [
      "\r",
      " [******   27%           ] Elapsed 0.16s / Remaining 00:00:00:00"
     ]
    },
    {
     "name": "stdout",
     "output_type": "stream",
     "text": [
      "\r",
      " [******   27%           ] Elapsed 0.16s / Remaining 00:00:00:00"
     ]
    },
    {
     "name": "stdout",
     "output_type": "stream",
     "text": [
      "\r",
      " [******   27%           ] Elapsed 0.16s / Remaining 00:00:00:00"
     ]
    },
    {
     "name": "stdout",
     "output_type": "stream",
     "text": [
      "\r",
      " [******   27%           ] Elapsed 0.16s / Remaining 00:00:00:00"
     ]
    },
    {
     "name": "stdout",
     "output_type": "stream",
     "text": [
      "\r",
      " [******   27%           ] Elapsed 0.16s / Remaining 00:00:00:00"
     ]
    },
    {
     "name": "stdout",
     "output_type": "stream",
     "text": [
      "\r",
      " [******   27%           ] Elapsed 0.16s / Remaining 00:00:00:00"
     ]
    },
    {
     "name": "stdout",
     "output_type": "stream",
     "text": [
      "\r",
      " [******   28%           ] Elapsed 0.16s / Remaining 00:00:00:00"
     ]
    },
    {
     "name": "stdout",
     "output_type": "stream",
     "text": [
      "\r",
      " [******   28%           ] Elapsed 0.16s / Remaining 00:00:00:00"
     ]
    },
    {
     "name": "stdout",
     "output_type": "stream",
     "text": [
      "\r",
      " [******   28%           ] Elapsed 0.16s / Remaining 00:00:00:00"
     ]
    },
    {
     "name": "stdout",
     "output_type": "stream",
     "text": [
      "\r"
     ]
    },
    {
     "name": "stdout",
     "output_type": "stream",
     "text": [
      " [******   28%           ] Elapsed 0.17s / Remaining 00:00:00:00"
     ]
    },
    {
     "name": "stdout",
     "output_type": "stream",
     "text": [
      "\r",
      " [******   28%           ] Elapsed 0.17s / Remaining 00:00:00:00"
     ]
    },
    {
     "name": "stdout",
     "output_type": "stream",
     "text": [
      "\r",
      " [******   28%           ] Elapsed 0.17s / Remaining 00:00:00:00"
     ]
    },
    {
     "name": "stdout",
     "output_type": "stream",
     "text": [
      "\r",
      " [*******  29%           ] Elapsed 0.17s / Remaining 00:00:00:00"
     ]
    },
    {
     "name": "stdout",
     "output_type": "stream",
     "text": [
      "\r",
      " [*******  29%           ] Elapsed 0.17s / Remaining 00:00:00:00"
     ]
    },
    {
     "name": "stdout",
     "output_type": "stream",
     "text": [
      "\r",
      " [*******  29%           ] Elapsed 0.17s / Remaining 00:00:00:00"
     ]
    },
    {
     "name": "stdout",
     "output_type": "stream",
     "text": [
      "\r",
      " [*******  29%           ] Elapsed 0.17s / Remaining 00:00:00:00"
     ]
    },
    {
     "name": "stdout",
     "output_type": "stream",
     "text": [
      "\r",
      " [*******  29%           ] Elapsed 0.17s / Remaining 00:00:00:00"
     ]
    },
    {
     "name": "stdout",
     "output_type": "stream",
     "text": [
      "\r",
      " [*******  29%           ] Elapsed 0.17s / Remaining 00:00:00:00"
     ]
    },
    {
     "name": "stdout",
     "output_type": "stream",
     "text": [
      "\r",
      " [*******  30%           ] Elapsed 0.17s / Remaining 00:00:00:00"
     ]
    },
    {
     "name": "stdout",
     "output_type": "stream",
     "text": [
      "\r",
      " [*******  30%           ] Elapsed 0.17s / Remaining 00:00:00:00"
     ]
    },
    {
     "name": "stdout",
     "output_type": "stream",
     "text": [
      "\r",
      " [*******  30%           ] Elapsed 0.17s / Remaining 00:00:00:00"
     ]
    },
    {
     "name": "stdout",
     "output_type": "stream",
     "text": [
      "\r",
      " [*******  30%           ] Elapsed 0.17s / Remaining 00:00:00:00"
     ]
    },
    {
     "name": "stdout",
     "output_type": "stream",
     "text": [
      "\r",
      " [*******  30%           ] Elapsed 0.18s / Remaining 00:00:00:00"
     ]
    },
    {
     "name": "stdout",
     "output_type": "stream",
     "text": [
      "\r",
      " [*******  30%           ] Elapsed 0.18s / Remaining 00:00:00:00"
     ]
    },
    {
     "name": "stdout",
     "output_type": "stream",
     "text": [
      "\r",
      " [*******  31%           ] Elapsed 0.18s / Remaining 00:00:00:00"
     ]
    },
    {
     "name": "stdout",
     "output_type": "stream",
     "text": [
      "\r",
      " [*******  31%           ] Elapsed 0.18s / Remaining 00:00:00:00"
     ]
    },
    {
     "name": "stdout",
     "output_type": "stream",
     "text": [
      "\r",
      " [*******  31%           ] Elapsed 0.18s / Remaining 00:00:00:00"
     ]
    },
    {
     "name": "stdout",
     "output_type": "stream",
     "text": [
      "\r",
      " [*******  31%           ] Elapsed 0.18s / Remaining 00:00:00:00"
     ]
    },
    {
     "name": "stdout",
     "output_type": "stream",
     "text": [
      "\r",
      " [*******  31%           ] Elapsed 0.18s / Remaining 00:00:00:00"
     ]
    },
    {
     "name": "stdout",
     "output_type": "stream",
     "text": [
      "\r",
      " [*******  31%           ] Elapsed 0.18s / Remaining 00:00:00:00"
     ]
    },
    {
     "name": "stdout",
     "output_type": "stream",
     "text": [
      "\r",
      " [*******  32%           ] Elapsed 0.18s / Remaining 00:00:00:00"
     ]
    },
    {
     "name": "stdout",
     "output_type": "stream",
     "text": [
      "\r",
      " [*******  32%           ] Elapsed 0.18s / Remaining 00:00:00:00"
     ]
    },
    {
     "name": "stdout",
     "output_type": "stream",
     "text": [
      "\r",
      " [*******  32%           ] Elapsed 0.18s / Remaining 00:00:00:00"
     ]
    },
    {
     "name": "stdout",
     "output_type": "stream",
     "text": [
      "\r",
      " [*******  32%           ] Elapsed 0.18s / Remaining 00:00:00:00"
     ]
    },
    {
     "name": "stdout",
     "output_type": "stream",
     "text": [
      "\r",
      " [*******  32%           ] Elapsed 0.18s / Remaining 00:00:00:00"
     ]
    },
    {
     "name": "stdout",
     "output_type": "stream",
     "text": [
      "\r",
      " [*******  32%           ] Elapsed 0.19s / Remaining 00:00:00:00"
     ]
    },
    {
     "name": "stdout",
     "output_type": "stream",
     "text": [
      "\r",
      " [******** 33%           ] Elapsed 0.19s / Remaining 00:00:00:00"
     ]
    },
    {
     "name": "stdout",
     "output_type": "stream",
     "text": [
      "\r",
      " [******** 33%           ] Elapsed 0.19s / Remaining 00:00:00:00"
     ]
    },
    {
     "name": "stdout",
     "output_type": "stream",
     "text": [
      "\r",
      " [******** 33%           ] Elapsed 0.19s / Remaining 00:00:00:00"
     ]
    },
    {
     "name": "stdout",
     "output_type": "stream",
     "text": [
      "\r",
      " [******** 33%           ] Elapsed 0.19s / Remaining 00:00:00:00"
     ]
    },
    {
     "name": "stdout",
     "output_type": "stream",
     "text": [
      "\r",
      " [******** 33%           ] Elapsed 0.19s / Remaining 00:00:00:00"
     ]
    },
    {
     "name": "stdout",
     "output_type": "stream",
     "text": [
      "\r",
      " [******** 33%           ] Elapsed 0.19s / Remaining 00:00:00:00"
     ]
    },
    {
     "name": "stdout",
     "output_type": "stream",
     "text": [
      "\r",
      " [******** 34%           ] Elapsed 0.19s / Remaining 00:00:00:00"
     ]
    },
    {
     "name": "stdout",
     "output_type": "stream",
     "text": [
      "\r",
      " [******** 34%           ] Elapsed 0.19s / Remaining 00:00:00:00"
     ]
    },
    {
     "name": "stdout",
     "output_type": "stream",
     "text": [
      "\r",
      " [******** 34%           ] Elapsed 0.19s / Remaining 00:00:00:00"
     ]
    },
    {
     "name": "stdout",
     "output_type": "stream",
     "text": [
      "\r",
      " [******** 34%           ] Elapsed 0.19s / Remaining 00:00:00:00"
     ]
    },
    {
     "name": "stdout",
     "output_type": "stream",
     "text": [
      "\r",
      " [******** 34%           ] Elapsed 0.19s / Remaining 00:00:00:00"
     ]
    },
    {
     "name": "stdout",
     "output_type": "stream",
     "text": [
      "\r",
      " [******** 34%           ] Elapsed 0.19s / Remaining 00:00:00:00"
     ]
    },
    {
     "name": "stdout",
     "output_type": "stream",
     "text": [
      "\r",
      " [******** 35%           ] Elapsed 0.19s / Remaining 00:00:00:00"
     ]
    },
    {
     "name": "stdout",
     "output_type": "stream",
     "text": [
      "\r",
      " [******** 35%           ] Elapsed 0.20s / Remaining 00:00:00:00"
     ]
    },
    {
     "name": "stdout",
     "output_type": "stream",
     "text": [
      "\r",
      " [******** 35%           ] Elapsed 0.20s / Remaining 00:00:00:00"
     ]
    },
    {
     "name": "stdout",
     "output_type": "stream",
     "text": [
      "\r",
      " [******** 35%           ] Elapsed 0.20s / Remaining 00:00:00:00"
     ]
    },
    {
     "name": "stdout",
     "output_type": "stream",
     "text": [
      "\r",
      " [******** 35%           ] Elapsed 0.20s / Remaining 00:00:00:00"
     ]
    },
    {
     "name": "stdout",
     "output_type": "stream",
     "text": [
      "\r",
      " [******** 35%           ] Elapsed 0.20s / Remaining 00:00:00:00"
     ]
    },
    {
     "name": "stdout",
     "output_type": "stream",
     "text": [
      "\r"
     ]
    },
    {
     "name": "stdout",
     "output_type": "stream",
     "text": [
      " [******** 36%           ] Elapsed 0.20s / Remaining 00:00:00:00"
     ]
    },
    {
     "name": "stdout",
     "output_type": "stream",
     "text": [
      "\r",
      " [******** 36%           ] Elapsed 0.20s / Remaining 00:00:00:00"
     ]
    },
    {
     "name": "stdout",
     "output_type": "stream",
     "text": [
      "\r",
      " [******** 36%           ] Elapsed 0.20s / Remaining 00:00:00:00"
     ]
    },
    {
     "name": "stdout",
     "output_type": "stream",
     "text": [
      "\r"
     ]
    },
    {
     "name": "stdout",
     "output_type": "stream",
     "text": [
      " [******** 36%           ] Elapsed 0.20s / Remaining 00:00:00:00"
     ]
    },
    {
     "name": "stdout",
     "output_type": "stream",
     "text": [
      "\r",
      " [******** 36%           ] Elapsed 0.20s / Remaining 00:00:00:00"
     ]
    },
    {
     "name": "stdout",
     "output_type": "stream",
     "text": [
      "\r",
      " [******** 36%           ] Elapsed 0.20s / Remaining 00:00:00:00"
     ]
    },
    {
     "name": "stdout",
     "output_type": "stream",
     "text": [
      "\r",
      " [*********37%           ] Elapsed 0.20s / Remaining 00:00:00:00"
     ]
    },
    {
     "name": "stdout",
     "output_type": "stream",
     "text": [
      "\r",
      " [*********37%           ] Elapsed 0.21s / Remaining 00:00:00:00"
     ]
    },
    {
     "name": "stdout",
     "output_type": "stream",
     "text": [
      "\r",
      " [*********37%           ] Elapsed 0.21s / Remaining 00:00:00:00"
     ]
    },
    {
     "name": "stdout",
     "output_type": "stream",
     "text": [
      "\r",
      " [*********37%           ] Elapsed 0.21s / Remaining 00:00:00:00"
     ]
    },
    {
     "name": "stdout",
     "output_type": "stream",
     "text": [
      "\r",
      " [*********37%           ] Elapsed 0.21s / Remaining 00:00:00:00"
     ]
    },
    {
     "name": "stdout",
     "output_type": "stream",
     "text": [
      "\r",
      " [*********37%           ] Elapsed 0.21s / Remaining 00:00:00:00"
     ]
    },
    {
     "name": "stdout",
     "output_type": "stream",
     "text": [
      "\r",
      " [*********38%           ] Elapsed 0.21s / Remaining 00:00:00:00"
     ]
    },
    {
     "name": "stdout",
     "output_type": "stream",
     "text": [
      "\r",
      " [*********38%           ] Elapsed 0.21s / Remaining 00:00:00:00"
     ]
    },
    {
     "name": "stdout",
     "output_type": "stream",
     "text": [
      "\r",
      " [*********38%           ] Elapsed 0.21s / Remaining 00:00:00:00"
     ]
    },
    {
     "name": "stdout",
     "output_type": "stream",
     "text": [
      "\r",
      " [*********38%           ] Elapsed 0.21s / Remaining 00:00:00:00"
     ]
    },
    {
     "name": "stdout",
     "output_type": "stream",
     "text": [
      "\r",
      " [*********38%           ] Elapsed 0.21s / Remaining 00:00:00:00"
     ]
    },
    {
     "name": "stdout",
     "output_type": "stream",
     "text": [
      "\r",
      " [*********38%           ] Elapsed 0.21s / Remaining 00:00:00:00"
     ]
    },
    {
     "name": "stdout",
     "output_type": "stream",
     "text": [
      "\r",
      " [*********39%           ] Elapsed 0.21s / Remaining 00:00:00:00"
     ]
    },
    {
     "name": "stdout",
     "output_type": "stream",
     "text": [
      "\r",
      " [*********39%           ] Elapsed 0.21s / Remaining 00:00:00:00"
     ]
    },
    {
     "name": "stdout",
     "output_type": "stream",
     "text": [
      "\r",
      " [*********39%           ] Elapsed 0.21s / Remaining 00:00:00:00"
     ]
    },
    {
     "name": "stdout",
     "output_type": "stream",
     "text": [
      "\r",
      " [*********39%           ] Elapsed 0.22s / Remaining 00:00:00:00"
     ]
    },
    {
     "name": "stdout",
     "output_type": "stream",
     "text": [
      "\r",
      " [*********39%           ] Elapsed 0.22s / Remaining 00:00:00:00"
     ]
    },
    {
     "name": "stdout",
     "output_type": "stream",
     "text": [
      "\r"
     ]
    },
    {
     "name": "stdout",
     "output_type": "stream",
     "text": [
      " [*********39%           ] Elapsed 0.22s / Remaining 00:00:00:00"
     ]
    },
    {
     "name": "stdout",
     "output_type": "stream",
     "text": [
      "\r",
      " [*********40%           ] Elapsed 0.22s / Remaining 00:00:00:00"
     ]
    },
    {
     "name": "stdout",
     "output_type": "stream",
     "text": [
      "\r",
      " [*********40%           ] Elapsed 0.22s / Remaining 00:00:00:00"
     ]
    },
    {
     "name": "stdout",
     "output_type": "stream",
     "text": [
      "\r",
      " [*********40%           ] Elapsed 0.22s / Remaining 00:00:00:00"
     ]
    },
    {
     "name": "stdout",
     "output_type": "stream",
     "text": [
      "\r",
      " [*********40%           ] Elapsed 0.22s / Remaining 00:00:00:00"
     ]
    },
    {
     "name": "stdout",
     "output_type": "stream",
     "text": [
      "\r",
      " [*********40%           ] Elapsed 0.22s / Remaining 00:00:00:00"
     ]
    },
    {
     "name": "stdout",
     "output_type": "stream",
     "text": [
      "\r",
      " [*********40%           ] Elapsed 0.22s / Remaining 00:00:00:00"
     ]
    },
    {
     "name": "stdout",
     "output_type": "stream",
     "text": [
      "\r"
     ]
    },
    {
     "name": "stdout",
     "output_type": "stream",
     "text": [
      " [*********41%           ] Elapsed 0.22s / Remaining 00:00:00:00"
     ]
    },
    {
     "name": "stdout",
     "output_type": "stream",
     "text": [
      "\r",
      " [*********41%           ] Elapsed 0.22s / Remaining 00:00:00:00"
     ]
    },
    {
     "name": "stdout",
     "output_type": "stream",
     "text": [
      "\r",
      " [*********41%           ] Elapsed 0.22s / Remaining 00:00:00:00"
     ]
    },
    {
     "name": "stdout",
     "output_type": "stream",
     "text": [
      "\r",
      " [*********41%           ] Elapsed 0.23s / Remaining 00:00:00:00"
     ]
    },
    {
     "name": "stdout",
     "output_type": "stream",
     "text": [
      "\r",
      " [*********41%           ] Elapsed 0.23s / Remaining 00:00:00:00"
     ]
    },
    {
     "name": "stdout",
     "output_type": "stream",
     "text": [
      "\r",
      " [*********41%           ] Elapsed 0.23s / Remaining 00:00:00:00"
     ]
    },
    {
     "name": "stdout",
     "output_type": "stream",
     "text": [
      "\r",
      " [*********42%           ] Elapsed 0.23s / Remaining 00:00:00:00"
     ]
    },
    {
     "name": "stdout",
     "output_type": "stream",
     "text": [
      "\r",
      " [*********42%           ] Elapsed 0.23s / Remaining 00:00:00:00"
     ]
    },
    {
     "name": "stdout",
     "output_type": "stream",
     "text": [
      "\r",
      " [*********42%           ] Elapsed 0.23s / Remaining 00:00:00:00"
     ]
    },
    {
     "name": "stdout",
     "output_type": "stream",
     "text": [
      "\r",
      " [*********42%           ] Elapsed 0.23s / Remaining 00:00:00:00"
     ]
    },
    {
     "name": "stdout",
     "output_type": "stream",
     "text": [
      "\r",
      " [*********42%           ] Elapsed 0.23s / Remaining 00:00:00:00"
     ]
    },
    {
     "name": "stdout",
     "output_type": "stream",
     "text": [
      "\r",
      " [*********42%           ] Elapsed 0.23s / Remaining 00:00:00:00"
     ]
    },
    {
     "name": "stdout",
     "output_type": "stream",
     "text": [
      "\r",
      " [*********43%           ] Elapsed 0.23s / Remaining 00:00:00:00"
     ]
    },
    {
     "name": "stdout",
     "output_type": "stream",
     "text": [
      "\r",
      " [*********43%           ] Elapsed 0.23s / Remaining 00:00:00:00"
     ]
    },
    {
     "name": "stdout",
     "output_type": "stream",
     "text": [
      "\r",
      " [*********43%           ] Elapsed 0.23s / Remaining 00:00:00:00"
     ]
    },
    {
     "name": "stdout",
     "output_type": "stream",
     "text": [
      "\r",
      " [*********43%           ] Elapsed 0.23s / Remaining 00:00:00:00"
     ]
    },
    {
     "name": "stdout",
     "output_type": "stream",
     "text": [
      "\r",
      " [*********43%           ] Elapsed 0.23s / Remaining 00:00:00:00"
     ]
    },
    {
     "name": "stdout",
     "output_type": "stream",
     "text": [
      "\r",
      " [*********43%           ] Elapsed 0.24s / Remaining 00:00:00:00"
     ]
    },
    {
     "name": "stdout",
     "output_type": "stream",
     "text": [
      "\r",
      " [*********44%           ] Elapsed 0.24s / Remaining 00:00:00:00"
     ]
    },
    {
     "name": "stdout",
     "output_type": "stream",
     "text": [
      "\r",
      " [*********44%           ] Elapsed 0.24s / Remaining 00:00:00:00"
     ]
    },
    {
     "name": "stdout",
     "output_type": "stream",
     "text": [
      "\r",
      " [*********44%           ] Elapsed 0.24s / Remaining 00:00:00:00"
     ]
    },
    {
     "name": "stdout",
     "output_type": "stream",
     "text": [
      "\r",
      " [*********44%           ] Elapsed 0.24s / Remaining 00:00:00:00"
     ]
    },
    {
     "name": "stdout",
     "output_type": "stream",
     "text": [
      "\r",
      " [*********44%           ] Elapsed 0.24s / Remaining 00:00:00:00"
     ]
    },
    {
     "name": "stdout",
     "output_type": "stream",
     "text": [
      "\r",
      " [*********44%           ] Elapsed 0.24s / Remaining 00:00:00:00"
     ]
    },
    {
     "name": "stdout",
     "output_type": "stream",
     "text": [
      "\r",
      " [*********45%           ] Elapsed 0.24s / Remaining 00:00:00:00"
     ]
    },
    {
     "name": "stdout",
     "output_type": "stream",
     "text": [
      "\r",
      " [*********45%           ] Elapsed 0.24s / Remaining 00:00:00:00"
     ]
    },
    {
     "name": "stdout",
     "output_type": "stream",
     "text": [
      "\r",
      " [*********45%           ] Elapsed 0.24s / Remaining 00:00:00:00"
     ]
    },
    {
     "name": "stdout",
     "output_type": "stream",
     "text": [
      "\r",
      " [*********45%           ] Elapsed 0.24s / Remaining 00:00:00:00"
     ]
    },
    {
     "name": "stdout",
     "output_type": "stream",
     "text": [
      "\r",
      " [*********45%           ] Elapsed 0.24s / Remaining 00:00:00:00"
     ]
    },
    {
     "name": "stdout",
     "output_type": "stream",
     "text": [
      "\r",
      " [*********45%           ] Elapsed 0.24s / Remaining 00:00:00:00"
     ]
    },
    {
     "name": "stdout",
     "output_type": "stream",
     "text": [
      "\r",
      " [*********46%           ] Elapsed 0.25s / Remaining 00:00:00:00"
     ]
    },
    {
     "name": "stdout",
     "output_type": "stream",
     "text": [
      "\r",
      " [*********46%           ] Elapsed 0.25s / Remaining 00:00:00:00"
     ]
    },
    {
     "name": "stdout",
     "output_type": "stream",
     "text": [
      "\r",
      " [*********46%           ] Elapsed 0.25s / Remaining 00:00:00:00"
     ]
    },
    {
     "name": "stdout",
     "output_type": "stream",
     "text": [
      "\r",
      " [*********46%           ] Elapsed 0.25s / Remaining 00:00:00:00"
     ]
    },
    {
     "name": "stdout",
     "output_type": "stream",
     "text": [
      "\r",
      " [*********46%           ] Elapsed 0.25s / Remaining 00:00:00:00"
     ]
    },
    {
     "name": "stdout",
     "output_type": "stream",
     "text": [
      "\r",
      " [*********46%           ] Elapsed 0.25s / Remaining 00:00:00:00"
     ]
    },
    {
     "name": "stdout",
     "output_type": "stream",
     "text": [
      "\r",
      " [*********47%           ] Elapsed 0.25s / Remaining 00:00:00:00"
     ]
    },
    {
     "name": "stdout",
     "output_type": "stream",
     "text": [
      "\r",
      " [*********47%           ] Elapsed 0.25s / Remaining 00:00:00:00"
     ]
    },
    {
     "name": "stdout",
     "output_type": "stream",
     "text": [
      "\r",
      " [*********47%           ] Elapsed 0.25s / Remaining 00:00:00:00"
     ]
    },
    {
     "name": "stdout",
     "output_type": "stream",
     "text": [
      "\r",
      " [*********47%           ] Elapsed 0.25s / Remaining 00:00:00:00"
     ]
    },
    {
     "name": "stdout",
     "output_type": "stream",
     "text": [
      "\r"
     ]
    },
    {
     "name": "stdout",
     "output_type": "stream",
     "text": [
      " [*********47%           ] Elapsed 0.25s / Remaining 00:00:00:00"
     ]
    },
    {
     "name": "stdout",
     "output_type": "stream",
     "text": [
      "\r",
      " [*********47%           ] Elapsed 0.25s / Remaining 00:00:00:00"
     ]
    },
    {
     "name": "stdout",
     "output_type": "stream",
     "text": [
      "\r",
      " [*********48%           ] Elapsed 0.25s / Remaining 00:00:00:00"
     ]
    },
    {
     "name": "stdout",
     "output_type": "stream",
     "text": [
      "\r",
      " [*********48%           ] Elapsed 0.26s / Remaining 00:00:00:00"
     ]
    },
    {
     "name": "stdout",
     "output_type": "stream",
     "text": [
      "\r",
      " [*********48%           ] Elapsed 0.26s / Remaining 00:00:00:00"
     ]
    },
    {
     "name": "stdout",
     "output_type": "stream",
     "text": [
      "\r",
      " [*********48%           ] Elapsed 0.26s / Remaining 00:00:00:00"
     ]
    },
    {
     "name": "stdout",
     "output_type": "stream",
     "text": [
      "\r",
      " [*********48%           ] Elapsed 0.26s / Remaining 00:00:00:00"
     ]
    },
    {
     "name": "stdout",
     "output_type": "stream",
     "text": [
      "\r",
      " [*********48%           ] Elapsed 0.26s / Remaining 00:00:00:00"
     ]
    },
    {
     "name": "stdout",
     "output_type": "stream",
     "text": [
      "\r",
      " [*********49%           ] Elapsed 0.26s / Remaining 00:00:00:00"
     ]
    },
    {
     "name": "stdout",
     "output_type": "stream",
     "text": [
      "\r",
      " [*********49%           ] Elapsed 0.26s / Remaining 00:00:00:00"
     ]
    },
    {
     "name": "stdout",
     "output_type": "stream",
     "text": [
      "\r",
      " [*********49%           ] Elapsed 0.26s / Remaining 00:00:00:00"
     ]
    },
    {
     "name": "stdout",
     "output_type": "stream",
     "text": [
      "\r",
      " [*********49%           ] Elapsed 0.26s / Remaining 00:00:00:00"
     ]
    },
    {
     "name": "stdout",
     "output_type": "stream",
     "text": [
      "\r",
      " [*********49%           ] Elapsed 0.26s / Remaining 00:00:00:00"
     ]
    },
    {
     "name": "stdout",
     "output_type": "stream",
     "text": [
      "\r",
      " [*********49%           ] Elapsed 0.26s / Remaining 00:00:00:00"
     ]
    },
    {
     "name": "stdout",
     "output_type": "stream",
     "text": [
      "\r",
      " [*********50%           ] Elapsed 0.26s / Remaining 00:00:00:00"
     ]
    },
    {
     "name": "stdout",
     "output_type": "stream",
     "text": [
      "\r",
      " [*********50%           ] Elapsed 0.26s / Remaining 00:00:00:00"
     ]
    },
    {
     "name": "stdout",
     "output_type": "stream",
     "text": [
      "\r",
      " [*********50%           ] Elapsed 0.27s / Remaining 00:00:00:00"
     ]
    },
    {
     "name": "stdout",
     "output_type": "stream",
     "text": [
      "\r",
      " [*********50%           ] Elapsed 0.27s / Remaining 00:00:00:00"
     ]
    },
    {
     "name": "stdout",
     "output_type": "stream",
     "text": [
      "\r",
      " [*********50%           ] Elapsed 0.27s / Remaining 00:00:00:00"
     ]
    },
    {
     "name": "stdout",
     "output_type": "stream",
     "text": [
      "\r",
      " [*********50%           ] Elapsed 0.27s / Remaining 00:00:00:00"
     ]
    },
    {
     "name": "stdout",
     "output_type": "stream",
     "text": [
      "\r",
      " [*********51%           ] Elapsed 0.27s / Remaining 00:00:00:00"
     ]
    },
    {
     "name": "stdout",
     "output_type": "stream",
     "text": [
      "\r",
      " [*********51%           ] Elapsed 0.27s / Remaining 00:00:00:00"
     ]
    },
    {
     "name": "stdout",
     "output_type": "stream",
     "text": [
      "\r",
      " [*********51%           ] Elapsed 0.27s / Remaining 00:00:00:00"
     ]
    },
    {
     "name": "stdout",
     "output_type": "stream",
     "text": [
      "\r",
      " [*********51%           ] Elapsed 0.27s / Remaining 00:00:00:00"
     ]
    },
    {
     "name": "stdout",
     "output_type": "stream",
     "text": [
      "\r",
      " [*********51%           ] Elapsed 0.27s / Remaining 00:00:00:00"
     ]
    },
    {
     "name": "stdout",
     "output_type": "stream",
     "text": [
      "\r",
      " [*********51%           ] Elapsed 0.27s / Remaining 00:00:00:00"
     ]
    },
    {
     "name": "stdout",
     "output_type": "stream",
     "text": [
      "\r",
      " [*********52%           ] Elapsed 0.27s / Remaining 00:00:00:00"
     ]
    },
    {
     "name": "stdout",
     "output_type": "stream",
     "text": [
      "\r",
      " [*********52%           ] Elapsed 0.27s / Remaining 00:00:00:00"
     ]
    },
    {
     "name": "stdout",
     "output_type": "stream",
     "text": [
      "\r",
      " [*********52%           ] Elapsed 0.27s / Remaining 00:00:00:00"
     ]
    },
    {
     "name": "stdout",
     "output_type": "stream",
     "text": [
      "\r",
      " [*********52%           ] Elapsed 0.28s / Remaining 00:00:00:00"
     ]
    },
    {
     "name": "stdout",
     "output_type": "stream",
     "text": [
      "\r",
      " [*********52%           ] Elapsed 0.28s / Remaining 00:00:00:00"
     ]
    },
    {
     "name": "stdout",
     "output_type": "stream",
     "text": [
      "\r",
      " [*********52%           ] Elapsed 0.28s / Remaining 00:00:00:00"
     ]
    },
    {
     "name": "stdout",
     "output_type": "stream",
     "text": [
      "\r",
      " [*********53%           ] Elapsed 0.28s / Remaining 00:00:00:00"
     ]
    },
    {
     "name": "stdout",
     "output_type": "stream",
     "text": [
      "\r",
      " [*********53%           ] Elapsed 0.28s / Remaining 00:00:00:00"
     ]
    },
    {
     "name": "stdout",
     "output_type": "stream",
     "text": [
      "\r",
      " [*********53%           ] Elapsed 0.28s / Remaining 00:00:00:00"
     ]
    },
    {
     "name": "stdout",
     "output_type": "stream",
     "text": [
      "\r",
      " [*********53%           ] Elapsed 0.28s / Remaining 00:00:00:00"
     ]
    },
    {
     "name": "stdout",
     "output_type": "stream",
     "text": [
      "\r",
      " [*********53%           ] Elapsed 0.28s / Remaining 00:00:00:00"
     ]
    },
    {
     "name": "stdout",
     "output_type": "stream",
     "text": [
      "\r",
      " [*********53%           ] Elapsed 0.28s / Remaining 00:00:00:00"
     ]
    },
    {
     "name": "stdout",
     "output_type": "stream",
     "text": [
      "\r",
      " [*********54%           ] Elapsed 0.28s / Remaining 00:00:00:00"
     ]
    },
    {
     "name": "stdout",
     "output_type": "stream",
     "text": [
      "\r",
      " [*********54%           ] Elapsed 0.28s / Remaining 00:00:00:00"
     ]
    },
    {
     "name": "stdout",
     "output_type": "stream",
     "text": [
      "\r",
      " [*********54%           ] Elapsed 0.28s / Remaining 00:00:00:00"
     ]
    },
    {
     "name": "stdout",
     "output_type": "stream",
     "text": [
      "\r",
      " [*********54%           ] Elapsed 0.28s / Remaining 00:00:00:00"
     ]
    },
    {
     "name": "stdout",
     "output_type": "stream",
     "text": [
      "\r",
      " [*********54%           ] Elapsed 0.28s / Remaining 00:00:00:00"
     ]
    },
    {
     "name": "stdout",
     "output_type": "stream",
     "text": [
      "\r",
      " [*********54%           ] Elapsed 0.29s / Remaining 00:00:00:00"
     ]
    },
    {
     "name": "stdout",
     "output_type": "stream",
     "text": [
      "\r",
      " [*********55%*          ] Elapsed 0.29s / Remaining 00:00:00:00"
     ]
    },
    {
     "name": "stdout",
     "output_type": "stream",
     "text": [
      "\r",
      " [*********55%*          ] Elapsed 0.29s / Remaining 00:00:00:00"
     ]
    },
    {
     "name": "stdout",
     "output_type": "stream",
     "text": [
      "\r",
      " [*********55%*          ] Elapsed 0.29s / Remaining 00:00:00:00"
     ]
    },
    {
     "name": "stdout",
     "output_type": "stream",
     "text": [
      "\r",
      " [*********55%*          ] Elapsed 0.29s / Remaining 00:00:00:00"
     ]
    },
    {
     "name": "stdout",
     "output_type": "stream",
     "text": [
      "\r",
      " [*********55%*          ] Elapsed 0.29s / Remaining 00:00:00:00"
     ]
    },
    {
     "name": "stdout",
     "output_type": "stream",
     "text": [
      "\r",
      " [*********55%*          ] Elapsed 0.29s / Remaining 00:00:00:00"
     ]
    },
    {
     "name": "stdout",
     "output_type": "stream",
     "text": [
      "\r",
      " [*********56%*          ] Elapsed 0.29s / Remaining 00:00:00:00"
     ]
    },
    {
     "name": "stdout",
     "output_type": "stream",
     "text": [
      "\r",
      " [*********56%*          ] Elapsed 0.29s / Remaining 00:00:00:00"
     ]
    },
    {
     "name": "stdout",
     "output_type": "stream",
     "text": [
      "\r",
      " [*********56%*          ] Elapsed 0.29s / Remaining 00:00:00:00"
     ]
    },
    {
     "name": "stdout",
     "output_type": "stream",
     "text": [
      "\r",
      " [*********56%*          ] Elapsed 0.29s / Remaining 00:00:00:00"
     ]
    },
    {
     "name": "stdout",
     "output_type": "stream",
     "text": [
      "\r",
      " [*********56%*          ] Elapsed 0.29s / Remaining 00:00:00:00"
     ]
    },
    {
     "name": "stdout",
     "output_type": "stream",
     "text": [
      "\r",
      " [*********56%*          ] Elapsed 0.29s / Remaining 00:00:00:00"
     ]
    },
    {
     "name": "stdout",
     "output_type": "stream",
     "text": [
      "\r",
      " [*********57%*          ] Elapsed 0.30s / Remaining 00:00:00:00"
     ]
    },
    {
     "name": "stdout",
     "output_type": "stream",
     "text": [
      "\r",
      " [*********57%*          ] Elapsed 0.30s / Remaining 00:00:00:00"
     ]
    },
    {
     "name": "stdout",
     "output_type": "stream",
     "text": [
      "\r",
      " [*********57%*          ] Elapsed 0.30s / Remaining 00:00:00:00"
     ]
    },
    {
     "name": "stdout",
     "output_type": "stream",
     "text": [
      "\r",
      " [*********57%*          ] Elapsed 0.30s / Remaining 00:00:00:00"
     ]
    },
    {
     "name": "stdout",
     "output_type": "stream",
     "text": [
      "\r",
      " [*********57%*          ] Elapsed 0.30s / Remaining 00:00:00:00"
     ]
    },
    {
     "name": "stdout",
     "output_type": "stream",
     "text": [
      "\r",
      " [*********57%*          ] Elapsed 0.30s / Remaining 00:00:00:00"
     ]
    },
    {
     "name": "stdout",
     "output_type": "stream",
     "text": [
      "\r",
      " [*********58%*          ] Elapsed 0.30s / Remaining 00:00:00:00"
     ]
    },
    {
     "name": "stdout",
     "output_type": "stream",
     "text": [
      "\r",
      " [*********58%*          ] Elapsed 0.30s / Remaining 00:00:00:00"
     ]
    },
    {
     "name": "stdout",
     "output_type": "stream",
     "text": [
      "\r",
      " [*********58%*          ] Elapsed 0.30s / Remaining 00:00:00:00"
     ]
    },
    {
     "name": "stdout",
     "output_type": "stream",
     "text": [
      "\r",
      " [*********58%*          ] Elapsed 0.30s / Remaining 00:00:00:00"
     ]
    },
    {
     "name": "stdout",
     "output_type": "stream",
     "text": [
      "\r",
      " [*********58%*          ] Elapsed 0.30s / Remaining 00:00:00:00"
     ]
    },
    {
     "name": "stdout",
     "output_type": "stream",
     "text": [
      "\r",
      " [*********58%*          ] Elapsed 0.30s / Remaining 00:00:00:00"
     ]
    },
    {
     "name": "stdout",
     "output_type": "stream",
     "text": [
      "\r",
      " [*********59%**         ] Elapsed 0.30s / Remaining 00:00:00:00"
     ]
    },
    {
     "name": "stdout",
     "output_type": "stream",
     "text": [
      "\r",
      " [*********59%**         ] Elapsed 0.31s / Remaining 00:00:00:00"
     ]
    },
    {
     "name": "stdout",
     "output_type": "stream",
     "text": [
      "\r",
      " [*********59%**         ] Elapsed 0.31s / Remaining 00:00:00:00"
     ]
    },
    {
     "name": "stdout",
     "output_type": "stream",
     "text": [
      "\r",
      " [*********59%**         ] Elapsed 0.31s / Remaining 00:00:00:00"
     ]
    },
    {
     "name": "stdout",
     "output_type": "stream",
     "text": [
      "\r",
      " [*********59%**         ] Elapsed 0.31s / Remaining 00:00:00:00"
     ]
    },
    {
     "name": "stdout",
     "output_type": "stream",
     "text": [
      "\r",
      " [*********59%**         ] Elapsed 0.31s / Remaining 00:00:00:00"
     ]
    },
    {
     "name": "stdout",
     "output_type": "stream",
     "text": [
      "\r",
      " [*********60%**         ] Elapsed 0.31s / Remaining 00:00:00:00"
     ]
    },
    {
     "name": "stdout",
     "output_type": "stream",
     "text": [
      "\r",
      " [*********60%**         ] Elapsed 0.31s / Remaining 00:00:00:00"
     ]
    },
    {
     "name": "stdout",
     "output_type": "stream",
     "text": [
      "\r",
      " [*********60%**         ] Elapsed 0.31s / Remaining 00:00:00:00"
     ]
    },
    {
     "name": "stdout",
     "output_type": "stream",
     "text": [
      "\r",
      " [*********60%**         ] Elapsed 0.31s / Remaining 00:00:00:00"
     ]
    },
    {
     "name": "stdout",
     "output_type": "stream",
     "text": [
      "\r",
      " [*********60%**         ] Elapsed 0.31s / Remaining 00:00:00:00"
     ]
    },
    {
     "name": "stdout",
     "output_type": "stream",
     "text": [
      "\r",
      " [*********60%**         ] Elapsed 0.31s / Remaining 00:00:00:00"
     ]
    },
    {
     "name": "stdout",
     "output_type": "stream",
     "text": [
      "\r",
      " [*********61%**         ] Elapsed 0.31s / Remaining 00:00:00:00"
     ]
    },
    {
     "name": "stdout",
     "output_type": "stream",
     "text": [
      "\r",
      " [*********61%**         ] Elapsed 0.31s / Remaining 00:00:00:00"
     ]
    },
    {
     "name": "stdout",
     "output_type": "stream",
     "text": [
      "\r",
      " [*********61%**         ] Elapsed 0.31s / Remaining 00:00:00:00"
     ]
    },
    {
     "name": "stdout",
     "output_type": "stream",
     "text": [
      "\r",
      " [*********61%**         ] Elapsed 0.32s / Remaining 00:00:00:00"
     ]
    },
    {
     "name": "stdout",
     "output_type": "stream",
     "text": [
      "\r",
      " [*********61%**         ] Elapsed 0.32s / Remaining 00:00:00:00"
     ]
    },
    {
     "name": "stdout",
     "output_type": "stream",
     "text": [
      "\r",
      " [*********61%**         ] Elapsed 0.32s / Remaining 00:00:00:00"
     ]
    },
    {
     "name": "stdout",
     "output_type": "stream",
     "text": [
      "\r",
      " [*********62%**         ] Elapsed 0.32s / Remaining 00:00:00:00"
     ]
    },
    {
     "name": "stdout",
     "output_type": "stream",
     "text": [
      "\r",
      " [*********62%**         ] Elapsed 0.32s / Remaining 00:00:00:00"
     ]
    },
    {
     "name": "stdout",
     "output_type": "stream",
     "text": [
      "\r",
      " [*********62%**         ] Elapsed 0.32s / Remaining 00:00:00:00"
     ]
    },
    {
     "name": "stdout",
     "output_type": "stream",
     "text": [
      "\r",
      " [*********62%**         ] Elapsed 0.32s / Remaining 00:00:00:00"
     ]
    },
    {
     "name": "stdout",
     "output_type": "stream",
     "text": [
      "\r",
      " [*********62%**         ] Elapsed 0.32s / Remaining 00:00:00:00"
     ]
    },
    {
     "name": "stdout",
     "output_type": "stream",
     "text": [
      "\r",
      " [*********62%**         ] Elapsed 0.32s / Remaining 00:00:00:00"
     ]
    },
    {
     "name": "stdout",
     "output_type": "stream",
     "text": [
      "\r",
      " [*********63%**         ] Elapsed 0.32s / Remaining 00:00:00:00"
     ]
    },
    {
     "name": "stdout",
     "output_type": "stream",
     "text": [
      "\r",
      " [*********63%**         ] Elapsed 0.32s / Remaining 00:00:00:00"
     ]
    },
    {
     "name": "stdout",
     "output_type": "stream",
     "text": [
      "\r",
      " [*********63%**         ] Elapsed 0.32s / Remaining 00:00:00:00"
     ]
    },
    {
     "name": "stdout",
     "output_type": "stream",
     "text": [
      "\r",
      " [*********63%**         ] Elapsed 0.32s / Remaining 00:00:00:00"
     ]
    },
    {
     "name": "stdout",
     "output_type": "stream",
     "text": [
      "\r",
      " [*********63%**         ] Elapsed 0.33s / Remaining 00:00:00:00"
     ]
    },
    {
     "name": "stdout",
     "output_type": "stream",
     "text": [
      "\r",
      " [*********63%**         ] Elapsed 0.33s / Remaining 00:00:00:00"
     ]
    },
    {
     "name": "stdout",
     "output_type": "stream",
     "text": [
      "\r",
      " [*********64%***        ] Elapsed 0.33s / Remaining 00:00:00:00"
     ]
    },
    {
     "name": "stdout",
     "output_type": "stream",
     "text": [
      "\r",
      " [*********64%***        ] Elapsed 0.33s / Remaining 00:00:00:00"
     ]
    },
    {
     "name": "stdout",
     "output_type": "stream",
     "text": [
      "\r",
      " [*********64%***        ] Elapsed 0.33s / Remaining 00:00:00:00"
     ]
    },
    {
     "name": "stdout",
     "output_type": "stream",
     "text": [
      "\r",
      " [*********64%***        ] Elapsed 0.33s / Remaining 00:00:00:00"
     ]
    },
    {
     "name": "stdout",
     "output_type": "stream",
     "text": [
      "\r",
      " [*********64%***        ] Elapsed 0.33s / Remaining 00:00:00:00"
     ]
    },
    {
     "name": "stdout",
     "output_type": "stream",
     "text": [
      "\r",
      " [*********64%***        ] Elapsed 0.33s / Remaining 00:00:00:00"
     ]
    },
    {
     "name": "stdout",
     "output_type": "stream",
     "text": [
      "\r",
      " [*********65%***        ] Elapsed 0.33s / Remaining 00:00:00:00"
     ]
    },
    {
     "name": "stdout",
     "output_type": "stream",
     "text": [
      "\r",
      " [*********65%***        ] Elapsed 0.33s / Remaining 00:00:00:00"
     ]
    },
    {
     "name": "stdout",
     "output_type": "stream",
     "text": [
      "\r",
      " [*********65%***        ] Elapsed 0.33s / Remaining 00:00:00:00"
     ]
    },
    {
     "name": "stdout",
     "output_type": "stream",
     "text": [
      "\r",
      " [*********65%***        ] Elapsed 0.33s / Remaining 00:00:00:00"
     ]
    },
    {
     "name": "stdout",
     "output_type": "stream",
     "text": [
      "\r",
      " [*********65%***        ] Elapsed 0.33s / Remaining 00:00:00:00"
     ]
    },
    {
     "name": "stdout",
     "output_type": "stream",
     "text": [
      "\r",
      " [*********65%***        ] Elapsed 0.34s / Remaining 00:00:00:00"
     ]
    },
    {
     "name": "stdout",
     "output_type": "stream",
     "text": [
      "\r",
      " [*********66%***        ] Elapsed 0.34s / Remaining 00:00:00:00"
     ]
    },
    {
     "name": "stdout",
     "output_type": "stream",
     "text": [
      "\r",
      " [*********66%***        ] Elapsed 0.34s / Remaining 00:00:00:00"
     ]
    },
    {
     "name": "stdout",
     "output_type": "stream",
     "text": [
      "\r",
      " [*********66%***        ] Elapsed 0.34s / Remaining 00:00:00:00"
     ]
    },
    {
     "name": "stdout",
     "output_type": "stream",
     "text": [
      "\r",
      " [*********66%***        ] Elapsed 0.34s / Remaining 00:00:00:00"
     ]
    },
    {
     "name": "stdout",
     "output_type": "stream",
     "text": [
      "\r",
      " [*********66%***        ] Elapsed 0.34s / Remaining 00:00:00:00"
     ]
    },
    {
     "name": "stdout",
     "output_type": "stream",
     "text": [
      "\r",
      " [*********66%***        ] Elapsed 0.34s / Remaining 00:00:00:00"
     ]
    },
    {
     "name": "stdout",
     "output_type": "stream",
     "text": [
      "\r",
      " [*********67%***        ] Elapsed 0.34s / Remaining 00:00:00:00"
     ]
    },
    {
     "name": "stdout",
     "output_type": "stream",
     "text": [
      "\r",
      " [*********67%***        ] Elapsed 0.34s / Remaining 00:00:00:00"
     ]
    },
    {
     "name": "stdout",
     "output_type": "stream",
     "text": [
      "\r",
      " [*********67%***        ] Elapsed 0.34s / Remaining 00:00:00:00"
     ]
    },
    {
     "name": "stdout",
     "output_type": "stream",
     "text": [
      "\r",
      " [*********67%***        ] Elapsed 0.34s / Remaining 00:00:00:00"
     ]
    },
    {
     "name": "stdout",
     "output_type": "stream",
     "text": [
      "\r",
      " [*********67%***        ] Elapsed 0.34s / Remaining 00:00:00:00"
     ]
    },
    {
     "name": "stdout",
     "output_type": "stream",
     "text": [
      "\r",
      " [*********67%***        ] Elapsed 0.34s / Remaining 00:00:00:00"
     ]
    },
    {
     "name": "stdout",
     "output_type": "stream",
     "text": [
      "\r",
      " [*********68%****       ] Elapsed 0.34s / Remaining 00:00:00:00"
     ]
    },
    {
     "name": "stdout",
     "output_type": "stream",
     "text": [
      "\r",
      " [*********68%****       ] Elapsed 0.35s / Remaining 00:00:00:00"
     ]
    },
    {
     "name": "stdout",
     "output_type": "stream",
     "text": [
      "\r",
      " [*********68%****       ] Elapsed 0.35s / Remaining 00:00:00:00"
     ]
    },
    {
     "name": "stdout",
     "output_type": "stream",
     "text": [
      "\r",
      " [*********68%****       ] Elapsed 0.35s / Remaining 00:00:00:00"
     ]
    },
    {
     "name": "stdout",
     "output_type": "stream",
     "text": [
      "\r",
      " [*********68%****       ] Elapsed 0.35s / Remaining 00:00:00:00"
     ]
    },
    {
     "name": "stdout",
     "output_type": "stream",
     "text": [
      "\r",
      " [*********68%****       ] Elapsed 0.35s / Remaining 00:00:00:00"
     ]
    },
    {
     "name": "stdout",
     "output_type": "stream",
     "text": [
      "\r",
      " [*********69%****       ] Elapsed 0.35s / Remaining 00:00:00:00"
     ]
    },
    {
     "name": "stdout",
     "output_type": "stream",
     "text": [
      "\r",
      " [*********69%****       ] Elapsed 0.35s / Remaining 00:00:00:00"
     ]
    },
    {
     "name": "stdout",
     "output_type": "stream",
     "text": [
      "\r",
      " [*********69%****       ] Elapsed 0.35s / Remaining 00:00:00:00"
     ]
    },
    {
     "name": "stdout",
     "output_type": "stream",
     "text": [
      "\r",
      " [*********69%****       ] Elapsed 0.35s / Remaining 00:00:00:00"
     ]
    },
    {
     "name": "stdout",
     "output_type": "stream",
     "text": [
      "\r",
      " [*********69%****       ] Elapsed 0.35s / Remaining 00:00:00:00"
     ]
    },
    {
     "name": "stdout",
     "output_type": "stream",
     "text": [
      "\r",
      " [*********69%****       ] Elapsed 0.35s / Remaining 00:00:00:00"
     ]
    },
    {
     "name": "stdout",
     "output_type": "stream",
     "text": [
      "\r",
      " [*********70%****       ] Elapsed 0.35s / Remaining 00:00:00:00"
     ]
    },
    {
     "name": "stdout",
     "output_type": "stream",
     "text": [
      "\r",
      " [*********70%****       ] Elapsed 0.35s / Remaining 00:00:00:00"
     ]
    },
    {
     "name": "stdout",
     "output_type": "stream",
     "text": [
      "\r",
      " [*********70%****       ] Elapsed 0.36s / Remaining 00:00:00:00"
     ]
    },
    {
     "name": "stdout",
     "output_type": "stream",
     "text": [
      "\r",
      " [*********70%****       ] Elapsed 0.36s / Remaining 00:00:00:00"
     ]
    },
    {
     "name": "stdout",
     "output_type": "stream",
     "text": [
      "\r",
      " [*********70%****       ] Elapsed 0.36s / Remaining 00:00:00:00"
     ]
    },
    {
     "name": "stdout",
     "output_type": "stream",
     "text": [
      "\r",
      " [*********70%****       ] Elapsed 0.36s / Remaining 00:00:00:00"
     ]
    },
    {
     "name": "stdout",
     "output_type": "stream",
     "text": [
      "\r",
      " [*********71%****       ] Elapsed 0.36s / Remaining 00:00:00:00"
     ]
    },
    {
     "name": "stdout",
     "output_type": "stream",
     "text": [
      "\r",
      " [*********71%****       ] Elapsed 0.36s / Remaining 00:00:00:00"
     ]
    },
    {
     "name": "stdout",
     "output_type": "stream",
     "text": [
      "\r",
      " [*********71%****       ] Elapsed 0.36s / Remaining 00:00:00:00"
     ]
    },
    {
     "name": "stdout",
     "output_type": "stream",
     "text": [
      "\r",
      " [*********71%****       ] Elapsed 0.36s / Remaining 00:00:00:00"
     ]
    },
    {
     "name": "stdout",
     "output_type": "stream",
     "text": [
      "\r",
      " [*********71%****       ] Elapsed 0.36s / Remaining 00:00:00:00"
     ]
    },
    {
     "name": "stdout",
     "output_type": "stream",
     "text": [
      "\r",
      " [*********71%****       ] Elapsed 0.36s / Remaining 00:00:00:00"
     ]
    },
    {
     "name": "stdout",
     "output_type": "stream",
     "text": [
      "\r",
      " [*********72%*****      ] Elapsed 0.36s / Remaining 00:00:00:00"
     ]
    },
    {
     "name": "stdout",
     "output_type": "stream",
     "text": [
      "\r",
      " [*********72%*****      ] Elapsed 0.36s / Remaining 00:00:00:00"
     ]
    },
    {
     "name": "stdout",
     "output_type": "stream",
     "text": [
      "\r",
      " [*********72%*****      ] Elapsed 0.36s / Remaining 00:00:00:00"
     ]
    },
    {
     "name": "stdout",
     "output_type": "stream",
     "text": [
      "\r",
      " [*********72%*****      ] Elapsed 0.36s / Remaining 00:00:00:00"
     ]
    },
    {
     "name": "stdout",
     "output_type": "stream",
     "text": [
      "\r",
      " [*********72%*****      ] Elapsed 0.37s / Remaining 00:00:00:00"
     ]
    },
    {
     "name": "stdout",
     "output_type": "stream",
     "text": [
      "\r",
      " [*********72%*****      ] Elapsed 0.37s / Remaining 00:00:00:00"
     ]
    },
    {
     "name": "stdout",
     "output_type": "stream",
     "text": [
      "\r",
      " [*********73%*****      ] Elapsed 0.37s / Remaining 00:00:00:00"
     ]
    },
    {
     "name": "stdout",
     "output_type": "stream",
     "text": [
      "\r",
      " [*********73%*****      ] Elapsed 0.37s / Remaining 00:00:00:00"
     ]
    },
    {
     "name": "stdout",
     "output_type": "stream",
     "text": [
      "\r",
      " [*********73%*****      ] Elapsed 0.37s / Remaining 00:00:00:00"
     ]
    },
    {
     "name": "stdout",
     "output_type": "stream",
     "text": [
      "\r",
      " [*********73%*****      ] Elapsed 0.37s / Remaining 00:00:00:00"
     ]
    },
    {
     "name": "stdout",
     "output_type": "stream",
     "text": [
      "\r",
      " [*********73%*****      ] Elapsed 0.37s / Remaining 00:00:00:00"
     ]
    },
    {
     "name": "stdout",
     "output_type": "stream",
     "text": [
      "\r",
      " [*********73%*****      ] Elapsed 0.37s / Remaining 00:00:00:00"
     ]
    },
    {
     "name": "stdout",
     "output_type": "stream",
     "text": [
      "\r",
      " [*********74%*****      ] Elapsed 0.37s / Remaining 00:00:00:00"
     ]
    },
    {
     "name": "stdout",
     "output_type": "stream",
     "text": [
      "\r",
      " [*********74%*****      ] Elapsed 0.37s / Remaining 00:00:00:00"
     ]
    },
    {
     "name": "stdout",
     "output_type": "stream",
     "text": [
      "\r",
      " [*********74%*****      ] Elapsed 0.37s / Remaining 00:00:00:00"
     ]
    },
    {
     "name": "stdout",
     "output_type": "stream",
     "text": [
      "\r",
      " [*********74%*****      ] Elapsed 0.37s / Remaining 00:00:00:00"
     ]
    },
    {
     "name": "stdout",
     "output_type": "stream",
     "text": [
      "\r",
      " [*********74%*****      ] Elapsed 0.37s / Remaining 00:00:00:00"
     ]
    },
    {
     "name": "stdout",
     "output_type": "stream",
     "text": [
      "\r",
      " [*********74%*****      ] Elapsed 0.38s / Remaining 00:00:00:00"
     ]
    },
    {
     "name": "stdout",
     "output_type": "stream",
     "text": [
      "\r",
      " [*********75%*****      ] Elapsed 0.38s / Remaining 00:00:00:00"
     ]
    },
    {
     "name": "stdout",
     "output_type": "stream",
     "text": [
      "\r",
      " [*********75%*****      ] Elapsed 0.38s / Remaining 00:00:00:00"
     ]
    },
    {
     "name": "stdout",
     "output_type": "stream",
     "text": [
      "\r",
      " [*********75%*****      ] Elapsed 0.38s / Remaining 00:00:00:00"
     ]
    },
    {
     "name": "stdout",
     "output_type": "stream",
     "text": [
      "\r",
      " [*********75%*****      ] Elapsed 0.38s / Remaining 00:00:00:00"
     ]
    },
    {
     "name": "stdout",
     "output_type": "stream",
     "text": [
      "\r",
      " [*********75%*****      ] Elapsed 0.38s / Remaining 00:00:00:00"
     ]
    },
    {
     "name": "stdout",
     "output_type": "stream",
     "text": [
      "\r",
      " [*********75%*****      ] Elapsed 0.38s / Remaining 00:00:00:00"
     ]
    },
    {
     "name": "stdout",
     "output_type": "stream",
     "text": [
      "\r",
      " [*********76%*****      ] Elapsed 0.38s / Remaining 00:00:00:00"
     ]
    },
    {
     "name": "stdout",
     "output_type": "stream",
     "text": [
      "\r",
      " [*********76%*****      ] Elapsed 0.38s / Remaining 00:00:00:00"
     ]
    },
    {
     "name": "stdout",
     "output_type": "stream",
     "text": [
      "\r",
      " [*********76%*****      ] Elapsed 0.38s / Remaining 00:00:00:00"
     ]
    },
    {
     "name": "stdout",
     "output_type": "stream",
     "text": [
      "\r",
      " [*********76%*****      ] Elapsed 0.38s / Remaining 00:00:00:00"
     ]
    },
    {
     "name": "stdout",
     "output_type": "stream",
     "text": [
      "\r",
      " [*********76%*****      ] Elapsed 0.38s / Remaining 00:00:00:00"
     ]
    },
    {
     "name": "stdout",
     "output_type": "stream",
     "text": [
      "\r",
      " [*********76%*****      ] Elapsed 0.38s / Remaining 00:00:00:00"
     ]
    },
    {
     "name": "stdout",
     "output_type": "stream",
     "text": [
      "\r",
      " [*********77%******     ] Elapsed 0.38s / Remaining 00:00:00:00"
     ]
    },
    {
     "name": "stdout",
     "output_type": "stream",
     "text": [
      "\r",
      " [*********77%******     ] Elapsed 0.39s / Remaining 00:00:00:00"
     ]
    },
    {
     "name": "stdout",
     "output_type": "stream",
     "text": [
      "\r",
      " [*********77%******     ] Elapsed 0.39s / Remaining 00:00:00:00"
     ]
    },
    {
     "name": "stdout",
     "output_type": "stream",
     "text": [
      "\r",
      " [*********77%******     ] Elapsed 0.39s / Remaining 00:00:00:00"
     ]
    },
    {
     "name": "stdout",
     "output_type": "stream",
     "text": [
      "\r",
      " [*********77%******     ] Elapsed 0.39s / Remaining 00:00:00:00"
     ]
    },
    {
     "name": "stdout",
     "output_type": "stream",
     "text": [
      "\r",
      " [*********77%******     ] Elapsed 0.39s / Remaining 00:00:00:00"
     ]
    },
    {
     "name": "stdout",
     "output_type": "stream",
     "text": [
      "\r",
      " [*********78%******     ] Elapsed 0.39s / Remaining 00:00:00:00"
     ]
    },
    {
     "name": "stdout",
     "output_type": "stream",
     "text": [
      "\r",
      " [*********78%******     ] Elapsed 0.39s / Remaining 00:00:00:00"
     ]
    },
    {
     "name": "stdout",
     "output_type": "stream",
     "text": [
      "\r",
      " [*********78%******     ] Elapsed 0.39s / Remaining 00:00:00:00"
     ]
    },
    {
     "name": "stdout",
     "output_type": "stream",
     "text": [
      "\r",
      " [*********78%******     ] Elapsed 0.39s / Remaining 00:00:00:00"
     ]
    },
    {
     "name": "stdout",
     "output_type": "stream",
     "text": [
      "\r",
      " [*********78%******     ] Elapsed 0.39s / Remaining 00:00:00:00"
     ]
    },
    {
     "name": "stdout",
     "output_type": "stream",
     "text": [
      "\r",
      " [*********78%******     ] Elapsed 0.39s / Remaining 00:00:00:00"
     ]
    },
    {
     "name": "stdout",
     "output_type": "stream",
     "text": [
      "\r",
      " [*********79%******     ] Elapsed 0.39s / Remaining 00:00:00:00"
     ]
    },
    {
     "name": "stdout",
     "output_type": "stream",
     "text": [
      "\r",
      " [*********79%******     ] Elapsed 0.39s / Remaining 00:00:00:00"
     ]
    },
    {
     "name": "stdout",
     "output_type": "stream",
     "text": [
      "\r",
      " [*********79%******     ] Elapsed 0.40s / Remaining 00:00:00:00"
     ]
    },
    {
     "name": "stdout",
     "output_type": "stream",
     "text": [
      "\r",
      " [*********79%******     ] Elapsed 0.40s / Remaining 00:00:00:00"
     ]
    },
    {
     "name": "stdout",
     "output_type": "stream",
     "text": [
      "\r",
      " [*********79%******     ] Elapsed 0.40s / Remaining 00:00:00:00"
     ]
    },
    {
     "name": "stdout",
     "output_type": "stream",
     "text": [
      "\r"
     ]
    },
    {
     "name": "stdout",
     "output_type": "stream",
     "text": [
      " [*********79%******     ] Elapsed 0.40s / Remaining 00:00:00:00"
     ]
    },
    {
     "name": "stdout",
     "output_type": "stream",
     "text": [
      "\r",
      " [*********80%******     ] Elapsed 0.40s / Remaining 00:00:00:00"
     ]
    },
    {
     "name": "stdout",
     "output_type": "stream",
     "text": [
      "\r",
      " [*********80%******     ] Elapsed 0.40s / Remaining 00:00:00:00"
     ]
    },
    {
     "name": "stdout",
     "output_type": "stream",
     "text": [
      "\r",
      " [*********80%******     ] Elapsed 0.40s / Remaining 00:00:00:00"
     ]
    },
    {
     "name": "stdout",
     "output_type": "stream",
     "text": [
      "\r"
     ]
    },
    {
     "name": "stdout",
     "output_type": "stream",
     "text": [
      " [*********80%******     ] Elapsed 0.40s / Remaining 00:00:00:00"
     ]
    },
    {
     "name": "stdout",
     "output_type": "stream",
     "text": [
      "\r",
      " [*********80%******     ] Elapsed 0.40s / Remaining 00:00:00:00"
     ]
    },
    {
     "name": "stdout",
     "output_type": "stream",
     "text": [
      "\r",
      " [*********80%******     ] Elapsed 0.40s / Remaining 00:00:00:00"
     ]
    },
    {
     "name": "stdout",
     "output_type": "stream",
     "text": [
      "\r",
      " [*********81%*******    ] Elapsed 0.40s / Remaining 00:00:00:00"
     ]
    },
    {
     "name": "stdout",
     "output_type": "stream",
     "text": [
      "\r"
     ]
    },
    {
     "name": "stdout",
     "output_type": "stream",
     "text": [
      " [*********81%*******    ] Elapsed 0.40s / Remaining 00:00:00:00"
     ]
    },
    {
     "name": "stdout",
     "output_type": "stream",
     "text": [
      "\r",
      " [*********81%*******    ] Elapsed 0.41s / Remaining 00:00:00:00"
     ]
    },
    {
     "name": "stdout",
     "output_type": "stream",
     "text": [
      "\r",
      " [*********81%*******    ] Elapsed 0.41s / Remaining 00:00:00:00"
     ]
    },
    {
     "name": "stdout",
     "output_type": "stream",
     "text": [
      "\r",
      " [*********81%*******    ] Elapsed 0.41s / Remaining 00:00:00:00"
     ]
    },
    {
     "name": "stdout",
     "output_type": "stream",
     "text": [
      "\r",
      " [*********81%*******    ] Elapsed 0.41s / Remaining 00:00:00:00"
     ]
    },
    {
     "name": "stdout",
     "output_type": "stream",
     "text": [
      "\r",
      " [*********82%*******    ] Elapsed 0.41s / Remaining 00:00:00:00"
     ]
    },
    {
     "name": "stdout",
     "output_type": "stream",
     "text": [
      "\r",
      " [*********82%*******    ] Elapsed 0.41s / Remaining 00:00:00:00"
     ]
    },
    {
     "name": "stdout",
     "output_type": "stream",
     "text": [
      "\r",
      " [*********82%*******    ] Elapsed 0.41s / Remaining 00:00:00:00"
     ]
    },
    {
     "name": "stdout",
     "output_type": "stream",
     "text": [
      "\r",
      " [*********82%*******    ] Elapsed 0.41s / Remaining 00:00:00:00"
     ]
    },
    {
     "name": "stdout",
     "output_type": "stream",
     "text": [
      "\r",
      " [*********82%*******    ] Elapsed 0.41s / Remaining 00:00:00:00"
     ]
    },
    {
     "name": "stdout",
     "output_type": "stream",
     "text": [
      "\r"
     ]
    },
    {
     "name": "stdout",
     "output_type": "stream",
     "text": [
      " [*********82%*******    ] Elapsed 0.41s / Remaining 00:00:00:00"
     ]
    },
    {
     "name": "stdout",
     "output_type": "stream",
     "text": [
      "\r",
      " [*********83%*******    ] Elapsed 0.41s / Remaining 00:00:00:00"
     ]
    },
    {
     "name": "stdout",
     "output_type": "stream",
     "text": [
      "\r",
      " [*********83%*******    ] Elapsed 0.41s / Remaining 00:00:00:00"
     ]
    },
    {
     "name": "stdout",
     "output_type": "stream",
     "text": [
      "\r",
      " [*********83%*******    ] Elapsed 0.41s / Remaining 00:00:00:00"
     ]
    },
    {
     "name": "stdout",
     "output_type": "stream",
     "text": [
      "\r",
      " [*********83%*******    ] Elapsed 0.42s / Remaining 00:00:00:00"
     ]
    },
    {
     "name": "stdout",
     "output_type": "stream",
     "text": [
      "\r",
      " [*********83%*******    ] Elapsed 0.42s / Remaining 00:00:00:00"
     ]
    },
    {
     "name": "stdout",
     "output_type": "stream",
     "text": [
      "\r",
      " [*********83%*******    ] Elapsed 0.42s / Remaining 00:00:00:00"
     ]
    },
    {
     "name": "stdout",
     "output_type": "stream",
     "text": [
      "\r"
     ]
    },
    {
     "name": "stdout",
     "output_type": "stream",
     "text": [
      " [*********84%*******    ] Elapsed 0.42s / Remaining 00:00:00:00"
     ]
    },
    {
     "name": "stdout",
     "output_type": "stream",
     "text": [
      "\r",
      " [*********84%*******    ] Elapsed 0.42s / Remaining 00:00:00:00"
     ]
    },
    {
     "name": "stdout",
     "output_type": "stream",
     "text": [
      "\r",
      " [*********84%*******    ] Elapsed 0.42s / Remaining 00:00:00:00"
     ]
    },
    {
     "name": "stdout",
     "output_type": "stream",
     "text": [
      "\r",
      " [*********84%*******    ] Elapsed 0.42s / Remaining 00:00:00:00"
     ]
    },
    {
     "name": "stdout",
     "output_type": "stream",
     "text": [
      "\r",
      " [*********84%*******    ] Elapsed 0.42s / Remaining 00:00:00:00"
     ]
    },
    {
     "name": "stdout",
     "output_type": "stream",
     "text": [
      "\r",
      " [*********84%*******    ] Elapsed 0.42s / Remaining 00:00:00:00"
     ]
    },
    {
     "name": "stdout",
     "output_type": "stream",
     "text": [
      "\r",
      " [*********85%********   ] Elapsed 0.42s / Remaining 00:00:00:00"
     ]
    },
    {
     "name": "stdout",
     "output_type": "stream",
     "text": [
      "\r",
      " [*********85%********   ] Elapsed 0.42s / Remaining 00:00:00:00"
     ]
    },
    {
     "name": "stdout",
     "output_type": "stream",
     "text": [
      "\r",
      " [*********85%********   ] Elapsed 0.42s / Remaining 00:00:00:00"
     ]
    },
    {
     "name": "stdout",
     "output_type": "stream",
     "text": [
      "\r",
      " [*********85%********   ] Elapsed 0.43s / Remaining 00:00:00:00"
     ]
    },
    {
     "name": "stdout",
     "output_type": "stream",
     "text": [
      "\r",
      " [*********85%********   ] Elapsed 0.43s / Remaining 00:00:00:00"
     ]
    },
    {
     "name": "stdout",
     "output_type": "stream",
     "text": [
      "\r",
      " [*********85%********   ] Elapsed 0.43s / Remaining 00:00:00:00"
     ]
    },
    {
     "name": "stdout",
     "output_type": "stream",
     "text": [
      "\r"
     ]
    },
    {
     "name": "stdout",
     "output_type": "stream",
     "text": [
      " [*********86%********   ] Elapsed 0.43s / Remaining 00:00:00:00"
     ]
    },
    {
     "name": "stdout",
     "output_type": "stream",
     "text": [
      "\r",
      " [*********86%********   ] Elapsed 0.43s / Remaining 00:00:00:00"
     ]
    },
    {
     "name": "stdout",
     "output_type": "stream",
     "text": [
      "\r",
      " [*********86%********   ] Elapsed 0.43s / Remaining 00:00:00:00"
     ]
    },
    {
     "name": "stdout",
     "output_type": "stream",
     "text": [
      "\r",
      " [*********86%********   ] Elapsed 0.43s / Remaining 00:00:00:00"
     ]
    },
    {
     "name": "stdout",
     "output_type": "stream",
     "text": [
      "\r",
      " [*********86%********   ] Elapsed 0.43s / Remaining 00:00:00:00"
     ]
    },
    {
     "name": "stdout",
     "output_type": "stream",
     "text": [
      "\r"
     ]
    },
    {
     "name": "stdout",
     "output_type": "stream",
     "text": [
      " [*********86%********   ] Elapsed 0.43s / Remaining 00:00:00:00"
     ]
    },
    {
     "name": "stdout",
     "output_type": "stream",
     "text": [
      "\r",
      " [*********87%********   ] Elapsed 0.43s / Remaining 00:00:00:00"
     ]
    },
    {
     "name": "stdout",
     "output_type": "stream",
     "text": [
      "\r",
      " [*********87%********   ] Elapsed 0.43s / Remaining 00:00:00:00"
     ]
    },
    {
     "name": "stdout",
     "output_type": "stream",
     "text": [
      "\r",
      " [*********87%********   ] Elapsed 0.43s / Remaining 00:00:00:00"
     ]
    },
    {
     "name": "stdout",
     "output_type": "stream",
     "text": [
      "\r",
      " [*********87%********   ] Elapsed 0.43s / Remaining 00:00:00:00"
     ]
    },
    {
     "name": "stdout",
     "output_type": "stream",
     "text": [
      "\r",
      " [*********87%********   ] Elapsed 0.44s / Remaining 00:00:00:00"
     ]
    },
    {
     "name": "stdout",
     "output_type": "stream",
     "text": [
      "\r",
      " [*********87%********   ] Elapsed 0.44s / Remaining 00:00:00:00"
     ]
    },
    {
     "name": "stdout",
     "output_type": "stream",
     "text": [
      "\r",
      " [*********88%********   ] Elapsed 0.44s / Remaining 00:00:00:00"
     ]
    },
    {
     "name": "stdout",
     "output_type": "stream",
     "text": [
      "\r"
     ]
    },
    {
     "name": "stdout",
     "output_type": "stream",
     "text": [
      " [*********88%********   ] Elapsed 0.44s / Remaining 00:00:00:00"
     ]
    },
    {
     "name": "stdout",
     "output_type": "stream",
     "text": [
      "\r",
      " [*********88%********   ] Elapsed 0.44s / Remaining 00:00:00:00"
     ]
    },
    {
     "name": "stdout",
     "output_type": "stream",
     "text": [
      "\r",
      " [*********88%********   ] Elapsed 0.44s / Remaining 00:00:00:00"
     ]
    },
    {
     "name": "stdout",
     "output_type": "stream",
     "text": [
      "\r",
      " [*********88%********   ] Elapsed 0.44s / Remaining 00:00:00:00"
     ]
    },
    {
     "name": "stdout",
     "output_type": "stream",
     "text": [
      "\r",
      " [*********88%********   ] Elapsed 0.44s / Remaining 00:00:00:00"
     ]
    },
    {
     "name": "stdout",
     "output_type": "stream",
     "text": [
      "\r",
      " [*********89%********   ] Elapsed 0.44s / Remaining 00:00:00:00"
     ]
    },
    {
     "name": "stdout",
     "output_type": "stream",
     "text": [
      "\r",
      " [*********89%********   ] Elapsed 0.44s / Remaining 00:00:00:00"
     ]
    },
    {
     "name": "stdout",
     "output_type": "stream",
     "text": [
      "\r",
      " [*********89%********   ] Elapsed 0.44s / Remaining 00:00:00:00"
     ]
    },
    {
     "name": "stdout",
     "output_type": "stream",
     "text": [
      "\r"
     ]
    },
    {
     "name": "stdout",
     "output_type": "stream",
     "text": [
      " [*********89%********   ] Elapsed 0.44s / Remaining 00:00:00:00"
     ]
    },
    {
     "name": "stdout",
     "output_type": "stream",
     "text": [
      "\r",
      " [*********89%********   ] Elapsed 0.45s / Remaining 00:00:00:00"
     ]
    },
    {
     "name": "stdout",
     "output_type": "stream",
     "text": [
      "\r",
      " [*********89%********   ] Elapsed 0.45s / Remaining 00:00:00:00"
     ]
    },
    {
     "name": "stdout",
     "output_type": "stream",
     "text": [
      "\r",
      " [*********90%*********  ] Elapsed 0.45s / Remaining 00:00:00:00"
     ]
    },
    {
     "name": "stdout",
     "output_type": "stream",
     "text": [
      "\r",
      " [*********90%*********  ] Elapsed 0.45s / Remaining 00:00:00:00"
     ]
    },
    {
     "name": "stdout",
     "output_type": "stream",
     "text": [
      "\r",
      " [*********90%*********  ] Elapsed 0.45s / Remaining 00:00:00:00"
     ]
    },
    {
     "name": "stdout",
     "output_type": "stream",
     "text": [
      "\r",
      " [*********90%*********  ] Elapsed 0.45s / Remaining 00:00:00:00"
     ]
    },
    {
     "name": "stdout",
     "output_type": "stream",
     "text": [
      "\r",
      " [*********90%*********  ] Elapsed 0.45s / Remaining 00:00:00:00"
     ]
    },
    {
     "name": "stdout",
     "output_type": "stream",
     "text": [
      "\r",
      " [*********90%*********  ] Elapsed 0.45s / Remaining 00:00:00:00"
     ]
    },
    {
     "name": "stdout",
     "output_type": "stream",
     "text": [
      "\r",
      " [*********91%*********  ] Elapsed 0.45s / Remaining 00:00:00:00"
     ]
    },
    {
     "name": "stdout",
     "output_type": "stream",
     "text": [
      "\r",
      " [*********91%*********  ] Elapsed 0.45s / Remaining 00:00:00:00"
     ]
    },
    {
     "name": "stdout",
     "output_type": "stream",
     "text": [
      "\r",
      " [*********91%*********  ] Elapsed 0.45s / Remaining 00:00:00:00"
     ]
    },
    {
     "name": "stdout",
     "output_type": "stream",
     "text": [
      "\r",
      " [*********91%*********  ] Elapsed 0.45s / Remaining 00:00:00:00"
     ]
    },
    {
     "name": "stdout",
     "output_type": "stream",
     "text": [
      "\r",
      " [*********91%*********  ] Elapsed 0.46s / Remaining 00:00:00:00"
     ]
    },
    {
     "name": "stdout",
     "output_type": "stream",
     "text": [
      "\r",
      " [*********91%*********  ] Elapsed 0.46s / Remaining 00:00:00:00"
     ]
    },
    {
     "name": "stdout",
     "output_type": "stream",
     "text": [
      "\r",
      " [*********92%*********  ] Elapsed 0.46s / Remaining 00:00:00:00"
     ]
    },
    {
     "name": "stdout",
     "output_type": "stream",
     "text": [
      "\r",
      " [*********92%*********  ] Elapsed 0.46s / Remaining 00:00:00:00"
     ]
    },
    {
     "name": "stdout",
     "output_type": "stream",
     "text": [
      "\r",
      " [*********92%*********  ] Elapsed 0.46s / Remaining 00:00:00:00"
     ]
    },
    {
     "name": "stdout",
     "output_type": "stream",
     "text": [
      "\r",
      " [*********92%*********  ] Elapsed 0.46s / Remaining 00:00:00:00"
     ]
    },
    {
     "name": "stdout",
     "output_type": "stream",
     "text": [
      "\r",
      " [*********92%*********  ] Elapsed 0.46s / Remaining 00:00:00:00"
     ]
    },
    {
     "name": "stdout",
     "output_type": "stream",
     "text": [
      "\r",
      " [*********92%*********  ] Elapsed 0.46s / Remaining 00:00:00:00"
     ]
    },
    {
     "name": "stdout",
     "output_type": "stream",
     "text": [
      "\r",
      " [*********93%*********  ] Elapsed 0.46s / Remaining 00:00:00:00"
     ]
    },
    {
     "name": "stdout",
     "output_type": "stream",
     "text": [
      "\r",
      " [*********93%*********  ] Elapsed 0.46s / Remaining 00:00:00:00"
     ]
    },
    {
     "name": "stdout",
     "output_type": "stream",
     "text": [
      "\r",
      " [*********93%*********  ] Elapsed 0.46s / Remaining 00:00:00:00"
     ]
    },
    {
     "name": "stdout",
     "output_type": "stream",
     "text": [
      "\r",
      " [*********93%*********  ] Elapsed 0.46s / Remaining 00:00:00:00"
     ]
    },
    {
     "name": "stdout",
     "output_type": "stream",
     "text": [
      "\r",
      " [*********93%*********  ] Elapsed 0.46s / Remaining 00:00:00:00"
     ]
    },
    {
     "name": "stdout",
     "output_type": "stream",
     "text": [
      "\r",
      " [*********93%*********  ] Elapsed 0.47s / Remaining 00:00:00:00"
     ]
    },
    {
     "name": "stdout",
     "output_type": "stream",
     "text": [
      "\r",
      " [*********94%********** ] Elapsed 0.47s / Remaining 00:00:00:00"
     ]
    },
    {
     "name": "stdout",
     "output_type": "stream",
     "text": [
      "\r",
      " [*********94%********** ] Elapsed 0.47s / Remaining 00:00:00:00"
     ]
    },
    {
     "name": "stdout",
     "output_type": "stream",
     "text": [
      "\r",
      " [*********94%********** ] Elapsed 0.47s / Remaining 00:00:00:00"
     ]
    },
    {
     "name": "stdout",
     "output_type": "stream",
     "text": [
      "\r",
      " [*********94%********** ] Elapsed 0.47s / Remaining 00:00:00:00"
     ]
    },
    {
     "name": "stdout",
     "output_type": "stream",
     "text": [
      "\r",
      " [*********94%********** ] Elapsed 0.47s / Remaining 00:00:00:00"
     ]
    },
    {
     "name": "stdout",
     "output_type": "stream",
     "text": [
      "\r",
      " [*********94%********** ] Elapsed 0.47s / Remaining 00:00:00:00"
     ]
    },
    {
     "name": "stdout",
     "output_type": "stream",
     "text": [
      "\r",
      " [*********95%********** ] Elapsed 0.47s / Remaining 00:00:00:00"
     ]
    },
    {
     "name": "stdout",
     "output_type": "stream",
     "text": [
      "\r",
      " [*********95%********** ] Elapsed 0.47s / Remaining 00:00:00:00"
     ]
    },
    {
     "name": "stdout",
     "output_type": "stream",
     "text": [
      "\r",
      " [*********95%********** ] Elapsed 0.47s / Remaining 00:00:00:00"
     ]
    },
    {
     "name": "stdout",
     "output_type": "stream",
     "text": [
      "\r",
      " [*********95%********** ] Elapsed 0.47s / Remaining 00:00:00:00"
     ]
    },
    {
     "name": "stdout",
     "output_type": "stream",
     "text": [
      "\r",
      " [*********95%********** ] Elapsed 0.47s / Remaining 00:00:00:00"
     ]
    },
    {
     "name": "stdout",
     "output_type": "stream",
     "text": [
      "\r",
      " [*********95%********** ] Elapsed 0.47s / Remaining 00:00:00:00"
     ]
    },
    {
     "name": "stdout",
     "output_type": "stream",
     "text": [
      "\r",
      " [*********96%********** ] Elapsed 0.48s / Remaining 00:00:00:00"
     ]
    },
    {
     "name": "stdout",
     "output_type": "stream",
     "text": [
      "\r",
      " [*********96%********** ] Elapsed 0.48s / Remaining 00:00:00:00"
     ]
    },
    {
     "name": "stdout",
     "output_type": "stream",
     "text": [
      "\r",
      " [*********96%********** ] Elapsed 0.48s / Remaining 00:00:00:00"
     ]
    },
    {
     "name": "stdout",
     "output_type": "stream",
     "text": [
      "\r"
     ]
    },
    {
     "name": "stdout",
     "output_type": "stream",
     "text": [
      " [*********96%********** ] Elapsed 0.48s / Remaining 00:00:00:00"
     ]
    },
    {
     "name": "stdout",
     "output_type": "stream",
     "text": [
      "\r",
      " [*********96%********** ] Elapsed 0.48s / Remaining 00:00:00:00"
     ]
    },
    {
     "name": "stdout",
     "output_type": "stream",
     "text": [
      "\r",
      " [*********96%********** ] Elapsed 0.48s / Remaining 00:00:00:00"
     ]
    },
    {
     "name": "stdout",
     "output_type": "stream",
     "text": [
      "\r",
      " [*********97%********** ] Elapsed 0.48s / Remaining 00:00:00:00"
     ]
    },
    {
     "name": "stdout",
     "output_type": "stream",
     "text": [
      "\r",
      " [*********97%********** ] Elapsed 0.48s / Remaining 00:00:00:00"
     ]
    },
    {
     "name": "stdout",
     "output_type": "stream",
     "text": [
      "\r",
      " [*********97%********** ] Elapsed 0.48s / Remaining 00:00:00:00"
     ]
    },
    {
     "name": "stdout",
     "output_type": "stream",
     "text": [
      "\r",
      " [*********97%********** ] Elapsed 0.48s / Remaining 00:00:00:00"
     ]
    },
    {
     "name": "stdout",
     "output_type": "stream",
     "text": [
      "\r",
      " [*********97%********** ] Elapsed 0.48s / Remaining 00:00:00:00"
     ]
    },
    {
     "name": "stdout",
     "output_type": "stream",
     "text": [
      "\r",
      " [*********97%********** ] Elapsed 0.48s / Remaining 00:00:00:00"
     ]
    },
    {
     "name": "stdout",
     "output_type": "stream",
     "text": [
      "\r",
      " [*********98%***********] Elapsed 0.48s / Remaining 00:00:00:00"
     ]
    },
    {
     "name": "stdout",
     "output_type": "stream",
     "text": [
      "\r",
      " [*********98%***********] Elapsed 0.49s / Remaining 00:00:00:00"
     ]
    },
    {
     "name": "stdout",
     "output_type": "stream",
     "text": [
      "\r",
      " [*********98%***********] Elapsed 0.49s / Remaining 00:00:00:00"
     ]
    },
    {
     "name": "stdout",
     "output_type": "stream",
     "text": [
      "\r",
      " [*********98%***********] Elapsed 0.49s / Remaining 00:00:00:00"
     ]
    },
    {
     "name": "stdout",
     "output_type": "stream",
     "text": [
      "\r",
      " [*********98%***********] Elapsed 0.49s / Remaining 00:00:00:00"
     ]
    },
    {
     "name": "stdout",
     "output_type": "stream",
     "text": [
      "\r",
      " [*********98%***********] Elapsed 0.49s / Remaining 00:00:00:00"
     ]
    },
    {
     "name": "stdout",
     "output_type": "stream",
     "text": [
      "\r",
      " [*********99%***********] Elapsed 0.49s / Remaining 00:00:00:00"
     ]
    },
    {
     "name": "stdout",
     "output_type": "stream",
     "text": [
      "\r",
      " [*********99%***********] Elapsed 0.49s / Remaining 00:00:00:00"
     ]
    },
    {
     "name": "stdout",
     "output_type": "stream",
     "text": [
      "\r"
     ]
    },
    {
     "name": "stdout",
     "output_type": "stream",
     "text": [
      " [*********99%***********] Elapsed 0.49s / Remaining 00:00:00:00"
     ]
    },
    {
     "name": "stdout",
     "output_type": "stream",
     "text": [
      "\r",
      " [*********99%***********] Elapsed 0.49s / Remaining 00:00:00:00"
     ]
    },
    {
     "name": "stdout",
     "output_type": "stream",
     "text": [
      "\r",
      " [*********99%***********] Elapsed 0.49s / Remaining 00:00:00:00"
     ]
    },
    {
     "name": "stdout",
     "output_type": "stream",
     "text": [
      "\r",
      " [*********99%***********] Elapsed 0.49s / Remaining 00:00:00:00"
     ]
    },
    {
     "name": "stdout",
     "output_type": "stream",
     "text": [
      "\r",
      " [********100%***********] Elapsed 0.49s / Remaining 00:00:00:00"
     ]
    },
    {
     "name": "stdout",
     "output_type": "stream",
     "text": [
      "\r",
      " [********100%***********] Elapsed 0.49s / Remaining 00:00:00:00"
     ]
    },
    {
     "name": "stdout",
     "output_type": "stream",
     "text": [
      "\r",
      " [********100%***********] Elapsed 0.50s / Remaining 00:00:00:00"
     ]
    },
    {
     "name": "stdout",
     "output_type": "stream",
     "text": [
      "\r",
      " Total run time:   0.50s\n",
      "ODE solver time: 0.4962143898010254\n"
     ]
    }
   ],
   "source": [
    "with timer(\"RHS construction time\"):\n",
    "    bath = DrudeLorentzBath(Q, lam=lam, gamma=gamma, T=T, Nk=Nk)\n",
    "    _, terminator = bath.terminator()\n",
    "    Ltot = liouvillian(Hsys) + terminator\n",
    "    HEOMMatsT = HEOMSolver(Ltot, bath, NC, options=options)\n",
    "\n",
    "with timer(\"ODE solver time\"):\n",
    "    resultMatsT = HEOMMatsT.run(rho0, tlist)"
   ]
  },
  {
   "cell_type": "code",
   "execution_count": 12,
   "id": "e41d5c0b",
   "metadata": {
    "execution": {
     "iopub.execute_input": "2023-03-15T08:41:06.681783Z",
     "iopub.status.busy": "2023-03-15T08:41:06.681408Z",
     "iopub.status.idle": "2023-03-15T08:41:06.843836Z",
     "shell.execute_reply": "2023-03-15T08:41:06.843227Z"
    }
   },
   "outputs": [
    {
     "data": {
      "image/png": "[encoded data removed]",
      "text/plain": [
       "<Figure size 800x800 with 1 Axes>"
      ]
     },
     "metadata": {},
     "output_type": "display_data"
    }
   ],
   "source": [
    "# Plot the results\n",
    "fig, axes = plt.subplots(1, 1, sharex=True, figsize=(8, 8))\n",
    "\n",
    "P11_mats = np.real(expect(resultMats.states, P11p))\n",
    "axes.plot(\n",
    "    tlist, np.real(P11_mats),\n",
    "    'b', linewidth=2, label=\"P11 (Matsubara)\",\n",
    ")\n",
    "\n",
    "P11_matsT = np.real(expect(resultMatsT.states, P11p))\n",
    "axes.plot(\n",
    "    tlist, np.real(P11_matsT),\n",
    "    'b--', linewidth=2,\n",
    "    label=\"P11 (Matsubara + Terminator)\",\n",
    ")\n",
    "\n",
    "axes.set_xlabel(r't', fontsize=28)\n",
    "axes.legend(loc=0, fontsize=12);"
   ]
  },
  {
   "cell_type": "markdown",
   "id": "2b35bde9",
   "metadata": {},
   "source": [
    "## Simulation 3: Pade decomposition"
   ]
  },
  {
   "cell_type": "code",
   "execution_count": 13,
   "id": "0ce574ff",
   "metadata": {
    "execution": {
     "iopub.execute_input": "2023-03-15T08:41:06.846825Z",
     "iopub.status.busy": "2023-03-15T08:41:06.846382Z",
     "iopub.status.idle": "2023-03-15T08:41:07.451842Z",
     "shell.execute_reply": "2023-03-15T08:41:07.451182Z"
    }
   },
   "outputs": [
    {
     "data": {
      "image/png": "[encoded data removed]",
      "text/plain": [
       "<Figure size 1600x800 with 2 Axes>"
      ]
     },
     "metadata": {},
     "output_type": "display_data"
    }
   ],
   "source": [
    "# First, compare Matsubara and Pade decompositions\n",
    "matsBath = DrudeLorentzBath(Q, lam=lam, gamma=gamma, T=T, Nk=Nk)\n",
    "padeBath = DrudeLorentzPadeBath(Q, lam=lam, gamma=gamma, T=T, Nk=Nk)\n",
    "\n",
    "# We will compare against a summation of {lmaxmats} Matsubara terms\n",
    "lmaxmats = 15000\n",
    "exactBath = DrudeLorentzBath(\n",
    "    Q, lam=lam, gamma=gamma, T=T, Nk=lmaxmats, combine=False,\n",
    ")\n",
    "\n",
    "\n",
    "def CR(bath, t):\n",
    "    \"\"\" C_R, the real part of the correlation function. \"\"\"\n",
    "    result = 0\n",
    "    for exp in bath.exponents:\n",
    "        if (\n",
    "            exp.type == BathExponent.types['R'] or\n",
    "            exp.type == BathExponent.types['RI']\n",
    "        ):\n",
    "            result += exp.ck * np.exp(-exp.vk * t)\n",
    "    return result\n",
    "\n",
    "\n",
    "def CI(bath, t):\n",
    "    \"\"\" C_I, the imaginary part of the correlation function. \"\"\"\n",
    "    result = 0\n",
    "    for exp in bath.exponents:\n",
    "        if exp.type == BathExponent.types['I']:\n",
    "            result += exp.ck * np.exp(exp.vk * t)\n",
    "        if exp.type == BathExponent.types['RI']:\n",
    "            result += exp.ck2 * np.exp(exp.vk * t)\n",
    "    return result\n",
    "\n",
    "\n",
    "fig, (ax1, ax2) = plt.subplots(ncols=2, sharey=True, figsize=(16, 8))\n",
    "\n",
    "ax1.plot(\n",
    "    tlist, CR(exactBath, tlist),\n",
    "    \"r\", linewidth=2, label=f\"Mats (Nk={lmaxmats})\",\n",
    ")\n",
    "ax1.plot(\n",
    "    tlist, CR(matsBath, tlist),\n",
    "    \"g--\", linewidth=2, label=f\"Mats (Nk={Nk})\",\n",
    ")\n",
    "ax1.plot(\n",
    "    tlist, CR(padeBath, tlist),\n",
    "    \"b--\", linewidth=2, label=f\"Pade (Nk={Nk})\",\n",
    ")\n",
    "\n",
    "ax1.set_xlabel(r't', fontsize=28)\n",
    "ax1.set_ylabel(r\"$C_R(t)$\", fontsize=28)\n",
    "ax1.legend(loc=0, fontsize=12)\n",
    "\n",
    "tlist2 = tlist[0:50]\n",
    "ax2.plot(\n",
    "    tlist2, np.abs(CR(matsBath, tlist2) - CR(exactBath, tlist2)),\n",
    "    \"g\", linewidth=2, label=\"Mats Error\",\n",
    ")\n",
    "ax2.plot(\n",
    "    tlist2, np.abs(CR(padeBath, tlist2) - CR(exactBath, tlist2)),\n",
    "    \"b--\", linewidth=2, label=\"Pade Error\",\n",
    ")\n",
    "\n",
    "ax2.set_xlabel(r't', fontsize=28)\n",
    "ax2.legend(loc=0, fontsize=12);"
   ]
  },
  {
   "cell_type": "code",
   "execution_count": 14,
   "id": "1c483f5f",
   "metadata": {
    "execution": {
     "iopub.execute_input": "2023-03-15T08:41:07.455407Z",
     "iopub.status.busy": "2023-03-15T08:41:07.454806Z",
     "iopub.status.idle": "2023-03-15T08:41:08.035477Z",
     "shell.execute_reply": "2023-03-15T08:41:08.034956Z"
    }
   },
   "outputs": [
    {
     "name": "stdout",
     "output_type": "stream",
     "text": [
      "RHS construction time: 0.01489400863647461\n",
      "\r",
      " [          0%           ] Elapsed 0.00s / Remaining 00:00:00:00"
     ]
    },
    {
     "name": "stdout",
     "output_type": "stream",
     "text": [
      "\r",
      " [          0%           ] Elapsed 0.00s / Remaining 00:00:00:00"
     ]
    },
    {
     "name": "stdout",
     "output_type": "stream",
     "text": [
      "\r",
      " [          1%           ] Elapsed 0.01s / Remaining 00:00:00:00"
     ]
    },
    {
     "name": "stdout",
     "output_type": "stream",
     "text": [
      "\r",
      " [          1%           ] Elapsed 0.01s / Remaining 00:00:00:00"
     ]
    },
    {
     "name": "stdout",
     "output_type": "stream",
     "text": [
      "\r",
      " [          1%           ] Elapsed 0.01s / Remaining 00:00:00:00"
     ]
    },
    {
     "name": "stdout",
     "output_type": "stream",
     "text": [
      "\r",
      " [          1%           ] Elapsed 0.01s / Remaining 00:00:00:01"
     ]
    },
    {
     "name": "stdout",
     "output_type": "stream",
     "text": [
      "\r",
      " [          1%           ] Elapsed 0.01s / Remaining 00:00:00:01"
     ]
    },
    {
     "name": "stdout",
     "output_type": "stream",
     "text": [
      "\r",
      " [          1%           ] Elapsed 0.01s / Remaining 00:00:00:01"
     ]
    },
    {
     "name": "stdout",
     "output_type": "stream",
     "text": [
      "\r",
      " [          2%           ] Elapsed 0.02s / Remaining 00:00:00:00"
     ]
    },
    {
     "name": "stdout",
     "output_type": "stream",
     "text": [
      "\r",
      " [          2%           ] Elapsed 0.02s / Remaining 00:00:00:00"
     ]
    },
    {
     "name": "stdout",
     "output_type": "stream",
     "text": [
      "\r",
      " [          2%           ] Elapsed 0.02s / Remaining 00:00:00:01"
     ]
    },
    {
     "name": "stdout",
     "output_type": "stream",
     "text": [
      "\r",
      " [          2%           ] Elapsed 0.02s / Remaining 00:00:00:01"
     ]
    },
    {
     "name": "stdout",
     "output_type": "stream",
     "text": [
      "\r",
      " [          2%           ] Elapsed 0.02s / Remaining 00:00:00:01"
     ]
    },
    {
     "name": "stdout",
     "output_type": "stream",
     "text": [
      "\r",
      " [          2%           ] Elapsed 0.03s / Remaining 00:00:00:01"
     ]
    },
    {
     "name": "stdout",
     "output_type": "stream",
     "text": [
      "\r",
      " [*         3%           ] Elapsed 0.03s / Remaining 00:00:00:00"
     ]
    },
    {
     "name": "stdout",
     "output_type": "stream",
     "text": [
      "\r",
      " [*         3%           ] Elapsed 0.03s / Remaining 00:00:00:00"
     ]
    },
    {
     "name": "stdout",
     "output_type": "stream",
     "text": [
      "\r",
      " [*         3%           ] Elapsed 0.03s / Remaining 00:00:00:01"
     ]
    },
    {
     "name": "stdout",
     "output_type": "stream",
     "text": [
      "\r",
      " [*         3%           ] Elapsed 0.03s / Remaining 00:00:00:01"
     ]
    },
    {
     "name": "stdout",
     "output_type": "stream",
     "text": [
      "\r",
      " [*         3%           ] Elapsed 0.03s / Remaining 00:00:00:01"
     ]
    },
    {
     "name": "stdout",
     "output_type": "stream",
     "text": [
      "\r",
      " [*         3%           ] Elapsed 0.04s / Remaining 00:00:00:01"
     ]
    },
    {
     "name": "stdout",
     "output_type": "stream",
     "text": [
      "\r",
      " [*         4%           ] Elapsed 0.04s / Remaining 00:00:00:00"
     ]
    },
    {
     "name": "stdout",
     "output_type": "stream",
     "text": [
      "\r",
      " [*         4%           ] Elapsed 0.04s / Remaining 00:00:00:00"
     ]
    },
    {
     "name": "stdout",
     "output_type": "stream",
     "text": [
      "\r",
      " [*         4%           ] Elapsed 0.04s / Remaining 00:00:00:00"
     ]
    },
    {
     "name": "stdout",
     "output_type": "stream",
     "text": [
      "\r",
      " [*         4%           ] Elapsed 0.04s / Remaining 00:00:00:01"
     ]
    },
    {
     "name": "stdout",
     "output_type": "stream",
     "text": [
      "\r",
      " [*         4%           ] Elapsed 0.04s / Remaining 00:00:00:01"
     ]
    },
    {
     "name": "stdout",
     "output_type": "stream",
     "text": [
      "\r",
      " [*         4%           ] Elapsed 0.04s / Remaining 00:00:00:01"
     ]
    },
    {
     "name": "stdout",
     "output_type": "stream",
     "text": [
      "\r",
      " [*         5%           ] Elapsed 0.05s / Remaining 00:00:00:00"
     ]
    },
    {
     "name": "stdout",
     "output_type": "stream",
     "text": [
      "\r",
      " [*         5%           ] Elapsed 0.05s / Remaining 00:00:00:00"
     ]
    },
    {
     "name": "stdout",
     "output_type": "stream",
     "text": [
      "\r",
      " [*         5%           ] Elapsed 0.05s / Remaining 00:00:00:00"
     ]
    },
    {
     "name": "stdout",
     "output_type": "stream",
     "text": [
      "\r",
      " [*         5%           ] Elapsed 0.05s / Remaining 00:00:00:00"
     ]
    },
    {
     "name": "stdout",
     "output_type": "stream",
     "text": [
      "\r",
      " [*         5%           ] Elapsed 0.05s / Remaining 00:00:00:01"
     ]
    },
    {
     "name": "stdout",
     "output_type": "stream",
     "text": [
      "\r",
      " [*         5%           ] Elapsed 0.05s / Remaining 00:00:00:01"
     ]
    },
    {
     "name": "stdout",
     "output_type": "stream",
     "text": [
      "\r",
      " [*         6%           ] Elapsed 0.06s / Remaining 00:00:00:00"
     ]
    },
    {
     "name": "stdout",
     "output_type": "stream",
     "text": [
      "\r",
      " [*         6%           ] Elapsed 0.06s / Remaining 00:00:00:00"
     ]
    },
    {
     "name": "stdout",
     "output_type": "stream",
     "text": [
      "\r",
      " [*         6%           ] Elapsed 0.06s / Remaining 00:00:00:00"
     ]
    },
    {
     "name": "stdout",
     "output_type": "stream",
     "text": [
      "\r",
      " [*         6%           ] Elapsed 0.06s / Remaining 00:00:00:00"
     ]
    },
    {
     "name": "stdout",
     "output_type": "stream",
     "text": [
      "\r",
      " [*         6%           ] Elapsed 0.06s / Remaining 00:00:00:00"
     ]
    },
    {
     "name": "stdout",
     "output_type": "stream",
     "text": [
      "\r",
      " [*         6%           ] Elapsed 0.06s / Remaining 00:00:00:01"
     ]
    },
    {
     "name": "stdout",
     "output_type": "stream",
     "text": [
      "\r",
      " [**        7%           ] Elapsed 0.07s / Remaining 00:00:00:00"
     ]
    },
    {
     "name": "stdout",
     "output_type": "stream",
     "text": [
      "\r",
      " [**        7%           ] Elapsed 0.07s / Remaining 00:00:00:00"
     ]
    },
    {
     "name": "stdout",
     "output_type": "stream",
     "text": [
      "\r",
      " [**        7%           ] Elapsed 0.07s / Remaining 00:00:00:00"
     ]
    },
    {
     "name": "stdout",
     "output_type": "stream",
     "text": [
      "\r",
      " [**        7%           ] Elapsed 0.07s / Remaining 00:00:00:00"
     ]
    },
    {
     "name": "stdout",
     "output_type": "stream",
     "text": [
      "\r",
      " [**        7%           ] Elapsed 0.07s / Remaining 00:00:00:00"
     ]
    },
    {
     "name": "stdout",
     "output_type": "stream",
     "text": [
      "\r",
      " [**        7%           ] Elapsed 0.07s / Remaining 00:00:00:00"
     ]
    },
    {
     "name": "stdout",
     "output_type": "stream",
     "text": [
      "\r",
      " [**        8%           ] Elapsed 0.07s / Remaining 00:00:00:00"
     ]
    },
    {
     "name": "stdout",
     "output_type": "stream",
     "text": [
      "\r",
      " [**        8%           ] Elapsed 0.07s / Remaining 00:00:00:00"
     ]
    },
    {
     "name": "stdout",
     "output_type": "stream",
     "text": [
      "\r",
      " [**        8%           ] Elapsed 0.08s / Remaining 00:00:00:00"
     ]
    },
    {
     "name": "stdout",
     "output_type": "stream",
     "text": [
      "\r",
      " [**        8%           ] Elapsed 0.08s / Remaining 00:00:00:00"
     ]
    },
    {
     "name": "stdout",
     "output_type": "stream",
     "text": [
      "\r",
      " [**        8%           ] Elapsed 0.08s / Remaining 00:00:00:00"
     ]
    },
    {
     "name": "stdout",
     "output_type": "stream",
     "text": [
      "\r",
      " [**        8%           ] Elapsed 0.08s / Remaining 00:00:00:00"
     ]
    },
    {
     "name": "stdout",
     "output_type": "stream",
     "text": [
      "\r",
      " [**        9%           ] Elapsed 0.08s / Remaining 00:00:00:00"
     ]
    },
    {
     "name": "stdout",
     "output_type": "stream",
     "text": [
      "\r",
      " [**        9%           ] Elapsed 0.08s / Remaining 00:00:00:00"
     ]
    },
    {
     "name": "stdout",
     "output_type": "stream",
     "text": [
      "\r",
      " [**        9%           ] Elapsed 0.08s / Remaining 00:00:00:00"
     ]
    },
    {
     "name": "stdout",
     "output_type": "stream",
     "text": [
      "\r",
      " [**        9%           ] Elapsed 0.08s / Remaining 00:00:00:00"
     ]
    },
    {
     "name": "stdout",
     "output_type": "stream",
     "text": [
      "\r",
      " [**        9%           ] Elapsed 0.08s / Remaining 00:00:00:00"
     ]
    },
    {
     "name": "stdout",
     "output_type": "stream",
     "text": [
      "\r",
      " [**        9%           ] Elapsed 0.09s / Remaining 00:00:00:00"
     ]
    },
    {
     "name": "stdout",
     "output_type": "stream",
     "text": [
      "\r",
      " [**       10%           ] Elapsed 0.09s / Remaining 00:00:00:00"
     ]
    },
    {
     "name": "stdout",
     "output_type": "stream",
     "text": [
      "\r",
      " [**       10%           ] Elapsed 0.09s / Remaining 00:00:00:00"
     ]
    },
    {
     "name": "stdout",
     "output_type": "stream",
     "text": [
      "\r",
      " [**       10%           ] Elapsed 0.09s / Remaining 00:00:00:00"
     ]
    },
    {
     "name": "stdout",
     "output_type": "stream",
     "text": [
      "\r",
      " [**       10%           ] Elapsed 0.09s / Remaining 00:00:00:00"
     ]
    },
    {
     "name": "stdout",
     "output_type": "stream",
     "text": [
      "\r",
      " [**       10%           ] Elapsed 0.09s / Remaining 00:00:00:00"
     ]
    },
    {
     "name": "stdout",
     "output_type": "stream",
     "text": [
      "\r",
      " [**       10%           ] Elapsed 0.09s / Remaining 00:00:00:00"
     ]
    },
    {
     "name": "stdout",
     "output_type": "stream",
     "text": [
      "\r",
      " [***      11%           ] Elapsed 0.09s / Remaining 00:00:00:00"
     ]
    },
    {
     "name": "stdout",
     "output_type": "stream",
     "text": [
      "\r",
      " [***      11%           ] Elapsed 0.10s / Remaining 00:00:00:00"
     ]
    },
    {
     "name": "stdout",
     "output_type": "stream",
     "text": [
      "\r",
      " [***      11%           ] Elapsed 0.10s / Remaining 00:00:00:00"
     ]
    },
    {
     "name": "stdout",
     "output_type": "stream",
     "text": [
      "\r",
      " [***      11%           ] Elapsed 0.10s / Remaining 00:00:00:00"
     ]
    },
    {
     "name": "stdout",
     "output_type": "stream",
     "text": [
      "\r",
      " [***      11%           ] Elapsed 0.10s / Remaining 00:00:00:00"
     ]
    },
    {
     "name": "stdout",
     "output_type": "stream",
     "text": [
      "\r",
      " [***      11%           ] Elapsed 0.10s / Remaining 00:00:00:00"
     ]
    },
    {
     "name": "stdout",
     "output_type": "stream",
     "text": [
      "\r",
      " [***      12%           ] Elapsed 0.10s / Remaining 00:00:00:00"
     ]
    },
    {
     "name": "stdout",
     "output_type": "stream",
     "text": [
      "\r",
      " [***      12%           ] Elapsed 0.10s / Remaining 00:00:00:00"
     ]
    },
    {
     "name": "stdout",
     "output_type": "stream",
     "text": [
      "\r",
      " [***      12%           ] Elapsed 0.10s / Remaining 00:00:00:00"
     ]
    },
    {
     "name": "stdout",
     "output_type": "stream",
     "text": [
      "\r",
      " [***      12%           ] Elapsed 0.10s / Remaining 00:00:00:00"
     ]
    },
    {
     "name": "stdout",
     "output_type": "stream",
     "text": [
      "\r",
      " [***      12%           ] Elapsed 0.11s / Remaining 00:00:00:00"
     ]
    },
    {
     "name": "stdout",
     "output_type": "stream",
     "text": [
      "\r",
      " [***      12%           ] Elapsed 0.11s / Remaining 00:00:00:00"
     ]
    },
    {
     "name": "stdout",
     "output_type": "stream",
     "text": [
      "\r",
      " [***      13%           ] Elapsed 0.11s / Remaining 00:00:00:00"
     ]
    },
    {
     "name": "stdout",
     "output_type": "stream",
     "text": [
      "\r",
      " [***      13%           ] Elapsed 0.11s / Remaining 00:00:00:00"
     ]
    },
    {
     "name": "stdout",
     "output_type": "stream",
     "text": [
      "\r",
      " [***      13%           ] Elapsed 0.11s / Remaining 00:00:00:00"
     ]
    },
    {
     "name": "stdout",
     "output_type": "stream",
     "text": [
      "\r",
      " [***      13%           ] Elapsed 0.11s / Remaining 00:00:00:00"
     ]
    },
    {
     "name": "stdout",
     "output_type": "stream",
     "text": [
      "\r",
      " [***      13%           ] Elapsed 0.12s / Remaining 00:00:00:00"
     ]
    },
    {
     "name": "stdout",
     "output_type": "stream",
     "text": [
      "\r",
      " [***      13%           ] Elapsed 0.12s / Remaining 00:00:00:00"
     ]
    },
    {
     "name": "stdout",
     "output_type": "stream",
     "text": [
      "\r",
      " [***      14%           ] Elapsed 0.12s / Remaining 00:00:00:00"
     ]
    },
    {
     "name": "stdout",
     "output_type": "stream",
     "text": [
      "\r",
      " [***      14%           ] Elapsed 0.12s / Remaining 00:00:00:00"
     ]
    },
    {
     "name": "stdout",
     "output_type": "stream",
     "text": [
      "\r",
      " [***      14%           ] Elapsed 0.12s / Remaining 00:00:00:00"
     ]
    },
    {
     "name": "stdout",
     "output_type": "stream",
     "text": [
      "\r",
      " [***      14%           ] Elapsed 0.12s / Remaining 00:00:00:00"
     ]
    },
    {
     "name": "stdout",
     "output_type": "stream",
     "text": [
      "\r",
      " [***      14%           ] Elapsed 0.12s / Remaining 00:00:00:00"
     ]
    },
    {
     "name": "stdout",
     "output_type": "stream",
     "text": [
      "\r",
      " [***      14%           ] Elapsed 0.13s / Remaining 00:00:00:00"
     ]
    },
    {
     "name": "stdout",
     "output_type": "stream",
     "text": [
      "\r",
      " [***      15%           ] Elapsed 0.13s / Remaining 00:00:00:00"
     ]
    },
    {
     "name": "stdout",
     "output_type": "stream",
     "text": [
      "\r",
      " [***      15%           ] Elapsed 0.13s / Remaining 00:00:00:00"
     ]
    },
    {
     "name": "stdout",
     "output_type": "stream",
     "text": [
      "\r",
      " [***      15%           ] Elapsed 0.13s / Remaining 00:00:00:00"
     ]
    },
    {
     "name": "stdout",
     "output_type": "stream",
     "text": [
      "\r",
      " [***      15%           ] Elapsed 0.13s / Remaining 00:00:00:00"
     ]
    },
    {
     "name": "stdout",
     "output_type": "stream",
     "text": [
      "\r",
      " [***      15%           ] Elapsed 0.13s / Remaining 00:00:00:00"
     ]
    },
    {
     "name": "stdout",
     "output_type": "stream",
     "text": [
      "\r",
      " [***      15%           ] Elapsed 0.13s / Remaining 00:00:00:00"
     ]
    },
    {
     "name": "stdout",
     "output_type": "stream",
     "text": [
      "\r",
      " [****     16%           ] Elapsed 0.13s / Remaining 00:00:00:00"
     ]
    },
    {
     "name": "stdout",
     "output_type": "stream",
     "text": [
      "\r",
      " [****     16%           ] Elapsed 0.13s / Remaining 00:00:00:00"
     ]
    },
    {
     "name": "stdout",
     "output_type": "stream",
     "text": [
      "\r",
      " [****     16%           ] Elapsed 0.14s / Remaining 00:00:00:00"
     ]
    },
    {
     "name": "stdout",
     "output_type": "stream",
     "text": [
      "\r",
      " [****     16%           ] Elapsed 0.14s / Remaining 00:00:00:00"
     ]
    },
    {
     "name": "stdout",
     "output_type": "stream",
     "text": [
      "\r",
      " [****     16%           ] Elapsed 0.14s / Remaining 00:00:00:00"
     ]
    },
    {
     "name": "stdout",
     "output_type": "stream",
     "text": [
      "\r",
      " [****     16%           ] Elapsed 0.14s / Remaining 00:00:00:00"
     ]
    },
    {
     "name": "stdout",
     "output_type": "stream",
     "text": [
      "\r",
      " [****     17%           ] Elapsed 0.14s / Remaining 00:00:00:00"
     ]
    },
    {
     "name": "stdout",
     "output_type": "stream",
     "text": [
      "\r",
      " [****     17%           ] Elapsed 0.14s / Remaining 00:00:00:00"
     ]
    },
    {
     "name": "stdout",
     "output_type": "stream",
     "text": [
      "\r",
      " [****     17%           ] Elapsed 0.14s / Remaining 00:00:00:00"
     ]
    },
    {
     "name": "stdout",
     "output_type": "stream",
     "text": [
      "\r",
      " [****     17%           ] Elapsed 0.14s / Remaining 00:00:00:00"
     ]
    },
    {
     "name": "stdout",
     "output_type": "stream",
     "text": [
      "\r",
      " [****     17%           ] Elapsed 0.14s / Remaining 00:00:00:00"
     ]
    },
    {
     "name": "stdout",
     "output_type": "stream",
     "text": [
      "\r",
      " [****     17%           ] Elapsed 0.14s / Remaining 00:00:00:00"
     ]
    },
    {
     "name": "stdout",
     "output_type": "stream",
     "text": [
      "\r",
      " [****     18%           ] Elapsed 0.14s / Remaining 00:00:00:00"
     ]
    },
    {
     "name": "stdout",
     "output_type": "stream",
     "text": [
      "\r",
      " [****     18%           ] Elapsed 0.14s / Remaining 00:00:00:00"
     ]
    },
    {
     "name": "stdout",
     "output_type": "stream",
     "text": [
      "\r",
      " [****     18%           ] Elapsed 0.14s / Remaining 00:00:00:00"
     ]
    },
    {
     "name": "stdout",
     "output_type": "stream",
     "text": [
      "\r",
      " [****     18%           ] Elapsed 0.14s / Remaining 00:00:00:00"
     ]
    },
    {
     "name": "stdout",
     "output_type": "stream",
     "text": [
      "\r",
      " [****     18%           ] Elapsed 0.15s / Remaining 00:00:00:00"
     ]
    },
    {
     "name": "stdout",
     "output_type": "stream",
     "text": [
      "\r",
      " [****     18%           ] Elapsed 0.15s / Remaining 00:00:00:00"
     ]
    },
    {
     "name": "stdout",
     "output_type": "stream",
     "text": [
      "\r",
      " [****     19%           ] Elapsed 0.15s / Remaining 00:00:00:00"
     ]
    },
    {
     "name": "stdout",
     "output_type": "stream",
     "text": [
      "\r",
      " [****     19%           ] Elapsed 0.15s / Remaining 00:00:00:00"
     ]
    },
    {
     "name": "stdout",
     "output_type": "stream",
     "text": [
      "\r",
      " [****     19%           ] Elapsed 0.15s / Remaining 00:00:00:00"
     ]
    },
    {
     "name": "stdout",
     "output_type": "stream",
     "text": [
      "\r",
      " [****     19%           ] Elapsed 0.15s / Remaining 00:00:00:00"
     ]
    },
    {
     "name": "stdout",
     "output_type": "stream",
     "text": [
      "\r",
      " [****     19%           ] Elapsed 0.15s / Remaining 00:00:00:00"
     ]
    },
    {
     "name": "stdout",
     "output_type": "stream",
     "text": [
      "\r",
      " [****     19%           ] Elapsed 0.15s / Remaining 00:00:00:00"
     ]
    },
    {
     "name": "stdout",
     "output_type": "stream",
     "text": [
      "\r",
      " [*****    20%           ] Elapsed 0.15s / Remaining 00:00:00:00"
     ]
    },
    {
     "name": "stdout",
     "output_type": "stream",
     "text": [
      "\r",
      " [*****    20%           ] Elapsed 0.15s / Remaining 00:00:00:00"
     ]
    },
    {
     "name": "stdout",
     "output_type": "stream",
     "text": [
      "\r",
      " [*****    20%           ] Elapsed 0.15s / Remaining 00:00:00:00"
     ]
    },
    {
     "name": "stdout",
     "output_type": "stream",
     "text": [
      "\r",
      " [*****    20%           ] Elapsed 0.15s / Remaining 00:00:00:00"
     ]
    },
    {
     "name": "stdout",
     "output_type": "stream",
     "text": [
      "\r",
      " [*****    20%           ] Elapsed 0.15s / Remaining 00:00:00:00"
     ]
    },
    {
     "name": "stdout",
     "output_type": "stream",
     "text": [
      "\r",
      " [*****    20%           ] Elapsed 0.16s / Remaining 00:00:00:00"
     ]
    },
    {
     "name": "stdout",
     "output_type": "stream",
     "text": [
      "\r",
      " [*****    21%           ] Elapsed 0.16s / Remaining 00:00:00:00"
     ]
    },
    {
     "name": "stdout",
     "output_type": "stream",
     "text": [
      "\r",
      " [*****    21%           ] Elapsed 0.16s / Remaining 00:00:00:00"
     ]
    },
    {
     "name": "stdout",
     "output_type": "stream",
     "text": [
      "\r",
      " [*****    21%           ] Elapsed 0.16s / Remaining 00:00:00:00"
     ]
    },
    {
     "name": "stdout",
     "output_type": "stream",
     "text": [
      "\r",
      " [*****    21%           ] Elapsed 0.16s / Remaining 00:00:00:00"
     ]
    },
    {
     "name": "stdout",
     "output_type": "stream",
     "text": [
      "\r",
      " [*****    21%           ] Elapsed 0.16s / Remaining 00:00:00:00"
     ]
    },
    {
     "name": "stdout",
     "output_type": "stream",
     "text": [
      "\r",
      " [*****    21%           ] Elapsed 0.16s / Remaining 00:00:00:00"
     ]
    },
    {
     "name": "stdout",
     "output_type": "stream",
     "text": [
      "\r",
      " [*****    22%           ] Elapsed 0.16s / Remaining 00:00:00:00"
     ]
    },
    {
     "name": "stdout",
     "output_type": "stream",
     "text": [
      "\r",
      " [*****    22%           ] Elapsed 0.16s / Remaining 00:00:00:00"
     ]
    },
    {
     "name": "stdout",
     "output_type": "stream",
     "text": [
      "\r",
      " [*****    22%           ] Elapsed 0.16s / Remaining 00:00:00:00"
     ]
    },
    {
     "name": "stdout",
     "output_type": "stream",
     "text": [
      "\r",
      " [*****    22%           ] Elapsed 0.16s / Remaining 00:00:00:00"
     ]
    },
    {
     "name": "stdout",
     "output_type": "stream",
     "text": [
      "\r",
      " [*****    22%           ] Elapsed 0.16s / Remaining 00:00:00:00"
     ]
    },
    {
     "name": "stdout",
     "output_type": "stream",
     "text": [
      "\r",
      " [*****    22%           ] Elapsed 0.16s / Remaining 00:00:00:00"
     ]
    },
    {
     "name": "stdout",
     "output_type": "stream",
     "text": [
      "\r",
      " [*****    23%           ] Elapsed 0.17s / Remaining 00:00:00:00"
     ]
    },
    {
     "name": "stdout",
     "output_type": "stream",
     "text": [
      "\r",
      " [*****    23%           ] Elapsed 0.17s / Remaining 00:00:00:00"
     ]
    },
    {
     "name": "stdout",
     "output_type": "stream",
     "text": [
      "\r",
      " [*****    23%           ] Elapsed 0.17s / Remaining 00:00:00:00"
     ]
    },
    {
     "name": "stdout",
     "output_type": "stream",
     "text": [
      "\r",
      " [*****    23%           ] Elapsed 0.17s / Remaining 00:00:00:00"
     ]
    },
    {
     "name": "stdout",
     "output_type": "stream",
     "text": [
      "\r",
      " [*****    23%           ] Elapsed 0.17s / Remaining 00:00:00:00"
     ]
    },
    {
     "name": "stdout",
     "output_type": "stream",
     "text": [
      "\r",
      " [*****    23%           ] Elapsed 0.17s / Remaining 00:00:00:00"
     ]
    },
    {
     "name": "stdout",
     "output_type": "stream",
     "text": [
      "\r",
      " [******   24%           ] Elapsed 0.17s / Remaining 00:00:00:00"
     ]
    },
    {
     "name": "stdout",
     "output_type": "stream",
     "text": [
      "\r",
      " [******   24%           ] Elapsed 0.17s / Remaining 00:00:00:00"
     ]
    },
    {
     "name": "stdout",
     "output_type": "stream",
     "text": [
      "\r",
      " [******   24%           ] Elapsed 0.17s / Remaining 00:00:00:00"
     ]
    },
    {
     "name": "stdout",
     "output_type": "stream",
     "text": [
      "\r",
      " [******   24%           ] Elapsed 0.17s / Remaining 00:00:00:00"
     ]
    },
    {
     "name": "stdout",
     "output_type": "stream",
     "text": [
      "\r",
      " [******   24%           ] Elapsed 0.17s / Remaining 00:00:00:00"
     ]
    },
    {
     "name": "stdout",
     "output_type": "stream",
     "text": [
      "\r",
      " [******   24%           ] Elapsed 0.17s / Remaining 00:00:00:00"
     ]
    },
    {
     "name": "stdout",
     "output_type": "stream",
     "text": [
      "\r",
      " [******   25%           ] Elapsed 0.17s / Remaining 00:00:00:00"
     ]
    },
    {
     "name": "stdout",
     "output_type": "stream",
     "text": [
      "\r",
      " [******   25%           ] Elapsed 0.18s / Remaining 00:00:00:00"
     ]
    },
    {
     "name": "stdout",
     "output_type": "stream",
     "text": [
      "\r",
      " [******   25%           ] Elapsed 0.18s / Remaining 00:00:00:00"
     ]
    },
    {
     "name": "stdout",
     "output_type": "stream",
     "text": [
      "\r",
      " [******   25%           ] Elapsed 0.18s / Remaining 00:00:00:00"
     ]
    },
    {
     "name": "stdout",
     "output_type": "stream",
     "text": [
      "\r",
      " [******   25%           ] Elapsed 0.18s / Remaining 00:00:00:00"
     ]
    },
    {
     "name": "stdout",
     "output_type": "stream",
     "text": [
      "\r",
      " [******   25%           ] Elapsed 0.18s / Remaining 00:00:00:00"
     ]
    },
    {
     "name": "stdout",
     "output_type": "stream",
     "text": [
      "\r",
      " [******   26%           ] Elapsed 0.18s / Remaining 00:00:00:00"
     ]
    },
    {
     "name": "stdout",
     "output_type": "stream",
     "text": [
      "\r",
      " [******   26%           ] Elapsed 0.18s / Remaining 00:00:00:00"
     ]
    },
    {
     "name": "stdout",
     "output_type": "stream",
     "text": [
      "\r",
      " [******   26%           ] Elapsed 0.18s / Remaining 00:00:00:00"
     ]
    },
    {
     "name": "stdout",
     "output_type": "stream",
     "text": [
      "\r",
      " [******   26%           ] Elapsed 0.18s / Remaining 00:00:00:00"
     ]
    },
    {
     "name": "stdout",
     "output_type": "stream",
     "text": [
      "\r",
      " [******   26%           ] Elapsed 0.18s / Remaining 00:00:00:00"
     ]
    },
    {
     "name": "stdout",
     "output_type": "stream",
     "text": [
      "\r",
      " [******   26%           ] Elapsed 0.18s / Remaining 00:00:00:00"
     ]
    },
    {
     "name": "stdout",
     "output_type": "stream",
     "text": [
      "\r",
      " [******   27%           ] Elapsed 0.18s / Remaining 00:00:00:00"
     ]
    },
    {
     "name": "stdout",
     "output_type": "stream",
     "text": [
      "\r",
      " [******   27%           ] Elapsed 0.18s / Remaining 00:00:00:00"
     ]
    },
    {
     "name": "stdout",
     "output_type": "stream",
     "text": [
      "\r",
      " [******   27%           ] Elapsed 0.18s / Remaining 00:00:00:00"
     ]
    },
    {
     "name": "stdout",
     "output_type": "stream",
     "text": [
      "\r",
      " [******   27%           ] Elapsed 0.19s / Remaining 00:00:00:00"
     ]
    },
    {
     "name": "stdout",
     "output_type": "stream",
     "text": [
      "\r",
      " [******   27%           ] Elapsed 0.19s / Remaining 00:00:00:00"
     ]
    },
    {
     "name": "stdout",
     "output_type": "stream",
     "text": [
      "\r",
      " [******   27%           ] Elapsed 0.19s / Remaining 00:00:00:00"
     ]
    },
    {
     "name": "stdout",
     "output_type": "stream",
     "text": [
      "\r",
      " [******   28%           ] Elapsed 0.19s / Remaining 00:00:00:00"
     ]
    },
    {
     "name": "stdout",
     "output_type": "stream",
     "text": [
      "\r",
      " [******   28%           ] Elapsed 0.19s / Remaining 00:00:00:00"
     ]
    },
    {
     "name": "stdout",
     "output_type": "stream",
     "text": [
      "\r",
      " [******   28%           ] Elapsed 0.19s / Remaining 00:00:00:00"
     ]
    },
    {
     "name": "stdout",
     "output_type": "stream",
     "text": [
      "\r",
      " [******   28%           ] Elapsed 0.19s / Remaining 00:00:00:00"
     ]
    },
    {
     "name": "stdout",
     "output_type": "stream",
     "text": [
      "\r",
      " [******   28%           ] Elapsed 0.19s / Remaining 00:00:00:00"
     ]
    },
    {
     "name": "stdout",
     "output_type": "stream",
     "text": [
      "\r",
      " [******   28%           ] Elapsed 0.19s / Remaining 00:00:00:00"
     ]
    },
    {
     "name": "stdout",
     "output_type": "stream",
     "text": [
      "\r",
      " [*******  29%           ] Elapsed 0.19s / Remaining 00:00:00:00"
     ]
    },
    {
     "name": "stdout",
     "output_type": "stream",
     "text": [
      "\r",
      " [*******  29%           ] Elapsed 0.19s / Remaining 00:00:00:00"
     ]
    },
    {
     "name": "stdout",
     "output_type": "stream",
     "text": [
      "\r",
      " [*******  29%           ] Elapsed 0.19s / Remaining 00:00:00:00"
     ]
    },
    {
     "name": "stdout",
     "output_type": "stream",
     "text": [
      "\r",
      " [*******  29%           ] Elapsed 0.19s / Remaining 00:00:00:00"
     ]
    },
    {
     "name": "stdout",
     "output_type": "stream",
     "text": [
      "\r",
      " [*******  29%           ] Elapsed 0.20s / Remaining 00:00:00:00"
     ]
    },
    {
     "name": "stdout",
     "output_type": "stream",
     "text": [
      "\r",
      " [*******  29%           ] Elapsed 0.20s / Remaining 00:00:00:00"
     ]
    },
    {
     "name": "stdout",
     "output_type": "stream",
     "text": [
      "\r",
      " [*******  30%           ] Elapsed 0.20s / Remaining 00:00:00:00"
     ]
    },
    {
     "name": "stdout",
     "output_type": "stream",
     "text": [
      "\r",
      " [*******  30%           ] Elapsed 0.20s / Remaining 00:00:00:00"
     ]
    },
    {
     "name": "stdout",
     "output_type": "stream",
     "text": [
      "\r",
      " [*******  30%           ] Elapsed 0.20s / Remaining 00:00:00:00"
     ]
    },
    {
     "name": "stdout",
     "output_type": "stream",
     "text": [
      "\r",
      " [*******  30%           ] Elapsed 0.20s / Remaining 00:00:00:00"
     ]
    },
    {
     "name": "stdout",
     "output_type": "stream",
     "text": [
      "\r",
      " [*******  30%           ] Elapsed 0.20s / Remaining 00:00:00:00"
     ]
    },
    {
     "name": "stdout",
     "output_type": "stream",
     "text": [
      "\r",
      " [*******  30%           ] Elapsed 0.20s / Remaining 00:00:00:00"
     ]
    },
    {
     "name": "stdout",
     "output_type": "stream",
     "text": [
      "\r",
      " [*******  31%           ] Elapsed 0.20s / Remaining 00:00:00:00"
     ]
    },
    {
     "name": "stdout",
     "output_type": "stream",
     "text": [
      "\r",
      " [*******  31%           ] Elapsed 0.20s / Remaining 00:00:00:00"
     ]
    },
    {
     "name": "stdout",
     "output_type": "stream",
     "text": [
      "\r",
      " [*******  31%           ] Elapsed 0.20s / Remaining 00:00:00:00"
     ]
    },
    {
     "name": "stdout",
     "output_type": "stream",
     "text": [
      "\r",
      " [*******  31%           ] Elapsed 0.20s / Remaining 00:00:00:00"
     ]
    },
    {
     "name": "stdout",
     "output_type": "stream",
     "text": [
      "\r"
     ]
    },
    {
     "name": "stdout",
     "output_type": "stream",
     "text": [
      " [*******  31%           ] Elapsed 0.20s / Remaining 00:00:00:00"
     ]
    },
    {
     "name": "stdout",
     "output_type": "stream",
     "text": [
      "\r",
      " [*******  31%           ] Elapsed 0.21s / Remaining 00:00:00:00"
     ]
    },
    {
     "name": "stdout",
     "output_type": "stream",
     "text": [
      "\r"
     ]
    },
    {
     "name": "stdout",
     "output_type": "stream",
     "text": [
      " [*******  32%           ] Elapsed 0.21s / Remaining 00:00:00:00"
     ]
    },
    {
     "name": "stdout",
     "output_type": "stream",
     "text": [
      "\r",
      " [*******  32%           ] Elapsed 0.21s / Remaining 00:00:00:00"
     ]
    },
    {
     "name": "stdout",
     "output_type": "stream",
     "text": [
      "\r"
     ]
    },
    {
     "name": "stdout",
     "output_type": "stream",
     "text": [
      " [*******  32%           ] Elapsed 0.21s / Remaining 00:00:00:00"
     ]
    },
    {
     "name": "stdout",
     "output_type": "stream",
     "text": [
      "\r",
      " [*******  32%           ] Elapsed 0.21s / Remaining 00:00:00:00"
     ]
    },
    {
     "name": "stdout",
     "output_type": "stream",
     "text": [
      "\r",
      " [*******  32%           ] Elapsed 0.21s / Remaining 00:00:00:00"
     ]
    },
    {
     "name": "stdout",
     "output_type": "stream",
     "text": [
      "\r",
      " [*******  32%           ] Elapsed 0.21s / Remaining 00:00:00:00"
     ]
    },
    {
     "name": "stdout",
     "output_type": "stream",
     "text": [
      "\r"
     ]
    },
    {
     "name": "stdout",
     "output_type": "stream",
     "text": [
      " [******** 33%           ] Elapsed 0.21s / Remaining 00:00:00:00"
     ]
    },
    {
     "name": "stdout",
     "output_type": "stream",
     "text": [
      "\r",
      " [******** 33%           ] Elapsed 0.21s / Remaining 00:00:00:00"
     ]
    },
    {
     "name": "stdout",
     "output_type": "stream",
     "text": [
      "\r"
     ]
    },
    {
     "name": "stdout",
     "output_type": "stream",
     "text": [
      " [******** 33%           ] Elapsed 0.21s / Remaining 00:00:00:00"
     ]
    },
    {
     "name": "stdout",
     "output_type": "stream",
     "text": [
      "\r",
      " [******** 33%           ] Elapsed 0.21s / Remaining 00:00:00:00"
     ]
    },
    {
     "name": "stdout",
     "output_type": "stream",
     "text": [
      "\r",
      " [******** 33%           ] Elapsed 0.22s / Remaining 00:00:00:00"
     ]
    },
    {
     "name": "stdout",
     "output_type": "stream",
     "text": [
      "\r",
      " [******** 33%           ] Elapsed 0.22s / Remaining 00:00:00:00"
     ]
    },
    {
     "name": "stdout",
     "output_type": "stream",
     "text": [
      "\r",
      " [******** 34%           ] Elapsed 0.22s / Remaining 00:00:00:00"
     ]
    },
    {
     "name": "stdout",
     "output_type": "stream",
     "text": [
      "\r"
     ]
    },
    {
     "name": "stdout",
     "output_type": "stream",
     "text": [
      " [******** 34%           ] Elapsed 0.22s / Remaining 00:00:00:00"
     ]
    },
    {
     "name": "stdout",
     "output_type": "stream",
     "text": [
      "\r",
      " [******** 34%           ] Elapsed 0.22s / Remaining 00:00:00:00"
     ]
    },
    {
     "name": "stdout",
     "output_type": "stream",
     "text": [
      "\r"
     ]
    },
    {
     "name": "stdout",
     "output_type": "stream",
     "text": [
      " [******** 34%           ] Elapsed 0.22s / Remaining 00:00:00:00"
     ]
    },
    {
     "name": "stdout",
     "output_type": "stream",
     "text": [
      "\r",
      " [******** 34%           ] Elapsed 0.22s / Remaining 00:00:00:00"
     ]
    },
    {
     "name": "stdout",
     "output_type": "stream",
     "text": [
      "\r",
      " [******** 34%           ] Elapsed 0.22s / Remaining 00:00:00:00"
     ]
    },
    {
     "name": "stdout",
     "output_type": "stream",
     "text": [
      "\r",
      " [******** 35%           ] Elapsed 0.22s / Remaining 00:00:00:00"
     ]
    },
    {
     "name": "stdout",
     "output_type": "stream",
     "text": [
      "\r",
      " [******** 35%           ] Elapsed 0.22s / Remaining 00:00:00:00"
     ]
    },
    {
     "name": "stdout",
     "output_type": "stream",
     "text": [
      "\r"
     ]
    },
    {
     "name": "stdout",
     "output_type": "stream",
     "text": [
      " [******** 35%           ] Elapsed 0.22s / Remaining 00:00:00:00"
     ]
    },
    {
     "name": "stdout",
     "output_type": "stream",
     "text": [
      "\r",
      " [******** 35%           ] Elapsed 0.22s / Remaining 00:00:00:00"
     ]
    },
    {
     "name": "stdout",
     "output_type": "stream",
     "text": [
      "\r",
      " [******** 35%           ] Elapsed 0.23s / Remaining 00:00:00:00"
     ]
    },
    {
     "name": "stdout",
     "output_type": "stream",
     "text": [
      "\r",
      " [******** 35%           ] Elapsed 0.23s / Remaining 00:00:00:00"
     ]
    },
    {
     "name": "stdout",
     "output_type": "stream",
     "text": [
      "\r",
      " [******** 36%           ] Elapsed 0.23s / Remaining 00:00:00:00"
     ]
    },
    {
     "name": "stdout",
     "output_type": "stream",
     "text": [
      "\r",
      " [******** 36%           ] Elapsed 0.23s / Remaining 00:00:00:00"
     ]
    },
    {
     "name": "stdout",
     "output_type": "stream",
     "text": [
      "\r",
      " [******** 36%           ] Elapsed 0.23s / Remaining 00:00:00:00"
     ]
    },
    {
     "name": "stdout",
     "output_type": "stream",
     "text": [
      "\r",
      " [******** 36%           ] Elapsed 0.23s / Remaining 00:00:00:00"
     ]
    },
    {
     "name": "stdout",
     "output_type": "stream",
     "text": [
      "\r",
      " [******** 36%           ] Elapsed 0.23s / Remaining 00:00:00:00"
     ]
    },
    {
     "name": "stdout",
     "output_type": "stream",
     "text": [
      "\r",
      " [******** 36%           ] Elapsed 0.23s / Remaining 00:00:00:00"
     ]
    },
    {
     "name": "stdout",
     "output_type": "stream",
     "text": [
      "\r",
      " [*********37%           ] Elapsed 0.23s / Remaining 00:00:00:00"
     ]
    },
    {
     "name": "stdout",
     "output_type": "stream",
     "text": [
      "\r",
      " [*********37%           ] Elapsed 0.23s / Remaining 00:00:00:00"
     ]
    },
    {
     "name": "stdout",
     "output_type": "stream",
     "text": [
      "\r",
      " [*********37%           ] Elapsed 0.23s / Remaining 00:00:00:00"
     ]
    },
    {
     "name": "stdout",
     "output_type": "stream",
     "text": [
      "\r",
      " [*********37%           ] Elapsed 0.23s / Remaining 00:00:00:00"
     ]
    },
    {
     "name": "stdout",
     "output_type": "stream",
     "text": [
      "\r",
      " [*********37%           ] Elapsed 0.23s / Remaining 00:00:00:00"
     ]
    },
    {
     "name": "stdout",
     "output_type": "stream",
     "text": [
      "\r",
      " [*********37%           ] Elapsed 0.23s / Remaining 00:00:00:00"
     ]
    },
    {
     "name": "stdout",
     "output_type": "stream",
     "text": [
      "\r",
      " [*********38%           ] Elapsed 0.24s / Remaining 00:00:00:00"
     ]
    },
    {
     "name": "stdout",
     "output_type": "stream",
     "text": [
      "\r",
      " [*********38%           ] Elapsed 0.24s / Remaining 00:00:00:00"
     ]
    },
    {
     "name": "stdout",
     "output_type": "stream",
     "text": [
      "\r",
      " [*********38%           ] Elapsed 0.24s / Remaining 00:00:00:00"
     ]
    },
    {
     "name": "stdout",
     "output_type": "stream",
     "text": [
      "\r"
     ]
    },
    {
     "name": "stdout",
     "output_type": "stream",
     "text": [
      " [*********38%           ] Elapsed 0.24s / Remaining 00:00:00:00"
     ]
    },
    {
     "name": "stdout",
     "output_type": "stream",
     "text": [
      "\r",
      " [*********38%           ] Elapsed 0.24s / Remaining 00:00:00:00"
     ]
    },
    {
     "name": "stdout",
     "output_type": "stream",
     "text": [
      "\r"
     ]
    },
    {
     "name": "stdout",
     "output_type": "stream",
     "text": [
      " [*********38%           ] Elapsed 0.24s / Remaining 00:00:00:00"
     ]
    },
    {
     "name": "stdout",
     "output_type": "stream",
     "text": [
      "\r"
     ]
    },
    {
     "name": "stdout",
     "output_type": "stream",
     "text": [
      " [*********39%           ] Elapsed 0.24s / Remaining 00:00:00:00"
     ]
    },
    {
     "name": "stdout",
     "output_type": "stream",
     "text": [
      "\r",
      " [*********39%           ] Elapsed 0.24s / Remaining 00:00:00:00"
     ]
    },
    {
     "name": "stdout",
     "output_type": "stream",
     "text": [
      "\r",
      " [*********39%           ] Elapsed 0.24s / Remaining 00:00:00:00"
     ]
    },
    {
     "name": "stdout",
     "output_type": "stream",
     "text": [
      "\r",
      " [*********39%           ] Elapsed 0.24s / Remaining 00:00:00:00"
     ]
    },
    {
     "name": "stdout",
     "output_type": "stream",
     "text": [
      "\r",
      " [*********39%           ] Elapsed 0.24s / Remaining 00:00:00:00"
     ]
    },
    {
     "name": "stdout",
     "output_type": "stream",
     "text": [
      "\r",
      " [*********39%           ] Elapsed 0.24s / Remaining 00:00:00:00"
     ]
    },
    {
     "name": "stdout",
     "output_type": "stream",
     "text": [
      "\r",
      " [*********40%           ] Elapsed 0.25s / Remaining 00:00:00:00"
     ]
    },
    {
     "name": "stdout",
     "output_type": "stream",
     "text": [
      "\r",
      " [*********40%           ] Elapsed 0.25s / Remaining 00:00:00:00"
     ]
    },
    {
     "name": "stdout",
     "output_type": "stream",
     "text": [
      "\r",
      " [*********40%           ] Elapsed 0.25s / Remaining 00:00:00:00"
     ]
    },
    {
     "name": "stdout",
     "output_type": "stream",
     "text": [
      "\r",
      " [*********40%           ] Elapsed 0.25s / Remaining 00:00:00:00"
     ]
    },
    {
     "name": "stdout",
     "output_type": "stream",
     "text": [
      "\r",
      " [*********40%           ] Elapsed 0.25s / Remaining 00:00:00:00"
     ]
    },
    {
     "name": "stdout",
     "output_type": "stream",
     "text": [
      "\r",
      " [*********40%           ] Elapsed 0.25s / Remaining 00:00:00:00"
     ]
    },
    {
     "name": "stdout",
     "output_type": "stream",
     "text": [
      "\r"
     ]
    },
    {
     "name": "stdout",
     "output_type": "stream",
     "text": [
      " [*********41%           ] Elapsed 0.25s / Remaining 00:00:00:00"
     ]
    },
    {
     "name": "stdout",
     "output_type": "stream",
     "text": [
      "\r",
      " [*********41%           ] Elapsed 0.25s / Remaining 00:00:00:00"
     ]
    },
    {
     "name": "stdout",
     "output_type": "stream",
     "text": [
      "\r",
      " [*********41%           ] Elapsed 0.25s / Remaining 00:00:00:00"
     ]
    },
    {
     "name": "stdout",
     "output_type": "stream",
     "text": [
      "\r",
      " [*********41%           ] Elapsed 0.25s / Remaining 00:00:00:00"
     ]
    },
    {
     "name": "stdout",
     "output_type": "stream",
     "text": [
      "\r",
      " [*********41%           ] Elapsed 0.25s / Remaining 00:00:00:00"
     ]
    },
    {
     "name": "stdout",
     "output_type": "stream",
     "text": [
      "\r",
      " [*********41%           ] Elapsed 0.25s / Remaining 00:00:00:00"
     ]
    },
    {
     "name": "stdout",
     "output_type": "stream",
     "text": [
      "\r",
      " [*********42%           ] Elapsed 0.25s / Remaining 00:00:00:00"
     ]
    },
    {
     "name": "stdout",
     "output_type": "stream",
     "text": [
      "\r",
      " [*********42%           ] Elapsed 0.26s / Remaining 00:00:00:00"
     ]
    },
    {
     "name": "stdout",
     "output_type": "stream",
     "text": [
      "\r",
      " [*********42%           ] Elapsed 0.26s / Remaining 00:00:00:00"
     ]
    },
    {
     "name": "stdout",
     "output_type": "stream",
     "text": [
      "\r",
      " [*********42%           ] Elapsed 0.26s / Remaining 00:00:00:00"
     ]
    },
    {
     "name": "stdout",
     "output_type": "stream",
     "text": [
      "\r",
      " [*********42%           ] Elapsed 0.26s / Remaining 00:00:00:00"
     ]
    },
    {
     "name": "stdout",
     "output_type": "stream",
     "text": [
      "\r"
     ]
    },
    {
     "name": "stdout",
     "output_type": "stream",
     "text": [
      " [*********42%           ] Elapsed 0.26s / Remaining 00:00:00:00"
     ]
    },
    {
     "name": "stdout",
     "output_type": "stream",
     "text": [
      "\r",
      " [*********43%           ] Elapsed 0.26s / Remaining 00:00:00:00"
     ]
    },
    {
     "name": "stdout",
     "output_type": "stream",
     "text": [
      "\r",
      " [*********43%           ] Elapsed 0.26s / Remaining 00:00:00:00"
     ]
    },
    {
     "name": "stdout",
     "output_type": "stream",
     "text": [
      "\r",
      " [*********43%           ] Elapsed 0.26s / Remaining 00:00:00:00"
     ]
    },
    {
     "name": "stdout",
     "output_type": "stream",
     "text": [
      "\r",
      " [*********43%           ] Elapsed 0.26s / Remaining 00:00:00:00"
     ]
    },
    {
     "name": "stdout",
     "output_type": "stream",
     "text": [
      "\r",
      " [*********43%           ] Elapsed 0.26s / Remaining 00:00:00:00"
     ]
    },
    {
     "name": "stdout",
     "output_type": "stream",
     "text": [
      "\r"
     ]
    },
    {
     "name": "stdout",
     "output_type": "stream",
     "text": [
      " [*********43%           ] Elapsed 0.26s / Remaining 00:00:00:00"
     ]
    },
    {
     "name": "stdout",
     "output_type": "stream",
     "text": [
      "\r",
      " [*********44%           ] Elapsed 0.26s / Remaining 00:00:00:00"
     ]
    },
    {
     "name": "stdout",
     "output_type": "stream",
     "text": [
      "\r",
      " [*********44%           ] Elapsed 0.26s / Remaining 00:00:00:00"
     ]
    },
    {
     "name": "stdout",
     "output_type": "stream",
     "text": [
      "\r",
      " [*********44%           ] Elapsed 0.27s / Remaining 00:00:00:00"
     ]
    },
    {
     "name": "stdout",
     "output_type": "stream",
     "text": [
      "\r",
      " [*********44%           ] Elapsed 0.27s / Remaining 00:00:00:00"
     ]
    },
    {
     "name": "stdout",
     "output_type": "stream",
     "text": [
      "\r",
      " [*********44%           ] Elapsed 0.27s / Remaining 00:00:00:00"
     ]
    },
    {
     "name": "stdout",
     "output_type": "stream",
     "text": [
      "\r",
      " [*********44%           ] Elapsed 0.27s / Remaining 00:00:00:00"
     ]
    },
    {
     "name": "stdout",
     "output_type": "stream",
     "text": [
      "\r",
      " [*********45%           ] Elapsed 0.27s / Remaining 00:00:00:00"
     ]
    },
    {
     "name": "stdout",
     "output_type": "stream",
     "text": [
      "\r",
      " [*********45%           ] Elapsed 0.27s / Remaining 00:00:00:00"
     ]
    },
    {
     "name": "stdout",
     "output_type": "stream",
     "text": [
      "\r",
      " [*********45%           ] Elapsed 0.27s / Remaining 00:00:00:00"
     ]
    },
    {
     "name": "stdout",
     "output_type": "stream",
     "text": [
      "\r"
     ]
    },
    {
     "name": "stdout",
     "output_type": "stream",
     "text": [
      " [*********45%           ] Elapsed 0.27s / Remaining 00:00:00:00"
     ]
    },
    {
     "name": "stdout",
     "output_type": "stream",
     "text": [
      "\r"
     ]
    },
    {
     "name": "stdout",
     "output_type": "stream",
     "text": [
      " [*********45%           ] Elapsed 0.27s / Remaining 00:00:00:00"
     ]
    },
    {
     "name": "stdout",
     "output_type": "stream",
     "text": [
      "\r",
      " [*********45%           ] Elapsed 0.27s / Remaining 00:00:00:00"
     ]
    },
    {
     "name": "stdout",
     "output_type": "stream",
     "text": [
      "\r",
      " [*********46%           ] Elapsed 0.27s / Remaining 00:00:00:00"
     ]
    },
    {
     "name": "stdout",
     "output_type": "stream",
     "text": [
      "\r",
      " [*********46%           ] Elapsed 0.27s / Remaining 00:00:00:00"
     ]
    },
    {
     "name": "stdout",
     "output_type": "stream",
     "text": [
      "\r",
      " [*********46%           ] Elapsed 0.27s / Remaining 00:00:00:00"
     ]
    },
    {
     "name": "stdout",
     "output_type": "stream",
     "text": [
      "\r",
      " [*********46%           ] Elapsed 0.28s / Remaining 00:00:00:00"
     ]
    },
    {
     "name": "stdout",
     "output_type": "stream",
     "text": [
      "\r",
      " [*********46%           ] Elapsed 0.28s / Remaining 00:00:00:00"
     ]
    },
    {
     "name": "stdout",
     "output_type": "stream",
     "text": [
      "\r",
      " [*********46%           ] Elapsed 0.28s / Remaining 00:00:00:00"
     ]
    },
    {
     "name": "stdout",
     "output_type": "stream",
     "text": [
      "\r"
     ]
    },
    {
     "name": "stdout",
     "output_type": "stream",
     "text": [
      " [*********47%           ] Elapsed 0.28s / Remaining 00:00:00:00"
     ]
    },
    {
     "name": "stdout",
     "output_type": "stream",
     "text": [
      "\r",
      " [*********47%           ] Elapsed 0.28s / Remaining 00:00:00:00"
     ]
    },
    {
     "name": "stdout",
     "output_type": "stream",
     "text": [
      "\r",
      " [*********47%           ] Elapsed 0.28s / Remaining 00:00:00:00"
     ]
    },
    {
     "name": "stdout",
     "output_type": "stream",
     "text": [
      "\r",
      " [*********47%           ] Elapsed 0.28s / Remaining 00:00:00:00"
     ]
    },
    {
     "name": "stdout",
     "output_type": "stream",
     "text": [
      "\r",
      " [*********47%           ] Elapsed 0.28s / Remaining 00:00:00:00"
     ]
    },
    {
     "name": "stdout",
     "output_type": "stream",
     "text": [
      "\r",
      " [*********47%           ] Elapsed 0.29s / Remaining 00:00:00:00"
     ]
    },
    {
     "name": "stdout",
     "output_type": "stream",
     "text": [
      "\r",
      " [*********48%           ] Elapsed 0.29s / Remaining 00:00:00:00"
     ]
    },
    {
     "name": "stdout",
     "output_type": "stream",
     "text": [
      "\r",
      " [*********48%           ] Elapsed 0.29s / Remaining 00:00:00:00"
     ]
    },
    {
     "name": "stdout",
     "output_type": "stream",
     "text": [
      "\r",
      " [*********48%           ] Elapsed 0.29s / Remaining 00:00:00:00"
     ]
    },
    {
     "name": "stdout",
     "output_type": "stream",
     "text": [
      "\r",
      " [*********48%           ] Elapsed 0.29s / Remaining 00:00:00:00"
     ]
    },
    {
     "name": "stdout",
     "output_type": "stream",
     "text": [
      "\r",
      " [*********48%           ] Elapsed 0.29s / Remaining 00:00:00:00"
     ]
    },
    {
     "name": "stdout",
     "output_type": "stream",
     "text": [
      "\r",
      " [*********48%           ] Elapsed 0.29s / Remaining 00:00:00:00"
     ]
    },
    {
     "name": "stdout",
     "output_type": "stream",
     "text": [
      "\r",
      " [*********49%           ] Elapsed 0.30s / Remaining 00:00:00:00"
     ]
    },
    {
     "name": "stdout",
     "output_type": "stream",
     "text": [
      "\r",
      " [*********49%           ] Elapsed 0.30s / Remaining 00:00:00:00"
     ]
    },
    {
     "name": "stdout",
     "output_type": "stream",
     "text": [
      "\r",
      " [*********49%           ] Elapsed 0.30s / Remaining 00:00:00:00"
     ]
    },
    {
     "name": "stdout",
     "output_type": "stream",
     "text": [
      "\r",
      " [*********49%           ] Elapsed 0.30s / Remaining 00:00:00:00"
     ]
    },
    {
     "name": "stdout",
     "output_type": "stream",
     "text": [
      "\r",
      " [*********49%           ] Elapsed 0.30s / Remaining 00:00:00:00"
     ]
    },
    {
     "name": "stdout",
     "output_type": "stream",
     "text": [
      "\r",
      " [*********49%           ] Elapsed 0.30s / Remaining 00:00:00:00"
     ]
    },
    {
     "name": "stdout",
     "output_type": "stream",
     "text": [
      "\r",
      " [*********50%           ] Elapsed 0.30s / Remaining 00:00:00:00"
     ]
    },
    {
     "name": "stdout",
     "output_type": "stream",
     "text": [
      "\r",
      " [*********50%           ] Elapsed 0.30s / Remaining 00:00:00:00"
     ]
    },
    {
     "name": "stdout",
     "output_type": "stream",
     "text": [
      "\r",
      " [*********50%           ] Elapsed 0.31s / Remaining 00:00:00:00"
     ]
    },
    {
     "name": "stdout",
     "output_type": "stream",
     "text": [
      "\r",
      " [*********50%           ] Elapsed 0.31s / Remaining 00:00:00:00"
     ]
    },
    {
     "name": "stdout",
     "output_type": "stream",
     "text": [
      "\r",
      " [*********50%           ] Elapsed 0.31s / Remaining 00:00:00:00"
     ]
    },
    {
     "name": "stdout",
     "output_type": "stream",
     "text": [
      "\r",
      " [*********50%           ] Elapsed 0.31s / Remaining 00:00:00:00"
     ]
    },
    {
     "name": "stdout",
     "output_type": "stream",
     "text": [
      "\r",
      " [*********51%           ] Elapsed 0.31s / Remaining 00:00:00:00"
     ]
    },
    {
     "name": "stdout",
     "output_type": "stream",
     "text": [
      "\r",
      " [*********51%           ] Elapsed 0.31s / Remaining 00:00:00:00"
     ]
    },
    {
     "name": "stdout",
     "output_type": "stream",
     "text": [
      "\r",
      " [*********51%           ] Elapsed 0.31s / Remaining 00:00:00:00"
     ]
    },
    {
     "name": "stdout",
     "output_type": "stream",
     "text": [
      "\r",
      " [*********51%           ] Elapsed 0.32s / Remaining 00:00:00:00"
     ]
    },
    {
     "name": "stdout",
     "output_type": "stream",
     "text": [
      "\r",
      " [*********51%           ] Elapsed 0.32s / Remaining 00:00:00:00"
     ]
    },
    {
     "name": "stdout",
     "output_type": "stream",
     "text": [
      "\r",
      " [*********51%           ] Elapsed 0.32s / Remaining 00:00:00:00"
     ]
    },
    {
     "name": "stdout",
     "output_type": "stream",
     "text": [
      "\r",
      " [*********52%           ] Elapsed 0.32s / Remaining 00:00:00:00"
     ]
    },
    {
     "name": "stdout",
     "output_type": "stream",
     "text": [
      "\r",
      " [*********52%           ] Elapsed 0.32s / Remaining 00:00:00:00"
     ]
    },
    {
     "name": "stdout",
     "output_type": "stream",
     "text": [
      "\r",
      " [*********52%           ] Elapsed 0.32s / Remaining 00:00:00:00"
     ]
    },
    {
     "name": "stdout",
     "output_type": "stream",
     "text": [
      "\r",
      " [*********52%           ] Elapsed 0.32s / Remaining 00:00:00:00"
     ]
    },
    {
     "name": "stdout",
     "output_type": "stream",
     "text": [
      "\r",
      " [*********52%           ] Elapsed 0.32s / Remaining 00:00:00:00"
     ]
    },
    {
     "name": "stdout",
     "output_type": "stream",
     "text": [
      "\r",
      " [*********52%           ] Elapsed 0.33s / Remaining 00:00:00:00"
     ]
    },
    {
     "name": "stdout",
     "output_type": "stream",
     "text": [
      "\r",
      " [*********53%           ] Elapsed 0.33s / Remaining 00:00:00:00"
     ]
    },
    {
     "name": "stdout",
     "output_type": "stream",
     "text": [
      "\r",
      " [*********53%           ] Elapsed 0.33s / Remaining 00:00:00:00"
     ]
    },
    {
     "name": "stdout",
     "output_type": "stream",
     "text": [
      "\r",
      " [*********53%           ] Elapsed 0.33s / Remaining 00:00:00:00"
     ]
    },
    {
     "name": "stdout",
     "output_type": "stream",
     "text": [
      "\r",
      " [*********53%           ] Elapsed 0.33s / Remaining 00:00:00:00"
     ]
    },
    {
     "name": "stdout",
     "output_type": "stream",
     "text": [
      "\r",
      " [*********53%           ] Elapsed 0.33s / Remaining 00:00:00:00"
     ]
    },
    {
     "name": "stdout",
     "output_type": "stream",
     "text": [
      "\r",
      " [*********53%           ] Elapsed 0.33s / Remaining 00:00:00:00"
     ]
    },
    {
     "name": "stdout",
     "output_type": "stream",
     "text": [
      "\r",
      " [*********54%           ] Elapsed 0.33s / Remaining 00:00:00:00"
     ]
    },
    {
     "name": "stdout",
     "output_type": "stream",
     "text": [
      "\r",
      " [*********54%           ] Elapsed 0.34s / Remaining 00:00:00:00"
     ]
    },
    {
     "name": "stdout",
     "output_type": "stream",
     "text": [
      "\r",
      " [*********54%           ] Elapsed 0.34s / Remaining 00:00:00:00"
     ]
    },
    {
     "name": "stdout",
     "output_type": "stream",
     "text": [
      "\r",
      " [*********54%           ] Elapsed 0.34s / Remaining 00:00:00:00"
     ]
    },
    {
     "name": "stdout",
     "output_type": "stream",
     "text": [
      "\r",
      " [*********54%           ] Elapsed 0.34s / Remaining 00:00:00:00"
     ]
    },
    {
     "name": "stdout",
     "output_type": "stream",
     "text": [
      "\r",
      " [*********54%           ] Elapsed 0.34s / Remaining 00:00:00:00"
     ]
    },
    {
     "name": "stdout",
     "output_type": "stream",
     "text": [
      "\r",
      " [*********55%*          ] Elapsed 0.34s / Remaining 00:00:00:00"
     ]
    },
    {
     "name": "stdout",
     "output_type": "stream",
     "text": [
      "\r",
      " [*********55%*          ] Elapsed 0.34s / Remaining 00:00:00:00"
     ]
    },
    {
     "name": "stdout",
     "output_type": "stream",
     "text": [
      "\r",
      " [*********55%*          ] Elapsed 0.34s / Remaining 00:00:00:00"
     ]
    },
    {
     "name": "stdout",
     "output_type": "stream",
     "text": [
      "\r",
      " [*********55%*          ] Elapsed 0.34s / Remaining 00:00:00:00"
     ]
    },
    {
     "name": "stdout",
     "output_type": "stream",
     "text": [
      "\r",
      " [*********55%*          ] Elapsed 0.35s / Remaining 00:00:00:00"
     ]
    },
    {
     "name": "stdout",
     "output_type": "stream",
     "text": [
      "\r",
      " [*********55%*          ] Elapsed 0.35s / Remaining 00:00:00:00"
     ]
    },
    {
     "name": "stdout",
     "output_type": "stream",
     "text": [
      "\r",
      " [*********56%*          ] Elapsed 0.35s / Remaining 00:00:00:00"
     ]
    },
    {
     "name": "stdout",
     "output_type": "stream",
     "text": [
      "\r",
      " [*********56%*          ] Elapsed 0.35s / Remaining 00:00:00:00"
     ]
    },
    {
     "name": "stdout",
     "output_type": "stream",
     "text": [
      "\r",
      " [*********56%*          ] Elapsed 0.35s / Remaining 00:00:00:00"
     ]
    },
    {
     "name": "stdout",
     "output_type": "stream",
     "text": [
      "\r",
      " [*********56%*          ] Elapsed 0.35s / Remaining 00:00:00:00"
     ]
    },
    {
     "name": "stdout",
     "output_type": "stream",
     "text": [
      "\r",
      " [*********56%*          ] Elapsed 0.35s / Remaining 00:00:00:00"
     ]
    },
    {
     "name": "stdout",
     "output_type": "stream",
     "text": [
      "\r",
      " [*********56%*          ] Elapsed 0.35s / Remaining 00:00:00:00"
     ]
    },
    {
     "name": "stdout",
     "output_type": "stream",
     "text": [
      "\r",
      " [*********57%*          ] Elapsed 0.36s / Remaining 00:00:00:00"
     ]
    },
    {
     "name": "stdout",
     "output_type": "stream",
     "text": [
      "\r",
      " [*********57%*          ] Elapsed 0.36s / Remaining 00:00:00:00"
     ]
    },
    {
     "name": "stdout",
     "output_type": "stream",
     "text": [
      "\r",
      " [*********57%*          ] Elapsed 0.36s / Remaining 00:00:00:00"
     ]
    },
    {
     "name": "stdout",
     "output_type": "stream",
     "text": [
      "\r",
      " [*********57%*          ] Elapsed 0.36s / Remaining 00:00:00:00"
     ]
    },
    {
     "name": "stdout",
     "output_type": "stream",
     "text": [
      "\r",
      " [*********57%*          ] Elapsed 0.36s / Remaining 00:00:00:00"
     ]
    },
    {
     "name": "stdout",
     "output_type": "stream",
     "text": [
      "\r",
      " [*********57%*          ] Elapsed 0.36s / Remaining 00:00:00:00"
     ]
    },
    {
     "name": "stdout",
     "output_type": "stream",
     "text": [
      "\r",
      " [*********58%*          ] Elapsed 0.36s / Remaining 00:00:00:00"
     ]
    },
    {
     "name": "stdout",
     "output_type": "stream",
     "text": [
      "\r",
      " [*********58%*          ] Elapsed 0.36s / Remaining 00:00:00:00"
     ]
    },
    {
     "name": "stdout",
     "output_type": "stream",
     "text": [
      "\r",
      " [*********58%*          ] Elapsed 0.36s / Remaining 00:00:00:00"
     ]
    },
    {
     "name": "stdout",
     "output_type": "stream",
     "text": [
      "\r",
      " [*********58%*          ] Elapsed 0.36s / Remaining 00:00:00:00"
     ]
    },
    {
     "name": "stdout",
     "output_type": "stream",
     "text": [
      "\r",
      " [*********58%*          ] Elapsed 0.36s / Remaining 00:00:00:00"
     ]
    },
    {
     "name": "stdout",
     "output_type": "stream",
     "text": [
      "\r",
      " [*********58%*          ] Elapsed 0.36s / Remaining 00:00:00:00"
     ]
    },
    {
     "name": "stdout",
     "output_type": "stream",
     "text": [
      "\r",
      " [*********59%**         ] Elapsed 0.37s / Remaining 00:00:00:00"
     ]
    },
    {
     "name": "stdout",
     "output_type": "stream",
     "text": [
      "\r",
      " [*********59%**         ] Elapsed 0.37s / Remaining 00:00:00:00"
     ]
    },
    {
     "name": "stdout",
     "output_type": "stream",
     "text": [
      "\r",
      " [*********59%**         ] Elapsed 0.37s / Remaining 00:00:00:00"
     ]
    },
    {
     "name": "stdout",
     "output_type": "stream",
     "text": [
      "\r",
      " [*********59%**         ] Elapsed 0.37s / Remaining 00:00:00:00"
     ]
    },
    {
     "name": "stdout",
     "output_type": "stream",
     "text": [
      "\r",
      " [*********59%**         ] Elapsed 0.37s / Remaining 00:00:00:00"
     ]
    },
    {
     "name": "stdout",
     "output_type": "stream",
     "text": [
      "\r",
      " [*********59%**         ] Elapsed 0.37s / Remaining 00:00:00:00"
     ]
    },
    {
     "name": "stdout",
     "output_type": "stream",
     "text": [
      "\r",
      " [*********60%**         ] Elapsed 0.37s / Remaining 00:00:00:00"
     ]
    },
    {
     "name": "stdout",
     "output_type": "stream",
     "text": [
      "\r",
      " [*********60%**         ] Elapsed 0.37s / Remaining 00:00:00:00"
     ]
    },
    {
     "name": "stdout",
     "output_type": "stream",
     "text": [
      "\r",
      " [*********60%**         ] Elapsed 0.37s / Remaining 00:00:00:00"
     ]
    },
    {
     "name": "stdout",
     "output_type": "stream",
     "text": [
      "\r",
      " [*********60%**         ] Elapsed 0.37s / Remaining 00:00:00:00"
     ]
    },
    {
     "name": "stdout",
     "output_type": "stream",
     "text": [
      "\r",
      " [*********60%**         ] Elapsed 0.37s / Remaining 00:00:00:00"
     ]
    },
    {
     "name": "stdout",
     "output_type": "stream",
     "text": [
      "\r",
      " [*********60%**         ] Elapsed 0.37s / Remaining 00:00:00:00"
     ]
    },
    {
     "name": "stdout",
     "output_type": "stream",
     "text": [
      "\r",
      " [*********61%**         ] Elapsed 0.37s / Remaining 00:00:00:00"
     ]
    },
    {
     "name": "stdout",
     "output_type": "stream",
     "text": [
      "\r",
      " [*********61%**         ] Elapsed 0.38s / Remaining 00:00:00:00"
     ]
    },
    {
     "name": "stdout",
     "output_type": "stream",
     "text": [
      "\r",
      " [*********61%**         ] Elapsed 0.38s / Remaining 00:00:00:00"
     ]
    },
    {
     "name": "stdout",
     "output_type": "stream",
     "text": [
      "\r",
      " [*********61%**         ] Elapsed 0.38s / Remaining 00:00:00:00"
     ]
    },
    {
     "name": "stdout",
     "output_type": "stream",
     "text": [
      "\r",
      " [*********61%**         ] Elapsed 0.38s / Remaining 00:00:00:00"
     ]
    },
    {
     "name": "stdout",
     "output_type": "stream",
     "text": [
      "\r",
      " [*********61%**         ] Elapsed 0.38s / Remaining 00:00:00:00"
     ]
    },
    {
     "name": "stdout",
     "output_type": "stream",
     "text": [
      "\r",
      " [*********62%**         ] Elapsed 0.38s / Remaining 00:00:00:00"
     ]
    },
    {
     "name": "stdout",
     "output_type": "stream",
     "text": [
      "\r",
      " [*********62%**         ] Elapsed 0.38s / Remaining 00:00:00:00"
     ]
    },
    {
     "name": "stdout",
     "output_type": "stream",
     "text": [
      "\r",
      " [*********62%**         ] Elapsed 0.38s / Remaining 00:00:00:00"
     ]
    },
    {
     "name": "stdout",
     "output_type": "stream",
     "text": [
      "\r",
      " [*********62%**         ] Elapsed 0.38s / Remaining 00:00:00:00"
     ]
    },
    {
     "name": "stdout",
     "output_type": "stream",
     "text": [
      "\r",
      " [*********62%**         ] Elapsed 0.38s / Remaining 00:00:00:00"
     ]
    },
    {
     "name": "stdout",
     "output_type": "stream",
     "text": [
      "\r",
      " [*********62%**         ] Elapsed 0.38s / Remaining 00:00:00:00"
     ]
    },
    {
     "name": "stdout",
     "output_type": "stream",
     "text": [
      "\r",
      " [*********63%**         ] Elapsed 0.38s / Remaining 00:00:00:00"
     ]
    },
    {
     "name": "stdout",
     "output_type": "stream",
     "text": [
      "\r",
      " [*********63%**         ] Elapsed 0.38s / Remaining 00:00:00:00"
     ]
    },
    {
     "name": "stdout",
     "output_type": "stream",
     "text": [
      "\r",
      " [*********63%**         ] Elapsed 0.39s / Remaining 00:00:00:00"
     ]
    },
    {
     "name": "stdout",
     "output_type": "stream",
     "text": [
      "\r",
      " [*********63%**         ] Elapsed 0.39s / Remaining 00:00:00:00"
     ]
    },
    {
     "name": "stdout",
     "output_type": "stream",
     "text": [
      "\r",
      " [*********63%**         ] Elapsed 0.39s / Remaining 00:00:00:00"
     ]
    },
    {
     "name": "stdout",
     "output_type": "stream",
     "text": [
      "\r",
      " [*********63%**         ] Elapsed 0.39s / Remaining 00:00:00:00"
     ]
    },
    {
     "name": "stdout",
     "output_type": "stream",
     "text": [
      "\r",
      " [*********64%***        ] Elapsed 0.39s / Remaining 00:00:00:00"
     ]
    },
    {
     "name": "stdout",
     "output_type": "stream",
     "text": [
      "\r",
      " [*********64%***        ] Elapsed 0.39s / Remaining 00:00:00:00"
     ]
    },
    {
     "name": "stdout",
     "output_type": "stream",
     "text": [
      "\r",
      " [*********64%***        ] Elapsed 0.39s / Remaining 00:00:00:00"
     ]
    },
    {
     "name": "stdout",
     "output_type": "stream",
     "text": [
      "\r",
      " [*********64%***        ] Elapsed 0.39s / Remaining 00:00:00:00"
     ]
    },
    {
     "name": "stdout",
     "output_type": "stream",
     "text": [
      "\r",
      " [*********64%***        ] Elapsed 0.39s / Remaining 00:00:00:00"
     ]
    },
    {
     "name": "stdout",
     "output_type": "stream",
     "text": [
      "\r",
      " [*********64%***        ] Elapsed 0.39s / Remaining 00:00:00:00"
     ]
    },
    {
     "name": "stdout",
     "output_type": "stream",
     "text": [
      "\r",
      " [*********65%***        ] Elapsed 0.39s / Remaining 00:00:00:00"
     ]
    },
    {
     "name": "stdout",
     "output_type": "stream",
     "text": [
      "\r",
      " [*********65%***        ] Elapsed 0.39s / Remaining 00:00:00:00"
     ]
    },
    {
     "name": "stdout",
     "output_type": "stream",
     "text": [
      "\r",
      " [*********65%***        ] Elapsed 0.39s / Remaining 00:00:00:00"
     ]
    },
    {
     "name": "stdout",
     "output_type": "stream",
     "text": [
      "\r",
      " [*********65%***        ] Elapsed 0.39s / Remaining 00:00:00:00"
     ]
    },
    {
     "name": "stdout",
     "output_type": "stream",
     "text": [
      "\r",
      " [*********65%***        ] Elapsed 0.40s / Remaining 00:00:00:00"
     ]
    },
    {
     "name": "stdout",
     "output_type": "stream",
     "text": [
      "\r",
      " [*********65%***        ] Elapsed 0.40s / Remaining 00:00:00:00"
     ]
    },
    {
     "name": "stdout",
     "output_type": "stream",
     "text": [
      "\r",
      " [*********66%***        ] Elapsed 0.40s / Remaining 00:00:00:00"
     ]
    },
    {
     "name": "stdout",
     "output_type": "stream",
     "text": [
      "\r",
      " [*********66%***        ] Elapsed 0.40s / Remaining 00:00:00:00"
     ]
    },
    {
     "name": "stdout",
     "output_type": "stream",
     "text": [
      "\r",
      " [*********66%***        ] Elapsed 0.40s / Remaining 00:00:00:00"
     ]
    },
    {
     "name": "stdout",
     "output_type": "stream",
     "text": [
      "\r",
      " [*********66%***        ] Elapsed 0.40s / Remaining 00:00:00:00"
     ]
    },
    {
     "name": "stdout",
     "output_type": "stream",
     "text": [
      "\r",
      " [*********66%***        ] Elapsed 0.40s / Remaining 00:00:00:00"
     ]
    },
    {
     "name": "stdout",
     "output_type": "stream",
     "text": [
      "\r",
      " [*********66%***        ] Elapsed 0.40s / Remaining 00:00:00:00"
     ]
    },
    {
     "name": "stdout",
     "output_type": "stream",
     "text": [
      "\r",
      " [*********67%***        ] Elapsed 0.40s / Remaining 00:00:00:00"
     ]
    },
    {
     "name": "stdout",
     "output_type": "stream",
     "text": [
      "\r",
      " [*********67%***        ] Elapsed 0.40s / Remaining 00:00:00:00"
     ]
    },
    {
     "name": "stdout",
     "output_type": "stream",
     "text": [
      "\r",
      " [*********67%***        ] Elapsed 0.40s / Remaining 00:00:00:00"
     ]
    },
    {
     "name": "stdout",
     "output_type": "stream",
     "text": [
      "\r",
      " [*********67%***        ] Elapsed 0.40s / Remaining 00:00:00:00"
     ]
    },
    {
     "name": "stdout",
     "output_type": "stream",
     "text": [
      "\r",
      " [*********67%***        ] Elapsed 0.40s / Remaining 00:00:00:00"
     ]
    },
    {
     "name": "stdout",
     "output_type": "stream",
     "text": [
      "\r",
      " [*********67%***        ] Elapsed 0.41s / Remaining 00:00:00:00"
     ]
    },
    {
     "name": "stdout",
     "output_type": "stream",
     "text": [
      "\r",
      " [*********68%****       ] Elapsed 0.41s / Remaining 00:00:00:00"
     ]
    },
    {
     "name": "stdout",
     "output_type": "stream",
     "text": [
      "\r",
      " [*********68%****       ] Elapsed 0.41s / Remaining 00:00:00:00"
     ]
    },
    {
     "name": "stdout",
     "output_type": "stream",
     "text": [
      "\r",
      " [*********68%****       ] Elapsed 0.41s / Remaining 00:00:00:00"
     ]
    },
    {
     "name": "stdout",
     "output_type": "stream",
     "text": [
      "\r",
      " [*********68%****       ] Elapsed 0.41s / Remaining 00:00:00:00"
     ]
    },
    {
     "name": "stdout",
     "output_type": "stream",
     "text": [
      "\r",
      " [*********68%****       ] Elapsed 0.41s / Remaining 00:00:00:00"
     ]
    },
    {
     "name": "stdout",
     "output_type": "stream",
     "text": [
      "\r",
      " [*********68%****       ] Elapsed 0.41s / Remaining 00:00:00:00"
     ]
    },
    {
     "name": "stdout",
     "output_type": "stream",
     "text": [
      "\r",
      " [*********69%****       ] Elapsed 0.41s / Remaining 00:00:00:00"
     ]
    },
    {
     "name": "stdout",
     "output_type": "stream",
     "text": [
      "\r",
      " [*********69%****       ] Elapsed 0.41s / Remaining 00:00:00:00"
     ]
    },
    {
     "name": "stdout",
     "output_type": "stream",
     "text": [
      "\r",
      " [*********69%****       ] Elapsed 0.41s / Remaining 00:00:00:00"
     ]
    },
    {
     "name": "stdout",
     "output_type": "stream",
     "text": [
      "\r",
      " [*********69%****       ] Elapsed 0.41s / Remaining 00:00:00:00"
     ]
    },
    {
     "name": "stdout",
     "output_type": "stream",
     "text": [
      "\r",
      " [*********69%****       ] Elapsed 0.41s / Remaining 00:00:00:00"
     ]
    },
    {
     "name": "stdout",
     "output_type": "stream",
     "text": [
      "\r",
      " [*********69%****       ] Elapsed 0.41s / Remaining 00:00:00:00"
     ]
    },
    {
     "name": "stdout",
     "output_type": "stream",
     "text": [
      "\r",
      " [*********70%****       ] Elapsed 0.42s / Remaining 00:00:00:00"
     ]
    },
    {
     "name": "stdout",
     "output_type": "stream",
     "text": [
      "\r",
      " [*********70%****       ] Elapsed 0.42s / Remaining 00:00:00:00"
     ]
    },
    {
     "name": "stdout",
     "output_type": "stream",
     "text": [
      "\r",
      " [*********70%****       ] Elapsed 0.42s / Remaining 00:00:00:00"
     ]
    },
    {
     "name": "stdout",
     "output_type": "stream",
     "text": [
      "\r",
      " [*********70%****       ] Elapsed 0.42s / Remaining 00:00:00:00"
     ]
    },
    {
     "name": "stdout",
     "output_type": "stream",
     "text": [
      "\r",
      " [*********70%****       ] Elapsed 0.42s / Remaining 00:00:00:00"
     ]
    },
    {
     "name": "stdout",
     "output_type": "stream",
     "text": [
      "\r",
      " [*********70%****       ] Elapsed 0.42s / Remaining 00:00:00:00"
     ]
    },
    {
     "name": "stdout",
     "output_type": "stream",
     "text": [
      "\r",
      " [*********71%****       ] Elapsed 0.42s / Remaining 00:00:00:00"
     ]
    },
    {
     "name": "stdout",
     "output_type": "stream",
     "text": [
      "\r",
      " [*********71%****       ] Elapsed 0.42s / Remaining 00:00:00:00"
     ]
    },
    {
     "name": "stdout",
     "output_type": "stream",
     "text": [
      "\r",
      " [*********71%****       ] Elapsed 0.42s / Remaining 00:00:00:00"
     ]
    },
    {
     "name": "stdout",
     "output_type": "stream",
     "text": [
      "\r",
      " [*********71%****       ] Elapsed 0.42s / Remaining 00:00:00:00"
     ]
    },
    {
     "name": "stdout",
     "output_type": "stream",
     "text": [
      "\r",
      " [*********71%****       ] Elapsed 0.42s / Remaining 00:00:00:00"
     ]
    },
    {
     "name": "stdout",
     "output_type": "stream",
     "text": [
      "\r",
      " [*********71%****       ] Elapsed 0.42s / Remaining 00:00:00:00"
     ]
    },
    {
     "name": "stdout",
     "output_type": "stream",
     "text": [
      "\r",
      " [*********72%*****      ] Elapsed 0.42s / Remaining 00:00:00:00"
     ]
    },
    {
     "name": "stdout",
     "output_type": "stream",
     "text": [
      "\r",
      " [*********72%*****      ] Elapsed 0.43s / Remaining 00:00:00:00"
     ]
    },
    {
     "name": "stdout",
     "output_type": "stream",
     "text": [
      "\r",
      " [*********72%*****      ] Elapsed 0.43s / Remaining 00:00:00:00"
     ]
    },
    {
     "name": "stdout",
     "output_type": "stream",
     "text": [
      "\r",
      " [*********72%*****      ] Elapsed 0.43s / Remaining 00:00:00:00"
     ]
    },
    {
     "name": "stdout",
     "output_type": "stream",
     "text": [
      "\r",
      " [*********72%*****      ] Elapsed 0.43s / Remaining 00:00:00:00"
     ]
    },
    {
     "name": "stdout",
     "output_type": "stream",
     "text": [
      "\r",
      " [*********72%*****      ] Elapsed 0.43s / Remaining 00:00:00:00"
     ]
    },
    {
     "name": "stdout",
     "output_type": "stream",
     "text": [
      "\r",
      " [*********73%*****      ] Elapsed 0.43s / Remaining 00:00:00:00"
     ]
    },
    {
     "name": "stdout",
     "output_type": "stream",
     "text": [
      "\r",
      " [*********73%*****      ] Elapsed 0.43s / Remaining 00:00:00:00"
     ]
    },
    {
     "name": "stdout",
     "output_type": "stream",
     "text": [
      "\r",
      " [*********73%*****      ] Elapsed 0.43s / Remaining 00:00:00:00"
     ]
    },
    {
     "name": "stdout",
     "output_type": "stream",
     "text": [
      "\r",
      " [*********73%*****      ] Elapsed 0.43s / Remaining 00:00:00:00"
     ]
    },
    {
     "name": "stdout",
     "output_type": "stream",
     "text": [
      "\r",
      " [*********73%*****      ] Elapsed 0.43s / Remaining 00:00:00:00"
     ]
    },
    {
     "name": "stdout",
     "output_type": "stream",
     "text": [
      "\r",
      " [*********73%*****      ] Elapsed 0.43s / Remaining 00:00:00:00"
     ]
    },
    {
     "name": "stdout",
     "output_type": "stream",
     "text": [
      "\r",
      " [*********74%*****      ] Elapsed 0.43s / Remaining 00:00:00:00"
     ]
    },
    {
     "name": "stdout",
     "output_type": "stream",
     "text": [
      "\r",
      " [*********74%*****      ] Elapsed 0.43s / Remaining 00:00:00:00"
     ]
    },
    {
     "name": "stdout",
     "output_type": "stream",
     "text": [
      "\r",
      " [*********74%*****      ] Elapsed 0.44s / Remaining 00:00:00:00"
     ]
    },
    {
     "name": "stdout",
     "output_type": "stream",
     "text": [
      "\r",
      " [*********74%*****      ] Elapsed 0.44s / Remaining 00:00:00:00"
     ]
    },
    {
     "name": "stdout",
     "output_type": "stream",
     "text": [
      "\r",
      " [*********74%*****      ] Elapsed 0.44s / Remaining 00:00:00:00"
     ]
    },
    {
     "name": "stdout",
     "output_type": "stream",
     "text": [
      "\r",
      " [*********74%*****      ] Elapsed 0.44s / Remaining 00:00:00:00"
     ]
    },
    {
     "name": "stdout",
     "output_type": "stream",
     "text": [
      "\r",
      " [*********75%*****      ] Elapsed 0.44s / Remaining 00:00:00:00"
     ]
    },
    {
     "name": "stdout",
     "output_type": "stream",
     "text": [
      "\r",
      " [*********75%*****      ] Elapsed 0.44s / Remaining 00:00:00:00"
     ]
    },
    {
     "name": "stdout",
     "output_type": "stream",
     "text": [
      "\r",
      " [*********75%*****      ] Elapsed 0.44s / Remaining 00:00:00:00"
     ]
    },
    {
     "name": "stdout",
     "output_type": "stream",
     "text": [
      "\r",
      " [*********75%*****      ] Elapsed 0.44s / Remaining 00:00:00:00"
     ]
    },
    {
     "name": "stdout",
     "output_type": "stream",
     "text": [
      "\r",
      " [*********75%*****      ] Elapsed 0.44s / Remaining 00:00:00:00"
     ]
    },
    {
     "name": "stdout",
     "output_type": "stream",
     "text": [
      "\r",
      " [*********75%*****      ] Elapsed 0.44s / Remaining 00:00:00:00"
     ]
    },
    {
     "name": "stdout",
     "output_type": "stream",
     "text": [
      "\r",
      " [*********76%*****      ] Elapsed 0.44s / Remaining 00:00:00:00"
     ]
    },
    {
     "name": "stdout",
     "output_type": "stream",
     "text": [
      "\r",
      " [*********76%*****      ] Elapsed 0.44s / Remaining 00:00:00:00"
     ]
    },
    {
     "name": "stdout",
     "output_type": "stream",
     "text": [
      "\r",
      " [*********76%*****      ] Elapsed 0.44s / Remaining 00:00:00:00"
     ]
    },
    {
     "name": "stdout",
     "output_type": "stream",
     "text": [
      "\r",
      " [*********76%*****      ] Elapsed 0.44s / Remaining 00:00:00:00"
     ]
    },
    {
     "name": "stdout",
     "output_type": "stream",
     "text": [
      "\r",
      " [*********76%*****      ] Elapsed 0.45s / Remaining 00:00:00:00"
     ]
    },
    {
     "name": "stdout",
     "output_type": "stream",
     "text": [
      "\r",
      " [*********76%*****      ] Elapsed 0.45s / Remaining 00:00:00:00"
     ]
    },
    {
     "name": "stdout",
     "output_type": "stream",
     "text": [
      "\r",
      " [*********77%******     ] Elapsed 0.45s / Remaining 00:00:00:00"
     ]
    },
    {
     "name": "stdout",
     "output_type": "stream",
     "text": [
      "\r",
      " [*********77%******     ] Elapsed 0.45s / Remaining 00:00:00:00"
     ]
    },
    {
     "name": "stdout",
     "output_type": "stream",
     "text": [
      "\r",
      " [*********77%******     ] Elapsed 0.45s / Remaining 00:00:00:00"
     ]
    },
    {
     "name": "stdout",
     "output_type": "stream",
     "text": [
      "\r",
      " [*********77%******     ] Elapsed 0.45s / Remaining 00:00:00:00"
     ]
    },
    {
     "name": "stdout",
     "output_type": "stream",
     "text": [
      "\r",
      " [*********77%******     ] Elapsed 0.45s / Remaining 00:00:00:00"
     ]
    },
    {
     "name": "stdout",
     "output_type": "stream",
     "text": [
      "\r",
      " [*********77%******     ] Elapsed 0.45s / Remaining 00:00:00:00"
     ]
    },
    {
     "name": "stdout",
     "output_type": "stream",
     "text": [
      "\r",
      " [*********78%******     ] Elapsed 0.45s / Remaining 00:00:00:00"
     ]
    },
    {
     "name": "stdout",
     "output_type": "stream",
     "text": [
      "\r",
      " [*********78%******     ] Elapsed 0.45s / Remaining 00:00:00:00"
     ]
    },
    {
     "name": "stdout",
     "output_type": "stream",
     "text": [
      "\r",
      " [*********78%******     ] Elapsed 0.45s / Remaining 00:00:00:00"
     ]
    },
    {
     "name": "stdout",
     "output_type": "stream",
     "text": [
      "\r",
      " [*********78%******     ] Elapsed 0.45s / Remaining 00:00:00:00"
     ]
    },
    {
     "name": "stdout",
     "output_type": "stream",
     "text": [
      "\r",
      " [*********78%******     ] Elapsed 0.45s / Remaining 00:00:00:00"
     ]
    },
    {
     "name": "stdout",
     "output_type": "stream",
     "text": [
      "\r",
      " [*********78%******     ] Elapsed 0.46s / Remaining 00:00:00:00"
     ]
    },
    {
     "name": "stdout",
     "output_type": "stream",
     "text": [
      "\r",
      " [*********79%******     ] Elapsed 0.46s / Remaining 00:00:00:00"
     ]
    },
    {
     "name": "stdout",
     "output_type": "stream",
     "text": [
      "\r",
      " [*********79%******     ] Elapsed 0.46s / Remaining 00:00:00:00"
     ]
    },
    {
     "name": "stdout",
     "output_type": "stream",
     "text": [
      "\r",
      " [*********79%******     ] Elapsed 0.46s / Remaining 00:00:00:00"
     ]
    },
    {
     "name": "stdout",
     "output_type": "stream",
     "text": [
      "\r",
      " [*********79%******     ] Elapsed 0.46s / Remaining 00:00:00:00"
     ]
    },
    {
     "name": "stdout",
     "output_type": "stream",
     "text": [
      "\r",
      " [*********79%******     ] Elapsed 0.46s / Remaining 00:00:00:00"
     ]
    },
    {
     "name": "stdout",
     "output_type": "stream",
     "text": [
      "\r",
      " [*********79%******     ] Elapsed 0.46s / Remaining 00:00:00:00"
     ]
    },
    {
     "name": "stdout",
     "output_type": "stream",
     "text": [
      "\r",
      " [*********80%******     ] Elapsed 0.46s / Remaining 00:00:00:00"
     ]
    },
    {
     "name": "stdout",
     "output_type": "stream",
     "text": [
      "\r",
      " [*********80%******     ] Elapsed 0.46s / Remaining 00:00:00:00"
     ]
    },
    {
     "name": "stdout",
     "output_type": "stream",
     "text": [
      "\r",
      " [*********80%******     ] Elapsed 0.46s / Remaining 00:00:00:00"
     ]
    },
    {
     "name": "stdout",
     "output_type": "stream",
     "text": [
      "\r",
      " [*********80%******     ] Elapsed 0.46s / Remaining 00:00:00:00"
     ]
    },
    {
     "name": "stdout",
     "output_type": "stream",
     "text": [
      "\r",
      " [*********80%******     ] Elapsed 0.46s / Remaining 00:00:00:00"
     ]
    },
    {
     "name": "stdout",
     "output_type": "stream",
     "text": [
      "\r",
      " [*********80%******     ] Elapsed 0.46s / Remaining 00:00:00:00"
     ]
    },
    {
     "name": "stdout",
     "output_type": "stream",
     "text": [
      "\r",
      " [*********81%*******    ] Elapsed 0.46s / Remaining 00:00:00:00"
     ]
    },
    {
     "name": "stdout",
     "output_type": "stream",
     "text": [
      "\r",
      " [*********81%*******    ] Elapsed 0.47s / Remaining 00:00:00:00"
     ]
    },
    {
     "name": "stdout",
     "output_type": "stream",
     "text": [
      "\r",
      " [*********81%*******    ] Elapsed 0.47s / Remaining 00:00:00:00"
     ]
    },
    {
     "name": "stdout",
     "output_type": "stream",
     "text": [
      "\r",
      " [*********81%*******    ] Elapsed 0.47s / Remaining 00:00:00:00"
     ]
    },
    {
     "name": "stdout",
     "output_type": "stream",
     "text": [
      "\r",
      " [*********81%*******    ] Elapsed 0.47s / Remaining 00:00:00:00"
     ]
    },
    {
     "name": "stdout",
     "output_type": "stream",
     "text": [
      "\r",
      " [*********81%*******    ] Elapsed 0.47s / Remaining 00:00:00:00"
     ]
    },
    {
     "name": "stdout",
     "output_type": "stream",
     "text": [
      "\r",
      " [*********82%*******    ] Elapsed 0.47s / Remaining 00:00:00:00"
     ]
    },
    {
     "name": "stdout",
     "output_type": "stream",
     "text": [
      "\r",
      " [*********82%*******    ] Elapsed 0.47s / Remaining 00:00:00:00"
     ]
    },
    {
     "name": "stdout",
     "output_type": "stream",
     "text": [
      "\r",
      " [*********82%*******    ] Elapsed 0.47s / Remaining 00:00:00:00"
     ]
    },
    {
     "name": "stdout",
     "output_type": "stream",
     "text": [
      "\r",
      " [*********82%*******    ] Elapsed 0.47s / Remaining 00:00:00:00"
     ]
    },
    {
     "name": "stdout",
     "output_type": "stream",
     "text": [
      "\r",
      " [*********82%*******    ] Elapsed 0.47s / Remaining 00:00:00:00"
     ]
    },
    {
     "name": "stdout",
     "output_type": "stream",
     "text": [
      "\r",
      " [*********82%*******    ] Elapsed 0.47s / Remaining 00:00:00:00"
     ]
    },
    {
     "name": "stdout",
     "output_type": "stream",
     "text": [
      "\r",
      " [*********83%*******    ] Elapsed 0.47s / Remaining 00:00:00:00"
     ]
    },
    {
     "name": "stdout",
     "output_type": "stream",
     "text": [
      "\r",
      " [*********83%*******    ] Elapsed 0.47s / Remaining 00:00:00:00"
     ]
    },
    {
     "name": "stdout",
     "output_type": "stream",
     "text": [
      "\r",
      " [*********83%*******    ] Elapsed 0.48s / Remaining 00:00:00:00"
     ]
    },
    {
     "name": "stdout",
     "output_type": "stream",
     "text": [
      "\r",
      " [*********83%*******    ] Elapsed 0.48s / Remaining 00:00:00:00"
     ]
    },
    {
     "name": "stdout",
     "output_type": "stream",
     "text": [
      "\r",
      " [*********83%*******    ] Elapsed 0.48s / Remaining 00:00:00:00"
     ]
    },
    {
     "name": "stdout",
     "output_type": "stream",
     "text": [
      "\r",
      " [*********83%*******    ] Elapsed 0.48s / Remaining 00:00:00:00"
     ]
    },
    {
     "name": "stdout",
     "output_type": "stream",
     "text": [
      "\r",
      " [*********84%*******    ] Elapsed 0.48s / Remaining 00:00:00:00"
     ]
    },
    {
     "name": "stdout",
     "output_type": "stream",
     "text": [
      "\r",
      " [*********84%*******    ] Elapsed 0.48s / Remaining 00:00:00:00"
     ]
    },
    {
     "name": "stdout",
     "output_type": "stream",
     "text": [
      "\r",
      " [*********84%*******    ] Elapsed 0.48s / Remaining 00:00:00:00"
     ]
    },
    {
     "name": "stdout",
     "output_type": "stream",
     "text": [
      "\r",
      " [*********84%*******    ] Elapsed 0.48s / Remaining 00:00:00:00"
     ]
    },
    {
     "name": "stdout",
     "output_type": "stream",
     "text": [
      "\r",
      " [*********84%*******    ] Elapsed 0.48s / Remaining 00:00:00:00"
     ]
    },
    {
     "name": "stdout",
     "output_type": "stream",
     "text": [
      "\r",
      " [*********84%*******    ] Elapsed 0.48s / Remaining 00:00:00:00"
     ]
    },
    {
     "name": "stdout",
     "output_type": "stream",
     "text": [
      "\r",
      " [*********85%********   ] Elapsed 0.48s / Remaining 00:00:00:00"
     ]
    },
    {
     "name": "stdout",
     "output_type": "stream",
     "text": [
      "\r",
      " [*********85%********   ] Elapsed 0.48s / Remaining 00:00:00:00"
     ]
    },
    {
     "name": "stdout",
     "output_type": "stream",
     "text": [
      "\r",
      " [*********85%********   ] Elapsed 0.48s / Remaining 00:00:00:00"
     ]
    },
    {
     "name": "stdout",
     "output_type": "stream",
     "text": [
      "\r",
      " [*********85%********   ] Elapsed 0.49s / Remaining 00:00:00:00"
     ]
    },
    {
     "name": "stdout",
     "output_type": "stream",
     "text": [
      "\r",
      " [*********85%********   ] Elapsed 0.49s / Remaining 00:00:00:00"
     ]
    },
    {
     "name": "stdout",
     "output_type": "stream",
     "text": [
      "\r",
      " [*********85%********   ] Elapsed 0.49s / Remaining 00:00:00:00"
     ]
    },
    {
     "name": "stdout",
     "output_type": "stream",
     "text": [
      "\r",
      " [*********86%********   ] Elapsed 0.49s / Remaining 00:00:00:00"
     ]
    },
    {
     "name": "stdout",
     "output_type": "stream",
     "text": [
      "\r",
      " [*********86%********   ] Elapsed 0.49s / Remaining 00:00:00:00"
     ]
    },
    {
     "name": "stdout",
     "output_type": "stream",
     "text": [
      "\r",
      " [*********86%********   ] Elapsed 0.49s / Remaining 00:00:00:00"
     ]
    },
    {
     "name": "stdout",
     "output_type": "stream",
     "text": [
      "\r"
     ]
    },
    {
     "name": "stdout",
     "output_type": "stream",
     "text": [
      " [*********86%********   ] Elapsed 0.49s / Remaining 00:00:00:00"
     ]
    },
    {
     "name": "stdout",
     "output_type": "stream",
     "text": [
      "\r",
      " [*********86%********   ] Elapsed 0.49s / Remaining 00:00:00:00"
     ]
    },
    {
     "name": "stdout",
     "output_type": "stream",
     "text": [
      "\r",
      " [*********86%********   ] Elapsed 0.49s / Remaining 00:00:00:00"
     ]
    },
    {
     "name": "stdout",
     "output_type": "stream",
     "text": [
      "\r",
      " [*********87%********   ] Elapsed 0.49s / Remaining 00:00:00:00"
     ]
    },
    {
     "name": "stdout",
     "output_type": "stream",
     "text": [
      "\r",
      " [*********87%********   ] Elapsed 0.50s / Remaining 00:00:00:00"
     ]
    },
    {
     "name": "stdout",
     "output_type": "stream",
     "text": [
      "\r",
      " [*********87%********   ] Elapsed 0.50s / Remaining 00:00:00:00"
     ]
    },
    {
     "name": "stdout",
     "output_type": "stream",
     "text": [
      "\r",
      " [*********87%********   ] Elapsed 0.50s / Remaining 00:00:00:00"
     ]
    },
    {
     "name": "stdout",
     "output_type": "stream",
     "text": [
      "\r",
      " [*********87%********   ] Elapsed 0.50s / Remaining 00:00:00:00"
     ]
    },
    {
     "name": "stdout",
     "output_type": "stream",
     "text": [
      "\r",
      " [*********87%********   ] Elapsed 0.50s / Remaining 00:00:00:00"
     ]
    },
    {
     "name": "stdout",
     "output_type": "stream",
     "text": [
      "\r",
      " [*********88%********   ] Elapsed 0.50s / Remaining 00:00:00:00"
     ]
    },
    {
     "name": "stdout",
     "output_type": "stream",
     "text": [
      "\r",
      " [*********88%********   ] Elapsed 0.50s / Remaining 00:00:00:00"
     ]
    },
    {
     "name": "stdout",
     "output_type": "stream",
     "text": [
      "\r",
      " [*********88%********   ] Elapsed 0.50s / Remaining 00:00:00:00"
     ]
    },
    {
     "name": "stdout",
     "output_type": "stream",
     "text": [
      "\r"
     ]
    },
    {
     "name": "stdout",
     "output_type": "stream",
     "text": [
      " [*********88%********   ] Elapsed 0.50s / Remaining 00:00:00:00"
     ]
    },
    {
     "name": "stdout",
     "output_type": "stream",
     "text": [
      "\r",
      " [*********88%********   ] Elapsed 0.51s / Remaining 00:00:00:00"
     ]
    },
    {
     "name": "stdout",
     "output_type": "stream",
     "text": [
      "\r",
      " [*********88%********   ] Elapsed 0.51s / Remaining 00:00:00:00"
     ]
    },
    {
     "name": "stdout",
     "output_type": "stream",
     "text": [
      "\r",
      " [*********89%********   ] Elapsed 0.51s / Remaining 00:00:00:00"
     ]
    },
    {
     "name": "stdout",
     "output_type": "stream",
     "text": [
      "\r",
      " [*********89%********   ] Elapsed 0.51s / Remaining 00:00:00:00"
     ]
    },
    {
     "name": "stdout",
     "output_type": "stream",
     "text": [
      "\r",
      " [*********89%********   ] Elapsed 0.51s / Remaining 00:00:00:00"
     ]
    },
    {
     "name": "stdout",
     "output_type": "stream",
     "text": [
      "\r",
      " [*********89%********   ] Elapsed 0.51s / Remaining 00:00:00:00"
     ]
    },
    {
     "name": "stdout",
     "output_type": "stream",
     "text": [
      "\r",
      " [*********89%********   ] Elapsed 0.51s / Remaining 00:00:00:00"
     ]
    },
    {
     "name": "stdout",
     "output_type": "stream",
     "text": [
      "\r",
      " [*********89%********   ] Elapsed 0.51s / Remaining 00:00:00:00"
     ]
    },
    {
     "name": "stdout",
     "output_type": "stream",
     "text": [
      "\r",
      " [*********90%*********  ] Elapsed 0.51s / Remaining 00:00:00:00"
     ]
    },
    {
     "name": "stdout",
     "output_type": "stream",
     "text": [
      "\r",
      " [*********90%*********  ] Elapsed 0.51s / Remaining 00:00:00:00"
     ]
    },
    {
     "name": "stdout",
     "output_type": "stream",
     "text": [
      "\r",
      " [*********90%*********  ] Elapsed 0.51s / Remaining 00:00:00:00"
     ]
    },
    {
     "name": "stdout",
     "output_type": "stream",
     "text": [
      "\r"
     ]
    },
    {
     "name": "stdout",
     "output_type": "stream",
     "text": [
      " [*********90%*********  ] Elapsed 0.51s / Remaining 00:00:00:00"
     ]
    },
    {
     "name": "stdout",
     "output_type": "stream",
     "text": [
      "\r",
      " [*********90%*********  ] Elapsed 0.52s / Remaining 00:00:00:00"
     ]
    },
    {
     "name": "stdout",
     "output_type": "stream",
     "text": [
      "\r",
      " [*********90%*********  ] Elapsed 0.52s / Remaining 00:00:00:00"
     ]
    },
    {
     "name": "stdout",
     "output_type": "stream",
     "text": [
      "\r",
      " [*********91%*********  ] Elapsed 0.52s / Remaining 00:00:00:00"
     ]
    },
    {
     "name": "stdout",
     "output_type": "stream",
     "text": [
      "\r",
      " [*********91%*********  ] Elapsed 0.52s / Remaining 00:00:00:00"
     ]
    },
    {
     "name": "stdout",
     "output_type": "stream",
     "text": [
      "\r",
      " [*********91%*********  ] Elapsed 0.52s / Remaining 00:00:00:00"
     ]
    },
    {
     "name": "stdout",
     "output_type": "stream",
     "text": [
      "\r",
      " [*********91%*********  ] Elapsed 0.52s / Remaining 00:00:00:00"
     ]
    },
    {
     "name": "stdout",
     "output_type": "stream",
     "text": [
      "\r"
     ]
    },
    {
     "name": "stdout",
     "output_type": "stream",
     "text": [
      " [*********91%*********  ] Elapsed 0.52s / Remaining 00:00:00:00"
     ]
    },
    {
     "name": "stdout",
     "output_type": "stream",
     "text": [
      "\r",
      " [*********91%*********  ] Elapsed 0.52s / Remaining 00:00:00:00"
     ]
    },
    {
     "name": "stdout",
     "output_type": "stream",
     "text": [
      "\r"
     ]
    },
    {
     "name": "stdout",
     "output_type": "stream",
     "text": [
      " [*********92%*********  ] Elapsed 0.52s / Remaining 00:00:00:00"
     ]
    },
    {
     "name": "stdout",
     "output_type": "stream",
     "text": [
      "\r",
      " [*********92%*********  ] Elapsed 0.52s / Remaining 00:00:00:00"
     ]
    },
    {
     "name": "stdout",
     "output_type": "stream",
     "text": [
      "\r",
      " [*********92%*********  ] Elapsed 0.52s / Remaining 00:00:00:00"
     ]
    },
    {
     "name": "stdout",
     "output_type": "stream",
     "text": [
      "\r",
      " [*********92%*********  ] Elapsed 0.52s / Remaining 00:00:00:00"
     ]
    },
    {
     "name": "stdout",
     "output_type": "stream",
     "text": [
      "\r",
      " [*********92%*********  ] Elapsed 0.52s / Remaining 00:00:00:00"
     ]
    },
    {
     "name": "stdout",
     "output_type": "stream",
     "text": [
      "\r",
      " [*********92%*********  ] Elapsed 0.53s / Remaining 00:00:00:00"
     ]
    },
    {
     "name": "stdout",
     "output_type": "stream",
     "text": [
      "\r",
      " [*********93%*********  ] Elapsed 0.53s / Remaining 00:00:00:00"
     ]
    },
    {
     "name": "stdout",
     "output_type": "stream",
     "text": [
      "\r",
      " [*********93%*********  ] Elapsed 0.53s / Remaining 00:00:00:00"
     ]
    },
    {
     "name": "stdout",
     "output_type": "stream",
     "text": [
      "\r",
      " [*********93%*********  ] Elapsed 0.53s / Remaining 00:00:00:00"
     ]
    },
    {
     "name": "stdout",
     "output_type": "stream",
     "text": [
      "\r",
      " [*********93%*********  ] Elapsed 0.53s / Remaining 00:00:00:00"
     ]
    },
    {
     "name": "stdout",
     "output_type": "stream",
     "text": [
      "\r"
     ]
    },
    {
     "name": "stdout",
     "output_type": "stream",
     "text": [
      " [*********93%*********  ] Elapsed 0.53s / Remaining 00:00:00:00"
     ]
    },
    {
     "name": "stdout",
     "output_type": "stream",
     "text": [
      "\r",
      " [*********93%*********  ] Elapsed 0.53s / Remaining 00:00:00:00"
     ]
    },
    {
     "name": "stdout",
     "output_type": "stream",
     "text": [
      "\r",
      " [*********94%********** ] Elapsed 0.53s / Remaining 00:00:00:00"
     ]
    },
    {
     "name": "stdout",
     "output_type": "stream",
     "text": [
      "\r",
      " [*********94%********** ] Elapsed 0.53s / Remaining 00:00:00:00"
     ]
    },
    {
     "name": "stdout",
     "output_type": "stream",
     "text": [
      "\r",
      " [*********94%********** ] Elapsed 0.53s / Remaining 00:00:00:00"
     ]
    },
    {
     "name": "stdout",
     "output_type": "stream",
     "text": [
      "\r",
      " [*********94%********** ] Elapsed 0.53s / Remaining 00:00:00:00"
     ]
    },
    {
     "name": "stdout",
     "output_type": "stream",
     "text": [
      "\r",
      " [*********94%********** ] Elapsed 0.53s / Remaining 00:00:00:00"
     ]
    },
    {
     "name": "stdout",
     "output_type": "stream",
     "text": [
      "\r",
      " [*********94%********** ] Elapsed 0.53s / Remaining 00:00:00:00"
     ]
    },
    {
     "name": "stdout",
     "output_type": "stream",
     "text": [
      "\r",
      " [*********95%********** ] Elapsed 0.54s / Remaining 00:00:00:00"
     ]
    },
    {
     "name": "stdout",
     "output_type": "stream",
     "text": [
      "\r",
      " [*********95%********** ] Elapsed 0.54s / Remaining 00:00:00:00"
     ]
    },
    {
     "name": "stdout",
     "output_type": "stream",
     "text": [
      "\r",
      " [*********95%********** ] Elapsed 0.54s / Remaining 00:00:00:00"
     ]
    },
    {
     "name": "stdout",
     "output_type": "stream",
     "text": [
      "\r",
      " [*********95%********** ] Elapsed 0.54s / Remaining 00:00:00:00"
     ]
    },
    {
     "name": "stdout",
     "output_type": "stream",
     "text": [
      "\r",
      " [*********95%********** ] Elapsed 0.54s / Remaining 00:00:00:00"
     ]
    },
    {
     "name": "stdout",
     "output_type": "stream",
     "text": [
      "\r",
      " [*********95%********** ] Elapsed 0.54s / Remaining 00:00:00:00"
     ]
    },
    {
     "name": "stdout",
     "output_type": "stream",
     "text": [
      "\r",
      " [*********96%********** ] Elapsed 0.54s / Remaining 00:00:00:00"
     ]
    },
    {
     "name": "stdout",
     "output_type": "stream",
     "text": [
      "\r",
      " [*********96%********** ] Elapsed 0.54s / Remaining 00:00:00:00"
     ]
    },
    {
     "name": "stdout",
     "output_type": "stream",
     "text": [
      "\r",
      " [*********96%********** ] Elapsed 0.54s / Remaining 00:00:00:00"
     ]
    },
    {
     "name": "stdout",
     "output_type": "stream",
     "text": [
      "\r"
     ]
    },
    {
     "name": "stdout",
     "output_type": "stream",
     "text": [
      " [*********96%********** ] Elapsed 0.54s / Remaining 00:00:00:00"
     ]
    },
    {
     "name": "stdout",
     "output_type": "stream",
     "text": [
      "\r"
     ]
    },
    {
     "name": "stdout",
     "output_type": "stream",
     "text": [
      " [*********96%********** ] Elapsed 0.54s / Remaining 00:00:00:00"
     ]
    },
    {
     "name": "stdout",
     "output_type": "stream",
     "text": [
      "\r",
      " [*********96%********** ] Elapsed 0.54s / Remaining 00:00:00:00"
     ]
    },
    {
     "name": "stdout",
     "output_type": "stream",
     "text": [
      "\r"
     ]
    },
    {
     "name": "stdout",
     "output_type": "stream",
     "text": [
      " [*********97%********** ] Elapsed 0.55s / Remaining 00:00:00:00"
     ]
    },
    {
     "name": "stdout",
     "output_type": "stream",
     "text": [
      "\r",
      " [*********97%********** ] Elapsed 0.55s / Remaining 00:00:00:00"
     ]
    },
    {
     "name": "stdout",
     "output_type": "stream",
     "text": [
      "\r",
      " [*********97%********** ] Elapsed 0.55s / Remaining 00:00:00:00"
     ]
    },
    {
     "name": "stdout",
     "output_type": "stream",
     "text": [
      "\r",
      " [*********97%********** ] Elapsed 0.55s / Remaining 00:00:00:00"
     ]
    },
    {
     "name": "stdout",
     "output_type": "stream",
     "text": [
      "\r",
      " [*********97%********** ] Elapsed 0.55s / Remaining 00:00:00:00"
     ]
    },
    {
     "name": "stdout",
     "output_type": "stream",
     "text": [
      "\r",
      " [*********97%********** ] Elapsed 0.55s / Remaining 00:00:00:00"
     ]
    },
    {
     "name": "stdout",
     "output_type": "stream",
     "text": [
      "\r",
      " [*********98%***********] Elapsed 0.55s / Remaining 00:00:00:00"
     ]
    },
    {
     "name": "stdout",
     "output_type": "stream",
     "text": [
      "\r",
      " [*********98%***********] Elapsed 0.55s / Remaining 00:00:00:00"
     ]
    },
    {
     "name": "stdout",
     "output_type": "stream",
     "text": [
      "\r",
      " [*********98%***********] Elapsed 0.55s / Remaining 00:00:00:00"
     ]
    },
    {
     "name": "stdout",
     "output_type": "stream",
     "text": [
      "\r",
      " [*********98%***********] Elapsed 0.55s / Remaining 00:00:00:00"
     ]
    },
    {
     "name": "stdout",
     "output_type": "stream",
     "text": [
      "\r"
     ]
    },
    {
     "name": "stdout",
     "output_type": "stream",
     "text": [
      " [*********98%***********] Elapsed 0.55s / Remaining 00:00:00:00"
     ]
    },
    {
     "name": "stdout",
     "output_type": "stream",
     "text": [
      "\r",
      " [*********98%***********] Elapsed 0.55s / Remaining 00:00:00:00"
     ]
    },
    {
     "name": "stdout",
     "output_type": "stream",
     "text": [
      "\r",
      " [*********99%***********] Elapsed 0.55s / Remaining 00:00:00:00"
     ]
    },
    {
     "name": "stdout",
     "output_type": "stream",
     "text": [
      "\r",
      " [*********99%***********] Elapsed 0.56s / Remaining 00:00:00:00"
     ]
    },
    {
     "name": "stdout",
     "output_type": "stream",
     "text": [
      "\r",
      " [*********99%***********] Elapsed 0.56s / Remaining 00:00:00:00"
     ]
    },
    {
     "name": "stdout",
     "output_type": "stream",
     "text": [
      "\r",
      " [*********99%***********] Elapsed 0.56s / Remaining 00:00:00:00"
     ]
    },
    {
     "name": "stdout",
     "output_type": "stream",
     "text": [
      "\r",
      " [*********99%***********] Elapsed 0.56s / Remaining 00:00:00:00"
     ]
    },
    {
     "name": "stdout",
     "output_type": "stream",
     "text": [
      "\r",
      " [*********99%***********] Elapsed 0.56s / Remaining 00:00:00:00"
     ]
    },
    {
     "name": "stdout",
     "output_type": "stream",
     "text": [
      "\r",
      " [********100%***********] Elapsed 0.56s / Remaining 00:00:00:00"
     ]
    },
    {
     "name": "stdout",
     "output_type": "stream",
     "text": [
      "\r"
     ]
    },
    {
     "name": "stdout",
     "output_type": "stream",
     "text": [
      " [********100%***********] Elapsed 0.56s / Remaining 00:00:00:00"
     ]
    },
    {
     "name": "stdout",
     "output_type": "stream",
     "text": [
      "\r",
      " [********100%***********] Elapsed 0.56s / Remaining 00:00:00:00"
     ]
    },
    {
     "name": "stdout",
     "output_type": "stream",
     "text": [
      "\r",
      " Total run time:   0.56s\n",
      "ODE solver time: 0.5616092681884766\n"
     ]
    }
   ],
   "source": [
    "with timer(\"RHS construction time\"):\n",
    "    bath = DrudeLorentzPadeBath(Q, lam=lam, gamma=gamma, T=T, Nk=Nk)\n",
    "    HEOMPade = HEOMSolver(Hsys, bath, NC, options=options)\n",
    "\n",
    "with timer(\"ODE solver time\"):\n",
    "    resultPade = HEOMPade.run(rho0, tlist)"
   ]
  },
  {
   "cell_type": "code",
   "execution_count": 15,
   "id": "e768566a",
   "metadata": {
    "execution": {
     "iopub.execute_input": "2023-03-15T08:41:08.038221Z",
     "iopub.status.busy": "2023-03-15T08:41:08.037853Z",
     "iopub.status.idle": "2023-03-15T08:41:08.202032Z",
     "shell.execute_reply": "2023-03-15T08:41:08.201400Z"
    }
   },
   "outputs": [
    {
     "data": {
      "image/png": "[encoded data removed]",
      "text/plain": [
       "<Figure size 800x800 with 1 Axes>"
      ]
     },
     "metadata": {},
     "output_type": "display_data"
    }
   ],
   "source": [
    "# Plot the results\n",
    "fig, axes = plt.subplots(figsize=(8, 8))\n",
    "\n",
    "axes.plot(\n",
    "    tlist, np.real(P11_mats),\n",
    "    'b', linewidth=2, label=\"P11 (Matsubara)\",\n",
    ")\n",
    "axes.plot(\n",
    "    tlist, np.real(P11_matsT),\n",
    "    'b--', linewidth=2, label=\"P11 (Matsubara + Terminator)\",\n",
    ")\n",
    "\n",
    "P11_pade = np.real(expect(resultPade.states, P11p))\n",
    "axes.plot(\n",
    "    tlist, np.real(P11_pade),\n",
    "    'r', linewidth=2, label=\"P11 (Pade)\",\n",
    ")\n",
    "\n",
    "axes.set_xlabel(r't', fontsize=28)\n",
    "axes.legend(loc=0, fontsize=12);"
   ]
  },
  {
   "cell_type": "markdown",
   "id": "1c3a1300",
   "metadata": {},
   "source": [
    "## Simulation 4: Fitting approach"
   ]
  },
  {
   "cell_type": "code",
   "execution_count": 16,
   "id": "206be583",
   "metadata": {
    "execution": {
     "iopub.execute_input": "2023-03-15T08:41:08.204969Z",
     "iopub.status.busy": "2023-03-15T08:41:08.204553Z",
     "iopub.status.idle": "2023-03-15T08:41:08.211236Z",
     "shell.execute_reply": "2023-03-15T08:41:08.210647Z"
    }
   },
   "outputs": [],
   "source": [
    "def wrapper_fit_func(x, N, args):\n",
    "    \"\"\" Fit function wrapper that unpacks its arguments. \"\"\"\n",
    "    x = np.array(x)\n",
    "    a = np.array(args[:N])\n",
    "    b = np.array(args[N:2 * N])\n",
    "    return fit_func(x, a, b)\n",
    "\n",
    "\n",
    "def fit_func(x, a, b):\n",
    "    \"\"\" Fit function. Calculates the value of the\n",
    "        correlation function at each x, given the\n",
    "        fit parameters in a and b.\n",
    "    \"\"\"\n",
    "    return np.sum(\n",
    "        a[:, None] * np.exp(np.multiply.outer(b, x)),\n",
    "        axis=0,\n",
    "    )\n",
    "\n",
    "\n",
    "def fitter(ans, tlist, k):\n",
    "    \"\"\" Compute fit with k exponents. \"\"\"\n",
    "    upper_a = abs(max(ans, key=abs)) * 10\n",
    "    # sets initial guesses:\n",
    "    guess = (\n",
    "        [upper_a / k] * k +  # guesses for a\n",
    "        [0] * k  # guesses for b\n",
    "    )\n",
    "    # sets lower bounds:\n",
    "    b_lower = (\n",
    "        [-upper_a] * k +  # lower bounds for a\n",
    "        [-np.inf] * k  # lower bounds for b\n",
    "    )\n",
    "    # sets higher bounds:\n",
    "    b_higher = (\n",
    "        [upper_a] * k +  # upper bounds for a\n",
    "        [0] * k  # upper bounds for b\n",
    "    )\n",
    "    param_bounds = (b_lower, b_higher)\n",
    "    p1, p2 = curve_fit(\n",
    "        lambda x, *params_0: wrapper_fit_func(x, k, params_0),\n",
    "        tlist,\n",
    "        ans,\n",
    "        p0=guess,\n",
    "        sigma=[0.01 for t in tlist],\n",
    "        bounds=param_bounds,\n",
    "        maxfev=1e8,\n",
    "    )\n",
    "    a, b = p1[:k], p1[k:]\n",
    "    return (a, b)"
   ]
  },
  {
   "cell_type": "code",
   "execution_count": 17,
   "id": "6290d0df",
   "metadata": {
    "execution": {
     "iopub.execute_input": "2023-03-15T08:41:08.213833Z",
     "iopub.status.busy": "2023-03-15T08:41:08.213463Z",
     "iopub.status.idle": "2023-03-15T08:41:08.933741Z",
     "shell.execute_reply": "2023-03-15T08:41:08.933224Z"
    }
   },
   "outputs": [
    {
     "name": "stdout",
     "output_type": "stream",
     "text": [
      "Correlation (real) fitting time: 0.14359211921691895\n"
     ]
    }
   ],
   "source": [
    "# Fitting the real part of the correlation function:\n",
    "\n",
    "# Correlation function values to fit:\n",
    "tlist_fit = np.linspace(0, 6, 10000)\n",
    "corrRana = CR(exactBath, tlist_fit)\n",
    "\n",
    "# Perform the fit:\n",
    "kR = 3  # number of exponents to use for real part\n",
    "poptR = []\n",
    "with timer(\"Correlation (real) fitting time\"):\n",
    "    for i in range(kR):\n",
    "        poptR.append(fitter(corrRana, tlist_fit, i + 1))"
   ]
  },
  {
   "cell_type": "code",
   "execution_count": 18,
   "id": "d366abaa",
   "metadata": {
    "execution": {
     "iopub.execute_input": "2023-03-15T08:41:08.936652Z",
     "iopub.status.busy": "2023-03-15T08:41:08.936297Z",
     "iopub.status.idle": "2023-03-15T08:41:09.073173Z",
     "shell.execute_reply": "2023-03-15T08:41:09.072608Z"
    }
   },
   "outputs": [
    {
     "data": {
      "image/png": "[encoded data removed]",
      "text/plain": [
       "<Figure size 640x480 with 1 Axes>"
      ]
     },
     "metadata": {},
     "output_type": "display_data"
    }
   ],
   "source": [
    "plt.plot(tlist_fit, corrRana, label=\"Analytic\")\n",
    "\n",
    "for i in range(kR):\n",
    "    y = fit_func(tlist_fit, *poptR[i])\n",
    "    plt.plot(tlist_fit, y, label=f\"Fit with {i} terms\")\n",
    "\n",
    "plt.title(\"Fit to correlations (real part)\")\n",
    "plt.legend()\n",
    "plt.show()"
   ]
  },
  {
   "cell_type": "code",
   "execution_count": 19,
   "id": "386d4f75",
   "metadata": {
    "execution": {
     "iopub.execute_input": "2023-03-15T08:41:09.075863Z",
     "iopub.status.busy": "2023-03-15T08:41:09.075477Z",
     "iopub.status.idle": "2023-03-15T08:41:09.079429Z",
     "shell.execute_reply": "2023-03-15T08:41:09.078880Z"
    }
   },
   "outputs": [],
   "source": [
    "# Set the exponential coefficients from the fit parameters\n",
    "\n",
    "ckAR1 = poptR[-1][0]\n",
    "ckAR = [x + 0j for x in ckAR1]\n",
    "\n",
    "vkAR1 = poptR[-1][1]\n",
    "vkAR = [-x + 0j for x in vkAR1]\n",
    "\n",
    "# Imaginary part: use analytical value\n",
    "\n",
    "ckAI = [lam * gamma * (-1.0) + 0j]\n",
    "vkAI = [gamma + 0j]"
   ]
  },
  {
   "cell_type": "code",
   "execution_count": 20,
   "id": "b41adefa",
   "metadata": {
    "execution": {
     "iopub.execute_input": "2023-03-15T08:41:09.082129Z",
     "iopub.status.busy": "2023-03-15T08:41:09.081730Z",
     "iopub.status.idle": "2023-03-15T08:41:11.389301Z",
     "shell.execute_reply": "2023-03-15T08:41:11.388658Z"
    }
   },
   "outputs": [
    {
     "name": "stdout",
     "output_type": "stream",
     "text": [
      "RHS construction time: 0.11399650573730469\n",
      "\r",
      " [          0%           ] Elapsed 0.01s / Remaining 00:00:00:00"
     ]
    },
    {
     "name": "stdout",
     "output_type": "stream",
     "text": [
      "\r",
      " [          0%           ] Elapsed 0.02s / Remaining 00:00:00:00"
     ]
    },
    {
     "name": "stdout",
     "output_type": "stream",
     "text": [
      "\r",
      " [          1%           ] Elapsed 0.03s / Remaining 00:00:00:02"
     ]
    },
    {
     "name": "stdout",
     "output_type": "stream",
     "text": [
      "\r",
      " [          1%           ] Elapsed 0.03s / Remaining 00:00:00:03"
     ]
    },
    {
     "name": "stdout",
     "output_type": "stream",
     "text": [
      "\r",
      " [          1%           ] Elapsed 0.04s / Remaining 00:00:00:03"
     ]
    },
    {
     "name": "stdout",
     "output_type": "stream",
     "text": [
      "\r",
      " [          1%           ] Elapsed 0.04s / Remaining 00:00:00:04"
     ]
    },
    {
     "name": "stdout",
     "output_type": "stream",
     "text": [
      "\r",
      " [          1%           ] Elapsed 0.05s / Remaining 00:00:00:05"
     ]
    },
    {
     "name": "stdout",
     "output_type": "stream",
     "text": [
      "\r",
      " [          1%           ] Elapsed 0.06s / Remaining 00:00:00:05"
     ]
    },
    {
     "name": "stdout",
     "output_type": "stream",
     "text": [
      "\r",
      " [          2%           ] Elapsed 0.07s / Remaining 00:00:00:03"
     ]
    },
    {
     "name": "stdout",
     "output_type": "stream",
     "text": [
      "\r",
      " [          2%           ] Elapsed 0.07s / Remaining 00:00:00:03"
     ]
    },
    {
     "name": "stdout",
     "output_type": "stream",
     "text": [
      "\r",
      " [          2%           ] Elapsed 0.08s / Remaining 00:00:00:03"
     ]
    },
    {
     "name": "stdout",
     "output_type": "stream",
     "text": [
      "\r",
      " [          2%           ] Elapsed 0.08s / Remaining 00:00:00:03"
     ]
    },
    {
     "name": "stdout",
     "output_type": "stream",
     "text": [
      "\r",
      " [          2%           ] Elapsed 0.09s / Remaining 00:00:00:04"
     ]
    },
    {
     "name": "stdout",
     "output_type": "stream",
     "text": [
      "\r",
      " [          2%           ] Elapsed 0.09s / Remaining 00:00:00:04"
     ]
    },
    {
     "name": "stdout",
     "output_type": "stream",
     "text": [
      "\r",
      " [*         3%           ] Elapsed 0.10s / Remaining 00:00:00:03"
     ]
    },
    {
     "name": "stdout",
     "output_type": "stream",
     "text": [
      "\r",
      " [*         3%           ] Elapsed 0.10s / Remaining 00:00:00:03"
     ]
    },
    {
     "name": "stdout",
     "output_type": "stream",
     "text": [
      "\r",
      " [*         3%           ] Elapsed 0.11s / Remaining 00:00:00:03"
     ]
    },
    {
     "name": "stdout",
     "output_type": "stream",
     "text": [
      "\r",
      " [*         3%           ] Elapsed 0.11s / Remaining 00:00:00:03"
     ]
    },
    {
     "name": "stdout",
     "output_type": "stream",
     "text": [
      "\r",
      " [*         3%           ] Elapsed 0.11s / Remaining 00:00:00:03"
     ]
    },
    {
     "name": "stdout",
     "output_type": "stream",
     "text": [
      "\r",
      " [*         3%           ] Elapsed 0.12s / Remaining 00:00:00:03"
     ]
    },
    {
     "name": "stdout",
     "output_type": "stream",
     "text": [
      "\r",
      " [*         4%           ] Elapsed 0.12s / Remaining 00:00:00:02"
     ]
    },
    {
     "name": "stdout",
     "output_type": "stream",
     "text": [
      "\r",
      " [*         4%           ] Elapsed 0.13s / Remaining 00:00:00:03"
     ]
    },
    {
     "name": "stdout",
     "output_type": "stream",
     "text": [
      "\r",
      " [*         4%           ] Elapsed 0.13s / Remaining 00:00:00:03"
     ]
    },
    {
     "name": "stdout",
     "output_type": "stream",
     "text": [
      "\r",
      " [*         4%           ] Elapsed 0.13s / Remaining 00:00:00:03"
     ]
    },
    {
     "name": "stdout",
     "output_type": "stream",
     "text": [
      "\r",
      " [*         4%           ] Elapsed 0.14s / Remaining 00:00:00:03"
     ]
    },
    {
     "name": "stdout",
     "output_type": "stream",
     "text": [
      "\r",
      " [*         4%           ] Elapsed 0.14s / Remaining 00:00:00:03"
     ]
    },
    {
     "name": "stdout",
     "output_type": "stream",
     "text": [
      "\r",
      " [*         5%           ] Elapsed 0.14s / Remaining 00:00:00:02"
     ]
    },
    {
     "name": "stdout",
     "output_type": "stream",
     "text": [
      "\r",
      " [*         5%           ] Elapsed 0.15s / Remaining 00:00:00:02"
     ]
    },
    {
     "name": "stdout",
     "output_type": "stream",
     "text": [
      "\r",
      " [*         5%           ] Elapsed 0.15s / Remaining 00:00:00:02"
     ]
    },
    {
     "name": "stdout",
     "output_type": "stream",
     "text": [
      "\r",
      " [*         5%           ] Elapsed 0.15s / Remaining 00:00:00:02"
     ]
    },
    {
     "name": "stdout",
     "output_type": "stream",
     "text": [
      "\r",
      " [*         5%           ] Elapsed 0.16s / Remaining 00:00:00:02"
     ]
    },
    {
     "name": "stdout",
     "output_type": "stream",
     "text": [
      "\r",
      " [*         5%           ] Elapsed 0.16s / Remaining 00:00:00:03"
     ]
    },
    {
     "name": "stdout",
     "output_type": "stream",
     "text": [
      "\r",
      " [*         6%           ] Elapsed 0.16s / Remaining 00:00:00:02"
     ]
    },
    {
     "name": "stdout",
     "output_type": "stream",
     "text": [
      "\r",
      " [*         6%           ] Elapsed 0.17s / Remaining 00:00:00:02"
     ]
    },
    {
     "name": "stdout",
     "output_type": "stream",
     "text": [
      "\r",
      " [*         6%           ] Elapsed 0.17s / Remaining 00:00:00:02"
     ]
    },
    {
     "name": "stdout",
     "output_type": "stream",
     "text": [
      "\r",
      " [*         6%           ] Elapsed 0.17s / Remaining 00:00:00:02"
     ]
    },
    {
     "name": "stdout",
     "output_type": "stream",
     "text": [
      "\r",
      " [*         6%           ] Elapsed 0.18s / Remaining 00:00:00:02"
     ]
    },
    {
     "name": "stdout",
     "output_type": "stream",
     "text": [
      "\r",
      " [*         6%           ] Elapsed 0.18s / Remaining 00:00:00:02"
     ]
    },
    {
     "name": "stdout",
     "output_type": "stream",
     "text": [
      "\r",
      " [**        7%           ] Elapsed 0.18s / Remaining 00:00:00:02"
     ]
    },
    {
     "name": "stdout",
     "output_type": "stream",
     "text": [
      "\r",
      " [**        7%           ] Elapsed 0.19s / Remaining 00:00:00:02"
     ]
    },
    {
     "name": "stdout",
     "output_type": "stream",
     "text": [
      "\r",
      " [**        7%           ] Elapsed 0.19s / Remaining 00:00:00:02"
     ]
    },
    {
     "name": "stdout",
     "output_type": "stream",
     "text": [
      "\r",
      " [**        7%           ] Elapsed 0.19s / Remaining 00:00:00:02"
     ]
    },
    {
     "name": "stdout",
     "output_type": "stream",
     "text": [
      "\r",
      " [**        7%           ] Elapsed 0.20s / Remaining 00:00:00:02"
     ]
    },
    {
     "name": "stdout",
     "output_type": "stream",
     "text": [
      "\r",
      " [**        7%           ] Elapsed 0.20s / Remaining 00:00:00:02"
     ]
    },
    {
     "name": "stdout",
     "output_type": "stream",
     "text": [
      "\r",
      " [**        8%           ] Elapsed 0.20s / Remaining 00:00:00:02"
     ]
    },
    {
     "name": "stdout",
     "output_type": "stream",
     "text": [
      "\r",
      " [**        8%           ] Elapsed 0.21s / Remaining 00:00:00:02"
     ]
    },
    {
     "name": "stdout",
     "output_type": "stream",
     "text": [
      "\r",
      " [**        8%           ] Elapsed 0.21s / Remaining 00:00:00:02"
     ]
    },
    {
     "name": "stdout",
     "output_type": "stream",
     "text": [
      "\r",
      " [**        8%           ] Elapsed 0.21s / Remaining 00:00:00:02"
     ]
    },
    {
     "name": "stdout",
     "output_type": "stream",
     "text": [
      "\r",
      " [**        8%           ] Elapsed 0.22s / Remaining 00:00:00:02"
     ]
    },
    {
     "name": "stdout",
     "output_type": "stream",
     "text": [
      "\r",
      " [**        8%           ] Elapsed 0.22s / Remaining 00:00:00:02"
     ]
    },
    {
     "name": "stdout",
     "output_type": "stream",
     "text": [
      "\r",
      " [**        9%           ] Elapsed 0.22s / Remaining 00:00:00:02"
     ]
    },
    {
     "name": "stdout",
     "output_type": "stream",
     "text": [
      "\r",
      " [**        9%           ] Elapsed 0.23s / Remaining 00:00:00:02"
     ]
    },
    {
     "name": "stdout",
     "output_type": "stream",
     "text": [
      "\r",
      " [**        9%           ] Elapsed 0.23s / Remaining 00:00:00:02"
     ]
    },
    {
     "name": "stdout",
     "output_type": "stream",
     "text": [
      "\r",
      " [**        9%           ] Elapsed 0.24s / Remaining 00:00:00:02"
     ]
    },
    {
     "name": "stdout",
     "output_type": "stream",
     "text": [
      "\r",
      " [**        9%           ] Elapsed 0.24s / Remaining 00:00:00:02"
     ]
    },
    {
     "name": "stdout",
     "output_type": "stream",
     "text": [
      "\r",
      " [**        9%           ] Elapsed 0.24s / Remaining 00:00:00:02"
     ]
    },
    {
     "name": "stdout",
     "output_type": "stream",
     "text": [
      "\r",
      " [**       10%           ] Elapsed 0.25s / Remaining 00:00:00:02"
     ]
    },
    {
     "name": "stdout",
     "output_type": "stream",
     "text": [
      "\r",
      " [**       10%           ] Elapsed 0.25s / Remaining 00:00:00:02"
     ]
    },
    {
     "name": "stdout",
     "output_type": "stream",
     "text": [
      "\r",
      " [**       10%           ] Elapsed 0.25s / Remaining 00:00:00:02"
     ]
    },
    {
     "name": "stdout",
     "output_type": "stream",
     "text": [
      "\r",
      " [**       10%           ] Elapsed 0.26s / Remaining 00:00:00:02"
     ]
    },
    {
     "name": "stdout",
     "output_type": "stream",
     "text": [
      "\r",
      " [**       10%           ] Elapsed 0.26s / Remaining 00:00:00:02"
     ]
    },
    {
     "name": "stdout",
     "output_type": "stream",
     "text": [
      "\r",
      " [**       10%           ] Elapsed 0.26s / Remaining 00:00:00:02"
     ]
    },
    {
     "name": "stdout",
     "output_type": "stream",
     "text": [
      "\r",
      " [***      11%           ] Elapsed 0.27s / Remaining 00:00:00:02"
     ]
    },
    {
     "name": "stdout",
     "output_type": "stream",
     "text": [
      "\r",
      " [***      11%           ] Elapsed 0.27s / Remaining 00:00:00:02"
     ]
    },
    {
     "name": "stdout",
     "output_type": "stream",
     "text": [
      "\r",
      " [***      11%           ] Elapsed 0.28s / Remaining 00:00:00:02"
     ]
    },
    {
     "name": "stdout",
     "output_type": "stream",
     "text": [
      "\r",
      " [***      11%           ] Elapsed 0.28s / Remaining 00:00:00:02"
     ]
    },
    {
     "name": "stdout",
     "output_type": "stream",
     "text": [
      "\r",
      " [***      11%           ] Elapsed 0.28s / Remaining 00:00:00:02"
     ]
    },
    {
     "name": "stdout",
     "output_type": "stream",
     "text": [
      "\r",
      " [***      11%           ] Elapsed 0.29s / Remaining 00:00:00:02"
     ]
    },
    {
     "name": "stdout",
     "output_type": "stream",
     "text": [
      "\r",
      " [***      12%           ] Elapsed 0.29s / Remaining 00:00:00:02"
     ]
    },
    {
     "name": "stdout",
     "output_type": "stream",
     "text": [
      "\r",
      " [***      12%           ] Elapsed 0.29s / Remaining 00:00:00:02"
     ]
    },
    {
     "name": "stdout",
     "output_type": "stream",
     "text": [
      "\r",
      " [***      12%           ] Elapsed 0.30s / Remaining 00:00:00:02"
     ]
    },
    {
     "name": "stdout",
     "output_type": "stream",
     "text": [
      "\r",
      " [***      12%           ] Elapsed 0.30s / Remaining 00:00:00:02"
     ]
    },
    {
     "name": "stdout",
     "output_type": "stream",
     "text": [
      "\r",
      " [***      12%           ] Elapsed 0.31s / Remaining 00:00:00:02"
     ]
    },
    {
     "name": "stdout",
     "output_type": "stream",
     "text": [
      "\r",
      " [***      12%           ] Elapsed 0.31s / Remaining 00:00:00:02"
     ]
    },
    {
     "name": "stdout",
     "output_type": "stream",
     "text": [
      "\r",
      " [***      13%           ] Elapsed 0.31s / Remaining 00:00:00:02"
     ]
    },
    {
     "name": "stdout",
     "output_type": "stream",
     "text": [
      "\r",
      " [***      13%           ] Elapsed 0.32s / Remaining 00:00:00:02"
     ]
    },
    {
     "name": "stdout",
     "output_type": "stream",
     "text": [
      "\r",
      " [***      13%           ] Elapsed 0.32s / Remaining 00:00:00:02"
     ]
    },
    {
     "name": "stdout",
     "output_type": "stream",
     "text": [
      "\r",
      " [***      13%           ] Elapsed 0.32s / Remaining 00:00:00:02"
     ]
    },
    {
     "name": "stdout",
     "output_type": "stream",
     "text": [
      "\r",
      " [***      13%           ] Elapsed 0.33s / Remaining 00:00:00:02"
     ]
    },
    {
     "name": "stdout",
     "output_type": "stream",
     "text": [
      "\r",
      " [***      13%           ] Elapsed 0.33s / Remaining 00:00:00:02"
     ]
    },
    {
     "name": "stdout",
     "output_type": "stream",
     "text": [
      "\r",
      " [***      14%           ] Elapsed 0.33s / Remaining 00:00:00:02"
     ]
    },
    {
     "name": "stdout",
     "output_type": "stream",
     "text": [
      "\r",
      " [***      14%           ] Elapsed 0.34s / Remaining 00:00:00:02"
     ]
    },
    {
     "name": "stdout",
     "output_type": "stream",
     "text": [
      "\r",
      " [***      14%           ] Elapsed 0.34s / Remaining 00:00:00:02"
     ]
    },
    {
     "name": "stdout",
     "output_type": "stream",
     "text": [
      "\r",
      " [***      14%           ] Elapsed 0.34s / Remaining 00:00:00:02"
     ]
    },
    {
     "name": "stdout",
     "output_type": "stream",
     "text": [
      "\r",
      " [***      14%           ] Elapsed 0.35s / Remaining 00:00:00:02"
     ]
    },
    {
     "name": "stdout",
     "output_type": "stream",
     "text": [
      "\r",
      " [***      14%           ] Elapsed 0.35s / Remaining 00:00:00:02"
     ]
    },
    {
     "name": "stdout",
     "output_type": "stream",
     "text": [
      "\r",
      " [***      15%           ] Elapsed 0.35s / Remaining 00:00:00:02"
     ]
    },
    {
     "name": "stdout",
     "output_type": "stream",
     "text": [
      "\r",
      " [***      15%           ] Elapsed 0.36s / Remaining 00:00:00:02"
     ]
    },
    {
     "name": "stdout",
     "output_type": "stream",
     "text": [
      "\r",
      " [***      15%           ] Elapsed 0.36s / Remaining 00:00:00:02"
     ]
    },
    {
     "name": "stdout",
     "output_type": "stream",
     "text": [
      "\r",
      " [***      15%           ] Elapsed 0.36s / Remaining 00:00:00:02"
     ]
    },
    {
     "name": "stdout",
     "output_type": "stream",
     "text": [
      "\r",
      " [***      15%           ] Elapsed 0.37s / Remaining 00:00:00:02"
     ]
    },
    {
     "name": "stdout",
     "output_type": "stream",
     "text": [
      "\r",
      " [***      15%           ] Elapsed 0.37s / Remaining 00:00:00:02"
     ]
    },
    {
     "name": "stdout",
     "output_type": "stream",
     "text": [
      "\r",
      " [****     16%           ] Elapsed 0.37s / Remaining 00:00:00:01"
     ]
    },
    {
     "name": "stdout",
     "output_type": "stream",
     "text": [
      "\r",
      " [****     16%           ] Elapsed 0.38s / Remaining 00:00:00:01"
     ]
    },
    {
     "name": "stdout",
     "output_type": "stream",
     "text": [
      "\r",
      " [****     16%           ] Elapsed 0.38s / Remaining 00:00:00:01"
     ]
    },
    {
     "name": "stdout",
     "output_type": "stream",
     "text": [
      "\r",
      " [****     16%           ] Elapsed 0.38s / Remaining 00:00:00:02"
     ]
    },
    {
     "name": "stdout",
     "output_type": "stream",
     "text": [
      "\r",
      " [****     16%           ] Elapsed 0.39s / Remaining 00:00:00:02"
     ]
    },
    {
     "name": "stdout",
     "output_type": "stream",
     "text": [
      "\r",
      " [****     16%           ] Elapsed 0.39s / Remaining 00:00:00:02"
     ]
    },
    {
     "name": "stdout",
     "output_type": "stream",
     "text": [
      "\r",
      " [****     17%           ] Elapsed 0.39s / Remaining 00:00:00:01"
     ]
    },
    {
     "name": "stdout",
     "output_type": "stream",
     "text": [
      "\r",
      " [****     17%           ] Elapsed 0.40s / Remaining 00:00:00:01"
     ]
    },
    {
     "name": "stdout",
     "output_type": "stream",
     "text": [
      "\r"
     ]
    },
    {
     "name": "stdout",
     "output_type": "stream",
     "text": [
      " [****     17%           ] Elapsed 0.40s / Remaining 00:00:00:01"
     ]
    },
    {
     "name": "stdout",
     "output_type": "stream",
     "text": [
      "\r",
      " [****     17%           ] Elapsed 0.41s / Remaining 00:00:00:01"
     ]
    },
    {
     "name": "stdout",
     "output_type": "stream",
     "text": [
      "\r",
      " [****     17%           ] Elapsed 0.41s / Remaining 00:00:00:01"
     ]
    },
    {
     "name": "stdout",
     "output_type": "stream",
     "text": [
      "\r",
      " [****     17%           ] Elapsed 0.41s / Remaining 00:00:00:02"
     ]
    },
    {
     "name": "stdout",
     "output_type": "stream",
     "text": [
      "\r",
      " [****     18%           ] Elapsed 0.42s / Remaining 00:00:00:01"
     ]
    },
    {
     "name": "stdout",
     "output_type": "stream",
     "text": [
      "\r",
      " [****     18%           ] Elapsed 0.42s / Remaining 00:00:00:01"
     ]
    },
    {
     "name": "stdout",
     "output_type": "stream",
     "text": [
      "\r",
      " [****     18%           ] Elapsed 0.42s / Remaining 00:00:00:01"
     ]
    },
    {
     "name": "stdout",
     "output_type": "stream",
     "text": [
      "\r",
      " [****     18%           ] Elapsed 0.43s / Remaining 00:00:00:01"
     ]
    },
    {
     "name": "stdout",
     "output_type": "stream",
     "text": [
      "\r",
      " [****     18%           ] Elapsed 0.43s / Remaining 00:00:00:01"
     ]
    },
    {
     "name": "stdout",
     "output_type": "stream",
     "text": [
      "\r",
      " [****     18%           ] Elapsed 0.43s / Remaining 00:00:00:01"
     ]
    },
    {
     "name": "stdout",
     "output_type": "stream",
     "text": [
      "\r",
      " [****     19%           ] Elapsed 0.44s / Remaining 00:00:00:01"
     ]
    },
    {
     "name": "stdout",
     "output_type": "stream",
     "text": [
      "\r",
      " [****     19%           ] Elapsed 0.44s / Remaining 00:00:00:01"
     ]
    },
    {
     "name": "stdout",
     "output_type": "stream",
     "text": [
      "\r",
      " [****     19%           ] Elapsed 0.44s / Remaining 00:00:00:01"
     ]
    },
    {
     "name": "stdout",
     "output_type": "stream",
     "text": [
      "\r",
      " [****     19%           ] Elapsed 0.45s / Remaining 00:00:00:01"
     ]
    },
    {
     "name": "stdout",
     "output_type": "stream",
     "text": [
      "\r",
      " [****     19%           ] Elapsed 0.45s / Remaining 00:00:00:01"
     ]
    },
    {
     "name": "stdout",
     "output_type": "stream",
     "text": [
      "\r",
      " [****     19%           ] Elapsed 0.45s / Remaining 00:00:00:01"
     ]
    },
    {
     "name": "stdout",
     "output_type": "stream",
     "text": [
      "\r",
      " [*****    20%           ] Elapsed 0.46s / Remaining 00:00:00:01"
     ]
    },
    {
     "name": "stdout",
     "output_type": "stream",
     "text": [
      "\r",
      " [*****    20%           ] Elapsed 0.46s / Remaining 00:00:00:01"
     ]
    },
    {
     "name": "stdout",
     "output_type": "stream",
     "text": [
      "\r",
      " [*****    20%           ] Elapsed 0.46s / Remaining 00:00:00:01"
     ]
    },
    {
     "name": "stdout",
     "output_type": "stream",
     "text": [
      "\r",
      " [*****    20%           ] Elapsed 0.47s / Remaining 00:00:00:01"
     ]
    },
    {
     "name": "stdout",
     "output_type": "stream",
     "text": [
      "\r",
      " [*****    20%           ] Elapsed 0.47s / Remaining 00:00:00:01"
     ]
    },
    {
     "name": "stdout",
     "output_type": "stream",
     "text": [
      "\r",
      " [*****    20%           ] Elapsed 0.48s / Remaining 00:00:00:01"
     ]
    },
    {
     "name": "stdout",
     "output_type": "stream",
     "text": [
      "\r",
      " [*****    21%           ] Elapsed 0.48s / Remaining 00:00:00:01"
     ]
    },
    {
     "name": "stdout",
     "output_type": "stream",
     "text": [
      "\r",
      " [*****    21%           ] Elapsed 0.48s / Remaining 00:00:00:01"
     ]
    },
    {
     "name": "stdout",
     "output_type": "stream",
     "text": [
      "\r",
      " [*****    21%           ] Elapsed 0.49s / Remaining 00:00:00:01"
     ]
    },
    {
     "name": "stdout",
     "output_type": "stream",
     "text": [
      "\r",
      " [*****    21%           ] Elapsed 0.49s / Remaining 00:00:00:01"
     ]
    },
    {
     "name": "stdout",
     "output_type": "stream",
     "text": [
      "\r",
      " [*****    21%           ] Elapsed 0.49s / Remaining 00:00:00:01"
     ]
    },
    {
     "name": "stdout",
     "output_type": "stream",
     "text": [
      "\r",
      " [*****    21%           ] Elapsed 0.50s / Remaining 00:00:00:01"
     ]
    },
    {
     "name": "stdout",
     "output_type": "stream",
     "text": [
      "\r",
      " [*****    22%           ] Elapsed 0.50s / Remaining 00:00:00:01"
     ]
    },
    {
     "name": "stdout",
     "output_type": "stream",
     "text": [
      "\r",
      " [*****    22%           ] Elapsed 0.50s / Remaining 00:00:00:01"
     ]
    },
    {
     "name": "stdout",
     "output_type": "stream",
     "text": [
      "\r",
      " [*****    22%           ] Elapsed 0.51s / Remaining 00:00:00:01"
     ]
    },
    {
     "name": "stdout",
     "output_type": "stream",
     "text": [
      "\r",
      " [*****    22%           ] Elapsed 0.51s / Remaining 00:00:00:01"
     ]
    },
    {
     "name": "stdout",
     "output_type": "stream",
     "text": [
      "\r",
      " [*****    22%           ] Elapsed 0.51s / Remaining 00:00:00:01"
     ]
    },
    {
     "name": "stdout",
     "output_type": "stream",
     "text": [
      "\r",
      " [*****    22%           ] Elapsed 0.52s / Remaining 00:00:00:01"
     ]
    },
    {
     "name": "stdout",
     "output_type": "stream",
     "text": [
      "\r",
      " [*****    23%           ] Elapsed 0.52s / Remaining 00:00:00:01"
     ]
    },
    {
     "name": "stdout",
     "output_type": "stream",
     "text": [
      "\r",
      " [*****    23%           ] Elapsed 0.53s / Remaining 00:00:00:01"
     ]
    },
    {
     "name": "stdout",
     "output_type": "stream",
     "text": [
      "\r",
      " [*****    23%           ] Elapsed 0.53s / Remaining 00:00:00:01"
     ]
    },
    {
     "name": "stdout",
     "output_type": "stream",
     "text": [
      "\r",
      " [*****    23%           ] Elapsed 0.53s / Remaining 00:00:00:01"
     ]
    },
    {
     "name": "stdout",
     "output_type": "stream",
     "text": [
      "\r",
      " [*****    23%           ] Elapsed 0.54s / Remaining 00:00:00:01"
     ]
    },
    {
     "name": "stdout",
     "output_type": "stream",
     "text": [
      "\r",
      " [*****    23%           ] Elapsed 0.54s / Remaining 00:00:00:01"
     ]
    },
    {
     "name": "stdout",
     "output_type": "stream",
     "text": [
      "\r",
      " [******   24%           ] Elapsed 0.54s / Remaining 00:00:00:01"
     ]
    },
    {
     "name": "stdout",
     "output_type": "stream",
     "text": [
      "\r",
      " [******   24%           ] Elapsed 0.55s / Remaining 00:00:00:01"
     ]
    },
    {
     "name": "stdout",
     "output_type": "stream",
     "text": [
      "\r",
      " [******   24%           ] Elapsed 0.55s / Remaining 00:00:00:01"
     ]
    },
    {
     "name": "stdout",
     "output_type": "stream",
     "text": [
      "\r",
      " [******   24%           ] Elapsed 0.56s / Remaining 00:00:00:01"
     ]
    },
    {
     "name": "stdout",
     "output_type": "stream",
     "text": [
      "\r",
      " [******   24%           ] Elapsed 0.56s / Remaining 00:00:00:01"
     ]
    },
    {
     "name": "stdout",
     "output_type": "stream",
     "text": [
      "\r",
      " [******   24%           ] Elapsed 0.56s / Remaining 00:00:00:01"
     ]
    },
    {
     "name": "stdout",
     "output_type": "stream",
     "text": [
      "\r",
      " [******   25%           ] Elapsed 0.57s / Remaining 00:00:00:01"
     ]
    },
    {
     "name": "stdout",
     "output_type": "stream",
     "text": [
      "\r",
      " [******   25%           ] Elapsed 0.57s / Remaining 00:00:00:01"
     ]
    },
    {
     "name": "stdout",
     "output_type": "stream",
     "text": [
      "\r",
      " [******   25%           ] Elapsed 0.57s / Remaining 00:00:00:01"
     ]
    },
    {
     "name": "stdout",
     "output_type": "stream",
     "text": [
      "\r",
      " [******   25%           ] Elapsed 0.58s / Remaining 00:00:00:01"
     ]
    },
    {
     "name": "stdout",
     "output_type": "stream",
     "text": [
      "\r",
      " [******   25%           ] Elapsed 0.58s / Remaining 00:00:00:01"
     ]
    },
    {
     "name": "stdout",
     "output_type": "stream",
     "text": [
      "\r",
      " [******   25%           ] Elapsed 0.59s / Remaining 00:00:00:01"
     ]
    },
    {
     "name": "stdout",
     "output_type": "stream",
     "text": [
      "\r",
      " [******   26%           ] Elapsed 0.59s / Remaining 00:00:00:01"
     ]
    },
    {
     "name": "stdout",
     "output_type": "stream",
     "text": [
      "\r",
      " [******   26%           ] Elapsed 0.59s / Remaining 00:00:00:01"
     ]
    },
    {
     "name": "stdout",
     "output_type": "stream",
     "text": [
      "\r",
      " [******   26%           ] Elapsed 0.60s / Remaining 00:00:00:01"
     ]
    },
    {
     "name": "stdout",
     "output_type": "stream",
     "text": [
      "\r",
      " [******   26%           ] Elapsed 0.60s / Remaining 00:00:00:01"
     ]
    },
    {
     "name": "stdout",
     "output_type": "stream",
     "text": [
      "\r",
      " [******   26%           ] Elapsed 0.60s / Remaining 00:00:00:01"
     ]
    },
    {
     "name": "stdout",
     "output_type": "stream",
     "text": [
      "\r",
      " [******   26%           ] Elapsed 0.61s / Remaining 00:00:00:01"
     ]
    },
    {
     "name": "stdout",
     "output_type": "stream",
     "text": [
      "\r",
      " [******   27%           ] Elapsed 0.61s / Remaining 00:00:00:01"
     ]
    },
    {
     "name": "stdout",
     "output_type": "stream",
     "text": [
      "\r",
      " [******   27%           ] Elapsed 0.62s / Remaining 00:00:00:01"
     ]
    },
    {
     "name": "stdout",
     "output_type": "stream",
     "text": [
      "\r",
      " [******   27%           ] Elapsed 0.62s / Remaining 00:00:00:01"
     ]
    },
    {
     "name": "stdout",
     "output_type": "stream",
     "text": [
      "\r",
      " [******   27%           ] Elapsed 0.62s / Remaining 00:00:00:01"
     ]
    },
    {
     "name": "stdout",
     "output_type": "stream",
     "text": [
      "\r",
      " [******   27%           ] Elapsed 0.63s / Remaining 00:00:00:01"
     ]
    },
    {
     "name": "stdout",
     "output_type": "stream",
     "text": [
      "\r",
      " [******   27%           ] Elapsed 0.63s / Remaining 00:00:00:01"
     ]
    },
    {
     "name": "stdout",
     "output_type": "stream",
     "text": [
      "\r",
      " [******   28%           ] Elapsed 0.63s / Remaining 00:00:00:01"
     ]
    },
    {
     "name": "stdout",
     "output_type": "stream",
     "text": [
      "\r",
      " [******   28%           ] Elapsed 0.64s / Remaining 00:00:00:01"
     ]
    },
    {
     "name": "stdout",
     "output_type": "stream",
     "text": [
      "\r",
      " [******   28%           ] Elapsed 0.64s / Remaining 00:00:00:01"
     ]
    },
    {
     "name": "stdout",
     "output_type": "stream",
     "text": [
      "\r",
      " [******   28%           ] Elapsed 0.64s / Remaining 00:00:00:01"
     ]
    },
    {
     "name": "stdout",
     "output_type": "stream",
     "text": [
      "\r",
      " [******   28%           ] Elapsed 0.65s / Remaining 00:00:00:01"
     ]
    },
    {
     "name": "stdout",
     "output_type": "stream",
     "text": [
      "\r",
      " [******   28%           ] Elapsed 0.65s / Remaining 00:00:00:01"
     ]
    },
    {
     "name": "stdout",
     "output_type": "stream",
     "text": [
      "\r",
      " [*******  29%           ] Elapsed 0.65s / Remaining 00:00:00:01"
     ]
    },
    {
     "name": "stdout",
     "output_type": "stream",
     "text": [
      "\r",
      " [*******  29%           ] Elapsed 0.66s / Remaining 00:00:00:01"
     ]
    },
    {
     "name": "stdout",
     "output_type": "stream",
     "text": [
      "\r",
      " [*******  29%           ] Elapsed 0.66s / Remaining 00:00:00:01"
     ]
    },
    {
     "name": "stdout",
     "output_type": "stream",
     "text": [
      "\r",
      " [*******  29%           ] Elapsed 0.66s / Remaining 00:00:00:01"
     ]
    },
    {
     "name": "stdout",
     "output_type": "stream",
     "text": [
      "\r",
      " [*******  29%           ] Elapsed 0.67s / Remaining 00:00:00:01"
     ]
    },
    {
     "name": "stdout",
     "output_type": "stream",
     "text": [
      "\r",
      " [*******  29%           ] Elapsed 0.67s / Remaining 00:00:00:01"
     ]
    },
    {
     "name": "stdout",
     "output_type": "stream",
     "text": [
      "\r",
      " [*******  30%           ] Elapsed 0.67s / Remaining 00:00:00:01"
     ]
    },
    {
     "name": "stdout",
     "output_type": "stream",
     "text": [
      "\r",
      " [*******  30%           ] Elapsed 0.68s / Remaining 00:00:00:01"
     ]
    },
    {
     "name": "stdout",
     "output_type": "stream",
     "text": [
      "\r",
      " [*******  30%           ] Elapsed 0.68s / Remaining 00:00:00:01"
     ]
    },
    {
     "name": "stdout",
     "output_type": "stream",
     "text": [
      "\r",
      " [*******  30%           ] Elapsed 0.69s / Remaining 00:00:00:01"
     ]
    },
    {
     "name": "stdout",
     "output_type": "stream",
     "text": [
      "\r",
      " [*******  30%           ] Elapsed 0.69s / Remaining 00:00:00:01"
     ]
    },
    {
     "name": "stdout",
     "output_type": "stream",
     "text": [
      "\r",
      " [*******  30%           ] Elapsed 0.69s / Remaining 00:00:00:01"
     ]
    },
    {
     "name": "stdout",
     "output_type": "stream",
     "text": [
      "\r",
      " [*******  31%           ] Elapsed 0.70s / Remaining 00:00:00:01"
     ]
    },
    {
     "name": "stdout",
     "output_type": "stream",
     "text": [
      "\r",
      " [*******  31%           ] Elapsed 0.70s / Remaining 00:00:00:01"
     ]
    },
    {
     "name": "stdout",
     "output_type": "stream",
     "text": [
      "\r",
      " [*******  31%           ] Elapsed 0.70s / Remaining 00:00:00:01"
     ]
    },
    {
     "name": "stdout",
     "output_type": "stream",
     "text": [
      "\r",
      " [*******  31%           ] Elapsed 0.71s / Remaining 00:00:00:01"
     ]
    },
    {
     "name": "stdout",
     "output_type": "stream",
     "text": [
      "\r",
      " [*******  31%           ] Elapsed 0.71s / Remaining 00:00:00:01"
     ]
    },
    {
     "name": "stdout",
     "output_type": "stream",
     "text": [
      "\r",
      " [*******  31%           ] Elapsed 0.71s / Remaining 00:00:00:01"
     ]
    },
    {
     "name": "stdout",
     "output_type": "stream",
     "text": [
      "\r",
      " [*******  32%           ] Elapsed 0.72s / Remaining 00:00:00:01"
     ]
    },
    {
     "name": "stdout",
     "output_type": "stream",
     "text": [
      "\r",
      " [*******  32%           ] Elapsed 0.72s / Remaining 00:00:00:01"
     ]
    },
    {
     "name": "stdout",
     "output_type": "stream",
     "text": [
      "\r",
      " [*******  32%           ] Elapsed 0.72s / Remaining 00:00:00:01"
     ]
    },
    {
     "name": "stdout",
     "output_type": "stream",
     "text": [
      "\r",
      " [*******  32%           ] Elapsed 0.73s / Remaining 00:00:00:01"
     ]
    },
    {
     "name": "stdout",
     "output_type": "stream",
     "text": [
      "\r",
      " [*******  32%           ] Elapsed 0.73s / Remaining 00:00:00:01"
     ]
    },
    {
     "name": "stdout",
     "output_type": "stream",
     "text": [
      "\r",
      " [*******  32%           ] Elapsed 0.73s / Remaining 00:00:00:01"
     ]
    },
    {
     "name": "stdout",
     "output_type": "stream",
     "text": [
      "\r",
      " [******** 33%           ] Elapsed 0.74s / Remaining 00:00:00:01"
     ]
    },
    {
     "name": "stdout",
     "output_type": "stream",
     "text": [
      "\r",
      " [******** 33%           ] Elapsed 0.74s / Remaining 00:00:00:01"
     ]
    },
    {
     "name": "stdout",
     "output_type": "stream",
     "text": [
      "\r",
      " [******** 33%           ] Elapsed 0.74s / Remaining 00:00:00:01"
     ]
    },
    {
     "name": "stdout",
     "output_type": "stream",
     "text": [
      "\r",
      " [******** 33%           ] Elapsed 0.75s / Remaining 00:00:00:01"
     ]
    },
    {
     "name": "stdout",
     "output_type": "stream",
     "text": [
      "\r",
      " [******** 33%           ] Elapsed 0.75s / Remaining 00:00:00:01"
     ]
    },
    {
     "name": "stdout",
     "output_type": "stream",
     "text": [
      "\r",
      " [******** 33%           ] Elapsed 0.75s / Remaining 00:00:00:01"
     ]
    },
    {
     "name": "stdout",
     "output_type": "stream",
     "text": [
      "\r",
      " [******** 34%           ] Elapsed 0.76s / Remaining 00:00:00:01"
     ]
    },
    {
     "name": "stdout",
     "output_type": "stream",
     "text": [
      "\r",
      " [******** 34%           ] Elapsed 0.76s / Remaining 00:00:00:01"
     ]
    },
    {
     "name": "stdout",
     "output_type": "stream",
     "text": [
      "\r",
      " [******** 34%           ] Elapsed 0.76s / Remaining 00:00:00:01"
     ]
    },
    {
     "name": "stdout",
     "output_type": "stream",
     "text": [
      "\r",
      " [******** 34%           ] Elapsed 0.77s / Remaining 00:00:00:01"
     ]
    },
    {
     "name": "stdout",
     "output_type": "stream",
     "text": [
      "\r",
      " [******** 34%           ] Elapsed 0.77s / Remaining 00:00:00:01"
     ]
    },
    {
     "name": "stdout",
     "output_type": "stream",
     "text": [
      "\r",
      " [******** 34%           ] Elapsed 0.77s / Remaining 00:00:00:01"
     ]
    },
    {
     "name": "stdout",
     "output_type": "stream",
     "text": [
      "\r",
      " [******** 35%           ] Elapsed 0.78s / Remaining 00:00:00:01"
     ]
    },
    {
     "name": "stdout",
     "output_type": "stream",
     "text": [
      "\r",
      " [******** 35%           ] Elapsed 0.78s / Remaining 00:00:00:01"
     ]
    },
    {
     "name": "stdout",
     "output_type": "stream",
     "text": [
      "\r",
      " [******** 35%           ] Elapsed 0.79s / Remaining 00:00:00:01"
     ]
    },
    {
     "name": "stdout",
     "output_type": "stream",
     "text": [
      "\r",
      " [******** 35%           ] Elapsed 0.79s / Remaining 00:00:00:01"
     ]
    },
    {
     "name": "stdout",
     "output_type": "stream",
     "text": [
      "\r",
      " [******** 35%           ] Elapsed 0.79s / Remaining 00:00:00:01"
     ]
    },
    {
     "name": "stdout",
     "output_type": "stream",
     "text": [
      "\r",
      " [******** 35%           ] Elapsed 0.80s / Remaining 00:00:00:01"
     ]
    },
    {
     "name": "stdout",
     "output_type": "stream",
     "text": [
      "\r",
      " [******** 36%           ] Elapsed 0.80s / Remaining 00:00:00:01"
     ]
    },
    {
     "name": "stdout",
     "output_type": "stream",
     "text": [
      "\r",
      " [******** 36%           ] Elapsed 0.80s / Remaining 00:00:00:01"
     ]
    },
    {
     "name": "stdout",
     "output_type": "stream",
     "text": [
      "\r",
      " [******** 36%           ] Elapsed 0.81s / Remaining 00:00:00:01"
     ]
    },
    {
     "name": "stdout",
     "output_type": "stream",
     "text": [
      "\r",
      " [******** 36%           ] Elapsed 0.81s / Remaining 00:00:00:01"
     ]
    },
    {
     "name": "stdout",
     "output_type": "stream",
     "text": [
      "\r",
      " [******** 36%           ] Elapsed 0.81s / Remaining 00:00:00:01"
     ]
    },
    {
     "name": "stdout",
     "output_type": "stream",
     "text": [
      "\r",
      " [******** 36%           ] Elapsed 0.82s / Remaining 00:00:00:01"
     ]
    },
    {
     "name": "stdout",
     "output_type": "stream",
     "text": [
      "\r",
      " [*********37%           ] Elapsed 0.82s / Remaining 00:00:00:01"
     ]
    },
    {
     "name": "stdout",
     "output_type": "stream",
     "text": [
      "\r",
      " [*********37%           ] Elapsed 0.82s / Remaining 00:00:00:01"
     ]
    },
    {
     "name": "stdout",
     "output_type": "stream",
     "text": [
      "\r",
      " [*********37%           ] Elapsed 0.83s / Remaining 00:00:00:01"
     ]
    },
    {
     "name": "stdout",
     "output_type": "stream",
     "text": [
      "\r",
      " [*********37%           ] Elapsed 0.83s / Remaining 00:00:00:01"
     ]
    },
    {
     "name": "stdout",
     "output_type": "stream",
     "text": [
      "\r",
      " [*********37%           ] Elapsed 0.84s / Remaining 00:00:00:01"
     ]
    },
    {
     "name": "stdout",
     "output_type": "stream",
     "text": [
      "\r",
      " [*********37%           ] Elapsed 0.84s / Remaining 00:00:00:01"
     ]
    },
    {
     "name": "stdout",
     "output_type": "stream",
     "text": [
      "\r",
      " [*********38%           ] Elapsed 0.84s / Remaining 00:00:00:01"
     ]
    },
    {
     "name": "stdout",
     "output_type": "stream",
     "text": [
      "\r",
      " [*********38%           ] Elapsed 0.85s / Remaining 00:00:00:01"
     ]
    },
    {
     "name": "stdout",
     "output_type": "stream",
     "text": [
      "\r",
      " [*********38%           ] Elapsed 0.85s / Remaining 00:00:00:01"
     ]
    },
    {
     "name": "stdout",
     "output_type": "stream",
     "text": [
      "\r",
      " [*********38%           ] Elapsed 0.85s / Remaining 00:00:00:01"
     ]
    },
    {
     "name": "stdout",
     "output_type": "stream",
     "text": [
      "\r",
      " [*********38%           ] Elapsed 0.86s / Remaining 00:00:00:01"
     ]
    },
    {
     "name": "stdout",
     "output_type": "stream",
     "text": [
      "\r",
      " [*********38%           ] Elapsed 0.86s / Remaining 00:00:00:01"
     ]
    },
    {
     "name": "stdout",
     "output_type": "stream",
     "text": [
      "\r",
      " [*********39%           ] Elapsed 0.87s / Remaining 00:00:00:01"
     ]
    },
    {
     "name": "stdout",
     "output_type": "stream",
     "text": [
      "\r",
      " [*********39%           ] Elapsed 0.87s / Remaining 00:00:00:01"
     ]
    },
    {
     "name": "stdout",
     "output_type": "stream",
     "text": [
      "\r",
      " [*********39%           ] Elapsed 0.87s / Remaining 00:00:00:01"
     ]
    },
    {
     "name": "stdout",
     "output_type": "stream",
     "text": [
      "\r",
      " [*********39%           ] Elapsed 0.88s / Remaining 00:00:00:01"
     ]
    },
    {
     "name": "stdout",
     "output_type": "stream",
     "text": [
      "\r",
      " [*********39%           ] Elapsed 0.88s / Remaining 00:00:00:01"
     ]
    },
    {
     "name": "stdout",
     "output_type": "stream",
     "text": [
      "\r",
      " [*********39%           ] Elapsed 0.89s / Remaining 00:00:00:01"
     ]
    },
    {
     "name": "stdout",
     "output_type": "stream",
     "text": [
      "\r",
      " [*********40%           ] Elapsed 0.89s / Remaining 00:00:00:01"
     ]
    },
    {
     "name": "stdout",
     "output_type": "stream",
     "text": [
      "\r",
      " [*********40%           ] Elapsed 0.89s / Remaining 00:00:00:01"
     ]
    },
    {
     "name": "stdout",
     "output_type": "stream",
     "text": [
      "\r",
      " [*********40%           ] Elapsed 0.90s / Remaining 00:00:00:01"
     ]
    },
    {
     "name": "stdout",
     "output_type": "stream",
     "text": [
      "\r",
      " [*********40%           ] Elapsed 0.90s / Remaining 00:00:00:01"
     ]
    },
    {
     "name": "stdout",
     "output_type": "stream",
     "text": [
      "\r",
      " [*********40%           ] Elapsed 0.90s / Remaining 00:00:00:01"
     ]
    },
    {
     "name": "stdout",
     "output_type": "stream",
     "text": [
      "\r",
      " [*********40%           ] Elapsed 0.91s / Remaining 00:00:00:01"
     ]
    },
    {
     "name": "stdout",
     "output_type": "stream",
     "text": [
      "\r",
      " [*********41%           ] Elapsed 0.91s / Remaining 00:00:00:01"
     ]
    },
    {
     "name": "stdout",
     "output_type": "stream",
     "text": [
      "\r",
      " [*********41%           ] Elapsed 0.91s / Remaining 00:00:00:01"
     ]
    },
    {
     "name": "stdout",
     "output_type": "stream",
     "text": [
      "\r",
      " [*********41%           ] Elapsed 0.92s / Remaining 00:00:00:01"
     ]
    },
    {
     "name": "stdout",
     "output_type": "stream",
     "text": [
      "\r",
      " [*********41%           ] Elapsed 0.92s / Remaining 00:00:00:01"
     ]
    },
    {
     "name": "stdout",
     "output_type": "stream",
     "text": [
      "\r",
      " [*********41%           ] Elapsed 0.92s / Remaining 00:00:00:01"
     ]
    },
    {
     "name": "stdout",
     "output_type": "stream",
     "text": [
      "\r",
      " [*********41%           ] Elapsed 0.93s / Remaining 00:00:00:01"
     ]
    },
    {
     "name": "stdout",
     "output_type": "stream",
     "text": [
      "\r",
      " [*********42%           ] Elapsed 0.93s / Remaining 00:00:00:01"
     ]
    },
    {
     "name": "stdout",
     "output_type": "stream",
     "text": [
      "\r",
      " [*********42%           ] Elapsed 0.93s / Remaining 00:00:00:01"
     ]
    },
    {
     "name": "stdout",
     "output_type": "stream",
     "text": [
      "\r",
      " [*********42%           ] Elapsed 0.94s / Remaining 00:00:00:01"
     ]
    },
    {
     "name": "stdout",
     "output_type": "stream",
     "text": [
      "\r",
      " [*********42%           ] Elapsed 0.94s / Remaining 00:00:00:01"
     ]
    },
    {
     "name": "stdout",
     "output_type": "stream",
     "text": [
      "\r",
      " [*********42%           ] Elapsed 0.94s / Remaining 00:00:00:01"
     ]
    },
    {
     "name": "stdout",
     "output_type": "stream",
     "text": [
      "\r",
      " [*********42%           ] Elapsed 0.95s / Remaining 00:00:00:01"
     ]
    },
    {
     "name": "stdout",
     "output_type": "stream",
     "text": [
      "\r",
      " [*********43%           ] Elapsed 0.95s / Remaining 00:00:00:01"
     ]
    },
    {
     "name": "stdout",
     "output_type": "stream",
     "text": [
      "\r"
     ]
    },
    {
     "name": "stdout",
     "output_type": "stream",
     "text": [
      " [*********43%           ] Elapsed 0.95s / Remaining 00:00:00:01"
     ]
    },
    {
     "name": "stdout",
     "output_type": "stream",
     "text": [
      "\r",
      " [*********43%           ] Elapsed 0.96s / Remaining 00:00:00:01"
     ]
    },
    {
     "name": "stdout",
     "output_type": "stream",
     "text": [
      "\r",
      " [*********43%           ] Elapsed 0.96s / Remaining 00:00:00:01"
     ]
    },
    {
     "name": "stdout",
     "output_type": "stream",
     "text": [
      "\r",
      " [*********43%           ] Elapsed 0.97s / Remaining 00:00:00:01"
     ]
    },
    {
     "name": "stdout",
     "output_type": "stream",
     "text": [
      "\r",
      " [*********43%           ] Elapsed 0.97s / Remaining 00:00:00:01"
     ]
    },
    {
     "name": "stdout",
     "output_type": "stream",
     "text": [
      "\r",
      " [*********44%           ] Elapsed 0.97s / Remaining 00:00:00:01"
     ]
    },
    {
     "name": "stdout",
     "output_type": "stream",
     "text": [
      "\r",
      " [*********44%           ] Elapsed 0.98s / Remaining 00:00:00:01"
     ]
    },
    {
     "name": "stdout",
     "output_type": "stream",
     "text": [
      "\r",
      " [*********44%           ] Elapsed 0.98s / Remaining 00:00:00:01"
     ]
    },
    {
     "name": "stdout",
     "output_type": "stream",
     "text": [
      "\r",
      " [*********44%           ] Elapsed 0.98s / Remaining 00:00:00:01"
     ]
    },
    {
     "name": "stdout",
     "output_type": "stream",
     "text": [
      "\r",
      " [*********44%           ] Elapsed 0.99s / Remaining 00:00:00:01"
     ]
    },
    {
     "name": "stdout",
     "output_type": "stream",
     "text": [
      "\r",
      " [*********44%           ] Elapsed 0.99s / Remaining 00:00:00:01"
     ]
    },
    {
     "name": "stdout",
     "output_type": "stream",
     "text": [
      "\r",
      " [*********45%           ] Elapsed 0.99s / Remaining 00:00:00:01"
     ]
    },
    {
     "name": "stdout",
     "output_type": "stream",
     "text": [
      "\r",
      " [*********45%           ] Elapsed 1.00s / Remaining 00:00:00:01"
     ]
    },
    {
     "name": "stdout",
     "output_type": "stream",
     "text": [
      "\r",
      " [*********45%           ] Elapsed 1.00s / Remaining 00:00:00:01"
     ]
    },
    {
     "name": "stdout",
     "output_type": "stream",
     "text": [
      "\r",
      " [*********45%           ] Elapsed 1.00s / Remaining 00:00:00:01"
     ]
    },
    {
     "name": "stdout",
     "output_type": "stream",
     "text": [
      "\r",
      " [*********45%           ] Elapsed 1.01s / Remaining 00:00:00:01"
     ]
    },
    {
     "name": "stdout",
     "output_type": "stream",
     "text": [
      "\r",
      " [*********45%           ] Elapsed 1.01s / Remaining 00:00:00:01"
     ]
    },
    {
     "name": "stdout",
     "output_type": "stream",
     "text": [
      "\r",
      " [*********46%           ] Elapsed 1.01s / Remaining 00:00:00:01"
     ]
    },
    {
     "name": "stdout",
     "output_type": "stream",
     "text": [
      "\r",
      " [*********46%           ] Elapsed 1.02s / Remaining 00:00:00:01"
     ]
    },
    {
     "name": "stdout",
     "output_type": "stream",
     "text": [
      "\r",
      " [*********46%           ] Elapsed 1.02s / Remaining 00:00:00:01"
     ]
    },
    {
     "name": "stdout",
     "output_type": "stream",
     "text": [
      "\r",
      " [*********46%           ] Elapsed 1.02s / Remaining 00:00:00:01"
     ]
    },
    {
     "name": "stdout",
     "output_type": "stream",
     "text": [
      "\r",
      " [*********46%           ] Elapsed 1.03s / Remaining 00:00:00:01"
     ]
    },
    {
     "name": "stdout",
     "output_type": "stream",
     "text": [
      "\r",
      " [*********46%           ] Elapsed 1.03s / Remaining 00:00:00:01"
     ]
    },
    {
     "name": "stdout",
     "output_type": "stream",
     "text": [
      "\r",
      " [*********47%           ] Elapsed 1.04s / Remaining 00:00:00:01"
     ]
    },
    {
     "name": "stdout",
     "output_type": "stream",
     "text": [
      "\r",
      " [*********47%           ] Elapsed 1.04s / Remaining 00:00:00:01"
     ]
    },
    {
     "name": "stdout",
     "output_type": "stream",
     "text": [
      "\r",
      " [*********47%           ] Elapsed 1.04s / Remaining 00:00:00:01"
     ]
    },
    {
     "name": "stdout",
     "output_type": "stream",
     "text": [
      "\r",
      " [*********47%           ] Elapsed 1.05s / Remaining 00:00:00:01"
     ]
    },
    {
     "name": "stdout",
     "output_type": "stream",
     "text": [
      "\r",
      " [*********47%           ] Elapsed 1.05s / Remaining 00:00:00:01"
     ]
    },
    {
     "name": "stdout",
     "output_type": "stream",
     "text": [
      "\r",
      " [*********47%           ] Elapsed 1.05s / Remaining 00:00:00:01"
     ]
    },
    {
     "name": "stdout",
     "output_type": "stream",
     "text": [
      "\r",
      " [*********48%           ] Elapsed 1.06s / Remaining 00:00:00:01"
     ]
    },
    {
     "name": "stdout",
     "output_type": "stream",
     "text": [
      "\r",
      " [*********48%           ] Elapsed 1.06s / Remaining 00:00:00:01"
     ]
    },
    {
     "name": "stdout",
     "output_type": "stream",
     "text": [
      "\r",
      " [*********48%           ] Elapsed 1.07s / Remaining 00:00:00:01"
     ]
    },
    {
     "name": "stdout",
     "output_type": "stream",
     "text": [
      "\r",
      " [*********48%           ] Elapsed 1.07s / Remaining 00:00:00:01"
     ]
    },
    {
     "name": "stdout",
     "output_type": "stream",
     "text": [
      "\r",
      " [*********48%           ] Elapsed 1.07s / Remaining 00:00:00:01"
     ]
    },
    {
     "name": "stdout",
     "output_type": "stream",
     "text": [
      "\r",
      " [*********48%           ] Elapsed 1.08s / Remaining 00:00:00:01"
     ]
    },
    {
     "name": "stdout",
     "output_type": "stream",
     "text": [
      "\r",
      " [*********49%           ] Elapsed 1.08s / Remaining 00:00:00:01"
     ]
    },
    {
     "name": "stdout",
     "output_type": "stream",
     "text": [
      "\r",
      " [*********49%           ] Elapsed 1.08s / Remaining 00:00:00:01"
     ]
    },
    {
     "name": "stdout",
     "output_type": "stream",
     "text": [
      "\r",
      " [*********49%           ] Elapsed 1.09s / Remaining 00:00:00:01"
     ]
    },
    {
     "name": "stdout",
     "output_type": "stream",
     "text": [
      "\r",
      " [*********49%           ] Elapsed 1.09s / Remaining 00:00:00:01"
     ]
    },
    {
     "name": "stdout",
     "output_type": "stream",
     "text": [
      "\r",
      " [*********49%           ] Elapsed 1.09s / Remaining 00:00:00:01"
     ]
    },
    {
     "name": "stdout",
     "output_type": "stream",
     "text": [
      "\r",
      " [*********49%           ] Elapsed 1.10s / Remaining 00:00:00:01"
     ]
    },
    {
     "name": "stdout",
     "output_type": "stream",
     "text": [
      "\r",
      " [*********50%           ] Elapsed 1.10s / Remaining 00:00:00:01"
     ]
    },
    {
     "name": "stdout",
     "output_type": "stream",
     "text": [
      "\r",
      " [*********50%           ] Elapsed 1.11s / Remaining 00:00:00:01"
     ]
    },
    {
     "name": "stdout",
     "output_type": "stream",
     "text": [
      "\r",
      " [*********50%           ] Elapsed 1.11s / Remaining 00:00:00:01"
     ]
    },
    {
     "name": "stdout",
     "output_type": "stream",
     "text": [
      "\r",
      " [*********50%           ] Elapsed 1.11s / Remaining 00:00:00:01"
     ]
    },
    {
     "name": "stdout",
     "output_type": "stream",
     "text": [
      "\r",
      " [*********50%           ] Elapsed 1.12s / Remaining 00:00:00:01"
     ]
    },
    {
     "name": "stdout",
     "output_type": "stream",
     "text": [
      "\r",
      " [*********50%           ] Elapsed 1.12s / Remaining 00:00:00:01"
     ]
    },
    {
     "name": "stdout",
     "output_type": "stream",
     "text": [
      "\r"
     ]
    },
    {
     "name": "stdout",
     "output_type": "stream",
     "text": [
      " [*********51%           ] Elapsed 1.13s / Remaining 00:00:00:01"
     ]
    },
    {
     "name": "stdout",
     "output_type": "stream",
     "text": [
      "\r",
      " [*********51%           ] Elapsed 1.13s / Remaining 00:00:00:01"
     ]
    },
    {
     "name": "stdout",
     "output_type": "stream",
     "text": [
      "\r",
      " [*********51%           ] Elapsed 1.13s / Remaining 00:00:00:01"
     ]
    },
    {
     "name": "stdout",
     "output_type": "stream",
     "text": [
      "\r",
      " [*********51%           ] Elapsed 1.14s / Remaining 00:00:00:01"
     ]
    },
    {
     "name": "stdout",
     "output_type": "stream",
     "text": [
      "\r",
      " [*********51%           ] Elapsed 1.14s / Remaining 00:00:00:01"
     ]
    },
    {
     "name": "stdout",
     "output_type": "stream",
     "text": [
      "\r",
      " [*********51%           ] Elapsed 1.14s / Remaining 00:00:00:01"
     ]
    },
    {
     "name": "stdout",
     "output_type": "stream",
     "text": [
      "\r",
      " [*********52%           ] Elapsed 1.15s / Remaining 00:00:00:01"
     ]
    },
    {
     "name": "stdout",
     "output_type": "stream",
     "text": [
      "\r",
      " [*********52%           ] Elapsed 1.15s / Remaining 00:00:00:01"
     ]
    },
    {
     "name": "stdout",
     "output_type": "stream",
     "text": [
      "\r",
      " [*********52%           ] Elapsed 1.15s / Remaining 00:00:00:01"
     ]
    },
    {
     "name": "stdout",
     "output_type": "stream",
     "text": [
      "\r",
      " [*********52%           ] Elapsed 1.16s / Remaining 00:00:00:01"
     ]
    },
    {
     "name": "stdout",
     "output_type": "stream",
     "text": [
      "\r",
      " [*********52%           ] Elapsed 1.16s / Remaining 00:00:00:01"
     ]
    },
    {
     "name": "stdout",
     "output_type": "stream",
     "text": [
      "\r",
      " [*********52%           ] Elapsed 1.16s / Remaining 00:00:00:01"
     ]
    },
    {
     "name": "stdout",
     "output_type": "stream",
     "text": [
      "\r",
      " [*********53%           ] Elapsed 1.17s / Remaining 00:00:00:01"
     ]
    },
    {
     "name": "stdout",
     "output_type": "stream",
     "text": [
      "\r",
      " [*********53%           ] Elapsed 1.17s / Remaining 00:00:00:01"
     ]
    },
    {
     "name": "stdout",
     "output_type": "stream",
     "text": [
      "\r",
      " [*********53%           ] Elapsed 1.18s / Remaining 00:00:00:01"
     ]
    },
    {
     "name": "stdout",
     "output_type": "stream",
     "text": [
      "\r",
      " [*********53%           ] Elapsed 1.18s / Remaining 00:00:00:01"
     ]
    },
    {
     "name": "stdout",
     "output_type": "stream",
     "text": [
      "\r",
      " [*********53%           ] Elapsed 1.18s / Remaining 00:00:00:01"
     ]
    },
    {
     "name": "stdout",
     "output_type": "stream",
     "text": [
      "\r",
      " [*********53%           ] Elapsed 1.19s / Remaining 00:00:00:01"
     ]
    },
    {
     "name": "stdout",
     "output_type": "stream",
     "text": [
      "\r",
      " [*********54%           ] Elapsed 1.19s / Remaining 00:00:00:01"
     ]
    },
    {
     "name": "stdout",
     "output_type": "stream",
     "text": [
      "\r",
      " [*********54%           ] Elapsed 1.19s / Remaining 00:00:00:01"
     ]
    },
    {
     "name": "stdout",
     "output_type": "stream",
     "text": [
      "\r",
      " [*********54%           ] Elapsed 1.20s / Remaining 00:00:00:01"
     ]
    },
    {
     "name": "stdout",
     "output_type": "stream",
     "text": [
      "\r",
      " [*********54%           ] Elapsed 1.20s / Remaining 00:00:00:01"
     ]
    },
    {
     "name": "stdout",
     "output_type": "stream",
     "text": [
      "\r",
      " [*********54%           ] Elapsed 1.20s / Remaining 00:00:00:01"
     ]
    },
    {
     "name": "stdout",
     "output_type": "stream",
     "text": [
      "\r",
      " [*********54%           ] Elapsed 1.21s / Remaining 00:00:00:01"
     ]
    },
    {
     "name": "stdout",
     "output_type": "stream",
     "text": [
      "\r",
      " [*********55%*          ] Elapsed 1.21s / Remaining 00:00:00:00"
     ]
    },
    {
     "name": "stdout",
     "output_type": "stream",
     "text": [
      "\r",
      " [*********55%*          ] Elapsed 1.21s / Remaining 00:00:00:00"
     ]
    },
    {
     "name": "stdout",
     "output_type": "stream",
     "text": [
      "\r",
      " [*********55%*          ] Elapsed 1.22s / Remaining 00:00:00:00"
     ]
    },
    {
     "name": "stdout",
     "output_type": "stream",
     "text": [
      "\r",
      " [*********55%*          ] Elapsed 1.22s / Remaining 00:00:00:00"
     ]
    },
    {
     "name": "stdout",
     "output_type": "stream",
     "text": [
      "\r",
      " [*********55%*          ] Elapsed 1.22s / Remaining 00:00:00:01"
     ]
    },
    {
     "name": "stdout",
     "output_type": "stream",
     "text": [
      "\r",
      " [*********55%*          ] Elapsed 1.23s / Remaining 00:00:00:01"
     ]
    },
    {
     "name": "stdout",
     "output_type": "stream",
     "text": [
      "\r",
      " [*********56%*          ] Elapsed 1.23s / Remaining 00:00:00:00"
     ]
    },
    {
     "name": "stdout",
     "output_type": "stream",
     "text": [
      "\r",
      " [*********56%*          ] Elapsed 1.23s / Remaining 00:00:00:00"
     ]
    },
    {
     "name": "stdout",
     "output_type": "stream",
     "text": [
      "\r",
      " [*********56%*          ] Elapsed 1.24s / Remaining 00:00:00:00"
     ]
    },
    {
     "name": "stdout",
     "output_type": "stream",
     "text": [
      "\r",
      " [*********56%*          ] Elapsed 1.24s / Remaining 00:00:00:00"
     ]
    },
    {
     "name": "stdout",
     "output_type": "stream",
     "text": [
      "\r",
      " [*********56%*          ] Elapsed 1.24s / Remaining 00:00:00:00"
     ]
    },
    {
     "name": "stdout",
     "output_type": "stream",
     "text": [
      "\r",
      " [*********56%*          ] Elapsed 1.25s / Remaining 00:00:00:00"
     ]
    },
    {
     "name": "stdout",
     "output_type": "stream",
     "text": [
      "\r",
      " [*********57%*          ] Elapsed 1.25s / Remaining 00:00:00:00"
     ]
    },
    {
     "name": "stdout",
     "output_type": "stream",
     "text": [
      "\r",
      " [*********57%*          ] Elapsed 1.25s / Remaining 00:00:00:00"
     ]
    },
    {
     "name": "stdout",
     "output_type": "stream",
     "text": [
      "\r",
      " [*********57%*          ] Elapsed 1.26s / Remaining 00:00:00:00"
     ]
    },
    {
     "name": "stdout",
     "output_type": "stream",
     "text": [
      "\r",
      " [*********57%*          ] Elapsed 1.26s / Remaining 00:00:00:00"
     ]
    },
    {
     "name": "stdout",
     "output_type": "stream",
     "text": [
      "\r",
      " [*********57%*          ] Elapsed 1.27s / Remaining 00:00:00:00"
     ]
    },
    {
     "name": "stdout",
     "output_type": "stream",
     "text": [
      "\r",
      " [*********57%*          ] Elapsed 1.27s / Remaining 00:00:00:00"
     ]
    },
    {
     "name": "stdout",
     "output_type": "stream",
     "text": [
      "\r",
      " [*********58%*          ] Elapsed 1.27s / Remaining 00:00:00:00"
     ]
    },
    {
     "name": "stdout",
     "output_type": "stream",
     "text": [
      "\r",
      " [*********58%*          ] Elapsed 1.28s / Remaining 00:00:00:00"
     ]
    },
    {
     "name": "stdout",
     "output_type": "stream",
     "text": [
      "\r",
      " [*********58%*          ] Elapsed 1.28s / Remaining 00:00:00:00"
     ]
    },
    {
     "name": "stdout",
     "output_type": "stream",
     "text": [
      "\r",
      " [*********58%*          ] Elapsed 1.28s / Remaining 00:00:00:00"
     ]
    },
    {
     "name": "stdout",
     "output_type": "stream",
     "text": [
      "\r",
      " [*********58%*          ] Elapsed 1.29s / Remaining 00:00:00:00"
     ]
    },
    {
     "name": "stdout",
     "output_type": "stream",
     "text": [
      "\r",
      " [*********58%*          ] Elapsed 1.29s / Remaining 00:00:00:00"
     ]
    },
    {
     "name": "stdout",
     "output_type": "stream",
     "text": [
      "\r",
      " [*********59%**         ] Elapsed 1.29s / Remaining 00:00:00:00"
     ]
    },
    {
     "name": "stdout",
     "output_type": "stream",
     "text": [
      "\r",
      " [*********59%**         ] Elapsed 1.30s / Remaining 00:00:00:00"
     ]
    },
    {
     "name": "stdout",
     "output_type": "stream",
     "text": [
      "\r",
      " [*********59%**         ] Elapsed 1.30s / Remaining 00:00:00:00"
     ]
    },
    {
     "name": "stdout",
     "output_type": "stream",
     "text": [
      "\r",
      " [*********59%**         ] Elapsed 1.30s / Remaining 00:00:00:00"
     ]
    },
    {
     "name": "stdout",
     "output_type": "stream",
     "text": [
      "\r",
      " [*********59%**         ] Elapsed 1.31s / Remaining 00:00:00:00"
     ]
    },
    {
     "name": "stdout",
     "output_type": "stream",
     "text": [
      "\r",
      " [*********59%**         ] Elapsed 1.31s / Remaining 00:00:00:00"
     ]
    },
    {
     "name": "stdout",
     "output_type": "stream",
     "text": [
      "\r",
      " [*********60%**         ] Elapsed 1.32s / Remaining 00:00:00:00"
     ]
    },
    {
     "name": "stdout",
     "output_type": "stream",
     "text": [
      "\r",
      " [*********60%**         ] Elapsed 1.32s / Remaining 00:00:00:00"
     ]
    },
    {
     "name": "stdout",
     "output_type": "stream",
     "text": [
      "\r",
      " [*********60%**         ] Elapsed 1.32s / Remaining 00:00:00:00"
     ]
    },
    {
     "name": "stdout",
     "output_type": "stream",
     "text": [
      "\r",
      " [*********60%**         ] Elapsed 1.33s / Remaining 00:00:00:00"
     ]
    },
    {
     "name": "stdout",
     "output_type": "stream",
     "text": [
      "\r",
      " [*********60%**         ] Elapsed 1.33s / Remaining 00:00:00:00"
     ]
    },
    {
     "name": "stdout",
     "output_type": "stream",
     "text": [
      "\r",
      " [*********60%**         ] Elapsed 1.33s / Remaining 00:00:00:00"
     ]
    },
    {
     "name": "stdout",
     "output_type": "stream",
     "text": [
      "\r",
      " [*********61%**         ] Elapsed 1.34s / Remaining 00:00:00:00"
     ]
    },
    {
     "name": "stdout",
     "output_type": "stream",
     "text": [
      "\r",
      " [*********61%**         ] Elapsed 1.34s / Remaining 00:00:00:00"
     ]
    },
    {
     "name": "stdout",
     "output_type": "stream",
     "text": [
      "\r",
      " [*********61%**         ] Elapsed 1.35s / Remaining 00:00:00:00"
     ]
    },
    {
     "name": "stdout",
     "output_type": "stream",
     "text": [
      "\r",
      " [*********61%**         ] Elapsed 1.35s / Remaining 00:00:00:00"
     ]
    },
    {
     "name": "stdout",
     "output_type": "stream",
     "text": [
      "\r",
      " [*********61%**         ] Elapsed 1.35s / Remaining 00:00:00:00"
     ]
    },
    {
     "name": "stdout",
     "output_type": "stream",
     "text": [
      "\r",
      " [*********61%**         ] Elapsed 1.36s / Remaining 00:00:00:00"
     ]
    },
    {
     "name": "stdout",
     "output_type": "stream",
     "text": [
      "\r",
      " [*********62%**         ] Elapsed 1.36s / Remaining 00:00:00:00"
     ]
    },
    {
     "name": "stdout",
     "output_type": "stream",
     "text": [
      "\r",
      " [*********62%**         ] Elapsed 1.36s / Remaining 00:00:00:00"
     ]
    },
    {
     "name": "stdout",
     "output_type": "stream",
     "text": [
      "\r",
      " [*********62%**         ] Elapsed 1.37s / Remaining 00:00:00:00"
     ]
    },
    {
     "name": "stdout",
     "output_type": "stream",
     "text": [
      "\r",
      " [*********62%**         ] Elapsed 1.37s / Remaining 00:00:00:00"
     ]
    },
    {
     "name": "stdout",
     "output_type": "stream",
     "text": [
      "\r",
      " [*********62%**         ] Elapsed 1.37s / Remaining 00:00:00:00"
     ]
    },
    {
     "name": "stdout",
     "output_type": "stream",
     "text": [
      "\r",
      " [*********62%**         ] Elapsed 1.38s / Remaining 00:00:00:00"
     ]
    },
    {
     "name": "stdout",
     "output_type": "stream",
     "text": [
      "\r",
      " [*********63%**         ] Elapsed 1.38s / Remaining 00:00:00:00"
     ]
    },
    {
     "name": "stdout",
     "output_type": "stream",
     "text": [
      "\r",
      " [*********63%**         ] Elapsed 1.38s / Remaining 00:00:00:00"
     ]
    },
    {
     "name": "stdout",
     "output_type": "stream",
     "text": [
      "\r",
      " [*********63%**         ] Elapsed 1.39s / Remaining 00:00:00:00"
     ]
    },
    {
     "name": "stdout",
     "output_type": "stream",
     "text": [
      "\r",
      " [*********63%**         ] Elapsed 1.39s / Remaining 00:00:00:00"
     ]
    },
    {
     "name": "stdout",
     "output_type": "stream",
     "text": [
      "\r",
      " [*********63%**         ] Elapsed 1.39s / Remaining 00:00:00:00"
     ]
    },
    {
     "name": "stdout",
     "output_type": "stream",
     "text": [
      "\r",
      " [*********63%**         ] Elapsed 1.40s / Remaining 00:00:00:00"
     ]
    },
    {
     "name": "stdout",
     "output_type": "stream",
     "text": [
      "\r",
      " [*********64%***        ] Elapsed 1.40s / Remaining 00:00:00:00"
     ]
    },
    {
     "name": "stdout",
     "output_type": "stream",
     "text": [
      "\r",
      " [*********64%***        ] Elapsed 1.40s / Remaining 00:00:00:00"
     ]
    },
    {
     "name": "stdout",
     "output_type": "stream",
     "text": [
      "\r",
      " [*********64%***        ] Elapsed 1.41s / Remaining 00:00:00:00"
     ]
    },
    {
     "name": "stdout",
     "output_type": "stream",
     "text": [
      "\r",
      " [*********64%***        ] Elapsed 1.41s / Remaining 00:00:00:00"
     ]
    },
    {
     "name": "stdout",
     "output_type": "stream",
     "text": [
      "\r",
      " [*********64%***        ] Elapsed 1.41s / Remaining 00:00:00:00"
     ]
    },
    {
     "name": "stdout",
     "output_type": "stream",
     "text": [
      "\r",
      " [*********64%***        ] Elapsed 1.42s / Remaining 00:00:00:00"
     ]
    },
    {
     "name": "stdout",
     "output_type": "stream",
     "text": [
      "\r",
      " [*********65%***        ] Elapsed 1.42s / Remaining 00:00:00:00"
     ]
    },
    {
     "name": "stdout",
     "output_type": "stream",
     "text": [
      "\r",
      " [*********65%***        ] Elapsed 1.42s / Remaining 00:00:00:00"
     ]
    },
    {
     "name": "stdout",
     "output_type": "stream",
     "text": [
      "\r",
      " [*********65%***        ] Elapsed 1.43s / Remaining 00:00:00:00"
     ]
    },
    {
     "name": "stdout",
     "output_type": "stream",
     "text": [
      "\r",
      " [*********65%***        ] Elapsed 1.43s / Remaining 00:00:00:00"
     ]
    },
    {
     "name": "stdout",
     "output_type": "stream",
     "text": [
      "\r",
      " [*********65%***        ] Elapsed 1.43s / Remaining 00:00:00:00"
     ]
    },
    {
     "name": "stdout",
     "output_type": "stream",
     "text": [
      "\r",
      " [*********65%***        ] Elapsed 1.44s / Remaining 00:00:00:00"
     ]
    },
    {
     "name": "stdout",
     "output_type": "stream",
     "text": [
      "\r",
      " [*********66%***        ] Elapsed 1.44s / Remaining 00:00:00:00"
     ]
    },
    {
     "name": "stdout",
     "output_type": "stream",
     "text": [
      "\r",
      " [*********66%***        ] Elapsed 1.44s / Remaining 00:00:00:00"
     ]
    },
    {
     "name": "stdout",
     "output_type": "stream",
     "text": [
      "\r",
      " [*********66%***        ] Elapsed 1.45s / Remaining 00:00:00:00"
     ]
    },
    {
     "name": "stdout",
     "output_type": "stream",
     "text": [
      "\r",
      " [*********66%***        ] Elapsed 1.45s / Remaining 00:00:00:00"
     ]
    },
    {
     "name": "stdout",
     "output_type": "stream",
     "text": [
      "\r",
      " [*********66%***        ] Elapsed 1.46s / Remaining 00:00:00:00"
     ]
    },
    {
     "name": "stdout",
     "output_type": "stream",
     "text": [
      "\r",
      " [*********66%***        ] Elapsed 1.46s / Remaining 00:00:00:00"
     ]
    },
    {
     "name": "stdout",
     "output_type": "stream",
     "text": [
      "\r",
      " [*********67%***        ] Elapsed 1.46s / Remaining 00:00:00:00"
     ]
    },
    {
     "name": "stdout",
     "output_type": "stream",
     "text": [
      "\r",
      " [*********67%***        ] Elapsed 1.47s / Remaining 00:00:00:00"
     ]
    },
    {
     "name": "stdout",
     "output_type": "stream",
     "text": [
      "\r",
      " [*********67%***        ] Elapsed 1.47s / Remaining 00:00:00:00"
     ]
    },
    {
     "name": "stdout",
     "output_type": "stream",
     "text": [
      "\r",
      " [*********67%***        ] Elapsed 1.47s / Remaining 00:00:00:00"
     ]
    },
    {
     "name": "stdout",
     "output_type": "stream",
     "text": [
      "\r",
      " [*********67%***        ] Elapsed 1.47s / Remaining 00:00:00:00"
     ]
    },
    {
     "name": "stdout",
     "output_type": "stream",
     "text": [
      "\r",
      " [*********67%***        ] Elapsed 1.48s / Remaining 00:00:00:00"
     ]
    },
    {
     "name": "stdout",
     "output_type": "stream",
     "text": [
      "\r",
      " [*********68%****       ] Elapsed 1.48s / Remaining 00:00:00:00"
     ]
    },
    {
     "name": "stdout",
     "output_type": "stream",
     "text": [
      "\r",
      " [*********68%****       ] Elapsed 1.49s / Remaining 00:00:00:00"
     ]
    },
    {
     "name": "stdout",
     "output_type": "stream",
     "text": [
      "\r",
      " [*********68%****       ] Elapsed 1.49s / Remaining 00:00:00:00"
     ]
    },
    {
     "name": "stdout",
     "output_type": "stream",
     "text": [
      "\r",
      " [*********68%****       ] Elapsed 1.49s / Remaining 00:00:00:00"
     ]
    },
    {
     "name": "stdout",
     "output_type": "stream",
     "text": [
      "\r",
      " [*********68%****       ] Elapsed 1.50s / Remaining 00:00:00:00"
     ]
    },
    {
     "name": "stdout",
     "output_type": "stream",
     "text": [
      "\r",
      " [*********68%****       ] Elapsed 1.50s / Remaining 00:00:00:00"
     ]
    },
    {
     "name": "stdout",
     "output_type": "stream",
     "text": [
      "\r",
      " [*********69%****       ] Elapsed 1.50s / Remaining 00:00:00:00"
     ]
    },
    {
     "name": "stdout",
     "output_type": "stream",
     "text": [
      "\r",
      " [*********69%****       ] Elapsed 1.51s / Remaining 00:00:00:00"
     ]
    },
    {
     "name": "stdout",
     "output_type": "stream",
     "text": [
      "\r",
      " [*********69%****       ] Elapsed 1.51s / Remaining 00:00:00:00"
     ]
    },
    {
     "name": "stdout",
     "output_type": "stream",
     "text": [
      "\r",
      " [*********69%****       ] Elapsed 1.51s / Remaining 00:00:00:00"
     ]
    },
    {
     "name": "stdout",
     "output_type": "stream",
     "text": [
      "\r",
      " [*********69%****       ] Elapsed 1.52s / Remaining 00:00:00:00"
     ]
    },
    {
     "name": "stdout",
     "output_type": "stream",
     "text": [
      "\r",
      " [*********69%****       ] Elapsed 1.52s / Remaining 00:00:00:00"
     ]
    },
    {
     "name": "stdout",
     "output_type": "stream",
     "text": [
      "\r",
      " [*********70%****       ] Elapsed 1.52s / Remaining 00:00:00:00"
     ]
    },
    {
     "name": "stdout",
     "output_type": "stream",
     "text": [
      "\r",
      " [*********70%****       ] Elapsed 1.53s / Remaining 00:00:00:00"
     ]
    },
    {
     "name": "stdout",
     "output_type": "stream",
     "text": [
      "\r",
      " [*********70%****       ] Elapsed 1.53s / Remaining 00:00:00:00"
     ]
    },
    {
     "name": "stdout",
     "output_type": "stream",
     "text": [
      "\r",
      " [*********70%****       ] Elapsed 1.53s / Remaining 00:00:00:00"
     ]
    },
    {
     "name": "stdout",
     "output_type": "stream",
     "text": [
      "\r",
      " [*********70%****       ] Elapsed 1.54s / Remaining 00:00:00:00"
     ]
    },
    {
     "name": "stdout",
     "output_type": "stream",
     "text": [
      "\r",
      " [*********70%****       ] Elapsed 1.54s / Remaining 00:00:00:00"
     ]
    },
    {
     "name": "stdout",
     "output_type": "stream",
     "text": [
      "\r",
      " [*********71%****       ] Elapsed 1.54s / Remaining 00:00:00:00"
     ]
    },
    {
     "name": "stdout",
     "output_type": "stream",
     "text": [
      "\r",
      " [*********71%****       ] Elapsed 1.55s / Remaining 00:00:00:00"
     ]
    },
    {
     "name": "stdout",
     "output_type": "stream",
     "text": [
      "\r",
      " [*********71%****       ] Elapsed 1.55s / Remaining 00:00:00:00"
     ]
    },
    {
     "name": "stdout",
     "output_type": "stream",
     "text": [
      "\r",
      " [*********71%****       ] Elapsed 1.55s / Remaining 00:00:00:00"
     ]
    },
    {
     "name": "stdout",
     "output_type": "stream",
     "text": [
      "\r",
      " [*********71%****       ] Elapsed 1.56s / Remaining 00:00:00:00"
     ]
    },
    {
     "name": "stdout",
     "output_type": "stream",
     "text": [
      "\r",
      " [*********71%****       ] Elapsed 1.56s / Remaining 00:00:00:00"
     ]
    },
    {
     "name": "stdout",
     "output_type": "stream",
     "text": [
      "\r",
      " [*********72%*****      ] Elapsed 1.56s / Remaining 00:00:00:00"
     ]
    },
    {
     "name": "stdout",
     "output_type": "stream",
     "text": [
      "\r",
      " [*********72%*****      ] Elapsed 1.57s / Remaining 00:00:00:00"
     ]
    },
    {
     "name": "stdout",
     "output_type": "stream",
     "text": [
      "\r",
      " [*********72%*****      ] Elapsed 1.57s / Remaining 00:00:00:00"
     ]
    },
    {
     "name": "stdout",
     "output_type": "stream",
     "text": [
      "\r",
      " [*********72%*****      ] Elapsed 1.58s / Remaining 00:00:00:00"
     ]
    },
    {
     "name": "stdout",
     "output_type": "stream",
     "text": [
      "\r",
      " [*********72%*****      ] Elapsed 1.58s / Remaining 00:00:00:00"
     ]
    },
    {
     "name": "stdout",
     "output_type": "stream",
     "text": [
      "\r",
      " [*********72%*****      ] Elapsed 1.58s / Remaining 00:00:00:00"
     ]
    },
    {
     "name": "stdout",
     "output_type": "stream",
     "text": [
      "\r",
      " [*********73%*****      ] Elapsed 1.59s / Remaining 00:00:00:00"
     ]
    },
    {
     "name": "stdout",
     "output_type": "stream",
     "text": [
      "\r",
      " [*********73%*****      ] Elapsed 1.59s / Remaining 00:00:00:00"
     ]
    },
    {
     "name": "stdout",
     "output_type": "stream",
     "text": [
      "\r",
      " [*********73%*****      ] Elapsed 1.59s / Remaining 00:00:00:00"
     ]
    },
    {
     "name": "stdout",
     "output_type": "stream",
     "text": [
      "\r",
      " [*********73%*****      ] Elapsed 1.60s / Remaining 00:00:00:00"
     ]
    },
    {
     "name": "stdout",
     "output_type": "stream",
     "text": [
      "\r",
      " [*********73%*****      ] Elapsed 1.60s / Remaining 00:00:00:00"
     ]
    },
    {
     "name": "stdout",
     "output_type": "stream",
     "text": [
      "\r",
      " [*********73%*****      ] Elapsed 1.60s / Remaining 00:00:00:00"
     ]
    },
    {
     "name": "stdout",
     "output_type": "stream",
     "text": [
      "\r",
      " [*********74%*****      ] Elapsed 1.61s / Remaining 00:00:00:00"
     ]
    },
    {
     "name": "stdout",
     "output_type": "stream",
     "text": [
      "\r",
      " [*********74%*****      ] Elapsed 1.61s / Remaining 00:00:00:00"
     ]
    },
    {
     "name": "stdout",
     "output_type": "stream",
     "text": [
      "\r",
      " [*********74%*****      ] Elapsed 1.62s / Remaining 00:00:00:00"
     ]
    },
    {
     "name": "stdout",
     "output_type": "stream",
     "text": [
      "\r",
      " [*********74%*****      ] Elapsed 1.62s / Remaining 00:00:00:00"
     ]
    },
    {
     "name": "stdout",
     "output_type": "stream",
     "text": [
      "\r",
      " [*********74%*****      ] Elapsed 1.62s / Remaining 00:00:00:00"
     ]
    },
    {
     "name": "stdout",
     "output_type": "stream",
     "text": [
      "\r",
      " [*********74%*****      ] Elapsed 1.63s / Remaining 00:00:00:00"
     ]
    },
    {
     "name": "stdout",
     "output_type": "stream",
     "text": [
      "\r",
      " [*********75%*****      ] Elapsed 1.63s / Remaining 00:00:00:00"
     ]
    },
    {
     "name": "stdout",
     "output_type": "stream",
     "text": [
      "\r",
      " [*********75%*****      ] Elapsed 1.64s / Remaining 00:00:00:00"
     ]
    },
    {
     "name": "stdout",
     "output_type": "stream",
     "text": [
      "\r",
      " [*********75%*****      ] Elapsed 1.64s / Remaining 00:00:00:00"
     ]
    },
    {
     "name": "stdout",
     "output_type": "stream",
     "text": [
      "\r",
      " [*********75%*****      ] Elapsed 1.64s / Remaining 00:00:00:00"
     ]
    },
    {
     "name": "stdout",
     "output_type": "stream",
     "text": [
      "\r",
      " [*********75%*****      ] Elapsed 1.65s / Remaining 00:00:00:00"
     ]
    },
    {
     "name": "stdout",
     "output_type": "stream",
     "text": [
      "\r",
      " [*********75%*****      ] Elapsed 1.65s / Remaining 00:00:00:00"
     ]
    },
    {
     "name": "stdout",
     "output_type": "stream",
     "text": [
      "\r",
      " [*********76%*****      ] Elapsed 1.65s / Remaining 00:00:00:00"
     ]
    },
    {
     "name": "stdout",
     "output_type": "stream",
     "text": [
      "\r",
      " [*********76%*****      ] Elapsed 1.66s / Remaining 00:00:00:00"
     ]
    },
    {
     "name": "stdout",
     "output_type": "stream",
     "text": [
      "\r",
      " [*********76%*****      ] Elapsed 1.66s / Remaining 00:00:00:00"
     ]
    },
    {
     "name": "stdout",
     "output_type": "stream",
     "text": [
      "\r",
      " [*********76%*****      ] Elapsed 1.66s / Remaining 00:00:00:00"
     ]
    },
    {
     "name": "stdout",
     "output_type": "stream",
     "text": [
      "\r",
      " [*********76%*****      ] Elapsed 1.67s / Remaining 00:00:00:00"
     ]
    },
    {
     "name": "stdout",
     "output_type": "stream",
     "text": [
      "\r",
      " [*********76%*****      ] Elapsed 1.67s / Remaining 00:00:00:00"
     ]
    },
    {
     "name": "stdout",
     "output_type": "stream",
     "text": [
      "\r",
      " [*********77%******     ] Elapsed 1.67s / Remaining 00:00:00:00"
     ]
    },
    {
     "name": "stdout",
     "output_type": "stream",
     "text": [
      "\r",
      " [*********77%******     ] Elapsed 1.68s / Remaining 00:00:00:00"
     ]
    },
    {
     "name": "stdout",
     "output_type": "stream",
     "text": [
      "\r",
      " [*********77%******     ] Elapsed 1.68s / Remaining 00:00:00:00"
     ]
    },
    {
     "name": "stdout",
     "output_type": "stream",
     "text": [
      "\r",
      " [*********77%******     ] Elapsed 1.69s / Remaining 00:00:00:00"
     ]
    },
    {
     "name": "stdout",
     "output_type": "stream",
     "text": [
      "\r",
      " [*********77%******     ] Elapsed 1.69s / Remaining 00:00:00:00"
     ]
    },
    {
     "name": "stdout",
     "output_type": "stream",
     "text": [
      "\r",
      " [*********77%******     ] Elapsed 1.69s / Remaining 00:00:00:00"
     ]
    },
    {
     "name": "stdout",
     "output_type": "stream",
     "text": [
      "\r",
      " [*********78%******     ] Elapsed 1.70s / Remaining 00:00:00:00"
     ]
    },
    {
     "name": "stdout",
     "output_type": "stream",
     "text": [
      "\r",
      " [*********78%******     ] Elapsed 1.70s / Remaining 00:00:00:00"
     ]
    },
    {
     "name": "stdout",
     "output_type": "stream",
     "text": [
      "\r",
      " [*********78%******     ] Elapsed 1.70s / Remaining 00:00:00:00"
     ]
    },
    {
     "name": "stdout",
     "output_type": "stream",
     "text": [
      "\r",
      " [*********78%******     ] Elapsed 1.71s / Remaining 00:00:00:00"
     ]
    },
    {
     "name": "stdout",
     "output_type": "stream",
     "text": [
      "\r",
      " [*********78%******     ] Elapsed 1.71s / Remaining 00:00:00:00"
     ]
    },
    {
     "name": "stdout",
     "output_type": "stream",
     "text": [
      "\r",
      " [*********78%******     ] Elapsed 1.71s / Remaining 00:00:00:00"
     ]
    },
    {
     "name": "stdout",
     "output_type": "stream",
     "text": [
      "\r",
      " [*********79%******     ] Elapsed 1.71s / Remaining 00:00:00:00"
     ]
    },
    {
     "name": "stdout",
     "output_type": "stream",
     "text": [
      "\r",
      " [*********79%******     ] Elapsed 1.72s / Remaining 00:00:00:00"
     ]
    },
    {
     "name": "stdout",
     "output_type": "stream",
     "text": [
      "\r",
      " [*********79%******     ] Elapsed 1.72s / Remaining 00:00:00:00"
     ]
    },
    {
     "name": "stdout",
     "output_type": "stream",
     "text": [
      "\r",
      " [*********79%******     ] Elapsed 1.73s / Remaining 00:00:00:00"
     ]
    },
    {
     "name": "stdout",
     "output_type": "stream",
     "text": [
      "\r",
      " [*********79%******     ] Elapsed 1.73s / Remaining 00:00:00:00"
     ]
    },
    {
     "name": "stdout",
     "output_type": "stream",
     "text": [
      "\r",
      " [*********79%******     ] Elapsed 1.73s / Remaining 00:00:00:00"
     ]
    },
    {
     "name": "stdout",
     "output_type": "stream",
     "text": [
      "\r",
      " [*********80%******     ] Elapsed 1.74s / Remaining 00:00:00:00"
     ]
    },
    {
     "name": "stdout",
     "output_type": "stream",
     "text": [
      "\r",
      " [*********80%******     ] Elapsed 1.74s / Remaining 00:00:00:00"
     ]
    },
    {
     "name": "stdout",
     "output_type": "stream",
     "text": [
      "\r",
      " [*********80%******     ] Elapsed 1.75s / Remaining 00:00:00:00"
     ]
    },
    {
     "name": "stdout",
     "output_type": "stream",
     "text": [
      "\r",
      " [*********80%******     ] Elapsed 1.75s / Remaining 00:00:00:00"
     ]
    },
    {
     "name": "stdout",
     "output_type": "stream",
     "text": [
      "\r",
      " [*********80%******     ] Elapsed 1.76s / Remaining 00:00:00:00"
     ]
    },
    {
     "name": "stdout",
     "output_type": "stream",
     "text": [
      "\r",
      " [*********80%******     ] Elapsed 1.76s / Remaining 00:00:00:00"
     ]
    },
    {
     "name": "stdout",
     "output_type": "stream",
     "text": [
      "\r",
      " [*********81%*******    ] Elapsed 1.77s / Remaining 00:00:00:00"
     ]
    },
    {
     "name": "stdout",
     "output_type": "stream",
     "text": [
      "\r",
      " [*********81%*******    ] Elapsed 1.77s / Remaining 00:00:00:00"
     ]
    },
    {
     "name": "stdout",
     "output_type": "stream",
     "text": [
      "\r",
      " [*********81%*******    ] Elapsed 1.78s / Remaining 00:00:00:00"
     ]
    },
    {
     "name": "stdout",
     "output_type": "stream",
     "text": [
      "\r"
     ]
    },
    {
     "name": "stdout",
     "output_type": "stream",
     "text": [
      " [*********81%*******    ] Elapsed 1.78s / Remaining 00:00:00:00"
     ]
    },
    {
     "name": "stdout",
     "output_type": "stream",
     "text": [
      "\r",
      " [*********81%*******    ] Elapsed 1.79s / Remaining 00:00:00:00"
     ]
    },
    {
     "name": "stdout",
     "output_type": "stream",
     "text": [
      "\r",
      " [*********81%*******    ] Elapsed 1.79s / Remaining 00:00:00:00"
     ]
    },
    {
     "name": "stdout",
     "output_type": "stream",
     "text": [
      "\r",
      " [*********82%*******    ] Elapsed 1.79s / Remaining 00:00:00:00"
     ]
    },
    {
     "name": "stdout",
     "output_type": "stream",
     "text": [
      "\r",
      " [*********82%*******    ] Elapsed 1.80s / Remaining 00:00:00:00"
     ]
    },
    {
     "name": "stdout",
     "output_type": "stream",
     "text": [
      "\r",
      " [*********82%*******    ] Elapsed 1.80s / Remaining 00:00:00:00"
     ]
    },
    {
     "name": "stdout",
     "output_type": "stream",
     "text": [
      "\r",
      " [*********82%*******    ] Elapsed 1.80s / Remaining 00:00:00:00"
     ]
    },
    {
     "name": "stdout",
     "output_type": "stream",
     "text": [
      "\r",
      " [*********82%*******    ] Elapsed 1.81s / Remaining 00:00:00:00"
     ]
    },
    {
     "name": "stdout",
     "output_type": "stream",
     "text": [
      "\r",
      " [*********82%*******    ] Elapsed 1.81s / Remaining 00:00:00:00"
     ]
    },
    {
     "name": "stdout",
     "output_type": "stream",
     "text": [
      "\r",
      " [*********83%*******    ] Elapsed 1.81s / Remaining 00:00:00:00"
     ]
    },
    {
     "name": "stdout",
     "output_type": "stream",
     "text": [
      "\r",
      " [*********83%*******    ] Elapsed 1.82s / Remaining 00:00:00:00"
     ]
    },
    {
     "name": "stdout",
     "output_type": "stream",
     "text": [
      "\r",
      " [*********83%*******    ] Elapsed 1.82s / Remaining 00:00:00:00"
     ]
    },
    {
     "name": "stdout",
     "output_type": "stream",
     "text": [
      "\r",
      " [*********83%*******    ] Elapsed 1.82s / Remaining 00:00:00:00"
     ]
    },
    {
     "name": "stdout",
     "output_type": "stream",
     "text": [
      "\r",
      " [*********83%*******    ] Elapsed 1.83s / Remaining 00:00:00:00"
     ]
    },
    {
     "name": "stdout",
     "output_type": "stream",
     "text": [
      "\r",
      " [*********83%*******    ] Elapsed 1.83s / Remaining 00:00:00:00"
     ]
    },
    {
     "name": "stdout",
     "output_type": "stream",
     "text": [
      "\r",
      " [*********84%*******    ] Elapsed 1.83s / Remaining 00:00:00:00"
     ]
    },
    {
     "name": "stdout",
     "output_type": "stream",
     "text": [
      "\r",
      " [*********84%*******    ] Elapsed 1.84s / Remaining 00:00:00:00"
     ]
    },
    {
     "name": "stdout",
     "output_type": "stream",
     "text": [
      "\r",
      " [*********84%*******    ] Elapsed 1.84s / Remaining 00:00:00:00"
     ]
    },
    {
     "name": "stdout",
     "output_type": "stream",
     "text": [
      "\r",
      " [*********84%*******    ] Elapsed 1.84s / Remaining 00:00:00:00"
     ]
    },
    {
     "name": "stdout",
     "output_type": "stream",
     "text": [
      "\r",
      " [*********84%*******    ] Elapsed 1.85s / Remaining 00:00:00:00"
     ]
    },
    {
     "name": "stdout",
     "output_type": "stream",
     "text": [
      "\r",
      " [*********84%*******    ] Elapsed 1.85s / Remaining 00:00:00:00"
     ]
    },
    {
     "name": "stdout",
     "output_type": "stream",
     "text": [
      "\r"
     ]
    },
    {
     "name": "stdout",
     "output_type": "stream",
     "text": [
      " [*********85%********   ] Elapsed 1.86s / Remaining 00:00:00:00"
     ]
    },
    {
     "name": "stdout",
     "output_type": "stream",
     "text": [
      "\r",
      " [*********85%********   ] Elapsed 1.86s / Remaining 00:00:00:00"
     ]
    },
    {
     "name": "stdout",
     "output_type": "stream",
     "text": [
      "\r",
      " [*********85%********   ] Elapsed 1.86s / Remaining 00:00:00:00"
     ]
    },
    {
     "name": "stdout",
     "output_type": "stream",
     "text": [
      "\r",
      " [*********85%********   ] Elapsed 1.87s / Remaining 00:00:00:00"
     ]
    },
    {
     "name": "stdout",
     "output_type": "stream",
     "text": [
      "\r",
      " [*********85%********   ] Elapsed 1.87s / Remaining 00:00:00:00"
     ]
    },
    {
     "name": "stdout",
     "output_type": "stream",
     "text": [
      "\r",
      " [*********85%********   ] Elapsed 1.87s / Remaining 00:00:00:00"
     ]
    },
    {
     "name": "stdout",
     "output_type": "stream",
     "text": [
      "\r",
      " [*********86%********   ] Elapsed 1.88s / Remaining 00:00:00:00"
     ]
    },
    {
     "name": "stdout",
     "output_type": "stream",
     "text": [
      "\r",
      " [*********86%********   ] Elapsed 1.88s / Remaining 00:00:00:00"
     ]
    },
    {
     "name": "stdout",
     "output_type": "stream",
     "text": [
      "\r",
      " [*********86%********   ] Elapsed 1.88s / Remaining 00:00:00:00"
     ]
    },
    {
     "name": "stdout",
     "output_type": "stream",
     "text": [
      "\r",
      " [*********86%********   ] Elapsed 1.89s / Remaining 00:00:00:00"
     ]
    },
    {
     "name": "stdout",
     "output_type": "stream",
     "text": [
      "\r",
      " [*********86%********   ] Elapsed 1.89s / Remaining 00:00:00:00"
     ]
    },
    {
     "name": "stdout",
     "output_type": "stream",
     "text": [
      "\r",
      " [*********86%********   ] Elapsed 1.89s / Remaining 00:00:00:00"
     ]
    },
    {
     "name": "stdout",
     "output_type": "stream",
     "text": [
      "\r",
      " [*********87%********   ] Elapsed 1.90s / Remaining 00:00:00:00"
     ]
    },
    {
     "name": "stdout",
     "output_type": "stream",
     "text": [
      "\r",
      " [*********87%********   ] Elapsed 1.90s / Remaining 00:00:00:00"
     ]
    },
    {
     "name": "stdout",
     "output_type": "stream",
     "text": [
      "\r",
      " [*********87%********   ] Elapsed 1.91s / Remaining 00:00:00:00"
     ]
    },
    {
     "name": "stdout",
     "output_type": "stream",
     "text": [
      "\r",
      " [*********87%********   ] Elapsed 1.91s / Remaining 00:00:00:00"
     ]
    },
    {
     "name": "stdout",
     "output_type": "stream",
     "text": [
      "\r",
      " [*********87%********   ] Elapsed 1.91s / Remaining 00:00:00:00"
     ]
    },
    {
     "name": "stdout",
     "output_type": "stream",
     "text": [
      "\r",
      " [*********87%********   ] Elapsed 1.92s / Remaining 00:00:00:00"
     ]
    },
    {
     "name": "stdout",
     "output_type": "stream",
     "text": [
      "\r",
      " [*********88%********   ] Elapsed 1.92s / Remaining 00:00:00:00"
     ]
    },
    {
     "name": "stdout",
     "output_type": "stream",
     "text": [
      "\r",
      " [*********88%********   ] Elapsed 1.92s / Remaining 00:00:00:00"
     ]
    },
    {
     "name": "stdout",
     "output_type": "stream",
     "text": [
      "\r",
      " [*********88%********   ] Elapsed 1.93s / Remaining 00:00:00:00"
     ]
    },
    {
     "name": "stdout",
     "output_type": "stream",
     "text": [
      "\r",
      " [*********88%********   ] Elapsed 1.93s / Remaining 00:00:00:00"
     ]
    },
    {
     "name": "stdout",
     "output_type": "stream",
     "text": [
      "\r",
      " [*********88%********   ] Elapsed 1.94s / Remaining 00:00:00:00"
     ]
    },
    {
     "name": "stdout",
     "output_type": "stream",
     "text": [
      "\r",
      " [*********88%********   ] Elapsed 1.94s / Remaining 00:00:00:00"
     ]
    },
    {
     "name": "stdout",
     "output_type": "stream",
     "text": [
      "\r",
      " [*********89%********   ] Elapsed 1.94s / Remaining 00:00:00:00"
     ]
    },
    {
     "name": "stdout",
     "output_type": "stream",
     "text": [
      "\r",
      " [*********89%********   ] Elapsed 1.95s / Remaining 00:00:00:00"
     ]
    },
    {
     "name": "stdout",
     "output_type": "stream",
     "text": [
      "\r",
      " [*********89%********   ] Elapsed 1.95s / Remaining 00:00:00:00"
     ]
    },
    {
     "name": "stdout",
     "output_type": "stream",
     "text": [
      "\r",
      " [*********89%********   ] Elapsed 1.95s / Remaining 00:00:00:00"
     ]
    },
    {
     "name": "stdout",
     "output_type": "stream",
     "text": [
      "\r",
      " [*********89%********   ] Elapsed 1.96s / Remaining 00:00:00:00"
     ]
    },
    {
     "name": "stdout",
     "output_type": "stream",
     "text": [
      "\r",
      " [*********89%********   ] Elapsed 1.96s / Remaining 00:00:00:00"
     ]
    },
    {
     "name": "stdout",
     "output_type": "stream",
     "text": [
      "\r",
      " [*********90%*********  ] Elapsed 1.97s / Remaining 00:00:00:00"
     ]
    },
    {
     "name": "stdout",
     "output_type": "stream",
     "text": [
      "\r",
      " [*********90%*********  ] Elapsed 1.97s / Remaining 00:00:00:00"
     ]
    },
    {
     "name": "stdout",
     "output_type": "stream",
     "text": [
      "\r",
      " [*********90%*********  ] Elapsed 1.97s / Remaining 00:00:00:00"
     ]
    },
    {
     "name": "stdout",
     "output_type": "stream",
     "text": [
      "\r",
      " [*********90%*********  ] Elapsed 1.98s / Remaining 00:00:00:00"
     ]
    },
    {
     "name": "stdout",
     "output_type": "stream",
     "text": [
      "\r",
      " [*********90%*********  ] Elapsed 1.98s / Remaining 00:00:00:00"
     ]
    },
    {
     "name": "stdout",
     "output_type": "stream",
     "text": [
      "\r",
      " [*********90%*********  ] Elapsed 1.98s / Remaining 00:00:00:00"
     ]
    },
    {
     "name": "stdout",
     "output_type": "stream",
     "text": [
      "\r",
      " [*********91%*********  ] Elapsed 1.98s / Remaining 00:00:00:00"
     ]
    },
    {
     "name": "stdout",
     "output_type": "stream",
     "text": [
      "\r",
      " [*********91%*********  ] Elapsed 1.99s / Remaining 00:00:00:00"
     ]
    },
    {
     "name": "stdout",
     "output_type": "stream",
     "text": [
      "\r",
      " [*********91%*********  ] Elapsed 1.99s / Remaining 00:00:00:00"
     ]
    },
    {
     "name": "stdout",
     "output_type": "stream",
     "text": [
      "\r",
      " [*********91%*********  ] Elapsed 2.00s / Remaining 00:00:00:00"
     ]
    },
    {
     "name": "stdout",
     "output_type": "stream",
     "text": [
      "\r",
      " [*********91%*********  ] Elapsed 2.00s / Remaining 00:00:00:00"
     ]
    },
    {
     "name": "stdout",
     "output_type": "stream",
     "text": [
      "\r",
      " [*********91%*********  ] Elapsed 2.00s / Remaining 00:00:00:00"
     ]
    },
    {
     "name": "stdout",
     "output_type": "stream",
     "text": [
      "\r",
      " [*********92%*********  ] Elapsed 2.01s / Remaining 00:00:00:00"
     ]
    },
    {
     "name": "stdout",
     "output_type": "stream",
     "text": [
      "\r",
      " [*********92%*********  ] Elapsed 2.01s / Remaining 00:00:00:00"
     ]
    },
    {
     "name": "stdout",
     "output_type": "stream",
     "text": [
      "\r",
      " [*********92%*********  ] Elapsed 2.01s / Remaining 00:00:00:00"
     ]
    },
    {
     "name": "stdout",
     "output_type": "stream",
     "text": [
      "\r",
      " [*********92%*********  ] Elapsed 2.02s / Remaining 00:00:00:00"
     ]
    },
    {
     "name": "stdout",
     "output_type": "stream",
     "text": [
      "\r",
      " [*********92%*********  ] Elapsed 2.02s / Remaining 00:00:00:00"
     ]
    },
    {
     "name": "stdout",
     "output_type": "stream",
     "text": [
      "\r",
      " [*********92%*********  ] Elapsed 2.02s / Remaining 00:00:00:00"
     ]
    },
    {
     "name": "stdout",
     "output_type": "stream",
     "text": [
      "\r",
      " [*********93%*********  ] Elapsed 2.03s / Remaining 00:00:00:00"
     ]
    },
    {
     "name": "stdout",
     "output_type": "stream",
     "text": [
      "\r",
      " [*********93%*********  ] Elapsed 2.03s / Remaining 00:00:00:00"
     ]
    },
    {
     "name": "stdout",
     "output_type": "stream",
     "text": [
      "\r",
      " [*********93%*********  ] Elapsed 2.04s / Remaining 00:00:00:00"
     ]
    },
    {
     "name": "stdout",
     "output_type": "stream",
     "text": [
      "\r",
      " [*********93%*********  ] Elapsed 2.04s / Remaining 00:00:00:00"
     ]
    },
    {
     "name": "stdout",
     "output_type": "stream",
     "text": [
      "\r",
      " [*********93%*********  ] Elapsed 2.04s / Remaining 00:00:00:00"
     ]
    },
    {
     "name": "stdout",
     "output_type": "stream",
     "text": [
      "\r",
      " [*********93%*********  ] Elapsed 2.04s / Remaining 00:00:00:00"
     ]
    },
    {
     "name": "stdout",
     "output_type": "stream",
     "text": [
      "\r",
      " [*********94%********** ] Elapsed 2.05s / Remaining 00:00:00:00"
     ]
    },
    {
     "name": "stdout",
     "output_type": "stream",
     "text": [
      "\r",
      " [*********94%********** ] Elapsed 2.05s / Remaining 00:00:00:00"
     ]
    },
    {
     "name": "stdout",
     "output_type": "stream",
     "text": [
      "\r",
      " [*********94%********** ] Elapsed 2.06s / Remaining 00:00:00:00"
     ]
    },
    {
     "name": "stdout",
     "output_type": "stream",
     "text": [
      "\r",
      " [*********94%********** ] Elapsed 2.06s / Remaining 00:00:00:00"
     ]
    },
    {
     "name": "stdout",
     "output_type": "stream",
     "text": [
      "\r",
      " [*********94%********** ] Elapsed 2.06s / Remaining 00:00:00:00"
     ]
    },
    {
     "name": "stdout",
     "output_type": "stream",
     "text": [
      "\r",
      " [*********94%********** ] Elapsed 2.07s / Remaining 00:00:00:00"
     ]
    },
    {
     "name": "stdout",
     "output_type": "stream",
     "text": [
      "\r",
      " [*********95%********** ] Elapsed 2.07s / Remaining 00:00:00:00"
     ]
    },
    {
     "name": "stdout",
     "output_type": "stream",
     "text": [
      "\r",
      " [*********95%********** ] Elapsed 2.07s / Remaining 00:00:00:00"
     ]
    },
    {
     "name": "stdout",
     "output_type": "stream",
     "text": [
      "\r",
      " [*********95%********** ] Elapsed 2.08s / Remaining 00:00:00:00"
     ]
    },
    {
     "name": "stdout",
     "output_type": "stream",
     "text": [
      "\r",
      " [*********95%********** ] Elapsed 2.08s / Remaining 00:00:00:00"
     ]
    },
    {
     "name": "stdout",
     "output_type": "stream",
     "text": [
      "\r",
      " [*********95%********** ] Elapsed 2.08s / Remaining 00:00:00:00"
     ]
    },
    {
     "name": "stdout",
     "output_type": "stream",
     "text": [
      "\r",
      " [*********95%********** ] Elapsed 2.09s / Remaining 00:00:00:00"
     ]
    },
    {
     "name": "stdout",
     "output_type": "stream",
     "text": [
      "\r",
      " [*********96%********** ] Elapsed 2.09s / Remaining 00:00:00:00"
     ]
    },
    {
     "name": "stdout",
     "output_type": "stream",
     "text": [
      "\r",
      " [*********96%********** ] Elapsed 2.09s / Remaining 00:00:00:00"
     ]
    },
    {
     "name": "stdout",
     "output_type": "stream",
     "text": [
      "\r",
      " [*********96%********** ] Elapsed 2.10s / Remaining 00:00:00:00"
     ]
    },
    {
     "name": "stdout",
     "output_type": "stream",
     "text": [
      "\r",
      " [*********96%********** ] Elapsed 2.10s / Remaining 00:00:00:00"
     ]
    },
    {
     "name": "stdout",
     "output_type": "stream",
     "text": [
      "\r",
      " [*********96%********** ] Elapsed 2.10s / Remaining 00:00:00:00"
     ]
    },
    {
     "name": "stdout",
     "output_type": "stream",
     "text": [
      "\r",
      " [*********96%********** ] Elapsed 2.11s / Remaining 00:00:00:00"
     ]
    },
    {
     "name": "stdout",
     "output_type": "stream",
     "text": [
      "\r",
      " [*********97%********** ] Elapsed 2.11s / Remaining 00:00:00:00"
     ]
    },
    {
     "name": "stdout",
     "output_type": "stream",
     "text": [
      "\r",
      " [*********97%********** ] Elapsed 2.12s / Remaining 00:00:00:00"
     ]
    },
    {
     "name": "stdout",
     "output_type": "stream",
     "text": [
      "\r",
      " [*********97%********** ] Elapsed 2.12s / Remaining 00:00:00:00"
     ]
    },
    {
     "name": "stdout",
     "output_type": "stream",
     "text": [
      "\r",
      " [*********97%********** ] Elapsed 2.12s / Remaining 00:00:00:00"
     ]
    },
    {
     "name": "stdout",
     "output_type": "stream",
     "text": [
      "\r",
      " [*********97%********** ] Elapsed 2.13s / Remaining 00:00:00:00"
     ]
    },
    {
     "name": "stdout",
     "output_type": "stream",
     "text": [
      "\r",
      " [*********97%********** ] Elapsed 2.13s / Remaining 00:00:00:00"
     ]
    },
    {
     "name": "stdout",
     "output_type": "stream",
     "text": [
      "\r",
      " [*********98%***********] Elapsed 2.14s / Remaining 00:00:00:00"
     ]
    },
    {
     "name": "stdout",
     "output_type": "stream",
     "text": [
      "\r",
      " [*********98%***********] Elapsed 2.14s / Remaining 00:00:00:00"
     ]
    },
    {
     "name": "stdout",
     "output_type": "stream",
     "text": [
      "\r",
      " [*********98%***********] Elapsed 2.14s / Remaining 00:00:00:00"
     ]
    },
    {
     "name": "stdout",
     "output_type": "stream",
     "text": [
      "\r",
      " [*********98%***********] Elapsed 2.15s / Remaining 00:00:00:00"
     ]
    },
    {
     "name": "stdout",
     "output_type": "stream",
     "text": [
      "\r",
      " [*********98%***********] Elapsed 2.15s / Remaining 00:00:00:00"
     ]
    },
    {
     "name": "stdout",
     "output_type": "stream",
     "text": [
      "\r",
      " [*********98%***********] Elapsed 2.15s / Remaining 00:00:00:00"
     ]
    },
    {
     "name": "stdout",
     "output_type": "stream",
     "text": [
      "\r",
      " [*********99%***********] Elapsed 2.16s / Remaining 00:00:00:00"
     ]
    },
    {
     "name": "stdout",
     "output_type": "stream",
     "text": [
      "\r",
      " [*********99%***********] Elapsed 2.16s / Remaining 00:00:00:00"
     ]
    },
    {
     "name": "stdout",
     "output_type": "stream",
     "text": [
      "\r",
      " [*********99%***********] Elapsed 2.17s / Remaining 00:00:00:00"
     ]
    },
    {
     "name": "stdout",
     "output_type": "stream",
     "text": [
      "\r",
      " [*********99%***********] Elapsed 2.17s / Remaining 00:00:00:00"
     ]
    },
    {
     "name": "stdout",
     "output_type": "stream",
     "text": [
      "\r",
      " [*********99%***********] Elapsed 2.17s / Remaining 00:00:00:00"
     ]
    },
    {
     "name": "stdout",
     "output_type": "stream",
     "text": [
      "\r",
      " [*********99%***********] Elapsed 2.18s / Remaining 00:00:00:00"
     ]
    },
    {
     "name": "stdout",
     "output_type": "stream",
     "text": [
      "\r",
      " [********100%***********] Elapsed 2.18s / Remaining 00:00:00:00"
     ]
    },
    {
     "name": "stdout",
     "output_type": "stream",
     "text": [
      "\r",
      " [********100%***********] Elapsed 2.18s / Remaining 00:00:00:00"
     ]
    },
    {
     "name": "stdout",
     "output_type": "stream",
     "text": [
      "\r",
      " [********100%***********] Elapsed 2.19s / Remaining 00:00:00:00"
     ]
    },
    {
     "name": "stdout",
     "output_type": "stream",
     "text": [
      "\r",
      " Total run time:   2.19s\n",
      "ODE solver time: 2.188863515853882\n"
     ]
    }
   ],
   "source": [
    "with timer(\"RHS construction time\"):\n",
    "    bath = BosonicBath(Q, ckAR, vkAR, ckAI, vkAI)\n",
    "    # We reduce NC slightly here for speed of execution because we retain\n",
    "    # 3 exponents in ckAR instead of 1. Please restore full NC for\n",
    "    # convergence though:\n",
    "    HEOMFit = HEOMSolver(Hsys, bath, int(NC * 0.7), options=options)\n",
    "\n",
    "with timer(\"ODE solver time\"):\n",
    "    resultFit = HEOMFit.run(rho0, tlist)"
   ]
  },
  {
   "cell_type": "markdown",
   "id": "cbb8eaa1",
   "metadata": {},
   "source": [
    "## Simulation 5: Bloch-Redfield"
   ]
  },
  {
   "cell_type": "code",
   "execution_count": 21,
   "id": "d485837a",
   "metadata": {
    "execution": {
     "iopub.execute_input": "2023-03-15T08:41:11.391795Z",
     "iopub.status.busy": "2023-03-15T08:41:11.391574Z",
     "iopub.status.idle": "2023-03-15T08:41:15.639443Z",
     "shell.execute_reply": "2023-03-15T08:41:15.638787Z"
    }
   },
   "outputs": [
    {
     "name": "stdout",
     "output_type": "stream",
     "text": [
      "\r"
     ]
    },
    {
     "name": "stdout",
     "output_type": "stream",
     "text": [
      " [          0%           ] Elapsed 0.02s / Remaining 00:00:00:00"
     ]
    },
    {
     "name": "stdout",
     "output_type": "stream",
     "text": [
      "\r",
      " [          0%           ] Elapsed 0.03s / Remaining 00:00:00:00"
     ]
    },
    {
     "name": "stdout",
     "output_type": "stream",
     "text": [
      "\r",
      " [          1%           ] Elapsed 0.04s / Remaining 00:00:00:03"
     ]
    },
    {
     "name": "stdout",
     "output_type": "stream",
     "text": [
      "\r",
      " [          1%           ] Elapsed 0.04s / Remaining 00:00:00:04"
     ]
    },
    {
     "name": "stdout",
     "output_type": "stream",
     "text": [
      "\r",
      " [          1%           ] Elapsed 0.05s / Remaining 00:00:00:05"
     ]
    },
    {
     "name": "stdout",
     "output_type": "stream",
     "text": [
      "\r",
      " [          1%           ] Elapsed 0.06s / Remaining 00:00:00:05"
     ]
    },
    {
     "name": "stdout",
     "output_type": "stream",
     "text": [
      "\r",
      " [          1%           ] Elapsed 0.06s / Remaining 00:00:00:06"
     ]
    },
    {
     "name": "stdout",
     "output_type": "stream",
     "text": [
      "\r",
      " [          1%           ] Elapsed 0.07s / Remaining 00:00:00:06"
     ]
    },
    {
     "name": "stdout",
     "output_type": "stream",
     "text": [
      "\r",
      " [          2%           ] Elapsed 0.08s / Remaining 00:00:00:03"
     ]
    },
    {
     "name": "stdout",
     "output_type": "stream",
     "text": [
      "\r"
     ]
    },
    {
     "name": "stdout",
     "output_type": "stream",
     "text": [
      " [          2%           ] Elapsed 0.08s / Remaining 00:00:00:04"
     ]
    },
    {
     "name": "stdout",
     "output_type": "stream",
     "text": [
      "\r",
      " [          2%           ] Elapsed 0.09s / Remaining 00:00:00:04"
     ]
    },
    {
     "name": "stdout",
     "output_type": "stream",
     "text": [
      "\r"
     ]
    },
    {
     "name": "stdout",
     "output_type": "stream",
     "text": [
      " [          2%           ] Elapsed 0.10s / Remaining 00:00:00:04"
     ]
    },
    {
     "name": "stdout",
     "output_type": "stream",
     "text": [
      "\r",
      " [          2%           ] Elapsed 0.10s / Remaining 00:00:00:05"
     ]
    },
    {
     "name": "stdout",
     "output_type": "stream",
     "text": [
      "\r"
     ]
    },
    {
     "name": "stdout",
     "output_type": "stream",
     "text": [
      " [          2%           ] Elapsed 0.11s / Remaining 00:00:00:05"
     ]
    },
    {
     "name": "stdout",
     "output_type": "stream",
     "text": [
      "\r"
     ]
    },
    {
     "name": "stdout",
     "output_type": "stream",
     "text": [
      " [*         3%           ] Elapsed 0.12s / Remaining 00:00:00:03"
     ]
    },
    {
     "name": "stdout",
     "output_type": "stream",
     "text": [
      "\r"
     ]
    },
    {
     "name": "stdout",
     "output_type": "stream",
     "text": [
      " [*         3%           ] Elapsed 0.12s / Remaining 00:00:00:03"
     ]
    },
    {
     "name": "stdout",
     "output_type": "stream",
     "text": [
      "\r"
     ]
    },
    {
     "name": "stdout",
     "output_type": "stream",
     "text": [
      " [*         3%           ] Elapsed 0.13s / Remaining 00:00:00:04"
     ]
    },
    {
     "name": "stdout",
     "output_type": "stream",
     "text": [
      "\r",
      " [*         3%           ] Elapsed 0.14s / Remaining 00:00:00:04"
     ]
    },
    {
     "name": "stdout",
     "output_type": "stream",
     "text": [
      "\r",
      " [*         3%           ] Elapsed 0.14s / Remaining 00:00:00:04"
     ]
    },
    {
     "name": "stdout",
     "output_type": "stream",
     "text": [
      "\r",
      " [*         3%           ] Elapsed 0.15s / Remaining 00:00:00:04"
     ]
    },
    {
     "name": "stdout",
     "output_type": "stream",
     "text": [
      "\r",
      " [*         4%           ] Elapsed 0.15s / Remaining 00:00:00:03"
     ]
    },
    {
     "name": "stdout",
     "output_type": "stream",
     "text": [
      "\r",
      " [*         4%           ] Elapsed 0.16s / Remaining 00:00:00:03"
     ]
    },
    {
     "name": "stdout",
     "output_type": "stream",
     "text": [
      "\r",
      " [*         4%           ] Elapsed 0.17s / Remaining 00:00:00:04"
     ]
    },
    {
     "name": "stdout",
     "output_type": "stream",
     "text": [
      "\r"
     ]
    },
    {
     "name": "stdout",
     "output_type": "stream",
     "text": [
      " [*         4%           ] Elapsed 0.17s / Remaining 00:00:00:04"
     ]
    },
    {
     "name": "stdout",
     "output_type": "stream",
     "text": [
      "\r",
      " [*         4%           ] Elapsed 0.18s / Remaining 00:00:00:04"
     ]
    },
    {
     "name": "stdout",
     "output_type": "stream",
     "text": [
      "\r"
     ]
    },
    {
     "name": "stdout",
     "output_type": "stream",
     "text": [
      " [*         4%           ] Elapsed 0.19s / Remaining 00:00:00:04"
     ]
    },
    {
     "name": "stdout",
     "output_type": "stream",
     "text": [
      "\r",
      " [*         5%           ] Elapsed 0.19s / Remaining 00:00:00:03"
     ]
    },
    {
     "name": "stdout",
     "output_type": "stream",
     "text": [
      "\r",
      " [*         5%           ] Elapsed 0.20s / Remaining 00:00:00:03"
     ]
    },
    {
     "name": "stdout",
     "output_type": "stream",
     "text": [
      "\r",
      " [*         5%           ] Elapsed 0.21s / Remaining 00:00:00:03"
     ]
    },
    {
     "name": "stdout",
     "output_type": "stream",
     "text": [
      "\r",
      " [*         5%           ] Elapsed 0.21s / Remaining 00:00:00:04"
     ]
    },
    {
     "name": "stdout",
     "output_type": "stream",
     "text": [
      "\r",
      " [*         5%           ] Elapsed 0.23s / Remaining 00:00:00:04"
     ]
    },
    {
     "name": "stdout",
     "output_type": "stream",
     "text": [
      "\r"
     ]
    },
    {
     "name": "stdout",
     "output_type": "stream",
     "text": [
      " [*         5%           ] Elapsed 0.23s / Remaining 00:00:00:04"
     ]
    },
    {
     "name": "stdout",
     "output_type": "stream",
     "text": [
      "\r",
      " [*         6%           ] Elapsed 0.24s / Remaining 00:00:00:03"
     ]
    },
    {
     "name": "stdout",
     "output_type": "stream",
     "text": [
      "\r",
      " [*         6%           ] Elapsed 0.25s / Remaining 00:00:00:03"
     ]
    },
    {
     "name": "stdout",
     "output_type": "stream",
     "text": [
      "\r",
      " [*         6%           ] Elapsed 0.25s / Remaining 00:00:00:03"
     ]
    },
    {
     "name": "stdout",
     "output_type": "stream",
     "text": [
      "\r",
      " [*         6%           ] Elapsed 0.26s / Remaining 00:00:00:04"
     ]
    },
    {
     "name": "stdout",
     "output_type": "stream",
     "text": [
      "\r",
      " [*         6%           ] Elapsed 0.27s / Remaining 00:00:00:04"
     ]
    },
    {
     "name": "stdout",
     "output_type": "stream",
     "text": [
      "\r"
     ]
    },
    {
     "name": "stdout",
     "output_type": "stream",
     "text": [
      " [*         6%           ] Elapsed 0.27s / Remaining 00:00:00:04"
     ]
    },
    {
     "name": "stdout",
     "output_type": "stream",
     "text": [
      "\r"
     ]
    },
    {
     "name": "stdout",
     "output_type": "stream",
     "text": [
      " [**        7%           ] Elapsed 0.28s / Remaining 00:00:00:03"
     ]
    },
    {
     "name": "stdout",
     "output_type": "stream",
     "text": [
      "\r",
      " [**        7%           ] Elapsed 0.29s / Remaining 00:00:00:03"
     ]
    },
    {
     "name": "stdout",
     "output_type": "stream",
     "text": [
      "\r",
      " [**        7%           ] Elapsed 0.29s / Remaining 00:00:00:03"
     ]
    },
    {
     "name": "stdout",
     "output_type": "stream",
     "text": [
      "\r"
     ]
    },
    {
     "name": "stdout",
     "output_type": "stream",
     "text": [
      " [**        7%           ] Elapsed 0.30s / Remaining 00:00:00:03"
     ]
    },
    {
     "name": "stdout",
     "output_type": "stream",
     "text": [
      "\r",
      " [**        7%           ] Elapsed 0.31s / Remaining 00:00:00:04"
     ]
    },
    {
     "name": "stdout",
     "output_type": "stream",
     "text": [
      "\r"
     ]
    },
    {
     "name": "stdout",
     "output_type": "stream",
     "text": [
      " [**        7%           ] Elapsed 0.31s / Remaining 00:00:00:04"
     ]
    },
    {
     "name": "stdout",
     "output_type": "stream",
     "text": [
      "\r",
      " [**        8%           ] Elapsed 0.32s / Remaining 00:00:00:03"
     ]
    },
    {
     "name": "stdout",
     "output_type": "stream",
     "text": [
      "\r",
      " [**        8%           ] Elapsed 0.33s / Remaining 00:00:00:03"
     ]
    },
    {
     "name": "stdout",
     "output_type": "stream",
     "text": [
      "\r",
      " [**        8%           ] Elapsed 0.33s / Remaining 00:00:00:03"
     ]
    },
    {
     "name": "stdout",
     "output_type": "stream",
     "text": [
      "\r",
      " [**        8%           ] Elapsed 0.34s / Remaining 00:00:00:03"
     ]
    },
    {
     "name": "stdout",
     "output_type": "stream",
     "text": [
      "\r",
      " [**        8%           ] Elapsed 0.34s / Remaining 00:00:00:03"
     ]
    },
    {
     "name": "stdout",
     "output_type": "stream",
     "text": [
      "\r",
      " [**        8%           ] Elapsed 0.35s / Remaining 00:00:00:04"
     ]
    },
    {
     "name": "stdout",
     "output_type": "stream",
     "text": [
      "\r",
      " [**        9%           ] Elapsed 0.36s / Remaining 00:00:00:03"
     ]
    },
    {
     "name": "stdout",
     "output_type": "stream",
     "text": [
      "\r",
      " [**        9%           ] Elapsed 0.36s / Remaining 00:00:00:03"
     ]
    },
    {
     "name": "stdout",
     "output_type": "stream",
     "text": [
      "\r",
      " [**        9%           ] Elapsed 0.37s / Remaining 00:00:00:03"
     ]
    },
    {
     "name": "stdout",
     "output_type": "stream",
     "text": [
      "\r",
      " [**        9%           ] Elapsed 0.38s / Remaining 00:00:00:03"
     ]
    },
    {
     "name": "stdout",
     "output_type": "stream",
     "text": [
      "\r",
      " [**        9%           ] Elapsed 0.38s / Remaining 00:00:00:03"
     ]
    },
    {
     "name": "stdout",
     "output_type": "stream",
     "text": [
      "\r",
      " [**        9%           ] Elapsed 0.39s / Remaining 00:00:00:03"
     ]
    },
    {
     "name": "stdout",
     "output_type": "stream",
     "text": [
      "\r",
      " [**       10%           ] Elapsed 0.40s / Remaining 00:00:00:03"
     ]
    },
    {
     "name": "stdout",
     "output_type": "stream",
     "text": [
      "\r"
     ]
    },
    {
     "name": "stdout",
     "output_type": "stream",
     "text": [
      " [**       10%           ] Elapsed 0.40s / Remaining 00:00:00:03"
     ]
    },
    {
     "name": "stdout",
     "output_type": "stream",
     "text": [
      "\r",
      " [**       10%           ] Elapsed 0.41s / Remaining 00:00:00:03"
     ]
    },
    {
     "name": "stdout",
     "output_type": "stream",
     "text": [
      "\r",
      " [**       10%           ] Elapsed 0.42s / Remaining 00:00:00:03"
     ]
    },
    {
     "name": "stdout",
     "output_type": "stream",
     "text": [
      "\r"
     ]
    },
    {
     "name": "stdout",
     "output_type": "stream",
     "text": [
      " [**       10%           ] Elapsed 0.43s / Remaining 00:00:00:03"
     ]
    },
    {
     "name": "stdout",
     "output_type": "stream",
     "text": [
      "\r",
      " [**       10%           ] Elapsed 0.44s / Remaining 00:00:00:03"
     ]
    },
    {
     "name": "stdout",
     "output_type": "stream",
     "text": [
      "\r",
      " [***      11%           ] Elapsed 0.44s / Remaining 00:00:00:03"
     ]
    },
    {
     "name": "stdout",
     "output_type": "stream",
     "text": [
      "\r",
      " [***      11%           ] Elapsed 0.45s / Remaining 00:00:00:03"
     ]
    },
    {
     "name": "stdout",
     "output_type": "stream",
     "text": [
      "\r",
      " [***      11%           ] Elapsed 0.46s / Remaining 00:00:00:03"
     ]
    },
    {
     "name": "stdout",
     "output_type": "stream",
     "text": [
      "\r",
      " [***      11%           ] Elapsed 0.46s / Remaining 00:00:00:03"
     ]
    },
    {
     "name": "stdout",
     "output_type": "stream",
     "text": [
      "\r",
      " [***      11%           ] Elapsed 0.47s / Remaining 00:00:00:03"
     ]
    },
    {
     "name": "stdout",
     "output_type": "stream",
     "text": [
      "\r",
      " [***      11%           ] Elapsed 0.48s / Remaining 00:00:00:03"
     ]
    },
    {
     "name": "stdout",
     "output_type": "stream",
     "text": [
      "\r",
      " [***      12%           ] Elapsed 0.48s / Remaining 00:00:00:03"
     ]
    },
    {
     "name": "stdout",
     "output_type": "stream",
     "text": [
      "\r",
      " [***      12%           ] Elapsed 0.49s / Remaining 00:00:00:03"
     ]
    },
    {
     "name": "stdout",
     "output_type": "stream",
     "text": [
      "\r"
     ]
    },
    {
     "name": "stdout",
     "output_type": "stream",
     "text": [
      " [***      12%           ] Elapsed 0.49s / Remaining 00:00:00:03"
     ]
    },
    {
     "name": "stdout",
     "output_type": "stream",
     "text": [
      "\r"
     ]
    },
    {
     "name": "stdout",
     "output_type": "stream",
     "text": [
      " [***      12%           ] Elapsed 0.50s / Remaining 00:00:00:03"
     ]
    },
    {
     "name": "stdout",
     "output_type": "stream",
     "text": [
      "\r",
      " [***      12%           ] Elapsed 0.51s / Remaining 00:00:00:03"
     ]
    },
    {
     "name": "stdout",
     "output_type": "stream",
     "text": [
      "\r",
      " [***      12%           ] Elapsed 0.52s / Remaining 00:00:00:03"
     ]
    },
    {
     "name": "stdout",
     "output_type": "stream",
     "text": [
      "\r",
      " [***      13%           ] Elapsed 0.52s / Remaining 00:00:00:03"
     ]
    },
    {
     "name": "stdout",
     "output_type": "stream",
     "text": [
      "\r",
      " [***      13%           ] Elapsed 0.53s / Remaining 00:00:00:03"
     ]
    },
    {
     "name": "stdout",
     "output_type": "stream",
     "text": [
      "\r",
      " [***      13%           ] Elapsed 0.53s / Remaining 00:00:00:03"
     ]
    },
    {
     "name": "stdout",
     "output_type": "stream",
     "text": [
      "\r"
     ]
    },
    {
     "name": "stdout",
     "output_type": "stream",
     "text": [
      " [***      13%           ] Elapsed 0.54s / Remaining 00:00:00:03"
     ]
    },
    {
     "name": "stdout",
     "output_type": "stream",
     "text": [
      "\r",
      " [***      13%           ] Elapsed 0.55s / Remaining 00:00:00:03"
     ]
    },
    {
     "name": "stdout",
     "output_type": "stream",
     "text": [
      "\r",
      " [***      13%           ] Elapsed 0.55s / Remaining 00:00:00:03"
     ]
    },
    {
     "name": "stdout",
     "output_type": "stream",
     "text": [
      "\r",
      " [***      14%           ] Elapsed 0.56s / Remaining 00:00:00:03"
     ]
    },
    {
     "name": "stdout",
     "output_type": "stream",
     "text": [
      "\r",
      " [***      14%           ] Elapsed 0.57s / Remaining 00:00:00:03"
     ]
    },
    {
     "name": "stdout",
     "output_type": "stream",
     "text": [
      "\r",
      " [***      14%           ] Elapsed 0.57s / Remaining 00:00:00:03"
     ]
    },
    {
     "name": "stdout",
     "output_type": "stream",
     "text": [
      "\r",
      " [***      14%           ] Elapsed 0.58s / Remaining 00:00:00:03"
     ]
    },
    {
     "name": "stdout",
     "output_type": "stream",
     "text": [
      "\r",
      " [***      14%           ] Elapsed 0.59s / Remaining 00:00:00:03"
     ]
    },
    {
     "name": "stdout",
     "output_type": "stream",
     "text": [
      "\r",
      " [***      14%           ] Elapsed 0.59s / Remaining 00:00:00:03"
     ]
    },
    {
     "name": "stdout",
     "output_type": "stream",
     "text": [
      "\r",
      " [***      15%           ] Elapsed 0.60s / Remaining 00:00:00:03"
     ]
    },
    {
     "name": "stdout",
     "output_type": "stream",
     "text": [
      "\r",
      " [***      15%           ] Elapsed 0.61s / Remaining 00:00:00:03"
     ]
    },
    {
     "name": "stdout",
     "output_type": "stream",
     "text": [
      "\r",
      " [***      15%           ] Elapsed 0.62s / Remaining 00:00:00:03"
     ]
    },
    {
     "name": "stdout",
     "output_type": "stream",
     "text": [
      "\r"
     ]
    },
    {
     "name": "stdout",
     "output_type": "stream",
     "text": [
      " [***      15%           ] Elapsed 0.63s / Remaining 00:00:00:03"
     ]
    },
    {
     "name": "stdout",
     "output_type": "stream",
     "text": [
      "\r",
      " [***      15%           ] Elapsed 0.63s / Remaining 00:00:00:03"
     ]
    },
    {
     "name": "stdout",
     "output_type": "stream",
     "text": [
      "\r",
      " [***      15%           ] Elapsed 0.64s / Remaining 00:00:00:03"
     ]
    },
    {
     "name": "stdout",
     "output_type": "stream",
     "text": [
      "\r",
      " [****     16%           ] Elapsed 0.65s / Remaining 00:00:00:03"
     ]
    },
    {
     "name": "stdout",
     "output_type": "stream",
     "text": [
      "\r",
      " [****     16%           ] Elapsed 0.65s / Remaining 00:00:00:03"
     ]
    },
    {
     "name": "stdout",
     "output_type": "stream",
     "text": [
      "\r",
      " [****     16%           ] Elapsed 0.66s / Remaining 00:00:00:03"
     ]
    },
    {
     "name": "stdout",
     "output_type": "stream",
     "text": [
      "\r",
      " [****     16%           ] Elapsed 0.67s / Remaining 00:00:00:03"
     ]
    },
    {
     "name": "stdout",
     "output_type": "stream",
     "text": [
      "\r",
      " [****     16%           ] Elapsed 0.67s / Remaining 00:00:00:03"
     ]
    },
    {
     "name": "stdout",
     "output_type": "stream",
     "text": [
      "\r",
      " [****     16%           ] Elapsed 0.68s / Remaining 00:00:00:03"
     ]
    },
    {
     "name": "stdout",
     "output_type": "stream",
     "text": [
      "\r",
      " [****     17%           ] Elapsed 0.69s / Remaining 00:00:00:03"
     ]
    },
    {
     "name": "stdout",
     "output_type": "stream",
     "text": [
      "\r"
     ]
    },
    {
     "name": "stdout",
     "output_type": "stream",
     "text": [
      " [****     17%           ] Elapsed 0.69s / Remaining 00:00:00:03"
     ]
    },
    {
     "name": "stdout",
     "output_type": "stream",
     "text": [
      "\r",
      " [****     17%           ] Elapsed 0.70s / Remaining 00:00:00:03"
     ]
    },
    {
     "name": "stdout",
     "output_type": "stream",
     "text": [
      "\r",
      " [****     17%           ] Elapsed 0.71s / Remaining 00:00:00:03"
     ]
    },
    {
     "name": "stdout",
     "output_type": "stream",
     "text": [
      "\r",
      " [****     17%           ] Elapsed 0.71s / Remaining 00:00:00:03"
     ]
    },
    {
     "name": "stdout",
     "output_type": "stream",
     "text": [
      "\r",
      " [****     17%           ] Elapsed 0.72s / Remaining 00:00:00:03"
     ]
    },
    {
     "name": "stdout",
     "output_type": "stream",
     "text": [
      "\r",
      " [****     18%           ] Elapsed 0.72s / Remaining 00:00:00:03"
     ]
    },
    {
     "name": "stdout",
     "output_type": "stream",
     "text": [
      "\r"
     ]
    },
    {
     "name": "stdout",
     "output_type": "stream",
     "text": [
      " [****     18%           ] Elapsed 0.73s / Remaining 00:00:00:03"
     ]
    },
    {
     "name": "stdout",
     "output_type": "stream",
     "text": [
      "\r",
      " [****     18%           ] Elapsed 0.74s / Remaining 00:00:00:03"
     ]
    },
    {
     "name": "stdout",
     "output_type": "stream",
     "text": [
      "\r",
      " [****     18%           ] Elapsed 0.74s / Remaining 00:00:00:03"
     ]
    },
    {
     "name": "stdout",
     "output_type": "stream",
     "text": [
      "\r"
     ]
    },
    {
     "name": "stdout",
     "output_type": "stream",
     "text": [
      " [****     18%           ] Elapsed 0.75s / Remaining 00:00:00:03"
     ]
    },
    {
     "name": "stdout",
     "output_type": "stream",
     "text": [
      "\r"
     ]
    },
    {
     "name": "stdout",
     "output_type": "stream",
     "text": [
      " [****     18%           ] Elapsed 0.76s / Remaining 00:00:00:03"
     ]
    },
    {
     "name": "stdout",
     "output_type": "stream",
     "text": [
      "\r",
      " [****     19%           ] Elapsed 0.76s / Remaining 00:00:00:03"
     ]
    },
    {
     "name": "stdout",
     "output_type": "stream",
     "text": [
      "\r",
      " [****     19%           ] Elapsed 0.77s / Remaining 00:00:00:03"
     ]
    },
    {
     "name": "stdout",
     "output_type": "stream",
     "text": [
      "\r",
      " [****     19%           ] Elapsed 0.78s / Remaining 00:00:00:03"
     ]
    },
    {
     "name": "stdout",
     "output_type": "stream",
     "text": [
      "\r",
      " [****     19%           ] Elapsed 0.78s / Remaining 00:00:00:03"
     ]
    },
    {
     "name": "stdout",
     "output_type": "stream",
     "text": [
      "\r",
      " [****     19%           ] Elapsed 0.79s / Remaining 00:00:00:03"
     ]
    },
    {
     "name": "stdout",
     "output_type": "stream",
     "text": [
      "\r",
      " [****     19%           ] Elapsed 0.80s / Remaining 00:00:00:03"
     ]
    },
    {
     "name": "stdout",
     "output_type": "stream",
     "text": [
      "\r",
      " [*****    20%           ] Elapsed 0.80s / Remaining 00:00:00:03"
     ]
    },
    {
     "name": "stdout",
     "output_type": "stream",
     "text": [
      "\r",
      " [*****    20%           ] Elapsed 0.81s / Remaining 00:00:00:03"
     ]
    },
    {
     "name": "stdout",
     "output_type": "stream",
     "text": [
      "\r",
      " [*****    20%           ] Elapsed 0.82s / Remaining 00:00:00:03"
     ]
    },
    {
     "name": "stdout",
     "output_type": "stream",
     "text": [
      "\r",
      " [*****    20%           ] Elapsed 0.83s / Remaining 00:00:00:03"
     ]
    },
    {
     "name": "stdout",
     "output_type": "stream",
     "text": [
      "\r",
      " [*****    20%           ] Elapsed 0.84s / Remaining 00:00:00:03"
     ]
    },
    {
     "name": "stdout",
     "output_type": "stream",
     "text": [
      "\r",
      " [*****    20%           ] Elapsed 0.84s / Remaining 00:00:00:03"
     ]
    },
    {
     "name": "stdout",
     "output_type": "stream",
     "text": [
      "\r"
     ]
    },
    {
     "name": "stdout",
     "output_type": "stream",
     "text": [
      " [*****    21%           ] Elapsed 0.85s / Remaining 00:00:00:03"
     ]
    },
    {
     "name": "stdout",
     "output_type": "stream",
     "text": [
      "\r",
      " [*****    21%           ] Elapsed 0.86s / Remaining 00:00:00:03"
     ]
    },
    {
     "name": "stdout",
     "output_type": "stream",
     "text": [
      "\r",
      " [*****    21%           ] Elapsed 0.86s / Remaining 00:00:00:03"
     ]
    },
    {
     "name": "stdout",
     "output_type": "stream",
     "text": [
      "\r"
     ]
    },
    {
     "name": "stdout",
     "output_type": "stream",
     "text": [
      " [*****    21%           ] Elapsed 0.87s / Remaining 00:00:00:03"
     ]
    },
    {
     "name": "stdout",
     "output_type": "stream",
     "text": [
      "\r",
      " [*****    21%           ] Elapsed 0.88s / Remaining 00:00:00:03"
     ]
    },
    {
     "name": "stdout",
     "output_type": "stream",
     "text": [
      "\r"
     ]
    },
    {
     "name": "stdout",
     "output_type": "stream",
     "text": [
      " [*****    21%           ] Elapsed 0.88s / Remaining 00:00:00:03"
     ]
    },
    {
     "name": "stdout",
     "output_type": "stream",
     "text": [
      "\r",
      " [*****    22%           ] Elapsed 0.89s / Remaining 00:00:00:03"
     ]
    },
    {
     "name": "stdout",
     "output_type": "stream",
     "text": [
      "\r"
     ]
    },
    {
     "name": "stdout",
     "output_type": "stream",
     "text": [
      " [*****    22%           ] Elapsed 0.90s / Remaining 00:00:00:03"
     ]
    },
    {
     "name": "stdout",
     "output_type": "stream",
     "text": [
      "\r"
     ]
    },
    {
     "name": "stdout",
     "output_type": "stream",
     "text": [
      " [*****    22%           ] Elapsed 0.90s / Remaining 00:00:00:03"
     ]
    },
    {
     "name": "stdout",
     "output_type": "stream",
     "text": [
      "\r",
      " [*****    22%           ] Elapsed 0.91s / Remaining 00:00:00:03"
     ]
    },
    {
     "name": "stdout",
     "output_type": "stream",
     "text": [
      "\r",
      " [*****    22%           ] Elapsed 0.92s / Remaining 00:00:00:03"
     ]
    },
    {
     "name": "stdout",
     "output_type": "stream",
     "text": [
      "\r",
      " [*****    22%           ] Elapsed 0.93s / Remaining 00:00:00:03"
     ]
    },
    {
     "name": "stdout",
     "output_type": "stream",
     "text": [
      "\r"
     ]
    },
    {
     "name": "stdout",
     "output_type": "stream",
     "text": [
      " [*****    23%           ] Elapsed 0.93s / Remaining 00:00:00:03"
     ]
    },
    {
     "name": "stdout",
     "output_type": "stream",
     "text": [
      "\r",
      " [*****    23%           ] Elapsed 0.94s / Remaining 00:00:00:03"
     ]
    },
    {
     "name": "stdout",
     "output_type": "stream",
     "text": [
      "\r"
     ]
    },
    {
     "name": "stdout",
     "output_type": "stream",
     "text": [
      " [*****    23%           ] Elapsed 0.95s / Remaining 00:00:00:03"
     ]
    },
    {
     "name": "stdout",
     "output_type": "stream",
     "text": [
      "\r",
      " [*****    23%           ] Elapsed 0.95s / Remaining 00:00:00:03"
     ]
    },
    {
     "name": "stdout",
     "output_type": "stream",
     "text": [
      "\r",
      " [*****    23%           ] Elapsed 0.96s / Remaining 00:00:00:03"
     ]
    },
    {
     "name": "stdout",
     "output_type": "stream",
     "text": [
      "\r",
      " [*****    23%           ] Elapsed 0.96s / Remaining 00:00:00:03"
     ]
    },
    {
     "name": "stdout",
     "output_type": "stream",
     "text": [
      "\r",
      " [******   24%           ] Elapsed 0.97s / Remaining 00:00:00:03"
     ]
    },
    {
     "name": "stdout",
     "output_type": "stream",
     "text": [
      "\r",
      " [******   24%           ] Elapsed 0.98s / Remaining 00:00:00:03"
     ]
    },
    {
     "name": "stdout",
     "output_type": "stream",
     "text": [
      "\r",
      " [******   24%           ] Elapsed 0.98s / Remaining 00:00:00:03"
     ]
    },
    {
     "name": "stdout",
     "output_type": "stream",
     "text": [
      "\r",
      " [******   24%           ] Elapsed 0.99s / Remaining 00:00:00:03"
     ]
    },
    {
     "name": "stdout",
     "output_type": "stream",
     "text": [
      "\r",
      " [******   24%           ] Elapsed 1.00s / Remaining 00:00:00:03"
     ]
    },
    {
     "name": "stdout",
     "output_type": "stream",
     "text": [
      "\r",
      " [******   24%           ] Elapsed 1.00s / Remaining 00:00:00:03"
     ]
    },
    {
     "name": "stdout",
     "output_type": "stream",
     "text": [
      "\r",
      " [******   25%           ] Elapsed 1.01s / Remaining 00:00:00:03"
     ]
    },
    {
     "name": "stdout",
     "output_type": "stream",
     "text": [
      "\r",
      " [******   25%           ] Elapsed 1.02s / Remaining 00:00:00:03"
     ]
    },
    {
     "name": "stdout",
     "output_type": "stream",
     "text": [
      "\r",
      " [******   25%           ] Elapsed 1.03s / Remaining 00:00:00:03"
     ]
    },
    {
     "name": "stdout",
     "output_type": "stream",
     "text": [
      "\r",
      " [******   25%           ] Elapsed 1.04s / Remaining 00:00:00:03"
     ]
    },
    {
     "name": "stdout",
     "output_type": "stream",
     "text": [
      "\r",
      " [******   25%           ] Elapsed 1.04s / Remaining 00:00:00:03"
     ]
    },
    {
     "name": "stdout",
     "output_type": "stream",
     "text": [
      "\r",
      " [******   25%           ] Elapsed 1.05s / Remaining 00:00:00:03"
     ]
    },
    {
     "name": "stdout",
     "output_type": "stream",
     "text": [
      "\r",
      " [******   26%           ] Elapsed 1.06s / Remaining 00:00:00:03"
     ]
    },
    {
     "name": "stdout",
     "output_type": "stream",
     "text": [
      "\r"
     ]
    },
    {
     "name": "stdout",
     "output_type": "stream",
     "text": [
      " [******   26%           ] Elapsed 1.06s / Remaining 00:00:00:03"
     ]
    },
    {
     "name": "stdout",
     "output_type": "stream",
     "text": [
      "\r",
      " [******   26%           ] Elapsed 1.07s / Remaining 00:00:00:03"
     ]
    },
    {
     "name": "stdout",
     "output_type": "stream",
     "text": [
      "\r",
      " [******   26%           ] Elapsed 1.08s / Remaining 00:00:00:03"
     ]
    },
    {
     "name": "stdout",
     "output_type": "stream",
     "text": [
      "\r",
      " [******   26%           ] Elapsed 1.08s / Remaining 00:00:00:03"
     ]
    },
    {
     "name": "stdout",
     "output_type": "stream",
     "text": [
      "\r",
      " [******   26%           ] Elapsed 1.09s / Remaining 00:00:00:03"
     ]
    },
    {
     "name": "stdout",
     "output_type": "stream",
     "text": [
      "\r"
     ]
    },
    {
     "name": "stdout",
     "output_type": "stream",
     "text": [
      " [******   27%           ] Elapsed 1.09s / Remaining 00:00:00:02"
     ]
    },
    {
     "name": "stdout",
     "output_type": "stream",
     "text": [
      "\r",
      " [******   27%           ] Elapsed 1.10s / Remaining 00:00:00:02"
     ]
    },
    {
     "name": "stdout",
     "output_type": "stream",
     "text": [
      "\r",
      " [******   27%           ] Elapsed 1.11s / Remaining 00:00:00:02"
     ]
    },
    {
     "name": "stdout",
     "output_type": "stream",
     "text": [
      "\r",
      " [******   27%           ] Elapsed 1.11s / Remaining 00:00:00:03"
     ]
    },
    {
     "name": "stdout",
     "output_type": "stream",
     "text": [
      "\r"
     ]
    },
    {
     "name": "stdout",
     "output_type": "stream",
     "text": [
      " [******   27%           ] Elapsed 1.12s / Remaining 00:00:00:03"
     ]
    },
    {
     "name": "stdout",
     "output_type": "stream",
     "text": [
      "\r"
     ]
    },
    {
     "name": "stdout",
     "output_type": "stream",
     "text": [
      " [******   27%           ] Elapsed 1.13s / Remaining 00:00:00:03"
     ]
    },
    {
     "name": "stdout",
     "output_type": "stream",
     "text": [
      "\r"
     ]
    },
    {
     "name": "stdout",
     "output_type": "stream",
     "text": [
      " [******   28%           ] Elapsed 1.13s / Remaining 00:00:00:02"
     ]
    },
    {
     "name": "stdout",
     "output_type": "stream",
     "text": [
      "\r",
      " [******   28%           ] Elapsed 1.14s / Remaining 00:00:00:02"
     ]
    },
    {
     "name": "stdout",
     "output_type": "stream",
     "text": [
      "\r",
      " [******   28%           ] Elapsed 1.15s / Remaining 00:00:00:02"
     ]
    },
    {
     "name": "stdout",
     "output_type": "stream",
     "text": [
      "\r"
     ]
    },
    {
     "name": "stdout",
     "output_type": "stream",
     "text": [
      " [******   28%           ] Elapsed 1.15s / Remaining 00:00:00:02"
     ]
    },
    {
     "name": "stdout",
     "output_type": "stream",
     "text": [
      "\r"
     ]
    },
    {
     "name": "stdout",
     "output_type": "stream",
     "text": [
      " [******   28%           ] Elapsed 1.16s / Remaining 00:00:00:02"
     ]
    },
    {
     "name": "stdout",
     "output_type": "stream",
     "text": [
      "\r"
     ]
    },
    {
     "name": "stdout",
     "output_type": "stream",
     "text": [
      " [******   28%           ] Elapsed 1.17s / Remaining 00:00:00:02"
     ]
    },
    {
     "name": "stdout",
     "output_type": "stream",
     "text": [
      "\r",
      " [*******  29%           ] Elapsed 1.17s / Remaining 00:00:00:02"
     ]
    },
    {
     "name": "stdout",
     "output_type": "stream",
     "text": [
      "\r",
      " [*******  29%           ] Elapsed 1.18s / Remaining 00:00:00:02"
     ]
    },
    {
     "name": "stdout",
     "output_type": "stream",
     "text": [
      "\r"
     ]
    },
    {
     "name": "stdout",
     "output_type": "stream",
     "text": [
      " [*******  29%           ] Elapsed 1.19s / Remaining 00:00:00:02"
     ]
    },
    {
     "name": "stdout",
     "output_type": "stream",
     "text": [
      "\r"
     ]
    },
    {
     "name": "stdout",
     "output_type": "stream",
     "text": [
      " [*******  29%           ] Elapsed 1.19s / Remaining 00:00:00:02"
     ]
    },
    {
     "name": "stdout",
     "output_type": "stream",
     "text": [
      "\r",
      " [*******  29%           ] Elapsed 1.20s / Remaining 00:00:00:02"
     ]
    },
    {
     "name": "stdout",
     "output_type": "stream",
     "text": [
      "\r",
      " [*******  29%           ] Elapsed 1.21s / Remaining 00:00:00:02"
     ]
    },
    {
     "name": "stdout",
     "output_type": "stream",
     "text": [
      "\r",
      " [*******  30%           ] Elapsed 1.22s / Remaining 00:00:00:02"
     ]
    },
    {
     "name": "stdout",
     "output_type": "stream",
     "text": [
      "\r",
      " [*******  30%           ] Elapsed 1.23s / Remaining 00:00:00:02"
     ]
    },
    {
     "name": "stdout",
     "output_type": "stream",
     "text": [
      "\r"
     ]
    },
    {
     "name": "stdout",
     "output_type": "stream",
     "text": [
      " [*******  30%           ] Elapsed 1.23s / Remaining 00:00:00:02"
     ]
    },
    {
     "name": "stdout",
     "output_type": "stream",
     "text": [
      "\r",
      " [*******  30%           ] Elapsed 1.24s / Remaining 00:00:00:02"
     ]
    },
    {
     "name": "stdout",
     "output_type": "stream",
     "text": [
      "\r",
      " [*******  30%           ] Elapsed 1.25s / Remaining 00:00:00:02"
     ]
    },
    {
     "name": "stdout",
     "output_type": "stream",
     "text": [
      "\r",
      " [*******  30%           ] Elapsed 1.25s / Remaining 00:00:00:02"
     ]
    },
    {
     "name": "stdout",
     "output_type": "stream",
     "text": [
      "\r",
      " [*******  31%           ] Elapsed 1.26s / Remaining 00:00:00:02"
     ]
    },
    {
     "name": "stdout",
     "output_type": "stream",
     "text": [
      "\r",
      " [*******  31%           ] Elapsed 1.27s / Remaining 00:00:00:02"
     ]
    },
    {
     "name": "stdout",
     "output_type": "stream",
     "text": [
      "\r",
      " [*******  31%           ] Elapsed 1.27s / Remaining 00:00:00:02"
     ]
    },
    {
     "name": "stdout",
     "output_type": "stream",
     "text": [
      "\r",
      " [*******  31%           ] Elapsed 1.28s / Remaining 00:00:00:02"
     ]
    },
    {
     "name": "stdout",
     "output_type": "stream",
     "text": [
      "\r",
      " [*******  31%           ] Elapsed 1.29s / Remaining 00:00:00:02"
     ]
    },
    {
     "name": "stdout",
     "output_type": "stream",
     "text": [
      "\r",
      " [*******  31%           ] Elapsed 1.29s / Remaining 00:00:00:02"
     ]
    },
    {
     "name": "stdout",
     "output_type": "stream",
     "text": [
      "\r",
      " [*******  32%           ] Elapsed 1.30s / Remaining 00:00:00:02"
     ]
    },
    {
     "name": "stdout",
     "output_type": "stream",
     "text": [
      "\r",
      " [*******  32%           ] Elapsed 1.31s / Remaining 00:00:00:02"
     ]
    },
    {
     "name": "stdout",
     "output_type": "stream",
     "text": [
      "\r",
      " [*******  32%           ] Elapsed 1.31s / Remaining 00:00:00:02"
     ]
    },
    {
     "name": "stdout",
     "output_type": "stream",
     "text": [
      "\r",
      " [*******  32%           ] Elapsed 1.32s / Remaining 00:00:00:02"
     ]
    },
    {
     "name": "stdout",
     "output_type": "stream",
     "text": [
      "\r",
      " [*******  32%           ] Elapsed 1.32s / Remaining 00:00:00:02"
     ]
    },
    {
     "name": "stdout",
     "output_type": "stream",
     "text": [
      "\r",
      " [*******  32%           ] Elapsed 1.33s / Remaining 00:00:00:02"
     ]
    },
    {
     "name": "stdout",
     "output_type": "stream",
     "text": [
      "\r"
     ]
    },
    {
     "name": "stdout",
     "output_type": "stream",
     "text": [
      " [******** 33%           ] Elapsed 1.34s / Remaining 00:00:00:02"
     ]
    },
    {
     "name": "stdout",
     "output_type": "stream",
     "text": [
      "\r",
      " [******** 33%           ] Elapsed 1.34s / Remaining 00:00:00:02"
     ]
    },
    {
     "name": "stdout",
     "output_type": "stream",
     "text": [
      "\r",
      " [******** 33%           ] Elapsed 1.35s / Remaining 00:00:00:02"
     ]
    },
    {
     "name": "stdout",
     "output_type": "stream",
     "text": [
      "\r"
     ]
    },
    {
     "name": "stdout",
     "output_type": "stream",
     "text": [
      " [******** 33%           ] Elapsed 1.36s / Remaining 00:00:00:02"
     ]
    },
    {
     "name": "stdout",
     "output_type": "stream",
     "text": [
      "\r",
      " [******** 33%           ] Elapsed 1.36s / Remaining 00:00:00:02"
     ]
    },
    {
     "name": "stdout",
     "output_type": "stream",
     "text": [
      "\r"
     ]
    },
    {
     "name": "stdout",
     "output_type": "stream",
     "text": [
      " [******** 33%           ] Elapsed 1.37s / Remaining 00:00:00:02"
     ]
    },
    {
     "name": "stdout",
     "output_type": "stream",
     "text": [
      "\r",
      " [******** 34%           ] Elapsed 1.38s / Remaining 00:00:00:02"
     ]
    },
    {
     "name": "stdout",
     "output_type": "stream",
     "text": [
      "\r"
     ]
    },
    {
     "name": "stdout",
     "output_type": "stream",
     "text": [
      " [******** 34%           ] Elapsed 1.38s / Remaining 00:00:00:02"
     ]
    },
    {
     "name": "stdout",
     "output_type": "stream",
     "text": [
      "\r"
     ]
    },
    {
     "name": "stdout",
     "output_type": "stream",
     "text": [
      " [******** 34%           ] Elapsed 1.39s / Remaining 00:00:00:02"
     ]
    },
    {
     "name": "stdout",
     "output_type": "stream",
     "text": [
      "\r",
      " [******** 34%           ] Elapsed 1.40s / Remaining 00:00:00:02"
     ]
    },
    {
     "name": "stdout",
     "output_type": "stream",
     "text": [
      "\r"
     ]
    },
    {
     "name": "stdout",
     "output_type": "stream",
     "text": [
      " [******** 34%           ] Elapsed 1.40s / Remaining 00:00:00:02"
     ]
    },
    {
     "name": "stdout",
     "output_type": "stream",
     "text": [
      "\r",
      " [******** 34%           ] Elapsed 1.41s / Remaining 00:00:00:02"
     ]
    },
    {
     "name": "stdout",
     "output_type": "stream",
     "text": [
      "\r"
     ]
    },
    {
     "name": "stdout",
     "output_type": "stream",
     "text": [
      " [******** 35%           ] Elapsed 1.43s / Remaining 00:00:00:02"
     ]
    },
    {
     "name": "stdout",
     "output_type": "stream",
     "text": [
      "\r"
     ]
    },
    {
     "name": "stdout",
     "output_type": "stream",
     "text": [
      " [******** 35%           ] Elapsed 1.44s / Remaining 00:00:00:02"
     ]
    },
    {
     "name": "stdout",
     "output_type": "stream",
     "text": [
      "\r",
      " [******** 35%           ] Elapsed 1.45s / Remaining 00:00:00:02"
     ]
    },
    {
     "name": "stdout",
     "output_type": "stream",
     "text": [
      "\r",
      " [******** 35%           ] Elapsed 1.45s / Remaining 00:00:00:02"
     ]
    },
    {
     "name": "stdout",
     "output_type": "stream",
     "text": [
      "\r",
      " [******** 35%           ] Elapsed 1.46s / Remaining 00:00:00:02"
     ]
    },
    {
     "name": "stdout",
     "output_type": "stream",
     "text": [
      "\r",
      " [******** 35%           ] Elapsed 1.47s / Remaining 00:00:00:02"
     ]
    },
    {
     "name": "stdout",
     "output_type": "stream",
     "text": [
      "\r"
     ]
    },
    {
     "name": "stdout",
     "output_type": "stream",
     "text": [
      " [******** 36%           ] Elapsed 1.48s / Remaining 00:00:00:02"
     ]
    },
    {
     "name": "stdout",
     "output_type": "stream",
     "text": [
      "\r",
      " [******** 36%           ] Elapsed 1.48s / Remaining 00:00:00:02"
     ]
    },
    {
     "name": "stdout",
     "output_type": "stream",
     "text": [
      "\r"
     ]
    },
    {
     "name": "stdout",
     "output_type": "stream",
     "text": [
      " [******** 36%           ] Elapsed 1.49s / Remaining 00:00:00:02"
     ]
    },
    {
     "name": "stdout",
     "output_type": "stream",
     "text": [
      "\r",
      " [******** 36%           ] Elapsed 1.50s / Remaining 00:00:00:02"
     ]
    },
    {
     "name": "stdout",
     "output_type": "stream",
     "text": [
      "\r",
      " [******** 36%           ] Elapsed 1.51s / Remaining 00:00:00:02"
     ]
    },
    {
     "name": "stdout",
     "output_type": "stream",
     "text": [
      "\r",
      " [******** 36%           ] Elapsed 1.51s / Remaining 00:00:00:02"
     ]
    },
    {
     "name": "stdout",
     "output_type": "stream",
     "text": [
      "\r",
      " [*********37%           ] Elapsed 1.52s / Remaining 00:00:00:02"
     ]
    },
    {
     "name": "stdout",
     "output_type": "stream",
     "text": [
      "\r"
     ]
    },
    {
     "name": "stdout",
     "output_type": "stream",
     "text": [
      " [*********37%           ] Elapsed 1.53s / Remaining 00:00:00:02"
     ]
    },
    {
     "name": "stdout",
     "output_type": "stream",
     "text": [
      "\r",
      " [*********37%           ] Elapsed 1.54s / Remaining 00:00:00:02"
     ]
    },
    {
     "name": "stdout",
     "output_type": "stream",
     "text": [
      "\r",
      " [*********37%           ] Elapsed 1.54s / Remaining 00:00:00:02"
     ]
    },
    {
     "name": "stdout",
     "output_type": "stream",
     "text": [
      "\r"
     ]
    },
    {
     "name": "stdout",
     "output_type": "stream",
     "text": [
      " [*********37%           ] Elapsed 1.55s / Remaining 00:00:00:02"
     ]
    },
    {
     "name": "stdout",
     "output_type": "stream",
     "text": [
      "\r",
      " [*********37%           ] Elapsed 1.56s / Remaining 00:00:00:02"
     ]
    },
    {
     "name": "stdout",
     "output_type": "stream",
     "text": [
      "\r",
      " [*********38%           ] Elapsed 1.57s / Remaining 00:00:00:02"
     ]
    },
    {
     "name": "stdout",
     "output_type": "stream",
     "text": [
      "\r"
     ]
    },
    {
     "name": "stdout",
     "output_type": "stream",
     "text": [
      " [*********38%           ] Elapsed 1.57s / Remaining 00:00:00:02"
     ]
    },
    {
     "name": "stdout",
     "output_type": "stream",
     "text": [
      "\r"
     ]
    },
    {
     "name": "stdout",
     "output_type": "stream",
     "text": [
      " [*********38%           ] Elapsed 1.58s / Remaining 00:00:00:02"
     ]
    },
    {
     "name": "stdout",
     "output_type": "stream",
     "text": [
      "\r",
      " [*********38%           ] Elapsed 1.59s / Remaining 00:00:00:02"
     ]
    },
    {
     "name": "stdout",
     "output_type": "stream",
     "text": [
      "\r"
     ]
    },
    {
     "name": "stdout",
     "output_type": "stream",
     "text": [
      " [*********38%           ] Elapsed 1.60s / Remaining 00:00:00:02"
     ]
    },
    {
     "name": "stdout",
     "output_type": "stream",
     "text": [
      "\r"
     ]
    },
    {
     "name": "stdout",
     "output_type": "stream",
     "text": [
      " [*********38%           ] Elapsed 1.60s / Remaining 00:00:00:02"
     ]
    },
    {
     "name": "stdout",
     "output_type": "stream",
     "text": [
      "\r",
      " [*********39%           ] Elapsed 1.61s / Remaining 00:00:00:02"
     ]
    },
    {
     "name": "stdout",
     "output_type": "stream",
     "text": [
      "\r",
      " [*********39%           ] Elapsed 1.62s / Remaining 00:00:00:02"
     ]
    },
    {
     "name": "stdout",
     "output_type": "stream",
     "text": [
      "\r",
      " [*********39%           ] Elapsed 1.62s / Remaining 00:00:00:02"
     ]
    },
    {
     "name": "stdout",
     "output_type": "stream",
     "text": [
      "\r"
     ]
    },
    {
     "name": "stdout",
     "output_type": "stream",
     "text": [
      " [*********39%           ] Elapsed 1.63s / Remaining 00:00:00:02"
     ]
    },
    {
     "name": "stdout",
     "output_type": "stream",
     "text": [
      "\r",
      " [*********39%           ] Elapsed 1.64s / Remaining 00:00:00:02"
     ]
    },
    {
     "name": "stdout",
     "output_type": "stream",
     "text": [
      "\r",
      " [*********39%           ] Elapsed 1.65s / Remaining 00:00:00:02"
     ]
    },
    {
     "name": "stdout",
     "output_type": "stream",
     "text": [
      "\r",
      " [*********40%           ] Elapsed 1.66s / Remaining 00:00:00:02"
     ]
    },
    {
     "name": "stdout",
     "output_type": "stream",
     "text": [
      "\r",
      " [*********40%           ] Elapsed 1.67s / Remaining 00:00:00:02"
     ]
    },
    {
     "name": "stdout",
     "output_type": "stream",
     "text": [
      "\r",
      " [*********40%           ] Elapsed 1.68s / Remaining 00:00:00:02"
     ]
    },
    {
     "name": "stdout",
     "output_type": "stream",
     "text": [
      "\r",
      " [*********40%           ] Elapsed 1.68s / Remaining 00:00:00:02"
     ]
    },
    {
     "name": "stdout",
     "output_type": "stream",
     "text": [
      "\r",
      " [*********40%           ] Elapsed 1.69s / Remaining 00:00:00:02"
     ]
    },
    {
     "name": "stdout",
     "output_type": "stream",
     "text": [
      "\r",
      " [*********40%           ] Elapsed 1.70s / Remaining 00:00:00:02"
     ]
    },
    {
     "name": "stdout",
     "output_type": "stream",
     "text": [
      "\r",
      " [*********41%           ] Elapsed 1.71s / Remaining 00:00:00:02"
     ]
    },
    {
     "name": "stdout",
     "output_type": "stream",
     "text": [
      "\r",
      " [*********41%           ] Elapsed 1.71s / Remaining 00:00:00:02"
     ]
    },
    {
     "name": "stdout",
     "output_type": "stream",
     "text": [
      "\r",
      " [*********41%           ] Elapsed 1.72s / Remaining 00:00:00:02"
     ]
    },
    {
     "name": "stdout",
     "output_type": "stream",
     "text": [
      "\r",
      " [*********41%           ] Elapsed 1.73s / Remaining 00:00:00:02"
     ]
    },
    {
     "name": "stdout",
     "output_type": "stream",
     "text": [
      "\r",
      " [*********41%           ] Elapsed 1.73s / Remaining 00:00:00:02"
     ]
    },
    {
     "name": "stdout",
     "output_type": "stream",
     "text": [
      "\r"
     ]
    },
    {
     "name": "stdout",
     "output_type": "stream",
     "text": [
      " [*********41%           ] Elapsed 1.74s / Remaining 00:00:00:02"
     ]
    },
    {
     "name": "stdout",
     "output_type": "stream",
     "text": [
      "\r"
     ]
    },
    {
     "name": "stdout",
     "output_type": "stream",
     "text": [
      " [*********42%           ] Elapsed 1.75s / Remaining 00:00:00:02"
     ]
    },
    {
     "name": "stdout",
     "output_type": "stream",
     "text": [
      "\r",
      " [*********42%           ] Elapsed 1.75s / Remaining 00:00:00:02"
     ]
    },
    {
     "name": "stdout",
     "output_type": "stream",
     "text": [
      "\r"
     ]
    },
    {
     "name": "stdout",
     "output_type": "stream",
     "text": [
      " [*********42%           ] Elapsed 1.76s / Remaining 00:00:00:02"
     ]
    },
    {
     "name": "stdout",
     "output_type": "stream",
     "text": [
      "\r",
      " [*********42%           ] Elapsed 1.77s / Remaining 00:00:00:02"
     ]
    },
    {
     "name": "stdout",
     "output_type": "stream",
     "text": [
      "\r",
      " [*********42%           ] Elapsed 1.78s / Remaining 00:00:00:02"
     ]
    },
    {
     "name": "stdout",
     "output_type": "stream",
     "text": [
      "\r",
      " [*********42%           ] Elapsed 1.78s / Remaining 00:00:00:02"
     ]
    },
    {
     "name": "stdout",
     "output_type": "stream",
     "text": [
      "\r",
      " [*********43%           ] Elapsed 1.79s / Remaining 00:00:00:02"
     ]
    },
    {
     "name": "stdout",
     "output_type": "stream",
     "text": [
      "\r",
      " [*********43%           ] Elapsed 1.80s / Remaining 00:00:00:02"
     ]
    },
    {
     "name": "stdout",
     "output_type": "stream",
     "text": [
      "\r"
     ]
    },
    {
     "name": "stdout",
     "output_type": "stream",
     "text": [
      " [*********43%           ] Elapsed 1.80s / Remaining 00:00:00:02"
     ]
    },
    {
     "name": "stdout",
     "output_type": "stream",
     "text": [
      "\r",
      " [*********43%           ] Elapsed 1.81s / Remaining 00:00:00:02"
     ]
    },
    {
     "name": "stdout",
     "output_type": "stream",
     "text": [
      "\r"
     ]
    },
    {
     "name": "stdout",
     "output_type": "stream",
     "text": [
      " [*********43%           ] Elapsed 1.82s / Remaining 00:00:00:02"
     ]
    },
    {
     "name": "stdout",
     "output_type": "stream",
     "text": [
      "\r",
      " [*********43%           ] Elapsed 1.83s / Remaining 00:00:00:02"
     ]
    },
    {
     "name": "stdout",
     "output_type": "stream",
     "text": [
      "\r",
      " [*********44%           ] Elapsed 1.83s / Remaining 00:00:00:02"
     ]
    },
    {
     "name": "stdout",
     "output_type": "stream",
     "text": [
      "\r",
      " [*********44%           ] Elapsed 1.84s / Remaining 00:00:00:02"
     ]
    },
    {
     "name": "stdout",
     "output_type": "stream",
     "text": [
      "\r",
      " [*********44%           ] Elapsed 1.85s / Remaining 00:00:00:02"
     ]
    },
    {
     "name": "stdout",
     "output_type": "stream",
     "text": [
      "\r",
      " [*********44%           ] Elapsed 1.86s / Remaining 00:00:00:02"
     ]
    },
    {
     "name": "stdout",
     "output_type": "stream",
     "text": [
      "\r"
     ]
    },
    {
     "name": "stdout",
     "output_type": "stream",
     "text": [
      " [*********44%           ] Elapsed 1.87s / Remaining 00:00:00:02"
     ]
    },
    {
     "name": "stdout",
     "output_type": "stream",
     "text": [
      "\r",
      " [*********44%           ] Elapsed 1.88s / Remaining 00:00:00:02"
     ]
    },
    {
     "name": "stdout",
     "output_type": "stream",
     "text": [
      "\r",
      " [*********45%           ] Elapsed 1.89s / Remaining 00:00:00:02"
     ]
    },
    {
     "name": "stdout",
     "output_type": "stream",
     "text": [
      "\r",
      " [*********45%           ] Elapsed 1.90s / Remaining 00:00:00:02"
     ]
    },
    {
     "name": "stdout",
     "output_type": "stream",
     "text": [
      "\r",
      " [*********45%           ] Elapsed 1.90s / Remaining 00:00:00:02"
     ]
    },
    {
     "name": "stdout",
     "output_type": "stream",
     "text": [
      "\r",
      " [*********45%           ] Elapsed 1.91s / Remaining 00:00:00:02"
     ]
    },
    {
     "name": "stdout",
     "output_type": "stream",
     "text": [
      "\r"
     ]
    },
    {
     "name": "stdout",
     "output_type": "stream",
     "text": [
      " [*********45%           ] Elapsed 1.92s / Remaining 00:00:00:02"
     ]
    },
    {
     "name": "stdout",
     "output_type": "stream",
     "text": [
      "\r"
     ]
    },
    {
     "name": "stdout",
     "output_type": "stream",
     "text": [
      " [*********45%           ] Elapsed 1.93s / Remaining 00:00:00:02"
     ]
    },
    {
     "name": "stdout",
     "output_type": "stream",
     "text": [
      "\r",
      " [*********46%           ] Elapsed 1.94s / Remaining 00:00:00:02"
     ]
    },
    {
     "name": "stdout",
     "output_type": "stream",
     "text": [
      "\r"
     ]
    },
    {
     "name": "stdout",
     "output_type": "stream",
     "text": [
      " [*********46%           ] Elapsed 1.94s / Remaining 00:00:00:02"
     ]
    },
    {
     "name": "stdout",
     "output_type": "stream",
     "text": [
      "\r",
      " [*********46%           ] Elapsed 1.95s / Remaining 00:00:00:02"
     ]
    },
    {
     "name": "stdout",
     "output_type": "stream",
     "text": [
      "\r"
     ]
    },
    {
     "name": "stdout",
     "output_type": "stream",
     "text": [
      " [*********46%           ] Elapsed 1.96s / Remaining 00:00:00:02"
     ]
    },
    {
     "name": "stdout",
     "output_type": "stream",
     "text": [
      "\r",
      " [*********46%           ] Elapsed 1.96s / Remaining 00:00:00:02"
     ]
    },
    {
     "name": "stdout",
     "output_type": "stream",
     "text": [
      "\r",
      " [*********46%           ] Elapsed 1.97s / Remaining 00:00:00:02"
     ]
    },
    {
     "name": "stdout",
     "output_type": "stream",
     "text": [
      "\r"
     ]
    },
    {
     "name": "stdout",
     "output_type": "stream",
     "text": [
      " [*********47%           ] Elapsed 1.98s / Remaining 00:00:00:02"
     ]
    },
    {
     "name": "stdout",
     "output_type": "stream",
     "text": [
      "\r"
     ]
    },
    {
     "name": "stdout",
     "output_type": "stream",
     "text": [
      " [*********47%           ] Elapsed 1.99s / Remaining 00:00:00:02"
     ]
    },
    {
     "name": "stdout",
     "output_type": "stream",
     "text": [
      "\r",
      " [*********47%           ] Elapsed 1.99s / Remaining 00:00:00:02"
     ]
    },
    {
     "name": "stdout",
     "output_type": "stream",
     "text": [
      "\r",
      " [*********47%           ] Elapsed 2.00s / Remaining 00:00:00:02"
     ]
    },
    {
     "name": "stdout",
     "output_type": "stream",
     "text": [
      "\r",
      " [*********47%           ] Elapsed 2.01s / Remaining 00:00:00:02"
     ]
    },
    {
     "name": "stdout",
     "output_type": "stream",
     "text": [
      "\r"
     ]
    },
    {
     "name": "stdout",
     "output_type": "stream",
     "text": [
      " [*********47%           ] Elapsed 2.01s / Remaining 00:00:00:02"
     ]
    },
    {
     "name": "stdout",
     "output_type": "stream",
     "text": [
      "\r",
      " [*********48%           ] Elapsed 2.02s / Remaining 00:00:00:02"
     ]
    },
    {
     "name": "stdout",
     "output_type": "stream",
     "text": [
      "\r",
      " [*********48%           ] Elapsed 2.03s / Remaining 00:00:00:02"
     ]
    },
    {
     "name": "stdout",
     "output_type": "stream",
     "text": [
      "\r",
      " [*********48%           ] Elapsed 2.03s / Remaining 00:00:00:02"
     ]
    },
    {
     "name": "stdout",
     "output_type": "stream",
     "text": [
      "\r",
      " [*********48%           ] Elapsed 2.04s / Remaining 00:00:00:02"
     ]
    },
    {
     "name": "stdout",
     "output_type": "stream",
     "text": [
      "\r",
      " [*********48%           ] Elapsed 2.05s / Remaining 00:00:00:02"
     ]
    },
    {
     "name": "stdout",
     "output_type": "stream",
     "text": [
      "\r",
      " [*********48%           ] Elapsed 2.05s / Remaining 00:00:00:02"
     ]
    },
    {
     "name": "stdout",
     "output_type": "stream",
     "text": [
      "\r",
      " [*********49%           ] Elapsed 2.06s / Remaining 00:00:00:02"
     ]
    },
    {
     "name": "stdout",
     "output_type": "stream",
     "text": [
      "\r",
      " [*********49%           ] Elapsed 2.07s / Remaining 00:00:00:02"
     ]
    },
    {
     "name": "stdout",
     "output_type": "stream",
     "text": [
      "\r"
     ]
    },
    {
     "name": "stdout",
     "output_type": "stream",
     "text": [
      " [*********49%           ] Elapsed 2.07s / Remaining 00:00:00:02"
     ]
    },
    {
     "name": "stdout",
     "output_type": "stream",
     "text": [
      "\r",
      " [*********49%           ] Elapsed 2.08s / Remaining 00:00:00:02"
     ]
    },
    {
     "name": "stdout",
     "output_type": "stream",
     "text": [
      "\r",
      " [*********49%           ] Elapsed 2.10s / Remaining 00:00:00:02"
     ]
    },
    {
     "name": "stdout",
     "output_type": "stream",
     "text": [
      "\r",
      " [*********49%           ] Elapsed 2.10s / Remaining 00:00:00:02"
     ]
    },
    {
     "name": "stdout",
     "output_type": "stream",
     "text": [
      "\r",
      " [*********50%           ] Elapsed 2.11s / Remaining 00:00:00:02"
     ]
    },
    {
     "name": "stdout",
     "output_type": "stream",
     "text": [
      "\r",
      " [*********50%           ] Elapsed 2.12s / Remaining 00:00:00:02"
     ]
    },
    {
     "name": "stdout",
     "output_type": "stream",
     "text": [
      "\r",
      " [*********50%           ] Elapsed 2.12s / Remaining 00:00:00:02"
     ]
    },
    {
     "name": "stdout",
     "output_type": "stream",
     "text": [
      "\r"
     ]
    },
    {
     "name": "stdout",
     "output_type": "stream",
     "text": [
      " [*********50%           ] Elapsed 2.13s / Remaining 00:00:00:02"
     ]
    },
    {
     "name": "stdout",
     "output_type": "stream",
     "text": [
      "\r"
     ]
    },
    {
     "name": "stdout",
     "output_type": "stream",
     "text": [
      " [*********50%           ] Elapsed 2.14s / Remaining 00:00:00:02"
     ]
    },
    {
     "name": "stdout",
     "output_type": "stream",
     "text": [
      "\r"
     ]
    },
    {
     "name": "stdout",
     "output_type": "stream",
     "text": [
      " [*********50%           ] Elapsed 2.14s / Remaining 00:00:00:02"
     ]
    },
    {
     "name": "stdout",
     "output_type": "stream",
     "text": [
      "\r",
      " [*********51%           ] Elapsed 2.15s / Remaining 00:00:00:02"
     ]
    },
    {
     "name": "stdout",
     "output_type": "stream",
     "text": [
      "\r"
     ]
    },
    {
     "name": "stdout",
     "output_type": "stream",
     "text": [
      " [*********51%           ] Elapsed 2.16s / Remaining 00:00:00:02"
     ]
    },
    {
     "name": "stdout",
     "output_type": "stream",
     "text": [
      "\r",
      " [*********51%           ] Elapsed 2.17s / Remaining 00:00:00:02"
     ]
    },
    {
     "name": "stdout",
     "output_type": "stream",
     "text": [
      "\r",
      " [*********51%           ] Elapsed 2.17s / Remaining 00:00:00:02"
     ]
    },
    {
     "name": "stdout",
     "output_type": "stream",
     "text": [
      "\r"
     ]
    },
    {
     "name": "stdout",
     "output_type": "stream",
     "text": [
      " [*********51%           ] Elapsed 2.18s / Remaining 00:00:00:02"
     ]
    },
    {
     "name": "stdout",
     "output_type": "stream",
     "text": [
      "\r"
     ]
    },
    {
     "name": "stdout",
     "output_type": "stream",
     "text": [
      " [*********51%           ] Elapsed 2.19s / Remaining 00:00:00:02"
     ]
    },
    {
     "name": "stdout",
     "output_type": "stream",
     "text": [
      "\r"
     ]
    },
    {
     "name": "stdout",
     "output_type": "stream",
     "text": [
      " [*********52%           ] Elapsed 2.19s / Remaining 00:00:00:02"
     ]
    },
    {
     "name": "stdout",
     "output_type": "stream",
     "text": [
      "\r",
      " [*********52%           ] Elapsed 2.20s / Remaining 00:00:00:02"
     ]
    },
    {
     "name": "stdout",
     "output_type": "stream",
     "text": [
      "\r"
     ]
    },
    {
     "name": "stdout",
     "output_type": "stream",
     "text": [
      " [*********52%           ] Elapsed 2.21s / Remaining 00:00:00:02"
     ]
    },
    {
     "name": "stdout",
     "output_type": "stream",
     "text": [
      "\r",
      " [*********52%           ] Elapsed 2.22s / Remaining 00:00:00:02"
     ]
    },
    {
     "name": "stdout",
     "output_type": "stream",
     "text": [
      "\r",
      " [*********52%           ] Elapsed 2.22s / Remaining 00:00:00:02"
     ]
    },
    {
     "name": "stdout",
     "output_type": "stream",
     "text": [
      "\r"
     ]
    },
    {
     "name": "stdout",
     "output_type": "stream",
     "text": [
      " [*********52%           ] Elapsed 2.23s / Remaining 00:00:00:02"
     ]
    },
    {
     "name": "stdout",
     "output_type": "stream",
     "text": [
      "\r",
      " [*********53%           ] Elapsed 2.24s / Remaining 00:00:00:01"
     ]
    },
    {
     "name": "stdout",
     "output_type": "stream",
     "text": [
      "\r"
     ]
    },
    {
     "name": "stdout",
     "output_type": "stream",
     "text": [
      " [*********53%           ] Elapsed 2.24s / Remaining 00:00:00:01"
     ]
    },
    {
     "name": "stdout",
     "output_type": "stream",
     "text": [
      "\r"
     ]
    },
    {
     "name": "stdout",
     "output_type": "stream",
     "text": [
      " [*********53%           ] Elapsed 2.25s / Remaining 00:00:00:01"
     ]
    },
    {
     "name": "stdout",
     "output_type": "stream",
     "text": [
      "\r",
      " [*********53%           ] Elapsed 2.26s / Remaining 00:00:00:02"
     ]
    },
    {
     "name": "stdout",
     "output_type": "stream",
     "text": [
      "\r",
      " [*********53%           ] Elapsed 2.27s / Remaining 00:00:00:02"
     ]
    },
    {
     "name": "stdout",
     "output_type": "stream",
     "text": [
      "\r",
      " [*********53%           ] Elapsed 2.27s / Remaining 00:00:00:02"
     ]
    },
    {
     "name": "stdout",
     "output_type": "stream",
     "text": [
      "\r"
     ]
    },
    {
     "name": "stdout",
     "output_type": "stream",
     "text": [
      " [*********54%           ] Elapsed 2.28s / Remaining 00:00:00:01"
     ]
    },
    {
     "name": "stdout",
     "output_type": "stream",
     "text": [
      "\r"
     ]
    },
    {
     "name": "stdout",
     "output_type": "stream",
     "text": [
      " [*********54%           ] Elapsed 2.29s / Remaining 00:00:00:01"
     ]
    },
    {
     "name": "stdout",
     "output_type": "stream",
     "text": [
      "\r",
      " [*********54%           ] Elapsed 2.29s / Remaining 00:00:00:01"
     ]
    },
    {
     "name": "stdout",
     "output_type": "stream",
     "text": [
      "\r",
      " [*********54%           ] Elapsed 2.31s / Remaining 00:00:00:01"
     ]
    },
    {
     "name": "stdout",
     "output_type": "stream",
     "text": [
      "\r"
     ]
    },
    {
     "name": "stdout",
     "output_type": "stream",
     "text": [
      " [*********54%           ] Elapsed 2.32s / Remaining 00:00:00:01"
     ]
    },
    {
     "name": "stdout",
     "output_type": "stream",
     "text": [
      "\r",
      " [*********54%           ] Elapsed 2.32s / Remaining 00:00:00:01"
     ]
    },
    {
     "name": "stdout",
     "output_type": "stream",
     "text": [
      "\r",
      " [*********55%*          ] Elapsed 2.33s / Remaining 00:00:00:01"
     ]
    },
    {
     "name": "stdout",
     "output_type": "stream",
     "text": [
      "\r",
      " [*********55%*          ] Elapsed 2.34s / Remaining 00:00:00:01"
     ]
    },
    {
     "name": "stdout",
     "output_type": "stream",
     "text": [
      "\r",
      " [*********55%*          ] Elapsed 2.34s / Remaining 00:00:00:01"
     ]
    },
    {
     "name": "stdout",
     "output_type": "stream",
     "text": [
      "\r"
     ]
    },
    {
     "name": "stdout",
     "output_type": "stream",
     "text": [
      " [*********55%*          ] Elapsed 2.35s / Remaining 00:00:00:01"
     ]
    },
    {
     "name": "stdout",
     "output_type": "stream",
     "text": [
      "\r",
      " [*********55%*          ] Elapsed 2.36s / Remaining 00:00:00:01"
     ]
    },
    {
     "name": "stdout",
     "output_type": "stream",
     "text": [
      "\r"
     ]
    },
    {
     "name": "stdout",
     "output_type": "stream",
     "text": [
      " [*********55%*          ] Elapsed 2.36s / Remaining 00:00:00:01"
     ]
    },
    {
     "name": "stdout",
     "output_type": "stream",
     "text": [
      "\r",
      " [*********56%*          ] Elapsed 2.37s / Remaining 00:00:00:01"
     ]
    },
    {
     "name": "stdout",
     "output_type": "stream",
     "text": [
      "\r",
      " [*********56%*          ] Elapsed 2.38s / Remaining 00:00:00:01"
     ]
    },
    {
     "name": "stdout",
     "output_type": "stream",
     "text": [
      "\r"
     ]
    },
    {
     "name": "stdout",
     "output_type": "stream",
     "text": [
      " [*********56%*          ] Elapsed 2.38s / Remaining 00:00:00:01"
     ]
    },
    {
     "name": "stdout",
     "output_type": "stream",
     "text": [
      "\r",
      " [*********56%*          ] Elapsed 2.39s / Remaining 00:00:00:01"
     ]
    },
    {
     "name": "stdout",
     "output_type": "stream",
     "text": [
      "\r"
     ]
    },
    {
     "name": "stdout",
     "output_type": "stream",
     "text": [
      " [*********56%*          ] Elapsed 2.40s / Remaining 00:00:00:01"
     ]
    },
    {
     "name": "stdout",
     "output_type": "stream",
     "text": [
      "\r",
      " [*********56%*          ] Elapsed 2.41s / Remaining 00:00:00:01"
     ]
    },
    {
     "name": "stdout",
     "output_type": "stream",
     "text": [
      "\r"
     ]
    },
    {
     "name": "stdout",
     "output_type": "stream",
     "text": [
      " [*********57%*          ] Elapsed 2.41s / Remaining 00:00:00:01"
     ]
    },
    {
     "name": "stdout",
     "output_type": "stream",
     "text": [
      "\r"
     ]
    },
    {
     "name": "stdout",
     "output_type": "stream",
     "text": [
      " [*********57%*          ] Elapsed 2.42s / Remaining 00:00:00:01"
     ]
    },
    {
     "name": "stdout",
     "output_type": "stream",
     "text": [
      "\r",
      " [*********57%*          ] Elapsed 2.43s / Remaining 00:00:00:01"
     ]
    },
    {
     "name": "stdout",
     "output_type": "stream",
     "text": [
      "\r",
      " [*********57%*          ] Elapsed 2.43s / Remaining 00:00:00:01"
     ]
    },
    {
     "name": "stdout",
     "output_type": "stream",
     "text": [
      "\r"
     ]
    },
    {
     "name": "stdout",
     "output_type": "stream",
     "text": [
      " [*********57%*          ] Elapsed 2.44s / Remaining 00:00:00:01"
     ]
    },
    {
     "name": "stdout",
     "output_type": "stream",
     "text": [
      "\r",
      " [*********57%*          ] Elapsed 2.45s / Remaining 00:00:00:01"
     ]
    },
    {
     "name": "stdout",
     "output_type": "stream",
     "text": [
      "\r",
      " [*********58%*          ] Elapsed 2.45s / Remaining 00:00:00:01"
     ]
    },
    {
     "name": "stdout",
     "output_type": "stream",
     "text": [
      "\r",
      " [*********58%*          ] Elapsed 2.46s / Remaining 00:00:00:01"
     ]
    },
    {
     "name": "stdout",
     "output_type": "stream",
     "text": [
      "\r",
      " [*********58%*          ] Elapsed 2.47s / Remaining 00:00:00:01"
     ]
    },
    {
     "name": "stdout",
     "output_type": "stream",
     "text": [
      "\r",
      " [*********58%*          ] Elapsed 2.48s / Remaining 00:00:00:01"
     ]
    },
    {
     "name": "stdout",
     "output_type": "stream",
     "text": [
      "\r",
      " [*********58%*          ] Elapsed 2.48s / Remaining 00:00:00:01"
     ]
    },
    {
     "name": "stdout",
     "output_type": "stream",
     "text": [
      "\r"
     ]
    },
    {
     "name": "stdout",
     "output_type": "stream",
     "text": [
      " [*********58%*          ] Elapsed 2.49s / Remaining 00:00:00:01"
     ]
    },
    {
     "name": "stdout",
     "output_type": "stream",
     "text": [
      "\r",
      " [*********59%**         ] Elapsed 2.50s / Remaining 00:00:00:01"
     ]
    },
    {
     "name": "stdout",
     "output_type": "stream",
     "text": [
      "\r",
      " [*********59%**         ] Elapsed 2.50s / Remaining 00:00:00:01"
     ]
    },
    {
     "name": "stdout",
     "output_type": "stream",
     "text": [
      "\r",
      " [*********59%**         ] Elapsed 2.52s / Remaining 00:00:00:01"
     ]
    },
    {
     "name": "stdout",
     "output_type": "stream",
     "text": [
      "\r"
     ]
    },
    {
     "name": "stdout",
     "output_type": "stream",
     "text": [
      " [*********59%**         ] Elapsed 2.52s / Remaining 00:00:00:01"
     ]
    },
    {
     "name": "stdout",
     "output_type": "stream",
     "text": [
      "\r",
      " [*********59%**         ] Elapsed 2.53s / Remaining 00:00:00:01"
     ]
    },
    {
     "name": "stdout",
     "output_type": "stream",
     "text": [
      "\r",
      " [*********59%**         ] Elapsed 2.54s / Remaining 00:00:00:01"
     ]
    },
    {
     "name": "stdout",
     "output_type": "stream",
     "text": [
      "\r"
     ]
    },
    {
     "name": "stdout",
     "output_type": "stream",
     "text": [
      " [*********60%**         ] Elapsed 2.55s / Remaining 00:00:00:01"
     ]
    },
    {
     "name": "stdout",
     "output_type": "stream",
     "text": [
      "\r"
     ]
    },
    {
     "name": "stdout",
     "output_type": "stream",
     "text": [
      " [*********60%**         ] Elapsed 2.55s / Remaining 00:00:00:01"
     ]
    },
    {
     "name": "stdout",
     "output_type": "stream",
     "text": [
      "\r",
      " [*********60%**         ] Elapsed 2.56s / Remaining 00:00:00:01"
     ]
    },
    {
     "name": "stdout",
     "output_type": "stream",
     "text": [
      "\r",
      " [*********60%**         ] Elapsed 2.57s / Remaining 00:00:00:01"
     ]
    },
    {
     "name": "stdout",
     "output_type": "stream",
     "text": [
      "\r"
     ]
    },
    {
     "name": "stdout",
     "output_type": "stream",
     "text": [
      " [*********60%**         ] Elapsed 2.58s / Remaining 00:00:00:01"
     ]
    },
    {
     "name": "stdout",
     "output_type": "stream",
     "text": [
      "\r",
      " [*********60%**         ] Elapsed 2.58s / Remaining 00:00:00:01"
     ]
    },
    {
     "name": "stdout",
     "output_type": "stream",
     "text": [
      "\r",
      " [*********61%**         ] Elapsed 2.59s / Remaining 00:00:00:01"
     ]
    },
    {
     "name": "stdout",
     "output_type": "stream",
     "text": [
      "\r",
      " [*********61%**         ] Elapsed 2.60s / Remaining 00:00:00:01"
     ]
    },
    {
     "name": "stdout",
     "output_type": "stream",
     "text": [
      "\r"
     ]
    },
    {
     "name": "stdout",
     "output_type": "stream",
     "text": [
      " [*********61%**         ] Elapsed 2.61s / Remaining 00:00:00:01"
     ]
    },
    {
     "name": "stdout",
     "output_type": "stream",
     "text": [
      "\r"
     ]
    },
    {
     "name": "stdout",
     "output_type": "stream",
     "text": [
      " [*********61%**         ] Elapsed 2.61s / Remaining 00:00:00:01"
     ]
    },
    {
     "name": "stdout",
     "output_type": "stream",
     "text": [
      "\r",
      " [*********61%**         ] Elapsed 2.62s / Remaining 00:00:00:01"
     ]
    },
    {
     "name": "stdout",
     "output_type": "stream",
     "text": [
      "\r",
      " [*********61%**         ] Elapsed 2.63s / Remaining 00:00:00:01"
     ]
    },
    {
     "name": "stdout",
     "output_type": "stream",
     "text": [
      "\r"
     ]
    },
    {
     "name": "stdout",
     "output_type": "stream",
     "text": [
      " [*********62%**         ] Elapsed 2.64s / Remaining 00:00:00:01"
     ]
    },
    {
     "name": "stdout",
     "output_type": "stream",
     "text": [
      "\r",
      " [*********62%**         ] Elapsed 2.64s / Remaining 00:00:00:01"
     ]
    },
    {
     "name": "stdout",
     "output_type": "stream",
     "text": [
      "\r",
      " [*********62%**         ] Elapsed 2.66s / Remaining 00:00:00:01"
     ]
    },
    {
     "name": "stdout",
     "output_type": "stream",
     "text": [
      "\r",
      " [*********62%**         ] Elapsed 2.66s / Remaining 00:00:00:01"
     ]
    },
    {
     "name": "stdout",
     "output_type": "stream",
     "text": [
      "\r"
     ]
    },
    {
     "name": "stdout",
     "output_type": "stream",
     "text": [
      " [*********62%**         ] Elapsed 2.67s / Remaining 00:00:00:01"
     ]
    },
    {
     "name": "stdout",
     "output_type": "stream",
     "text": [
      "\r",
      " [*********62%**         ] Elapsed 2.68s / Remaining 00:00:00:01"
     ]
    },
    {
     "name": "stdout",
     "output_type": "stream",
     "text": [
      "\r"
     ]
    },
    {
     "name": "stdout",
     "output_type": "stream",
     "text": [
      " [*********63%**         ] Elapsed 2.68s / Remaining 00:00:00:01"
     ]
    },
    {
     "name": "stdout",
     "output_type": "stream",
     "text": [
      "\r",
      " [*********63%**         ] Elapsed 2.69s / Remaining 00:00:00:01"
     ]
    },
    {
     "name": "stdout",
     "output_type": "stream",
     "text": [
      "\r",
      " [*********63%**         ] Elapsed 2.70s / Remaining 00:00:00:01"
     ]
    },
    {
     "name": "stdout",
     "output_type": "stream",
     "text": [
      "\r",
      " [*********63%**         ] Elapsed 2.70s / Remaining 00:00:00:01"
     ]
    },
    {
     "name": "stdout",
     "output_type": "stream",
     "text": [
      "\r",
      " [*********63%**         ] Elapsed 2.71s / Remaining 00:00:00:01"
     ]
    },
    {
     "name": "stdout",
     "output_type": "stream",
     "text": [
      "\r",
      " [*********63%**         ] Elapsed 2.72s / Remaining 00:00:00:01"
     ]
    },
    {
     "name": "stdout",
     "output_type": "stream",
     "text": [
      "\r",
      " [*********64%***        ] Elapsed 2.72s / Remaining 00:00:00:01"
     ]
    },
    {
     "name": "stdout",
     "output_type": "stream",
     "text": [
      "\r",
      " [*********64%***        ] Elapsed 2.73s / Remaining 00:00:00:01"
     ]
    },
    {
     "name": "stdout",
     "output_type": "stream",
     "text": [
      "\r",
      " [*********64%***        ] Elapsed 2.74s / Remaining 00:00:00:01"
     ]
    },
    {
     "name": "stdout",
     "output_type": "stream",
     "text": [
      "\r",
      " [*********64%***        ] Elapsed 2.75s / Remaining 00:00:00:01"
     ]
    },
    {
     "name": "stdout",
     "output_type": "stream",
     "text": [
      "\r",
      " [*********64%***        ] Elapsed 2.76s / Remaining 00:00:00:01"
     ]
    },
    {
     "name": "stdout",
     "output_type": "stream",
     "text": [
      "\r",
      " [*********64%***        ] Elapsed 2.76s / Remaining 00:00:00:01"
     ]
    },
    {
     "name": "stdout",
     "output_type": "stream",
     "text": [
      "\r",
      " [*********65%***        ] Elapsed 2.77s / Remaining 00:00:00:01"
     ]
    },
    {
     "name": "stdout",
     "output_type": "stream",
     "text": [
      "\r",
      " [*********65%***        ] Elapsed 2.78s / Remaining 00:00:00:01"
     ]
    },
    {
     "name": "stdout",
     "output_type": "stream",
     "text": [
      "\r",
      " [*********65%***        ] Elapsed 2.78s / Remaining 00:00:00:01"
     ]
    },
    {
     "name": "stdout",
     "output_type": "stream",
     "text": [
      "\r",
      " [*********65%***        ] Elapsed 2.79s / Remaining 00:00:00:01"
     ]
    },
    {
     "name": "stdout",
     "output_type": "stream",
     "text": [
      "\r",
      " [*********65%***        ] Elapsed 2.80s / Remaining 00:00:00:01"
     ]
    },
    {
     "name": "stdout",
     "output_type": "stream",
     "text": [
      "\r",
      " [*********65%***        ] Elapsed 2.80s / Remaining 00:00:00:01"
     ]
    },
    {
     "name": "stdout",
     "output_type": "stream",
     "text": [
      "\r"
     ]
    },
    {
     "name": "stdout",
     "output_type": "stream",
     "text": [
      " [*********66%***        ] Elapsed 2.81s / Remaining 00:00:00:01"
     ]
    },
    {
     "name": "stdout",
     "output_type": "stream",
     "text": [
      "\r",
      " [*********66%***        ] Elapsed 2.81s / Remaining 00:00:00:01"
     ]
    },
    {
     "name": "stdout",
     "output_type": "stream",
     "text": [
      "\r",
      " [*********66%***        ] Elapsed 2.82s / Remaining 00:00:00:01"
     ]
    },
    {
     "name": "stdout",
     "output_type": "stream",
     "text": [
      "\r",
      " [*********66%***        ] Elapsed 2.83s / Remaining 00:00:00:01"
     ]
    },
    {
     "name": "stdout",
     "output_type": "stream",
     "text": [
      "\r",
      " [*********66%***        ] Elapsed 2.83s / Remaining 00:00:00:01"
     ]
    },
    {
     "name": "stdout",
     "output_type": "stream",
     "text": [
      "\r",
      " [*********66%***        ] Elapsed 2.84s / Remaining 00:00:00:01"
     ]
    },
    {
     "name": "stdout",
     "output_type": "stream",
     "text": [
      "\r",
      " [*********67%***        ] Elapsed 2.85s / Remaining 00:00:00:01"
     ]
    },
    {
     "name": "stdout",
     "output_type": "stream",
     "text": [
      "\r"
     ]
    },
    {
     "name": "stdout",
     "output_type": "stream",
     "text": [
      " [*********67%***        ] Elapsed 2.85s / Remaining 00:00:00:01"
     ]
    },
    {
     "name": "stdout",
     "output_type": "stream",
     "text": [
      "\r",
      " [*********67%***        ] Elapsed 2.86s / Remaining 00:00:00:01"
     ]
    },
    {
     "name": "stdout",
     "output_type": "stream",
     "text": [
      "\r",
      " [*********67%***        ] Elapsed 2.87s / Remaining 00:00:00:01"
     ]
    },
    {
     "name": "stdout",
     "output_type": "stream",
     "text": [
      "\r",
      " [*********67%***        ] Elapsed 2.87s / Remaining 00:00:00:01"
     ]
    },
    {
     "name": "stdout",
     "output_type": "stream",
     "text": [
      "\r",
      " [*********67%***        ] Elapsed 2.88s / Remaining 00:00:00:01"
     ]
    },
    {
     "name": "stdout",
     "output_type": "stream",
     "text": [
      "\r",
      " [*********68%****       ] Elapsed 2.89s / Remaining 00:00:00:01"
     ]
    },
    {
     "name": "stdout",
     "output_type": "stream",
     "text": [
      "\r",
      " [*********68%****       ] Elapsed 2.89s / Remaining 00:00:00:01"
     ]
    },
    {
     "name": "stdout",
     "output_type": "stream",
     "text": [
      "\r",
      " [*********68%****       ] Elapsed 2.90s / Remaining 00:00:00:01"
     ]
    },
    {
     "name": "stdout",
     "output_type": "stream",
     "text": [
      "\r"
     ]
    },
    {
     "name": "stdout",
     "output_type": "stream",
     "text": [
      " [*********68%****       ] Elapsed 2.91s / Remaining 00:00:00:01"
     ]
    },
    {
     "name": "stdout",
     "output_type": "stream",
     "text": [
      "\r",
      " [*********68%****       ] Elapsed 2.91s / Remaining 00:00:00:01"
     ]
    },
    {
     "name": "stdout",
     "output_type": "stream",
     "text": [
      "\r",
      " [*********68%****       ] Elapsed 2.92s / Remaining 00:00:00:01"
     ]
    },
    {
     "name": "stdout",
     "output_type": "stream",
     "text": [
      "\r",
      " [*********69%****       ] Elapsed 2.93s / Remaining 00:00:00:01"
     ]
    },
    {
     "name": "stdout",
     "output_type": "stream",
     "text": [
      "\r",
      " [*********69%****       ] Elapsed 2.94s / Remaining 00:00:00:01"
     ]
    },
    {
     "name": "stdout",
     "output_type": "stream",
     "text": [
      "\r",
      " [*********69%****       ] Elapsed 2.95s / Remaining 00:00:00:01"
     ]
    },
    {
     "name": "stdout",
     "output_type": "stream",
     "text": [
      "\r",
      " [*********69%****       ] Elapsed 2.95s / Remaining 00:00:00:01"
     ]
    },
    {
     "name": "stdout",
     "output_type": "stream",
     "text": [
      "\r",
      " [*********69%****       ] Elapsed 2.96s / Remaining 00:00:00:01"
     ]
    },
    {
     "name": "stdout",
     "output_type": "stream",
     "text": [
      "\r",
      " [*********69%****       ] Elapsed 2.97s / Remaining 00:00:00:01"
     ]
    },
    {
     "name": "stdout",
     "output_type": "stream",
     "text": [
      "\r"
     ]
    },
    {
     "name": "stdout",
     "output_type": "stream",
     "text": [
      " [*********70%****       ] Elapsed 2.97s / Remaining 00:00:00:01"
     ]
    },
    {
     "name": "stdout",
     "output_type": "stream",
     "text": [
      "\r"
     ]
    },
    {
     "name": "stdout",
     "output_type": "stream",
     "text": [
      " [*********70%****       ] Elapsed 2.98s / Remaining 00:00:00:01"
     ]
    },
    {
     "name": "stdout",
     "output_type": "stream",
     "text": [
      "\r",
      " [*********70%****       ] Elapsed 2.99s / Remaining 00:00:00:01"
     ]
    },
    {
     "name": "stdout",
     "output_type": "stream",
     "text": [
      "\r"
     ]
    },
    {
     "name": "stdout",
     "output_type": "stream",
     "text": [
      " [*********70%****       ] Elapsed 2.99s / Remaining 00:00:00:01"
     ]
    },
    {
     "name": "stdout",
     "output_type": "stream",
     "text": [
      "\r",
      " [*********70%****       ] Elapsed 3.00s / Remaining 00:00:00:01"
     ]
    },
    {
     "name": "stdout",
     "output_type": "stream",
     "text": [
      "\r",
      " [*********70%****       ] Elapsed 3.01s / Remaining 00:00:00:01"
     ]
    },
    {
     "name": "stdout",
     "output_type": "stream",
     "text": [
      "\r",
      " [*********71%****       ] Elapsed 3.01s / Remaining 00:00:00:01"
     ]
    },
    {
     "name": "stdout",
     "output_type": "stream",
     "text": [
      "\r",
      " [*********71%****       ] Elapsed 3.02s / Remaining 00:00:00:01"
     ]
    },
    {
     "name": "stdout",
     "output_type": "stream",
     "text": [
      "\r",
      " [*********71%****       ] Elapsed 3.03s / Remaining 00:00:00:01"
     ]
    },
    {
     "name": "stdout",
     "output_type": "stream",
     "text": [
      "\r",
      " [*********71%****       ] Elapsed 3.03s / Remaining 00:00:00:01"
     ]
    },
    {
     "name": "stdout",
     "output_type": "stream",
     "text": [
      "\r"
     ]
    },
    {
     "name": "stdout",
     "output_type": "stream",
     "text": [
      " [*********71%****       ] Elapsed 3.04s / Remaining 00:00:00:01"
     ]
    },
    {
     "name": "stdout",
     "output_type": "stream",
     "text": [
      "\r",
      " [*********71%****       ] Elapsed 3.05s / Remaining 00:00:00:01"
     ]
    },
    {
     "name": "stdout",
     "output_type": "stream",
     "text": [
      "\r",
      " [*********72%*****      ] Elapsed 3.05s / Remaining 00:00:00:01"
     ]
    },
    {
     "name": "stdout",
     "output_type": "stream",
     "text": [
      "\r",
      " [*********72%*****      ] Elapsed 3.06s / Remaining 00:00:00:01"
     ]
    },
    {
     "name": "stdout",
     "output_type": "stream",
     "text": [
      "\r",
      " [*********72%*****      ] Elapsed 3.06s / Remaining 00:00:00:01"
     ]
    },
    {
     "name": "stdout",
     "output_type": "stream",
     "text": [
      "\r",
      " [*********72%*****      ] Elapsed 3.07s / Remaining 00:00:00:01"
     ]
    },
    {
     "name": "stdout",
     "output_type": "stream",
     "text": [
      "\r",
      " [*********72%*****      ] Elapsed 3.08s / Remaining 00:00:00:01"
     ]
    },
    {
     "name": "stdout",
     "output_type": "stream",
     "text": [
      "\r",
      " [*********72%*****      ] Elapsed 3.08s / Remaining 00:00:00:01"
     ]
    },
    {
     "name": "stdout",
     "output_type": "stream",
     "text": [
      "\r"
     ]
    },
    {
     "name": "stdout",
     "output_type": "stream",
     "text": [
      " [*********73%*****      ] Elapsed 3.09s / Remaining 00:00:00:01"
     ]
    },
    {
     "name": "stdout",
     "output_type": "stream",
     "text": [
      "\r",
      " [*********73%*****      ] Elapsed 3.10s / Remaining 00:00:00:01"
     ]
    },
    {
     "name": "stdout",
     "output_type": "stream",
     "text": [
      "\r",
      " [*********73%*****      ] Elapsed 3.10s / Remaining 00:00:00:01"
     ]
    },
    {
     "name": "stdout",
     "output_type": "stream",
     "text": [
      "\r",
      " [*********73%*****      ] Elapsed 3.11s / Remaining 00:00:00:01"
     ]
    },
    {
     "name": "stdout",
     "output_type": "stream",
     "text": [
      "\r",
      " [*********73%*****      ] Elapsed 3.12s / Remaining 00:00:00:01"
     ]
    },
    {
     "name": "stdout",
     "output_type": "stream",
     "text": [
      "\r",
      " [*********73%*****      ] Elapsed 3.12s / Remaining 00:00:00:01"
     ]
    },
    {
     "name": "stdout",
     "output_type": "stream",
     "text": [
      "\r",
      " [*********74%*****      ] Elapsed 3.14s / Remaining 00:00:00:01"
     ]
    },
    {
     "name": "stdout",
     "output_type": "stream",
     "text": [
      "\r",
      " [*********74%*****      ] Elapsed 3.14s / Remaining 00:00:00:01"
     ]
    },
    {
     "name": "stdout",
     "output_type": "stream",
     "text": [
      "\r",
      " [*********74%*****      ] Elapsed 3.15s / Remaining 00:00:00:01"
     ]
    },
    {
     "name": "stdout",
     "output_type": "stream",
     "text": [
      "\r",
      " [*********74%*****      ] Elapsed 3.16s / Remaining 00:00:00:01"
     ]
    },
    {
     "name": "stdout",
     "output_type": "stream",
     "text": [
      "\r",
      " [*********74%*****      ] Elapsed 3.16s / Remaining 00:00:00:01"
     ]
    },
    {
     "name": "stdout",
     "output_type": "stream",
     "text": [
      "\r",
      " [*********74%*****      ] Elapsed 3.17s / Remaining 00:00:00:01"
     ]
    },
    {
     "name": "stdout",
     "output_type": "stream",
     "text": [
      "\r",
      " [*********75%*****      ] Elapsed 3.18s / Remaining 00:00:00:01"
     ]
    },
    {
     "name": "stdout",
     "output_type": "stream",
     "text": [
      "\r"
     ]
    },
    {
     "name": "stdout",
     "output_type": "stream",
     "text": [
      " [*********75%*****      ] Elapsed 3.18s / Remaining 00:00:00:01"
     ]
    },
    {
     "name": "stdout",
     "output_type": "stream",
     "text": [
      "\r",
      " [*********75%*****      ] Elapsed 3.19s / Remaining 00:00:00:01"
     ]
    },
    {
     "name": "stdout",
     "output_type": "stream",
     "text": [
      "\r",
      " [*********75%*****      ] Elapsed 3.20s / Remaining 00:00:00:01"
     ]
    },
    {
     "name": "stdout",
     "output_type": "stream",
     "text": [
      "\r",
      " [*********75%*****      ] Elapsed 3.20s / Remaining 00:00:00:01"
     ]
    },
    {
     "name": "stdout",
     "output_type": "stream",
     "text": [
      "\r",
      " [*********75%*****      ] Elapsed 3.21s / Remaining 00:00:00:01"
     ]
    },
    {
     "name": "stdout",
     "output_type": "stream",
     "text": [
      "\r",
      " [*********76%*****      ] Elapsed 3.22s / Remaining 00:00:00:01"
     ]
    },
    {
     "name": "stdout",
     "output_type": "stream",
     "text": [
      "\r"
     ]
    },
    {
     "name": "stdout",
     "output_type": "stream",
     "text": [
      " [*********76%*****      ] Elapsed 3.22s / Remaining 00:00:00:01"
     ]
    },
    {
     "name": "stdout",
     "output_type": "stream",
     "text": [
      "\r",
      " [*********76%*****      ] Elapsed 3.23s / Remaining 00:00:00:01"
     ]
    },
    {
     "name": "stdout",
     "output_type": "stream",
     "text": [
      "\r"
     ]
    },
    {
     "name": "stdout",
     "output_type": "stream",
     "text": [
      " [*********76%*****      ] Elapsed 3.24s / Remaining 00:00:00:01"
     ]
    },
    {
     "name": "stdout",
     "output_type": "stream",
     "text": [
      "\r"
     ]
    },
    {
     "name": "stdout",
     "output_type": "stream",
     "text": [
      " [*********76%*****      ] Elapsed 3.24s / Remaining 00:00:00:01"
     ]
    },
    {
     "name": "stdout",
     "output_type": "stream",
     "text": [
      "\r",
      " [*********76%*****      ] Elapsed 3.25s / Remaining 00:00:00:01"
     ]
    },
    {
     "name": "stdout",
     "output_type": "stream",
     "text": [
      "\r",
      " [*********77%******     ] Elapsed 3.26s / Remaining 00:00:00:00"
     ]
    },
    {
     "name": "stdout",
     "output_type": "stream",
     "text": [
      "\r",
      " [*********77%******     ] Elapsed 3.26s / Remaining 00:00:00:00"
     ]
    },
    {
     "name": "stdout",
     "output_type": "stream",
     "text": [
      "\r",
      " [*********77%******     ] Elapsed 3.27s / Remaining 00:00:00:00"
     ]
    },
    {
     "name": "stdout",
     "output_type": "stream",
     "text": [
      "\r",
      " [*********77%******     ] Elapsed 3.28s / Remaining 00:00:00:00"
     ]
    },
    {
     "name": "stdout",
     "output_type": "stream",
     "text": [
      "\r",
      " [*********77%******     ] Elapsed 3.28s / Remaining 00:00:00:00"
     ]
    },
    {
     "name": "stdout",
     "output_type": "stream",
     "text": [
      "\r",
      " [*********77%******     ] Elapsed 3.29s / Remaining 00:00:00:00"
     ]
    },
    {
     "name": "stdout",
     "output_type": "stream",
     "text": [
      "\r",
      " [*********78%******     ] Elapsed 3.30s / Remaining 00:00:00:00"
     ]
    },
    {
     "name": "stdout",
     "output_type": "stream",
     "text": [
      "\r",
      " [*********78%******     ] Elapsed 3.30s / Remaining 00:00:00:00"
     ]
    },
    {
     "name": "stdout",
     "output_type": "stream",
     "text": [
      "\r"
     ]
    },
    {
     "name": "stdout",
     "output_type": "stream",
     "text": [
      " [*********78%******     ] Elapsed 3.31s / Remaining 00:00:00:00"
     ]
    },
    {
     "name": "stdout",
     "output_type": "stream",
     "text": [
      "\r",
      " [*********78%******     ] Elapsed 3.32s / Remaining 00:00:00:00"
     ]
    },
    {
     "name": "stdout",
     "output_type": "stream",
     "text": [
      "\r",
      " [*********78%******     ] Elapsed 3.32s / Remaining 00:00:00:00"
     ]
    },
    {
     "name": "stdout",
     "output_type": "stream",
     "text": [
      "\r",
      " [*********78%******     ] Elapsed 3.33s / Remaining 00:00:00:00"
     ]
    },
    {
     "name": "stdout",
     "output_type": "stream",
     "text": [
      "\r",
      " [*********79%******     ] Elapsed 3.34s / Remaining 00:00:00:00"
     ]
    },
    {
     "name": "stdout",
     "output_type": "stream",
     "text": [
      "\r",
      " [*********79%******     ] Elapsed 3.35s / Remaining 00:00:00:00"
     ]
    },
    {
     "name": "stdout",
     "output_type": "stream",
     "text": [
      "\r",
      " [*********79%******     ] Elapsed 3.36s / Remaining 00:00:00:00"
     ]
    },
    {
     "name": "stdout",
     "output_type": "stream",
     "text": [
      "\r",
      " [*********79%******     ] Elapsed 3.36s / Remaining 00:00:00:00"
     ]
    },
    {
     "name": "stdout",
     "output_type": "stream",
     "text": [
      "\r",
      " [*********79%******     ] Elapsed 3.37s / Remaining 00:00:00:00"
     ]
    },
    {
     "name": "stdout",
     "output_type": "stream",
     "text": [
      "\r",
      " [*********79%******     ] Elapsed 3.38s / Remaining 00:00:00:00"
     ]
    },
    {
     "name": "stdout",
     "output_type": "stream",
     "text": [
      "\r",
      " [*********80%******     ] Elapsed 3.38s / Remaining 00:00:00:00"
     ]
    },
    {
     "name": "stdout",
     "output_type": "stream",
     "text": [
      "\r"
     ]
    },
    {
     "name": "stdout",
     "output_type": "stream",
     "text": [
      " [*********80%******     ] Elapsed 3.39s / Remaining 00:00:00:00"
     ]
    },
    {
     "name": "stdout",
     "output_type": "stream",
     "text": [
      "\r"
     ]
    },
    {
     "name": "stdout",
     "output_type": "stream",
     "text": [
      " [*********80%******     ] Elapsed 3.40s / Remaining 00:00:00:00"
     ]
    },
    {
     "name": "stdout",
     "output_type": "stream",
     "text": [
      "\r",
      " [*********80%******     ] Elapsed 3.40s / Remaining 00:00:00:00"
     ]
    },
    {
     "name": "stdout",
     "output_type": "stream",
     "text": [
      "\r",
      " [*********80%******     ] Elapsed 3.41s / Remaining 00:00:00:00"
     ]
    },
    {
     "name": "stdout",
     "output_type": "stream",
     "text": [
      "\r"
     ]
    },
    {
     "name": "stdout",
     "output_type": "stream",
     "text": [
      " [*********80%******     ] Elapsed 3.42s / Remaining 00:00:00:00"
     ]
    },
    {
     "name": "stdout",
     "output_type": "stream",
     "text": [
      "\r"
     ]
    },
    {
     "name": "stdout",
     "output_type": "stream",
     "text": [
      " [*********81%*******    ] Elapsed 3.42s / Remaining 00:00:00:00"
     ]
    },
    {
     "name": "stdout",
     "output_type": "stream",
     "text": [
      "\r",
      " [*********81%*******    ] Elapsed 3.43s / Remaining 00:00:00:00"
     ]
    },
    {
     "name": "stdout",
     "output_type": "stream",
     "text": [
      "\r"
     ]
    },
    {
     "name": "stdout",
     "output_type": "stream",
     "text": [
      " [*********81%*******    ] Elapsed 3.44s / Remaining 00:00:00:00"
     ]
    },
    {
     "name": "stdout",
     "output_type": "stream",
     "text": [
      "\r",
      " [*********81%*******    ] Elapsed 3.44s / Remaining 00:00:00:00"
     ]
    },
    {
     "name": "stdout",
     "output_type": "stream",
     "text": [
      "\r",
      " [*********81%*******    ] Elapsed 3.45s / Remaining 00:00:00:00"
     ]
    },
    {
     "name": "stdout",
     "output_type": "stream",
     "text": [
      "\r",
      " [*********81%*******    ] Elapsed 3.46s / Remaining 00:00:00:00"
     ]
    },
    {
     "name": "stdout",
     "output_type": "stream",
     "text": [
      "\r",
      " [*********82%*******    ] Elapsed 3.46s / Remaining 00:00:00:00"
     ]
    },
    {
     "name": "stdout",
     "output_type": "stream",
     "text": [
      "\r",
      " [*********82%*******    ] Elapsed 3.47s / Remaining 00:00:00:00"
     ]
    },
    {
     "name": "stdout",
     "output_type": "stream",
     "text": [
      "\r",
      " [*********82%*******    ] Elapsed 3.48s / Remaining 00:00:00:00"
     ]
    },
    {
     "name": "stdout",
     "output_type": "stream",
     "text": [
      "\r",
      " [*********82%*******    ] Elapsed 3.48s / Remaining 00:00:00:00"
     ]
    },
    {
     "name": "stdout",
     "output_type": "stream",
     "text": [
      "\r",
      " [*********82%*******    ] Elapsed 3.49s / Remaining 00:00:00:00"
     ]
    },
    {
     "name": "stdout",
     "output_type": "stream",
     "text": [
      "\r"
     ]
    },
    {
     "name": "stdout",
     "output_type": "stream",
     "text": [
      " [*********82%*******    ] Elapsed 3.49s / Remaining 00:00:00:00"
     ]
    },
    {
     "name": "stdout",
     "output_type": "stream",
     "text": [
      "\r",
      " [*********83%*******    ] Elapsed 3.50s / Remaining 00:00:00:00"
     ]
    },
    {
     "name": "stdout",
     "output_type": "stream",
     "text": [
      "\r",
      " [*********83%*******    ] Elapsed 3.51s / Remaining 00:00:00:00"
     ]
    },
    {
     "name": "stdout",
     "output_type": "stream",
     "text": [
      "\r",
      " [*********83%*******    ] Elapsed 3.51s / Remaining 00:00:00:00"
     ]
    },
    {
     "name": "stdout",
     "output_type": "stream",
     "text": [
      "\r",
      " [*********83%*******    ] Elapsed 3.52s / Remaining 00:00:00:00"
     ]
    },
    {
     "name": "stdout",
     "output_type": "stream",
     "text": [
      "\r",
      " [*********83%*******    ] Elapsed 3.53s / Remaining 00:00:00:00"
     ]
    },
    {
     "name": "stdout",
     "output_type": "stream",
     "text": [
      "\r",
      " [*********83%*******    ] Elapsed 3.54s / Remaining 00:00:00:00"
     ]
    },
    {
     "name": "stdout",
     "output_type": "stream",
     "text": [
      "\r",
      " [*********84%*******    ] Elapsed 3.55s / Remaining 00:00:00:00"
     ]
    },
    {
     "name": "stdout",
     "output_type": "stream",
     "text": [
      "\r",
      " [*********84%*******    ] Elapsed 3.56s / Remaining 00:00:00:00"
     ]
    },
    {
     "name": "stdout",
     "output_type": "stream",
     "text": [
      "\r",
      " [*********84%*******    ] Elapsed 3.56s / Remaining 00:00:00:00"
     ]
    },
    {
     "name": "stdout",
     "output_type": "stream",
     "text": [
      "\r",
      " [*********84%*******    ] Elapsed 3.57s / Remaining 00:00:00:00"
     ]
    },
    {
     "name": "stdout",
     "output_type": "stream",
     "text": [
      "\r",
      " [*********84%*******    ] Elapsed 3.57s / Remaining 00:00:00:00"
     ]
    },
    {
     "name": "stdout",
     "output_type": "stream",
     "text": [
      "\r",
      " [*********84%*******    ] Elapsed 3.58s / Remaining 00:00:00:00"
     ]
    },
    {
     "name": "stdout",
     "output_type": "stream",
     "text": [
      "\r",
      " [*********85%********   ] Elapsed 3.59s / Remaining 00:00:00:00"
     ]
    },
    {
     "name": "stdout",
     "output_type": "stream",
     "text": [
      "\r",
      " [*********85%********   ] Elapsed 3.59s / Remaining 00:00:00:00"
     ]
    },
    {
     "name": "stdout",
     "output_type": "stream",
     "text": [
      "\r",
      " [*********85%********   ] Elapsed 3.60s / Remaining 00:00:00:00"
     ]
    },
    {
     "name": "stdout",
     "output_type": "stream",
     "text": [
      "\r",
      " [*********85%********   ] Elapsed 3.61s / Remaining 00:00:00:00"
     ]
    },
    {
     "name": "stdout",
     "output_type": "stream",
     "text": [
      "\r",
      " [*********85%********   ] Elapsed 3.61s / Remaining 00:00:00:00"
     ]
    },
    {
     "name": "stdout",
     "output_type": "stream",
     "text": [
      "\r",
      " [*********85%********   ] Elapsed 3.62s / Remaining 00:00:00:00"
     ]
    },
    {
     "name": "stdout",
     "output_type": "stream",
     "text": [
      "\r",
      " [*********86%********   ] Elapsed 3.63s / Remaining 00:00:00:00"
     ]
    },
    {
     "name": "stdout",
     "output_type": "stream",
     "text": [
      "\r",
      " [*********86%********   ] Elapsed 3.63s / Remaining 00:00:00:00"
     ]
    },
    {
     "name": "stdout",
     "output_type": "stream",
     "text": [
      "\r",
      " [*********86%********   ] Elapsed 3.64s / Remaining 00:00:00:00"
     ]
    },
    {
     "name": "stdout",
     "output_type": "stream",
     "text": [
      "\r"
     ]
    },
    {
     "name": "stdout",
     "output_type": "stream",
     "text": [
      " [*********86%********   ] Elapsed 3.65s / Remaining 00:00:00:00"
     ]
    },
    {
     "name": "stdout",
     "output_type": "stream",
     "text": [
      "\r",
      " [*********86%********   ] Elapsed 3.65s / Remaining 00:00:00:00"
     ]
    },
    {
     "name": "stdout",
     "output_type": "stream",
     "text": [
      "\r",
      " [*********86%********   ] Elapsed 3.66s / Remaining 00:00:00:00"
     ]
    },
    {
     "name": "stdout",
     "output_type": "stream",
     "text": [
      "\r",
      " [*********87%********   ] Elapsed 3.67s / Remaining 00:00:00:00"
     ]
    },
    {
     "name": "stdout",
     "output_type": "stream",
     "text": [
      "\r"
     ]
    },
    {
     "name": "stdout",
     "output_type": "stream",
     "text": [
      " [*********87%********   ] Elapsed 3.67s / Remaining 00:00:00:00"
     ]
    },
    {
     "name": "stdout",
     "output_type": "stream",
     "text": [
      "\r",
      " [*********87%********   ] Elapsed 3.68s / Remaining 00:00:00:00"
     ]
    },
    {
     "name": "stdout",
     "output_type": "stream",
     "text": [
      "\r",
      " [*********87%********   ] Elapsed 3.69s / Remaining 00:00:00:00"
     ]
    },
    {
     "name": "stdout",
     "output_type": "stream",
     "text": [
      "\r",
      " [*********87%********   ] Elapsed 3.69s / Remaining 00:00:00:00"
     ]
    },
    {
     "name": "stdout",
     "output_type": "stream",
     "text": [
      "\r",
      " [*********87%********   ] Elapsed 3.70s / Remaining 00:00:00:00"
     ]
    },
    {
     "name": "stdout",
     "output_type": "stream",
     "text": [
      "\r",
      " [*********88%********   ] Elapsed 3.71s / Remaining 00:00:00:00"
     ]
    },
    {
     "name": "stdout",
     "output_type": "stream",
     "text": [
      "\r",
      " [*********88%********   ] Elapsed 3.71s / Remaining 00:00:00:00"
     ]
    },
    {
     "name": "stdout",
     "output_type": "stream",
     "text": [
      "\r",
      " [*********88%********   ] Elapsed 3.72s / Remaining 00:00:00:00"
     ]
    },
    {
     "name": "stdout",
     "output_type": "stream",
     "text": [
      "\r",
      " [*********88%********   ] Elapsed 3.72s / Remaining 00:00:00:00"
     ]
    },
    {
     "name": "stdout",
     "output_type": "stream",
     "text": [
      "\r",
      " [*********88%********   ] Elapsed 3.74s / Remaining 00:00:00:00"
     ]
    },
    {
     "name": "stdout",
     "output_type": "stream",
     "text": [
      "\r",
      " [*********88%********   ] Elapsed 3.75s / Remaining 00:00:00:00"
     ]
    },
    {
     "name": "stdout",
     "output_type": "stream",
     "text": [
      "\r",
      " [*********89%********   ] Elapsed 3.75s / Remaining 00:00:00:00"
     ]
    },
    {
     "name": "stdout",
     "output_type": "stream",
     "text": [
      "\r",
      " [*********89%********   ] Elapsed 3.76s / Remaining 00:00:00:00"
     ]
    },
    {
     "name": "stdout",
     "output_type": "stream",
     "text": [
      "\r",
      " [*********89%********   ] Elapsed 3.77s / Remaining 00:00:00:00"
     ]
    },
    {
     "name": "stdout",
     "output_type": "stream",
     "text": [
      "\r",
      " [*********89%********   ] Elapsed 3.77s / Remaining 00:00:00:00"
     ]
    },
    {
     "name": "stdout",
     "output_type": "stream",
     "text": [
      "\r",
      " [*********89%********   ] Elapsed 3.78s / Remaining 00:00:00:00"
     ]
    },
    {
     "name": "stdout",
     "output_type": "stream",
     "text": [
      "\r",
      " [*********89%********   ] Elapsed 3.78s / Remaining 00:00:00:00"
     ]
    },
    {
     "name": "stdout",
     "output_type": "stream",
     "text": [
      "\r",
      " [*********90%*********  ] Elapsed 3.79s / Remaining 00:00:00:00"
     ]
    },
    {
     "name": "stdout",
     "output_type": "stream",
     "text": [
      "\r",
      " [*********90%*********  ] Elapsed 3.80s / Remaining 00:00:00:00"
     ]
    },
    {
     "name": "stdout",
     "output_type": "stream",
     "text": [
      "\r",
      " [*********90%*********  ] Elapsed 3.80s / Remaining 00:00:00:00"
     ]
    },
    {
     "name": "stdout",
     "output_type": "stream",
     "text": [
      "\r",
      " [*********90%*********  ] Elapsed 3.81s / Remaining 00:00:00:00"
     ]
    },
    {
     "name": "stdout",
     "output_type": "stream",
     "text": [
      "\r"
     ]
    },
    {
     "name": "stdout",
     "output_type": "stream",
     "text": [
      " [*********90%*********  ] Elapsed 3.82s / Remaining 00:00:00:00"
     ]
    },
    {
     "name": "stdout",
     "output_type": "stream",
     "text": [
      "\r",
      " [*********90%*********  ] Elapsed 3.82s / Remaining 00:00:00:00"
     ]
    },
    {
     "name": "stdout",
     "output_type": "stream",
     "text": [
      "\r",
      " [*********91%*********  ] Elapsed 3.83s / Remaining 00:00:00:00"
     ]
    },
    {
     "name": "stdout",
     "output_type": "stream",
     "text": [
      "\r",
      " [*********91%*********  ] Elapsed 3.84s / Remaining 00:00:00:00"
     ]
    },
    {
     "name": "stdout",
     "output_type": "stream",
     "text": [
      "\r",
      " [*********91%*********  ] Elapsed 3.84s / Remaining 00:00:00:00"
     ]
    },
    {
     "name": "stdout",
     "output_type": "stream",
     "text": [
      "\r",
      " [*********91%*********  ] Elapsed 3.85s / Remaining 00:00:00:00"
     ]
    },
    {
     "name": "stdout",
     "output_type": "stream",
     "text": [
      "\r",
      " [*********91%*********  ] Elapsed 3.86s / Remaining 00:00:00:00"
     ]
    },
    {
     "name": "stdout",
     "output_type": "stream",
     "text": [
      "\r",
      " [*********91%*********  ] Elapsed 3.86s / Remaining 00:00:00:00"
     ]
    },
    {
     "name": "stdout",
     "output_type": "stream",
     "text": [
      "\r",
      " [*********92%*********  ] Elapsed 3.87s / Remaining 00:00:00:00"
     ]
    },
    {
     "name": "stdout",
     "output_type": "stream",
     "text": [
      "\r",
      " [*********92%*********  ] Elapsed 3.88s / Remaining 00:00:00:00"
     ]
    },
    {
     "name": "stdout",
     "output_type": "stream",
     "text": [
      "\r",
      " [*********92%*********  ] Elapsed 3.88s / Remaining 00:00:00:00"
     ]
    },
    {
     "name": "stdout",
     "output_type": "stream",
     "text": [
      "\r",
      " [*********92%*********  ] Elapsed 3.89s / Remaining 00:00:00:00"
     ]
    },
    {
     "name": "stdout",
     "output_type": "stream",
     "text": [
      "\r"
     ]
    },
    {
     "name": "stdout",
     "output_type": "stream",
     "text": [
      " [*********92%*********  ] Elapsed 3.89s / Remaining 00:00:00:00"
     ]
    },
    {
     "name": "stdout",
     "output_type": "stream",
     "text": [
      "\r",
      " [*********92%*********  ] Elapsed 3.90s / Remaining 00:00:00:00"
     ]
    },
    {
     "name": "stdout",
     "output_type": "stream",
     "text": [
      "\r",
      " [*********93%*********  ] Elapsed 3.91s / Remaining 00:00:00:00"
     ]
    },
    {
     "name": "stdout",
     "output_type": "stream",
     "text": [
      "\r",
      " [*********93%*********  ] Elapsed 3.91s / Remaining 00:00:00:00"
     ]
    },
    {
     "name": "stdout",
     "output_type": "stream",
     "text": [
      "\r",
      " [*********93%*********  ] Elapsed 3.92s / Remaining 00:00:00:00"
     ]
    },
    {
     "name": "stdout",
     "output_type": "stream",
     "text": [
      "\r",
      " [*********93%*********  ] Elapsed 3.93s / Remaining 00:00:00:00"
     ]
    },
    {
     "name": "stdout",
     "output_type": "stream",
     "text": [
      "\r",
      " [*********93%*********  ] Elapsed 3.94s / Remaining 00:00:00:00"
     ]
    },
    {
     "name": "stdout",
     "output_type": "stream",
     "text": [
      "\r",
      " [*********93%*********  ] Elapsed 3.95s / Remaining 00:00:00:00"
     ]
    },
    {
     "name": "stdout",
     "output_type": "stream",
     "text": [
      "\r",
      " [*********94%********** ] Elapsed 3.96s / Remaining 00:00:00:00"
     ]
    },
    {
     "name": "stdout",
     "output_type": "stream",
     "text": [
      "\r",
      " [*********94%********** ] Elapsed 3.96s / Remaining 00:00:00:00"
     ]
    },
    {
     "name": "stdout",
     "output_type": "stream",
     "text": [
      "\r",
      " [*********94%********** ] Elapsed 3.97s / Remaining 00:00:00:00"
     ]
    },
    {
     "name": "stdout",
     "output_type": "stream",
     "text": [
      "\r"
     ]
    },
    {
     "name": "stdout",
     "output_type": "stream",
     "text": [
      " [*********94%********** ] Elapsed 3.98s / Remaining 00:00:00:00"
     ]
    },
    {
     "name": "stdout",
     "output_type": "stream",
     "text": [
      "\r"
     ]
    },
    {
     "name": "stdout",
     "output_type": "stream",
     "text": [
      " [*********94%********** ] Elapsed 3.98s / Remaining 00:00:00:00"
     ]
    },
    {
     "name": "stdout",
     "output_type": "stream",
     "text": [
      "\r",
      " [*********94%********** ] Elapsed 3.99s / Remaining 00:00:00:00"
     ]
    },
    {
     "name": "stdout",
     "output_type": "stream",
     "text": [
      "\r",
      " [*********95%********** ] Elapsed 4.00s / Remaining 00:00:00:00"
     ]
    },
    {
     "name": "stdout",
     "output_type": "stream",
     "text": [
      "\r",
      " [*********95%********** ] Elapsed 4.00s / Remaining 00:00:00:00"
     ]
    },
    {
     "name": "stdout",
     "output_type": "stream",
     "text": [
      "\r",
      " [*********95%********** ] Elapsed 4.01s / Remaining 00:00:00:00"
     ]
    },
    {
     "name": "stdout",
     "output_type": "stream",
     "text": [
      "\r",
      " [*********95%********** ] Elapsed 4.02s / Remaining 00:00:00:00"
     ]
    },
    {
     "name": "stdout",
     "output_type": "stream",
     "text": [
      "\r",
      " [*********95%********** ] Elapsed 4.02s / Remaining 00:00:00:00"
     ]
    },
    {
     "name": "stdout",
     "output_type": "stream",
     "text": [
      "\r",
      " [*********95%********** ] Elapsed 4.03s / Remaining 00:00:00:00"
     ]
    },
    {
     "name": "stdout",
     "output_type": "stream",
     "text": [
      "\r",
      " [*********96%********** ] Elapsed 4.04s / Remaining 00:00:00:00"
     ]
    },
    {
     "name": "stdout",
     "output_type": "stream",
     "text": [
      "\r",
      " [*********96%********** ] Elapsed 4.04s / Remaining 00:00:00:00"
     ]
    },
    {
     "name": "stdout",
     "output_type": "stream",
     "text": [
      "\r"
     ]
    },
    {
     "name": "stdout",
     "output_type": "stream",
     "text": [
      " [*********96%********** ] Elapsed 4.05s / Remaining 00:00:00:00"
     ]
    },
    {
     "name": "stdout",
     "output_type": "stream",
     "text": [
      "\r",
      " [*********96%********** ] Elapsed 4.06s / Remaining 00:00:00:00"
     ]
    },
    {
     "name": "stdout",
     "output_type": "stream",
     "text": [
      "\r",
      " [*********96%********** ] Elapsed 4.07s / Remaining 00:00:00:00"
     ]
    },
    {
     "name": "stdout",
     "output_type": "stream",
     "text": [
      "\r",
      " [*********96%********** ] Elapsed 4.07s / Remaining 00:00:00:00"
     ]
    },
    {
     "name": "stdout",
     "output_type": "stream",
     "text": [
      "\r"
     ]
    },
    {
     "name": "stdout",
     "output_type": "stream",
     "text": [
      " [*********97%********** ] Elapsed 4.08s / Remaining 00:00:00:00"
     ]
    },
    {
     "name": "stdout",
     "output_type": "stream",
     "text": [
      "\r",
      " [*********97%********** ] Elapsed 4.09s / Remaining 00:00:00:00"
     ]
    },
    {
     "name": "stdout",
     "output_type": "stream",
     "text": [
      "\r"
     ]
    },
    {
     "name": "stdout",
     "output_type": "stream",
     "text": [
      " [*********97%********** ] Elapsed 4.10s / Remaining 00:00:00:00"
     ]
    },
    {
     "name": "stdout",
     "output_type": "stream",
     "text": [
      "\r"
     ]
    },
    {
     "name": "stdout",
     "output_type": "stream",
     "text": [
      " [*********97%********** ] Elapsed 4.10s / Remaining 00:00:00:00"
     ]
    },
    {
     "name": "stdout",
     "output_type": "stream",
     "text": [
      "\r",
      " [*********97%********** ] Elapsed 4.11s / Remaining 00:00:00:00"
     ]
    },
    {
     "name": "stdout",
     "output_type": "stream",
     "text": [
      "\r",
      " [*********97%********** ] Elapsed 4.12s / Remaining 00:00:00:00"
     ]
    },
    {
     "name": "stdout",
     "output_type": "stream",
     "text": [
      "\r",
      " [*********98%***********] Elapsed 4.12s / Remaining 00:00:00:00"
     ]
    },
    {
     "name": "stdout",
     "output_type": "stream",
     "text": [
      "\r"
     ]
    },
    {
     "name": "stdout",
     "output_type": "stream",
     "text": [
      " [*********98%***********] Elapsed 4.13s / Remaining 00:00:00:00"
     ]
    },
    {
     "name": "stdout",
     "output_type": "stream",
     "text": [
      "\r",
      " [*********98%***********] Elapsed 4.14s / Remaining 00:00:00:00"
     ]
    },
    {
     "name": "stdout",
     "output_type": "stream",
     "text": [
      "\r"
     ]
    },
    {
     "name": "stdout",
     "output_type": "stream",
     "text": [
      " [*********98%***********] Elapsed 4.15s / Remaining 00:00:00:00"
     ]
    },
    {
     "name": "stdout",
     "output_type": "stream",
     "text": [
      "\r",
      " [*********98%***********] Elapsed 4.16s / Remaining 00:00:00:00"
     ]
    },
    {
     "name": "stdout",
     "output_type": "stream",
     "text": [
      "\r"
     ]
    },
    {
     "name": "stdout",
     "output_type": "stream",
     "text": [
      " [*********98%***********] Elapsed 4.17s / Remaining 00:00:00:00"
     ]
    },
    {
     "name": "stdout",
     "output_type": "stream",
     "text": [
      "\r",
      " [*********99%***********] Elapsed 4.18s / Remaining 00:00:00:00"
     ]
    },
    {
     "name": "stdout",
     "output_type": "stream",
     "text": [
      "\r",
      " [*********99%***********] Elapsed 4.19s / Remaining 00:00:00:00"
     ]
    },
    {
     "name": "stdout",
     "output_type": "stream",
     "text": [
      "\r",
      " [*********99%***********] Elapsed 4.19s / Remaining 00:00:00:00"
     ]
    },
    {
     "name": "stdout",
     "output_type": "stream",
     "text": [
      "\r",
      " [*********99%***********] Elapsed 4.20s / Remaining 00:00:00:00"
     ]
    },
    {
     "name": "stdout",
     "output_type": "stream",
     "text": [
      "\r",
      " [*********99%***********] Elapsed 4.21s / Remaining 00:00:00:00"
     ]
    },
    {
     "name": "stdout",
     "output_type": "stream",
     "text": [
      "\r",
      " [*********99%***********] Elapsed 4.22s / Remaining 00:00:00:00"
     ]
    },
    {
     "name": "stdout",
     "output_type": "stream",
     "text": [
      "\r",
      " [********100%***********] Elapsed 4.22s / Remaining 00:00:00:00"
     ]
    },
    {
     "name": "stdout",
     "output_type": "stream",
     "text": [
      "\r",
      " [********100%***********] Elapsed 4.23s / Remaining 00:00:00:00"
     ]
    },
    {
     "name": "stdout",
     "output_type": "stream",
     "text": [
      "\r",
      " [********100%***********] Elapsed 4.24s / Remaining 00:00:00:00"
     ]
    },
    {
     "name": "stdout",
     "output_type": "stream",
     "text": [
      "\r",
      " Total run time:   4.24s\n",
      "ODE solver time: 4.243417024612427\n"
     ]
    }
   ],
   "source": [
    "DL = (\n",
    "    \"2 * pi * 2.0 * {lam} / (pi * {gamma} * {beta}) if (w==0) \"\n",
    "    \"else 2 * pi * (2.0 * {lam} * {gamma} * w / (pi * (w**2 + {gamma}**2))) \"\n",
    "    \"* ((1 / (exp(w * {beta}) - 1)) + 1)\"\n",
    ").format(gamma=gamma, beta=beta, lam=lam)\n",
    "\n",
    "with timer(\"ODE solver time\"):\n",
    "    resultBR = brmesolve(\n",
    "        Hsys, rho0, tlist,\n",
    "        a_ops=[[sigmaz(), DL]], sec_cutoff=0, options=options,\n",
    "    )"
   ]
  },
  {
   "cell_type": "markdown",
   "id": "18ca97c9",
   "metadata": {},
   "source": [
    "## Let's plot all our results\n",
    "\n",
    "Finally, let's plot all of our different results to see how they shape up against each other."
   ]
  },
  {
   "cell_type": "code",
   "execution_count": 22,
   "id": "9ee08d2a",
   "metadata": {
    "execution": {
     "iopub.execute_input": "2023-03-15T08:41:15.642546Z",
     "iopub.status.busy": "2023-03-15T08:41:15.642265Z",
     "iopub.status.idle": "2023-03-15T08:41:15.656523Z",
     "shell.execute_reply": "2023-03-15T08:41:15.655848Z"
    }
   },
   "outputs": [],
   "source": [
    "# Calculate expectation values in the bases:\n",
    "P11_mats = np.real(expect(resultMats.states, P11p))\n",
    "P11_matsT = np.real(expect(resultMatsT.states, P11p))\n",
    "P11_pade = np.real(expect(resultPade.states, P11p))\n",
    "P11_fit = np.real(expect(resultFit.states, P11p))\n",
    "P11_br = np.real(expect(resultBR.states, P11p))"
   ]
  },
  {
   "cell_type": "code",
   "execution_count": 23,
   "id": "c1610d07",
   "metadata": {
    "execution": {
     "iopub.execute_input": "2023-03-15T08:41:15.659612Z",
     "iopub.status.busy": "2023-03-15T08:41:15.659210Z",
     "iopub.status.idle": "2023-03-15T08:41:15.664345Z",
     "shell.execute_reply": "2023-03-15T08:41:15.663712Z"
    }
   },
   "outputs": [],
   "source": [
    "rcParams = {\n",
    "    \"axes.titlesize\": 25,\n",
    "    \"axes.labelsize\": 30,\n",
    "    \"xtick.labelsize\": 28,\n",
    "    \"ytick.labelsize\": 28,\n",
    "    \"legend.fontsize\": 28,\n",
    "    \"axes.grid\": False,\n",
    "    \"savefig.bbox\": \"tight\",\n",
    "    \"lines.markersize\": 5,\n",
    "    \"font.family\": \"STIXgeneral\",\n",
    "    \"mathtext.fontset\": \"stix\",\n",
    "    \"font.serif\": \"STIX\",\n",
    "    \"text.usetex\": False,\n",
    "}"
   ]
  },
  {
   "cell_type": "code",
   "execution_count": 24,
   "id": "2c7bd051",
   "metadata": {
    "execution": {
     "iopub.execute_input": "2023-03-15T08:41:15.667312Z",
     "iopub.status.busy": "2023-03-15T08:41:15.666957Z",
     "iopub.status.idle": "2023-03-15T08:41:15.886290Z",
     "shell.execute_reply": "2023-03-15T08:41:15.884599Z"
    }
   },
   "outputs": [
    {
     "data": {
      "image/png": "[encoded data removed]",
      "text/plain": [
       "<Figure size 1200x700 with 1 Axes>"
      ]
     },
     "metadata": {},
     "output_type": "display_data"
    }
   ],
   "source": [
    "fig, axes = plt.subplots(1, 1, sharex=True, figsize=(12, 7))\n",
    "\n",
    "with plt.rc_context(rcParams):\n",
    "    # Plot the results\n",
    "    plt.yticks([0.99, 1.0], [0.99, 1])\n",
    "    axes.plot(\n",
    "        tlist, np.real(P11_mats),\n",
    "        'b', linewidth=2, label=f\"Matsubara $N_k={Nk}$\",\n",
    "    )\n",
    "    axes.plot(\n",
    "        tlist, np.real(P11_matsT),\n",
    "        'g--', linewidth=3,\n",
    "        label=f\"Matsubara $N_k={Nk}$ & terminator\",\n",
    "    )\n",
    "    axes.plot(\n",
    "        tlist, np.real(P11_pade),\n",
    "        'y-.', linewidth=2, label=f\"Padé $N_k={Nk}$\",\n",
    "    )\n",
    "    axes.plot(\n",
    "        tlist, np.real(P11_fit),\n",
    "        'r', dashes=[3, 2], linewidth=2,\n",
    "        label=r\"Fit $N_f = 3$, $N_k=15 \\times 10^3$\",\n",
    "    )\n",
    "    axes.plot(\n",
    "        tlist, np.real(P11_br),\n",
    "        'b-.', linewidth=1, label=\"Bloch Redfield\",\n",
    "    )\n",
    "\n",
    "    axes.locator_params(axis='y', nbins=6)\n",
    "    axes.locator_params(axis='x', nbins=6)\n",
    "    axes.set_ylabel(r'$\\rho_{11}$', fontsize=30)\n",
    "    axes.set_xlabel(r'$t\\;\\gamma$', fontsize=30)\n",
    "    axes.set_xlim(tlist[0], tlist[-1])\n",
    "    axes.set_ylim(0.98405, 1.0005)\n",
    "    axes.legend(loc=0)"
   ]
  },
  {
   "cell_type": "markdown",
   "id": "d1fd58b6",
   "metadata": {},
   "source": [
    "## About"
   ]
  },
  {
   "cell_type": "code",
   "execution_count": 25,
   "id": "28c90955",
   "metadata": {
    "execution": {
     "iopub.execute_input": "2023-03-15T08:41:15.889621Z",
     "iopub.status.busy": "2023-03-15T08:41:15.889065Z",
     "iopub.status.idle": "2023-03-15T08:41:15.893024Z",
     "shell.execute_reply": "2023-03-15T08:41:15.892367Z"
    }
   },
   "outputs": [
    {
     "name": "stdout",
     "output_type": "stream",
     "text": [
      "\n",
      "QuTiP: Quantum Toolbox in Python\n",
      "================================\n",
      "Copyright (c) QuTiP team 2011 and later.\n",
      "Current admin team: Alexander Pitchford, Nathan Shammah, Shahnawaz Ahmed, Neill Lambert, Eric Giguère, Boxi Li, Jake Lishman, Simon Cross and Asier Galicia.\n",
      "Board members: Daniel Burgarth, Robert Johansson, Anton F. Kockum, Franco Nori and Will Zeng.\n",
      "Original developers: R. J. Johansson & P. D. Nation.\n",
      "Previous lead developers: Chris Granade & A. Grimsmo.\n",
      "Currently developed through wide collaboration. See https://github.com/qutip for details.\n",
      "\n",
      "QuTiP Version:      5.0.0.dev0+afd160b\n",
      "Numpy Version:      1.22.4\n",
      "Scipy Version:      1.8.1\n",
      "Cython Version:     0.29.33\n",
      "Matplotlib Version: 3.5.2\n",
      "Python Version:     3.10.4\n",
      "Number of CPUs:     2\n",
      "BLAS Info:          Generic\n",
      "INTEL MKL Ext:      False\n",
      "Platform Info:      Linux (x86_64)\n",
      "Installation path:  /home/runner/work/qutip-tutorials/qutip-tutorials/qutip/qutip\n",
      "================================================================================\n",
      "Please cite QuTiP in your publication.\n",
      "================================================================================\n",
      "For your convenience a bibtex reference can be easily generated using `qutip.cite()`\n"
     ]
    }
   ],
   "source": [
    "qutip.about()"
   ]
  },
  {
   "cell_type": "markdown",
   "id": "4bd31247",
   "metadata": {},
   "source": [
    "## Testing\n",
    "\n",
    "This section can include some tests to verify that the expected outputs are generated within the notebook. We put this section at the end of the notebook, so it's not interfering with the user experience. Please, define the tests using assert, so that the cell execution fails if a wrong output is generated."
   ]
  },
  {
   "cell_type": "code",
   "execution_count": 26,
   "id": "5af29ec4",
   "metadata": {
    "execution": {
     "iopub.execute_input": "2023-03-15T08:41:15.896183Z",
     "iopub.status.busy": "2023-03-15T08:41:15.895832Z",
     "iopub.status.idle": "2023-03-15T08:41:15.899751Z",
     "shell.execute_reply": "2023-03-15T08:41:15.899105Z"
    }
   },
   "outputs": [],
   "source": [
    "assert np.allclose(P11_matsT, P11_pade, rtol=1e-3)\n",
    "assert np.allclose(P11_matsT, P11_fit, rtol=1e-3)"
   ]
  }
 ],
 "metadata": {
  "jupytext": {
   "formats": "ipynb,md:myst"
  },
  "kernelspec": {
   "display_name": "Python 3 (ipykernel)",
   "language": "python",
   "name": "python3"
  },
  "language_info": {
   "codemirror_mode": {
    "name": "ipython",
    "version": 3
   },
   "file_extension": ".py",
   "mimetype": "text/x-python",
   "name": "python",
   "nbconvert_exporter": "python",
   "pygments_lexer": "ipython3",
   "version": "3.10.4"
  }
 },
 "nbformat": 4,
 "nbformat_minor": 5
}
