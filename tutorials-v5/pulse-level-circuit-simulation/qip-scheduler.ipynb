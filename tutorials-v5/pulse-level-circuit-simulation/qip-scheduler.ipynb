{
 "cells": [
  {
   "cell_type": "markdown",
   "id": "bb8ed7ce",
   "metadata": {},
   "source": [
    "# Scheduler for quantum gates and instructions\n",
    "\n",
    "Author: Boxi Li (etamin1201@gmail.com)\n",
    "\n",
    "The finite coherence time of physical qubits is one of the major factors that limits the performance of quantum computation. In principle, the execution time of the circuit has to be much shorter than the coherence time. One way to reduce this execution time is to run several gates in the circuit parallelly. This can spare a lot of time if e.g. the same single-qubit gate is applied to all qubits, as in the [Grover algorithm](https://en.wikipedia.org/wiki/Grover%27s_algorithm).\n",
    "\n",
    "A scheduler for a quantum computer, similar to its classical counterpart, schedules a quantum circuit to minimize the execution time. It determines the order in which the gates are executed. As a simple rule, the scheduler allows gates to be executed in parallel if they do not address the same qubits. Further hardware constraints can be included, but here we only focus on this simple criterion by considering gates that do not address the same qubits. The non-trivial part of a scheduler is that it has to consider the possible permutations of commuting quantum gates. Hence, exploring various possibilities for permutation while following physical constraints of the hardware is the main challenging task for the scheduler.\n",
    "\n",
    "We first show how we can schedule gate execution in quantum circuits using the built-in tools in `qutip_qip` and then the scheduling of compiled control pulses. In the end, we also show a simple example where the permutation of commuting gates matters in the scheduling and how to handle such situations."
   ]
  },
  {
   "cell_type": "code",
   "execution_count": 1,
   "id": "e0f3cb90",
   "metadata": {
    "execution": {
     "iopub.execute_input": "2023-03-15T08:16:46.918982Z",
     "iopub.status.busy": "2023-03-15T08:16:46.918749Z",
     "iopub.status.idle": "2023-03-15T08:16:48.582834Z",
     "shell.execute_reply": "2023-03-15T08:16:48.582153Z"
    }
   },
   "outputs": [],
   "source": [
    "# imports\n",
    "from qutip import about\n",
    "from qutip_qip.circuit import QubitCircuit\n",
    "from qutip_qip.compiler import Instruction, Scheduler\n",
    "from qutip_qip.device import LinearSpinChain"
   ]
  },
  {
   "cell_type": "markdown",
   "id": "b6a3a3c0",
   "metadata": {},
   "source": [
    "## Gate schedule\n",
    "Let's first define a quantum circuit"
   ]
  },
  {
   "cell_type": "code",
   "execution_count": 2,
   "id": "50c8f439",
   "metadata": {
    "execution": {
     "iopub.execute_input": "2023-03-15T08:16:48.586298Z",
     "iopub.status.busy": "2023-03-15T08:16:48.585695Z",
     "iopub.status.idle": "2023-03-15T08:16:48.837090Z",
     "shell.execute_reply": "2023-03-15T08:16:48.836444Z"
    }
   },
   "outputs": [
    {
     "name": "stderr",
     "output_type": "stream",
     "text": [
      "/home/runner/work/qutip-tutorials/qutip-tutorials/qutip-qip/src/qutip_qip/circuit/circuit_latex.py:95: UserWarning: Could not locate system 'pdfcrop': image output may have additional margins.\n",
      "  warnings.warn(\n"
     ]
    },
    {
     "data": {
      "image/png": "[encoded data removed]",
      "text/plain": [
       "<qutip_qip.circuit.circuit.QubitCircuit at 0x7f92c45c3ca0>"
      ]
     },
     "execution_count": 2,
     "metadata": {},
     "output_type": "execute_result"
    }
   ],
   "source": [
    "circuit = QubitCircuit(3)\n",
    "circuit.add_gate(\"X\", 0)\n",
    "circuit.add_gate(\"ISWAP\", targets=[1, 2])\n",
    "circuit.add_gate(\"X\", 2)\n",
    "circuit.add_gate(\"Y\", 0)\n",
    "circuit.add_gate(\"X\", 0)\n",
    "circuit"
   ]
  },
  {
   "cell_type": "markdown",
   "id": "7a305004",
   "metadata": {},
   "source": [
    "This is a rather boring circuit, but it is useful as a demonstration for the scheduler. We now define a scheduler and schedule the execution of gates in the circuit"
   ]
  },
  {
   "cell_type": "code",
   "execution_count": 3,
   "id": "16b8645b",
   "metadata": {
    "execution": {
     "iopub.execute_input": "2023-03-15T08:16:48.840047Z",
     "iopub.status.busy": "2023-03-15T08:16:48.839508Z",
     "iopub.status.idle": "2023-03-15T08:16:48.846117Z",
     "shell.execute_reply": "2023-03-15T08:16:48.845512Z"
    }
   },
   "outputs": [
    {
     "data": {
      "text/plain": [
       "[0, 0, 1, 1, 2]"
      ]
     },
     "execution_count": 3,
     "metadata": {},
     "output_type": "execute_result"
    }
   ],
   "source": [
    "scheduler = Scheduler(\"ASAP\")  # schedule as soon as possible\n",
    "scheduled_time = scheduler.schedule(circuit)\n",
    "scheduled_time"
   ]
  },
  {
   "cell_type": "markdown",
   "id": "eef2fed3",
   "metadata": {},
   "source": [
    "This result shows the scheduled starting time for each gate.\n",
    "In the first cycle we execute an iSWAP on qubit 0 and 1 and an X gate on qubit 0; In the second cycle we execute one X gate on qubit 2 and one Y gate on qubit 0; In the last cycle, we execute a single X gate on qubit 0. As printed bellow:"
   ]
  },
  {
   "cell_type": "code",
   "execution_count": 4,
   "id": "4d670c82",
   "metadata": {
    "execution": {
     "iopub.execute_input": "2023-03-15T08:16:48.848907Z",
     "iopub.status.busy": "2023-03-15T08:16:48.848340Z",
     "iopub.status.idle": "2023-03-15T08:16:48.852705Z",
     "shell.execute_reply": "2023-03-15T08:16:48.852081Z"
    }
   },
   "outputs": [
    {
     "name": "stdout",
     "output_type": "stream",
     "text": [
      "['X[0]', 'ISWAP[1, 2]']\n",
      "['X[2]', 'Y[0]']\n",
      "['X[0]']\n"
     ]
    }
   ],
   "source": [
    "cycle_list = [[] for i in range(max(scheduled_time) + 1)]\n",
    "\n",
    "for i, time in enumerate(scheduled_time):\n",
    "    gate = circuit.gates[i]\n",
    "    cycle_list[time].append(gate.name + str(gate.targets))\n",
    "for cycle in cycle_list:\n",
    "    print(cycle)"
   ]
  },
  {
   "cell_type": "markdown",
   "id": "0f6cbfbe",
   "metadata": {},
   "source": [
    "We can also schedule the gate follows the rule \"as late as possible\""
   ]
  },
  {
   "cell_type": "code",
   "execution_count": 5,
   "id": "891d1544",
   "metadata": {
    "execution": {
     "iopub.execute_input": "2023-03-15T08:16:48.855342Z",
     "iopub.status.busy": "2023-03-15T08:16:48.854992Z",
     "iopub.status.idle": "2023-03-15T08:16:48.860079Z",
     "shell.execute_reply": "2023-03-15T08:16:48.859581Z"
    }
   },
   "outputs": [
    {
     "name": "stdout",
     "output_type": "stream",
     "text": [
      "['X[0]']\n",
      "['ISWAP[1, 2]', 'Y[0]']\n",
      "['X[2]', 'X[0]']\n"
     ]
    }
   ],
   "source": [
    "scheduler = Scheduler(\"ALAP\")  # schedule as late as possible\n",
    "scheduled_time = scheduler.schedule(circuit)\n",
    "cycle_list = [[] for i in range(max(scheduled_time) + 1)]\n",
    "for i, time in enumerate(scheduled_time):\n",
    "    gate = circuit.gates[i]\n",
    "    cycle_list[time].append(gate.name + str(gate.targets))\n",
    "for cycle in cycle_list:\n",
    "    print(cycle)"
   ]
  },
  {
   "cell_type": "markdown",
   "id": "ff372d0f",
   "metadata": {},
   "source": [
    "The only difference is that the \"iSWAP\" gate and the X gate on qubit 2 are shifted by one cycle. "
   ]
  },
  {
   "cell_type": "markdown",
   "id": "18dd8292",
   "metadata": {},
   "source": [
    "## Instruction/Pulse schedule\n",
    "Often different quantum gates will have different execution time. To consider this, we define a list of quantum instructions, where X gate has the execution time 1 while the iSWAP gate takes the time 3.5"
   ]
  },
  {
   "cell_type": "code",
   "execution_count": 6,
   "id": "93cea261",
   "metadata": {
    "execution": {
     "iopub.execute_input": "2023-03-15T08:16:48.862810Z",
     "iopub.status.busy": "2023-03-15T08:16:48.862241Z",
     "iopub.status.idle": "2023-03-15T08:16:48.870649Z",
     "shell.execute_reply": "2023-03-15T08:16:48.870050Z"
    }
   },
   "outputs": [
    {
     "data": {
      "text/plain": [
       "[0, 0.0, 3.5, 1, 2]"
      ]
     },
     "execution_count": 6,
     "metadata": {},
     "output_type": "execute_result"
    }
   ],
   "source": [
    "scheduler = Scheduler(\"ASAP\")\n",
    "instructions = []\n",
    "\n",
    "for gate in circuit.gates:\n",
    "    if gate.name in (\"X\"):\n",
    "        duration = 1\n",
    "    elif gate.name == \"ISWAP\":\n",
    "        duration = 3.5\n",
    "    instruction = Instruction(gate, duration=duration)\n",
    "    instructions.append(instruction)\n",
    "scheduler.schedule(instructions)"
   ]
  },
  {
   "cell_type": "markdown",
   "id": "7f89a63c",
   "metadata": {},
   "source": [
    "The scheduled execution time for each gate can no longer be assigned to gate cycles. But we can see this through the [noisy circuit simulator](https://qutip.org/docs/latest/guide/qip/qip-processor.html) of qutip, where the circuit is compiled to control signals: (Notice that the execution time follows the hardware parameter of spin chain and the Y gate is decomposed into a Z-X-Z rotation)."
   ]
  },
  {
   "cell_type": "code",
   "execution_count": 7,
   "id": "cc2d0c2e",
   "metadata": {
    "execution": {
     "iopub.execute_input": "2023-03-15T08:16:48.873540Z",
     "iopub.status.busy": "2023-03-15T08:16:48.873191Z",
     "iopub.status.idle": "2023-03-15T08:16:49.337736Z",
     "shell.execute_reply": "2023-03-15T08:16:49.337066Z"
    }
   },
   "outputs": [
    {
     "data": {
      "image/png": "[encoded data removed]",
      "text/plain": [
       "<Figure size 1200x600 with 8 Axes>"
      ]
     },
     "metadata": {},
     "output_type": "display_data"
    }
   ],
   "source": [
    "device = LinearSpinChain(3)\n",
    "device.load_circuit(\n",
    "    circuit, \"ASAP\"\n",
    ")  # The circuit are compiled to instructions and scheduled.\n",
    "device.plot_pulses();"
   ]
  },
  {
   "cell_type": "markdown",
   "id": "b7bb79e5",
   "metadata": {},
   "source": [
    "The green and orange pulses represent rotations along the X and Z axis. The green pulse is the iSWAP gate, which is executed simultaneously with a few other single-qubit rotations on qubit 0."
   ]
  },
  {
   "cell_type": "markdown",
   "id": "cc0daec0",
   "metadata": {},
   "source": [
    "## Considering commuting gates\n",
    "We consider the following circuit:"
   ]
  },
  {
   "cell_type": "code",
   "execution_count": 8,
   "id": "f7cc47a4",
   "metadata": {
    "execution": {
     "iopub.execute_input": "2023-03-15T08:16:49.341087Z",
     "iopub.status.busy": "2023-03-15T08:16:49.340615Z",
     "iopub.status.idle": "2023-03-15T08:16:49.590212Z",
     "shell.execute_reply": "2023-03-15T08:16:49.589572Z"
    }
   },
   "outputs": [
    {
     "name": "stderr",
     "output_type": "stream",
     "text": [
      "/home/runner/work/qutip-tutorials/qutip-tutorials/qutip-qip/src/qutip_qip/circuit/circuit_latex.py:95: UserWarning: Could not locate system 'pdfcrop': image output may have additional margins.\n",
      "  warnings.warn(\n"
     ]
    },
    {
     "data": {
      "image/png": "[encoded data removed]",
      "text/plain": [
       "<qutip_qip.circuit.circuit.QubitCircuit at 0x7f92b7fca4d0>"
      ]
     },
     "execution_count": 8,
     "metadata": {},
     "output_type": "execute_result"
    }
   ],
   "source": [
    "circuit = QubitCircuit(3)\n",
    "circuit.add_gate(\"SNOT\", 0)\n",
    "circuit.add_gate(\"CNOT\", 1, 0)\n",
    "circuit.add_gate(\"CNOT\", 2, 0)\n",
    "circuit.add_gate(\"SNOT\", 2)\n",
    "circuit"
   ]
  },
  {
   "cell_type": "markdown",
   "id": "d6ef27d6",
   "metadata": {},
   "source": [
    "At first sight, it might look like no gates can be run in parallel. However, the two CNOT gates actually commute and if we permute them, we can run one CNOT together with the last Hadamard gate."
   ]
  },
  {
   "cell_type": "code",
   "execution_count": 9,
   "id": "92abae0d",
   "metadata": {
    "execution": {
     "iopub.execute_input": "2023-03-15T08:16:49.593361Z",
     "iopub.status.busy": "2023-03-15T08:16:49.592735Z",
     "iopub.status.idle": "2023-03-15T08:16:49.599845Z",
     "shell.execute_reply": "2023-03-15T08:16:49.599222Z"
    }
   },
   "outputs": [
    {
     "name": "stdout",
     "output_type": "stream",
     "text": [
      "['SNOT[0]']\n",
      "['CNOT[2]']\n",
      "['CNOT[1]', 'SNOT[2]']\n"
     ]
    }
   ],
   "source": [
    "scheduler = Scheduler(\"ALAP\")\n",
    "scheduled_time = scheduler.schedule(circuit)\n",
    "\n",
    "cycle_list = [[] for i in range(max(scheduled_time) + 1)]\n",
    "for i, time in enumerate(scheduled_time):\n",
    "    gate = circuit.gates[i]\n",
    "    cycle_list[time].append(gate.name + str(gate.targets))\n",
    "for cycle in cycle_list:\n",
    "    print(cycle)"
   ]
  },
  {
   "cell_type": "markdown",
   "id": "bbbcc89a",
   "metadata": {},
   "source": [
    "## Random shuffle\n",
    "The scheduling algorithm is heuristic and hence cannot always find the optimal result. Therefore randomness can be added to the scheduling process by the parameters `random_shuffle` and `repeat_num`."
   ]
  },
  {
   "cell_type": "code",
   "execution_count": 10,
   "id": "ffc170d7",
   "metadata": {
    "execution": {
     "iopub.execute_input": "2023-03-15T08:16:49.602512Z",
     "iopub.status.busy": "2023-03-15T08:16:49.602062Z",
     "iopub.status.idle": "2023-03-15T08:16:49.607385Z",
     "shell.execute_reply": "2023-03-15T08:16:49.606325Z"
    }
   },
   "outputs": [
    {
     "name": "stdout",
     "output_type": "stream",
     "text": [
      "\n",
      "QuTiP: Quantum Toolbox in Python\n",
      "================================\n",
      "Copyright (c) QuTiP team 2011 and later.\n",
      "Current admin team: Alexander Pitchford, Nathan Shammah, Shahnawaz Ahmed, Neill Lambert, Eric Giguère, Boxi Li, Jake Lishman, Simon Cross and Asier Galicia.\n",
      "Board members: Daniel Burgarth, Robert Johansson, Anton F. Kockum, Franco Nori and Will Zeng.\n",
      "Original developers: R. J. Johansson & P. D. Nation.\n",
      "Previous lead developers: Chris Granade & A. Grimsmo.\n",
      "Currently developed through wide collaboration. See https://github.com/qutip for details.\n",
      "\n",
      "QuTiP Version:      5.0.0.dev0+afd160b\n",
      "Numpy Version:      1.22.4\n",
      "Scipy Version:      1.8.1\n",
      "Cython Version:     0.29.33\n",
      "Matplotlib Version: 3.5.2\n",
      "Python Version:     3.10.4\n",
      "Number of CPUs:     2\n",
      "BLAS Info:          Generic\n",
      "INTEL MKL Ext:      False\n",
      "Platform Info:      Linux (x86_64)\n",
      "Installation path:  /home/runner/work/qutip-tutorials/qutip-tutorials/qutip/qutip\n",
      "================================================================================\n",
      "Please cite QuTiP in your publication.\n",
      "================================================================================\n",
      "For your convenience a bibtex reference can be easily generated using `qutip.cite()`\n"
     ]
    }
   ],
   "source": [
    "about()"
   ]
  }
 ],
 "metadata": {
  "jupytext": {
   "cell_metadata_filter": "-all",
   "notebook_metadata_filter": "-jupytext.cell_metadata_filter,-jupytext.notebook_metadata_filter"
  },
  "kernelspec": {
   "display_name": "Python 3 (ipykernel)",
   "language": "python",
   "name": "python3"
  },
  "language_info": {
   "codemirror_mode": {
    "name": "ipython",
    "version": 3
   },
   "file_extension": ".py",
   "mimetype": "text/x-python",
   "name": "python",
   "nbconvert_exporter": "python",
   "pygments_lexer": "ipython3",
   "version": "3.10.4"
  }
 },
 "nbformat": 4,
 "nbformat_minor": 5
}
